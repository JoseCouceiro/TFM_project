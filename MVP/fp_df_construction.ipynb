{
 "cells": [
  {
   "cell_type": "markdown",
   "metadata": {},
   "source": [
    "## Building a dataframe of fingerprints"
   ]
  },
  {
   "cell_type": "markdown",
   "metadata": {},
   "source": [
    "This notebook will create a dataframe containing several types of fingerprints for 6935 molecules contained in a dataframe obtained from this research work: Meyer, J.G., Liu, S., Miller, I.J., Coon, J.J., Gitter, A., 2019. Learning Drug Functions from Chemical Structures with Convolutional Neural Networks and Random Forests. J. Chem. Inf. Model. 59, 4438–4449. https://doi.org/10.1021/acs.jcim.9b00236\n"
   ]
  },
  {
   "cell_type": "markdown",
   "metadata": {},
   "source": [
    "#### In case the requirements.txt won't work"
   ]
  },
  {
   "cell_type": "code",
   "execution_count": 2,
   "metadata": {},
   "outputs": [],
   "source": [
    "# pip install rdkit-pypi"
   ]
  },
  {
   "cell_type": "code",
   "execution_count": 3,
   "metadata": {},
   "outputs": [],
   "source": [
    "# pip install PubChemPy"
   ]
  },
  {
   "cell_type": "markdown",
   "metadata": {},
   "source": [
    "### Imports and loads"
   ]
  },
  {
   "cell_type": "code",
   "execution_count": 4,
   "metadata": {},
   "outputs": [],
   "source": [
    "import os\n",
    "import pandas as pd\n",
    "import numpy as np\n",
    "from sklearn import preprocessing\n",
    "from rdkit.Chem import AllChem, MACCSkeys,rdMolDescriptors\n",
    "from rdkit.Avalon import pyAvalonTools\n",
    "from rdkit.Chem import PandasTools as pt\n",
    "import pubchempy as pcp"
   ]
  },
  {
   "cell_type": "code",
   "execution_count": 5,
   "metadata": {},
   "outputs": [],
   "source": [
    "# I recommend set this warning off, all operations are map functions to whole columns, so I understand there shoudn't be problems\n",
    "pd.options.mode.chained_assignment = None"
   ]
  },
  {
   "cell_type": "code",
   "execution_count": 22,
   "metadata": {},
   "outputs": [],
   "source": [
    "drugs = pd.read_csv(os.path.join('res','raw_data','CID_properties_nr.csv'))"
   ]
  },
  {
   "cell_type": "markdown",
   "metadata": {},
   "source": [
    "### Functions"
   ]
  },
  {
   "cell_type": "markdown",
   "metadata": {},
   "source": [
    "A series of functions below will obtain fingerprints from the RDKit Molecules or their CID (using Pubchempy)"
   ]
  },
  {
   "cell_type": "code",
   "execution_count": 8,
   "metadata": {},
   "outputs": [],
   "source": [
    "def compute_connectivity_invariants(mol):\n",
    "    \"\"\"Function that obtains the connectivity invariants of a molecule\n",
    "    Input: RDKit molecule\n",
    "    Output: Numpy array\n",
    "    \"\"\"\n",
    "    try:\n",
    "        con_inv_fp = rdMolDescriptors.GetConnectivityInvariants(mol)\n",
    "    except:\n",
    "        print('Something went wrong computing Connectivity Invariants')\n",
    "        return None\n",
    "    return np.array(con_inv_fp)"
   ]
  },
  {
   "cell_type": "code",
   "execution_count": 9,
   "metadata": {},
   "outputs": [],
   "source": [
    "def compute_feature_invariants(mol):\n",
    "    \"\"\"Function that obtains the feature invariants of a molecule\n",
    "    Input: RDKit molecule\n",
    "    Output: Numpy array\n",
    "    \"\"\"\n",
    "    try:\n",
    "        inv_fp = rdMolDescriptors.GetFeatureInvariants(mol)\n",
    "    except:\n",
    "        print('Something went wrong computing Feature Invariants')\n",
    "        return None\n",
    "    return np.array(inv_fp)"
   ]
  },
  {
   "cell_type": "code",
   "execution_count": 10,
   "metadata": {},
   "outputs": [],
   "source": [
    "def compute_morgan_fp(mol, depth=2, nBits=2048):\n",
    "    \"\"\"Function that obtains the Morgan fingerprints of a molecule\n",
    "    Input: RDKit molecule\n",
    "    Output: Numpy array\n",
    "    \"\"\"\n",
    "    try:\n",
    "        mor_fp = AllChem.GetMorganFingerprintAsBitVect(mol,depth,nBits)\n",
    "    except:\n",
    "        print('Something went wrong computing Morgan fingerprints')\n",
    "        return None\n",
    "    return np.array(mor_fp)"
   ]
  },
  {
   "cell_type": "code",
   "execution_count": 11,
   "metadata": {},
   "outputs": [],
   "source": [
    "def compute_maccskeys(mol):\n",
    "    \"\"\"Function that obtains the MACCSKeys of a molecule\n",
    "    Input: RDKit molecule\n",
    "    Output: Numpy array\n",
    "    \"\"\"\n",
    "    try:\n",
    "        mkeys = MACCSkeys.GenMACCSKeys(mol)   \n",
    "    except:\n",
    "        print('Something went wrong computing MACCSKeys')\n",
    "        return None\n",
    "    return np.array(mkeys)"
   ]
  },
  {
   "cell_type": "code",
   "execution_count": 12,
   "metadata": {},
   "outputs": [],
   "source": [
    "def compute_atom_pair_fp(mol, nBits=2048):\n",
    "    \"\"\"Function that obtains the atom pair Fingerprints of a molecule\n",
    "    Input: RDKit molecule\n",
    "    Output: Numpy array\n",
    "    \"\"\"\n",
    "    try:\n",
    "        atom_pair_fp = rdMolDescriptors.GetHashedAtomPairFingerprintAsBitVect(mol, nBits)\n",
    "    except:\n",
    "        print('Something went wrong computing Atom Pair fingerprints')\n",
    "        return None\n",
    "    return np.array(atom_pair_fp)"
   ]
  },
  {
   "cell_type": "code",
   "execution_count": 13,
   "metadata": {},
   "outputs": [],
   "source": [
    "def compute_topological_torsion_fp(mol, nBits=2048):\n",
    "    \"\"\"Function that obtains the topological torsion fingerprints of a molecule\n",
    "    Input: RDKit molecule\n",
    "    Output: Numpy array\n",
    "    \"\"\"\n",
    "    try:\n",
    "        tt_fp = rdMolDescriptors.GetHashedTopologicalTorsionFingerprintAsBitVect(mol)\n",
    "    except:\n",
    "        print('Something went wrong computing Topological Torsion fingerprints')\n",
    "        return None\n",
    "    return np.array(tt_fp)\n",
    "    "
   ]
  },
  {
   "cell_type": "code",
   "execution_count": 14,
   "metadata": {},
   "outputs": [],
   "source": [
    "def compute_avalon_fp(mol, nBits=2048):\n",
    "    \"\"\"Function that obtains the Avalon fingerprints of a molecule\n",
    "    Input: RDKit molecule\n",
    "    Output: Numpy array\n",
    "    \"\"\"\n",
    "    try:\n",
    "        av_fp = pyAvalonTools.GetAvalonFP(mol, nBits)\n",
    "    except:\n",
    "        print('Something went wrong computing Avalon fingerprints')\n",
    "        return None\n",
    "    return np.array(av_fp)"
   ]
  },
  {
   "cell_type": "code",
   "execution_count": 15,
   "metadata": {},
   "outputs": [],
   "source": [
    "def compute_rdkit_fp(mol, maxPath=5, fpSize=2048):\n",
    "    \"\"\"Function that obtains the RDKit fingerprints of a molecule\n",
    "    Input: RDKit molecule\n",
    "    Output: Numpy array\n",
    "    \"\"\"\n",
    "    try:\n",
    "        rdkit_fp = AllChem.RDKFingerprint(mol, maxPath, fpSize)\n",
    "    except:\n",
    "        print('Something went wrong computing RDKit fingerprints')\n",
    "        return None\n",
    "    return np.array(rdkit_fp)"
   ]
  },
  {
   "cell_type": "code",
   "execution_count": 16,
   "metadata": {},
   "outputs": [],
   "source": [
    "def compute_pubchem_fingerprints(cid):\n",
    "    \"\"\"Function that obtains the PubChem fingerprints of a molecule\n",
    "    Input: RDKit molecule\n",
    "    Output: molecules's CID\n",
    "    \"\"\"\n",
    "    try:\n",
    "        comp = pcp.Compound.from_cid(int(cid))\n",
    "        fp_bin = bin(int(comp.fingerprint, 16))[2:]   \n",
    "    except:\n",
    "        print('Something went wrong computing Pubchem fingerprints')\n",
    "        return None\n",
    "    return np.array(list(fp_bin)).astype('int')"
   ]
  },
  {
   "cell_type": "code",
   "execution_count": 18,
   "metadata": {},
   "outputs": [],
   "source": [
    "def compute_cactvs_fingerprints(cid):\n",
    "    \"\"\"Function that obtains the Cactvs fingerprints of a molecule\n",
    "    Input: RDKit molecule\n",
    "    Output: molecule's CID\n",
    "    \"\"\"\n",
    "    try:\n",
    "        comp = pcp.Compound.from_cid(int(cid))\n",
    "        cactvs_fp_bin = bin(int(comp.fingerprint, 16))[2:]\n",
    "    except:\n",
    "        print('Something went wrong computing Cactvs fingerprints')\n",
    "        return None\n",
    "    return np.array(list(cactvs_fp_bin)).astype('int')"
   ]
  },
  {
   "cell_type": "markdown",
   "metadata": {},
   "source": [
    "### Build a dataframe of fingerprints"
   ]
  },
  {
   "cell_type": "markdown",
   "metadata": {},
   "source": [
    "Add a column with the RDKit Molecule to the Dataframe"
   ]
  },
  {
   "cell_type": "code",
   "execution_count": 25,
   "metadata": {},
   "outputs": [
    {
     "name": "stderr",
     "output_type": "stream",
     "text": [
      "[11:43:12] WARNING: not removing hydrogen atom without neighbors\n"
     ]
    }
   ],
   "source": [
    "pt.AddMoleculeColumnToFrame(frame=drugs,smilesCol='IsomericSMILES', molCol='Molecule')"
   ]
  },
  {
   "cell_type": "markdown",
   "metadata": {},
   "source": [
    "Select columns of interest"
   ]
  },
  {
   "cell_type": "code",
   "execution_count": 26,
   "metadata": {},
   "outputs": [],
   "source": [
    "drug_ids = drugs[['CID','Molecule','drug_class']]"
   ]
  },
  {
   "cell_type": "markdown",
   "metadata": {},
   "source": [
    "Encode de drug_class column, the codified column will be our label"
   ]
  },
  {
   "cell_type": "code",
   "execution_count": 27,
   "metadata": {},
   "outputs": [
    {
     "data": {
      "text/html": [
       "<div>\n",
       "<style scoped>\n",
       "    .dataframe tbody tr th:only-of-type {\n",
       "        vertical-align: middle;\n",
       "    }\n",
       "\n",
       "    .dataframe tbody tr th {\n",
       "        vertical-align: top;\n",
       "    }\n",
       "\n",
       "    .dataframe thead th {\n",
       "        text-align: right;\n",
       "    }\n",
       "</style>\n",
       "<table border=\"1\" class=\"dataframe\">\n",
       "  <thead>\n",
       "    <tr style=\"text-align: right;\">\n",
       "      <th></th>\n",
       "      <th>CID</th>\n",
       "      <th>Molecule</th>\n",
       "      <th>drug_class</th>\n",
       "      <th>drug_class_code</th>\n",
       "    </tr>\n",
       "  </thead>\n",
       "  <tbody>\n",
       "    <tr>\n",
       "      <th>0</th>\n",
       "      <td>24769</td>\n",
       "      <td>&lt;rdkit.Chem.rdchem.Mol object at 0x00000262DC7...</td>\n",
       "      <td>hematologic</td>\n",
       "      <td>7</td>\n",
       "    </tr>\n",
       "    <tr>\n",
       "      <th>1</th>\n",
       "      <td>134694070</td>\n",
       "      <td>&lt;rdkit.Chem.rdchem.Mol object at 0x00000262DC7...</td>\n",
       "      <td>cardio</td>\n",
       "      <td>3</td>\n",
       "    </tr>\n",
       "    <tr>\n",
       "      <th>2</th>\n",
       "      <td>5121</td>\n",
       "      <td>&lt;rdkit.Chem.rdchem.Mol object at 0x00000262DC6...</td>\n",
       "      <td>antiinfective</td>\n",
       "      <td>0</td>\n",
       "    </tr>\n",
       "    <tr>\n",
       "      <th>3</th>\n",
       "      <td>4660557</td>\n",
       "      <td>&lt;rdkit.Chem.rdchem.Mol object at 0x00000262DC6...</td>\n",
       "      <td>cns</td>\n",
       "      <td>4</td>\n",
       "    </tr>\n",
       "    <tr>\n",
       "      <th>4</th>\n",
       "      <td>122175</td>\n",
       "      <td>&lt;rdkit.Chem.rdchem.Mol object at 0x00000262DC6...</td>\n",
       "      <td>antineoplastic</td>\n",
       "      <td>2</td>\n",
       "    </tr>\n",
       "  </tbody>\n",
       "</table>\n",
       "</div>"
      ],
      "text/plain": [
       "         CID                                           Molecule  \\\n",
       "0      24769  <rdkit.Chem.rdchem.Mol object at 0x00000262DC7...   \n",
       "1  134694070  <rdkit.Chem.rdchem.Mol object at 0x00000262DC7...   \n",
       "2       5121  <rdkit.Chem.rdchem.Mol object at 0x00000262DC6...   \n",
       "3    4660557  <rdkit.Chem.rdchem.Mol object at 0x00000262DC6...   \n",
       "4     122175  <rdkit.Chem.rdchem.Mol object at 0x00000262DC6...   \n",
       "\n",
       "       drug_class  drug_class_code  \n",
       "0     hematologic                7  \n",
       "1          cardio                3  \n",
       "2   antiinfective                0  \n",
       "3             cns                4  \n",
       "4  antineoplastic                2  "
      ]
     },
     "execution_count": 27,
     "metadata": {},
     "output_type": "execute_result"
    }
   ],
   "source": [
    "le = preprocessing.LabelEncoder()\n",
    "le = le.fit(drug_ids['drug_class'])\n",
    "drug_ids['drug_class_code'] = le.transform(drug_ids['drug_class'])\n",
    "drug_ids.head()"
   ]
  },
  {
   "cell_type": "markdown",
   "metadata": {},
   "source": [
    "#### Using the functions described above to add columns containing the fingerprints"
   ]
  },
  {
   "cell_type": "code",
   "execution_count": 28,
   "metadata": {},
   "outputs": [],
   "source": [
    "drug_ids['FeatInvariants'] = drug_ids['Molecule'].map(compute_feature_invariants)\n",
    "drug_ids['ConnInvariants'] = drug_ids['Molecule'].map(compute_connectivity_invariants)\n",
    "drug_ids['Morgan2FP'] = drug_ids['Molecule'].map(compute_morgan_fp)\n",
    "drug_ids['MACCSKeys'] = drug_ids['Molecule'].map(compute_maccskeys)\n",
    "drug_ids['AtomPairFP'] = drug_ids['Molecule'].map(compute_atom_pair_fp)\n",
    "drug_ids['TopTorFP'] = drug_ids['Molecule'].map(compute_topological_torsion_fp)\n",
    "drug_ids['AvalonFP'] = drug_ids['Molecule'].map(compute_avalon_fp)"
   ]
  },
  {
   "cell_type": "code",
   "execution_count": null,
   "metadata": {
    "scrolled": true
   },
   "outputs": [
    {
     "name": "stdout",
     "output_type": "stream",
     "text": [
      "Something went wrong computing Pubchem fingerprints\n"
     ]
    }
   ],
   "source": [
    "# This mappings might take very long\n",
    "drug_ids['PubchemFP']= drug_ids['CID'].map(compute_pubchem_fingerprints) #This takes over 1 hour in my computer\n",
    "drug_ids['CactvsFP']= drug_ids['CID'].map(compute_cactvs_fingerprints) #This takes over 1 hour in my computer\n",
    "drug_ids['RDKitFP']= drug_ids['Molecule'].map(compute_rdkit_fp) #This takes so long that crashes my computer, but I coudn't find a way around"
   ]
  },
  {
   "cell_type": "markdown",
   "metadata": {},
   "source": [
    "### Saving the dataframe"
   ]
  },
  {
   "cell_type": "code",
   "execution_count": 30,
   "metadata": {},
   "outputs": [],
   "source": [
    "drug_ids.to_pickle(os.path.join('res','pickles','drug_fp.pkl'))"
   ]
  },
  {
   "cell_type": "code",
   "execution_count": null,
   "metadata": {},
   "outputs": [],
   "source": []
  }
 ],
 "metadata": {
  "kernelspec": {
   "display_name": "Python 3 (ipykernel)",
   "language": "python",
   "name": "python3"
  },
  "language_info": {
   "codemirror_mode": {
    "name": "ipython",
    "version": 3
   },
   "file_extension": ".py",
   "mimetype": "text/x-python",
   "name": "python",
   "nbconvert_exporter": "python",
   "pygments_lexer": "ipython3",
   "version": "3.9.13"
  }
 },
 "nbformat": 4,
 "nbformat_minor": 2
}
