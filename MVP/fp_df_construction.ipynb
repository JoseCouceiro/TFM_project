{
 "cells": [
  {
   "attachments": {},
   "cell_type": "markdown",
   "metadata": {},
   "source": [
    "## Building a dataframe of fingerprints"
   ]
  },
  {
   "attachments": {},
   "cell_type": "markdown",
   "metadata": {},
   "source": [
    "This notebook will create a dataframe containing several types of fingerprints for 6935 molecules contained in a dataframe obtained from this research work: Meyer, J.G., Liu, S., Miller, I.J., Coon, J.J., Gitter, A., 2019. Learning Drug Functions from Chemical Structures with Convolutional Neural Networks and Random Forests. J. Chem. Inf. Model. 59, 4438–4449. https://doi.org/10.1021/acs.jcim.9b00236\n"
   ]
  },
  {
   "attachments": {},
   "cell_type": "markdown",
   "metadata": {},
   "source": [
    "#### In case the requirements.txt won't work"
   ]
  },
  {
   "cell_type": "code",
   "execution_count": 1,
   "metadata": {},
   "outputs": [],
   "source": [
    "# pip install rdkit-pypi"
   ]
  },
  {
   "cell_type": "code",
   "execution_count": 2,
   "metadata": {},
   "outputs": [],
   "source": [
    "# pip install PubChemPy"
   ]
  },
  {
   "attachments": {},
   "cell_type": "markdown",
   "metadata": {},
   "source": [
    "### Imports and loads"
   ]
  },
  {
   "cell_type": "code",
   "execution_count": 3,
   "metadata": {},
   "outputs": [],
   "source": [
    "import os\n",
    "import pandas as pd\n",
    "import numpy as np\n",
    "from sklearn import preprocessing\n",
    "from rdkit.Chem import AllChem, MACCSkeys,rdMolDescriptors\n",
    "from rdkit.Avalon import pyAvalonTools\n",
    "from rdkit.Chem import PandasTools as pt\n",
    "import pubchempy as pcp"
   ]
  },
  {
   "cell_type": "code",
   "execution_count": 4,
   "metadata": {},
   "outputs": [],
   "source": [
    "# I recommend set this warning off, all operations are map functions to whole columns, so I understand there shoudn't be problems\n",
    "pd.options.mode.chained_assignment = None"
   ]
  },
  {
   "cell_type": "code",
   "execution_count": 5,
   "metadata": {},
   "outputs": [],
   "source": [
    "dataset = 'pubchem'\n",
    "drugs = pd.read_csv(os.path.join('dataframes','pubchem','f{dataset}_dataset_label_clean.csv'))"
   ]
  },
  {
   "cell_type": "code",
   "execution_count": 6,
   "metadata": {},
   "outputs": [
    {
     "data": {
      "text/plain": [
       "array(['B', 'L', 'H', 'J', 'A', 'V', 'G', 'D', 'N', 'S', 'M', 'C', 'R',\n",
       "       'P'], dtype=object)"
      ]
     },
     "execution_count": 6,
     "metadata": {},
     "output_type": "execute_result"
    }
   ],
   "source": [
    "drugs['ATC_Code'].unique()"
   ]
  },
  {
   "cell_type": "code",
   "execution_count": 7,
   "metadata": {},
   "outputs": [
    {
     "data": {
      "text/html": [
       "<div>\n",
       "<style scoped>\n",
       "    .dataframe tbody tr th:only-of-type {\n",
       "        vertical-align: middle;\n",
       "    }\n",
       "\n",
       "    .dataframe tbody tr th {\n",
       "        vertical-align: top;\n",
       "    }\n",
       "\n",
       "    .dataframe thead th {\n",
       "        text-align: right;\n",
       "    }\n",
       "</style>\n",
       "<table border=\"1\" class=\"dataframe\">\n",
       "  <thead>\n",
       "    <tr style=\"text-align: right;\">\n",
       "      <th></th>\n",
       "      <th>CID</th>\n",
       "      <th>HBondAcceptorCount</th>\n",
       "      <th>HBondDonorCount</th>\n",
       "      <th>MolecularWeight</th>\n",
       "      <th>LogP</th>\n",
       "      <th>RuleFive</th>\n",
       "      <th>IsomericSMILES</th>\n",
       "      <th>ATC_Code</th>\n",
       "    </tr>\n",
       "  </thead>\n",
       "  <tbody>\n",
       "    <tr>\n",
       "      <th>0</th>\n",
       "      <td>101041682</td>\n",
       "      <td>37.0</td>\n",
       "      <td>28.0</td>\n",
       "      <td>2180.2853</td>\n",
       "      <td>-0.76</td>\n",
       "      <td>0</td>\n",
       "      <td>CC[C@H](C)[C@H](NC(=O)[C@H](CCC(O)=O)NC(=O)[C@...</td>\n",
       "      <td>B</td>\n",
       "    </tr>\n",
       "    <tr>\n",
       "      <th>1</th>\n",
       "      <td>657181</td>\n",
       "      <td>16.0</td>\n",
       "      <td>16.0</td>\n",
       "      <td>1209.3983</td>\n",
       "      <td>1.04</td>\n",
       "      <td>0</td>\n",
       "      <td>CCNC(=O)[C@@H]1CCCN1C(=O)[C@H](CCCNC(N)=N)NC(=...</td>\n",
       "      <td>L</td>\n",
       "    </tr>\n",
       "    <tr>\n",
       "      <th>2</th>\n",
       "      <td>5311128</td>\n",
       "      <td>18.0</td>\n",
       "      <td>17.0</td>\n",
       "      <td>1269.4105</td>\n",
       "      <td>0.30</td>\n",
       "      <td>0</td>\n",
       "      <td>CC(C)C[C@H](NC(=O)[C@@H](COC(C)(C)C)NC(=O)[C@H...</td>\n",
       "      <td>L</td>\n",
       "    </tr>\n",
       "    <tr>\n",
       "      <th>3</th>\n",
       "      <td>5311065</td>\n",
       "      <td>15.0</td>\n",
       "      <td>14.0</td>\n",
       "      <td>1069.2200</td>\n",
       "      <td>-1.00</td>\n",
       "      <td>0</td>\n",
       "      <td>NC(=O)CC[C@@H]1NC(=O)[C@H](CC2=CC=CC=C2)NC(=O)...</td>\n",
       "      <td>H</td>\n",
       "    </tr>\n",
       "    <tr>\n",
       "      <th>4</th>\n",
       "      <td>25074887</td>\n",
       "      <td>18.0</td>\n",
       "      <td>17.0</td>\n",
       "      <td>1431.0380</td>\n",
       "      <td>1.33</td>\n",
       "      <td>0</td>\n",
       "      <td>CC(C)C[C@H](NC(=O)[C@@H](CCCNC(N)=O)NC(=O)[C@H...</td>\n",
       "      <td>H</td>\n",
       "    </tr>\n",
       "  </tbody>\n",
       "</table>\n",
       "</div>"
      ],
      "text/plain": [
       "         CID  HBondAcceptorCount  HBondDonorCount  MolecularWeight  LogP   \n",
       "0  101041682                37.0             28.0        2180.2853 -0.76  \\\n",
       "1     657181                16.0             16.0        1209.3983  1.04   \n",
       "2    5311128                18.0             17.0        1269.4105  0.30   \n",
       "3    5311065                15.0             14.0        1069.2200 -1.00   \n",
       "4   25074887                18.0             17.0        1431.0380  1.33   \n",
       "\n",
       "   RuleFive                                     IsomericSMILES ATC_Code  \n",
       "0         0  CC[C@H](C)[C@H](NC(=O)[C@H](CCC(O)=O)NC(=O)[C@...        B  \n",
       "1         0  CCNC(=O)[C@@H]1CCCN1C(=O)[C@H](CCCNC(N)=N)NC(=...        L  \n",
       "2         0  CC(C)C[C@H](NC(=O)[C@@H](COC(C)(C)C)NC(=O)[C@H...        L  \n",
       "3         0  NC(=O)CC[C@@H]1NC(=O)[C@H](CC2=CC=CC=C2)NC(=O)...        H  \n",
       "4         0  CC(C)C[C@H](NC(=O)[C@@H](CCCNC(N)=O)NC(=O)[C@H...        H  "
      ]
     },
     "execution_count": 7,
     "metadata": {},
     "output_type": "execute_result"
    }
   ],
   "source": [
    "drugs.head()"
   ]
  },
  {
   "attachments": {},
   "cell_type": "markdown",
   "metadata": {},
   "source": [
    "### Functions"
   ]
  },
  {
   "attachments": {},
   "cell_type": "markdown",
   "metadata": {},
   "source": [
    "A series of functions below will obtain fingerprints from the RDKit Molecules or their CID (using Pubchempy)"
   ]
  },
  {
   "cell_type": "code",
   "execution_count": 8,
   "metadata": {},
   "outputs": [],
   "source": [
    "def compute_connectivity_invariants(mol):\n",
    "    \"\"\"Function that obtains the connectivity invariants of a molecule\n",
    "    Input: RDKit molecule\n",
    "    Output: Numpy array\n",
    "    \"\"\"\n",
    "    try:\n",
    "        con_inv_fp = rdMolDescriptors.GetConnectivityInvariants(mol)\n",
    "    except:\n",
    "        print('Something went wrong computing Connectivity Invariants')\n",
    "        return None\n",
    "    return np.array(con_inv_fp)"
   ]
  },
  {
   "cell_type": "code",
   "execution_count": 9,
   "metadata": {},
   "outputs": [],
   "source": [
    "def compute_feature_invariants(mol):\n",
    "    \"\"\"Function that obtains the feature invariants of a molecule\n",
    "    Input: RDKit molecule\n",
    "    Output: Numpy array\n",
    "    \"\"\"\n",
    "    try:\n",
    "        inv_fp = rdMolDescriptors.GetFeatureInvariants(mol)\n",
    "    except:\n",
    "        print('Something went wrong computing Feature Invariants')\n",
    "        return None\n",
    "    return np.array(inv_fp)"
   ]
  },
  {
   "cell_type": "code",
   "execution_count": 10,
   "metadata": {},
   "outputs": [],
   "source": [
    "def compute_morgan_fp(mol, depth=2, nBits=2048):\n",
    "    \"\"\"Function that obtains the Morgan fingerprints of a molecule\n",
    "    Input: RDKit molecule\n",
    "    Output: Numpy array\n",
    "    \"\"\"\n",
    "    try:\n",
    "        mor_fp = AllChem.GetMorganFingerprintAsBitVect(mol,depth,nBits)\n",
    "    except:\n",
    "        print('Something went wrong computing Morgan fingerprints')\n",
    "        return None\n",
    "    return np.array(mor_fp)"
   ]
  },
  {
   "cell_type": "code",
   "execution_count": 11,
   "metadata": {},
   "outputs": [],
   "source": [
    "def compute_maccskeys(mol):\n",
    "    \"\"\"Function that obtains the MACCSKeys of a molecule\n",
    "    Input: RDKit molecule\n",
    "    Output: Numpy array\n",
    "    \"\"\"\n",
    "    try:\n",
    "        mkeys = MACCSkeys.GenMACCSKeys(mol)   \n",
    "    except:\n",
    "        print('Something went wrong computing MACCSKeys')\n",
    "        return None\n",
    "    return np.array(mkeys)"
   ]
  },
  {
   "cell_type": "code",
   "execution_count": 12,
   "metadata": {},
   "outputs": [],
   "source": [
    "def compute_atom_pair_fp(mol, nBits=2048):\n",
    "    \"\"\"Function that obtains the atom pair Fingerprints of a molecule\n",
    "    Input: RDKit molecule\n",
    "    Output: Numpy array\n",
    "    \"\"\"\n",
    "    try:\n",
    "        atom_pair_fp = rdMolDescriptors.GetHashedAtomPairFingerprintAsBitVect(mol, nBits)\n",
    "    except:\n",
    "        print('Something went wrong computing Atom Pair fingerprints')\n",
    "        return None\n",
    "    return np.array(atom_pair_fp)"
   ]
  },
  {
   "cell_type": "code",
   "execution_count": 13,
   "metadata": {},
   "outputs": [],
   "source": [
    "def compute_topological_torsion_fp(mol, nBits=2048):\n",
    "    \"\"\"Function that obtains the topological torsion fingerprints of a molecule\n",
    "    Input: RDKit molecule\n",
    "    Output: Numpy array\n",
    "    \"\"\"\n",
    "    try:\n",
    "        tt_fp = rdMolDescriptors.GetHashedTopologicalTorsionFingerprintAsBitVect(mol)\n",
    "    except:\n",
    "        print('Something went wrong computing Topological Torsion fingerprints')\n",
    "        return None\n",
    "    return np.array(tt_fp)\n",
    "    "
   ]
  },
  {
   "cell_type": "code",
   "execution_count": 14,
   "metadata": {},
   "outputs": [],
   "source": [
    "def compute_avalon_fp(mol, nBits=2048):\n",
    "    \"\"\"Function that obtains the Avalon fingerprints of a molecule\n",
    "    Input: RDKit molecule\n",
    "    Output: Numpy array\n",
    "    \"\"\"\n",
    "    try:\n",
    "        av_fp = pyAvalonTools.GetAvalonFP(mol, nBits)\n",
    "    except:\n",
    "        print('Something went wrong computing Avalon fingerprints')\n",
    "        return None\n",
    "    return np.array(av_fp)"
   ]
  },
  {
   "cell_type": "code",
   "execution_count": 26,
   "metadata": {},
   "outputs": [],
   "source": [
    "def compute_rdkit_fp(mol, maxPath=5, fpSize=2048):\n",
    "    \"\"\"Function that obtains the RDKit fingerprints of a molecule\n",
    "    Input: RDKit molecule\n",
    "    Output: Numpy array\n",
    "    \"\"\"\n",
    "    try:\n",
    "        rdkit_fp = AllChem.RDKFingerprint(mol, maxPath, fpSize)\n",
    "    except:\n",
    "        print('Something went wrong computing RDKit fingerprints')\n",
    "        return None\n",
    "    return np.array(rdkit_fp)"
   ]
  },
  {
   "cell_type": "code",
   "execution_count": 15,
   "metadata": {},
   "outputs": [],
   "source": [
    "def compute_pubchem_fingerprints(cid):\n",
    "    \"\"\"Function that obtains the PubChem fingerprints of a molecule\n",
    "    Input: molecules's CID\n",
    "    Output: Numpy array\n",
    "    \"\"\"\n",
    "    try:\n",
    "        comp = pcp.Compound.from_cid(int(cid))\n",
    "        fp_bin = bin(int(comp.fingerprint, 16))[2:]   \n",
    "    except:\n",
    "        print('Something went wrong computing Pubchem fingerprints')\n",
    "        return None\n",
    "    return np.array(list(fp_bin)).astype('int')"
   ]
  },
  {
   "cell_type": "code",
   "execution_count": 16,
   "metadata": {},
   "outputs": [],
   "source": [
    "def compute_cactvs_fingerprints(cid):\n",
    "    \"\"\"Function that obtains the Cactvs fingerprints of a molecule\n",
    "    Input: molecule's CID\n",
    "    Output: Numpy array\n",
    "    \"\"\"\n",
    "    try:\n",
    "        comp = pcp.Compound.from_cid(int(cid))\n",
    "        cactvs_fp_bin = bin(int(comp.fingerprint, 16))[2:]\n",
    "    except:\n",
    "        print('Something went wrong computing Cactvs fingerprints')\n",
    "        return None\n",
    "    return np.array(list(cactvs_fp_bin)).astype('int')"
   ]
  },
  {
   "attachments": {},
   "cell_type": "markdown",
   "metadata": {},
   "source": [
    "### Build a dataframe of fingerprints"
   ]
  },
  {
   "attachments": {},
   "cell_type": "markdown",
   "metadata": {},
   "source": [
    "Add a column with the RDKit Molecule to the Dataframe"
   ]
  },
  {
   "cell_type": "code",
   "execution_count": 19,
   "metadata": {},
   "outputs": [
    {
     "name": "stderr",
     "output_type": "stream",
     "text": [
      "[18:07:57] Explicit valence for atom # 0 N, 4, is greater than permitted\n",
      "[18:07:57] Explicit valence for atom # 0 N, 4, is greater than permitted\n",
      "[18:07:57] Explicit valence for atom # 0 N, 4, is greater than permitted\n",
      "[18:07:57] SMILES Parse Error: syntax error while parsing: OC1=CC=CC(=C1)C-1=C2\\CCC(=N2)\\C(=C2/N\\C(\\C=C2)=C(/C2=N/C(/C=C2)=C(\\C2=CC=C\\-1N2)C1=CC(O)=CC=C1)C1=CC(O)=CC=C1)\\C1=CC(O)=CC=C1\n",
      "[18:07:57] SMILES Parse Error: Failed parsing SMILES 'OC1=CC=CC(=C1)C-1=C2\\CCC(=N2)\\C(=C2/N\\C(\\C=C2)=C(/C2=N/C(/C=C2)=C(\\C2=CC=C\\-1N2)C1=CC(O)=CC=C1)C1=CC(O)=CC=C1)\\C1=CC(O)=CC=C1' for input: 'OC1=CC=CC(=C1)C-1=C2\\CCC(=N2)\\C(=C2/N\\C(\\C=C2)=C(/C2=N/C(/C=C2)=C(\\C2=CC=C\\-1N2)C1=CC(O)=CC=C1)C1=CC(O)=CC=C1)\\C1=CC(O)=CC=C1'\n"
     ]
    },
    {
     "data": {
      "text/html": [
       "<div>\n",
       "<style scoped>\n",
       "    .dataframe tbody tr th:only-of-type {\n",
       "        vertical-align: middle;\n",
       "    }\n",
       "\n",
       "    .dataframe tbody tr th {\n",
       "        vertical-align: top;\n",
       "    }\n",
       "\n",
       "    .dataframe thead th {\n",
       "        text-align: right;\n",
       "    }\n",
       "</style>\n",
       "<table border=\"1\" class=\"dataframe\">\n",
       "  <thead>\n",
       "    <tr style=\"text-align: right;\">\n",
       "      <th></th>\n",
       "      <th>CID</th>\n",
       "      <th>HBondAcceptorCount</th>\n",
       "      <th>HBondDonorCount</th>\n",
       "      <th>MolecularWeight</th>\n",
       "      <th>LogP</th>\n",
       "      <th>RuleFive</th>\n",
       "      <th>IsomericSMILES</th>\n",
       "      <th>ATC_Code</th>\n",
       "      <th>Molecule</th>\n",
       "    </tr>\n",
       "  </thead>\n",
       "  <tbody>\n",
       "    <tr>\n",
       "      <th>0</th>\n",
       "      <td>101041682</td>\n",
       "      <td>37.0</td>\n",
       "      <td>28.0</td>\n",
       "      <td>2180.2853</td>\n",
       "      <td>-0.76</td>\n",
       "      <td>0</td>\n",
       "      <td>CC[C@H](C)[C@H](NC(=O)[C@H](CCC(O)=O)NC(=O)[C@...</td>\n",
       "      <td>B</td>\n",
       "      <td>&lt;rdkit.Chem.rdchem.Mol object at 0x00000211023...</td>\n",
       "    </tr>\n",
       "    <tr>\n",
       "      <th>1</th>\n",
       "      <td>657181</td>\n",
       "      <td>16.0</td>\n",
       "      <td>16.0</td>\n",
       "      <td>1209.3983</td>\n",
       "      <td>1.04</td>\n",
       "      <td>0</td>\n",
       "      <td>CCNC(=O)[C@@H]1CCCN1C(=O)[C@H](CCCNC(N)=N)NC(=...</td>\n",
       "      <td>L</td>\n",
       "      <td>&lt;rdkit.Chem.rdchem.Mol object at 0x00000211023...</td>\n",
       "    </tr>\n",
       "    <tr>\n",
       "      <th>2</th>\n",
       "      <td>5311128</td>\n",
       "      <td>18.0</td>\n",
       "      <td>17.0</td>\n",
       "      <td>1269.4105</td>\n",
       "      <td>0.30</td>\n",
       "      <td>0</td>\n",
       "      <td>CC(C)C[C@H](NC(=O)[C@@H](COC(C)(C)C)NC(=O)[C@H...</td>\n",
       "      <td>L</td>\n",
       "      <td>&lt;rdkit.Chem.rdchem.Mol object at 0x00000211023...</td>\n",
       "    </tr>\n",
       "    <tr>\n",
       "      <th>3</th>\n",
       "      <td>5311065</td>\n",
       "      <td>15.0</td>\n",
       "      <td>14.0</td>\n",
       "      <td>1069.2200</td>\n",
       "      <td>-1.00</td>\n",
       "      <td>0</td>\n",
       "      <td>NC(=O)CC[C@@H]1NC(=O)[C@H](CC2=CC=CC=C2)NC(=O)...</td>\n",
       "      <td>H</td>\n",
       "      <td>&lt;rdkit.Chem.rdchem.Mol object at 0x00000211023...</td>\n",
       "    </tr>\n",
       "    <tr>\n",
       "      <th>4</th>\n",
       "      <td>25074887</td>\n",
       "      <td>18.0</td>\n",
       "      <td>17.0</td>\n",
       "      <td>1431.0380</td>\n",
       "      <td>1.33</td>\n",
       "      <td>0</td>\n",
       "      <td>CC(C)C[C@H](NC(=O)[C@@H](CCCNC(N)=O)NC(=O)[C@H...</td>\n",
       "      <td>H</td>\n",
       "      <td>&lt;rdkit.Chem.rdchem.Mol object at 0x00000211023...</td>\n",
       "    </tr>\n",
       "  </tbody>\n",
       "</table>\n",
       "</div>"
      ],
      "text/plain": [
       "         CID  HBondAcceptorCount  HBondDonorCount  MolecularWeight  LogP   \n",
       "0  101041682                37.0             28.0        2180.2853 -0.76  \\\n",
       "1     657181                16.0             16.0        1209.3983  1.04   \n",
       "2    5311128                18.0             17.0        1269.4105  0.30   \n",
       "3    5311065                15.0             14.0        1069.2200 -1.00   \n",
       "4   25074887                18.0             17.0        1431.0380  1.33   \n",
       "\n",
       "   RuleFive                                     IsomericSMILES ATC_Code   \n",
       "0         0  CC[C@H](C)[C@H](NC(=O)[C@H](CCC(O)=O)NC(=O)[C@...        B  \\\n",
       "1         0  CCNC(=O)[C@@H]1CCCN1C(=O)[C@H](CCCNC(N)=N)NC(=...        L   \n",
       "2         0  CC(C)C[C@H](NC(=O)[C@@H](COC(C)(C)C)NC(=O)[C@H...        L   \n",
       "3         0  NC(=O)CC[C@@H]1NC(=O)[C@H](CC2=CC=CC=C2)NC(=O)...        H   \n",
       "4         0  CC(C)C[C@H](NC(=O)[C@@H](CCCNC(N)=O)NC(=O)[C@H...        H   \n",
       "\n",
       "                                            Molecule  \n",
       "0  <rdkit.Chem.rdchem.Mol object at 0x00000211023...  \n",
       "1  <rdkit.Chem.rdchem.Mol object at 0x00000211023...  \n",
       "2  <rdkit.Chem.rdchem.Mol object at 0x00000211023...  \n",
       "3  <rdkit.Chem.rdchem.Mol object at 0x00000211023...  \n",
       "4  <rdkit.Chem.rdchem.Mol object at 0x00000211023...  "
      ]
     },
     "execution_count": 19,
     "metadata": {},
     "output_type": "execute_result"
    }
   ],
   "source": [
    "pt.AddMoleculeColumnToFrame(frame=drugs, smilesCol='IsomericSMILES', molCol='Molecule')\n",
    "drugs.head()"
   ]
  },
  {
   "attachments": {},
   "cell_type": "markdown",
   "metadata": {},
   "source": [
    "Select columns of interest"
   ]
  },
  {
   "cell_type": "code",
   "execution_count": 20,
   "metadata": {},
   "outputs": [
    {
     "data": {
      "text/html": [
       "<div>\n",
       "<style scoped>\n",
       "    .dataframe tbody tr th:only-of-type {\n",
       "        vertical-align: middle;\n",
       "    }\n",
       "\n",
       "    .dataframe tbody tr th {\n",
       "        vertical-align: top;\n",
       "    }\n",
       "\n",
       "    .dataframe thead th {\n",
       "        text-align: right;\n",
       "    }\n",
       "</style>\n",
       "<table border=\"1\" class=\"dataframe\">\n",
       "  <thead>\n",
       "    <tr style=\"text-align: right;\">\n",
       "      <th></th>\n",
       "      <th>CID</th>\n",
       "      <th>ATC_Code</th>\n",
       "      <th>Molecule</th>\n",
       "    </tr>\n",
       "  </thead>\n",
       "  <tbody>\n",
       "    <tr>\n",
       "      <th>1821</th>\n",
       "      <td>5284587</td>\n",
       "      <td>H</td>\n",
       "      <td>&lt;rdkit.Chem.rdchem.Mol object at 0x0000021102C...</td>\n",
       "    </tr>\n",
       "    <tr>\n",
       "      <th>2736</th>\n",
       "      <td>71961</td>\n",
       "      <td>J</td>\n",
       "      <td>&lt;rdkit.Chem.rdchem.Mol object at 0x0000021102C...</td>\n",
       "    </tr>\n",
       "    <tr>\n",
       "      <th>656</th>\n",
       "      <td>5755</td>\n",
       "      <td>D</td>\n",
       "      <td>&lt;rdkit.Chem.rdchem.Mol object at 0x0000021102C...</td>\n",
       "    </tr>\n",
       "    <tr>\n",
       "      <th>2185</th>\n",
       "      <td>2292</td>\n",
       "      <td>C</td>\n",
       "      <td>&lt;rdkit.Chem.rdchem.Mol object at 0x0000021102C...</td>\n",
       "    </tr>\n",
       "    <tr>\n",
       "      <th>1139</th>\n",
       "      <td>10836</td>\n",
       "      <td>N</td>\n",
       "      <td>&lt;rdkit.Chem.rdchem.Mol object at 0x0000021102C...</td>\n",
       "    </tr>\n",
       "  </tbody>\n",
       "</table>\n",
       "</div>"
      ],
      "text/plain": [
       "          CID ATC_Code                                           Molecule\n",
       "1821  5284587        H  <rdkit.Chem.rdchem.Mol object at 0x0000021102C...\n",
       "2736    71961        J  <rdkit.Chem.rdchem.Mol object at 0x0000021102C...\n",
       "656      5755        D  <rdkit.Chem.rdchem.Mol object at 0x0000021102C...\n",
       "2185     2292        C  <rdkit.Chem.rdchem.Mol object at 0x0000021102C...\n",
       "1139    10836        N  <rdkit.Chem.rdchem.Mol object at 0x0000021102C..."
      ]
     },
     "metadata": {},
     "output_type": "display_data"
    }
   ],
   "source": [
    "drug_ids = drugs[['CID','ATC_Code', 'Molecule']]\n",
    "display(drug_ids.sample(5))"
   ]
  },
  {
   "attachments": {},
   "cell_type": "markdown",
   "metadata": {},
   "source": [
    "Encode de drug_class column, the codified column will be our label"
   ]
  },
  {
   "cell_type": "code",
   "execution_count": 22,
   "metadata": {},
   "outputs": [
    {
     "data": {
      "text/html": [
       "<div>\n",
       "<style scoped>\n",
       "    .dataframe tbody tr th:only-of-type {\n",
       "        vertical-align: middle;\n",
       "    }\n",
       "\n",
       "    .dataframe tbody tr th {\n",
       "        vertical-align: top;\n",
       "    }\n",
       "\n",
       "    .dataframe thead th {\n",
       "        text-align: right;\n",
       "    }\n",
       "</style>\n",
       "<table border=\"1\" class=\"dataframe\">\n",
       "  <thead>\n",
       "    <tr style=\"text-align: right;\">\n",
       "      <th></th>\n",
       "      <th>CID</th>\n",
       "      <th>ATC_Code</th>\n",
       "      <th>Molecule</th>\n",
       "      <th>ATC_Code_#</th>\n",
       "    </tr>\n",
       "  </thead>\n",
       "  <tbody>\n",
       "    <tr>\n",
       "      <th>0</th>\n",
       "      <td>101041682</td>\n",
       "      <td>B</td>\n",
       "      <td>&lt;rdkit.Chem.rdchem.Mol object at 0x00000211023...</td>\n",
       "      <td>1</td>\n",
       "    </tr>\n",
       "    <tr>\n",
       "      <th>1</th>\n",
       "      <td>657181</td>\n",
       "      <td>L</td>\n",
       "      <td>&lt;rdkit.Chem.rdchem.Mol object at 0x00000211023...</td>\n",
       "      <td>7</td>\n",
       "    </tr>\n",
       "    <tr>\n",
       "      <th>2</th>\n",
       "      <td>5311128</td>\n",
       "      <td>L</td>\n",
       "      <td>&lt;rdkit.Chem.rdchem.Mol object at 0x00000211023...</td>\n",
       "      <td>7</td>\n",
       "    </tr>\n",
       "    <tr>\n",
       "      <th>3</th>\n",
       "      <td>5311065</td>\n",
       "      <td>H</td>\n",
       "      <td>&lt;rdkit.Chem.rdchem.Mol object at 0x00000211023...</td>\n",
       "      <td>5</td>\n",
       "    </tr>\n",
       "    <tr>\n",
       "      <th>4</th>\n",
       "      <td>25074887</td>\n",
       "      <td>H</td>\n",
       "      <td>&lt;rdkit.Chem.rdchem.Mol object at 0x00000211023...</td>\n",
       "      <td>5</td>\n",
       "    </tr>\n",
       "  </tbody>\n",
       "</table>\n",
       "</div>"
      ],
      "text/plain": [
       "         CID ATC_Code                                           Molecule   \n",
       "0  101041682        B  <rdkit.Chem.rdchem.Mol object at 0x00000211023...  \\\n",
       "1     657181        L  <rdkit.Chem.rdchem.Mol object at 0x00000211023...   \n",
       "2    5311128        L  <rdkit.Chem.rdchem.Mol object at 0x00000211023...   \n",
       "3    5311065        H  <rdkit.Chem.rdchem.Mol object at 0x00000211023...   \n",
       "4   25074887        H  <rdkit.Chem.rdchem.Mol object at 0x00000211023...   \n",
       "\n",
       "   ATC_Code_#  \n",
       "0           1  \n",
       "1           7  \n",
       "2           7  \n",
       "3           5  \n",
       "4           5  "
      ]
     },
     "metadata": {},
     "output_type": "display_data"
    }
   ],
   "source": [
    "le = preprocessing.LabelEncoder()\n",
    "le = le.fit(drug_ids['ATC_Code'])\n",
    "drug_ids['ATC_Code_#'] = le.transform(drug_ids['ATC_Code'])\n",
    "display(drug_ids.head())\n"
   ]
  },
  {
   "attachments": {},
   "cell_type": "markdown",
   "metadata": {},
   "source": [
    "#### Using the functions described above to add columns containing the fingerprints"
   ]
  },
  {
   "cell_type": "code",
   "execution_count": 23,
   "metadata": {},
   "outputs": [
    {
     "name": "stdout",
     "output_type": "stream",
     "text": [
      "Something went wrong computing Feature Invariants\n",
      "Something went wrong computing Feature Invariants\n",
      "Something went wrong computing Feature Invariants\n",
      "Something went wrong computing Feature Invariants\n",
      "Something went wrong computing Connectivity Invariants\n",
      "Something went wrong computing Connectivity Invariants\n",
      "Something went wrong computing Connectivity Invariants\n",
      "Something went wrong computing Connectivity Invariants\n",
      "Something went wrong computing Morgan fingerprints\n",
      "Something went wrong computing Morgan fingerprints\n",
      "Something went wrong computing Morgan fingerprints\n",
      "Something went wrong computing Morgan fingerprints\n",
      "Something went wrong computing MACCSKeys\n",
      "Something went wrong computing MACCSKeys\n",
      "Something went wrong computing MACCSKeys\n",
      "Something went wrong computing MACCSKeys\n",
      "Something went wrong computing Atom Pair fingerprints\n",
      "Something went wrong computing Atom Pair fingerprints\n",
      "Something went wrong computing Atom Pair fingerprints\n",
      "Something went wrong computing Atom Pair fingerprints\n",
      "Something went wrong computing Topological Torsion fingerprints\n",
      "Something went wrong computing Topological Torsion fingerprints\n",
      "Something went wrong computing Topological Torsion fingerprints\n",
      "Something went wrong computing Topological Torsion fingerprints\n",
      "Something went wrong computing Avalon fingerprints\n",
      "Something went wrong computing Avalon fingerprints\n",
      "Something went wrong computing Avalon fingerprints\n",
      "Something went wrong computing Avalon fingerprints\n"
     ]
    }
   ],
   "source": [
    "drug_ids['FeatInvariants'] = drug_ids['Molecule'].map(compute_feature_invariants)\n",
    "drug_ids['ConnInvariants'] = drug_ids['Molecule'].map(compute_connectivity_invariants)\n",
    "drug_ids['Morgan2FP'] = drug_ids['Molecule'].map(compute_morgan_fp)\n",
    "drug_ids['MACCSKeys'] = drug_ids['Molecule'].map(compute_maccskeys)\n",
    "drug_ids['AtomPairFP'] = drug_ids['Molecule'].map(compute_atom_pair_fp)\n",
    "drug_ids['TopTorFP'] = drug_ids['Molecule'].map(compute_topological_torsion_fp)\n",
    "drug_ids['AvalonFP'] = drug_ids['Molecule'].map(compute_avalon_fp)"
   ]
  },
  {
   "cell_type": "code",
   "execution_count": 24,
   "metadata": {
    "scrolled": true
   },
   "outputs": [],
   "source": [
    "# This mappings might take very long\n",
    "drug_ids['PubchemFP']= drug_ids['CID'].map(compute_pubchem_fingerprints) #This takes over 1 hour in my computer\n",
    "drug_ids['CactvsFP']= drug_ids['CID'].map(compute_cactvs_fingerprints) #This takes over 1 hour in my computer\n",
    "#drug_ids['RDKitFP']= drug_ids['Molecule'].map(compute_rdkit_fp) #This takes so long that crashes my computer, but I coudn't find a way around"
   ]
  },
  {
   "cell_type": "code",
   "execution_count": null,
   "metadata": {},
   "outputs": [],
   "source": [
    "drug_ids['RDKitFP']= drug_ids['Molecule'].map(compute_rdkit_fp) #This takes so long that crashes my computer, but I coudn't find a way around"
   ]
  },
  {
   "attachments": {},
   "cell_type": "markdown",
   "metadata": {},
   "source": [
    "### Saving the dataframe"
   ]
  },
  {
   "cell_type": "code",
   "execution_count": 114,
   "metadata": {},
   "outputs": [],
   "source": [
    "drug_ids.to_pickle(os.path.join('res','pickles','f{dataset}_fp.pkl'))"
   ]
  },
  {
   "cell_type": "code",
   "execution_count": 4,
   "metadata": {},
   "outputs": [
    {
     "ename": "NameError",
     "evalue": "name 'drug_ids' is not defined",
     "output_type": "error",
     "traceback": [
      "\u001b[1;31m---------------------------------------------------------------------------\u001b[0m",
      "\u001b[1;31mNameError\u001b[0m                                 Traceback (most recent call last)",
      "Cell \u001b[1;32mIn[4], line 1\u001b[0m\n\u001b[1;32m----> 1\u001b[0m drug_ids\u001b[39m.\u001b[39msample(\u001b[39m5\u001b[39m)\n",
      "\u001b[1;31mNameError\u001b[0m: name 'drug_ids' is not defined"
     ]
    }
   ],
   "source": [
    "drug_ids.sample(5)"
   ]
  },
  {
   "cell_type": "code",
   "execution_count": 116,
   "metadata": {},
   "outputs": [
    {
     "name": "stdout",
     "output_type": "stream",
     "text": [
      "<class 'pandas.core.frame.DataFrame'>\n",
      "Int64Index: 2938 entries, 5 to 14995\n",
      "Data columns (total 13 columns):\n",
      " #   Column          Non-Null Count  Dtype  \n",
      "---  ------          --------------  -----  \n",
      " 0   Molecule        2934 non-null   object \n",
      " 1   atc_code_3      2938 non-null   object \n",
      " 2   CID             2900 non-null   float64\n",
      " 3   atc_code_#      2938 non-null   int32  \n",
      " 4   FeatInvariants  2934 non-null   object \n",
      " 5   ConnInvariants  2934 non-null   object \n",
      " 6   Morgan2FP       2934 non-null   object \n",
      " 7   MACCSKeys       2934 non-null   object \n",
      " 8   AtomPairFP      2934 non-null   object \n",
      " 9   TopTorFP        2934 non-null   object \n",
      " 10  AvalonFP        2934 non-null   object \n",
      " 11  PubchemFP       2900 non-null   object \n",
      " 12  CactvsFP        2900 non-null   object \n",
      "dtypes: float64(1), int32(1), object(11)\n",
      "memory usage: 309.9+ KB\n"
     ]
    }
   ],
   "source": [
    "drug_ids.info()"
   ]
  },
  {
   "cell_type": "code",
   "execution_count": 1,
   "metadata": {},
   "outputs": [
    {
     "ename": "NameError",
     "evalue": "name 'drug_ids' is not defined",
     "output_type": "error",
     "traceback": [
      "\u001b[1;31m---------------------------------------------------------------------------\u001b[0m",
      "\u001b[1;31mNameError\u001b[0m                                 Traceback (most recent call last)",
      "Cell \u001b[1;32mIn[1], line 1\u001b[0m\n\u001b[1;32m----> 1\u001b[0m drug_ids[\u001b[39m'\u001b[39m\u001b[39matc_code-#\u001b[39m\u001b[39m'\u001b[39m]\u001b[39m.\u001b[39munique()\n",
      "\u001b[1;31mNameError\u001b[0m: name 'drug_ids' is not defined"
     ]
    }
   ],
   "source": [
    "n = pd.read_pickle(os.path.join('res', 'pickles', 'drug'))"
   ]
  },
  {
   "cell_type": "code",
   "execution_count": null,
   "metadata": {},
   "outputs": [],
   "source": []
  }
 ],
 "metadata": {
  "kernelspec": {
   "display_name": "Python 3 (ipykernel)",
   "language": "python",
   "name": "python3"
  },
  "language_info": {
   "codemirror_mode": {
    "name": "ipython",
    "version": 3
   },
   "file_extension": ".py",
   "mimetype": "text/x-python",
   "name": "python",
   "nbconvert_exporter": "python",
   "pygments_lexer": "ipython3",
   "version": "3.11.3"
  }
 },
 "nbformat": 4,
 "nbformat_minor": 2
}
