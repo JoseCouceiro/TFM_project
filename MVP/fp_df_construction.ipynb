{
 "cells": [
  {
   "attachments": {},
   "cell_type": "markdown",
   "metadata": {},
   "source": [
    "## Building a dataframe of fingerprints"
   ]
  },
  {
   "attachments": {},
   "cell_type": "markdown",
   "metadata": {},
   "source": [
    "This notebook will create a dataframe containing several types of fingerprints for 6935 molecules contained in a dataframe obtained from this research work: Meyer, J.G., Liu, S., Miller, I.J., Coon, J.J., Gitter, A., 2019. Learning Drug Functions from Chemical Structures with Convolutional Neural Networks and Random Forests. J. Chem. Inf. Model. 59, 4438–4449. https://doi.org/10.1021/acs.jcim.9b00236\n"
   ]
  },
  {
   "attachments": {},
   "cell_type": "markdown",
   "metadata": {},
   "source": [
    "#### In case the requirements.txt won't work"
   ]
  },
  {
   "cell_type": "code",
   "execution_count": 1,
   "metadata": {},
   "outputs": [],
   "source": [
    "# pip install rdkit-pypi"
   ]
  },
  {
   "cell_type": "code",
   "execution_count": 2,
   "metadata": {},
   "outputs": [],
   "source": [
    "# pip install PubChemPy"
   ]
  },
  {
   "attachments": {},
   "cell_type": "markdown",
   "metadata": {},
   "source": [
    "### Imports and loads"
   ]
  },
  {
   "cell_type": "code",
   "execution_count": 3,
   "metadata": {},
   "outputs": [],
   "source": [
    "import os\n",
    "import pandas as pd\n",
    "import numpy as np\n",
    "from sklearn import preprocessing\n",
    "from rdkit.Chem import AllChem, MACCSkeys,rdMolDescriptors\n",
    "from rdkit.Avalon import pyAvalonTools\n",
    "from rdkit.Chem import PandasTools as pt\n",
    "import pubchempy as pcp"
   ]
  },
  {
   "cell_type": "code",
   "execution_count": 4,
   "metadata": {},
   "outputs": [],
   "source": [
    "# I recommend set this warning off, all operations are map functions to whole columns, so I understand there shoudn't be problems\n",
    "pd.options.mode.chained_assignment = None"
   ]
  },
  {
   "cell_type": "code",
   "execution_count": 35,
   "metadata": {},
   "outputs": [],
   "source": [
    "dataset = 'all_label_drugs'\n",
    "drugs = pd.read_csv(os.path.join('dataframes','pubchem',f'{dataset}.csv'))"
   ]
  },
  {
   "cell_type": "code",
   "execution_count": 11,
   "metadata": {},
   "outputs": [
    {
     "data": {
      "text/html": [
       "<div>\n",
       "<style scoped>\n",
       "    .dataframe tbody tr th:only-of-type {\n",
       "        vertical-align: middle;\n",
       "    }\n",
       "\n",
       "    .dataframe tbody tr th {\n",
       "        vertical-align: top;\n",
       "    }\n",
       "\n",
       "    .dataframe thead th {\n",
       "        text-align: right;\n",
       "    }\n",
       "</style>\n",
       "<table border=\"1\" class=\"dataframe\">\n",
       "  <thead>\n",
       "    <tr style=\"text-align: right;\">\n",
       "      <th></th>\n",
       "      <th>CID</th>\n",
       "      <th>HBondAcceptorCount</th>\n",
       "      <th>HBondDonorCount</th>\n",
       "      <th>MolecularWeight</th>\n",
       "      <th>LogP</th>\n",
       "      <th>RuleFive</th>\n",
       "      <th>IsomericSMILES</th>\n",
       "      <th>ATC_Code_Short</th>\n",
       "      <th>ATC_Code_Explanation</th>\n",
       "    </tr>\n",
       "  </thead>\n",
       "  <tbody>\n",
       "    <tr>\n",
       "      <th>0</th>\n",
       "      <td>1</td>\n",
       "      <td>4.0</td>\n",
       "      <td>0.0</td>\n",
       "      <td>203.24</td>\n",
       "      <td>0.40</td>\n",
       "      <td>1.0</td>\n",
       "      <td>CC(=O)OC(CC(=O)[O-])C[N+](C)(C)C</td>\n",
       "      <td>N</td>\n",
       "      <td>NERVOUS SYSTEM</td>\n",
       "    </tr>\n",
       "    <tr>\n",
       "      <th>1</th>\n",
       "      <td>119</td>\n",
       "      <td>3.0</td>\n",
       "      <td>2.0</td>\n",
       "      <td>103.12</td>\n",
       "      <td>-3.17</td>\n",
       "      <td>1.0</td>\n",
       "      <td>C(CC(=O)O)CN</td>\n",
       "      <td>N</td>\n",
       "      <td>NERVOUS SYSTEM</td>\n",
       "    </tr>\n",
       "    <tr>\n",
       "      <th>2</th>\n",
       "      <td>137</td>\n",
       "      <td>4.0</td>\n",
       "      <td>2.0</td>\n",
       "      <td>131.13</td>\n",
       "      <td>-1.50</td>\n",
       "      <td>1.0</td>\n",
       "      <td>C(CC(=O)O)C(=O)CN</td>\n",
       "      <td>L</td>\n",
       "      <td>ANTINEOPLASTIC AND IMMUNOMODULATING AGENTS</td>\n",
       "    </tr>\n",
       "    <tr>\n",
       "      <th>3</th>\n",
       "      <td>176</td>\n",
       "      <td>2.0</td>\n",
       "      <td>1.0</td>\n",
       "      <td>60.05</td>\n",
       "      <td>-0.17</td>\n",
       "      <td>1.0</td>\n",
       "      <td>CC(=O)O</td>\n",
       "      <td>G</td>\n",
       "      <td>GENITO URINARY SYSTEM AND SEX HORMONES</td>\n",
       "    </tr>\n",
       "    <tr>\n",
       "      <th>4</th>\n",
       "      <td>187</td>\n",
       "      <td>2.0</td>\n",
       "      <td>0.0</td>\n",
       "      <td>146.21</td>\n",
       "      <td>0.20</td>\n",
       "      <td>1.0</td>\n",
       "      <td>CC(=O)OCC[N+](C)(C)C</td>\n",
       "      <td>S</td>\n",
       "      <td>SENSORY ORGANS</td>\n",
       "    </tr>\n",
       "  </tbody>\n",
       "</table>\n",
       "</div>"
      ],
      "text/plain": [
       "   CID  HBondAcceptorCount  HBondDonorCount  MolecularWeight  LogP  RuleFive   \n",
       "0    1                 4.0              0.0           203.24  0.40       1.0  \\\n",
       "1  119                 3.0              2.0           103.12 -3.17       1.0   \n",
       "2  137                 4.0              2.0           131.13 -1.50       1.0   \n",
       "3  176                 2.0              1.0            60.05 -0.17       1.0   \n",
       "4  187                 2.0              0.0           146.21  0.20       1.0   \n",
       "\n",
       "                     IsomericSMILES ATC_Code_Short   \n",
       "0  CC(=O)OC(CC(=O)[O-])C[N+](C)(C)C              N  \\\n",
       "1                      C(CC(=O)O)CN              N   \n",
       "2                 C(CC(=O)O)C(=O)CN              L   \n",
       "3                           CC(=O)O              G   \n",
       "4              CC(=O)OCC[N+](C)(C)C              S   \n",
       "\n",
       "                         ATC_Code_Explanation  \n",
       "0                              NERVOUS SYSTEM  \n",
       "1                              NERVOUS SYSTEM  \n",
       "2  ANTINEOPLASTIC AND IMMUNOMODULATING AGENTS  \n",
       "3      GENITO URINARY SYSTEM AND SEX HORMONES  \n",
       "4                              SENSORY ORGANS  "
      ]
     },
     "metadata": {},
     "output_type": "display_data"
    },
    {
     "name": "stdout",
     "output_type": "stream",
     "text": [
      "<class 'pandas.core.frame.DataFrame'>\n",
      "RangeIndex: 10183 entries, 0 to 10182\n",
      "Data columns (total 9 columns):\n",
      " #   Column                Non-Null Count  Dtype  \n",
      "---  ------                --------------  -----  \n",
      " 0   CID                   10183 non-null  int64  \n",
      " 1   HBondAcceptorCount    10183 non-null  float64\n",
      " 2   HBondDonorCount       10183 non-null  float64\n",
      " 3   MolecularWeight       10183 non-null  float64\n",
      " 4   LogP                  7546 non-null   float64\n",
      " 5   RuleFive              10183 non-null  float64\n",
      " 6   IsomericSMILES        10183 non-null  object \n",
      " 7   ATC_Code_Short        10183 non-null  object \n",
      " 8   ATC_Code_Explanation  10183 non-null  object \n",
      "dtypes: float64(5), int64(1), object(3)\n",
      "memory usage: 716.1+ KB\n"
     ]
    }
   ],
   "source": [
    "display(drugs.head())\n",
    "drugs.info()"
   ]
  },
  {
   "cell_type": "code",
   "execution_count": 12,
   "metadata": {},
   "outputs": [
    {
     "data": {
      "text/plain": [
       "array(['N', 'L', 'G', 'S', 'P', 'A', 'V', 'D', 'R', 'J', 'B', 'C', 'H',\n",
       "       'M', 'I', 'O'], dtype=object)"
      ]
     },
     "execution_count": 12,
     "metadata": {},
     "output_type": "execute_result"
    }
   ],
   "source": [
    "drugs['ATC_Code_Short'].unique()"
   ]
  },
  {
   "attachments": {},
   "cell_type": "markdown",
   "metadata": {},
   "source": [
    "### Functions"
   ]
  },
  {
   "attachments": {},
   "cell_type": "markdown",
   "metadata": {},
   "source": [
    "A series of functions below will obtain fingerprints from the RDKit Molecules or their CID (using Pubchempy)"
   ]
  },
  {
   "cell_type": "code",
   "execution_count": 13,
   "metadata": {},
   "outputs": [],
   "source": [
    "def compute_connectivity_invariants(mol):\n",
    "    \"\"\"Function that obtains the connectivity invariants of a molecule\n",
    "    Input: RDKit molecule\n",
    "    Output: Numpy array\n",
    "    \"\"\"\n",
    "    try:\n",
    "        con_inv_fp = rdMolDescriptors.GetConnectivityInvariants(mol)\n",
    "    except:\n",
    "        print('Something went wrong computing Connectivity Invariants')\n",
    "        return None\n",
    "    return np.array(con_inv_fp)"
   ]
  },
  {
   "cell_type": "code",
   "execution_count": 14,
   "metadata": {},
   "outputs": [],
   "source": [
    "def compute_feature_invariants(mol):\n",
    "    \"\"\"Function that obtains the feature invariants of a molecule\n",
    "    Input: RDKit molecule\n",
    "    Output: Numpy array\n",
    "    \"\"\"\n",
    "    try:\n",
    "        inv_fp = rdMolDescriptors.GetFeatureInvariants(mol)\n",
    "    except:\n",
    "        print('Something went wrong computing Feature Invariants')\n",
    "        return None\n",
    "    return np.array(inv_fp)"
   ]
  },
  {
   "cell_type": "code",
   "execution_count": 15,
   "metadata": {},
   "outputs": [],
   "source": [
    "def compute_morgan_fp(mol, depth=2, nBits=2048):\n",
    "    \"\"\"Function that obtains the Morgan fingerprints of a molecule\n",
    "    Input: RDKit molecule\n",
    "    Output: Numpy array\n",
    "    \"\"\"\n",
    "    try:\n",
    "        mor_fp = AllChem.GetMorganFingerprintAsBitVect(mol,depth,nBits)\n",
    "    except:\n",
    "        print('Something went wrong computing Morgan fingerprints')\n",
    "        return None\n",
    "    return np.array(mor_fp)"
   ]
  },
  {
   "cell_type": "code",
   "execution_count": 16,
   "metadata": {},
   "outputs": [],
   "source": [
    "def compute_maccskeys(mol):\n",
    "    \"\"\"Function that obtains the MACCSKeys of a molecule\n",
    "    Input: RDKit molecule\n",
    "    Output: Numpy array\n",
    "    \"\"\"\n",
    "    try:\n",
    "        mkeys = MACCSkeys.GenMACCSKeys(mol)   \n",
    "    except:\n",
    "        print('Something went wrong computing MACCSKeys')\n",
    "        return None\n",
    "    return np.array(mkeys)"
   ]
  },
  {
   "cell_type": "code",
   "execution_count": 17,
   "metadata": {},
   "outputs": [],
   "source": [
    "def compute_atom_pair_fp(mol, nBits=2048):\n",
    "    \"\"\"Function that obtains the atom pair Fingerprints of a molecule\n",
    "    Input: RDKit molecule\n",
    "    Output: Numpy array\n",
    "    \"\"\"\n",
    "    try:\n",
    "        atom_pair_fp = rdMolDescriptors.GetHashedAtomPairFingerprintAsBitVect(mol, nBits)\n",
    "    except:\n",
    "        print('Something went wrong computing Atom Pair fingerprints')\n",
    "        return None\n",
    "    return np.array(atom_pair_fp)"
   ]
  },
  {
   "cell_type": "code",
   "execution_count": 18,
   "metadata": {},
   "outputs": [],
   "source": [
    "def compute_topological_torsion_fp(mol, nBits=2048):\n",
    "    \"\"\"Function that obtains the topological torsion fingerprints of a molecule\n",
    "    Input: RDKit molecule\n",
    "    Output: Numpy array\n",
    "    \"\"\"\n",
    "    try:\n",
    "        tt_fp = rdMolDescriptors.GetHashedTopologicalTorsionFingerprintAsBitVect(mol)\n",
    "    except:\n",
    "        print('Something went wrong computing Topological Torsion fingerprints')\n",
    "        return None\n",
    "    return np.array(tt_fp)\n",
    "    "
   ]
  },
  {
   "cell_type": "code",
   "execution_count": 19,
   "metadata": {},
   "outputs": [],
   "source": [
    "def compute_avalon_fp(mol, nBits=2048):\n",
    "    \"\"\"Function that obtains the Avalon fingerprints of a molecule\n",
    "    Input: RDKit molecule\n",
    "    Output: Numpy array\n",
    "    \"\"\"\n",
    "    try:\n",
    "        av_fp = pyAvalonTools.GetAvalonFP(mol, nBits)\n",
    "    except:\n",
    "        print('Something went wrong computing Avalon fingerprints')\n",
    "        return None\n",
    "    return np.array(av_fp)"
   ]
  },
  {
   "cell_type": "code",
   "execution_count": 20,
   "metadata": {},
   "outputs": [],
   "source": [
    "def compute_rdkit_fp(mol, maxPath=5, fpSize=2048):\n",
    "    \"\"\"Function that obtains the RDKit fingerprints of a molecule\n",
    "    Input: RDKit molecule\n",
    "    Output: Numpy array\n",
    "    \"\"\"\n",
    "    try:\n",
    "        rdkit_fp = AllChem.RDKFingerprint(mol, maxPath, fpSize)\n",
    "    except:\n",
    "        print('Something went wrong computing RDKit fingerprints')\n",
    "        return None\n",
    "    return np.array(rdkit_fp)"
   ]
  },
  {
   "cell_type": "code",
   "execution_count": 22,
   "metadata": {},
   "outputs": [],
   "source": [
    "def compute_pubchem_fingerprints(cid):\n",
    "    \"\"\"Function that obtains the PubChem fingerprints of a molecule\n",
    "    Input: molecules's CID\n",
    "    Output: Numpy array\n",
    "    \"\"\"\n",
    "    try:\n",
    "        comp = pcp.Compound.from_cid(int(cid))\n",
    "        fp_bin = bin(int(comp.fingerprint, 16))[2:]   \n",
    "    except:\n",
    "        print('Something went wrong computing Pubchem fingerprints')\n",
    "        return None\n",
    "    return np.array(list(fp_bin)).astype('int')"
   ]
  },
  {
   "cell_type": "code",
   "execution_count": 23,
   "metadata": {},
   "outputs": [],
   "source": [
    "def compute_cactvs_fingerprints(cid):\n",
    "    \"\"\"Function that obtains the Cactvs fingerprints of a molecule\n",
    "    Input: molecule's CID\n",
    "    Output: Numpy array\n",
    "    \"\"\"\n",
    "    try:\n",
    "        comp = pcp.Compound.from_cid(int(cid))\n",
    "        cactvs_fp_bin = bin(int(comp.fingerprint, 16))[2:]\n",
    "    except:\n",
    "        print('Something went wrong computing Cactvs fingerprints')\n",
    "        return None\n",
    "    return np.array(list(cactvs_fp_bin)).astype('int')"
   ]
  },
  {
   "attachments": {},
   "cell_type": "markdown",
   "metadata": {},
   "source": [
    "### Build a dataframe of fingerprints"
   ]
  },
  {
   "attachments": {},
   "cell_type": "markdown",
   "metadata": {},
   "source": [
    "Add a column with the RDKit Molecule to the Dataframe"
   ]
  },
  {
   "cell_type": "code",
   "execution_count": 24,
   "metadata": {},
   "outputs": [
    {
     "name": "stderr",
     "output_type": "stream",
     "text": [
      "[19:51:55] WARNING: not removing hydrogen atom without neighbors\n",
      "[19:51:55] WARNING: not removing hydrogen atom without neighbors\n",
      "[19:51:55] WARNING: not removing hydrogen atom without neighbors\n",
      "[19:51:55] WARNING: not removing hydrogen atom without neighbors\n",
      "[19:51:55] WARNING: not removing hydrogen atom without neighbors\n",
      "[19:51:55] WARNING: not removing hydrogen atom without neighbors\n",
      "[19:51:55] WARNING: not removing hydrogen atom without neighbors\n",
      "[19:51:55] WARNING: not removing hydrogen atom without neighbors\n",
      "[19:51:55] WARNING: not removing hydrogen atom without neighbors\n",
      "[19:51:55] WARNING: not removing hydrogen atom without neighbors\n",
      "[19:51:55] WARNING: not removing hydrogen atom without neighbors\n",
      "[19:51:55] WARNING: not removing hydrogen atom without neighbors\n",
      "[19:51:55] WARNING: not removing hydrogen atom without neighbors\n",
      "[19:51:55] WARNING: not removing hydrogen atom without neighbors\n",
      "[19:51:55] WARNING: not removing hydrogen atom without neighbors\n",
      "[19:51:55] WARNING: not removing hydrogen atom without neighbors\n",
      "[19:51:55] WARNING: not removing hydrogen atom without neighbors\n",
      "[19:51:55] WARNING: not removing hydrogen atom without neighbors\n",
      "[19:51:55] WARNING: not removing hydrogen atom without neighbors\n",
      "[19:51:55] WARNING: not removing hydrogen atom without neighbors\n",
      "[19:51:55] WARNING: not removing hydrogen atom without neighbors\n",
      "[19:51:55] WARNING: not removing hydrogen atom without neighbors\n",
      "[19:51:55] WARNING: not removing hydrogen atom without neighbors\n",
      "[19:51:55] WARNING: not removing hydrogen atom without neighbors\n",
      "[19:51:55] WARNING: not removing hydrogen atom without neighbors\n",
      "[19:51:55] WARNING: not removing hydrogen atom without neighbors\n",
      "[19:51:55] WARNING: not removing hydrogen atom without neighbors\n",
      "[19:51:55] WARNING: not removing hydrogen atom without neighbors\n",
      "[19:51:55] WARNING: not removing hydrogen atom without neighbors\n",
      "[19:51:55] WARNING: not removing hydrogen atom without neighbors\n",
      "[19:51:55] WARNING: not removing hydrogen atom without neighbors\n",
      "[19:51:55] WARNING: not removing hydrogen atom without neighbors\n",
      "[19:51:56] WARNING: not removing hydrogen atom without neighbors\n",
      "[19:51:56] WARNING: not removing hydrogen atom without neighbors\n",
      "[19:51:56] WARNING: not removing hydrogen atom without neighbors\n",
      "[19:51:56] WARNING: not removing hydrogen atom without neighbors\n",
      "[19:51:56] WARNING: not removing hydrogen atom without neighbors\n",
      "[19:51:56] WARNING: not removing hydrogen atom without neighbors\n",
      "[19:51:56] WARNING: not removing hydrogen atom without neighbors\n",
      "[19:51:56] WARNING: not removing hydrogen atom without neighbors\n",
      "[19:51:56] WARNING: not removing hydrogen atom without neighbors\n",
      "[19:51:56] WARNING: not removing hydrogen atom without neighbors\n",
      "[19:51:56] WARNING: not removing hydrogen atom without neighbors\n",
      "[19:51:56] WARNING: not removing hydrogen atom without neighbors\n",
      "[19:51:56] WARNING: not removing hydrogen atom without neighbors\n",
      "[19:51:56] WARNING: not removing hydrogen atom without neighbors\n",
      "[19:51:56] WARNING: not removing hydrogen atom without neighbors\n",
      "[19:51:56] WARNING: not removing hydrogen atom without neighbors\n",
      "[19:51:56] WARNING: not removing hydrogen atom without neighbors\n",
      "[19:51:56] WARNING: not removing hydrogen atom without neighbors\n",
      "[19:51:56] WARNING: not removing hydrogen atom without neighbors\n",
      "[19:51:56] WARNING: not removing hydrogen atom without neighbors\n",
      "[19:51:56] WARNING: not removing hydrogen atom without neighbors\n",
      "[19:51:56] WARNING: not removing hydrogen atom without neighbors\n",
      "[19:51:56] WARNING: not removing hydrogen atom without neighbors\n",
      "[19:51:56] WARNING: not removing hydrogen atom without neighbors\n",
      "[19:51:56] WARNING: not removing hydrogen atom without neighbors\n",
      "[19:51:56] WARNING: not removing hydrogen atom without neighbors\n",
      "[19:51:56] WARNING: not removing hydrogen atom without neighbors\n",
      "[19:51:56] WARNING: not removing hydrogen atom without neighbors\n",
      "[19:51:56] WARNING: not removing hydrogen atom without neighbors\n",
      "[19:51:56] WARNING: not removing hydrogen atom without neighbors\n",
      "[19:51:56] WARNING: not removing hydrogen atom without neighbors\n",
      "[19:51:56] WARNING: not removing hydrogen atom without neighbors\n",
      "[19:51:56] WARNING: not removing hydrogen atom without neighbors\n",
      "[19:51:56] WARNING: not removing hydrogen atom without neighbors\n",
      "[19:51:56] WARNING: not removing hydrogen atom without neighbors\n"
     ]
    },
    {
     "data": {
      "text/html": [
       "<div>\n",
       "<style scoped>\n",
       "    .dataframe tbody tr th:only-of-type {\n",
       "        vertical-align: middle;\n",
       "    }\n",
       "\n",
       "    .dataframe tbody tr th {\n",
       "        vertical-align: top;\n",
       "    }\n",
       "\n",
       "    .dataframe thead th {\n",
       "        text-align: right;\n",
       "    }\n",
       "</style>\n",
       "<table border=\"1\" class=\"dataframe\">\n",
       "  <thead>\n",
       "    <tr style=\"text-align: right;\">\n",
       "      <th></th>\n",
       "      <th>CID</th>\n",
       "      <th>HBondAcceptorCount</th>\n",
       "      <th>HBondDonorCount</th>\n",
       "      <th>MolecularWeight</th>\n",
       "      <th>LogP</th>\n",
       "      <th>RuleFive</th>\n",
       "      <th>IsomericSMILES</th>\n",
       "      <th>ATC_Code_Short</th>\n",
       "      <th>ATC_Code_Explanation</th>\n",
       "      <th>Molecule</th>\n",
       "    </tr>\n",
       "  </thead>\n",
       "  <tbody>\n",
       "    <tr>\n",
       "      <th>0</th>\n",
       "      <td>1</td>\n",
       "      <td>4.0</td>\n",
       "      <td>0.0</td>\n",
       "      <td>203.24</td>\n",
       "      <td>0.40</td>\n",
       "      <td>1.0</td>\n",
       "      <td>CC(=O)OC(CC(=O)[O-])C[N+](C)(C)C</td>\n",
       "      <td>N</td>\n",
       "      <td>NERVOUS SYSTEM</td>\n",
       "      <td>&lt;rdkit.Chem.rdchem.Mol object at 0x000001C4CB4...</td>\n",
       "    </tr>\n",
       "    <tr>\n",
       "      <th>1</th>\n",
       "      <td>119</td>\n",
       "      <td>3.0</td>\n",
       "      <td>2.0</td>\n",
       "      <td>103.12</td>\n",
       "      <td>-3.17</td>\n",
       "      <td>1.0</td>\n",
       "      <td>C(CC(=O)O)CN</td>\n",
       "      <td>N</td>\n",
       "      <td>NERVOUS SYSTEM</td>\n",
       "      <td>&lt;rdkit.Chem.rdchem.Mol object at 0x000001C4CB4...</td>\n",
       "    </tr>\n",
       "    <tr>\n",
       "      <th>2</th>\n",
       "      <td>137</td>\n",
       "      <td>4.0</td>\n",
       "      <td>2.0</td>\n",
       "      <td>131.13</td>\n",
       "      <td>-1.50</td>\n",
       "      <td>1.0</td>\n",
       "      <td>C(CC(=O)O)C(=O)CN</td>\n",
       "      <td>L</td>\n",
       "      <td>ANTINEOPLASTIC AND IMMUNOMODULATING AGENTS</td>\n",
       "      <td>&lt;rdkit.Chem.rdchem.Mol object at 0x000001C4CB4...</td>\n",
       "    </tr>\n",
       "    <tr>\n",
       "      <th>3</th>\n",
       "      <td>176</td>\n",
       "      <td>2.0</td>\n",
       "      <td>1.0</td>\n",
       "      <td>60.05</td>\n",
       "      <td>-0.17</td>\n",
       "      <td>1.0</td>\n",
       "      <td>CC(=O)O</td>\n",
       "      <td>G</td>\n",
       "      <td>GENITO URINARY SYSTEM AND SEX HORMONES</td>\n",
       "      <td>&lt;rdkit.Chem.rdchem.Mol object at 0x000001C4CB4...</td>\n",
       "    </tr>\n",
       "    <tr>\n",
       "      <th>4</th>\n",
       "      <td>187</td>\n",
       "      <td>2.0</td>\n",
       "      <td>0.0</td>\n",
       "      <td>146.21</td>\n",
       "      <td>0.20</td>\n",
       "      <td>1.0</td>\n",
       "      <td>CC(=O)OCC[N+](C)(C)C</td>\n",
       "      <td>S</td>\n",
       "      <td>SENSORY ORGANS</td>\n",
       "      <td>&lt;rdkit.Chem.rdchem.Mol object at 0x000001C4CB4...</td>\n",
       "    </tr>\n",
       "  </tbody>\n",
       "</table>\n",
       "</div>"
      ],
      "text/plain": [
       "   CID  HBondAcceptorCount  HBondDonorCount  MolecularWeight  LogP  RuleFive   \n",
       "0    1                 4.0              0.0           203.24  0.40       1.0  \\\n",
       "1  119                 3.0              2.0           103.12 -3.17       1.0   \n",
       "2  137                 4.0              2.0           131.13 -1.50       1.0   \n",
       "3  176                 2.0              1.0            60.05 -0.17       1.0   \n",
       "4  187                 2.0              0.0           146.21  0.20       1.0   \n",
       "\n",
       "                     IsomericSMILES ATC_Code_Short   \n",
       "0  CC(=O)OC(CC(=O)[O-])C[N+](C)(C)C              N  \\\n",
       "1                      C(CC(=O)O)CN              N   \n",
       "2                 C(CC(=O)O)C(=O)CN              L   \n",
       "3                           CC(=O)O              G   \n",
       "4              CC(=O)OCC[N+](C)(C)C              S   \n",
       "\n",
       "                         ATC_Code_Explanation   \n",
       "0                              NERVOUS SYSTEM  \\\n",
       "1                              NERVOUS SYSTEM   \n",
       "2  ANTINEOPLASTIC AND IMMUNOMODULATING AGENTS   \n",
       "3      GENITO URINARY SYSTEM AND SEX HORMONES   \n",
       "4                              SENSORY ORGANS   \n",
       "\n",
       "                                            Molecule  \n",
       "0  <rdkit.Chem.rdchem.Mol object at 0x000001C4CB4...  \n",
       "1  <rdkit.Chem.rdchem.Mol object at 0x000001C4CB4...  \n",
       "2  <rdkit.Chem.rdchem.Mol object at 0x000001C4CB4...  \n",
       "3  <rdkit.Chem.rdchem.Mol object at 0x000001C4CB4...  \n",
       "4  <rdkit.Chem.rdchem.Mol object at 0x000001C4CB4...  "
      ]
     },
     "execution_count": 24,
     "metadata": {},
     "output_type": "execute_result"
    }
   ],
   "source": [
    "pt.AddMoleculeColumnToFrame(frame=drugs, smilesCol='IsomericSMILES', molCol='Molecule')\n",
    "drugs.head()"
   ]
  },
  {
   "attachments": {},
   "cell_type": "markdown",
   "metadata": {},
   "source": [
    "Select columns of interest"
   ]
  },
  {
   "cell_type": "code",
   "execution_count": 26,
   "metadata": {},
   "outputs": [
    {
     "data": {
      "text/html": [
       "<div>\n",
       "<style scoped>\n",
       "    .dataframe tbody tr th:only-of-type {\n",
       "        vertical-align: middle;\n",
       "    }\n",
       "\n",
       "    .dataframe tbody tr th {\n",
       "        vertical-align: top;\n",
       "    }\n",
       "\n",
       "    .dataframe thead th {\n",
       "        text-align: right;\n",
       "    }\n",
       "</style>\n",
       "<table border=\"1\" class=\"dataframe\">\n",
       "  <thead>\n",
       "    <tr style=\"text-align: right;\">\n",
       "      <th></th>\n",
       "      <th>CID</th>\n",
       "      <th>ATC_Code_Short</th>\n",
       "      <th>Molecule</th>\n",
       "    </tr>\n",
       "  </thead>\n",
       "  <tbody>\n",
       "    <tr>\n",
       "      <th>5990</th>\n",
       "      <td>6437473</td>\n",
       "      <td>D</td>\n",
       "      <td>&lt;rdkit.Chem.rdchem.Mol object at 0x000001C4CDE...</td>\n",
       "    </tr>\n",
       "    <tr>\n",
       "      <th>6271</th>\n",
       "      <td>90476194</td>\n",
       "      <td>J</td>\n",
       "      <td>&lt;rdkit.Chem.rdchem.Mol object at 0x000001C4CDE...</td>\n",
       "    </tr>\n",
       "    <tr>\n",
       "      <th>924</th>\n",
       "      <td>6300</td>\n",
       "      <td>A</td>\n",
       "      <td>&lt;rdkit.Chem.rdchem.Mol object at 0x000001C4CDE...</td>\n",
       "    </tr>\n",
       "    <tr>\n",
       "      <th>9144</th>\n",
       "      <td>5458825</td>\n",
       "      <td>L</td>\n",
       "      <td>&lt;rdkit.Chem.rdchem.Mol object at 0x000001C4DAC...</td>\n",
       "    </tr>\n",
       "    <tr>\n",
       "      <th>6848</th>\n",
       "      <td>53297392</td>\n",
       "      <td>L</td>\n",
       "      <td>&lt;rdkit.Chem.rdchem.Mol object at 0x000001C4CDE...</td>\n",
       "    </tr>\n",
       "  </tbody>\n",
       "</table>\n",
       "</div>"
      ],
      "text/plain": [
       "           CID ATC_Code_Short   \n",
       "5990   6437473              D  \\\n",
       "6271  90476194              J   \n",
       "924       6300              A   \n",
       "9144   5458825              L   \n",
       "6848  53297392              L   \n",
       "\n",
       "                                               Molecule  \n",
       "5990  <rdkit.Chem.rdchem.Mol object at 0x000001C4CDE...  \n",
       "6271  <rdkit.Chem.rdchem.Mol object at 0x000001C4CDE...  \n",
       "924   <rdkit.Chem.rdchem.Mol object at 0x000001C4CDE...  \n",
       "9144  <rdkit.Chem.rdchem.Mol object at 0x000001C4DAC...  \n",
       "6848  <rdkit.Chem.rdchem.Mol object at 0x000001C4CDE...  "
      ]
     },
     "metadata": {},
     "output_type": "display_data"
    }
   ],
   "source": [
    "drug_ids = drugs[['CID','ATC_Code_Short', 'Molecule']]\n",
    "display(drug_ids.sample(5))"
   ]
  },
  {
   "attachments": {},
   "cell_type": "markdown",
   "metadata": {},
   "source": [
    "Encode de drug_class column, the codified column will be our label"
   ]
  },
  {
   "cell_type": "code",
   "execution_count": 27,
   "metadata": {},
   "outputs": [
    {
     "data": {
      "text/html": [
       "<div>\n",
       "<style scoped>\n",
       "    .dataframe tbody tr th:only-of-type {\n",
       "        vertical-align: middle;\n",
       "    }\n",
       "\n",
       "    .dataframe tbody tr th {\n",
       "        vertical-align: top;\n",
       "    }\n",
       "\n",
       "    .dataframe thead th {\n",
       "        text-align: right;\n",
       "    }\n",
       "</style>\n",
       "<table border=\"1\" class=\"dataframe\">\n",
       "  <thead>\n",
       "    <tr style=\"text-align: right;\">\n",
       "      <th></th>\n",
       "      <th>CID</th>\n",
       "      <th>ATC_Code_Short</th>\n",
       "      <th>Molecule</th>\n",
       "      <th>ATC_Code_#</th>\n",
       "    </tr>\n",
       "  </thead>\n",
       "  <tbody>\n",
       "    <tr>\n",
       "      <th>0</th>\n",
       "      <td>1</td>\n",
       "      <td>N</td>\n",
       "      <td>&lt;rdkit.Chem.rdchem.Mol object at 0x000001C4CB4...</td>\n",
       "      <td>10</td>\n",
       "    </tr>\n",
       "    <tr>\n",
       "      <th>1</th>\n",
       "      <td>119</td>\n",
       "      <td>N</td>\n",
       "      <td>&lt;rdkit.Chem.rdchem.Mol object at 0x000001C4CB4...</td>\n",
       "      <td>10</td>\n",
       "    </tr>\n",
       "    <tr>\n",
       "      <th>2</th>\n",
       "      <td>137</td>\n",
       "      <td>L</td>\n",
       "      <td>&lt;rdkit.Chem.rdchem.Mol object at 0x000001C4CB4...</td>\n",
       "      <td>8</td>\n",
       "    </tr>\n",
       "    <tr>\n",
       "      <th>3</th>\n",
       "      <td>176</td>\n",
       "      <td>G</td>\n",
       "      <td>&lt;rdkit.Chem.rdchem.Mol object at 0x000001C4CB4...</td>\n",
       "      <td>4</td>\n",
       "    </tr>\n",
       "    <tr>\n",
       "      <th>4</th>\n",
       "      <td>187</td>\n",
       "      <td>S</td>\n",
       "      <td>&lt;rdkit.Chem.rdchem.Mol object at 0x000001C4CB4...</td>\n",
       "      <td>14</td>\n",
       "    </tr>\n",
       "  </tbody>\n",
       "</table>\n",
       "</div>"
      ],
      "text/plain": [
       "   CID ATC_Code_Short                                           Molecule   \n",
       "0    1              N  <rdkit.Chem.rdchem.Mol object at 0x000001C4CB4...  \\\n",
       "1  119              N  <rdkit.Chem.rdchem.Mol object at 0x000001C4CB4...   \n",
       "2  137              L  <rdkit.Chem.rdchem.Mol object at 0x000001C4CB4...   \n",
       "3  176              G  <rdkit.Chem.rdchem.Mol object at 0x000001C4CB4...   \n",
       "4  187              S  <rdkit.Chem.rdchem.Mol object at 0x000001C4CB4...   \n",
       "\n",
       "   ATC_Code_#  \n",
       "0          10  \n",
       "1          10  \n",
       "2           8  \n",
       "3           4  \n",
       "4          14  "
      ]
     },
     "metadata": {},
     "output_type": "display_data"
    }
   ],
   "source": [
    "le = preprocessing.LabelEncoder()\n",
    "le = le.fit(drug_ids['ATC_Code_Short'])\n",
    "drug_ids['ATC_Code_#'] = le.transform(drug_ids['ATC_Code_Short'])\n",
    "display(drug_ids.head())\n"
   ]
  },
  {
   "cell_type": "code",
   "execution_count": 29,
   "metadata": {},
   "outputs": [
    {
     "data": {
      "text/plain": [
       "16"
      ]
     },
     "execution_count": 29,
     "metadata": {},
     "output_type": "execute_result"
    }
   ],
   "source": [
    "drug_ids['ATC_Code_#'].nunique()"
   ]
  },
  {
   "attachments": {},
   "cell_type": "markdown",
   "metadata": {},
   "source": [
    "#### Using the functions described above to add columns containing the fingerprints"
   ]
  },
  {
   "cell_type": "code",
   "execution_count": 30,
   "metadata": {},
   "outputs": [],
   "source": [
    "drug_ids['FeatInvariants'] = drug_ids['Molecule'].map(compute_feature_invariants)\n",
    "drug_ids['ConnInvariants'] = drug_ids['Molecule'].map(compute_connectivity_invariants)\n",
    "drug_ids['Morgan2FP'] = drug_ids['Molecule'].map(compute_morgan_fp)\n",
    "drug_ids['MACCSKeys'] = drug_ids['Molecule'].map(compute_maccskeys)\n",
    "drug_ids['AtomPairFP'] = drug_ids['Molecule'].map(compute_atom_pair_fp)\n",
    "drug_ids['TopTorFP'] = drug_ids['Molecule'].map(compute_topological_torsion_fp)\n",
    "drug_ids['AvalonFP'] = drug_ids['Molecule'].map(compute_avalon_fp)"
   ]
  },
  {
   "cell_type": "code",
   "execution_count": 31,
   "metadata": {
    "scrolled": true
   },
   "outputs": [],
   "source": [
    "# This mappings might take very long\n",
    "drug_ids['PubchemFP']= drug_ids['CID'].map(compute_pubchem_fingerprints) #This takes over 1 hour in my computer\n",
    "drug_ids['CactvsFP']= drug_ids['CID'].map(compute_cactvs_fingerprints) #This takes over 1 hour in my computer\n",
    "#drug_ids['RDKitFP']= drug_ids['Molecule'].map(compute_rdkit_fp) #This takes so long that crashes my computer, but I coudn't find a way around"
   ]
  },
  {
   "cell_type": "code",
   "execution_count": null,
   "metadata": {},
   "outputs": [],
   "source": [
    "drug_ids['RDKitFP']= drug_ids['Molecule'].map(compute_rdkit_fp) #This takes so long that crashes my computer, but I coudn't find a way around"
   ]
  },
  {
   "attachments": {},
   "cell_type": "markdown",
   "metadata": {},
   "source": [
    "### Saving the dataframe"
   ]
  },
  {
   "cell_type": "code",
   "execution_count": 36,
   "metadata": {},
   "outputs": [],
   "source": [
    "drug_ids.to_pickle(os.path.join('res','pickles',f'{dataset}.pkl'))"
   ]
  },
  {
   "cell_type": "code",
   "execution_count": 33,
   "metadata": {},
   "outputs": [
    {
     "data": {
      "text/html": [
       "<div>\n",
       "<style scoped>\n",
       "    .dataframe tbody tr th:only-of-type {\n",
       "        vertical-align: middle;\n",
       "    }\n",
       "\n",
       "    .dataframe tbody tr th {\n",
       "        vertical-align: top;\n",
       "    }\n",
       "\n",
       "    .dataframe thead th {\n",
       "        text-align: right;\n",
       "    }\n",
       "</style>\n",
       "<table border=\"1\" class=\"dataframe\">\n",
       "  <thead>\n",
       "    <tr style=\"text-align: right;\">\n",
       "      <th></th>\n",
       "      <th>CID</th>\n",
       "      <th>ATC_Code_Short</th>\n",
       "      <th>Molecule</th>\n",
       "      <th>ATC_Code_#</th>\n",
       "      <th>FeatInvariants</th>\n",
       "      <th>ConnInvariants</th>\n",
       "      <th>Morgan2FP</th>\n",
       "      <th>MACCSKeys</th>\n",
       "      <th>AtomPairFP</th>\n",
       "      <th>TopTorFP</th>\n",
       "      <th>AvalonFP</th>\n",
       "      <th>PubchemFP</th>\n",
       "      <th>CactvsFP</th>\n",
       "    </tr>\n",
       "  </thead>\n",
       "  <tbody>\n",
       "    <tr>\n",
       "      <th>4738</th>\n",
       "      <td>21945</td>\n",
       "      <td>J</td>\n",
       "      <td>&lt;rdkit.Chem.rdchem.Mol object at 0x000001C4CDE...</td>\n",
       "      <td>7</td>\n",
       "      <td>[0, 18, 0, 18, 0, 18, 0, 18, 0, 0, 4, 4, 4, 4,...</td>\n",
       "      <td>[2968968094, 2092489639, 2968968094, 209248963...</td>\n",
       "      <td>[0, 0, 0, 0, 0, 0, 0, 0, 0, 0, 0, 0, 0, 0, 0, ...</td>\n",
       "      <td>[0, 0, 0, 0, 0, 0, 0, 0, 0, 0, 0, 0, 0, 0, 0, ...</td>\n",
       "      <td>[1, 0, 0, 0, 0, 0, 0, 0, 0, 0, 0, 0, 0, 0, 0, ...</td>\n",
       "      <td>[0, 0, 0, 0, 0, 0, 0, 0, 0, 0, 0, 0, 1, 1, 0, ...</td>\n",
       "      <td>[0, 0, 0, 0, 0, 0, 0, 1, 0, 0, 0, 0, 0, 0, 0, ...</td>\n",
       "      <td>[1, 1, 0, 1, 1, 1, 0, 0, 0, 1, 1, 1, 1, 0, 0, ...</td>\n",
       "      <td>[1, 1, 0, 1, 1, 1, 0, 0, 0, 1, 1, 1, 1, 0, 0, ...</td>\n",
       "    </tr>\n",
       "    <tr>\n",
       "      <th>7599</th>\n",
       "      <td>157917</td>\n",
       "      <td>C</td>\n",
       "      <td>&lt;rdkit.Chem.rdchem.Mol object at 0x000001C4CDE...</td>\n",
       "      <td>2</td>\n",
       "      <td>[0, 0, 0, 0, 0, 0, 19, 0, 0, 2, 2, 0, 0, 0, 0,...</td>\n",
       "      <td>[2246728737, 3217380708, 3217380708, 297603378...</td>\n",
       "      <td>[0, 1, 0, 0, 0, 0, 0, 0, 0, 0, 0, 0, 0, 0, 0, ...</td>\n",
       "      <td>[0, 0, 0, 0, 0, 0, 0, 0, 0, 0, 0, 0, 0, 0, 0, ...</td>\n",
       "      <td>[1, 1, 1, 1, 1, 1, 1, 0, 0, 0, 0, 0, 0, 0, 0, ...</td>\n",
       "      <td>[0, 0, 0, 0, 0, 0, 0, 0, 0, 0, 0, 0, 1, 1, 1, ...</td>\n",
       "      <td>[0, 0, 0, 0, 1, 0, 1, 0, 0, 0, 0, 0, 0, 0, 0, ...</td>\n",
       "      <td>[1, 1, 0, 1, 1, 1, 0, 0, 0, 1, 1, 1, 1, 1, 0, ...</td>\n",
       "      <td>[1, 1, 0, 1, 1, 1, 0, 0, 0, 1, 1, 1, 1, 1, 0, ...</td>\n",
       "    </tr>\n",
       "    <tr>\n",
       "      <th>6976</th>\n",
       "      <td>122130735</td>\n",
       "      <td>J</td>\n",
       "      <td>&lt;rdkit.Chem.rdchem.Mol object at 0x000001C4CDE...</td>\n",
       "      <td>7</td>\n",
       "      <td>[0, 0, 0, 0, 0, 0, 0, 2, 0, 0, 0, 0, 0, 0, 2, ...</td>\n",
       "      <td>[2246728737, 2245384272, 2976033787, 297681616...</td>\n",
       "      <td>[0, 0, 0, 0, 0, 0, 0, 0, 0, 0, 0, 0, 0, 0, 0, ...</td>\n",
       "      <td>[0, 0, 0, 0, 0, 0, 0, 0, 0, 0, 0, 0, 0, 0, 0, ...</td>\n",
       "      <td>[1, 1, 1, 0, 1, 1, 1, 1, 1, 1, 0, 0, 1, 1, 0, ...</td>\n",
       "      <td>[0, 0, 0, 0, 0, 0, 0, 0, 0, 0, 0, 0, 0, 0, 0, ...</td>\n",
       "      <td>[0, 0, 0, 0, 1, 0, 0, 0, 0, 0, 0, 0, 0, 0, 0, ...</td>\n",
       "      <td>[1, 1, 0, 1, 1, 1, 0, 0, 0, 1, 1, 1, 1, 1, 0, ...</td>\n",
       "      <td>[1, 1, 0, 1, 1, 1, 0, 0, 0, 1, 1, 1, 1, 1, 0, ...</td>\n",
       "    </tr>\n",
       "    <tr>\n",
       "      <th>7920</th>\n",
       "      <td>45356880</td>\n",
       "      <td>C</td>\n",
       "      <td>&lt;rdkit.Chem.rdchem.Mol object at 0x000001C4CDE...</td>\n",
       "      <td>2</td>\n",
       "      <td>[0, 0, 0, 0, 0, 0, 2, 2, 0, 0, 0, 0, 0, 0, 0, ...</td>\n",
       "      <td>[2246728737, 2976033787, 2976033787, 297603378...</td>\n",
       "      <td>[0, 0, 0, 0, 0, 0, 0, 0, 0, 0, 0, 0, 0, 0, 0, ...</td>\n",
       "      <td>[0, 0, 0, 0, 0, 0, 0, 0, 0, 0, 0, 0, 0, 0, 0, ...</td>\n",
       "      <td>[1, 1, 1, 0, 1, 1, 1, 0, 1, 0, 0, 0, 1, 1, 1, ...</td>\n",
       "      <td>[0, 0, 0, 0, 0, 0, 0, 0, 0, 0, 0, 0, 0, 0, 0, ...</td>\n",
       "      <td>[0, 0, 0, 0, 1, 0, 0, 0, 0, 0, 0, 0, 0, 0, 0, ...</td>\n",
       "      <td>[1, 1, 0, 1, 1, 1, 0, 0, 0, 1, 1, 1, 1, 1, 0, ...</td>\n",
       "      <td>[1, 1, 0, 1, 1, 1, 0, 0, 0, 1, 1, 1, 1, 1, 0, ...</td>\n",
       "    </tr>\n",
       "    <tr>\n",
       "      <th>1621</th>\n",
       "      <td>65526</td>\n",
       "      <td>B</td>\n",
       "      <td>&lt;rdkit.Chem.rdchem.Mol object at 0x000001C4CDE...</td>\n",
       "      <td>1</td>\n",
       "      <td>[4, 4, 4, 4, 4, 4, 0, 19, 32, 2, 1]</td>\n",
       "      <td>[3218693969, 3218693969, 3217380708, 321869396...</td>\n",
       "      <td>[0, 0, 0, 0, 0, 0, 0, 0, 0, 0, 0, 0, 0, 0, 0, ...</td>\n",
       "      <td>[0, 0, 0, 0, 0, 0, 0, 0, 0, 0, 0, 0, 0, 0, 0, ...</td>\n",
       "      <td>[0, 0, 0, 0, 0, 0, 0, 0, 0, 0, 0, 0, 0, 0, 0, ...</td>\n",
       "      <td>[0, 0, 0, 0, 0, 0, 0, 0, 0, 0, 0, 0, 0, 0, 0, ...</td>\n",
       "      <td>[0, 0, 0, 0, 0, 0, 0, 0, 0, 0, 0, 0, 0, 0, 0, ...</td>\n",
       "      <td>[1, 1, 0, 1, 1, 1, 0, 0, 0, 1, 1, 1, 0, 0, 0, ...</td>\n",
       "      <td>[1, 1, 0, 1, 1, 1, 0, 0, 0, 1, 1, 1, 0, 0, 0, ...</td>\n",
       "    </tr>\n",
       "  </tbody>\n",
       "</table>\n",
       "</div>"
      ],
      "text/plain": [
       "            CID ATC_Code_Short   \n",
       "4738      21945              J  \\\n",
       "7599     157917              C   \n",
       "6976  122130735              J   \n",
       "7920   45356880              C   \n",
       "1621      65526              B   \n",
       "\n",
       "                                               Molecule  ATC_Code_#   \n",
       "4738  <rdkit.Chem.rdchem.Mol object at 0x000001C4CDE...           7  \\\n",
       "7599  <rdkit.Chem.rdchem.Mol object at 0x000001C4CDE...           2   \n",
       "6976  <rdkit.Chem.rdchem.Mol object at 0x000001C4CDE...           7   \n",
       "7920  <rdkit.Chem.rdchem.Mol object at 0x000001C4CDE...           2   \n",
       "1621  <rdkit.Chem.rdchem.Mol object at 0x000001C4CDE...           1   \n",
       "\n",
       "                                         FeatInvariants   \n",
       "4738  [0, 18, 0, 18, 0, 18, 0, 18, 0, 0, 4, 4, 4, 4,...  \\\n",
       "7599  [0, 0, 0, 0, 0, 0, 19, 0, 0, 2, 2, 0, 0, 0, 0,...   \n",
       "6976  [0, 0, 0, 0, 0, 0, 0, 2, 0, 0, 0, 0, 0, 0, 2, ...   \n",
       "7920  [0, 0, 0, 0, 0, 0, 2, 2, 0, 0, 0, 0, 0, 0, 0, ...   \n",
       "1621                [4, 4, 4, 4, 4, 4, 0, 19, 32, 2, 1]   \n",
       "\n",
       "                                         ConnInvariants   \n",
       "4738  [2968968094, 2092489639, 2968968094, 209248963...  \\\n",
       "7599  [2246728737, 3217380708, 3217380708, 297603378...   \n",
       "6976  [2246728737, 2245384272, 2976033787, 297681616...   \n",
       "7920  [2246728737, 2976033787, 2976033787, 297603378...   \n",
       "1621  [3218693969, 3218693969, 3217380708, 321869396...   \n",
       "\n",
       "                                              Morgan2FP   \n",
       "4738  [0, 0, 0, 0, 0, 0, 0, 0, 0, 0, 0, 0, 0, 0, 0, ...  \\\n",
       "7599  [0, 1, 0, 0, 0, 0, 0, 0, 0, 0, 0, 0, 0, 0, 0, ...   \n",
       "6976  [0, 0, 0, 0, 0, 0, 0, 0, 0, 0, 0, 0, 0, 0, 0, ...   \n",
       "7920  [0, 0, 0, 0, 0, 0, 0, 0, 0, 0, 0, 0, 0, 0, 0, ...   \n",
       "1621  [0, 0, 0, 0, 0, 0, 0, 0, 0, 0, 0, 0, 0, 0, 0, ...   \n",
       "\n",
       "                                              MACCSKeys   \n",
       "4738  [0, 0, 0, 0, 0, 0, 0, 0, 0, 0, 0, 0, 0, 0, 0, ...  \\\n",
       "7599  [0, 0, 0, 0, 0, 0, 0, 0, 0, 0, 0, 0, 0, 0, 0, ...   \n",
       "6976  [0, 0, 0, 0, 0, 0, 0, 0, 0, 0, 0, 0, 0, 0, 0, ...   \n",
       "7920  [0, 0, 0, 0, 0, 0, 0, 0, 0, 0, 0, 0, 0, 0, 0, ...   \n",
       "1621  [0, 0, 0, 0, 0, 0, 0, 0, 0, 0, 0, 0, 0, 0, 0, ...   \n",
       "\n",
       "                                             AtomPairFP   \n",
       "4738  [1, 0, 0, 0, 0, 0, 0, 0, 0, 0, 0, 0, 0, 0, 0, ...  \\\n",
       "7599  [1, 1, 1, 1, 1, 1, 1, 0, 0, 0, 0, 0, 0, 0, 0, ...   \n",
       "6976  [1, 1, 1, 0, 1, 1, 1, 1, 1, 1, 0, 0, 1, 1, 0, ...   \n",
       "7920  [1, 1, 1, 0, 1, 1, 1, 0, 1, 0, 0, 0, 1, 1, 1, ...   \n",
       "1621  [0, 0, 0, 0, 0, 0, 0, 0, 0, 0, 0, 0, 0, 0, 0, ...   \n",
       "\n",
       "                                               TopTorFP   \n",
       "4738  [0, 0, 0, 0, 0, 0, 0, 0, 0, 0, 0, 0, 1, 1, 0, ...  \\\n",
       "7599  [0, 0, 0, 0, 0, 0, 0, 0, 0, 0, 0, 0, 1, 1, 1, ...   \n",
       "6976  [0, 0, 0, 0, 0, 0, 0, 0, 0, 0, 0, 0, 0, 0, 0, ...   \n",
       "7920  [0, 0, 0, 0, 0, 0, 0, 0, 0, 0, 0, 0, 0, 0, 0, ...   \n",
       "1621  [0, 0, 0, 0, 0, 0, 0, 0, 0, 0, 0, 0, 0, 0, 0, ...   \n",
       "\n",
       "                                               AvalonFP   \n",
       "4738  [0, 0, 0, 0, 0, 0, 0, 1, 0, 0, 0, 0, 0, 0, 0, ...  \\\n",
       "7599  [0, 0, 0, 0, 1, 0, 1, 0, 0, 0, 0, 0, 0, 0, 0, ...   \n",
       "6976  [0, 0, 0, 0, 1, 0, 0, 0, 0, 0, 0, 0, 0, 0, 0, ...   \n",
       "7920  [0, 0, 0, 0, 1, 0, 0, 0, 0, 0, 0, 0, 0, 0, 0, ...   \n",
       "1621  [0, 0, 0, 0, 0, 0, 0, 0, 0, 0, 0, 0, 0, 0, 0, ...   \n",
       "\n",
       "                                              PubchemFP   \n",
       "4738  [1, 1, 0, 1, 1, 1, 0, 0, 0, 1, 1, 1, 1, 0, 0, ...  \\\n",
       "7599  [1, 1, 0, 1, 1, 1, 0, 0, 0, 1, 1, 1, 1, 1, 0, ...   \n",
       "6976  [1, 1, 0, 1, 1, 1, 0, 0, 0, 1, 1, 1, 1, 1, 0, ...   \n",
       "7920  [1, 1, 0, 1, 1, 1, 0, 0, 0, 1, 1, 1, 1, 1, 0, ...   \n",
       "1621  [1, 1, 0, 1, 1, 1, 0, 0, 0, 1, 1, 1, 0, 0, 0, ...   \n",
       "\n",
       "                                               CactvsFP  \n",
       "4738  [1, 1, 0, 1, 1, 1, 0, 0, 0, 1, 1, 1, 1, 0, 0, ...  \n",
       "7599  [1, 1, 0, 1, 1, 1, 0, 0, 0, 1, 1, 1, 1, 1, 0, ...  \n",
       "6976  [1, 1, 0, 1, 1, 1, 0, 0, 0, 1, 1, 1, 1, 1, 0, ...  \n",
       "7920  [1, 1, 0, 1, 1, 1, 0, 0, 0, 1, 1, 1, 1, 1, 0, ...  \n",
       "1621  [1, 1, 0, 1, 1, 1, 0, 0, 0, 1, 1, 1, 0, 0, 0, ...  "
      ]
     },
     "execution_count": 33,
     "metadata": {},
     "output_type": "execute_result"
    }
   ],
   "source": [
    "drug_ids.sample(5)"
   ]
  },
  {
   "cell_type": "code",
   "execution_count": 116,
   "metadata": {},
   "outputs": [
    {
     "name": "stdout",
     "output_type": "stream",
     "text": [
      "<class 'pandas.core.frame.DataFrame'>\n",
      "Int64Index: 2938 entries, 5 to 14995\n",
      "Data columns (total 13 columns):\n",
      " #   Column          Non-Null Count  Dtype  \n",
      "---  ------          --------------  -----  \n",
      " 0   Molecule        2934 non-null   object \n",
      " 1   atc_code_3      2938 non-null   object \n",
      " 2   CID             2900 non-null   float64\n",
      " 3   atc_code_#      2938 non-null   int32  \n",
      " 4   FeatInvariants  2934 non-null   object \n",
      " 5   ConnInvariants  2934 non-null   object \n",
      " 6   Morgan2FP       2934 non-null   object \n",
      " 7   MACCSKeys       2934 non-null   object \n",
      " 8   AtomPairFP      2934 non-null   object \n",
      " 9   TopTorFP        2934 non-null   object \n",
      " 10  AvalonFP        2934 non-null   object \n",
      " 11  PubchemFP       2900 non-null   object \n",
      " 12  CactvsFP        2900 non-null   object \n",
      "dtypes: float64(1), int32(1), object(11)\n",
      "memory usage: 309.9+ KB\n"
     ]
    }
   ],
   "source": [
    "drug_ids.info()"
   ]
  },
  {
   "cell_type": "code",
   "execution_count": 1,
   "metadata": {},
   "outputs": [
    {
     "ename": "NameError",
     "evalue": "name 'drug_ids' is not defined",
     "output_type": "error",
     "traceback": [
      "\u001b[1;31m---------------------------------------------------------------------------\u001b[0m",
      "\u001b[1;31mNameError\u001b[0m                                 Traceback (most recent call last)",
      "Cell \u001b[1;32mIn[1], line 1\u001b[0m\n\u001b[1;32m----> 1\u001b[0m drug_ids[\u001b[39m'\u001b[39m\u001b[39matc_code-#\u001b[39m\u001b[39m'\u001b[39m]\u001b[39m.\u001b[39munique()\n",
      "\u001b[1;31mNameError\u001b[0m: name 'drug_ids' is not defined"
     ]
    }
   ],
   "source": [
    "n = pd.read_pickle(os.path.join('res', 'pickles', 'drug'))"
   ]
  },
  {
   "cell_type": "code",
   "execution_count": null,
   "metadata": {},
   "outputs": [],
   "source": []
  }
 ],
 "metadata": {
  "kernelspec": {
   "display_name": "Python 3 (ipykernel)",
   "language": "python",
   "name": "python3"
  },
  "language_info": {
   "codemirror_mode": {
    "name": "ipython",
    "version": 3
   },
   "file_extension": ".py",
   "mimetype": "text/x-python",
   "name": "python",
   "nbconvert_exporter": "python",
   "pygments_lexer": "ipython3",
   "version": "3.11.3"
  }
 },
 "nbformat": 4,
 "nbformat_minor": 2
}
