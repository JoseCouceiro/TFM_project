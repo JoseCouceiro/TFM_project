{
 "cells": [
  {
   "cell_type": "markdown",
   "metadata": {},
   "source": [
    "## Building an optimized CNN Model for Morgan fingerprints"
   ]
  },
  {
   "cell_type": "markdown",
   "metadata": {},
   "source": [
    "This Notebook will uses Keras Tuner to find the best hyperparameters for a CNN model which will label molecules according to their Morgan fingerprints"
   ]
  },
  {
   "cell_type": "markdown",
   "metadata": {},
   "source": [
    "#### In case the requirements.txt file won't work"
   ]
  },
  {
   "cell_type": "code",
   "execution_count": 1,
   "metadata": {},
   "outputs": [],
   "source": [
    "#pip install keras_tuner"
   ]
  },
  {
   "cell_type": "markdown",
   "metadata": {},
   "source": [
    "### Imports"
   ]
  },
  {
   "cell_type": "code",
   "execution_count": 14,
   "metadata": {},
   "outputs": [],
   "source": [
    "import os\n",
    "import pandas as pd\n",
    "import numpy as np\n",
    "import matplotlib.pyplot as plt\n",
    "from sklearn.model_selection import train_test_split\n",
    "from sklearn import metrics\n",
    "from numpy import unique\n",
    "from numpy import argmax\n",
    "from keras_tuner import RandomSearch\n",
    "from tensorflow import keras\n",
    "from tensorflow.keras.datasets.mnist import load_data\n",
    "from tensorflow.keras.models import Sequential, load_model\n",
    "from tensorflow.keras.layers import Dense, Conv1D, MaxPool1D, Flatten, Dropout\n",
    "from tensorflow.keras.callbacks import EarlyStopping, ModelCheckpoint\n",
    "import warnings\n",
    "warnings.filterwarnings(\"ignore\")"
   ]
  },
  {
   "cell_type": "markdown",
   "metadata": {},
   "source": [
    "### Loading data"
   ]
  },
  {
   "cell_type": "code",
   "execution_count": 15,
   "metadata": {},
   "outputs": [],
   "source": [
    "all_drugs = pd.read_pickle('morgan_and_mac.pkl')"
   ]
  },
  {
   "cell_type": "code",
   "execution_count": 16,
   "metadata": {},
   "outputs": [
    {
     "data": {
      "text/html": [
       "<div>\n",
       "<style scoped>\n",
       "    .dataframe tbody tr th:only-of-type {\n",
       "        vertical-align: middle;\n",
       "    }\n",
       "\n",
       "    .dataframe tbody tr th {\n",
       "        vertical-align: top;\n",
       "    }\n",
       "\n",
       "    .dataframe thead th {\n",
       "        text-align: right;\n",
       "    }\n",
       "</style>\n",
       "<table border=\"1\" class=\"dataframe\">\n",
       "  <thead>\n",
       "    <tr style=\"text-align: right;\">\n",
       "      <th></th>\n",
       "      <th>CID</th>\n",
       "      <th>Molecule</th>\n",
       "      <th>drug_class</th>\n",
       "      <th>drug_class_code</th>\n",
       "      <th>FeatInvariants</th>\n",
       "      <th>ConnInvariants</th>\n",
       "      <th>Morgan2FP</th>\n",
       "      <th>MACCSKeys</th>\n",
       "      <th>AtomPairFP</th>\n",
       "      <th>TopTorFP</th>\n",
       "      <th>AvalonFP</th>\n",
       "      <th>PubchemFP</th>\n",
       "      <th>CactvsFP</th>\n",
       "    </tr>\n",
       "  </thead>\n",
       "  <tbody>\n",
       "    <tr>\n",
       "      <th>0</th>\n",
       "      <td>24769</td>\n",
       "      <td>&lt;rdkit.Chem.rdchem.Mol object at 0x000002CDADD...</td>\n",
       "      <td>hematologic</td>\n",
       "      <td>7</td>\n",
       "      <td>[0, 18, 0, 0, 0, 0, 0, 0, 0, 18, 0, 0, 0, 0, 8...</td>\n",
       "      <td>[2968968094, 2976033787, 2968968094, 297603378...</td>\n",
       "      <td>[0, 0, 0, 0, 0, 0, 0, 0, 0, 0, 0, 0, 0, 0, 0, ...</td>\n",
       "      <td>[0, 0, 0, 0, 0, 0, 0, 0, 0, 0, 0, 0, 0, 0, 0, ...</td>\n",
       "      <td>[1, 1, 1, 1, 1, 0, 0, 0, 0, 0, 0, 0, 0, 0, 0, ...</td>\n",
       "      <td>[0, 0, 0, 0, 0, 0, 0, 0, 0, 0, 0, 0, 0, 0, 0, ...</td>\n",
       "      <td>[0, 0, 0, 0, 0, 0, 0, 0, 0, 0, 0, 0, 0, 0, 0, ...</td>\n",
       "      <td>[1, 1, 0, 1, 1, 1, 0, 0, 0, 1, 1, 1, 1, 0, 0, ...</td>\n",
       "      <td>[1, 1, 0, 1, 1, 1, 0, 0, 0, 1, 1, 1, 1, 0, 0, ...</td>\n",
       "    </tr>\n",
       "    <tr>\n",
       "      <th>1</th>\n",
       "      <td>134694070</td>\n",
       "      <td>&lt;rdkit.Chem.rdchem.Mol object at 0x000002CDADD...</td>\n",
       "      <td>cardio</td>\n",
       "      <td>3</td>\n",
       "      <td>[0, 0, 2, 0, 17, 17, 4, 4, 4, 6, 4, 4, 6, 4, 4...</td>\n",
       "      <td>[2968968094, 2976033787, 2968968094, 297603378...</td>\n",
       "      <td>[0, 1, 0, 0, 0, 0, 0, 0, 0, 0, 0, 0, 0, 0, 0, ...</td>\n",
       "      <td>[0, 0, 0, 0, 0, 0, 0, 0, 0, 0, 0, 0, 0, 0, 0, ...</td>\n",
       "      <td>[1, 1, 1, 1, 1, 0, 0, 0, 0, 0, 0, 0, 0, 0, 0, ...</td>\n",
       "      <td>[0, 0, 0, 0, 0, 0, 0, 0, 0, 0, 0, 0, 0, 0, 0, ...</td>\n",
       "      <td>[0, 0, 0, 0, 0, 0, 1, 0, 0, 0, 0, 0, 0, 0, 0, ...</td>\n",
       "      <td>[1, 1, 0, 1, 1, 1, 0, 0, 0, 1, 1, 1, 1, 0, 0, ...</td>\n",
       "      <td>[1, 1, 0, 1, 1, 1, 0, 0, 0, 1, 1, 1, 1, 0, 0, ...</td>\n",
       "    </tr>\n",
       "    <tr>\n",
       "      <th>2</th>\n",
       "      <td>5121</td>\n",
       "      <td>&lt;rdkit.Chem.rdchem.Mol object at 0x000002CDADD...</td>\n",
       "      <td>antiinfective</td>\n",
       "      <td>0</td>\n",
       "      <td>[0, 0, 2, 0, 2, 0, 0, 16, 4, 4, 4, 4, 4, 4, 8]</td>\n",
       "      <td>[2968968094, 2976033787, 2968968094, 297603378...</td>\n",
       "      <td>[0, 0, 0, 0, 0, 0, 0, 0, 0, 0, 0, 0, 0, 0, 0, ...</td>\n",
       "      <td>[0, 0, 0, 0, 0, 0, 0, 0, 0, 0, 0, 0, 0, 0, 0, ...</td>\n",
       "      <td>[1, 1, 1, 1, 1, 0, 0, 0, 0, 0, 0, 0, 0, 0, 0, ...</td>\n",
       "      <td>[0, 0, 0, 0, 0, 0, 0, 0, 0, 0, 0, 0, 0, 0, 0, ...</td>\n",
       "      <td>[1, 0, 0, 0, 0, 0, 0, 0, 0, 0, 0, 0, 0, 0, 1, ...</td>\n",
       "      <td>[1, 1, 0, 1, 1, 1, 0, 0, 0, 1, 1, 1, 0, 0, 0, ...</td>\n",
       "      <td>[1, 1, 0, 1, 1, 1, 0, 0, 0, 1, 1, 1, 0, 0, 0, ...</td>\n",
       "    </tr>\n",
       "    <tr>\n",
       "      <th>3</th>\n",
       "      <td>4660557</td>\n",
       "      <td>&lt;rdkit.Chem.rdchem.Mol object at 0x000002CDADD...</td>\n",
       "      <td>cns</td>\n",
       "      <td>4</td>\n",
       "      <td>[0, 0, 0, 0, 0, 0, 0, 0, 0, 0, 19, 4, 4, 4, 4,...</td>\n",
       "      <td>[2968968094, 2976033787, 2968968094, 297603378...</td>\n",
       "      <td>[0, 0, 0, 0, 0, 0, 0, 0, 0, 0, 0, 0, 0, 0, 0, ...</td>\n",
       "      <td>[0, 0, 0, 0, 0, 0, 0, 0, 0, 0, 0, 0, 0, 0, 0, ...</td>\n",
       "      <td>[1, 1, 1, 1, 1, 0, 0, 0, 0, 0, 0, 0, 0, 0, 0, ...</td>\n",
       "      <td>[0, 0, 0, 0, 0, 0, 0, 0, 0, 0, 0, 0, 0, 0, 0, ...</td>\n",
       "      <td>[0, 0, 0, 0, 1, 0, 0, 0, 0, 0, 0, 0, 0, 0, 0, ...</td>\n",
       "      <td>[1, 1, 0, 1, 1, 1, 0, 0, 0, 1, 1, 1, 1, 0, 0, ...</td>\n",
       "      <td>[1, 1, 0, 1, 1, 1, 0, 0, 0, 1, 1, 1, 1, 0, 0, ...</td>\n",
       "    </tr>\n",
       "    <tr>\n",
       "      <th>4</th>\n",
       "      <td>122175</td>\n",
       "      <td>&lt;rdkit.Chem.rdchem.Mol object at 0x000002CDADD...</td>\n",
       "      <td>antineoplastic</td>\n",
       "      <td>2</td>\n",
       "      <td>[0, 0, 0, 0, 0, 0, 0, 19, 19]</td>\n",
       "      <td>[2968968094, 2976033787, 2968968094, 297603378...</td>\n",
       "      <td>[0, 1, 0, 0, 0, 0, 0, 0, 0, 0, 0, 0, 0, 0, 0, ...</td>\n",
       "      <td>[0, 0, 0, 0, 0, 0, 0, 0, 0, 0, 0, 0, 0, 0, 0, ...</td>\n",
       "      <td>[1, 1, 1, 1, 1, 0, 0, 0, 0, 0, 0, 0, 0, 0, 0, ...</td>\n",
       "      <td>[0, 0, 0, 0, 0, 0, 0, 0, 0, 0, 0, 0, 0, 0, 0, ...</td>\n",
       "      <td>[0, 0, 0, 0, 0, 0, 0, 0, 0, 0, 0, 0, 0, 0, 0, ...</td>\n",
       "      <td>[1, 1, 0, 1, 1, 1, 0, 0, 0, 1, 1, 1, 0, 0, 0, ...</td>\n",
       "      <td>[1, 1, 0, 1, 1, 1, 0, 0, 0, 1, 1, 1, 0, 0, 0, ...</td>\n",
       "    </tr>\n",
       "  </tbody>\n",
       "</table>\n",
       "</div>"
      ],
      "text/plain": [
       "         CID                                           Molecule  \\\n",
       "0      24769  <rdkit.Chem.rdchem.Mol object at 0x000002CDADD...   \n",
       "1  134694070  <rdkit.Chem.rdchem.Mol object at 0x000002CDADD...   \n",
       "2       5121  <rdkit.Chem.rdchem.Mol object at 0x000002CDADD...   \n",
       "3    4660557  <rdkit.Chem.rdchem.Mol object at 0x000002CDADD...   \n",
       "4     122175  <rdkit.Chem.rdchem.Mol object at 0x000002CDADD...   \n",
       "\n",
       "       drug_class  drug_class_code  \\\n",
       "0     hematologic                7   \n",
       "1          cardio                3   \n",
       "2   antiinfective                0   \n",
       "3             cns                4   \n",
       "4  antineoplastic                2   \n",
       "\n",
       "                                      FeatInvariants  \\\n",
       "0  [0, 18, 0, 0, 0, 0, 0, 0, 0, 18, 0, 0, 0, 0, 8...   \n",
       "1  [0, 0, 2, 0, 17, 17, 4, 4, 4, 6, 4, 4, 6, 4, 4...   \n",
       "2     [0, 0, 2, 0, 2, 0, 0, 16, 4, 4, 4, 4, 4, 4, 8]   \n",
       "3  [0, 0, 0, 0, 0, 0, 0, 0, 0, 0, 19, 4, 4, 4, 4,...   \n",
       "4                      [0, 0, 0, 0, 0, 0, 0, 19, 19]   \n",
       "\n",
       "                                      ConnInvariants  \\\n",
       "0  [2968968094, 2976033787, 2968968094, 297603378...   \n",
       "1  [2968968094, 2976033787, 2968968094, 297603378...   \n",
       "2  [2968968094, 2976033787, 2968968094, 297603378...   \n",
       "3  [2968968094, 2976033787, 2968968094, 297603378...   \n",
       "4  [2968968094, 2976033787, 2968968094, 297603378...   \n",
       "\n",
       "                                           Morgan2FP  \\\n",
       "0  [0, 0, 0, 0, 0, 0, 0, 0, 0, 0, 0, 0, 0, 0, 0, ...   \n",
       "1  [0, 1, 0, 0, 0, 0, 0, 0, 0, 0, 0, 0, 0, 0, 0, ...   \n",
       "2  [0, 0, 0, 0, 0, 0, 0, 0, 0, 0, 0, 0, 0, 0, 0, ...   \n",
       "3  [0, 0, 0, 0, 0, 0, 0, 0, 0, 0, 0, 0, 0, 0, 0, ...   \n",
       "4  [0, 1, 0, 0, 0, 0, 0, 0, 0, 0, 0, 0, 0, 0, 0, ...   \n",
       "\n",
       "                                           MACCSKeys  \\\n",
       "0  [0, 0, 0, 0, 0, 0, 0, 0, 0, 0, 0, 0, 0, 0, 0, ...   \n",
       "1  [0, 0, 0, 0, 0, 0, 0, 0, 0, 0, 0, 0, 0, 0, 0, ...   \n",
       "2  [0, 0, 0, 0, 0, 0, 0, 0, 0, 0, 0, 0, 0, 0, 0, ...   \n",
       "3  [0, 0, 0, 0, 0, 0, 0, 0, 0, 0, 0, 0, 0, 0, 0, ...   \n",
       "4  [0, 0, 0, 0, 0, 0, 0, 0, 0, 0, 0, 0, 0, 0, 0, ...   \n",
       "\n",
       "                                          AtomPairFP  \\\n",
       "0  [1, 1, 1, 1, 1, 0, 0, 0, 0, 0, 0, 0, 0, 0, 0, ...   \n",
       "1  [1, 1, 1, 1, 1, 0, 0, 0, 0, 0, 0, 0, 0, 0, 0, ...   \n",
       "2  [1, 1, 1, 1, 1, 0, 0, 0, 0, 0, 0, 0, 0, 0, 0, ...   \n",
       "3  [1, 1, 1, 1, 1, 0, 0, 0, 0, 0, 0, 0, 0, 0, 0, ...   \n",
       "4  [1, 1, 1, 1, 1, 0, 0, 0, 0, 0, 0, 0, 0, 0, 0, ...   \n",
       "\n",
       "                                            TopTorFP  \\\n",
       "0  [0, 0, 0, 0, 0, 0, 0, 0, 0, 0, 0, 0, 0, 0, 0, ...   \n",
       "1  [0, 0, 0, 0, 0, 0, 0, 0, 0, 0, 0, 0, 0, 0, 0, ...   \n",
       "2  [0, 0, 0, 0, 0, 0, 0, 0, 0, 0, 0, 0, 0, 0, 0, ...   \n",
       "3  [0, 0, 0, 0, 0, 0, 0, 0, 0, 0, 0, 0, 0, 0, 0, ...   \n",
       "4  [0, 0, 0, 0, 0, 0, 0, 0, 0, 0, 0, 0, 0, 0, 0, ...   \n",
       "\n",
       "                                            AvalonFP  \\\n",
       "0  [0, 0, 0, 0, 0, 0, 0, 0, 0, 0, 0, 0, 0, 0, 0, ...   \n",
       "1  [0, 0, 0, 0, 0, 0, 1, 0, 0, 0, 0, 0, 0, 0, 0, ...   \n",
       "2  [1, 0, 0, 0, 0, 0, 0, 0, 0, 0, 0, 0, 0, 0, 1, ...   \n",
       "3  [0, 0, 0, 0, 1, 0, 0, 0, 0, 0, 0, 0, 0, 0, 0, ...   \n",
       "4  [0, 0, 0, 0, 0, 0, 0, 0, 0, 0, 0, 0, 0, 0, 0, ...   \n",
       "\n",
       "                                           PubchemFP  \\\n",
       "0  [1, 1, 0, 1, 1, 1, 0, 0, 0, 1, 1, 1, 1, 0, 0, ...   \n",
       "1  [1, 1, 0, 1, 1, 1, 0, 0, 0, 1, 1, 1, 1, 0, 0, ...   \n",
       "2  [1, 1, 0, 1, 1, 1, 0, 0, 0, 1, 1, 1, 0, 0, 0, ...   \n",
       "3  [1, 1, 0, 1, 1, 1, 0, 0, 0, 1, 1, 1, 1, 0, 0, ...   \n",
       "4  [1, 1, 0, 1, 1, 1, 0, 0, 0, 1, 1, 1, 0, 0, 0, ...   \n",
       "\n",
       "                                            CactvsFP  \n",
       "0  [1, 1, 0, 1, 1, 1, 0, 0, 0, 1, 1, 1, 1, 0, 0, ...  \n",
       "1  [1, 1, 0, 1, 1, 1, 0, 0, 0, 1, 1, 1, 1, 0, 0, ...  \n",
       "2  [1, 1, 0, 1, 1, 1, 0, 0, 0, 1, 1, 1, 0, 0, 0, ...  \n",
       "3  [1, 1, 0, 1, 1, 1, 0, 0, 0, 1, 1, 1, 1, 0, 0, ...  \n",
       "4  [1, 1, 0, 1, 1, 1, 0, 0, 0, 1, 1, 1, 0, 0, 0, ...  "
      ]
     },
     "execution_count": 16,
     "metadata": {},
     "output_type": "execute_result"
    }
   ],
   "source": [
    "drugs = all_drugs\n",
    "drugs.head()"
   ]
  },
  {
   "cell_type": "markdown",
   "metadata": {},
   "source": [
    "### Prepare the data"
   ]
  },
  {
   "cell_type": "code",
   "execution_count": 17,
   "metadata": {},
   "outputs": [
    {
     "data": {
      "text/plain": [
       "Index(['CID', 'Molecule', 'drug_class', 'drug_class_code', 'FeatInvariants',\n",
       "       'ConnInvariants', 'Morgan2FP', 'MACCSKeys', 'AtomPairFP', 'TopTorFP',\n",
       "       'AvalonFP', 'PubchemFP', 'CactvsFP'],\n",
       "      dtype='object')"
      ]
     },
     "execution_count": 17,
     "metadata": {},
     "output_type": "execute_result"
    }
   ],
   "source": [
    "drugs.columns"
   ]
  },
  {
   "cell_type": "markdown",
   "metadata": {},
   "source": [
    "We have found that Morgan fingerprints are the ones returning the best accuracy in a CNN model (look select_fingerprints.ipynb)"
   ]
  },
  {
   "cell_type": "code",
   "execution_count": 18,
   "metadata": {},
   "outputs": [],
   "source": [
    "#Choose fingerprints to train with\n",
    "X = drugs['Morgan2FP']\n",
    "y = drugs['drug_class_code']"
   ]
  },
  {
   "cell_type": "code",
   "execution_count": 19,
   "metadata": {},
   "outputs": [],
   "source": [
    "# Train/test split\n",
    "X_train, X_test, y_train, y_test = train_test_split(X, y, test_size=0.3, random_state=42)"
   ]
  },
  {
   "cell_type": "code",
   "execution_count": 20,
   "metadata": {},
   "outputs": [
    {
     "name": "stdout",
     "output_type": "stream",
     "text": [
      "Shape x_train:  (4854, 2048)\n",
      "Number of classes:  12\n",
      "Reshapep x_train:  (4854, 2048, 1)\n",
      "In_shape:  (2048, 1)\n",
      "(4854, 2048, 1) (4854,)\n",
      "(2081, 2048, 1) (2081,)\n"
     ]
    }
   ],
   "source": [
    "# Reshaping the arrays to fit in the model\n",
    "x_train = np.array(list(X_train))\n",
    "x_test = np.array(list(X_test))\n",
    "print('Shape x_train: ', x_train.shape)\n",
    "n_classes = len(unique(y_train))\n",
    "print('Number of classes: ', n_classes)\n",
    "x_train= x_train.reshape((x_train.shape[0], x_train.shape[1], 1))\n",
    "x_test= x_test.reshape((x_test.shape[0], x_test.shape[1], 1))\n",
    "print('Reshapep x_train: ', x_train.shape)\n",
    "in_shape = x_train.shape[1:]\n",
    "print('In_shape: ', in_shape)\n",
    "print(x_train.shape, y_train.shape)\n",
    "print(x_test.shape, y_test.shape)"
   ]
  },
  {
   "cell_type": "markdown",
   "metadata": {},
   "source": [
    "### Tuning the model"
   ]
  },
  {
   "cell_type": "markdown",
   "metadata": {},
   "source": [
    "Building the model"
   ]
  },
  {
   "cell_type": "code",
   "execution_count": 21,
   "metadata": {},
   "outputs": [],
   "source": [
    "# These piece of code is heavily inspired by this blog \"https://www.analyticsvidhya.com/blog/2021/06/create-convolutional-neural-network-model-and-optimize-using-keras-tuner-deep-learning/\"\n",
    "\n",
    "def build_model(hp):\n",
    "    \"\"\"\n",
    "    Function that chooses the best hyperparameters for a CNN model and then compiles it.\n",
    "    Input: a set of hyperparamneters\n",
    "    Output: a cnn model\n",
    "    \"\"\"\n",
    "    # Create model object\n",
    "    model = keras.Sequential([\n",
    "    keras.layers.Conv1D(\n",
    "        filters=hp.Int('conv_1_filter', min_value=32, max_value=128, step=16),\n",
    "        kernel_size=hp.Choice('conv_1_kernel', values = [3,5]),\n",
    "        activation='relu',\n",
    "        input_shape=(2048, 1)),\n",
    "    keras.layers.MaxPool1D(hp.Int('pool_size', min_value=2, max_value=6)),\n",
    "    keras.layers.Flatten(),\n",
    "    keras.layers.Dense(\n",
    "        units=hp.Int('dense_1_units', min_value=32, max_value=128, step=16),\n",
    "        activation='relu', kernel_initializer = 'he_uniform'\n",
    "    ),\n",
    "    keras.layers.Dropout(0.5),\n",
    "    keras.layers.Dense(12, activation='softmax')\n",
    "    ])\n",
    "    # Compilation of model\n",
    "    model.compile(optimizer=keras.optimizers.Adam(hp.Choice('learning_rate', values=[1e-2, 1e-3])),\n",
    "              loss='sparse_categorical_crossentropy',\n",
    "              metrics=['accuracy'],)\n",
    "    return model"
   ]
  },
  {
   "cell_type": "markdown",
   "metadata": {},
   "source": [
    "Tuning the model"
   ]
  },
  {
   "cell_type": "code",
   "execution_count": 23,
   "metadata": {},
   "outputs": [
    {
     "name": "stdout",
     "output_type": "stream",
     "text": [
      "Trial 5 Complete [00h 02m 11s]\n",
      "val_accuracy: 0.9184178113937378\n",
      "\n",
      "Best val_accuracy So Far: 0.9184178113937378\n",
      "Total elapsed time: 00h 08m 35s\n",
      "INFO:tensorflow:Oracle triggered exit\n"
     ]
    }
   ],
   "source": [
    "tuner = RandomSearch(build_model,\n",
    "                    objective='val_accuracy',\n",
    "                    max_trials = 5,\n",
    "                    directory = os.path.join('temp','tuner', 'RS_tuned_model'))\n",
    "tuner.search(x_train,y_train,epochs=3,validation_data=(x_train,y_train))"
   ]
  },
  {
   "cell_type": "markdown",
   "metadata": {},
   "source": [
    "Obtain and save the model"
   ]
  },
  {
   "cell_type": "code",
   "execution_count": 25,
   "metadata": {},
   "outputs": [
    {
     "name": "stdout",
     "output_type": "stream",
     "text": [
      "Model: \"sequential\"\n",
      "_________________________________________________________________\n",
      " Layer (type)                Output Shape              Param #   \n",
      "=================================================================\n",
      " conv1d (Conv1D)             (None, 2044, 64)          384       \n",
      "                                                                 \n",
      " max_pooling1d (MaxPooling1D  (None, 1022, 64)         0         \n",
      " )                                                               \n",
      "                                                                 \n",
      " flatten (Flatten)           (None, 65408)             0         \n",
      "                                                                 \n",
      " dense (Dense)               (None, 96)                6279264   \n",
      "                                                                 \n",
      " dropout (Dropout)           (None, 96)                0         \n",
      "                                                                 \n",
      " dense_1 (Dense)             (None, 12)                1164      \n",
      "                                                                 \n",
      "=================================================================\n",
      "Total params: 6,280,812\n",
      "Trainable params: 6,280,812\n",
      "Non-trainable params: 0\n",
      "_________________________________________________________________\n"
     ]
    },
    {
     "name": "stderr",
     "output_type": "stream",
     "text": [
      "WARNING:absl:Found untraced functions such as _jit_compiled_convolution_op, _update_step_xla while saving (showing 2 of 2). These functions will not be directly callable after loading.\n"
     ]
    },
    {
     "name": "stdout",
     "output_type": "stream",
     "text": [
      "INFO:tensorflow:Assets written to: compiled_models\\tuned\\opt_morgan_model\\assets\n"
     ]
    },
    {
     "name": "stderr",
     "output_type": "stream",
     "text": [
      "INFO:tensorflow:Assets written to: compiled_models\\tuned\\opt_morgan_model\\assets\n"
     ]
    }
   ],
   "source": [
    "tuned_model = tuner.get_best_models(num_models=1)[0]\n",
    "tuned_model.summary()\n",
    "tuned_model.save(os.path.join('compiled_models','tuned', 'opt_morgan_model'))"
   ]
  },
  {
   "cell_type": "markdown",
   "metadata": {},
   "source": [
    "### Fit model and choose number of epochs"
   ]
  },
  {
   "cell_type": "markdown",
   "metadata": {},
   "source": [
    "Set EarlyStopping and ModelCheckpoint to select a model with the optimal number of epochs"
   ]
  },
  {
   "cell_type": "code",
   "execution_count": 28,
   "metadata": {},
   "outputs": [
    {
     "name": "stdout",
     "output_type": "stream",
     "text": [
      "Epoch 4/200\n",
      "7/7 [==============================] - 3s 449ms/step - loss: 0.1612 - accuracy: 0.3575 - val_loss: 0.8818 - val_accuracy: 0.3000\n",
      "Epoch 5/200\n",
      "7/7 [==============================] - 3s 435ms/step - loss: 0.1681 - accuracy: 0.3462 - val_loss: 0.8981 - val_accuracy: 0.3050\n",
      "Epoch 6/200\n",
      "7/7 [==============================] - 3s 441ms/step - loss: 0.1550 - accuracy: 0.3487 - val_loss: 0.9155 - val_accuracy: 0.3100\n",
      "Epoch 7/200\n",
      "7/7 [==============================] - 3s 464ms/step - loss: 0.1434 - accuracy: 0.3575 - val_loss: 0.9273 - val_accuracy: 0.3100\n",
      "Epoch 8/200\n",
      "7/7 [==============================] - 3s 465ms/step - loss: 0.1431 - accuracy: 0.3562 - val_loss: 0.9272 - val_accuracy: 0.2900\n",
      "Epoch 9/200\n",
      "7/7 [==============================] - 3s 446ms/step - loss: 0.1291 - accuracy: 0.3550 - val_loss: 0.9401 - val_accuracy: 0.2900\n",
      "Epoch 10/200\n",
      "7/7 [==============================] - 3s 469ms/step - loss: 0.1104 - accuracy: 0.3525 - val_loss: 0.9693 - val_accuracy: 0.3000\n",
      "Epoch 11/200\n",
      "7/7 [==============================] - 3s 492ms/step - loss: 0.1054 - accuracy: 0.3550 - val_loss: 0.9695 - val_accuracy: 0.3150\n",
      "Epoch 12/200\n",
      "7/7 [==============================] - 3s 478ms/step - loss: 0.1183 - accuracy: 0.3575 - val_loss: 0.9835 - val_accuracy: 0.3150\n",
      "Epoch 13/200\n",
      "7/7 [==============================] - 3s 457ms/step - loss: 0.0846 - accuracy: 0.3550 - val_loss: 1.0025 - val_accuracy: 0.3100\n",
      "Epoch 14/200\n",
      "7/7 [==============================] - 3s 442ms/step - loss: 0.0827 - accuracy: 0.3587 - val_loss: 1.0009 - val_accuracy: 0.3000\n",
      "Epoch 15/200\n",
      "7/7 [==============================] - 3s 456ms/step - loss: 0.0760 - accuracy: 0.3550 - val_loss: 1.0086 - val_accuracy: 0.2950\n",
      "Epoch 16/200\n",
      "7/7 [==============================] - 3s 463ms/step - loss: 0.0783 - accuracy: 0.3487 - val_loss: 1.0408 - val_accuracy: 0.3000\n",
      "Epoch 17/200\n",
      "7/7 [==============================] - 3s 461ms/step - loss: 0.0677 - accuracy: 0.3575 - val_loss: 1.0671 - val_accuracy: 0.3200\n",
      "Epoch 18/200\n",
      "7/7 [==============================] - 3s 450ms/step - loss: 0.0700 - accuracy: 0.3587 - val_loss: 1.0313 - val_accuracy: 0.2850\n",
      "Epoch 19/200\n",
      "7/7 [==============================] - 3s 437ms/step - loss: 0.0758 - accuracy: 0.3512 - val_loss: 1.0392 - val_accuracy: 0.2850\n",
      "Epoch 20/200\n",
      "7/7 [==============================] - 3s 470ms/step - loss: 0.0855 - accuracy: 0.3562 - val_loss: 1.0570 - val_accuracy: 0.2850\n",
      "Epoch 21/200\n",
      "7/7 [==============================] - 3s 466ms/step - loss: 0.0672 - accuracy: 0.3537 - val_loss: 1.1061 - val_accuracy: 0.2950\n",
      "Epoch 22/200\n",
      "7/7 [==============================] - 3s 466ms/step - loss: 0.0648 - accuracy: 0.3525 - val_loss: 1.1374 - val_accuracy: 0.3150\n",
      "Epoch 23/200\n",
      "7/7 [==============================] - 3s 439ms/step - loss: 0.0525 - accuracy: 0.3525 - val_loss: 1.1158 - val_accuracy: 0.3050\n",
      "Epoch 24/200\n",
      "7/7 [==============================] - 3s 440ms/step - loss: 0.0621 - accuracy: 0.3475 - val_loss: 1.1231 - val_accuracy: 0.2950\n",
      "32/32 [==============================] - 1s 36ms/step - loss: 0.2293 - accuracy: 0.3410\n"
     ]
    }
   ],
   "source": [
    "# Configure early stopping\n",
    "es = EarlyStopping(monitor='accuracy', patience=10)\n",
    "mc = ModelCheckpoint(filepath = os.path.join('compiled_models','checkpoints', '{epoch:02d}-{val_accuracy:.3f}.hdf5'), monitor = 'val_loss', save_best_only = True)\n",
    "\n",
    "# Fit the model\n",
    "history = tuned_model.fit(x_test[:1000], y_test[:1000], epochs=200, batch_size=128, verbose=1, validation_split = 0.2, initial_epoch=3, callbacks = [es,mc])\n",
    "\n",
    "# Evaluate the model\n",
    "loss, acc = tuned_model.evaluate(x_test[:1000], y_test[:1000], verbose=1)"
   ]
  },
  {
   "cell_type": "code",
   "execution_count": 33,
   "metadata": {},
   "outputs": [
    {
     "name": "stdout",
     "output_type": "stream",
     "text": [
      "34/34 [==============================] - 1s 31ms/step\n"
     ]
    }
   ],
   "source": [
    "# Getting test predictions\n",
    "y_pred = tuned_model.predict(x_test[1000:])\n",
    "y_pred_list = [argmax(x) for x in y_pred]"
   ]
  },
  {
   "cell_type": "code",
   "execution_count": 34,
   "metadata": {},
   "outputs": [],
   "source": [
    "# Save predictions\n",
    "y_pred_ser = pd.Series(y_pred_list)\n",
    "y_pred_ser.to_pickle(path= os.path.join('predictions', 'y_preds.pkl'))"
   ]
  },
  {
   "cell_type": "markdown",
   "metadata": {},
   "source": [
    "#### Visualization of models accuracy"
   ]
  },
  {
   "cell_type": "code",
   "execution_count": 35,
   "metadata": {},
   "outputs": [
    {
     "name": "stdout",
     "output_type": "stream",
     "text": [
      "              precision    recall  f1-score   support\n",
      "\n",
      "           0       0.83      0.90      0.86       382\n",
      "           1       0.83      0.74      0.78        46\n",
      "           2       0.64      0.85      0.73       179\n",
      "           3       0.75      0.60      0.67       126\n",
      "           4       0.67      0.69      0.68       168\n",
      "           5       1.00      0.24      0.38        17\n",
      "           6       0.97      0.69      0.81        42\n",
      "           7       0.83      0.39      0.53        49\n",
      "           8       0.92      0.71      0.80        31\n",
      "           9       0.95      0.90      0.93        21\n",
      "          10       0.80      0.44      0.57        18\n",
      "          11       0.00      0.00      0.00         2\n",
      "\n",
      "    accuracy                           0.76      1081\n",
      "   macro avg       0.76      0.60      0.64      1081\n",
      "weighted avg       0.77      0.76      0.75      1081\n",
      "\n"
     ]
    }
   ],
   "source": [
    "# Precission and recall for every variable\n",
    "print(metrics.classification_report(y_test[1000:],y_pred_list))"
   ]
  },
  {
   "cell_type": "code",
   "execution_count": 36,
   "metadata": {},
   "outputs": [
    {
     "data": {
      "image/png": "[encoded data removed]",
      "text/plain": [
       "<Figure size 640x480 with 1 Axes>"
      ]
     },
     "metadata": {},
     "output_type": "display_data"
    }
   ],
   "source": [
    "#Learning curve visualization\n",
    "\n",
    "fig,ax = plt.subplots()\n",
    "plt.style.use('ggplot')\n",
    "\n",
    "epochs = len(history.history['loss'])\n",
    "epoch_values = list(range(epochs))\n",
    "\n",
    "ax.plot(epoch_values, history.history['loss'], label='Training loss')\n",
    "ax.plot(epoch_values, history.history['val_loss'], label='Validation loss')\n",
    "ax.plot(epoch_values, history.history['accuracy'], label='Training accuracy')\n",
    "ax.plot(epoch_values, history.history['val_accuracy'], label='Validation accuracy')\n",
    "\n",
    "ax.set_title('Training loss and accuracy')\n",
    "ax.set_xlabel('Epoch')\n",
    "ax.set_ylabel('Loss/Accuracy')\n",
    "ax.legend()\n",
    "plt.show()"
   ]
  },
  {
   "cell_type": "code",
   "execution_count": null,
   "metadata": {},
   "outputs": [],
   "source": []
  }
 ],
 "metadata": {
  "kernelspec": {
   "display_name": "Python 3 (ipykernel)",
   "language": "python",
   "name": "python3"
  },
  "language_info": {
   "codemirror_mode": {
    "name": "ipython",
    "version": 3
   },
   "file_extension": ".py",
   "mimetype": "text/x-python",
   "name": "python",
   "nbconvert_exporter": "python",
   "pygments_lexer": "ipython3",
   "version": "3.9.13"
  }
 },
 "nbformat": 4,
 "nbformat_minor": 2
}
