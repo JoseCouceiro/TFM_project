{
 "cells": [
  {
   "attachments": {},
   "cell_type": "markdown",
   "metadata": {},
   "source": [
    "## Building an optimized CNN Model for Morgan fingerprints"
   ]
  },
  {
   "attachments": {},
   "cell_type": "markdown",
   "metadata": {},
   "source": [
    "This Notebook will uses Keras Tuner to find the best hyperparameters for a CNN model which will label molecules according to their Morgan fingerprints"
   ]
  },
  {
   "attachments": {},
   "cell_type": "markdown",
   "metadata": {},
   "source": [
    "#### In case the requirements.txt file won't work"
   ]
  },
  {
   "cell_type": "code",
   "execution_count": 1,
   "metadata": {},
   "outputs": [],
   "source": [
    "#pip install keras_tuner"
   ]
  },
  {
   "attachments": {},
   "cell_type": "markdown",
   "metadata": {},
   "source": [
    "### Imports"
   ]
  },
  {
   "cell_type": "code",
   "execution_count": 1,
   "metadata": {},
   "outputs": [],
   "source": [
    "import os\n",
    "import pandas as pd\n",
    "import numpy as np\n",
    "import matplotlib.pyplot as plt\n",
    "from sklearn.model_selection import train_test_split\n",
    "from sklearn import metrics\n",
    "from numpy import unique\n",
    "from numpy import argmax\n",
    "from keras_tuner import RandomSearch\n",
    "from tensorflow import keras\n",
    "from tensorflow.keras.datasets.mnist import load_data\n",
    "from tensorflow.keras.models import Sequential, load_model\n",
    "from tensorflow.keras.layers import Dense, Conv1D, MaxPool1D, Flatten, Dropout\n",
    "from tensorflow.keras.callbacks import EarlyStopping, ModelCheckpoint\n",
    "import warnings\n",
    "warnings.filterwarnings(\"ignore\")"
   ]
  },
  {
   "attachments": {},
   "cell_type": "markdown",
   "metadata": {},
   "source": [
    "### Loading data"
   ]
  },
  {
   "cell_type": "code",
   "execution_count": 4,
   "metadata": {},
   "outputs": [],
   "source": [
    "all_drugs = pd.read_pickle(os.path.join('res', 'pickles', 'drug_fp.pkl'))"
   ]
  },
  {
   "cell_type": "code",
   "execution_count": 5,
   "metadata": {},
   "outputs": [
    {
     "data": {
      "text/html": [
       "<div>\n",
       "<style scoped>\n",
       "    .dataframe tbody tr th:only-of-type {\n",
       "        vertical-align: middle;\n",
       "    }\n",
       "\n",
       "    .dataframe tbody tr th {\n",
       "        vertical-align: top;\n",
       "    }\n",
       "\n",
       "    .dataframe thead th {\n",
       "        text-align: right;\n",
       "    }\n",
       "</style>\n",
       "<table border=\"1\" class=\"dataframe\">\n",
       "  <thead>\n",
       "    <tr style=\"text-align: right;\">\n",
       "      <th></th>\n",
       "      <th>CID</th>\n",
       "      <th>Molecule</th>\n",
       "      <th>drug_class</th>\n",
       "      <th>drug_class_code</th>\n",
       "      <th>FeatInvariants</th>\n",
       "      <th>ConnInvariants</th>\n",
       "      <th>Morgan2FP</th>\n",
       "      <th>MACCSKeys</th>\n",
       "      <th>AtomPairFP</th>\n",
       "      <th>TopTorFP</th>\n",
       "      <th>AvalonFP</th>\n",
       "      <th>PubchemFP</th>\n",
       "      <th>CactvsFP</th>\n",
       "    </tr>\n",
       "  </thead>\n",
       "  <tbody>\n",
       "    <tr>\n",
       "      <th>0</th>\n",
       "      <td>24769</td>\n",
       "      <td>&lt;rdkit.Chem.rdchem.Mol object at 0x000002021AC...</td>\n",
       "      <td>hematologic</td>\n",
       "      <td>7</td>\n",
       "      <td>[0, 18, 0, 0, 0, 0, 0, 0, 0, 18, 0, 0, 0, 0, 8...</td>\n",
       "      <td>[2968968094, 2976033787, 2968968094, 297603378...</td>\n",
       "      <td>[0, 0, 0, 0, 0, 0, 0, 0, 0, 0, 0, 0, 0, 0, 0, ...</td>\n",
       "      <td>[0, 0, 0, 0, 0, 0, 0, 0, 0, 0, 0, 0, 0, 0, 0, ...</td>\n",
       "      <td>[1, 1, 1, 1, 1, 0, 0, 0, 0, 0, 0, 0, 0, 0, 0, ...</td>\n",
       "      <td>[0, 0, 0, 0, 0, 0, 0, 0, 0, 0, 0, 0, 0, 0, 0, ...</td>\n",
       "      <td>[0, 0, 0, 0, 0, 0, 0, 0, 0, 0, 0, 0, 0, 0, 0, ...</td>\n",
       "      <td>[1, 1, 0, 1, 1, 1, 0, 0, 0, 1, 1, 1, 1, 0, 0, ...</td>\n",
       "      <td>[1, 1, 0, 1, 1, 1, 0, 0, 0, 1, 1, 1, 1, 0, 0, ...</td>\n",
       "    </tr>\n",
       "    <tr>\n",
       "      <th>1</th>\n",
       "      <td>134694070</td>\n",
       "      <td>&lt;rdkit.Chem.rdchem.Mol object at 0x000002022D0...</td>\n",
       "      <td>cardio</td>\n",
       "      <td>3</td>\n",
       "      <td>[0, 0, 2, 0, 17, 17, 4, 4, 4, 6, 4, 4, 6, 4, 4...</td>\n",
       "      <td>[2968968094, 2976033787, 2968968094, 297603378...</td>\n",
       "      <td>[0, 1, 0, 0, 0, 0, 0, 0, 0, 0, 0, 0, 0, 0, 0, ...</td>\n",
       "      <td>[0, 0, 0, 0, 0, 0, 0, 0, 0, 0, 0, 0, 0, 0, 0, ...</td>\n",
       "      <td>[1, 1, 1, 1, 1, 0, 0, 0, 0, 0, 0, 0, 0, 0, 0, ...</td>\n",
       "      <td>[0, 0, 0, 0, 0, 0, 0, 0, 0, 0, 0, 0, 0, 0, 0, ...</td>\n",
       "      <td>[0, 0, 0, 0, 0, 0, 1, 0, 0, 0, 0, 0, 0, 0, 0, ...</td>\n",
       "      <td>[1, 1, 0, 1, 1, 1, 0, 0, 0, 1, 1, 1, 1, 0, 0, ...</td>\n",
       "      <td>[1, 1, 0, 1, 1, 1, 0, 0, 0, 1, 1, 1, 1, 0, 0, ...</td>\n",
       "    </tr>\n",
       "    <tr>\n",
       "      <th>2</th>\n",
       "      <td>5121</td>\n",
       "      <td>&lt;rdkit.Chem.rdchem.Mol object at 0x000002022D0...</td>\n",
       "      <td>antiinfective</td>\n",
       "      <td>0</td>\n",
       "      <td>[0, 0, 2, 0, 2, 0, 0, 16, 4, 4, 4, 4, 4, 4, 8]</td>\n",
       "      <td>[2968968094, 2976033787, 2968968094, 297603378...</td>\n",
       "      <td>[0, 0, 0, 0, 0, 0, 0, 0, 0, 0, 0, 0, 0, 0, 0, ...</td>\n",
       "      <td>[0, 0, 0, 0, 0, 0, 0, 0, 0, 0, 0, 0, 0, 0, 0, ...</td>\n",
       "      <td>[1, 1, 1, 1, 1, 0, 0, 0, 0, 0, 0, 0, 0, 0, 0, ...</td>\n",
       "      <td>[0, 0, 0, 0, 0, 0, 0, 0, 0, 0, 0, 0, 0, 0, 0, ...</td>\n",
       "      <td>[1, 0, 0, 0, 0, 0, 0, 0, 0, 0, 0, 0, 0, 0, 1, ...</td>\n",
       "      <td>[1, 1, 0, 1, 1, 1, 0, 0, 0, 1, 1, 1, 0, 0, 0, ...</td>\n",
       "      <td>[1, 1, 0, 1, 1, 1, 0, 0, 0, 1, 1, 1, 0, 0, 0, ...</td>\n",
       "    </tr>\n",
       "    <tr>\n",
       "      <th>3</th>\n",
       "      <td>4660557</td>\n",
       "      <td>&lt;rdkit.Chem.rdchem.Mol object at 0x000002022D0...</td>\n",
       "      <td>cns</td>\n",
       "      <td>4</td>\n",
       "      <td>[0, 0, 0, 0, 0, 0, 0, 0, 0, 0, 19, 4, 4, 4, 4,...</td>\n",
       "      <td>[2968968094, 2976033787, 2968968094, 297603378...</td>\n",
       "      <td>[0, 0, 0, 0, 0, 0, 0, 0, 0, 0, 0, 0, 0, 0, 0, ...</td>\n",
       "      <td>[0, 0, 0, 0, 0, 0, 0, 0, 0, 0, 0, 0, 0, 0, 0, ...</td>\n",
       "      <td>[1, 1, 1, 1, 1, 0, 0, 0, 0, 0, 0, 0, 0, 0, 0, ...</td>\n",
       "      <td>[0, 0, 0, 0, 0, 0, 0, 0, 0, 0, 0, 0, 0, 0, 0, ...</td>\n",
       "      <td>[0, 0, 0, 0, 1, 0, 0, 0, 0, 0, 0, 0, 0, 0, 0, ...</td>\n",
       "      <td>[1, 1, 0, 1, 1, 1, 0, 0, 0, 1, 1, 1, 1, 0, 0, ...</td>\n",
       "      <td>[1, 1, 0, 1, 1, 1, 0, 0, 0, 1, 1, 1, 1, 0, 0, ...</td>\n",
       "    </tr>\n",
       "    <tr>\n",
       "      <th>4</th>\n",
       "      <td>122175</td>\n",
       "      <td>&lt;rdkit.Chem.rdchem.Mol object at 0x000002022D0...</td>\n",
       "      <td>antineoplastic</td>\n",
       "      <td>2</td>\n",
       "      <td>[0, 0, 0, 0, 0, 0, 0, 19, 19]</td>\n",
       "      <td>[2968968094, 2976033787, 2968968094, 297603378...</td>\n",
       "      <td>[0, 1, 0, 0, 0, 0, 0, 0, 0, 0, 0, 0, 0, 0, 0, ...</td>\n",
       "      <td>[0, 0, 0, 0, 0, 0, 0, 0, 0, 0, 0, 0, 0, 0, 0, ...</td>\n",
       "      <td>[1, 1, 1, 1, 1, 0, 0, 0, 0, 0, 0, 0, 0, 0, 0, ...</td>\n",
       "      <td>[0, 0, 0, 0, 0, 0, 0, 0, 0, 0, 0, 0, 0, 0, 0, ...</td>\n",
       "      <td>[0, 0, 0, 0, 0, 0, 0, 0, 0, 0, 0, 0, 0, 0, 0, ...</td>\n",
       "      <td>[1, 1, 0, 1, 1, 1, 0, 0, 0, 1, 1, 1, 0, 0, 0, ...</td>\n",
       "      <td>[1, 1, 0, 1, 1, 1, 0, 0, 0, 1, 1, 1, 0, 0, 0, ...</td>\n",
       "    </tr>\n",
       "  </tbody>\n",
       "</table>\n",
       "</div>"
      ],
      "text/plain": [
       "         CID                                           Molecule  \\\n",
       "0      24769  <rdkit.Chem.rdchem.Mol object at 0x000002021AC...   \n",
       "1  134694070  <rdkit.Chem.rdchem.Mol object at 0x000002022D0...   \n",
       "2       5121  <rdkit.Chem.rdchem.Mol object at 0x000002022D0...   \n",
       "3    4660557  <rdkit.Chem.rdchem.Mol object at 0x000002022D0...   \n",
       "4     122175  <rdkit.Chem.rdchem.Mol object at 0x000002022D0...   \n",
       "\n",
       "       drug_class  drug_class_code  \\\n",
       "0     hematologic                7   \n",
       "1          cardio                3   \n",
       "2   antiinfective                0   \n",
       "3             cns                4   \n",
       "4  antineoplastic                2   \n",
       "\n",
       "                                      FeatInvariants  \\\n",
       "0  [0, 18, 0, 0, 0, 0, 0, 0, 0, 18, 0, 0, 0, 0, 8...   \n",
       "1  [0, 0, 2, 0, 17, 17, 4, 4, 4, 6, 4, 4, 6, 4, 4...   \n",
       "2     [0, 0, 2, 0, 2, 0, 0, 16, 4, 4, 4, 4, 4, 4, 8]   \n",
       "3  [0, 0, 0, 0, 0, 0, 0, 0, 0, 0, 19, 4, 4, 4, 4,...   \n",
       "4                      [0, 0, 0, 0, 0, 0, 0, 19, 19]   \n",
       "\n",
       "                                      ConnInvariants  \\\n",
       "0  [2968968094, 2976033787, 2968968094, 297603378...   \n",
       "1  [2968968094, 2976033787, 2968968094, 297603378...   \n",
       "2  [2968968094, 2976033787, 2968968094, 297603378...   \n",
       "3  [2968968094, 2976033787, 2968968094, 297603378...   \n",
       "4  [2968968094, 2976033787, 2968968094, 297603378...   \n",
       "\n",
       "                                           Morgan2FP  \\\n",
       "0  [0, 0, 0, 0, 0, 0, 0, 0, 0, 0, 0, 0, 0, 0, 0, ...   \n",
       "1  [0, 1, 0, 0, 0, 0, 0, 0, 0, 0, 0, 0, 0, 0, 0, ...   \n",
       "2  [0, 0, 0, 0, 0, 0, 0, 0, 0, 0, 0, 0, 0, 0, 0, ...   \n",
       "3  [0, 0, 0, 0, 0, 0, 0, 0, 0, 0, 0, 0, 0, 0, 0, ...   \n",
       "4  [0, 1, 0, 0, 0, 0, 0, 0, 0, 0, 0, 0, 0, 0, 0, ...   \n",
       "\n",
       "                                           MACCSKeys  \\\n",
       "0  [0, 0, 0, 0, 0, 0, 0, 0, 0, 0, 0, 0, 0, 0, 0, ...   \n",
       "1  [0, 0, 0, 0, 0, 0, 0, 0, 0, 0, 0, 0, 0, 0, 0, ...   \n",
       "2  [0, 0, 0, 0, 0, 0, 0, 0, 0, 0, 0, 0, 0, 0, 0, ...   \n",
       "3  [0, 0, 0, 0, 0, 0, 0, 0, 0, 0, 0, 0, 0, 0, 0, ...   \n",
       "4  [0, 0, 0, 0, 0, 0, 0, 0, 0, 0, 0, 0, 0, 0, 0, ...   \n",
       "\n",
       "                                          AtomPairFP  \\\n",
       "0  [1, 1, 1, 1, 1, 0, 0, 0, 0, 0, 0, 0, 0, 0, 0, ...   \n",
       "1  [1, 1, 1, 1, 1, 0, 0, 0, 0, 0, 0, 0, 0, 0, 0, ...   \n",
       "2  [1, 1, 1, 1, 1, 0, 0, 0, 0, 0, 0, 0, 0, 0, 0, ...   \n",
       "3  [1, 1, 1, 1, 1, 0, 0, 0, 0, 0, 0, 0, 0, 0, 0, ...   \n",
       "4  [1, 1, 1, 1, 1, 0, 0, 0, 0, 0, 0, 0, 0, 0, 0, ...   \n",
       "\n",
       "                                            TopTorFP  \\\n",
       "0  [0, 0, 0, 0, 0, 0, 0, 0, 0, 0, 0, 0, 0, 0, 0, ...   \n",
       "1  [0, 0, 0, 0, 0, 0, 0, 0, 0, 0, 0, 0, 0, 0, 0, ...   \n",
       "2  [0, 0, 0, 0, 0, 0, 0, 0, 0, 0, 0, 0, 0, 0, 0, ...   \n",
       "3  [0, 0, 0, 0, 0, 0, 0, 0, 0, 0, 0, 0, 0, 0, 0, ...   \n",
       "4  [0, 0, 0, 0, 0, 0, 0, 0, 0, 0, 0, 0, 0, 0, 0, ...   \n",
       "\n",
       "                                            AvalonFP  \\\n",
       "0  [0, 0, 0, 0, 0, 0, 0, 0, 0, 0, 0, 0, 0, 0, 0, ...   \n",
       "1  [0, 0, 0, 0, 0, 0, 1, 0, 0, 0, 0, 0, 0, 0, 0, ...   \n",
       "2  [1, 0, 0, 0, 0, 0, 0, 0, 0, 0, 0, 0, 0, 0, 1, ...   \n",
       "3  [0, 0, 0, 0, 1, 0, 0, 0, 0, 0, 0, 0, 0, 0, 0, ...   \n",
       "4  [0, 0, 0, 0, 0, 0, 0, 0, 0, 0, 0, 0, 0, 0, 0, ...   \n",
       "\n",
       "                                           PubchemFP  \\\n",
       "0  [1, 1, 0, 1, 1, 1, 0, 0, 0, 1, 1, 1, 1, 0, 0, ...   \n",
       "1  [1, 1, 0, 1, 1, 1, 0, 0, 0, 1, 1, 1, 1, 0, 0, ...   \n",
       "2  [1, 1, 0, 1, 1, 1, 0, 0, 0, 1, 1, 1, 0, 0, 0, ...   \n",
       "3  [1, 1, 0, 1, 1, 1, 0, 0, 0, 1, 1, 1, 1, 0, 0, ...   \n",
       "4  [1, 1, 0, 1, 1, 1, 0, 0, 0, 1, 1, 1, 0, 0, 0, ...   \n",
       "\n",
       "                                            CactvsFP  \n",
       "0  [1, 1, 0, 1, 1, 1, 0, 0, 0, 1, 1, 1, 1, 0, 0, ...  \n",
       "1  [1, 1, 0, 1, 1, 1, 0, 0, 0, 1, 1, 1, 1, 0, 0, ...  \n",
       "2  [1, 1, 0, 1, 1, 1, 0, 0, 0, 1, 1, 1, 0, 0, 0, ...  \n",
       "3  [1, 1, 0, 1, 1, 1, 0, 0, 0, 1, 1, 1, 1, 0, 0, ...  \n",
       "4  [1, 1, 0, 1, 1, 1, 0, 0, 0, 1, 1, 1, 0, 0, 0, ...  "
      ]
     },
     "execution_count": 5,
     "metadata": {},
     "output_type": "execute_result"
    }
   ],
   "source": [
    "drugs = all_drugs\n",
    "drugs.head()"
   ]
  },
  {
   "attachments": {},
   "cell_type": "markdown",
   "metadata": {},
   "source": [
    "### Prepare the data"
   ]
  },
  {
   "cell_type": "code",
   "execution_count": 6,
   "metadata": {},
   "outputs": [
    {
     "data": {
      "text/plain": [
       "Index(['CID', 'Molecule', 'drug_class', 'drug_class_code', 'FeatInvariants',\n",
       "       'ConnInvariants', 'Morgan2FP', 'MACCSKeys', 'AtomPairFP', 'TopTorFP',\n",
       "       'AvalonFP', 'PubchemFP', 'CactvsFP'],\n",
       "      dtype='object')"
      ]
     },
     "execution_count": 6,
     "metadata": {},
     "output_type": "execute_result"
    }
   ],
   "source": [
    "drugs.columns"
   ]
  },
  {
   "attachments": {},
   "cell_type": "markdown",
   "metadata": {},
   "source": [
    "We have found that Morgan fingerprints are the ones returning the best accuracy in a CNN model (look select_fingerprints.ipynb)"
   ]
  },
  {
   "cell_type": "code",
   "execution_count": 7,
   "metadata": {},
   "outputs": [],
   "source": [
    "#Choose fingerprints to train with\n",
    "X = drugs['Morgan2FP']\n",
    "y = drugs['drug_class_code']"
   ]
  },
  {
   "cell_type": "code",
   "execution_count": 8,
   "metadata": {},
   "outputs": [],
   "source": [
    "# Train/test split\n",
    "X_train, X_test, y_train, y_test = train_test_split(X, y, test_size=0.3, random_state=42)"
   ]
  },
  {
   "cell_type": "code",
   "execution_count": 9,
   "metadata": {},
   "outputs": [
    {
     "name": "stdout",
     "output_type": "stream",
     "text": [
      "Shape x_train:  (4854, 2048)\n",
      "Number of classes:  12\n",
      "Reshapep x_train:  (4854, 2048, 1)\n",
      "In_shape:  (2048, 1)\n",
      "(4854, 2048, 1) (4854,)\n",
      "(2081, 2048, 1) (2081,)\n"
     ]
    }
   ],
   "source": [
    "# Reshaping the arrays to fit in the model\n",
    "x_train = np.array(list(X_train))\n",
    "x_test = np.array(list(X_test))\n",
    "print('Shape x_train: ', x_train.shape)\n",
    "n_classes = len(unique(y_train))\n",
    "print('Number of classes: ', n_classes)\n",
    "x_train= x_train.reshape((x_train.shape[0], x_train.shape[1], 1))\n",
    "x_test= x_test.reshape((x_test.shape[0], x_test.shape[1], 1))\n",
    "print('Reshapep x_train: ', x_train.shape)\n",
    "in_shape = x_train.shape[1:]\n",
    "print('In_shape: ', in_shape)\n",
    "print(x_train.shape, y_train.shape)\n",
    "print(x_test.shape, y_test.shape)"
   ]
  },
  {
   "attachments": {},
   "cell_type": "markdown",
   "metadata": {},
   "source": [
    "### Tuning the model"
   ]
  },
  {
   "attachments": {},
   "cell_type": "markdown",
   "metadata": {},
   "source": [
    "Building the model"
   ]
  },
  {
   "cell_type": "code",
   "execution_count": 33,
   "metadata": {},
   "outputs": [],
   "source": [
    "# These piece of code is heavily inspired by this blog \"https://www.analyticsvidhya.com/blog/2021/06/create-convolutional-neural-network-model-and-optimize-using-keras-tuner-deep-learning/\"\n",
    "\n",
    "def build_model(hp):\n",
    "    \"\"\"\n",
    "    Function that chooses the best hyperparameters for a CNN model and then compiles it.\n",
    "    Input: a set of hyperparamneters\n",
    "    Output: a cnn model\n",
    "    \"\"\"\n",
    "    # Create model object\n",
    "    model = keras.Sequential([\n",
    "    keras.layers.Conv1D(\n",
    "        filters=hp.Int('conv_1_filter', min_value=32, max_value=128, step=16),\n",
    "        kernel_size=hp.Choice('conv_1_kernel', values = [3,5]),\n",
    "        activation='relu',\n",
    "        input_shape=(2048, 1)),\n",
    "    keras.layers.MaxPool1D(hp.Int('pool_size', min_value=2, max_value=6)),\n",
    "    keras.layers.Conv1D(\n",
    "        filters=hp.Int('conv_1_filter', min_value=32, max_value=128, step=16),\n",
    "        kernel_size=hp.Choice('conv_1_kernel', values = [3,5]),\n",
    "        activation='relu',\n",
    "        input_shape=(2048, 1)),\n",
    "    keras.layers.MaxPool1D(hp.Int('pool_size', min_value=2, max_value=6)),\n",
    "    keras.layers.Conv1D(\n",
    "        filters=hp.Int('conv_1_filter', min_value=32, max_value=128, step=16),\n",
    "        kernel_size=hp.Choice('conv_1_kernel', values = [3,5]),\n",
    "        activation='relu',\n",
    "        input_shape=(2048, 1)),\n",
    "    keras.layers.MaxPool1D(hp.Int('pool_size', min_value=2, max_value=6)),\n",
    "    keras.layers.Dropout(0.5),\n",
    "    keras.layers.Flatten(),\n",
    "    keras.layers.Dense(\n",
    "        units=hp.Int('dense_1_units', min_value=32, max_value=128, step=16),\n",
    "        activation='relu', kernel_initializer = 'he_uniform'\n",
    "    ),\n",
    "    keras.layers.Dropout(0.5),\n",
    "    keras.layers.Dense(12, activation='softmax')\n",
    "    ])\n",
    "    # Compilation of model\n",
    "    model.compile(optimizer=keras.optimizers.Adam(hp.Choice('learning_rate', values=[1e-2, 1e-3])),\n",
    "              loss='sparse_categorical_crossentropy',\n",
    "              metrics=['accuracy'],)\n",
    "    return model"
   ]
  },
  {
   "attachments": {},
   "cell_type": "markdown",
   "metadata": {},
   "source": [
    "Tuning the model"
   ]
  },
  {
   "cell_type": "code",
   "execution_count": 37,
   "metadata": {},
   "outputs": [
    {
     "name": "stdout",
     "output_type": "stream",
     "text": [
      "Trial 5 Complete [00h 16m 03s]\n",
      "val_accuracy: 0.9579728245735168\n",
      "\n",
      "Best val_accuracy So Far: 0.9579728245735168\n",
      "Total elapsed time: 00h 39m 44s\n",
      "INFO:tensorflow:Oracle triggered exit\n"
     ]
    },
    {
     "name": "stderr",
     "output_type": "stream",
     "text": [
      "INFO:tensorflow:Oracle triggered exit\n"
     ]
    }
   ],
   "source": [
    "tuner = RandomSearch(build_model,\n",
    "                    objective='val_accuracy',\n",
    "                    max_trials = 5,\n",
    "                    directory = os.path.join('temp', 'tuner', 'RS_tuned_model'))\n",
    "tuner.search(x_train,y_train,epochs=10,validation_data=(x_train,y_train))"
   ]
  },
  {
   "attachments": {},
   "cell_type": "markdown",
   "metadata": {},
   "source": [
    "Obtain and save the model"
   ]
  },
  {
   "cell_type": "code",
   "execution_count": 38,
   "metadata": {},
   "outputs": [
    {
     "name": "stdout",
     "output_type": "stream",
     "text": [
      "Model: \"sequential\"\n",
      "_________________________________________________________________\n",
      " Layer (type)                Output Shape              Param #   \n",
      "=================================================================\n",
      " conv1d (Conv1D)             (None, 2044, 96)          576       \n",
      "                                                                 \n",
      " max_pooling1d (MaxPooling1D  (None, 1022, 96)         0         \n",
      " )                                                               \n",
      "                                                                 \n",
      " conv1d_1 (Conv1D)           (None, 1018, 96)          46176     \n",
      "                                                                 \n",
      " max_pooling1d_1 (MaxPooling  (None, 509, 96)          0         \n",
      " 1D)                                                             \n",
      "                                                                 \n",
      " conv1d_2 (Conv1D)           (None, 505, 96)           46176     \n",
      "                                                                 \n",
      " max_pooling1d_2 (MaxPooling  (None, 252, 96)          0         \n",
      " 1D)                                                             \n",
      "                                                                 \n",
      " dropout (Dropout)           (None, 252, 96)           0         \n",
      "                                                                 \n",
      " flatten (Flatten)           (None, 24192)             0         \n",
      "                                                                 \n",
      " dense (Dense)               (None, 64)                1548352   \n",
      "                                                                 \n",
      " dropout_1 (Dropout)         (None, 64)                0         \n",
      "                                                                 \n",
      " dense_1 (Dense)             (None, 12)                780       \n",
      "                                                                 \n",
      "=================================================================\n",
      "Total params: 1,642,060\n",
      "Trainable params: 1,642,060\n",
      "Non-trainable params: 0\n",
      "_________________________________________________________________\n"
     ]
    },
    {
     "name": "stderr",
     "output_type": "stream",
     "text": [
      "WARNING:absl:Found untraced functions such as _jit_compiled_convolution_op, _jit_compiled_convolution_op, _jit_compiled_convolution_op, _update_step_xla while saving (showing 4 of 4). These functions will not be directly callable after loading.\n"
     ]
    },
    {
     "name": "stdout",
     "output_type": "stream",
     "text": [
      "INFO:tensorflow:Assets written to: compiled_models\\tuned\\opt_morgan_model\\assets\n"
     ]
    },
    {
     "name": "stderr",
     "output_type": "stream",
     "text": [
      "INFO:tensorflow:Assets written to: compiled_models\\tuned\\opt_morgan_model\\assets\n"
     ]
    }
   ],
   "source": [
    "tuned_model = tuner.get_best_models(num_models=1)[0]\n",
    "tuned_model.summary()\n",
    "tuned_model.save(os.path.join('compiled_models','tuned', 'opt_morgan_model'))"
   ]
  },
  {
   "attachments": {},
   "cell_type": "markdown",
   "metadata": {},
   "source": [
    "### Fit model and choose number of epochs"
   ]
  },
  {
   "attachments": {},
   "cell_type": "markdown",
   "metadata": {},
   "source": [
    "Set EarlyStopping and ModelCheckpoint to select a model with the optimal number of epochs"
   ]
  },
  {
   "cell_type": "code",
   "execution_count": 59,
   "metadata": {},
   "outputs": [
    {
     "name": "stdout",
     "output_type": "stream",
     "text": [
      "Epoch 1/200\n",
      "31/31 [==============================] - 127s 4s/step - loss: 0.1586 - accuracy: 0.3376 - val_loss: 0.7066 - val_accuracy: 0.3687\n",
      "Epoch 2/200\n",
      "31/31 [==============================] - 120s 4s/step - loss: 0.1544 - accuracy: 0.3420 - val_loss: 0.6690 - val_accuracy: 0.3615\n",
      "Epoch 3/200\n",
      "31/31 [==============================] - 117s 4s/step - loss: 0.1474 - accuracy: 0.3387 - val_loss: 0.7162 - val_accuracy: 0.3625\n",
      "Epoch 4/200\n",
      "31/31 [==============================] - 118s 4s/step - loss: 0.1549 - accuracy: 0.3420 - val_loss: 0.6772 - val_accuracy: 0.3563\n",
      "Epoch 5/200\n",
      "31/31 [==============================] - 116s 4s/step - loss: 0.1427 - accuracy: 0.3399 - val_loss: 0.6926 - val_accuracy: 0.3563\n",
      "Epoch 6/200\n",
      "31/31 [==============================] - 104s 3s/step - loss: 0.1481 - accuracy: 0.3392 - val_loss: 0.7074 - val_accuracy: 0.3615\n",
      "Epoch 7/200\n",
      "31/31 [==============================] - 106s 3s/step - loss: 0.1503 - accuracy: 0.3376 - val_loss: 0.6908 - val_accuracy: 0.3584\n",
      "Epoch 8/200\n",
      "31/31 [==============================] - 122s 4s/step - loss: 0.1570 - accuracy: 0.3412 - val_loss: 0.7027 - val_accuracy: 0.3646\n",
      "Epoch 9/200\n",
      "31/31 [==============================] - 118s 4s/step - loss: 0.1599 - accuracy: 0.3410 - val_loss: 0.6666 - val_accuracy: 0.3594\n",
      "Epoch 10/200\n",
      "31/31 [==============================] - 113s 4s/step - loss: 0.1513 - accuracy: 0.3374 - val_loss: 0.6882 - val_accuracy: 0.3615\n",
      "Epoch 11/200\n",
      "31/31 [==============================] - 104s 3s/step - loss: 0.1538 - accuracy: 0.3420 - val_loss: 0.7453 - val_accuracy: 0.3646\n",
      "Epoch 12/200\n",
      "31/31 [==============================] - 117s 4s/step - loss: 0.1544 - accuracy: 0.3415 - val_loss: 0.6904 - val_accuracy: 0.3584\n",
      "Epoch 13/200\n",
      "31/31 [==============================] - 105s 3s/step - loss: 0.1463 - accuracy: 0.3369 - val_loss: 0.6994 - val_accuracy: 0.3697\n",
      "Epoch 14/200\n",
      "31/31 [==============================] - 124s 4s/step - loss: 0.1316 - accuracy: 0.3451 - val_loss: 0.7423 - val_accuracy: 0.3605\n",
      "Epoch 15/200\n",
      "31/31 [==============================] - 116s 4s/step - loss: 0.1398 - accuracy: 0.3417 - val_loss: 0.8292 - val_accuracy: 0.3677\n",
      "Epoch 16/200\n",
      "31/31 [==============================] - 118s 4s/step - loss: 0.1373 - accuracy: 0.3412 - val_loss: 0.7124 - val_accuracy: 0.3605\n",
      "Epoch 17/200\n",
      "31/31 [==============================] - 118s 4s/step - loss: 0.1381 - accuracy: 0.3410 - val_loss: 0.7811 - val_accuracy: 0.3605\n",
      "Epoch 18/200\n",
      "31/31 [==============================] - 115s 4s/step - loss: 0.1373 - accuracy: 0.3407 - val_loss: 0.7900 - val_accuracy: 0.3625\n",
      "Epoch 19/200\n",
      "31/31 [==============================] - 120s 4s/step - loss: 0.1428 - accuracy: 0.3387 - val_loss: 0.7477 - val_accuracy: 0.3574\n",
      "Epoch 20/200\n",
      "31/31 [==============================] - 119s 4s/step - loss: 0.1332 - accuracy: 0.3443 - val_loss: 0.7505 - val_accuracy: 0.3532\n",
      "Epoch 21/200\n",
      "31/31 [==============================] - 110s 4s/step - loss: 0.1365 - accuracy: 0.3405 - val_loss: 0.7591 - val_accuracy: 0.3615\n",
      "Epoch 22/200\n",
      "31/31 [==============================] - 122s 4s/step - loss: 0.1176 - accuracy: 0.3435 - val_loss: 0.7937 - val_accuracy: 0.3625\n",
      "Epoch 23/200\n",
      "31/31 [==============================] - 118s 4s/step - loss: 0.1394 - accuracy: 0.3405 - val_loss: 0.8143 - val_accuracy: 0.3625\n",
      "Epoch 24/200\n",
      "31/31 [==============================] - 117s 4s/step - loss: 0.1344 - accuracy: 0.3405 - val_loss: 0.8246 - val_accuracy: 0.3584\n",
      "Epoch 25/200\n",
      "31/31 [==============================] - 115s 4s/step - loss: 0.1494 - accuracy: 0.3399 - val_loss: 0.7078 - val_accuracy: 0.3553\n",
      "Epoch 26/200\n",
      "31/31 [==============================] - 136s 4s/step - loss: 0.1290 - accuracy: 0.3423 - val_loss: 0.8350 - val_accuracy: 0.3553\n",
      "Epoch 27/200\n",
      "31/31 [==============================] - 120s 4s/step - loss: 0.1328 - accuracy: 0.3397 - val_loss: 0.8459 - val_accuracy: 0.3594\n",
      "Epoch 28/200\n",
      "31/31 [==============================] - 124s 4s/step - loss: 0.1124 - accuracy: 0.3430 - val_loss: 0.8032 - val_accuracy: 0.3584\n",
      "Epoch 29/200\n",
      "31/31 [==============================] - 109s 4s/step - loss: 0.1154 - accuracy: 0.3423 - val_loss: 0.8186 - val_accuracy: 0.3656\n",
      "Epoch 30/200\n",
      "31/31 [==============================] - 119s 4s/step - loss: 0.1105 - accuracy: 0.3410 - val_loss: 0.8585 - val_accuracy: 0.3574\n",
      "Epoch 31/200\n",
      "31/31 [==============================] - 118s 4s/step - loss: 0.1317 - accuracy: 0.3417 - val_loss: 0.7965 - val_accuracy: 0.3646\n",
      "Epoch 32/200\n",
      "31/31 [==============================] - 106s 3s/step - loss: 0.1249 - accuracy: 0.3415 - val_loss: 0.8104 - val_accuracy: 0.3687\n",
      "Epoch 33/200\n",
      "31/31 [==============================] - 110s 3s/step - loss: 0.1166 - accuracy: 0.3454 - val_loss: 0.8615 - val_accuracy: 0.3543\n",
      "Epoch 34/200\n",
      "31/31 [==============================] - 121s 4s/step - loss: 0.1308 - accuracy: 0.3381 - val_loss: 0.7721 - val_accuracy: 0.3574\n",
      "Epoch 35/200\n",
      "31/31 [==============================] - 115s 4s/step - loss: 0.1078 - accuracy: 0.3430 - val_loss: 0.9030 - val_accuracy: 0.3666\n",
      "Epoch 36/200\n",
      "31/31 [==============================] - 108s 3s/step - loss: 0.1185 - accuracy: 0.3425 - val_loss: 0.8650 - val_accuracy: 0.3615\n",
      "Epoch 37/200\n",
      "31/31 [==============================] - 121s 4s/step - loss: 0.1127 - accuracy: 0.3405 - val_loss: 0.9380 - val_accuracy: 0.3635\n",
      "Epoch 38/200\n",
      "31/31 [==============================] - 106s 3s/step - loss: 0.1266 - accuracy: 0.3399 - val_loss: 0.8465 - val_accuracy: 0.3646\n",
      "Epoch 39/200\n",
      "31/31 [==============================] - 122s 4s/step - loss: 0.1144 - accuracy: 0.3430 - val_loss: 0.8478 - val_accuracy: 0.3522\n",
      "Epoch 40/200\n",
      "31/31 [==============================] - 93s 3s/step - loss: 0.1141 - accuracy: 0.3402 - val_loss: 0.9303 - val_accuracy: 0.3646\n",
      "Epoch 41/200\n",
      "31/31 [==============================] - 77s 2s/step - loss: 0.1249 - accuracy: 0.3472 - val_loss: 0.8436 - val_accuracy: 0.3605\n",
      "Epoch 42/200\n",
      "31/31 [==============================] - 77s 2s/step - loss: 0.1307 - accuracy: 0.3402 - val_loss: 0.8184 - val_accuracy: 0.3615\n",
      "Epoch 43/200\n",
      "31/31 [==============================] - 77s 2s/step - loss: 0.1187 - accuracy: 0.3435 - val_loss: 0.8906 - val_accuracy: 0.3563\n",
      "Epoch 44/200\n",
      "31/31 [==============================] - 76s 2s/step - loss: 0.1285 - accuracy: 0.3392 - val_loss: 0.8816 - val_accuracy: 0.3584\n",
      "Epoch 45/200\n",
      "31/31 [==============================] - 77s 2s/step - loss: 0.1196 - accuracy: 0.3392 - val_loss: 0.8904 - val_accuracy: 0.3666\n",
      "Epoch 46/200\n",
      "31/31 [==============================] - 76s 2s/step - loss: 0.1131 - accuracy: 0.3425 - val_loss: 0.8526 - val_accuracy: 0.3625\n",
      "Epoch 47/200\n",
      "31/31 [==============================] - 76s 2s/step - loss: 0.1199 - accuracy: 0.3425 - val_loss: 0.9212 - val_accuracy: 0.3718\n",
      "Epoch 48/200\n",
      "31/31 [==============================] - 76s 2s/step - loss: 0.1156 - accuracy: 0.3407 - val_loss: 0.9579 - val_accuracy: 0.3708\n",
      "Epoch 49/200\n",
      "31/31 [==============================] - 77s 2s/step - loss: 0.1357 - accuracy: 0.3433 - val_loss: 0.8336 - val_accuracy: 0.3646\n",
      "Epoch 50/200\n",
      "31/31 [==============================] - 76s 2s/step - loss: 0.1160 - accuracy: 0.3428 - val_loss: 0.8700 - val_accuracy: 0.3594\n",
      "Epoch 51/200\n",
      "31/31 [==============================] - 76s 2s/step - loss: 0.1133 - accuracy: 0.3397 - val_loss: 0.9068 - val_accuracy: 0.3666\n",
      "Epoch 52/200\n",
      "31/31 [==============================] - 77s 2s/step - loss: 0.1071 - accuracy: 0.3399 - val_loss: 0.8698 - val_accuracy: 0.3646\n",
      "Epoch 53/200\n",
      "31/31 [==============================] - 75s 2s/step - loss: 0.1226 - accuracy: 0.3430 - val_loss: 0.8641 - val_accuracy: 0.3738\n",
      "Epoch 54/200\n",
      "31/31 [==============================] - 77s 2s/step - loss: 0.1104 - accuracy: 0.3407 - val_loss: 0.9397 - val_accuracy: 0.3677\n",
      "Epoch 55/200\n",
      "31/31 [==============================] - 76s 2s/step - loss: 0.1131 - accuracy: 0.3433 - val_loss: 0.8907 - val_accuracy: 0.3635\n",
      "Epoch 56/200\n",
      "31/31 [==============================] - 77s 2s/step - loss: 0.0991 - accuracy: 0.3394 - val_loss: 0.9135 - val_accuracy: 0.3656\n",
      "Epoch 57/200\n",
      "31/31 [==============================] - 76s 2s/step - loss: 0.1074 - accuracy: 0.3410 - val_loss: 0.9529 - val_accuracy: 0.3646\n",
      "Epoch 58/200\n",
      "31/31 [==============================] - 76s 2s/step - loss: 0.1178 - accuracy: 0.3435 - val_loss: 0.8903 - val_accuracy: 0.3677\n",
      "Epoch 59/200\n",
      "31/31 [==============================] - 76s 2s/step - loss: 0.1137 - accuracy: 0.3407 - val_loss: 0.9598 - val_accuracy: 0.3677\n",
      "Epoch 60/200\n",
      "31/31 [==============================] - 76s 2s/step - loss: 0.1104 - accuracy: 0.3405 - val_loss: 0.9087 - val_accuracy: 0.3656\n",
      "Epoch 61/200\n",
      "31/31 [==============================] - 76s 2s/step - loss: 0.1170 - accuracy: 0.3428 - val_loss: 0.9052 - val_accuracy: 0.3687\n",
      "Epoch 62/200\n",
      "31/31 [==============================] - 77s 2s/step - loss: 0.1011 - accuracy: 0.3407 - val_loss: 0.9359 - val_accuracy: 0.3708\n",
      "Epoch 63/200\n",
      "31/31 [==============================] - 76s 2s/step - loss: 0.0979 - accuracy: 0.3438 - val_loss: 0.9688 - val_accuracy: 0.3625\n",
      "Epoch 64/200\n",
      "31/31 [==============================] - 76s 2s/step - loss: 0.1079 - accuracy: 0.3415 - val_loss: 0.8847 - val_accuracy: 0.3584\n",
      "Epoch 65/200\n",
      "31/31 [==============================] - 76s 2s/step - loss: 0.1071 - accuracy: 0.3407 - val_loss: 0.9757 - val_accuracy: 0.3697\n",
      "Epoch 66/200\n",
      "31/31 [==============================] - 77s 2s/step - loss: 0.1061 - accuracy: 0.3441 - val_loss: 0.9460 - val_accuracy: 0.3646\n",
      "Epoch 67/200\n",
      "31/31 [==============================] - 76s 2s/step - loss: 0.1057 - accuracy: 0.3420 - val_loss: 0.9409 - val_accuracy: 0.3687\n",
      "Epoch 68/200\n",
      "31/31 [==============================] - 77s 2s/step - loss: 0.0936 - accuracy: 0.3433 - val_loss: 0.9206 - val_accuracy: 0.3625\n",
      "Epoch 69/200\n",
      "31/31 [==============================] - 75s 2s/step - loss: 0.1014 - accuracy: 0.3397 - val_loss: 0.9810 - val_accuracy: 0.3605\n",
      "Epoch 70/200\n",
      "31/31 [==============================] - 77s 2s/step - loss: 0.0975 - accuracy: 0.3430 - val_loss: 0.9803 - val_accuracy: 0.3625\n",
      "Epoch 71/200\n",
      "31/31 [==============================] - 76s 2s/step - loss: 0.0972 - accuracy: 0.3438 - val_loss: 0.9621 - val_accuracy: 0.3635\n",
      "Epoch 72/200\n",
      "31/31 [==============================] - 76s 2s/step - loss: 0.0958 - accuracy: 0.3407 - val_loss: 0.9127 - val_accuracy: 0.3635\n",
      "Epoch 73/200\n",
      "31/31 [==============================] - 76s 2s/step - loss: 0.0943 - accuracy: 0.3425 - val_loss: 0.9686 - val_accuracy: 0.3646\n",
      "Epoch 74/200\n",
      "31/31 [==============================] - 77s 2s/step - loss: 0.0956 - accuracy: 0.3423 - val_loss: 1.0111 - val_accuracy: 0.3656\n",
      "Epoch 75/200\n",
      "31/31 [==============================] - 77s 2s/step - loss: 0.1027 - accuracy: 0.3410 - val_loss: 0.8987 - val_accuracy: 0.3584\n",
      "Epoch 76/200\n",
      "31/31 [==============================] - 76s 2s/step - loss: 0.0957 - accuracy: 0.3423 - val_loss: 0.9714 - val_accuracy: 0.3605\n",
      "Epoch 77/200\n",
      "31/31 [==============================] - 76s 2s/step - loss: 0.0942 - accuracy: 0.3423 - val_loss: 0.9982 - val_accuracy: 0.3625\n",
      "Epoch 78/200\n",
      "31/31 [==============================] - 76s 2s/step - loss: 0.0988 - accuracy: 0.3389 - val_loss: 1.0325 - val_accuracy: 0.3635\n",
      "Epoch 79/200\n",
      "31/31 [==============================] - 77s 2s/step - loss: 0.1022 - accuracy: 0.3415 - val_loss: 0.9248 - val_accuracy: 0.3666\n",
      "Epoch 80/200\n",
      "31/31 [==============================] - 77s 2s/step - loss: 0.1022 - accuracy: 0.3417 - val_loss: 1.0238 - val_accuracy: 0.3759\n",
      "Epoch 81/200\n",
      "31/31 [==============================] - 77s 2s/step - loss: 0.0969 - accuracy: 0.3430 - val_loss: 1.0380 - val_accuracy: 0.3728\n",
      "Epoch 82/200\n",
      "31/31 [==============================] - 80s 3s/step - loss: 0.0818 - accuracy: 0.3441 - val_loss: 1.1184 - val_accuracy: 0.3697\n",
      "Epoch 83/200\n",
      "31/31 [==============================] - 77s 2s/step - loss: 0.0976 - accuracy: 0.3405 - val_loss: 0.9726 - val_accuracy: 0.3646\n",
      "Epoch 84/200\n",
      "31/31 [==============================] - 77s 2s/step - loss: 0.0906 - accuracy: 0.3425 - val_loss: 1.0052 - val_accuracy: 0.3708\n",
      "Epoch 85/200\n",
      "31/31 [==============================] - 76s 2s/step - loss: 0.0900 - accuracy: 0.3415 - val_loss: 1.0344 - val_accuracy: 0.3605\n",
      "Epoch 86/200\n",
      "31/31 [==============================] - 78s 3s/step - loss: 0.0967 - accuracy: 0.3428 - val_loss: 0.9531 - val_accuracy: 0.3594\n",
      "Epoch 87/200\n",
      "31/31 [==============================] - 77s 2s/step - loss: 0.0998 - accuracy: 0.3428 - val_loss: 0.9631 - val_accuracy: 0.3697\n",
      "Epoch 88/200\n",
      "31/31 [==============================] - 77s 2s/step - loss: 0.0914 - accuracy: 0.3420 - val_loss: 1.0060 - val_accuracy: 0.3656\n",
      "Epoch 89/200\n",
      "31/31 [==============================] - 76s 2s/step - loss: 0.0901 - accuracy: 0.3425 - val_loss: 1.0680 - val_accuracy: 0.3646\n",
      "Epoch 90/200\n",
      "31/31 [==============================] - 77s 2s/step - loss: 0.0953 - accuracy: 0.3402 - val_loss: 1.0107 - val_accuracy: 0.3687\n",
      "Epoch 91/200\n",
      "31/31 [==============================] - 77s 2s/step - loss: 0.0920 - accuracy: 0.3425 - val_loss: 0.9973 - val_accuracy: 0.3646\n",
      "Epoch 92/200\n",
      "31/31 [==============================] - 76s 2s/step - loss: 0.0864 - accuracy: 0.3425 - val_loss: 1.0525 - val_accuracy: 0.3697\n",
      "Epoch 93/200\n",
      "31/31 [==============================] - 77s 2s/step - loss: 0.0981 - accuracy: 0.3415 - val_loss: 0.9751 - val_accuracy: 0.3708\n",
      "Epoch 94/200\n",
      "31/31 [==============================] - 76s 2s/step - loss: 0.0905 - accuracy: 0.3438 - val_loss: 1.0349 - val_accuracy: 0.3646\n",
      "Epoch 95/200\n",
      "31/31 [==============================] - 78s 3s/step - loss: 0.0924 - accuracy: 0.3438 - val_loss: 1.1086 - val_accuracy: 0.3646\n",
      "Epoch 96/200\n",
      "31/31 [==============================] - 76s 2s/step - loss: 0.0875 - accuracy: 0.3415 - val_loss: 1.0680 - val_accuracy: 0.3666\n",
      "Epoch 97/200\n",
      "31/31 [==============================] - 79s 3s/step - loss: 0.0901 - accuracy: 0.3412 - val_loss: 1.0777 - val_accuracy: 0.3677\n",
      "Epoch 98/200\n",
      "31/31 [==============================] - 77s 2s/step - loss: 0.0911 - accuracy: 0.3448 - val_loss: 0.9864 - val_accuracy: 0.3666\n",
      "Epoch 99/200\n",
      "31/31 [==============================] - 77s 2s/step - loss: 0.0983 - accuracy: 0.3407 - val_loss: 1.0046 - val_accuracy: 0.3625\n",
      "Epoch 100/200\n",
      "31/31 [==============================] - 76s 2s/step - loss: 0.0794 - accuracy: 0.3417 - val_loss: 1.1211 - val_accuracy: 0.3605\n",
      "Epoch 101/200\n",
      "31/31 [==============================] - 77s 3s/step - loss: 0.0912 - accuracy: 0.3430 - val_loss: 1.0688 - val_accuracy: 0.3615\n",
      "Epoch 102/200\n",
      "31/31 [==============================] - 76s 2s/step - loss: 0.0847 - accuracy: 0.3417 - val_loss: 1.0204 - val_accuracy: 0.3574\n",
      "Epoch 103/200\n",
      "31/31 [==============================] - 78s 3s/step - loss: 0.0941 - accuracy: 0.3438 - val_loss: 1.0522 - val_accuracy: 0.3574\n",
      "Epoch 104/200\n",
      "31/31 [==============================] - 76s 2s/step - loss: 0.0896 - accuracy: 0.3394 - val_loss: 1.0010 - val_accuracy: 0.3646\n",
      "Epoch 105/200\n",
      "31/31 [==============================] - 76s 2s/step - loss: 0.0882 - accuracy: 0.3428 - val_loss: 1.0021 - val_accuracy: 0.3625\n",
      "Epoch 106/200\n",
      "31/31 [==============================] - 76s 2s/step - loss: 0.1004 - accuracy: 0.3412 - val_loss: 0.9058 - val_accuracy: 0.3532\n",
      "Epoch 107/200\n",
      "31/31 [==============================] - 77s 2s/step - loss: 0.0865 - accuracy: 0.3397 - val_loss: 1.0858 - val_accuracy: 0.3594\n",
      "Epoch 108/200\n",
      "31/31 [==============================] - 75s 2s/step - loss: 0.0914 - accuracy: 0.3420 - val_loss: 1.0561 - val_accuracy: 0.3502\n",
      "Epoch 109/200\n",
      "31/31 [==============================] - 77s 2s/step - loss: 0.0853 - accuracy: 0.3435 - val_loss: 1.0456 - val_accuracy: 0.3574\n",
      "Epoch 110/200\n",
      "31/31 [==============================] - 76s 2s/step - loss: 0.0744 - accuracy: 0.3410 - val_loss: 1.1496 - val_accuracy: 0.3543\n",
      "Epoch 111/200\n",
      "31/31 [==============================] - 77s 2s/step - loss: 0.0876 - accuracy: 0.3402 - val_loss: 1.0608 - val_accuracy: 0.3615\n",
      "Epoch 112/200\n",
      "31/31 [==============================] - 77s 2s/step - loss: 0.0826 - accuracy: 0.3428 - val_loss: 1.0798 - val_accuracy: 0.3677\n",
      "Epoch 113/200\n",
      "31/31 [==============================] - 76s 2s/step - loss: 0.0917 - accuracy: 0.3420 - val_loss: 1.0573 - val_accuracy: 0.3625\n",
      "Epoch 114/200\n",
      "31/31 [==============================] - 77s 3s/step - loss: 0.0928 - accuracy: 0.3433 - val_loss: 0.9927 - val_accuracy: 0.3718\n",
      "Epoch 115/200\n",
      "31/31 [==============================] - 78s 3s/step - loss: 0.0884 - accuracy: 0.3441 - val_loss: 1.0767 - val_accuracy: 0.3769\n",
      "Epoch 116/200\n",
      "31/31 [==============================] - 77s 2s/step - loss: 0.0913 - accuracy: 0.3392 - val_loss: 0.9791 - val_accuracy: 0.3687\n",
      "Epoch 117/200\n",
      "31/31 [==============================] - 76s 2s/step - loss: 0.0801 - accuracy: 0.3423 - val_loss: 1.0187 - val_accuracy: 0.3646\n",
      "Epoch 118/200\n",
      "31/31 [==============================] - 77s 2s/step - loss: 0.0810 - accuracy: 0.3438 - val_loss: 1.0911 - val_accuracy: 0.3594\n",
      "Epoch 119/200\n",
      "31/31 [==============================] - 76s 2s/step - loss: 0.0874 - accuracy: 0.3389 - val_loss: 0.9994 - val_accuracy: 0.3749\n",
      "Epoch 120/200\n",
      "31/31 [==============================] - 77s 2s/step - loss: 0.0820 - accuracy: 0.3423 - val_loss: 1.1147 - val_accuracy: 0.3687\n",
      "Epoch 121/200\n",
      "31/31 [==============================] - 77s 3s/step - loss: 0.0906 - accuracy: 0.3428 - val_loss: 1.0337 - val_accuracy: 0.3646\n",
      "Epoch 122/200\n",
      "22/31 [====================>.........] - ETA: 24s - loss: 0.0927 - accuracy: 0.3370"
     ]
    },
    {
     "ename": "KeyboardInterrupt",
     "evalue": "",
     "output_type": "error",
     "traceback": [
      "\u001b[1;31m---------------------------------------------------------------------------\u001b[0m",
      "\u001b[1;31mKeyboardInterrupt\u001b[0m                         Traceback (most recent call last)",
      "Cell \u001b[1;32mIn[59], line 6\u001b[0m\n\u001b[0;32m      3\u001b[0m mc \u001b[39m=\u001b[39m ModelCheckpoint(filepath \u001b[39m=\u001b[39m os\u001b[39m.\u001b[39mpath\u001b[39m.\u001b[39mjoin(\u001b[39m'\u001b[39m\u001b[39mcompiled_models\u001b[39m\u001b[39m'\u001b[39m,\u001b[39m'\u001b[39m\u001b[39mcheckpoints\u001b[39m\u001b[39m'\u001b[39m, \u001b[39m'\u001b[39m\u001b[39m{epoch:02d}\u001b[39;00m\u001b[39m-\u001b[39m\u001b[39m{val_accuracy:.3f}\u001b[39;00m\u001b[39m.hdf5\u001b[39m\u001b[39m'\u001b[39m), monitor \u001b[39m=\u001b[39m \u001b[39m'\u001b[39m\u001b[39mval_loss\u001b[39m\u001b[39m'\u001b[39m, save_best_only \u001b[39m=\u001b[39m \u001b[39mTrue\u001b[39;00m)\n\u001b[0;32m      5\u001b[0m \u001b[39m# Fit the model\u001b[39;00m\n\u001b[1;32m----> 6\u001b[0m history \u001b[39m=\u001b[39m tuned_model\u001b[39m.\u001b[39;49mfit(x_train, y_train, epochs\u001b[39m=\u001b[39;49m\u001b[39m200\u001b[39;49m, batch_size\u001b[39m=\u001b[39;49m\u001b[39m128\u001b[39;49m, verbose\u001b[39m=\u001b[39;49m\u001b[39m1\u001b[39;49m, validation_split \u001b[39m=\u001b[39;49m \u001b[39m0.2\u001b[39;49m,  callbacks \u001b[39m=\u001b[39;49m [mc]) \u001b[39m#initial_epoch=3,\u001b[39;00m\n\u001b[0;32m      8\u001b[0m \u001b[39m# Evaluate the model\u001b[39;00m\n\u001b[0;32m      9\u001b[0m loss, acc \u001b[39m=\u001b[39m tuned_model\u001b[39m.\u001b[39mevaluate(x_test, y_test, verbose\u001b[39m=\u001b[39m\u001b[39m1\u001b[39m)\n",
      "File \u001b[1;32mc:\\Users\\josin\\anaconda3\\envs\\kedro-environment\\lib\\site-packages\\keras\\utils\\traceback_utils.py:65\u001b[0m, in \u001b[0;36mfilter_traceback.<locals>.error_handler\u001b[1;34m(*args, **kwargs)\u001b[0m\n\u001b[0;32m     63\u001b[0m filtered_tb \u001b[39m=\u001b[39m \u001b[39mNone\u001b[39;00m\n\u001b[0;32m     64\u001b[0m \u001b[39mtry\u001b[39;00m:\n\u001b[1;32m---> 65\u001b[0m     \u001b[39mreturn\u001b[39;00m fn(\u001b[39m*\u001b[39margs, \u001b[39m*\u001b[39m\u001b[39m*\u001b[39mkwargs)\n\u001b[0;32m     66\u001b[0m \u001b[39mexcept\u001b[39;00m \u001b[39mException\u001b[39;00m \u001b[39mas\u001b[39;00m e:\n\u001b[0;32m     67\u001b[0m     filtered_tb \u001b[39m=\u001b[39m _process_traceback_frames(e\u001b[39m.\u001b[39m__traceback__)\n",
      "File \u001b[1;32mc:\\Users\\josin\\anaconda3\\envs\\kedro-environment\\lib\\site-packages\\keras\\engine\\training.py:1685\u001b[0m, in \u001b[0;36mModel.fit\u001b[1;34m(self, x, y, batch_size, epochs, verbose, callbacks, validation_split, validation_data, shuffle, class_weight, sample_weight, initial_epoch, steps_per_epoch, validation_steps, validation_batch_size, validation_freq, max_queue_size, workers, use_multiprocessing)\u001b[0m\n\u001b[0;32m   1677\u001b[0m \u001b[39mwith\u001b[39;00m tf\u001b[39m.\u001b[39mprofiler\u001b[39m.\u001b[39mexperimental\u001b[39m.\u001b[39mTrace(\n\u001b[0;32m   1678\u001b[0m     \u001b[39m\"\u001b[39m\u001b[39mtrain\u001b[39m\u001b[39m\"\u001b[39m,\n\u001b[0;32m   1679\u001b[0m     epoch_num\u001b[39m=\u001b[39mepoch,\n\u001b[1;32m   (...)\u001b[0m\n\u001b[0;32m   1682\u001b[0m     _r\u001b[39m=\u001b[39m\u001b[39m1\u001b[39m,\n\u001b[0;32m   1683\u001b[0m ):\n\u001b[0;32m   1684\u001b[0m     callbacks\u001b[39m.\u001b[39mon_train_batch_begin(step)\n\u001b[1;32m-> 1685\u001b[0m     tmp_logs \u001b[39m=\u001b[39m \u001b[39mself\u001b[39;49m\u001b[39m.\u001b[39;49mtrain_function(iterator)\n\u001b[0;32m   1686\u001b[0m     \u001b[39mif\u001b[39;00m data_handler\u001b[39m.\u001b[39mshould_sync:\n\u001b[0;32m   1687\u001b[0m         context\u001b[39m.\u001b[39masync_wait()\n",
      "File \u001b[1;32mc:\\Users\\josin\\anaconda3\\envs\\kedro-environment\\lib\\site-packages\\tensorflow\\python\\util\\traceback_utils.py:150\u001b[0m, in \u001b[0;36mfilter_traceback.<locals>.error_handler\u001b[1;34m(*args, **kwargs)\u001b[0m\n\u001b[0;32m    148\u001b[0m filtered_tb \u001b[39m=\u001b[39m \u001b[39mNone\u001b[39;00m\n\u001b[0;32m    149\u001b[0m \u001b[39mtry\u001b[39;00m:\n\u001b[1;32m--> 150\u001b[0m   \u001b[39mreturn\u001b[39;00m fn(\u001b[39m*\u001b[39margs, \u001b[39m*\u001b[39m\u001b[39m*\u001b[39mkwargs)\n\u001b[0;32m    151\u001b[0m \u001b[39mexcept\u001b[39;00m \u001b[39mException\u001b[39;00m \u001b[39mas\u001b[39;00m e:\n\u001b[0;32m    152\u001b[0m   filtered_tb \u001b[39m=\u001b[39m _process_traceback_frames(e\u001b[39m.\u001b[39m__traceback__)\n",
      "File \u001b[1;32mc:\\Users\\josin\\anaconda3\\envs\\kedro-environment\\lib\\site-packages\\tensorflow\\python\\eager\\polymorphic_function\\polymorphic_function.py:894\u001b[0m, in \u001b[0;36mFunction.__call__\u001b[1;34m(self, *args, **kwds)\u001b[0m\n\u001b[0;32m    891\u001b[0m compiler \u001b[39m=\u001b[39m \u001b[39m\"\u001b[39m\u001b[39mxla\u001b[39m\u001b[39m\"\u001b[39m \u001b[39mif\u001b[39;00m \u001b[39mself\u001b[39m\u001b[39m.\u001b[39m_jit_compile \u001b[39melse\u001b[39;00m \u001b[39m\"\u001b[39m\u001b[39mnonXla\u001b[39m\u001b[39m\"\u001b[39m\n\u001b[0;32m    893\u001b[0m \u001b[39mwith\u001b[39;00m OptionalXlaContext(\u001b[39mself\u001b[39m\u001b[39m.\u001b[39m_jit_compile):\n\u001b[1;32m--> 894\u001b[0m   result \u001b[39m=\u001b[39m \u001b[39mself\u001b[39m\u001b[39m.\u001b[39m_call(\u001b[39m*\u001b[39margs, \u001b[39m*\u001b[39m\u001b[39m*\u001b[39mkwds)\n\u001b[0;32m    896\u001b[0m new_tracing_count \u001b[39m=\u001b[39m \u001b[39mself\u001b[39m\u001b[39m.\u001b[39mexperimental_get_tracing_count()\n\u001b[0;32m    897\u001b[0m without_tracing \u001b[39m=\u001b[39m (tracing_count \u001b[39m==\u001b[39m new_tracing_count)\n",
      "File \u001b[1;32mc:\\Users\\josin\\anaconda3\\envs\\kedro-environment\\lib\\site-packages\\tensorflow\\python\\eager\\polymorphic_function\\polymorphic_function.py:926\u001b[0m, in \u001b[0;36mFunction._call\u001b[1;34m(self, *args, **kwds)\u001b[0m\n\u001b[0;32m    923\u001b[0m   \u001b[39mself\u001b[39m\u001b[39m.\u001b[39m_lock\u001b[39m.\u001b[39mrelease()\n\u001b[0;32m    924\u001b[0m   \u001b[39m# In this case we have created variables on the first call, so we run the\u001b[39;00m\n\u001b[0;32m    925\u001b[0m   \u001b[39m# defunned version which is guaranteed to never create variables.\u001b[39;00m\n\u001b[1;32m--> 926\u001b[0m   \u001b[39mreturn\u001b[39;00m \u001b[39mself\u001b[39m\u001b[39m.\u001b[39m_no_variable_creation_fn(\u001b[39m*\u001b[39margs, \u001b[39m*\u001b[39m\u001b[39m*\u001b[39mkwds)  \u001b[39m# pylint: disable=not-callable\u001b[39;00m\n\u001b[0;32m    927\u001b[0m \u001b[39melif\u001b[39;00m \u001b[39mself\u001b[39m\u001b[39m.\u001b[39m_variable_creation_fn \u001b[39mis\u001b[39;00m \u001b[39mnot\u001b[39;00m \u001b[39mNone\u001b[39;00m:\n\u001b[0;32m    928\u001b[0m   \u001b[39m# Release the lock early so that multiple threads can perform the call\u001b[39;00m\n\u001b[0;32m    929\u001b[0m   \u001b[39m# in parallel.\u001b[39;00m\n\u001b[0;32m    930\u001b[0m   \u001b[39mself\u001b[39m\u001b[39m.\u001b[39m_lock\u001b[39m.\u001b[39mrelease()\n",
      "File \u001b[1;32mc:\\Users\\josin\\anaconda3\\envs\\kedro-environment\\lib\\site-packages\\tensorflow\\python\\eager\\polymorphic_function\\tracing_compiler.py:143\u001b[0m, in \u001b[0;36mTracingCompiler.__call__\u001b[1;34m(self, *args, **kwargs)\u001b[0m\n\u001b[0;32m    140\u001b[0m \u001b[39mwith\u001b[39;00m \u001b[39mself\u001b[39m\u001b[39m.\u001b[39m_lock:\n\u001b[0;32m    141\u001b[0m   (concrete_function,\n\u001b[0;32m    142\u001b[0m    filtered_flat_args) \u001b[39m=\u001b[39m \u001b[39mself\u001b[39m\u001b[39m.\u001b[39m_maybe_define_function(args, kwargs)\n\u001b[1;32m--> 143\u001b[0m \u001b[39mreturn\u001b[39;00m concrete_function\u001b[39m.\u001b[39;49m_call_flat(\n\u001b[0;32m    144\u001b[0m     filtered_flat_args, captured_inputs\u001b[39m=\u001b[39;49mconcrete_function\u001b[39m.\u001b[39;49mcaptured_inputs)\n",
      "File \u001b[1;32mc:\\Users\\josin\\anaconda3\\envs\\kedro-environment\\lib\\site-packages\\tensorflow\\python\\eager\\polymorphic_function\\monomorphic_function.py:1757\u001b[0m, in \u001b[0;36mConcreteFunction._call_flat\u001b[1;34m(self, args, captured_inputs, cancellation_manager)\u001b[0m\n\u001b[0;32m   1753\u001b[0m possible_gradient_type \u001b[39m=\u001b[39m gradients_util\u001b[39m.\u001b[39mPossibleTapeGradientTypes(args)\n\u001b[0;32m   1754\u001b[0m \u001b[39mif\u001b[39;00m (possible_gradient_type \u001b[39m==\u001b[39m gradients_util\u001b[39m.\u001b[39mPOSSIBLE_GRADIENT_TYPES_NONE\n\u001b[0;32m   1755\u001b[0m     \u001b[39mand\u001b[39;00m executing_eagerly):\n\u001b[0;32m   1756\u001b[0m   \u001b[39m# No tape is watching; skip to running the function.\u001b[39;00m\n\u001b[1;32m-> 1757\u001b[0m   \u001b[39mreturn\u001b[39;00m \u001b[39mself\u001b[39m\u001b[39m.\u001b[39m_build_call_outputs(\u001b[39mself\u001b[39;49m\u001b[39m.\u001b[39;49m_inference_function\u001b[39m.\u001b[39;49mcall(\n\u001b[0;32m   1758\u001b[0m       ctx, args, cancellation_manager\u001b[39m=\u001b[39;49mcancellation_manager))\n\u001b[0;32m   1759\u001b[0m forward_backward \u001b[39m=\u001b[39m \u001b[39mself\u001b[39m\u001b[39m.\u001b[39m_select_forward_and_backward_functions(\n\u001b[0;32m   1760\u001b[0m     args,\n\u001b[0;32m   1761\u001b[0m     possible_gradient_type,\n\u001b[0;32m   1762\u001b[0m     executing_eagerly)\n\u001b[0;32m   1763\u001b[0m forward_function, args_with_tangents \u001b[39m=\u001b[39m forward_backward\u001b[39m.\u001b[39mforward()\n",
      "File \u001b[1;32mc:\\Users\\josin\\anaconda3\\envs\\kedro-environment\\lib\\site-packages\\tensorflow\\python\\eager\\polymorphic_function\\monomorphic_function.py:381\u001b[0m, in \u001b[0;36m_EagerDefinedFunction.call\u001b[1;34m(self, ctx, args, cancellation_manager)\u001b[0m\n\u001b[0;32m    379\u001b[0m \u001b[39mwith\u001b[39;00m _InterpolateFunctionError(\u001b[39mself\u001b[39m):\n\u001b[0;32m    380\u001b[0m   \u001b[39mif\u001b[39;00m cancellation_manager \u001b[39mis\u001b[39;00m \u001b[39mNone\u001b[39;00m:\n\u001b[1;32m--> 381\u001b[0m     outputs \u001b[39m=\u001b[39m execute\u001b[39m.\u001b[39;49mexecute(\n\u001b[0;32m    382\u001b[0m         \u001b[39mstr\u001b[39;49m(\u001b[39mself\u001b[39;49m\u001b[39m.\u001b[39;49msignature\u001b[39m.\u001b[39;49mname),\n\u001b[0;32m    383\u001b[0m         num_outputs\u001b[39m=\u001b[39;49m\u001b[39mself\u001b[39;49m\u001b[39m.\u001b[39;49m_num_outputs,\n\u001b[0;32m    384\u001b[0m         inputs\u001b[39m=\u001b[39;49margs,\n\u001b[0;32m    385\u001b[0m         attrs\u001b[39m=\u001b[39;49mattrs,\n\u001b[0;32m    386\u001b[0m         ctx\u001b[39m=\u001b[39;49mctx)\n\u001b[0;32m    387\u001b[0m   \u001b[39melse\u001b[39;00m:\n\u001b[0;32m    388\u001b[0m     outputs \u001b[39m=\u001b[39m execute\u001b[39m.\u001b[39mexecute_with_cancellation(\n\u001b[0;32m    389\u001b[0m         \u001b[39mstr\u001b[39m(\u001b[39mself\u001b[39m\u001b[39m.\u001b[39msignature\u001b[39m.\u001b[39mname),\n\u001b[0;32m    390\u001b[0m         num_outputs\u001b[39m=\u001b[39m\u001b[39mself\u001b[39m\u001b[39m.\u001b[39m_num_outputs,\n\u001b[1;32m   (...)\u001b[0m\n\u001b[0;32m    393\u001b[0m         ctx\u001b[39m=\u001b[39mctx,\n\u001b[0;32m    394\u001b[0m         cancellation_manager\u001b[39m=\u001b[39mcancellation_manager)\n",
      "File \u001b[1;32mc:\\Users\\josin\\anaconda3\\envs\\kedro-environment\\lib\\site-packages\\tensorflow\\python\\eager\\execute.py:52\u001b[0m, in \u001b[0;36mquick_execute\u001b[1;34m(op_name, num_outputs, inputs, attrs, ctx, name)\u001b[0m\n\u001b[0;32m     50\u001b[0m \u001b[39mtry\u001b[39;00m:\n\u001b[0;32m     51\u001b[0m   ctx\u001b[39m.\u001b[39mensure_initialized()\n\u001b[1;32m---> 52\u001b[0m   tensors \u001b[39m=\u001b[39m pywrap_tfe\u001b[39m.\u001b[39;49mTFE_Py_Execute(ctx\u001b[39m.\u001b[39;49m_handle, device_name, op_name,\n\u001b[0;32m     53\u001b[0m                                       inputs, attrs, num_outputs)\n\u001b[0;32m     54\u001b[0m \u001b[39mexcept\u001b[39;00m core\u001b[39m.\u001b[39m_NotOkStatusException \u001b[39mas\u001b[39;00m e:\n\u001b[0;32m     55\u001b[0m   \u001b[39mif\u001b[39;00m name \u001b[39mis\u001b[39;00m \u001b[39mnot\u001b[39;00m \u001b[39mNone\u001b[39;00m:\n",
      "\u001b[1;31mKeyboardInterrupt\u001b[0m: "
     ]
    }
   ],
   "source": [
    "# Configure early stopping\n",
    "es = EarlyStopping(monitor='val_loss', patience=10)\n",
    "mc = ModelCheckpoint(filepath = os.path.join('compiled_models','checkpoints', '{epoch:02d}-{val_accuracy:.3f}.hdf5'), monitor = 'val_loss', save_best_only = True)\n",
    "\n",
    "# Fit the model\n",
    "history = tuned_model.fit(x_train, y_train, epochs=200, batch_size=128, verbose=1, validation_split = 0.2,  callbacks = [mc]) #initial_epoch=3,\n",
    "\n",
    "# Evaluate the model\n",
    "loss, acc = tuned_model.evaluate(x_test, y_test, verbose=1)"
   ]
  },
  {
   "cell_type": "code",
   "execution_count": 54,
   "metadata": {},
   "outputs": [
    {
     "name": "stdout",
     "output_type": "stream",
     "text": [
      "66/66 [==============================] - 10s 144ms/step\n"
     ]
    }
   ],
   "source": [
    "# Getting test predictions\n",
    "y_pred = tuned_model.predict(x_test)\n",
    "y_pred_list = [argmax(x) for x in y_pred]"
   ]
  },
  {
   "cell_type": "code",
   "execution_count": 55,
   "metadata": {},
   "outputs": [],
   "source": [
    "# Save predictions\n",
    "y_pred_ser = pd.Series(y_pred_list)\n",
    "y_pred_ser.to_pickle(path= os.path.join('predictions', 'y_preds.pkl'))"
   ]
  },
  {
   "attachments": {},
   "cell_type": "markdown",
   "metadata": {},
   "source": [
    "#### Visualization of models accuracy"
   ]
  },
  {
   "cell_type": "code",
   "execution_count": 56,
   "metadata": {},
   "outputs": [
    {
     "name": "stdout",
     "output_type": "stream",
     "text": [
      "              precision    recall  f1-score   support\n",
      "\n",
      "           0       0.96      0.98      0.97       721\n",
      "           1       0.98      0.89      0.93        95\n",
      "           2       0.97      0.96      0.96       372\n",
      "           3       0.91      0.95      0.93       232\n",
      "           4       0.93      0.95      0.94       341\n",
      "           5       1.00      0.93      0.96        27\n",
      "           6       0.96      0.89      0.92        75\n",
      "           7       0.96      0.86      0.91        85\n",
      "           8       0.96      0.91      0.94        56\n",
      "           9       0.97      0.97      0.97        39\n",
      "          10       1.00      0.88      0.93        32\n",
      "          11       1.00      0.67      0.80         6\n",
      "\n",
      "    accuracy                           0.95      2081\n",
      "   macro avg       0.97      0.90      0.93      2081\n",
      "weighted avg       0.95      0.95      0.95      2081\n",
      "\n"
     ]
    }
   ],
   "source": [
    "# 3-layer Precission and recall for every variable\n",
    "print(metrics.classification_report(y_test,y_pred_list))"
   ]
  },
  {
   "cell_type": "code",
   "execution_count": 53,
   "metadata": {},
   "outputs": [
    {
     "data": {
      "image/png": "[encoded data removed]",
      "text/plain": [
       "<Figure size 640x480 with 1 Axes>"
      ]
     },
     "metadata": {},
     "output_type": "display_data"
    }
   ],
   "source": [
    "#Learning curve visualization\n",
    "\n",
    "fig,ax = plt.subplots()\n",
    "plt.style.use('ggplot')\n",
    "\n",
    "epochs = len(history.history['loss'])\n",
    "epoch_values = list(range(epochs))\n",
    "\n",
    "ax.plot(epoch_values, history.history['loss'], label='Training loss')\n",
    "ax.plot(epoch_values, history.history['val_loss'], label='Validation loss')\n",
    "ax.plot(epoch_values, history.history['accuracy'], label='Training accuracy')\n",
    "ax.plot(epoch_values, history.history['val_accuracy'], label='Validation accuracy')\n",
    "\n",
    "ax.set_title('Training loss and accuracy')\n",
    "ax.set_xlabel('Epoch')\n",
    "ax.set_ylabel('Loss/Accuracy')\n",
    "ax.legend()\n",
    "plt.show()"
   ]
  },
  {
   "cell_type": "code",
   "execution_count": 32,
   "metadata": {},
   "outputs": [
    {
     "name": "stdout",
     "output_type": "stream",
     "text": [
      "              precision    recall  f1-score   support\n",
      "\n",
      "           0       0.84      0.90      0.87       382\n",
      "           1       0.83      0.74      0.78        46\n",
      "           2       0.75      0.84      0.79       179\n",
      "           3       0.68      0.78      0.72       126\n",
      "           4       0.72      0.69      0.71       168\n",
      "           5       1.00      0.47      0.64        17\n",
      "           6       0.82      0.79      0.80        42\n",
      "           7       0.86      0.51      0.64        49\n",
      "           8       1.00      0.65      0.78        31\n",
      "           9       0.90      0.86      0.88        21\n",
      "          10       1.00      0.44      0.62        18\n",
      "          11       0.00      0.00      0.00         2\n",
      "\n",
      "    accuracy                           0.79      1081\n",
      "   macro avg       0.78      0.64      0.69      1081\n",
      "weighted avg       0.80      0.79      0.79      1081\n",
      "\n"
     ]
    }
   ],
   "source": [
    "# 2 layer: Precission and recall for every variable\n",
    "print(metrics.classification_report(y_test[1000:],y_pred_list))"
   ]
  },
  {
   "cell_type": "code",
   "execution_count": null,
   "metadata": {},
   "outputs": [],
   "source": []
  }
 ],
 "metadata": {
  "kernelspec": {
   "display_name": "Python 3 (ipykernel)",
   "language": "python",
   "name": "python3"
  },
  "language_info": {
   "codemirror_mode": {
    "name": "ipython",
    "version": 3
   },
   "file_extension": ".py",
   "mimetype": "text/x-python",
   "name": "python",
   "nbconvert_exporter": "python",
   "pygments_lexer": "ipython3",
   "version": "3.10.9"
  }
 },
 "nbformat": 4,
 "nbformat_minor": 2
}
