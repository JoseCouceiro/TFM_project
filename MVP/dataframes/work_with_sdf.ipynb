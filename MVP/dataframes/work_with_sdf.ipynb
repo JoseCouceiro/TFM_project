{
 "cells": [
  {
   "cell_type": "code",
   "execution_count": null,
   "metadata": {},
   "outputs": [],
   "source": [
    "import os\n",
    "import pandas as pd\n",
    "from rdkit import Chem\n",
    "from rdkit.Chem import PandasTools"
   ]
  },
  {
   "cell_type": "code",
   "execution_count": null,
   "metadata": {},
   "outputs": [],
   "source": [
    "frame = PandasTools.LoadSDF(os.path.join(\"..\", \"..\", \"bin\", \"Compound_168000001_168500000.sdf\"),\n",
    "                            smilesName='SMILES',\n",
    "                            molColName='Molecule',\n",
    "                            includeFingerprints=False)\n",
    "\n",
    "#frame.to_csv('..', '..\\bin\\Compound_168000001_168500000.csv')"
   ]
  }
 ],
 "metadata": {
  "language_info": {
   "name": "python"
  },
  "orig_nbformat": 4
 },
 "nbformat": 4,
 "nbformat_minor": 2
}
