{
 "cells": [
  {
   "cell_type": "code",
   "execution_count": 37,
   "metadata": {},
   "outputs": [],
   "source": [
    "import os\n",
    "import pandas as pd"
   ]
  },
  {
   "cell_type": "code",
   "execution_count": 38,
   "metadata": {},
   "outputs": [],
   "source": [
    "drugs_gitter = pd.read_csv(os.path.join('gitter', 'glitter_dataset_label_clean.csv'))\n",
    "drugs_bank = pd.read_csv(os.path.join('drugbank', 'drugbank_dataset_label_clean.csv'))\n",
    "drugs_pubchem = pd.read_csv(os.path.join('pubchem', 'pubchem_dataset_label_clean.csv'))"
   ]
  },
  {
   "cell_type": "code",
   "execution_count": 39,
   "metadata": {},
   "outputs": [
    {
     "name": "stdout",
     "output_type": "stream",
     "text": [
      "<class 'pandas.core.frame.DataFrame'>\n",
      "RangeIndex: 6928 entries, 0 to 6927\n",
      "Data columns (total 8 columns):\n",
      " #   Column              Non-Null Count  Dtype  \n",
      "---  ------              --------------  -----  \n",
      " 0   CID                 6928 non-null   int64  \n",
      " 1   HBondAcceptorCount  6928 non-null   int64  \n",
      " 2   HBondDonorCount     6928 non-null   int64  \n",
      " 3   MolecularWeight     6928 non-null   float64\n",
      " 4   LogP                4761 non-null   float64\n",
      " 5   RuleFive            6928 non-null   int64  \n",
      " 6   IsomericSMILES      6928 non-null   object \n",
      " 7   ATC_Code            6928 non-null   object \n",
      "dtypes: float64(2), int64(4), object(2)\n",
      "memory usage: 433.1+ KB\n"
     ]
    },
    {
     "data": {
      "text/plain": [
       "'gitter'"
      ]
     },
     "metadata": {},
     "output_type": "display_data"
    },
    {
     "data": {
      "text/plain": [
       "None"
      ]
     },
     "metadata": {},
     "output_type": "display_data"
    },
    {
     "name": "stdout",
     "output_type": "stream",
     "text": [
      "<class 'pandas.core.frame.DataFrame'>\n",
      "RangeIndex: 2901 entries, 0 to 2900\n",
      "Data columns (total 8 columns):\n",
      " #   Column              Non-Null Count  Dtype  \n",
      "---  ------              --------------  -----  \n",
      " 0   CID                 2901 non-null   int64  \n",
      " 1   HBondAcceptorCount  2901 non-null   float64\n",
      " 2   HBondDonorCount     2901 non-null   float64\n",
      " 3   MolecularWeight     2901 non-null   float64\n",
      " 4   LogP                2901 non-null   float64\n",
      " 5   RuleFive            2901 non-null   int64  \n",
      " 6   IsomericSMILES      2901 non-null   object \n",
      " 7   ATC_Code            2901 non-null   object \n",
      "dtypes: float64(4), int64(2), object(2)\n",
      "memory usage: 181.4+ KB\n"
     ]
    },
    {
     "data": {
      "text/plain": [
       "'drugbank'"
      ]
     },
     "metadata": {},
     "output_type": "display_data"
    },
    {
     "data": {
      "text/plain": [
       "None"
      ]
     },
     "metadata": {},
     "output_type": "display_data"
    },
    {
     "name": "stdout",
     "output_type": "stream",
     "text": [
      "<class 'pandas.core.frame.DataFrame'>\n",
      "RangeIndex: 2901 entries, 0 to 2900\n",
      "Data columns (total 8 columns):\n",
      " #   Column              Non-Null Count  Dtype  \n",
      "---  ------              --------------  -----  \n",
      " 0   CID                 2901 non-null   int64  \n",
      " 1   HBondAcceptorCount  2901 non-null   float64\n",
      " 2   HBondDonorCount     2901 non-null   float64\n",
      " 3   MolecularWeight     2901 non-null   float64\n",
      " 4   LogP                2901 non-null   float64\n",
      " 5   RuleFive            2901 non-null   int64  \n",
      " 6   IsomericSMILES      2901 non-null   object \n",
      " 7   ATC_Code            2901 non-null   object \n",
      "dtypes: float64(4), int64(2), object(2)\n",
      "memory usage: 181.4+ KB\n"
     ]
    },
    {
     "data": {
      "text/plain": [
       "'pubchem'"
      ]
     },
     "metadata": {},
     "output_type": "display_data"
    },
    {
     "data": {
      "text/plain": [
       "None"
      ]
     },
     "metadata": {},
     "output_type": "display_data"
    }
   ],
   "source": [
    "display('gitter', drugs_gitter.info())\n",
    "display('drugbank', drugs_bank.info())\n",
    "display('pubchem', drugs_pubchem.info())"
   ]
  },
  {
   "cell_type": "code",
   "execution_count": 40,
   "metadata": {},
   "outputs": [
    {
     "data": {
      "text/plain": [
       "['A', 'B', 'C', 'D', 'G', 'H', 'J', 'L', 'M', 'N', 'P', 'R', 'S', 'V']"
      ]
     },
     "execution_count": 40,
     "metadata": {},
     "output_type": "execute_result"
    }
   ],
   "source": [
    "sorted(drugs_bank['ATC_Code'].unique())"
   ]
  },
  {
   "cell_type": "code",
   "execution_count": 41,
   "metadata": {},
   "outputs": [
    {
     "data": {
      "text/plain": [
       "['A', 'B', 'C', 'D', 'G', 'H', 'J', 'L', 'M', 'N', 'P', 'R', 'S', 'V']"
      ]
     },
     "execution_count": 41,
     "metadata": {},
     "output_type": "execute_result"
    }
   ],
   "source": [
    "sorted(drugs_pubchem['ATC_Code'].unique())"
   ]
  },
  {
   "cell_type": "code",
   "execution_count": null,
   "metadata": {},
   "outputs": [],
   "source": []
  }
 ],
 "metadata": {
  "kernelspec": {
   "display_name": "TFMenv",
   "language": "python",
   "name": "python3"
  },
  "language_info": {
   "codemirror_mode": {
    "name": "ipython",
    "version": 3
   },
   "file_extension": ".py",
   "mimetype": "text/x-python",
   "name": "python",
   "nbconvert_exporter": "python",
   "pygments_lexer": "ipython3",
   "version": "3.11.3"
  },
  "orig_nbformat": 4
 },
 "nbformat": 4,
 "nbformat_minor": 2
}
