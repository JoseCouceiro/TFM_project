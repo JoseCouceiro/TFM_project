{
 "cells": [
  {
   "attachments": {},
   "cell_type": "markdown",
   "metadata": {},
   "source": [
    "#### Imports"
   ]
  },
  {
   "cell_type": "code",
   "execution_count": 1,
   "metadata": {},
   "outputs": [],
   "source": [
    "import os\n",
    "import json\n",
    "import pandas as pd\n",
    "import pubchempy as pcp"
   ]
  },
  {
   "attachments": {},
   "cell_type": "markdown",
   "metadata": {},
   "source": [
    "#### Process the dataframe"
   ]
  },
  {
   "cell_type": "code",
   "execution_count": 2,
   "metadata": {},
   "outputs": [],
   "source": [
    "drugs = pd.read_csv(os.path.join('drugbank_dataframe.csv'), low_memory=False)"
   ]
  },
  {
   "attachments": {},
   "cell_type": "markdown",
   "metadata": {},
   "source": [
    "Selection of the columns of interest"
   ]
  },
  {
   "cell_type": "code",
   "execution_count": 3,
   "metadata": {},
   "outputs": [],
   "source": [
    "sel_cols = ['H Bond Acceptor Count', 'H Bond Donor Count', 'Molecular Weight', 'logP', 'Rule of Five', 'SMILES', 'atc_code']"
   ]
  },
  {
   "cell_type": "code",
   "execution_count": 5,
   "metadata": {},
   "outputs": [
    {
     "data": {
      "text/html": [
       "<div>\n",
       "<style scoped>\n",
       "    .dataframe tbody tr th:only-of-type {\n",
       "        vertical-align: middle;\n",
       "    }\n",
       "\n",
       "    .dataframe tbody tr th {\n",
       "        vertical-align: top;\n",
       "    }\n",
       "\n",
       "    .dataframe thead th {\n",
       "        text-align: right;\n",
       "    }\n",
       "</style>\n",
       "<table border=\"1\" class=\"dataframe\">\n",
       "  <thead>\n",
       "    <tr style=\"text-align: right;\">\n",
       "      <th></th>\n",
       "      <th>H Bond Acceptor Count</th>\n",
       "      <th>H Bond Donor Count</th>\n",
       "      <th>Molecular Weight</th>\n",
       "      <th>logP</th>\n",
       "      <th>Rule of Five</th>\n",
       "      <th>SMILES</th>\n",
       "      <th>atc_code</th>\n",
       "    </tr>\n",
       "  </thead>\n",
       "  <tbody>\n",
       "    <tr>\n",
       "      <th>0</th>\n",
       "      <td>37.0</td>\n",
       "      <td>28.0</td>\n",
       "      <td>2180.2853</td>\n",
       "      <td>-0.76</td>\n",
       "      <td>0.0</td>\n",
       "      <td>CC[C@H](C)[C@H](NC(=O)[C@H](CCC(O)=O)NC(=O)[C@...</td>\n",
       "      <td>B01AE06</td>\n",
       "    </tr>\n",
       "    <tr>\n",
       "      <th>1</th>\n",
       "      <td>16.0</td>\n",
       "      <td>16.0</td>\n",
       "      <td>1209.3983</td>\n",
       "      <td>1.04</td>\n",
       "      <td>0.0</td>\n",
       "      <td>CCNC(=O)[C@@H]1CCCN1C(=O)[C@H](CCCNC(N)=N)NC(=...</td>\n",
       "      <td>L02AE51</td>\n",
       "    </tr>\n",
       "    <tr>\n",
       "      <th>2</th>\n",
       "      <td>18.0</td>\n",
       "      <td>17.0</td>\n",
       "      <td>1269.4105</td>\n",
       "      <td>0.30</td>\n",
       "      <td>0.0</td>\n",
       "      <td>CC(C)C[C@H](NC(=O)[C@@H](COC(C)(C)C)NC(=O)[C@H...</td>\n",
       "      <td>L02AE03</td>\n",
       "    </tr>\n",
       "    <tr>\n",
       "      <th>3</th>\n",
       "      <td>16.0</td>\n",
       "      <td>20.0</td>\n",
       "      <td>1811.2530</td>\n",
       "      <td>4.38</td>\n",
       "      <td>0.0</td>\n",
       "      <td>CC(C)C[C@@H](NC(=O)CNC(=O)[C@@H](NC=O)C(C)C)C(...</td>\n",
       "      <td>R02AB30</td>\n",
       "    </tr>\n",
       "    <tr>\n",
       "      <th>4</th>\n",
       "      <td>15.0</td>\n",
       "      <td>14.0</td>\n",
       "      <td>1069.2200</td>\n",
       "      <td>-1.00</td>\n",
       "      <td>0.0</td>\n",
       "      <td>NC(=O)CC[C@@H]1NC(=O)[C@H](CC2=CC=CC=C2)NC(=O)...</td>\n",
       "      <td>H01BA02</td>\n",
       "    </tr>\n",
       "    <tr>\n",
       "      <th>...</th>\n",
       "      <td>...</td>\n",
       "      <td>...</td>\n",
       "      <td>...</td>\n",
       "      <td>...</td>\n",
       "      <td>...</td>\n",
       "      <td>...</td>\n",
       "      <td>...</td>\n",
       "    </tr>\n",
       "    <tr>\n",
       "      <th>12222</th>\n",
       "      <td>NaN</td>\n",
       "      <td>NaN</td>\n",
       "      <td>NaN</td>\n",
       "      <td>NaN</td>\n",
       "      <td>NaN</td>\n",
       "      <td>NaN</td>\n",
       "      <td>NaN</td>\n",
       "    </tr>\n",
       "    <tr>\n",
       "      <th>12223</th>\n",
       "      <td>NaN</td>\n",
       "      <td>NaN</td>\n",
       "      <td>431.5040</td>\n",
       "      <td>NaN</td>\n",
       "      <td>NaN</td>\n",
       "      <td>CN1CCN(CC2=CC=C(NC(=O)C3=NNC=C3NC3=C4C=CNC4=NC...</td>\n",
       "      <td>NaN</td>\n",
       "    </tr>\n",
       "    <tr>\n",
       "      <th>12224</th>\n",
       "      <td>NaN</td>\n",
       "      <td>NaN</td>\n",
       "      <td>394.8600</td>\n",
       "      <td>NaN</td>\n",
       "      <td>NaN</td>\n",
       "      <td>CC1=C2N=C(C3=CC=CC=C3Cl)C3=C(NC2=NN1)C=C(N=C3)...</td>\n",
       "      <td>NaN</td>\n",
       "    </tr>\n",
       "    <tr>\n",
       "      <th>12225</th>\n",
       "      <td>NaN</td>\n",
       "      <td>NaN</td>\n",
       "      <td>850.7100</td>\n",
       "      <td>NaN</td>\n",
       "      <td>NaN</td>\n",
       "      <td>CC[C@@]1(OC(=O)C(C)ON=C2C3=C(C4=C2C=C(C=C4[N+]...</td>\n",
       "      <td>NaN</td>\n",
       "    </tr>\n",
       "    <tr>\n",
       "      <th>12226</th>\n",
       "      <td>NaN</td>\n",
       "      <td>NaN</td>\n",
       "      <td>128.9048</td>\n",
       "      <td>NaN</td>\n",
       "      <td>NaN</td>\n",
       "      <td>[129Xe]</td>\n",
       "      <td>NaN</td>\n",
       "    </tr>\n",
       "  </tbody>\n",
       "</table>\n",
       "<p>12227 rows × 7 columns</p>\n",
       "</div>"
      ],
      "text/plain": [
       "       H Bond Acceptor Count  H Bond Donor Count  Molecular Weight  logP   \n",
       "0                       37.0                28.0         2180.2853 -0.76  \\\n",
       "1                       16.0                16.0         1209.3983  1.04   \n",
       "2                       18.0                17.0         1269.4105  0.30   \n",
       "3                       16.0                20.0         1811.2530  4.38   \n",
       "4                       15.0                14.0         1069.2200 -1.00   \n",
       "...                      ...                 ...               ...   ...   \n",
       "12222                    NaN                 NaN               NaN   NaN   \n",
       "12223                    NaN                 NaN          431.5040   NaN   \n",
       "12224                    NaN                 NaN          394.8600   NaN   \n",
       "12225                    NaN                 NaN          850.7100   NaN   \n",
       "12226                    NaN                 NaN          128.9048   NaN   \n",
       "\n",
       "       Rule of Five                                             SMILES   \n",
       "0               0.0  CC[C@H](C)[C@H](NC(=O)[C@H](CCC(O)=O)NC(=O)[C@...  \\\n",
       "1               0.0  CCNC(=O)[C@@H]1CCCN1C(=O)[C@H](CCCNC(N)=N)NC(=...   \n",
       "2               0.0  CC(C)C[C@H](NC(=O)[C@@H](COC(C)(C)C)NC(=O)[C@H...   \n",
       "3               0.0  CC(C)C[C@@H](NC(=O)CNC(=O)[C@@H](NC=O)C(C)C)C(...   \n",
       "4               0.0  NC(=O)CC[C@@H]1NC(=O)[C@H](CC2=CC=CC=C2)NC(=O)...   \n",
       "...             ...                                                ...   \n",
       "12222           NaN                                                NaN   \n",
       "12223           NaN  CN1CCN(CC2=CC=C(NC(=O)C3=NNC=C3NC3=C4C=CNC4=NC...   \n",
       "12224           NaN  CC1=C2N=C(C3=CC=CC=C3Cl)C3=C(NC2=NN1)C=C(N=C3)...   \n",
       "12225           NaN  CC[C@@]1(OC(=O)C(C)ON=C2C3=C(C4=C2C=C(C=C4[N+]...   \n",
       "12226           NaN                                            [129Xe]   \n",
       "\n",
       "      atc_code  \n",
       "0      B01AE06  \n",
       "1      L02AE51  \n",
       "2      L02AE03  \n",
       "3      R02AB30  \n",
       "4      H01BA02  \n",
       "...        ...  \n",
       "12222      NaN  \n",
       "12223      NaN  \n",
       "12224      NaN  \n",
       "12225      NaN  \n",
       "12226      NaN  \n",
       "\n",
       "[12227 rows x 7 columns]"
      ]
     },
     "execution_count": 5,
     "metadata": {},
     "output_type": "execute_result"
    }
   ],
   "source": [
    "drugs_dataset = drugs[sel_cols]\n",
    "drugs_dataset"
   ]
  },
  {
   "attachments": {},
   "cell_type": "markdown",
   "metadata": {},
   "source": [
    "WE make a function that obtaines the CID number of a molecule from its InChI code and map it to obtain a new column with the CID"
   ]
  },
  {
   "cell_type": "code",
   "execution_count": 6,
   "metadata": {},
   "outputs": [],
   "source": [
    "def get_cid_from_inchi(inchi):\n",
    "    \"\"\"Function that obtains the CID of a molecule from its InChI\n",
    "    Input: molecule's InChi\n",
    "    Output: molecule's CID\n",
    "    \"\"\"\n",
    "    try:\n",
    "        comp = pcp.get_compounds(inchi, 'inchi')\n",
    "    except:\n",
    "        print('Something went wrong obtaining the CID')\n",
    "        return None\n",
    "    return comp[0].cid"
   ]
  },
  {
   "cell_type": "code",
   "execution_count": 20,
   "metadata": {},
   "outputs": [
    {
     "name": "stdout",
     "output_type": "stream",
     "text": [
      "Something went wrong obtaining the CID\n",
      "Something went wrong obtaining the CID\n",
      "Something went wrong obtaining the CID\n",
      "Something went wrong obtaining the CID\n",
      "Something went wrong obtaining the CID\n",
      "Something went wrong obtaining the CID\n",
      "Something went wrong obtaining the CID\n",
      "Something went wrong obtaining the CID\n",
      "Something went wrong obtaining the CID\n",
      "Something went wrong obtaining the CID\n",
      "Something went wrong obtaining the CID\n",
      "Something went wrong obtaining the CID\n",
      "Something went wrong obtaining the CID\n",
      "Something went wrong obtaining the CID\n",
      "Something went wrong obtaining the CID\n",
      "Something went wrong obtaining the CID\n",
      "Something went wrong obtaining the CID\n",
      "Something went wrong obtaining the CID\n",
      "Something went wrong obtaining the CID\n",
      "Something went wrong obtaining the CID\n",
      "Something went wrong obtaining the CID\n",
      "Something went wrong obtaining the CID\n",
      "Something went wrong obtaining the CID\n",
      "Something went wrong obtaining the CID\n",
      "Something went wrong obtaining the CID\n",
      "Something went wrong obtaining the CID\n",
      "Something went wrong obtaining the CID\n",
      "Something went wrong obtaining the CID\n",
      "Something went wrong obtaining the CID\n",
      "Something went wrong obtaining the CID\n",
      "Something went wrong obtaining the CID\n",
      "Something went wrong obtaining the CID\n",
      "Something went wrong obtaining the CID\n",
      "Something went wrong obtaining the CID\n",
      "Something went wrong obtaining the CID\n",
      "Something went wrong obtaining the CID\n",
      "Something went wrong obtaining the CID\n",
      "Something went wrong obtaining the CID\n",
      "Something went wrong obtaining the CID\n",
      "Something went wrong obtaining the CID\n",
      "Something went wrong obtaining the CID\n",
      "Something went wrong obtaining the CID\n",
      "Something went wrong obtaining the CID\n",
      "Something went wrong obtaining the CID\n",
      "Something went wrong obtaining the CID\n",
      "Something went wrong obtaining the CID\n",
      "Something went wrong obtaining the CID\n",
      "Something went wrong obtaining the CID\n",
      "Something went wrong obtaining the CID\n",
      "Something went wrong obtaining the CID\n",
      "Something went wrong obtaining the CID\n",
      "Something went wrong obtaining the CID\n",
      "Something went wrong obtaining the CID\n",
      "Something went wrong obtaining the CID\n",
      "Something went wrong obtaining the CID\n",
      "Something went wrong obtaining the CID\n",
      "Something went wrong obtaining the CID\n",
      "Something went wrong obtaining the CID\n",
      "Something went wrong obtaining the CID\n",
      "Something went wrong obtaining the CID\n",
      "Something went wrong obtaining the CID\n",
      "Something went wrong obtaining the CID\n",
      "Something went wrong obtaining the CID\n",
      "Something went wrong obtaining the CID\n",
      "Something went wrong obtaining the CID\n",
      "Something went wrong obtaining the CID\n",
      "Something went wrong obtaining the CID\n",
      "Something went wrong obtaining the CID\n",
      "Something went wrong obtaining the CID\n",
      "Something went wrong obtaining the CID\n",
      "Something went wrong obtaining the CID\n",
      "Something went wrong obtaining the CID\n",
      "Something went wrong obtaining the CID\n",
      "Something went wrong obtaining the CID\n",
      "Something went wrong obtaining the CID\n",
      "Something went wrong obtaining the CID\n",
      "Something went wrong obtaining the CID\n",
      "Something went wrong obtaining the CID\n",
      "Something went wrong obtaining the CID\n",
      "Something went wrong obtaining the CID\n",
      "Something went wrong obtaining the CID\n",
      "Something went wrong obtaining the CID\n",
      "Something went wrong obtaining the CID\n",
      "Something went wrong obtaining the CID\n",
      "Something went wrong obtaining the CID\n",
      "Something went wrong obtaining the CID\n",
      "Something went wrong obtaining the CID\n",
      "Something went wrong obtaining the CID\n",
      "Something went wrong obtaining the CID\n",
      "Something went wrong obtaining the CID\n",
      "Something went wrong obtaining the CID\n",
      "Something went wrong obtaining the CID\n",
      "Something went wrong obtaining the CID\n"
     ]
    },
    {
     "name": "stderr",
     "output_type": "stream",
     "text": [
      "C:\\Users\\josin\\AppData\\Local\\Temp\\ipykernel_8256\\69809899.py:1: SettingWithCopyWarning: \n",
      "A value is trying to be set on a copy of a slice from a DataFrame.\n",
      "Try using .loc[row_indexer,col_indexer] = value instead\n",
      "\n",
      "See the caveats in the documentation: https://pandas.pydata.org/pandas-docs/stable/user_guide/indexing.html#returning-a-view-versus-a-copy\n",
      "  drugs_dataset_atc['CID']= drugs_atc['InChI'].map(get_cid_from_inchi)\n"
     ]
    }
   ],
   "source": [
    "# This step can take up to 2 hours\n",
    "drugs_dataset['CID']= drugs['InChI'].map(get_cid_from_inchi)"
   ]
  },
  {
   "attachments": {},
   "cell_type": "markdown",
   "metadata": {},
   "source": [
    "Changing the names and order of the columns to be the same in every dataset"
   ]
  },
  {
   "cell_type": "code",
   "execution_count": 7,
   "metadata": {},
   "outputs": [],
   "source": [
    "with open(os.path.join('..','dataframes_resources','dataframes_props.json')) as file:\n",
    "    res = json.load(file)\n",
    "column_order = res['column_order']"
   ]
  },
  {
   "cell_type": "code",
   "execution_count": 8,
   "metadata": {},
   "outputs": [],
   "source": [
    "new_column_names = sorted(column_order)\n",
    "new_column_names = new_column_names[0:4] + new_column_names[5:] + new_column_names[4:5]\n",
    "\n",
    "columns = sorted(drugs_dataset.columns.to_list(), key=str.lower)\n"
   ]
  },
  {
   "cell_type": "code",
   "execution_count": 9,
   "metadata": {},
   "outputs": [],
   "source": [
    "column_names_dict = {columns[i]: new_column_names[i] for i in range(len(columns))}"
   ]
  },
  {
   "cell_type": "code",
   "execution_count": 10,
   "metadata": {},
   "outputs": [],
   "source": [
    "# Renaming\n",
    "drugs_dataset = drugs_dataset.rename(columns=column_names_dict)"
   ]
  },
  {
   "cell_type": "code",
   "execution_count": 11,
   "metadata": {},
   "outputs": [
    {
     "ename": "KeyError",
     "evalue": "\"['IsomericSMILES'] not in index\"",
     "output_type": "error",
     "traceback": [
      "\u001b[1;31m---------------------------------------------------------------------------\u001b[0m",
      "\u001b[1;31mKeyError\u001b[0m                                  Traceback (most recent call last)",
      "Cell \u001b[1;32mIn[11], line 2\u001b[0m\n\u001b[0;32m      1\u001b[0m \u001b[39m# Reorder\u001b[39;00m\n\u001b[1;32m----> 2\u001b[0m drugs_dataset \u001b[39m=\u001b[39m drugs_dataset[column_order]\n",
      "File \u001b[1;32mc:\\Users\\josin\\anaconda3\\envs\\TFMenv\\Lib\\site-packages\\pandas\\core\\frame.py:3767\u001b[0m, in \u001b[0;36mDataFrame.__getitem__\u001b[1;34m(self, key)\u001b[0m\n\u001b[0;32m   3765\u001b[0m     \u001b[39mif\u001b[39;00m is_iterator(key):\n\u001b[0;32m   3766\u001b[0m         key \u001b[39m=\u001b[39m \u001b[39mlist\u001b[39m(key)\n\u001b[1;32m-> 3767\u001b[0m     indexer \u001b[39m=\u001b[39m \u001b[39mself\u001b[39;49m\u001b[39m.\u001b[39;49mcolumns\u001b[39m.\u001b[39;49m_get_indexer_strict(key, \u001b[39m\"\u001b[39;49m\u001b[39mcolumns\u001b[39;49m\u001b[39m\"\u001b[39;49m)[\u001b[39m1\u001b[39m]\n\u001b[0;32m   3769\u001b[0m \u001b[39m# take() does not accept boolean indexers\u001b[39;00m\n\u001b[0;32m   3770\u001b[0m \u001b[39mif\u001b[39;00m \u001b[39mgetattr\u001b[39m(indexer, \u001b[39m\"\u001b[39m\u001b[39mdtype\u001b[39m\u001b[39m\"\u001b[39m, \u001b[39mNone\u001b[39;00m) \u001b[39m==\u001b[39m \u001b[39mbool\u001b[39m:\n",
      "File \u001b[1;32mc:\\Users\\josin\\anaconda3\\envs\\TFMenv\\Lib\\site-packages\\pandas\\core\\indexes\\base.py:5876\u001b[0m, in \u001b[0;36mIndex._get_indexer_strict\u001b[1;34m(self, key, axis_name)\u001b[0m\n\u001b[0;32m   5873\u001b[0m \u001b[39melse\u001b[39;00m:\n\u001b[0;32m   5874\u001b[0m     keyarr, indexer, new_indexer \u001b[39m=\u001b[39m \u001b[39mself\u001b[39m\u001b[39m.\u001b[39m_reindex_non_unique(keyarr)\n\u001b[1;32m-> 5876\u001b[0m \u001b[39mself\u001b[39;49m\u001b[39m.\u001b[39;49m_raise_if_missing(keyarr, indexer, axis_name)\n\u001b[0;32m   5878\u001b[0m keyarr \u001b[39m=\u001b[39m \u001b[39mself\u001b[39m\u001b[39m.\u001b[39mtake(indexer)\n\u001b[0;32m   5879\u001b[0m \u001b[39mif\u001b[39;00m \u001b[39misinstance\u001b[39m(key, Index):\n\u001b[0;32m   5880\u001b[0m     \u001b[39m# GH 42790 - Preserve name from an Index\u001b[39;00m\n",
      "File \u001b[1;32mc:\\Users\\josin\\anaconda3\\envs\\TFMenv\\Lib\\site-packages\\pandas\\core\\indexes\\base.py:5938\u001b[0m, in \u001b[0;36mIndex._raise_if_missing\u001b[1;34m(self, key, indexer, axis_name)\u001b[0m\n\u001b[0;32m   5935\u001b[0m     \u001b[39mraise\u001b[39;00m \u001b[39mKeyError\u001b[39;00m(\u001b[39mf\u001b[39m\u001b[39m\"\u001b[39m\u001b[39mNone of [\u001b[39m\u001b[39m{\u001b[39;00mkey\u001b[39m}\u001b[39;00m\u001b[39m] are in the [\u001b[39m\u001b[39m{\u001b[39;00maxis_name\u001b[39m}\u001b[39;00m\u001b[39m]\u001b[39m\u001b[39m\"\u001b[39m)\n\u001b[0;32m   5937\u001b[0m not_found \u001b[39m=\u001b[39m \u001b[39mlist\u001b[39m(ensure_index(key)[missing_mask\u001b[39m.\u001b[39mnonzero()[\u001b[39m0\u001b[39m]]\u001b[39m.\u001b[39munique())\n\u001b[1;32m-> 5938\u001b[0m \u001b[39mraise\u001b[39;00m \u001b[39mKeyError\u001b[39;00m(\u001b[39mf\u001b[39m\u001b[39m\"\u001b[39m\u001b[39m{\u001b[39;00mnot_found\u001b[39m}\u001b[39;00m\u001b[39m not in index\u001b[39m\u001b[39m\"\u001b[39m)\n",
      "\u001b[1;31mKeyError\u001b[0m: \"['IsomericSMILES'] not in index\""
     ]
    }
   ],
   "source": [
    "# Reorder\n",
    "drugs_dataset = drugs_dataset[column_order]"
   ]
  },
  {
   "attachments": {},
   "cell_type": "markdown",
   "metadata": {},
   "source": [
    "Converting some data types"
   ]
  },
  {
   "cell_type": "code",
   "execution_count": 172,
   "metadata": {},
   "outputs": [],
   "source": [
    "drugs_dataset[['RuleFive', 'CID']] = drugs_dataset[['RuleFive', 'CID']].astype('int32')"
   ]
  },
  {
   "cell_type": "code",
   "execution_count": null,
   "metadata": {},
   "outputs": [],
   "source": [
    "drugs_dataset['ATC_Code'] = drugs_dataset['ATC_Code'].str[0]"
   ]
  },
  {
   "attachments": {},
   "cell_type": "markdown",
   "metadata": {},
   "source": [
    "Split the data into labeled and unlabeled datasets"
   ]
  },
  {
   "cell_type": "code",
   "execution_count": 13,
   "metadata": {},
   "outputs": [],
   "source": [
    "drugs_dataset_atc = drugs[drugs['ATC_Code'].isna() == False]\n",
    "drugs_dataset_no_atc = drugs[drugs['ATC_Code'].isna()] "
   ]
  },
  {
   "attachments": {},
   "cell_type": "markdown",
   "metadata": {},
   "source": [
    "Droping NaN"
   ]
  },
  {
   "cell_type": "code",
   "execution_count": 12,
   "metadata": {},
   "outputs": [
    {
     "ename": "NameError",
     "evalue": "name 'drugs_dataset_atc' is not defined",
     "output_type": "error",
     "traceback": [
      "\u001b[1;31m---------------------------------------------------------------------------\u001b[0m",
      "\u001b[1;31mNameError\u001b[0m                                 Traceback (most recent call last)",
      "Cell \u001b[1;32mIn[12], line 1\u001b[0m\n\u001b[1;32m----> 1\u001b[0m drugs_dataset_atc \u001b[39m=\u001b[39m drugs_dataset_atc\u001b[39m.\u001b[39mdropna()\n\u001b[0;32m      3\u001b[0m drugs_dataset_no_atc \u001b[39m=\u001b[39m drugs_dataset_no_atc[[\u001b[39m\"\u001b[39m\u001b[39mCID\u001b[39m\u001b[39m\"\u001b[39m, \u001b[39m\"\u001b[39m\u001b[39mHBondAcceptorCount\u001b[39m\u001b[39m\"\u001b[39m, \u001b[39m\"\u001b[39m\u001b[39mHBondDonorCount\u001b[39m\u001b[39m\"\u001b[39m, \u001b[39m\"\u001b[39m\u001b[39mMolecularWeight\u001b[39m\u001b[39m\"\u001b[39m, \u001b[39m\"\u001b[39m\u001b[39mLogP\u001b[39m\u001b[39m\"\u001b[39m, \u001b[39m\"\u001b[39m\u001b[39mRuleFive\u001b[39m\u001b[39m\"\u001b[39m, \u001b[39m\"\u001b[39m\u001b[39mIsomericSMILES\u001b[39m\u001b[39m\"\u001b[39m]]\u001b[39m.\u001b[39mdropna(how\u001b[39m=\u001b[39m\u001b[39m'\u001b[39m\u001b[39many\u001b[39m\u001b[39m'\u001b[39m)\n\u001b[0;32m      4\u001b[0m drugs_dataset_no_atc[\u001b[39m'\u001b[39m\u001b[39matc_code\u001b[39m\u001b[39m'\u001b[39m] \u001b[39m=\u001b[39m \u001b[39mNone\u001b[39;00m\n",
      "\u001b[1;31mNameError\u001b[0m: name 'drugs_dataset_atc' is not defined"
     ]
    }
   ],
   "source": [
    "drugs_dataset_atc = drugs_dataset_atc.dropna()\n",
    "\n",
    "drugs_dataset_no_atc = drugs_dataset_no_atc[\n",
    "    [\"CID\", \"HBondAcceptorCount\", \"HBondDonorCount\", \"MolecularWeight\", \"LogP\", \"RuleFive\", \"IsomericSMILES\"]\n",
    "    ].dropna(how='any')\n",
    "drugs_dataset_no_atc['ATC_Code'] = None"
   ]
  },
  {
   "cell_type": "code",
   "execution_count": 173,
   "metadata": {},
   "outputs": [
    {
     "name": "stdout",
     "output_type": "stream",
     "text": [
      "<class 'pandas.core.frame.DataFrame'>\n",
      "Index: 2901 entries, 0 to 3023\n",
      "Data columns (total 8 columns):\n",
      " #   Column              Non-Null Count  Dtype  \n",
      "---  ------              --------------  -----  \n",
      " 0   CID                 2901 non-null   int32  \n",
      " 1   HBondAcceptorCount  2901 non-null   float64\n",
      " 2   HBondDonorCount     2901 non-null   float64\n",
      " 3   MolecularWeight     2901 non-null   float64\n",
      " 4   LogP                2901 non-null   float64\n",
      " 5   RuleFive            2901 non-null   int32  \n",
      " 6   IsomericSMILES      2901 non-null   object \n",
      " 7   ATC_code            2901 non-null   object \n",
      "dtypes: float64(4), int32(2), object(2)\n",
      "memory usage: 181.3+ KB\n"
     ]
    },
    {
     "data": {
      "text/plain": [
       "None"
      ]
     },
     "metadata": {},
     "output_type": "display_data"
    },
    {
     "data": {
      "text/html": [
       "<div>\n",
       "<style scoped>\n",
       "    .dataframe tbody tr th:only-of-type {\n",
       "        vertical-align: middle;\n",
       "    }\n",
       "\n",
       "    .dataframe tbody tr th {\n",
       "        vertical-align: top;\n",
       "    }\n",
       "\n",
       "    .dataframe thead th {\n",
       "        text-align: right;\n",
       "    }\n",
       "</style>\n",
       "<table border=\"1\" class=\"dataframe\">\n",
       "  <thead>\n",
       "    <tr style=\"text-align: right;\">\n",
       "      <th></th>\n",
       "      <th>CID</th>\n",
       "      <th>HBondAcceptorCount</th>\n",
       "      <th>HBondDonorCount</th>\n",
       "      <th>MolecularWeight</th>\n",
       "      <th>LogP</th>\n",
       "      <th>RuleFive</th>\n",
       "      <th>IsomericSMILES</th>\n",
       "      <th>ATC_code</th>\n",
       "    </tr>\n",
       "  </thead>\n",
       "  <tbody>\n",
       "    <tr>\n",
       "      <th>0</th>\n",
       "      <td>101041682</td>\n",
       "      <td>37.0</td>\n",
       "      <td>28.0</td>\n",
       "      <td>2180.2853</td>\n",
       "      <td>-0.76</td>\n",
       "      <td>0</td>\n",
       "      <td>CC[C@H](C)[C@H](NC(=O)[C@H](CCC(O)=O)NC(=O)[C@...</td>\n",
       "      <td>B01AE06</td>\n",
       "    </tr>\n",
       "    <tr>\n",
       "      <th>1</th>\n",
       "      <td>657181</td>\n",
       "      <td>16.0</td>\n",
       "      <td>16.0</td>\n",
       "      <td>1209.3983</td>\n",
       "      <td>1.04</td>\n",
       "      <td>0</td>\n",
       "      <td>CCNC(=O)[C@@H]1CCCN1C(=O)[C@H](CCCNC(N)=N)NC(=...</td>\n",
       "      <td>L02AE51</td>\n",
       "    </tr>\n",
       "    <tr>\n",
       "      <th>2</th>\n",
       "      <td>5311128</td>\n",
       "      <td>18.0</td>\n",
       "      <td>17.0</td>\n",
       "      <td>1269.4105</td>\n",
       "      <td>0.30</td>\n",
       "      <td>0</td>\n",
       "      <td>CC(C)C[C@H](NC(=O)[C@@H](COC(C)(C)C)NC(=O)[C@H...</td>\n",
       "      <td>L02AE03</td>\n",
       "    </tr>\n",
       "  </tbody>\n",
       "</table>\n",
       "</div>"
      ],
      "text/plain": [
       "         CID  HBondAcceptorCount  HBondDonorCount  MolecularWeight  LogP   \n",
       "0  101041682                37.0             28.0        2180.2853 -0.76  \\\n",
       "1     657181                16.0             16.0        1209.3983  1.04   \n",
       "2    5311128                18.0             17.0        1269.4105  0.30   \n",
       "\n",
       "   RuleFive                                     IsomericSMILES ATC_code  \n",
       "0         0  CC[C@H](C)[C@H](NC(=O)[C@H](CCC(O)=O)NC(=O)[C@...  B01AE06  \n",
       "1         0  CCNC(=O)[C@@H]1CCCN1C(=O)[C@H](CCCNC(N)=N)NC(=...  L02AE51  \n",
       "2         0  CC(C)C[C@H](NC(=O)[C@@H](COC(C)(C)C)NC(=O)[C@H...  L02AE03  "
      ]
     },
     "metadata": {},
     "output_type": "display_data"
    },
    {
     "name": "stdout",
     "output_type": "stream",
     "text": [
      "<class 'pandas.core.frame.DataFrame'>\n",
      "Index: 8457 entries, 0 to 9197\n",
      "Data columns (total 8 columns):\n",
      " #   Column              Non-Null Count  Dtype  \n",
      "---  ------              --------------  -----  \n",
      " 0   CID                 8457 non-null   int32  \n",
      " 1   HBondAcceptorCount  8457 non-null   float64\n",
      " 2   HBondDonorCount     8457 non-null   float64\n",
      " 3   MolecularWeight     8457 non-null   float64\n",
      " 4   LogP                8457 non-null   float64\n",
      " 5   RuleFive            8457 non-null   int32  \n",
      " 6   IsomericSMILES      8457 non-null   object \n",
      " 7   ATC_code            0 non-null      object \n",
      "dtypes: float64(4), int32(2), object(2)\n",
      "memory usage: 528.6+ KB\n"
     ]
    },
    {
     "data": {
      "text/plain": [
       "None"
      ]
     },
     "metadata": {},
     "output_type": "display_data"
    },
    {
     "data": {
      "text/html": [
       "<div>\n",
       "<style scoped>\n",
       "    .dataframe tbody tr th:only-of-type {\n",
       "        vertical-align: middle;\n",
       "    }\n",
       "\n",
       "    .dataframe tbody tr th {\n",
       "        vertical-align: top;\n",
       "    }\n",
       "\n",
       "    .dataframe thead th {\n",
       "        text-align: right;\n",
       "    }\n",
       "</style>\n",
       "<table border=\"1\" class=\"dataframe\">\n",
       "  <thead>\n",
       "    <tr style=\"text-align: right;\">\n",
       "      <th></th>\n",
       "      <th>CID</th>\n",
       "      <th>HBondAcceptorCount</th>\n",
       "      <th>HBondDonorCount</th>\n",
       "      <th>MolecularWeight</th>\n",
       "      <th>LogP</th>\n",
       "      <th>RuleFive</th>\n",
       "      <th>IsomericSMILES</th>\n",
       "      <th>ATC_code</th>\n",
       "    </tr>\n",
       "  </thead>\n",
       "  <tbody>\n",
       "    <tr>\n",
       "      <th>0</th>\n",
       "      <td>11979316</td>\n",
       "      <td>16.0</td>\n",
       "      <td>14.0</td>\n",
       "      <td>2140.4600</td>\n",
       "      <td>-1.40</td>\n",
       "      <td>0</td>\n",
       "      <td>NCCCCC(NC(=O)C1CCCN1C(=O)C1CSSCC(N)C(=O)NC(CC2...</td>\n",
       "      <td>None</td>\n",
       "    </tr>\n",
       "    <tr>\n",
       "      <th>1</th>\n",
       "      <td>135444742</td>\n",
       "      <td>12.0</td>\n",
       "      <td>8.0</td>\n",
       "      <td>445.4292</td>\n",
       "      <td>-0.96</td>\n",
       "      <td>0</td>\n",
       "      <td>NC1=NC(=O)C2=C(NCC(CNC3=CC=C(C=C3)C(=O)N[C@@H]...</td>\n",
       "      <td>None</td>\n",
       "    </tr>\n",
       "    <tr>\n",
       "      <th>2</th>\n",
       "      <td>6274</td>\n",
       "      <td>4.0</td>\n",
       "      <td>3.0</td>\n",
       "      <td>155.1546</td>\n",
       "      <td>-2.70</td>\n",
       "      <td>1</td>\n",
       "      <td>N[C@@H](CC1=CNC=N1)C(O)=O</td>\n",
       "      <td>None</td>\n",
       "    </tr>\n",
       "  </tbody>\n",
       "</table>\n",
       "</div>"
      ],
      "text/plain": [
       "         CID  HBondAcceptorCount  HBondDonorCount  MolecularWeight  LogP   \n",
       "0   11979316                16.0             14.0        2140.4600 -1.40  \\\n",
       "1  135444742                12.0              8.0         445.4292 -0.96   \n",
       "2       6274                 4.0              3.0         155.1546 -2.70   \n",
       "\n",
       "   RuleFive                                     IsomericSMILES ATC_code  \n",
       "0         0  NCCCCC(NC(=O)C1CCCN1C(=O)C1CSSCC(N)C(=O)NC(CC2...     None  \n",
       "1         0  NC1=NC(=O)C2=C(NCC(CNC3=CC=C(C=C3)C(=O)N[C@@H]...     None  \n",
       "2         1                          N[C@@H](CC1=CNC=N1)C(O)=O     None  "
      ]
     },
     "metadata": {},
     "output_type": "display_data"
    }
   ],
   "source": [
    "display(drugs_dataset_atc.info(), drugs_dataset_atc.head(3))\n",
    "display(drugs_dataset_no_atc.info(), drugs_dataset_no_atc.head(3))"
   ]
  },
  {
   "attachments": {},
   "cell_type": "markdown",
   "metadata": {},
   "source": [
    "Saving the datasets"
   ]
  },
  {
   "cell_type": "code",
   "execution_count": 174,
   "metadata": {},
   "outputs": [],
   "source": [
    "drugs_dataset_no_atc.to_csv('drugbank_dataset_nolabel_clean.csv', index=False)\n",
    "drugs_dataset_atc.to_csv('drugbank_dataset_label_clean.csv', index=False)"
   ]
  }
 ],
 "metadata": {
  "kernelspec": {
   "display_name": "kedro-environment",
   "language": "python",
   "name": "python3"
  },
  "language_info": {
   "codemirror_mode": {
    "name": "ipython",
    "version": 3
   },
   "file_extension": ".py",
   "mimetype": "text/x-python",
   "name": "python",
   "nbconvert_exporter": "python",
   "pygments_lexer": "ipython3",
   "version": "3.11.3"
  },
  "orig_nbformat": 4
 },
 "nbformat": 4,
 "nbformat_minor": 2
}
