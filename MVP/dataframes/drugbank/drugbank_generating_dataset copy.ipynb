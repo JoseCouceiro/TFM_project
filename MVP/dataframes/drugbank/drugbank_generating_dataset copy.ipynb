{
 "cells": [
  {
   "attachments": {},
   "cell_type": "markdown",
   "metadata": {},
   "source": [
    "#### Imports"
   ]
  },
  {
   "cell_type": "code",
   "execution_count": 43,
   "metadata": {},
   "outputs": [],
   "source": [
    "import os\n",
    "import json\n",
    "import pandas as pd"
   ]
  },
  {
   "attachments": {},
   "cell_type": "markdown",
   "metadata": {},
   "source": [
    "#### Open dictionary and select small molecules"
   ]
  },
  {
   "cell_type": "code",
   "execution_count": 18,
   "metadata": {},
   "outputs": [],
   "source": [
    "with open(os.path.join('..', 'full_database_dict.json'), 'r') as file:\n",
    "    drug_list = json.load(file)"
   ]
  },
  {
   "cell_type": "code",
   "execution_count": 42,
   "metadata": {},
   "outputs": [
    {
     "data": {
      "text/plain": [
       "'biotech'"
      ]
     },
     "execution_count": 42,
     "metadata": {},
     "output_type": "execute_result"
    }
   ],
   "source": [
    "drug_list[0]['@type']"
   ]
  },
  {
   "cell_type": "code",
   "execution_count": 26,
   "metadata": {},
   "outputs": [],
   "source": [
    "small_drug_list = []\n",
    "for drug in drug_list:\n",
    "    if drug['@type'] == 'small molecule':\n",
    "        small_drug_list.append(drug)"
   ]
  },
  {
   "cell_type": "code",
   "execution_count": 27,
   "metadata": {},
   "outputs": [
    {
     "data": {
      "text/plain": [
       "12227"
      ]
     },
     "execution_count": 27,
     "metadata": {},
     "output_type": "execute_result"
    }
   ],
   "source": [
    "len(small_drug_list)"
   ]
  },
  {
   "cell_type": "code",
   "execution_count": 41,
   "metadata": {},
   "outputs": [
    {
     "data": {
      "text/plain": [
       "'small molecule'"
      ]
     },
     "execution_count": 41,
     "metadata": {},
     "output_type": "execute_result"
    }
   ],
   "source": [
    "small_drug_list[0]['@type']"
   ]
  },
  {
   "attachments": {},
   "cell_type": "markdown",
   "metadata": {},
   "source": [
    "#### Extract properties to a new dictionary"
   ]
  },
  {
   "cell_type": "code",
   "execution_count": 29,
   "metadata": {},
   "outputs": [],
   "source": [
    "# Creating a new dictionary with selected keys from the first instance\n",
    "\n",
    "my_dict = {}\n",
    "for key in small_drug_list[1].keys():\n",
    "    my_dict[key] = []\n",
    "my_dict.pop('calculated-properties')\n",
    "my_dict.pop('categories')\n",
    "my_dict.pop('external-identifiers')\n",
    "my_dict.pop('products')\n",
    "my_dict.pop('ahfs-codes')\n",
    "my_dict.pop('international-brands')\n",
    "my_dict.pop('atc-codes')\n",
    "\n",
    "for proprty in small_drug_list[1]['calculated-properties']['property']:\n",
    "    my_dict[proprty['kind']] = []\n",
    "my_dict['atc_code'] = []\n",
    "for i in range(4):\n",
    "    my_dict[f'atc_code_{i}'] = []\n",
    "    my_dict[f'atc_code_{i}_$'] = []\n",
    "\n",
    "# Extracting the properties of each instance\n",
    "\n",
    "j=0\n",
    "for mol in small_drug_list:\n",
    "\n",
    "    for key in my_dict.keys():\n",
    "        if key in mol.keys():\n",
    "            \n",
    "            if key == 'drugbank-id' and mol[key] != None:\n",
    "                my_dict[key].append(mol[key][0]['$'])\n",
    "            elif key == 'groups' and mol[key] != None:\n",
    "                my_dict[key].append(mol[key]['group'][0])\n",
    "            elif key == 'manufacturers' and mol[key] != None:\n",
    "                my_dict[key].append(mol[key]['manufacturer'][0]['$'])\n",
    "            else:\n",
    "                my_dict[key].append(mol[key])\n",
    "        \n",
    "    if 'calculated-properties' not in mol.keys():\n",
    "        proprty_kind_values = set()\n",
    "        for proprty in small_drug_list[1]['calculated-properties']['property']:\n",
    "            if proprty['kind'] not in proprty_kind_values:\n",
    "                proprty_kind_values.add(proprty['kind'])\n",
    "                my_dict[proprty['kind']].append(None)      \n",
    "    \n",
    "    if 'atc-codes' not in mol.keys() or mol['atc-codes'] == None:\n",
    "        my_dict['atc_code'].append(None)\n",
    "        for i in range(4):\n",
    "            my_dict[f'atc_code_{i}'].append(None)\n",
    "            my_dict[f'atc_code_{i}_$'].append(None)\n",
    "        \n",
    "    for inst_k, inst_v in mol.items():\n",
    "        if inst_k == 'calculated-properties':\n",
    "            if inst_v == None:\n",
    "                proprty_kind_values = set()  \n",
    "                for proprty in small_drug_list[1]['calculated-properties']['property']:\n",
    "                    if proprty['kind'] not in proprty_kind_values:\n",
    "                        proprty_kind_values.add(proprty['kind'])\n",
    "                        my_dict[proprty['kind']].append(None) \n",
    "            else:\n",
    "                proprty_kind_values = set()  \n",
    "                for proprty in inst_v['property']:\n",
    "                    if proprty['kind'] in my_dict.keys() and proprty['kind'] not in proprty_kind_values: \n",
    "                        proprty_kind_values.add(proprty['kind'])\n",
    "                        my_dict[proprty['kind']].append(proprty['value'])\n",
    "        \n",
    "        elif inst_k == 'atc-codes':\n",
    "            if inst_v is not None:          \n",
    "                my_dict['atc_code'].append(inst_v['atc-code'][0]['@code'])\n",
    "                for i, value in enumerate(inst_v['atc-code'][0]['level']):\n",
    "                    my_dict[f'atc_code_{i}'].append(value['@code'])\n",
    "                    my_dict[f'atc_code_{i}_$'].append(value['$']) \n",
    "    j+=1\n",
    "    for key, val in my_dict.items():\n",
    "        if len(val) != j:\n",
    "            my_dict[key].append(None)                                                \n",
    "                    "
   ]
  },
  {
   "cell_type": "code",
   "execution_count": 37,
   "metadata": {},
   "outputs": [],
   "source": [
    "drug_df = pd.DataFrame(my_dict)"
   ]
  },
  {
   "cell_type": "code",
   "execution_count": 44,
   "metadata": {},
   "outputs": [
    {
     "data": {
      "text/plain": [
       "Index(['@type', '@created', '@updated', 'drugbank-id', 'name', 'description',\n",
       "       'cas-number', 'unii', 'average-mass', 'monoisotopic-mass', 'state',\n",
       "       'groups', 'general-references', 'synthesis-reference', 'indication',\n",
       "       'pharmacodynamics', 'mechanism-of-action', 'toxicity', 'metabolism',\n",
       "       'absorption', 'half-life', 'protein-binding', 'route-of-elimination',\n",
       "       'volume-of-distribution', 'clearance', 'salts', 'synonyms', 'mixtures',\n",
       "       'packagers', 'manufacturers', 'prices', 'affected-organisms', 'dosages',\n",
       "       'pdb-entries', 'fda-label', 'patents', 'food-interactions',\n",
       "       'drug-interactions', 'experimental-properties', 'external-links',\n",
       "       'pathways', 'reactions', 'snp-effects', 'snp-adverse-drug-reactions',\n",
       "       'targets', 'enzymes', 'carriers', 'transporters', 'logP', 'logS',\n",
       "       'Water Solubility', 'IUPAC Name', 'Traditional IUPAC Name',\n",
       "       'Molecular Weight', 'Monoisotopic Weight', 'SMILES',\n",
       "       'Molecular Formula', 'InChI', 'InChIKey', 'Polar Surface Area (PSA)',\n",
       "       'Refractivity', 'Polarizability', 'Rotatable Bond Count',\n",
       "       'H Bond Acceptor Count', 'H Bond Donor Count', 'pKa (strongest acidic)',\n",
       "       'pKa (strongest basic)', 'Physiological Charge', 'Number of Rings',\n",
       "       'Bioavailability', 'Rule of Five', 'Ghose Filter', 'MDDR-Like Rule',\n",
       "       'atc_code', 'atc_code_0', 'atc_code_0_$', 'atc_code_1', 'atc_code_1_$',\n",
       "       'atc_code_2', 'atc_code_2_$', 'atc_code_3', 'atc_code_3_$'],\n",
       "      dtype='object')"
      ]
     },
     "execution_count": 44,
     "metadata": {},
     "output_type": "execute_result"
    }
   ],
   "source": [
    "drug_df.columns"
   ]
  },
  {
   "cell_type": "code",
   "execution_count": 34,
   "metadata": {},
   "outputs": [],
   "source": [
    "drug_df.to_csv('drugbank_dataframe.csv', index = False)"
   ]
  }
 ],
 "metadata": {
  "kernelspec": {
   "display_name": "kedro-environment",
   "language": "python",
   "name": "python3"
  },
  "language_info": {
   "codemirror_mode": {
    "name": "ipython",
    "version": 3
   },
   "file_extension": ".py",
   "mimetype": "text/x-python",
   "name": "python",
   "nbconvert_exporter": "python",
   "pygments_lexer": "ipython3",
   "version": "3.11.3"
  },
  "orig_nbformat": 4
 },
 "nbformat": 4,
 "nbformat_minor": 2
}
