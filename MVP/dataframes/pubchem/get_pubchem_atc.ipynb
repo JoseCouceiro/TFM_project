{
 "cells": [
  {
   "cell_type": "code",
   "execution_count": 1,
   "metadata": {},
   "outputs": [],
   "source": [
    "from IPython.display import clear_output\n",
    "import os\n",
    "import requests as rq\n",
    "import re\n",
    "import pandas as pd\n",
    "import pubchempy as pcp\n"
   ]
  },
  {
   "cell_type": "code",
   "execution_count": 2,
   "metadata": {},
   "outputs": [],
   "source": [
    "def get_name(response):\n",
    "    return response['Record']['RecordTitle']"
   ]
  },
  {
   "cell_type": "code",
   "execution_count": 3,
   "metadata": {},
   "outputs": [],
   "source": [
    "def get_atc_code(response):\n",
    "    pat = r\"\\\"[A-Z]\\d{2}[A-Z]{2}\\d{2}\\\"\"\n",
    "    atc_code_found = re.search(pat, response.text)\n",
    "    if atc_code_found:\n",
    "        return atc_code_found.group(0).strip('\"')"
   ]
  },
  {
   "cell_type": "code",
   "execution_count": 4,
   "metadata": {},
   "outputs": [],
   "source": [
    "def get_h_bond_accept(response):\n",
    "    for att0 in response['Record']['Section']:\n",
    "        if att0['TOCHeading'] == 'Chemical and Physical Properties':\n",
    "            for att1 in att0['Section']:\n",
    "                if att1['TOCHeading'] == 'Computed Properties':\n",
    "                    for att2 in att1['Section']:\n",
    "                        if att2['TOCHeading'] == 'Hydrogen Bond Acceptor Count':\n",
    "                            return att2['Information'][0]['Value']['Number'][0]"
   ]
  },
  {
   "cell_type": "code",
   "execution_count": 5,
   "metadata": {},
   "outputs": [],
   "source": [
    "def get_h_bond_donor(response):\n",
    "    for att0 in response['Record']['Section']:\n",
    "        if att0['TOCHeading'] == 'Chemical and Physical Properties':\n",
    "            for att1 in att0['Section']:\n",
    "                if att1['TOCHeading'] == 'Computed Properties':\n",
    "                    for att2 in att1['Section']:\n",
    "                        if att2['TOCHeading'] == 'Hydrogen Bond Donor Count':\n",
    "                            return att2['Information'][0]['Value']['Number'][0]"
   ]
  },
  {
   "cell_type": "code",
   "execution_count": 6,
   "metadata": {},
   "outputs": [],
   "source": [
    "def get_mol_weight(response):\n",
    "    for att0 in response_json['Record']['Section']:\n",
    "        if att0['TOCHeading'] == 'Chemical and Physical Properties':\n",
    "            for att1 in att0['Section']:\n",
    "                if att1['TOCHeading'] == 'Computed Properties':\n",
    "                    for att2 in att1['Section']:\n",
    "                        if att2['TOCHeading'] == 'Molecular Weight':\n",
    "                            return float(att2['Information'][0]['Value']['StringWithMarkup'][0]['String'])"
   ]
  },
  {
   "cell_type": "code",
   "execution_count": 7,
   "metadata": {},
   "outputs": [],
   "source": [
    "def get_logp(response):\n",
    "    for att0 in response_json['Record']['Section']:\n",
    "        if att0['TOCHeading'] == 'Chemical and Physical Properties':\n",
    "            for att1 in att0['Section']:\n",
    "                if att1['TOCHeading'] == 'Experimental Properties':\n",
    "                    for att2 in att1['Section']:\n",
    "                        if att2['TOCHeading'] == 'LogP':\n",
    "                            try:\n",
    "                                return att2['Information'][0]['Value']['Number'][0]\n",
    "                            except:\n",
    "                                logP_string = att2['Information'][0]['Value']['StringWithMarkup'][0]['String']\n",
    "                                return float(''.join([i for i in logP_string if i.isdigit() or i in ('.', '-')]))"
   ]
  },
  {
   "cell_type": "code",
   "execution_count": 8,
   "metadata": {},
   "outputs": [],
   "source": [
    "def get_xlogp3(response):\n",
    "    for att0 in response['Record']['Section']:\n",
    "        if att0['TOCHeading'] == 'Chemical and Physical Properties':\n",
    "            for att1 in att0['Section']:\n",
    "                if att1['TOCHeading'] == 'Computed Properties':\n",
    "                    for att2 in att1['Section']:\n",
    "                        if att2['TOCHeading'] == 'XLogP3':\n",
    "                            try:\n",
    "                                return att2['Information'][0]['Value']['Number'][0]\n",
    "                            except:\n",
    "                                logP_string = att2['Information'][0]['Value']['StringWithMarkup'][0]['String'] \n",
    "                                return float(''.join([i for i in logP_string if i.isdigit() or i in ('.', '-')]))"
   ]
  },
  {
   "cell_type": "code",
   "execution_count": 9,
   "metadata": {},
   "outputs": [],
   "source": [
    "def get_isomeric_smiles(response):\n",
    "    for att0 in response['Record']['Section']:\n",
    "        if att0['TOCHeading'] == 'Names and Identifiers':\n",
    "            for att1 in att0['Section']:\n",
    "                if att1['TOCHeading'] == 'Computed Descriptors':\n",
    "                    for att2 in att1['Section']:\n",
    "                        if att2['TOCHeading'] == 'Isomeric SMILES':\n",
    "                            return att2['Information'][0]['Value']['StringWithMarkup'][0]['String']"
   ]
  },
  {
   "cell_type": "code",
   "execution_count": 10,
   "metadata": {},
   "outputs": [],
   "source": [
    "def get_canonical_smiles(response):\n",
    "    for att0 in response['Record']['Section']:\n",
    "        if att0['TOCHeading'] == 'Names and Identifiers':\n",
    "            for att1 in att0['Section']:\n",
    "                if att1['TOCHeading'] == 'Computed Descriptors':\n",
    "                    for att2 in att1['Section']:\n",
    "                        if att2['TOCHeading'] == 'Canonical SMILES':\n",
    "                            return att2['Information'][0]['Value']['StringWithMarkup'][0]['String']"
   ]
  },
  {
   "cell_type": "code",
   "execution_count": 11,
   "metadata": {},
   "outputs": [],
   "source": [
    "cid = 1 #1983 #10917\n",
    "url = f'https://pubchem.ncbi.nlm.nih.gov/rest/pug_view/data/compound/{cid}/JSON'\n",
    "response = rq.get(url)\n",
    "response_json = rq.get(url).json()"
   ]
  },
  {
   "cell_type": "code",
   "execution_count": 12,
   "metadata": {},
   "outputs": [
    {
     "data": {
      "text/plain": [
       "'Acetylcarnitine'"
      ]
     },
     "execution_count": 12,
     "metadata": {},
     "output_type": "execute_result"
    }
   ],
   "source": [
    "get_name(response_json)"
   ]
  },
  {
   "cell_type": "code",
   "execution_count": 13,
   "metadata": {},
   "outputs": [
    {
     "data": {
      "text/plain": [
       "'N06BX12'"
      ]
     },
     "execution_count": 13,
     "metadata": {},
     "output_type": "execute_result"
    }
   ],
   "source": [
    "get_atc_code(response)"
   ]
  },
  {
   "cell_type": "code",
   "execution_count": 14,
   "metadata": {},
   "outputs": [
    {
     "data": {
      "text/plain": [
       "203.24"
      ]
     },
     "execution_count": 14,
     "metadata": {},
     "output_type": "execute_result"
    }
   ],
   "source": [
    "get_mol_weight(response_json)"
   ]
  },
  {
   "cell_type": "code",
   "execution_count": 15,
   "metadata": {},
   "outputs": [
    {
     "data": {
      "text/plain": [
       "0"
      ]
     },
     "execution_count": 15,
     "metadata": {},
     "output_type": "execute_result"
    }
   ],
   "source": [
    "get_h_bond_donor(response_json)"
   ]
  },
  {
   "cell_type": "code",
   "execution_count": 16,
   "metadata": {},
   "outputs": [
    {
     "data": {
      "text/plain": [
       "4"
      ]
     },
     "execution_count": 16,
     "metadata": {},
     "output_type": "execute_result"
    }
   ],
   "source": [
    "get_h_bond_accept(response_json)"
   ]
  },
  {
   "cell_type": "code",
   "execution_count": 17,
   "metadata": {},
   "outputs": [],
   "source": [
    "get_logp(response_json)"
   ]
  },
  {
   "cell_type": "code",
   "execution_count": 18,
   "metadata": {},
   "outputs": [
    {
     "data": {
      "text/plain": [
       "0.4"
      ]
     },
     "execution_count": 18,
     "metadata": {},
     "output_type": "execute_result"
    }
   ],
   "source": [
    "get_xlogp3(response_json)"
   ]
  },
  {
   "cell_type": "code",
   "execution_count": 19,
   "metadata": {},
   "outputs": [],
   "source": [
    "get_isomeric_smiles(response_json)"
   ]
  },
  {
   "cell_type": "code",
   "execution_count": 20,
   "metadata": {},
   "outputs": [
    {
     "data": {
      "text/plain": [
       "'CC(=O)OC(CC(=O)[O-])C[N+](C)(C)C'"
      ]
     },
     "execution_count": 20,
     "metadata": {},
     "output_type": "execute_result"
    }
   ],
   "source": [
    "get_canonical_smiles(response_json)"
   ]
  },
  {
   "cell_type": "code",
   "execution_count": 21,
   "metadata": {},
   "outputs": [
    {
     "data": {
      "text/plain": [
       "'CC(=O)OC(CC(=O)[O-])C[N+](C)(C)C'"
      ]
     },
     "execution_count": 21,
     "metadata": {},
     "output_type": "execute_result"
    }
   ],
   "source": [
    "get_isomeric_smiles(response_json) if get_isomeric_smiles(response_json) else get_canonical_smiles(response_json)"
   ]
  },
  {
   "cell_type": "code",
   "execution_count": 22,
   "metadata": {},
   "outputs": [
    {
     "data": {
      "text/plain": [
       "0.4"
      ]
     },
     "execution_count": 22,
     "metadata": {},
     "output_type": "execute_result"
    }
   ],
   "source": [
    "get_logp(response_json) if get_logp(response_json) else get_xlogp3(response_json)"
   ]
  },
  {
   "cell_type": "code",
   "execution_count": 23,
   "metadata": {},
   "outputs": [
    {
     "data": {
      "text/plain": [
       "' df_atc = pd.DataFrame(columns = df_keys)\\ndf_no_atc = pd.DataFrame(columns = df_keys) '"
      ]
     },
     "execution_count": 23,
     "metadata": {},
     "output_type": "execute_result"
    }
   ],
   "source": [
    "df_keys = [\"CID\", \"HBondAcceptorCount\", \"HBondDonorCount\", \"MolecularWeight\", \"LogP\", \"IsomericSMILES\", \"ATC_Code\"]\n",
    "\"\"\" df_atc = pd.DataFrame(columns = df_keys)\n",
    "df_no_atc = pd.DataFrame(columns = df_keys) \"\"\""
   ]
  },
  {
   "cell_type": "code",
   "execution_count": 25,
   "metadata": {},
   "outputs": [
    {
     "name": "stdout",
     "output_type": "stream",
     "text": [
      "{'CID': 260364, 'HBondAcceptorCount': 4, 'HBondDonorCount': 3, 'MolecularWeight': 215.63, 'LogP': -1.3, 'IsomericSMILES': 'C1=CC(=CC=C1C(CC(=O)O)NO)Cl', 'ATC_Code': None}\n",
      "34 53448\n"
     ]
    }
   ],
   "source": [
    "cids = list(range(260364, 300000))\n",
    "df_atc = pd.read_csv('pubchem_fin_atc.csv')\n",
    "df_no_atc = pd.read_csv('pubchem_fin_no_atc.csv')\n",
    "df_dic = {}\n",
    "\n",
    "i=0\n",
    "for cid in cids:\n",
    "    url = f'https://pubchem.ncbi.nlm.nih.gov/rest/pug_view/data/compound/{cid}/JSON'\n",
    "    \n",
    "    response_text = rq.get(url)\n",
    "    response_json = rq.get(url).json()\n",
    "    \n",
    "    try:\n",
    "        df_dic['CID'] = cid\n",
    "        df_dic['HBondAcceptorCount'] = get_h_bond_accept(response_json)\n",
    "        df_dic['HBondDonorCount'] = get_h_bond_donor(response_json)\n",
    "        df_dic['MolecularWeight'] = get_mol_weight(response_json)\n",
    "        df_dic['LogP'] = get_logp(response_json) if get_logp(response_json) else get_xlogp3(response_json)\n",
    "        df_dic['IsomericSMILES'] = get_isomeric_smiles(response_json) if get_isomeric_smiles(response_json) else get_canonical_smiles(response_json)\n",
    "        df_dic['ATC_Code'] = get_atc_code(response_text)\n",
    "\n",
    "        if response_text:\n",
    "            if get_atc_code(response_text):\n",
    "                print(get_atc_code(response_text))\n",
    "                df_atc.loc[len(df_atc)] = df_dic\n",
    "            else:\n",
    "                print('no atc')\n",
    "                df_no_atc.loc[len(df_no_atc)] = df_dic\n",
    "        df_atc.to_csv('pubchem_fin_atc.csv', index=False)\n",
    "        df_no_atc.to_csv('pubchem_fin_no_atc.csv', index=False)\n",
    "    except:\n",
    "        print('except', cid)\n",
    "        pass\n",
    "\n",
    "    i += 1\n",
    "    clear_output()\n",
    "    print(df_dic)\n",
    "    print(len(df_atc), len(df_no_atc))\n",
    "\n",
    "display(df_atc.head())\n",
    "display(df_no_atc.head())"
   ]
  },
  {
   "cell_type": "code",
   "execution_count": null,
   "metadata": {},
   "outputs": [
    {
     "data": {
      "text/plain": [
       "'Acetaminophen'"
      ]
     },
     "metadata": {},
     "output_type": "display_data"
    }
   ],
   "source": [
    "# código para añadir descripción de los códigos atc\n",
    "\n",
    "atc_codes=pd.read_csv('atc_codes.csv', sep=';')\n",
    "atc_dict = atc_codes.to_dict()\n",
    "atc_dict\n",
    "pc_df = pd.read_csv('pubchem_1_2000_atc.csv')\n",
    "pc_df['atc_code'] = pc_df['atc_code'].str[0]\n",
    "pc_df['atc_desc'] = pc_df['atc_code'].apply(lambda x)\n",
    "pc_df"
   ]
  },
  {
   "cell_type": "code",
   "execution_count": 24,
   "metadata": {},
   "outputs": [
    {
     "data": {
      "text/html": [
       "<div>\n",
       "<style scoped>\n",
       "    .dataframe tbody tr th:only-of-type {\n",
       "        vertical-align: middle;\n",
       "    }\n",
       "\n",
       "    .dataframe tbody tr th {\n",
       "        vertical-align: top;\n",
       "    }\n",
       "\n",
       "    .dataframe thead th {\n",
       "        text-align: right;\n",
       "    }\n",
       "</style>\n",
       "<table border=\"1\" class=\"dataframe\">\n",
       "  <thead>\n",
       "    <tr style=\"text-align: right;\">\n",
       "      <th></th>\n",
       "      <th>CID</th>\n",
       "      <th>HBondAcceptorCount</th>\n",
       "      <th>HBondDonorCount</th>\n",
       "      <th>MolecularWeight</th>\n",
       "      <th>LogP</th>\n",
       "      <th>IsomericSMILES</th>\n",
       "      <th>ATC_Code</th>\n",
       "    </tr>\n",
       "  </thead>\n",
       "  <tbody>\n",
       "    <tr>\n",
       "      <th>27</th>\n",
       "      <td>235905</td>\n",
       "      <td>1</td>\n",
       "      <td>1</td>\n",
       "      <td>300.5</td>\n",
       "      <td>5.3</td>\n",
       "      <td>C[C@]12CC[C@H]3[C@H]([C@@H]1CC[C@]2(CC=C)O)CCC...</td>\n",
       "      <td>G03DC01</td>\n",
       "    </tr>\n",
       "    <tr>\n",
       "      <th>28</th>\n",
       "      <td>241903</td>\n",
       "      <td>12</td>\n",
       "      <td>3</td>\n",
       "      <td>811.0</td>\n",
       "      <td>3.7</td>\n",
       "      <td>CC[C@@]1(C[C@@H]2C[C@@](C3=C(CCN(C2)C1)C4=CC=C...</td>\n",
       "      <td>L01CA01</td>\n",
       "    </tr>\n",
       "    <tr>\n",
       "      <th>29</th>\n",
       "      <td>244809</td>\n",
       "      <td>3</td>\n",
       "      <td>2</td>\n",
       "      <td>302.4</td>\n",
       "      <td>2.8</td>\n",
       "      <td>C[C@]12CC[C@H]3[C@H]([C@@H]1C[C@H]([C@H]2O)O)C...</td>\n",
       "      <td>G03GB03</td>\n",
       "    </tr>\n",
       "    <tr>\n",
       "      <th>30</th>\n",
       "      <td>244879</td>\n",
       "      <td>6</td>\n",
       "      <td>3</td>\n",
       "      <td>516.7</td>\n",
       "      <td>5.5</td>\n",
       "      <td>C[C@H]1[C@@H]2CC[C@]3([C@H]([C@]2(CC[C@H]1O)C)...</td>\n",
       "      <td>D06AX01</td>\n",
       "    </tr>\n",
       "    <tr>\n",
       "      <th>31</th>\n",
       "      <td>247839</td>\n",
       "      <td>3</td>\n",
       "      <td>1</td>\n",
       "      <td>344.5</td>\n",
       "      <td>3.2</td>\n",
       "      <td>C[C@H]1C[C@H]2[C@@H]3CC[C@@H]([C@]3(C[C@@H]([C...</td>\n",
       "      <td>S01BA08</td>\n",
       "    </tr>\n",
       "  </tbody>\n",
       "</table>\n",
       "</div>"
      ],
      "text/plain": [
       "       CID  HBondAcceptorCount  HBondDonorCount  MolecularWeight  LogP   \n",
       "27  235905                   1                1            300.5   5.3  \\\n",
       "28  241903                  12                3            811.0   3.7   \n",
       "29  244809                   3                2            302.4   2.8   \n",
       "30  244879                   6                3            516.7   5.5   \n",
       "31  247839                   3                1            344.5   3.2   \n",
       "\n",
       "                                       IsomericSMILES ATC_Code  \n",
       "27  C[C@]12CC[C@H]3[C@H]([C@@H]1CC[C@]2(CC=C)O)CCC...  G03DC01  \n",
       "28  CC[C@@]1(C[C@@H]2C[C@@](C3=C(CCN(C2)C1)C4=CC=C...  L01CA01  \n",
       "29  C[C@]12CC[C@H]3[C@H]([C@@H]1C[C@H]([C@H]2O)O)C...  G03GB03  \n",
       "30  C[C@H]1[C@@H]2CC[C@]3([C@H]([C@]2(CC[C@H]1O)C)...  D06AX01  \n",
       "31  C[C@H]1C[C@H]2[C@@H]3CC[C@@H]([C@]3(C[C@@H]([C...  S01BA08  "
      ]
     },
     "metadata": {},
     "output_type": "display_data"
    },
    {
     "data": {
      "text/html": [
       "<div>\n",
       "<style scoped>\n",
       "    .dataframe tbody tr th:only-of-type {\n",
       "        vertical-align: middle;\n",
       "    }\n",
       "\n",
       "    .dataframe tbody tr th {\n",
       "        vertical-align: top;\n",
       "    }\n",
       "\n",
       "    .dataframe thead th {\n",
       "        text-align: right;\n",
       "    }\n",
       "</style>\n",
       "<table border=\"1\" class=\"dataframe\">\n",
       "  <thead>\n",
       "    <tr style=\"text-align: right;\">\n",
       "      <th></th>\n",
       "      <th>CID</th>\n",
       "      <th>HBondAcceptorCount</th>\n",
       "      <th>HBondDonorCount</th>\n",
       "      <th>MolecularWeight</th>\n",
       "      <th>LogP</th>\n",
       "      <th>IsomericSMILES</th>\n",
       "      <th>ATC_Code</th>\n",
       "    </tr>\n",
       "  </thead>\n",
       "  <tbody>\n",
       "    <tr>\n",
       "      <th>45702</th>\n",
       "      <td>252616</td>\n",
       "      <td>2</td>\n",
       "      <td>0</td>\n",
       "      <td>398.09</td>\n",
       "      <td>4.7</td>\n",
       "      <td>COC1=CC=C(C=C1)C(=O)C(C(C2=CC=CC=C2)Br)Br</td>\n",
       "      <td>NaN</td>\n",
       "    </tr>\n",
       "    <tr>\n",
       "      <th>45703</th>\n",
       "      <td>252617</td>\n",
       "      <td>4</td>\n",
       "      <td>1</td>\n",
       "      <td>241.24</td>\n",
       "      <td>3.4</td>\n",
       "      <td>C1=CC=C(C=C1)NN=CC2=CC=C(C=C2)[N+](=O)[O-]</td>\n",
       "      <td>NaN</td>\n",
       "    </tr>\n",
       "    <tr>\n",
       "      <th>45704</th>\n",
       "      <td>252618</td>\n",
       "      <td>4</td>\n",
       "      <td>1</td>\n",
       "      <td>241.24</td>\n",
       "      <td>3.4</td>\n",
       "      <td>C1=CC=C(C=C1)NN=CC2=CC(=CC=C2)[N+](=O)[O-]</td>\n",
       "      <td>NaN</td>\n",
       "    </tr>\n",
       "    <tr>\n",
       "      <th>45705</th>\n",
       "      <td>252619</td>\n",
       "      <td>1</td>\n",
       "      <td>1</td>\n",
       "      <td>238.32</td>\n",
       "      <td>3.6</td>\n",
       "      <td>C1C(CC(C1C2=CC=CC=C2)C3=CC=CC=C3)O</td>\n",
       "      <td>NaN</td>\n",
       "    </tr>\n",
       "    <tr>\n",
       "      <th>45706</th>\n",
       "      <td>252620</td>\n",
       "      <td>1</td>\n",
       "      <td>2</td>\n",
       "      <td>303.40</td>\n",
       "      <td>2.2</td>\n",
       "      <td>C1C(C(C2=C1NC(=NC2=O)N)C3=CC=CC=C3)C4=CC=CC=C4</td>\n",
       "      <td>NaN</td>\n",
       "    </tr>\n",
       "  </tbody>\n",
       "</table>\n",
       "</div>"
      ],
      "text/plain": [
       "          CID  HBondAcceptorCount  HBondDonorCount  MolecularWeight  LogP   \n",
       "45702  252616                   2                0           398.09   4.7  \\\n",
       "45703  252617                   4                1           241.24   3.4   \n",
       "45704  252618                   4                1           241.24   3.4   \n",
       "45705  252619                   1                1           238.32   3.6   \n",
       "45706  252620                   1                2           303.40   2.2   \n",
       "\n",
       "                                       IsomericSMILES  ATC_Code  \n",
       "45702       COC1=CC=C(C=C1)C(=O)C(C(C2=CC=CC=C2)Br)Br       NaN  \n",
       "45703      C1=CC=C(C=C1)NN=CC2=CC=C(C=C2)[N+](=O)[O-]       NaN  \n",
       "45704      C1=CC=C(C=C1)NN=CC2=CC(=CC=C2)[N+](=O)[O-]       NaN  \n",
       "45705              C1C(CC(C1C2=CC=CC=C2)C3=CC=CC=C3)O       NaN  \n",
       "45706  C1C(C(C2=C1NC(=NC2=O)N)C3=CC=CC=C3)C4=CC=CC=C4       NaN  "
      ]
     },
     "metadata": {},
     "output_type": "display_data"
    }
   ],
   "source": [
    "df_atc = pd.read_csv('pubchem_fin_atc.csv')\n",
    "df_no_atc = pd.read_csv('pubchem_fin_no_atc.csv')\n",
    "display(df_atc.tail(), df_no_atc.tail())"
   ]
  }
 ],
 "metadata": {
  "kernelspec": {
   "display_name": "kedro-environment",
   "language": "python",
   "name": "python3"
  },
  "language_info": {
   "codemirror_mode": {
    "name": "ipython",
    "version": 3
   },
   "file_extension": ".py",
   "mimetype": "text/x-python",
   "name": "python",
   "nbconvert_exporter": "python",
   "pygments_lexer": "ipython3",
   "version": "3.11.3"
  },
  "orig_nbformat": 4
 },
 "nbformat": 4,
 "nbformat_minor": 2
}
