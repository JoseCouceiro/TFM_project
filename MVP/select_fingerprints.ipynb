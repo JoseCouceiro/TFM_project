{
 "cells": [
  {
   "attachments": {},
   "cell_type": "markdown",
   "metadata": {},
   "source": [
    "## Selecting the fingerprints"
   ]
  },
  {
   "attachments": {},
   "cell_type": "markdown",
   "metadata": {},
   "source": [
    "In this notebook I'm going to select the fingerprints that store the information in a more appropriate manner for a CNN model of 1 dimension. To do that, I'm going to program a script that uses different fingerprints to train a CNN and I will chose the ones giving a model with the best accuracy. The model is build to be fast to speed up the process."
   ]
  },
  {
   "attachments": {},
   "cell_type": "markdown",
   "metadata": {},
   "source": [
    "## Imports"
   ]
  },
  {
   "cell_type": "code",
   "execution_count": 39,
   "metadata": {},
   "outputs": [],
   "source": [
    "import os\n",
    "import pandas as pd\n",
    "import numpy as np\n",
    "from sklearn.model_selection import train_test_split\n",
    "from tensorflow.keras import Sequential\n",
    "from tensorflow.keras.layers import Dense\n",
    "from tensorflow.keras.layers import Conv1D\n",
    "from tensorflow.keras.layers import MaxPool1D\n",
    "from tensorflow.keras.layers import Flatten\n",
    "from tensorflow.keras.layers import Dropout\n",
    "from tensorflow.keras.callbacks import EarlyStopping\n",
    "import warnings"
   ]
  },
  {
   "attachments": {},
   "cell_type": "markdown",
   "metadata": {},
   "source": [
    "### Load data"
   ]
  },
  {
   "cell_type": "code",
   "execution_count": 40,
   "metadata": {},
   "outputs": [],
   "source": [
    "pd.options.mode.chained_assignment = None"
   ]
  },
  {
   "cell_type": "code",
   "execution_count": 41,
   "metadata": {},
   "outputs": [
    {
     "data": {
      "text/html": [
       "<div>\n",
       "<style scoped>\n",
       "    .dataframe tbody tr th:only-of-type {\n",
       "        vertical-align: middle;\n",
       "    }\n",
       "\n",
       "    .dataframe tbody tr th {\n",
       "        vertical-align: top;\n",
       "    }\n",
       "\n",
       "    .dataframe thead th {\n",
       "        text-align: right;\n",
       "    }\n",
       "</style>\n",
       "<table border=\"1\" class=\"dataframe\">\n",
       "  <thead>\n",
       "    <tr style=\"text-align: right;\">\n",
       "      <th></th>\n",
       "      <th>CID</th>\n",
       "      <th>ATC_Code_Short</th>\n",
       "      <th>Molecule</th>\n",
       "      <th>ATC_Code_#</th>\n",
       "      <th>ConnInvariants</th>\n",
       "      <th>Morgan2FP</th>\n",
       "      <th>MACCSKeys</th>\n",
       "      <th>AtomPairFP</th>\n",
       "      <th>TopTorFP</th>\n",
       "      <th>AvalonFP</th>\n",
       "      <th>PubchemFP</th>\n",
       "      <th>CactvsFP</th>\n",
       "    </tr>\n",
       "  </thead>\n",
       "  <tbody>\n",
       "    <tr>\n",
       "      <th>0</th>\n",
       "      <td>1</td>\n",
       "      <td>N</td>\n",
       "      <td>&lt;rdkit.Chem.rdchem.Mol object at 0x00000236B52...</td>\n",
       "      <td>10</td>\n",
       "      <td>[2246728737, 2246699815, 864942730, 864674487,...</td>\n",
       "      <td>[0, 1, 0, 0, 0, 0, 0, 0, 0, 0, 0, 0, 0, 0, 0, ...</td>\n",
       "      <td>[0, 0, 0, 0, 0, 0, 0, 0, 0, 0, 0, 0, 0, 0, 0, ...</td>\n",
       "      <td>[0, 0, 0, 0, 0, 0, 0, 0, 0, 0, 0, 0, 0, 0, 0, ...</td>\n",
       "      <td>[0, 0, 0, 0, 0, 0, 0, 0, 0, 0, 0, 0, 0, 0, 0, ...</td>\n",
       "      <td>[0, 0, 0, 0, 0, 0, 0, 0, 0, 0, 0, 0, 0, 0, 0, ...</td>\n",
       "      <td>[1, 1, 0, 1, 1, 1, 0, 0, 0, 1, 1, 1, 1, 0, 0, ...</td>\n",
       "      <td>[1, 1, 0, 1, 1, 1, 0, 0, 0, 1, 1, 1, 1, 0, 0, ...</td>\n",
       "    </tr>\n",
       "    <tr>\n",
       "      <th>1</th>\n",
       "      <td>119</td>\n",
       "      <td>N</td>\n",
       "      <td>&lt;rdkit.Chem.rdchem.Mol object at 0x00000236B52...</td>\n",
       "      <td>10</td>\n",
       "      <td>[2245384272, 2245384272, 2246699815, 864942730...</td>\n",
       "      <td>[0, 0, 0, 0, 0, 0, 0, 0, 0, 0, 0, 0, 0, 0, 0, ...</td>\n",
       "      <td>[0, 0, 0, 0, 0, 0, 0, 0, 0, 0, 0, 0, 0, 0, 0, ...</td>\n",
       "      <td>[0, 0, 0, 0, 0, 0, 0, 0, 0, 0, 0, 0, 0, 0, 0, ...</td>\n",
       "      <td>[0, 0, 0, 0, 0, 0, 0, 0, 0, 0, 0, 0, 0, 0, 0, ...</td>\n",
       "      <td>[0, 0, 0, 0, 0, 0, 0, 0, 0, 0, 0, 0, 0, 0, 0, ...</td>\n",
       "      <td>[1, 1, 0, 1, 1, 1, 0, 0, 0, 1, 1, 1, 0, 0, 0, ...</td>\n",
       "      <td>[1, 1, 0, 1, 1, 1, 0, 0, 0, 1, 1, 1, 0, 0, 0, ...</td>\n",
       "    </tr>\n",
       "    <tr>\n",
       "      <th>2</th>\n",
       "      <td>137</td>\n",
       "      <td>L</td>\n",
       "      <td>&lt;rdkit.Chem.rdchem.Mol object at 0x00000236B52...</td>\n",
       "      <td>8</td>\n",
       "      <td>[2245384272, 2245384272, 2246699815, 864942730...</td>\n",
       "      <td>[0, 0, 0, 0, 0, 0, 0, 0, 0, 0, 0, 0, 0, 0, 0, ...</td>\n",
       "      <td>[0, 0, 0, 0, 0, 0, 0, 0, 0, 0, 0, 0, 0, 0, 0, ...</td>\n",
       "      <td>[0, 0, 0, 0, 0, 0, 0, 0, 0, 0, 0, 0, 0, 0, 0, ...</td>\n",
       "      <td>[0, 0, 0, 0, 0, 0, 0, 0, 0, 0, 0, 0, 0, 0, 0, ...</td>\n",
       "      <td>[0, 0, 0, 0, 0, 0, 0, 0, 0, 0, 0, 0, 0, 0, 0, ...</td>\n",
       "      <td>[1, 1, 0, 1, 1, 1, 0, 0, 0, 1, 1, 1, 0, 0, 0, ...</td>\n",
       "      <td>[1, 1, 0, 1, 1, 1, 0, 0, 0, 1, 1, 1, 0, 0, 0, ...</td>\n",
       "    </tr>\n",
       "    <tr>\n",
       "      <th>3</th>\n",
       "      <td>176</td>\n",
       "      <td>G</td>\n",
       "      <td>&lt;rdkit.Chem.rdchem.Mol object at 0x00000236B52...</td>\n",
       "      <td>4</td>\n",
       "      <td>[2246728737, 2246699815, 864942730, 864662311]</td>\n",
       "      <td>[0, 0, 0, 0, 0, 0, 0, 0, 0, 0, 0, 0, 0, 0, 0, ...</td>\n",
       "      <td>[0, 0, 0, 0, 0, 0, 0, 0, 0, 0, 0, 0, 0, 0, 0, ...</td>\n",
       "      <td>[0, 0, 0, 0, 0, 0, 0, 0, 0, 0, 0, 0, 0, 0, 0, ...</td>\n",
       "      <td>[0, 0, 0, 0, 0, 0, 0, 0, 0, 0, 0, 0, 0, 0, 0, ...</td>\n",
       "      <td>[0, 0, 0, 0, 0, 0, 0, 0, 0, 0, 0, 0, 0, 0, 0, ...</td>\n",
       "      <td>[1, 1, 0, 1, 1, 1, 0, 0, 0, 1, 1, 0, 0, 0, 0, ...</td>\n",
       "      <td>[1, 1, 0, 1, 1, 1, 0, 0, 0, 1, 1, 0, 0, 0, 0, ...</td>\n",
       "    </tr>\n",
       "    <tr>\n",
       "      <th>4</th>\n",
       "      <td>187</td>\n",
       "      <td>S</td>\n",
       "      <td>&lt;rdkit.Chem.rdchem.Mol object at 0x00000236B52...</td>\n",
       "      <td>14</td>\n",
       "      <td>[2246728737, 2246699815, 864942730, 864674487,...</td>\n",
       "      <td>[0, 0, 0, 0, 0, 0, 0, 0, 0, 0, 0, 0, 0, 1, 0, ...</td>\n",
       "      <td>[0, 0, 0, 0, 0, 0, 0, 0, 0, 0, 0, 0, 0, 0, 0, ...</td>\n",
       "      <td>[0, 0, 0, 0, 0, 0, 0, 0, 0, 0, 0, 0, 0, 0, 0, ...</td>\n",
       "      <td>[0, 0, 0, 0, 0, 0, 0, 0, 0, 0, 0, 0, 0, 0, 0, ...</td>\n",
       "      <td>[0, 0, 0, 0, 0, 0, 0, 0, 0, 0, 0, 0, 0, 0, 0, ...</td>\n",
       "      <td>[1, 1, 0, 1, 1, 1, 0, 0, 0, 1, 1, 1, 1, 0, 0, ...</td>\n",
       "      <td>[1, 1, 0, 1, 1, 1, 0, 0, 0, 1, 1, 1, 1, 0, 0, ...</td>\n",
       "    </tr>\n",
       "  </tbody>\n",
       "</table>\n",
       "</div>"
      ],
      "text/plain": [
       "   CID ATC_Code_Short                                           Molecule   \n",
       "0    1              N  <rdkit.Chem.rdchem.Mol object at 0x00000236B52...  \\\n",
       "1  119              N  <rdkit.Chem.rdchem.Mol object at 0x00000236B52...   \n",
       "2  137              L  <rdkit.Chem.rdchem.Mol object at 0x00000236B52...   \n",
       "3  176              G  <rdkit.Chem.rdchem.Mol object at 0x00000236B52...   \n",
       "4  187              S  <rdkit.Chem.rdchem.Mol object at 0x00000236B52...   \n",
       "\n",
       "   ATC_Code_#                                     ConnInvariants   \n",
       "0          10  [2246728737, 2246699815, 864942730, 864674487,...  \\\n",
       "1          10  [2245384272, 2245384272, 2246699815, 864942730...   \n",
       "2           8  [2245384272, 2245384272, 2246699815, 864942730...   \n",
       "3           4     [2246728737, 2246699815, 864942730, 864662311]   \n",
       "4          14  [2246728737, 2246699815, 864942730, 864674487,...   \n",
       "\n",
       "                                           Morgan2FP   \n",
       "0  [0, 1, 0, 0, 0, 0, 0, 0, 0, 0, 0, 0, 0, 0, 0, ...  \\\n",
       "1  [0, 0, 0, 0, 0, 0, 0, 0, 0, 0, 0, 0, 0, 0, 0, ...   \n",
       "2  [0, 0, 0, 0, 0, 0, 0, 0, 0, 0, 0, 0, 0, 0, 0, ...   \n",
       "3  [0, 0, 0, 0, 0, 0, 0, 0, 0, 0, 0, 0, 0, 0, 0, ...   \n",
       "4  [0, 0, 0, 0, 0, 0, 0, 0, 0, 0, 0, 0, 0, 1, 0, ...   \n",
       "\n",
       "                                           MACCSKeys   \n",
       "0  [0, 0, 0, 0, 0, 0, 0, 0, 0, 0, 0, 0, 0, 0, 0, ...  \\\n",
       "1  [0, 0, 0, 0, 0, 0, 0, 0, 0, 0, 0, 0, 0, 0, 0, ...   \n",
       "2  [0, 0, 0, 0, 0, 0, 0, 0, 0, 0, 0, 0, 0, 0, 0, ...   \n",
       "3  [0, 0, 0, 0, 0, 0, 0, 0, 0, 0, 0, 0, 0, 0, 0, ...   \n",
       "4  [0, 0, 0, 0, 0, 0, 0, 0, 0, 0, 0, 0, 0, 0, 0, ...   \n",
       "\n",
       "                                          AtomPairFP   \n",
       "0  [0, 0, 0, 0, 0, 0, 0, 0, 0, 0, 0, 0, 0, 0, 0, ...  \\\n",
       "1  [0, 0, 0, 0, 0, 0, 0, 0, 0, 0, 0, 0, 0, 0, 0, ...   \n",
       "2  [0, 0, 0, 0, 0, 0, 0, 0, 0, 0, 0, 0, 0, 0, 0, ...   \n",
       "3  [0, 0, 0, 0, 0, 0, 0, 0, 0, 0, 0, 0, 0, 0, 0, ...   \n",
       "4  [0, 0, 0, 0, 0, 0, 0, 0, 0, 0, 0, 0, 0, 0, 0, ...   \n",
       "\n",
       "                                            TopTorFP   \n",
       "0  [0, 0, 0, 0, 0, 0, 0, 0, 0, 0, 0, 0, 0, 0, 0, ...  \\\n",
       "1  [0, 0, 0, 0, 0, 0, 0, 0, 0, 0, 0, 0, 0, 0, 0, ...   \n",
       "2  [0, 0, 0, 0, 0, 0, 0, 0, 0, 0, 0, 0, 0, 0, 0, ...   \n",
       "3  [0, 0, 0, 0, 0, 0, 0, 0, 0, 0, 0, 0, 0, 0, 0, ...   \n",
       "4  [0, 0, 0, 0, 0, 0, 0, 0, 0, 0, 0, 0, 0, 0, 0, ...   \n",
       "\n",
       "                                            AvalonFP   \n",
       "0  [0, 0, 0, 0, 0, 0, 0, 0, 0, 0, 0, 0, 0, 0, 0, ...  \\\n",
       "1  [0, 0, 0, 0, 0, 0, 0, 0, 0, 0, 0, 0, 0, 0, 0, ...   \n",
       "2  [0, 0, 0, 0, 0, 0, 0, 0, 0, 0, 0, 0, 0, 0, 0, ...   \n",
       "3  [0, 0, 0, 0, 0, 0, 0, 0, 0, 0, 0, 0, 0, 0, 0, ...   \n",
       "4  [0, 0, 0, 0, 0, 0, 0, 0, 0, 0, 0, 0, 0, 0, 0, ...   \n",
       "\n",
       "                                           PubchemFP   \n",
       "0  [1, 1, 0, 1, 1, 1, 0, 0, 0, 1, 1, 1, 1, 0, 0, ...  \\\n",
       "1  [1, 1, 0, 1, 1, 1, 0, 0, 0, 1, 1, 1, 0, 0, 0, ...   \n",
       "2  [1, 1, 0, 1, 1, 1, 0, 0, 0, 1, 1, 1, 0, 0, 0, ...   \n",
       "3  [1, 1, 0, 1, 1, 1, 0, 0, 0, 1, 1, 0, 0, 0, 0, ...   \n",
       "4  [1, 1, 0, 1, 1, 1, 0, 0, 0, 1, 1, 1, 1, 0, 0, ...   \n",
       "\n",
       "                                            CactvsFP  \n",
       "0  [1, 1, 0, 1, 1, 1, 0, 0, 0, 1, 1, 1, 1, 0, 0, ...  \n",
       "1  [1, 1, 0, 1, 1, 1, 0, 0, 0, 1, 1, 1, 0, 0, 0, ...  \n",
       "2  [1, 1, 0, 1, 1, 1, 0, 0, 0, 1, 1, 1, 0, 0, 0, ...  \n",
       "3  [1, 1, 0, 1, 1, 1, 0, 0, 0, 1, 1, 0, 0, 0, 0, ...  \n",
       "4  [1, 1, 0, 1, 1, 1, 0, 0, 0, 1, 1, 1, 1, 0, 0, ...  "
      ]
     },
     "metadata": {},
     "output_type": "display_data"
    },
    {
     "name": "stdout",
     "output_type": "stream",
     "text": [
      "<class 'pandas.core.frame.DataFrame'>\n",
      "RangeIndex: 10183 entries, 0 to 10182\n",
      "Data columns (total 12 columns):\n",
      " #   Column          Non-Null Count  Dtype \n",
      "---  ------          --------------  ----- \n",
      " 0   CID             10183 non-null  int64 \n",
      " 1   ATC_Code_Short  10183 non-null  object\n",
      " 2   Molecule        10183 non-null  object\n",
      " 3   ATC_Code_#      10183 non-null  int32 \n",
      " 4   ConnInvariants  10183 non-null  object\n",
      " 5   Morgan2FP       10183 non-null  object\n",
      " 6   MACCSKeys       10183 non-null  object\n",
      " 7   AtomPairFP      10183 non-null  object\n",
      " 8   TopTorFP        10183 non-null  object\n",
      " 9   AvalonFP        10183 non-null  object\n",
      " 10  PubchemFP       10183 non-null  object\n",
      " 11  CactvsFP        10183 non-null  object\n",
      "dtypes: int32(1), int64(1), object(10)\n",
      "memory usage: 915.0+ KB\n"
     ]
    }
   ],
   "source": [
    "drugs = pd.read_pickle(os.path.join('res', 'pickles', 'all_label_drugs.pkl')).drop('FeatInvariants', axis=1) #I discard the Feature Invariants because they give an error I have to look into yet\n",
    "display(drugs.head())\n",
    "drugs.iloc[0]['Morgan2FP'].shape\n",
    "drugs.info()\n",
    "drugs.dropna(inplace=True)"
   ]
  },
  {
   "attachments": {},
   "cell_type": "markdown",
   "metadata": {},
   "source": [
    "## Functions"
   ]
  },
  {
   "cell_type": "code",
   "execution_count": 42,
   "metadata": {},
   "outputs": [],
   "source": [
    "def select_fp(column_list):\n",
    "    \"\"\"\n",
    "    Function that takes a list of columns and makes a train/test split for each of them with the column containing the labels as y.\n",
    "    Then returns a dictionary with the column name as a key and the tuple with X_train, X_test, y_train, y_test as value.\n",
    "    Input: list with column names\n",
    "    Output: dictionary\n",
    "    \"\"\"\n",
    "    splits_dic = {}\n",
    "    for column in column_list:\n",
    "        X = drugs[column]\n",
    "        y = drugs['ATC_Code_#'] #atc_code_# drug_class_code\t\n",
    "        X_train, X_test, y_train, y_test = train_test_split(X, y, test_size=0.3, random_state=42)\n",
    "        splits_dic[column] = X_train, X_test, y_train, y_test\n",
    "    return splits_dic"
   ]
  },
  {
   "cell_type": "code",
   "execution_count": 72,
   "metadata": {},
   "outputs": [
    {
     "name": "stdout",
     "output_type": "stream",
     "text": [
      "['ConnInvariants', 'Morgan2FP', 'MACCSKeys', 'AtomPairFP', 'TopTorFP', 'AvalonFP', 'PubchemFP', 'CactvsFP']\n",
      "<class 'pandas.core.series.Series'>\n",
      "(7128,)\n",
      "8947    [2246728737, 2092489639, 3218693969, 204143449...\n",
      "5371    [2246728737, 2245273601, 2246728737, 224538427...\n",
      "3397    [2246728737, 2245384272, 2976816164, 296896809...\n",
      "3082    [2246728737, 2246699815, 864942730, 847961216,...\n",
      "5474    [2246728737, 2245273601, 2245384272, 224538427...\n",
      "                              ...                        \n",
      "5734    [2246728737, 3217380708, 3217380708, 321738070...\n",
      "5191    [2246728737, 2245273601, 2245273601, 321738070...\n",
      "5390    [2246728737, 2976033787, 2968968094, 296896809...\n",
      "860     [2968968094, 2976033787, 2976033787, 318945755...\n",
      "7270    [2246728737, 2092489639, 2968968094, 296896809...\n",
      "Name: ConnInvariants, Length: 7128, dtype: object\n"
     ]
    }
   ],
   "source": [
    "fp_list = list(drugs.columns[4:12])\n",
    "print(fp_list)\n",
    "splits_dic = select_fp(fp_list)\n",
    "print(type(splits_dic['ConnInvariants'][0]))\n",
    "print(splits_dic['ConnInvariants'][0].shape)\n",
    "print(splits_dic['ConnInvariants'][0])"
   ]
  },
  {
   "cell_type": "code",
   "execution_count": 68,
   "metadata": {},
   "outputs": [],
   "source": [
    "def build_model(inshape, nclasses):\n",
    "    \"\"\"\n",
    "    Function that builds a CNN model with non optimal conditions.\n",
    "    Input: tuple with inner shape of arrays, integer with number of classes\n",
    "    Output: a CNN model\n",
    "    \"\"\"\n",
    "    model = Sequential()\n",
    "    model.add(Conv1D(100, 9, activation='relu', kernel_initializer='he_uniform', input_shape=inshape))\n",
    "    model.add(MaxPool1D(2))\n",
    "    model.add(Flatten())\n",
    "    model.add(Dense(100, activation='relu', kernel_initializer='he_uniform'))\n",
    "    model.add(Dropout(0.5))\n",
    "    model.add(Dense(nclasses, activation='softmax'))\n",
    "\n",
    "    model.compile(optimizer='adam', loss='sparse_categorical_crossentropy', metrics=['accuracy'])\n",
    "\n",
    "    return model"
   ]
  },
  {
   "cell_type": "code",
   "execution_count": 81,
   "metadata": {},
   "outputs": [],
   "source": [
    "def reshape_and_build(splits_dic):\n",
    "    \"\"\"\n",
    "    Function that takes the dictionary generated by \"select_fp\" and reshapes X_train to fit a CNN model.\n",
    "    Then builds the CNN model using the function 'build_model'. Return both the reshaped arrays and the models.\n",
    "    Input: dictionary with column names as keys and a tuple of arrays as values\n",
    "    Output: dictionary with column names as keys and a tuple with both reshaped arrays and CNN models \n",
    "    \"\"\"\n",
    "    arrays_models_dic = {}\n",
    "    for column, tup in splits_dic.items():\n",
    "        print(column)\n",
    "        print(tup[0])\n",
    "        X_train = np.array(list(tup[0]), dtype=object)\n",
    "        print('Shape X_train: ', X_train.shape, type(X_train))\n",
    "        display(X_train)\n",
    "        X_test = np.array(list(tup[1]), dtype=object)\n",
    "        n_classes = len(np.unique(tup[2]))\n",
    "        print('Number of classes: ', n_classes)\n",
    "        X_train= X_train.reshape((X_train.shape[0], X_train.shape[1], 1))\n",
    "        X_test= X_test.reshape((X_test.shape[0], X_test.shape[1], 1))\n",
    "        print('Reshaped X_train: ', X_train.shape)\n",
    "        in_shape = X_train.shape[1:]\n",
    "        print('In_shape: ', in_shape)\n",
    "        print('Shape y_train: ', tup[2].shape)\n",
    "        \n",
    "        model = build_model(in_shape, n_classes)\n",
    "        arrays_models_dic[column] = X_train, X_test, tup[2], tup[3], model\n",
    "\n",
    "    return arrays_models_dic"
   ]
  },
  {
   "cell_type": "code",
   "execution_count": 82,
   "metadata": {},
   "outputs": [
    {
     "name": "stdout",
     "output_type": "stream",
     "text": [
      "ConnInvariants\n",
      "8947    [2246728737, 2092489639, 3218693969, 204143449...\n",
      "5371    [2246728737, 2245273601, 2246728737, 224538427...\n",
      "3397    [2246728737, 2245384272, 2976816164, 296896809...\n",
      "3082    [2246728737, 2246699815, 864942730, 847961216,...\n",
      "5474    [2246728737, 2245273601, 2245384272, 224538427...\n",
      "                              ...                        \n",
      "5734    [2246728737, 3217380708, 3217380708, 321738070...\n",
      "5191    [2246728737, 2245273601, 2245273601, 321738070...\n",
      "5390    [2246728737, 2976033787, 2968968094, 296896809...\n",
      "860     [2968968094, 2976033787, 2976033787, 318945755...\n",
      "7270    [2246728737, 2092489639, 2968968094, 296896809...\n",
      "Name: ConnInvariants, Length: 7128, dtype: object\n",
      "Shape X_train:  (7128,) <class 'numpy.ndarray'>\n",
      "0: 7128\n"
     ]
    },
    {
     "data": {
      "text/plain": [
       "array([array([2246728737, 2092489639, 3218693969, 2041434490, 3218693969,\n",
       "              3217380708, 2245277810, 3217380708, 3218693969, 3218693969,\n",
       "              3217380708, 3218693969, 3218693969, 1016841875, 3217380708,\n",
       "              3218693969, 3217380708, 3217380708, 3218693969, 3218693969,\n",
       "              2092489639, 3217380708,  864942730, 3218693969, 3217380708,\n",
       "              3217380708, 3218693969, 3217380708, 3218693969, 3218693969,\n",
       "              3218693969, 1016841875, 2246728737,  847957139], dtype=int64),\n",
       "       array([2246728737, 2245273601, 2246728737, 2245384272, 2976033787,\n",
       "              3217380708,  864942730, 2092489639, 2968968094, 2968968094,\n",
       "              2968968094, 2976033787, 2976816164, 2092489639, 3217380708,\n",
       "               864942730, 2976816164, 3189457552, 2245273601, 2246728737,\n",
       "              2246728737,  847961216, 2246699815,  864942730, 2976033787,\n",
       "              2968968094, 2092489639, 2976033787, 2968968094, 3217380708,\n",
       "              3217380708, 2132511834, 3217380708, 3218693969, 3218693969,\n",
       "              3218693969, 3217380708, 3217380708, 3217380708, 3218693969,\n",
       "              3612926680, 2246728737,  864662311, 2246728737,  999334238,\n",
       "               864942730,  864942730,  864662311], dtype=int64)          ,\n",
       "       array([2246728737, 2245384272, 2976816164, 2968968094, 2976033787,\n",
       "              2968968094, 2976816164, 3217380708, 3217380708, 2968968094,\n",
       "              2968968094, 2092489639, 2968968094, 2968968094, 3217380708,\n",
       "              3218693969, 3218693969, 3218693969, 3218693969, 3217380708,\n",
       "              2132511834, 3217380708, 3217380708, 3218693969, 3217380708,\n",
       "              3217380708, 3218693969, 2976816164, 2968968094, 2968968094,\n",
       "              2092489639, 2976033787, 2976816164, 3218693969, 3218693969,\n",
       "              2968968094, 2976033787, 2976816164, 2976033787, 2092489639,\n",
       "              2246728737, 2246699815,  864942730,  864674487, 2246728737,\n",
       "               864662311,  864674487, 2246699815,  864942730, 2246728737,\n",
       "              2245384272, 2246728737,  864674487, 2246728737, 2246699815,\n",
       "               864942730,  864674487, 2246728737,  864662311], dtype=int64),\n",
       "       ...,\n",
       "       array([2246728737, 2976033787, 2968968094, 2968968094, 2968968094,\n",
       "              2976033787, 2092489639,  847961216, 2246699815,  864942730,\n",
       "              3217380708, 3218693969, 3217380708, 3217380708, 3218693969,\n",
       "              3218693969, 1016841875,  999334238,  864942730,  864942730,\n",
       "               847957139, 2246728737, 2246728737, 2245273601, 2246728737,\n",
       "               847961216, 2245384272, 2245273601, 2245384272,  864674487,\n",
       "              3217380708, 3218693969, 3218693969, 3218693969, 3217380708,\n",
       "              3217380708, 3218693969, 3218693969, 2132511834,  864662311],\n",
       "             dtype=int64)                                                 ,\n",
       "       array([2968968094, 2976033787, 2976033787, 3189457552, 2976033787,\n",
       "              2092489639, 3218693969, 3217380708, 3217380708,  864942730,\n",
       "              2132511834, 3217380708,  864942730,  319552149, 2245384272,\n",
       "               864662311,  864662311], dtype=int64)                      ,\n",
       "       array([2246728737, 2092489639, 2968968094, 2968968094, 2976816164,\n",
       "              2968968094, 2968968094, 2968968094, 2968968094, 2976033787,\n",
       "              2976033787, 2968968094, 3217380708, 3217380708, 3218693969,\n",
       "              3217380708, 3218693969, 3218693969,  864662311], dtype=int64)],\n",
       "      dtype=object)"
      ]
     },
     "metadata": {},
     "output_type": "display_data"
    },
    {
     "name": "stdout",
     "output_type": "stream",
     "text": [
      "Number of classes:  16\n"
     ]
    },
    {
     "ename": "IndexError",
     "evalue": "tuple index out of range",
     "output_type": "error",
     "traceback": [
      "\u001b[1;31m---------------------------------------------------------------------------\u001b[0m",
      "\u001b[1;31mIndexError\u001b[0m                                Traceback (most recent call last)",
      "Cell \u001b[1;32mIn[82], line 1\u001b[0m\n\u001b[1;32m----> 1\u001b[0m array_model_dic\u001b[39m=\u001b[39m reshape_and_build(splits_dic)\n",
      "Cell \u001b[1;32mIn[81], line 19\u001b[0m, in \u001b[0;36mreshape_and_build\u001b[1;34m(splits_dic)\u001b[0m\n\u001b[0;32m     17\u001b[0m n_classes \u001b[39m=\u001b[39m \u001b[39mlen\u001b[39m(np\u001b[39m.\u001b[39munique(tup[\u001b[39m2\u001b[39m]))\n\u001b[0;32m     18\u001b[0m \u001b[39mprint\u001b[39m(\u001b[39m'\u001b[39m\u001b[39mNumber of classes: \u001b[39m\u001b[39m'\u001b[39m, n_classes)\n\u001b[1;32m---> 19\u001b[0m X_train\u001b[39m=\u001b[39m X_train\u001b[39m.\u001b[39mreshape((X_train\u001b[39m.\u001b[39mshape[\u001b[39m0\u001b[39m], X_train\u001b[39m.\u001b[39;49mshape[\u001b[39m1\u001b[39;49m], \u001b[39m1\u001b[39m))\n\u001b[0;32m     20\u001b[0m X_test\u001b[39m=\u001b[39m X_test\u001b[39m.\u001b[39mreshape((X_test\u001b[39m.\u001b[39mshape[\u001b[39m0\u001b[39m], X_test\u001b[39m.\u001b[39mshape[\u001b[39m1\u001b[39m], \u001b[39m1\u001b[39m))\n\u001b[0;32m     21\u001b[0m \u001b[39mprint\u001b[39m(\u001b[39m'\u001b[39m\u001b[39mReshaped X_train: \u001b[39m\u001b[39m'\u001b[39m, X_train\u001b[39m.\u001b[39mshape)\n",
      "\u001b[1;31mIndexError\u001b[0m: tuple index out of range"
     ]
    }
   ],
   "source": [
    "array_model_dic= reshape_and_build(splits_dic)"
   ]
  },
  {
   "cell_type": "code",
   "execution_count": 19,
   "metadata": {},
   "outputs": [],
   "source": [
    "def fit_model(arrays_models_dic):\n",
    "    \"\"\"\n",
    "    Function that takes the dictionary generated by 'reshape_and_build' and fits the CNN model contained in the values with the X_train and y_train arrays also in the values.\n",
    "    Then evaluates the model against X_test e y_test and returns the accuracy of each model.\n",
    "    Input: dictionary with column names as keys and a tuple with reshaped arrays and CNN models\n",
    "    Output: a dictionary with column names as keys and the accuracy obtained by the CNN model for that column\n",
    "    \"\"\"\n",
    "    accuracies_dic = {}\n",
    "    es = EarlyStopping(monitor='val_loss', patience=1)\n",
    "    for column, tup in arrays_models_dic.items():\n",
    "        print(f\"Analysing {column}\")\n",
    "        tup[4].fit(tup[0], tup[2], epochs=10, batch_size=128, verbose=1, validation_split = 0.2, callbacks = [es])\n",
    "        loss, acc = tup[4].evaluate(tup[1], tup[3], verbose=1)\n",
    "        accuracies_dic[column] = f'{acc:.3f}'\n",
    "    return accuracies_dic"
   ]
  },
  {
   "attachments": {},
   "cell_type": "markdown",
   "metadata": {},
   "source": [
    "## Selection of the best fingerprints"
   ]
  },
  {
   "attachments": {},
   "cell_type": "markdown",
   "metadata": {},
   "source": [
    "Select the columns containing fingerprints"
   ]
  },
  {
   "cell_type": "code",
   "execution_count": 56,
   "metadata": {},
   "outputs": [
    {
     "data": {
      "text/plain": [
       "['ConnInvariants',\n",
       " 'Morgan2FP',\n",
       " 'MACCSKeys',\n",
       " 'AtomPairFP',\n",
       " 'TopTorFP',\n",
       " 'AvalonFP',\n",
       " 'PubchemFP',\n",
       " 'CactvsFP']"
      ]
     },
     "execution_count": 56,
     "metadata": {},
     "output_type": "execute_result"
    }
   ],
   "source": [
    "fp_list = list(drugs.columns[4:12])\n",
    "fp_list"
   ]
  },
  {
   "attachments": {},
   "cell_type": "markdown",
   "metadata": {},
   "source": [
    "Run the functions to obtain the dictionary with the accuracies"
   ]
  },
  {
   "cell_type": "code",
   "execution_count": 57,
   "metadata": {},
   "outputs": [
    {
     "name": "stdout",
     "output_type": "stream",
     "text": [
      "ConnInvariants\n",
      "Shape X_train:  (7128,) <class 'numpy.ndarray'>\n",
      "0: 7128\n"
     ]
    },
    {
     "data": {
      "text/plain": [
       "array([2246728737, 2092489639, 3218693969, 2041434490, 3218693969,\n",
       "       3217380708, 2245277810, 3217380708, 3218693969, 3218693969,\n",
       "       3217380708, 3218693969, 3218693969, 1016841875, 3217380708,\n",
       "       3218693969, 3217380708, 3217380708, 3218693969, 3218693969,\n",
       "       2092489639, 3217380708,  864942730, 3218693969, 3217380708,\n",
       "       3217380708, 3218693969, 3217380708, 3218693969, 3218693969,\n",
       "       3218693969, 1016841875, 2246728737,  847957139], dtype=int64)"
      ]
     },
     "metadata": {},
     "output_type": "display_data"
    },
    {
     "name": "stdout",
     "output_type": "stream",
     "text": [
      "Number of classes:  16\n"
     ]
    },
    {
     "ename": "IndexError",
     "evalue": "tuple index out of range",
     "output_type": "error",
     "traceback": [
      "\u001b[1;31m---------------------------------------------------------------------------\u001b[0m",
      "\u001b[1;31mIndexError\u001b[0m                                Traceback (most recent call last)",
      "Cell \u001b[1;32mIn[57], line 5\u001b[0m\n\u001b[0;32m      1\u001b[0m \u001b[39m# Note for the evaluator: This step may take long,\u001b[39;00m\n\u001b[0;32m      2\u001b[0m \u001b[39m# you may want to run it partially and see that it works and then skip it and see the result below\u001b[39;00m\n\u001b[0;32m      3\u001b[0m \u001b[39m# or decrease substantially the number of epochs\u001b[39;00m\n\u001b[0;32m      4\u001b[0m splits_dic \u001b[39m=\u001b[39m select_fp(fp_list)\n\u001b[1;32m----> 5\u001b[0m array_model_dic\u001b[39m=\u001b[39m reshape_and_build(splits_dic)\n\u001b[0;32m      6\u001b[0m accuracies_dic \u001b[39m=\u001b[39m fit_model(array_model_dic)\n",
      "Cell \u001b[1;32mIn[52], line 18\u001b[0m, in \u001b[0;36mreshape_and_build\u001b[1;34m(splits_dic)\u001b[0m\n\u001b[0;32m     16\u001b[0m n_classes \u001b[39m=\u001b[39m \u001b[39mlen\u001b[39m(np\u001b[39m.\u001b[39munique(tup[\u001b[39m2\u001b[39m]))\n\u001b[0;32m     17\u001b[0m \u001b[39mprint\u001b[39m(\u001b[39m'\u001b[39m\u001b[39mNumber of classes: \u001b[39m\u001b[39m'\u001b[39m, n_classes)\n\u001b[1;32m---> 18\u001b[0m X_train\u001b[39m=\u001b[39m X_train\u001b[39m.\u001b[39mreshape((X_train\u001b[39m.\u001b[39mshape[\u001b[39m0\u001b[39m], X_train\u001b[39m.\u001b[39;49mshape[\u001b[39m1\u001b[39;49m], \u001b[39m1\u001b[39m))\n\u001b[0;32m     19\u001b[0m X_test\u001b[39m=\u001b[39m X_test\u001b[39m.\u001b[39mreshape((X_test\u001b[39m.\u001b[39mshape[\u001b[39m0\u001b[39m], X_test\u001b[39m.\u001b[39mshape[\u001b[39m1\u001b[39m], \u001b[39m1\u001b[39m))\n\u001b[0;32m     20\u001b[0m \u001b[39mprint\u001b[39m(\u001b[39m'\u001b[39m\u001b[39mReshaped X_train: \u001b[39m\u001b[39m'\u001b[39m, X_train\u001b[39m.\u001b[39mshape)\n",
      "\u001b[1;31mIndexError\u001b[0m: tuple index out of range"
     ]
    }
   ],
   "source": [
    "# Note for the evaluator: This step may take long,\n",
    "# you may want to run it partially and see that it works and then skip it and see the result below\n",
    "# or decrease substantially the number of epochs\n",
    "splits_dic = select_fp(fp_list)\n",
    "array_model_dic= reshape_and_build(splits_dic)\n",
    "accuracies_dic = fit_model(array_model_dic)"
   ]
  },
  {
   "cell_type": "code",
   "execution_count": 30,
   "metadata": {},
   "outputs": [
    {
     "data": {
      "text/plain": [
       "{'Morgan2FP': '0.556',\n",
       " 'MACCSKeys': '0.484',\n",
       " 'AtomPairFP': '0.253',\n",
       " 'TopTorFP': '0.572',\n",
       " 'AvalonFP': '0.261',\n",
       " 'PubchemFP': '0.353',\n",
       " 'CactvsFP': '0.353'}"
      ]
     },
     "execution_count": 30,
     "metadata": {},
     "output_type": "execute_result"
    }
   ],
   "source": [
    "accuracies_dic"
   ]
  },
  {
   "attachments": {},
   "cell_type": "markdown",
   "metadata": {},
   "source": [
    "With 100 epochs and a patiente of 3, the best accuracy is achieved with the Morgan fingerprints. These will be used to tune and train our CNN model."
   ]
  },
  {
   "cell_type": "code",
   "execution_count": 2,
   "metadata": {},
   "outputs": [],
   "source": [
    "accuracies_dic = {'Morgan2FP': '0.556',\n",
    " 'MACCSKeys': '0.484',\n",
    " 'AtomPairFP': '0.253',\n",
    " 'TopTorFP': '0.572',\n",
    " 'AvalonFP': '0.261',\n",
    " 'PubchemFP': '0.353',\n",
    " 'CactvsFP': '0.353'}"
   ]
  },
  {
   "cell_type": "code",
   "execution_count": 3,
   "metadata": {},
   "outputs": [],
   "source": [
    "selected_fp = max(accuracies_dic, key=accuracies_dic.get)"
   ]
  },
  {
   "cell_type": "code",
   "execution_count": 4,
   "metadata": {},
   "outputs": [
    {
     "data": {
      "text/plain": [
       "'TopTorFP'"
      ]
     },
     "execution_count": 4,
     "metadata": {},
     "output_type": "execute_result"
    }
   ],
   "source": [
    "selected_fp"
   ]
  },
  {
   "cell_type": "code",
   "execution_count": null,
   "metadata": {},
   "outputs": [],
   "source": []
  }
 ],
 "metadata": {
  "kernelspec": {
   "display_name": "Python 3 (ipykernel)",
   "language": "python",
   "name": "python3"
  },
  "language_info": {
   "codemirror_mode": {
    "name": "ipython",
    "version": 3
   },
   "file_extension": ".py",
   "mimetype": "text/x-python",
   "name": "python",
   "nbconvert_exporter": "python",
   "pygments_lexer": "ipython3",
   "version": "3.11.3"
  }
 },
 "nbformat": 4,
 "nbformat_minor": 2
}
