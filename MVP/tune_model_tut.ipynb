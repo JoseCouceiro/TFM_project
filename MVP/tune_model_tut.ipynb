{
 "cells": [
  {
   "attachments": {},
   "cell_type": "markdown",
   "metadata": {},
   "source": [
    "## Building an optimized CNN Model for Morgan fingerprints"
   ]
  },
  {
   "attachments": {},
   "cell_type": "markdown",
   "metadata": {},
   "source": [
    "This Notebook will uses Keras Tuner to find the best hyperparameters for a CNN model which will label molecules according to their Morgan fingerprints"
   ]
  },
  {
   "attachments": {},
   "cell_type": "markdown",
   "metadata": {},
   "source": [
    "#### In case the requirements.txt file won't work"
   ]
  },
  {
   "cell_type": "code",
   "execution_count": 1,
   "metadata": {},
   "outputs": [],
   "source": [
    "#pip install keras_tuner"
   ]
  },
  {
   "attachments": {},
   "cell_type": "markdown",
   "metadata": {},
   "source": [
    "### Imports"
   ]
  },
  {
   "cell_type": "code",
   "execution_count": 2,
   "metadata": {},
   "outputs": [],
   "source": [
    "import os\n",
    "import pandas as pd\n",
    "import numpy as np\n",
    "import matplotlib.pyplot as plt\n",
    "from sklearn.model_selection import train_test_split\n",
    "from sklearn import metrics\n",
    "from numpy import unique\n",
    "from numpy import argmax\n",
    "from keras_tuner import RandomSearch\n",
    "from tensorflow.keras import layers\n",
    "from tensorflow import keras\n",
    "from tensorflow.keras.datasets.mnist import load_data\n",
    "from tensorflow.keras.models import Sequential, load_model\n",
    "from tensorflow.keras.layers import Dense, Conv1D, MaxPool1D, Flatten, Dropout\n",
    "from tensorflow.keras.callbacks import EarlyStopping, ModelCheckpoint\n",
    "import warnings\n",
    "warnings.filterwarnings(\"ignore\")"
   ]
  },
  {
   "attachments": {},
   "cell_type": "markdown",
   "metadata": {},
   "source": [
    "### Loading data"
   ]
  },
  {
   "cell_type": "code",
   "execution_count": 3,
   "metadata": {},
   "outputs": [],
   "source": [
    "drugs = pd.read_pickle(os.path.join('res', 'pickles', 'all_label_drugs.pkl'))"
   ]
  },
  {
   "cell_type": "code",
   "execution_count": 4,
   "metadata": {},
   "outputs": [
    {
     "data": {
      "text/html": [
       "<div>\n",
       "<style scoped>\n",
       "    .dataframe tbody tr th:only-of-type {\n",
       "        vertical-align: middle;\n",
       "    }\n",
       "\n",
       "    .dataframe tbody tr th {\n",
       "        vertical-align: top;\n",
       "    }\n",
       "\n",
       "    .dataframe thead th {\n",
       "        text-align: right;\n",
       "    }\n",
       "</style>\n",
       "<table border=\"1\" class=\"dataframe\">\n",
       "  <thead>\n",
       "    <tr style=\"text-align: right;\">\n",
       "      <th></th>\n",
       "      <th>CID</th>\n",
       "      <th>ATC_Code_Short</th>\n",
       "      <th>Molecule</th>\n",
       "      <th>ATC_Code_#</th>\n",
       "      <th>FeatInvariants</th>\n",
       "      <th>ConnInvariants</th>\n",
       "      <th>Morgan2FP</th>\n",
       "      <th>MACCSKeys</th>\n",
       "      <th>AtomPairFP</th>\n",
       "      <th>TopTorFP</th>\n",
       "      <th>AvalonFP</th>\n",
       "      <th>PubchemFP</th>\n",
       "      <th>CactvsFP</th>\n",
       "    </tr>\n",
       "  </thead>\n",
       "  <tbody>\n",
       "    <tr>\n",
       "      <th>0</th>\n",
       "      <td>1</td>\n",
       "      <td>N</td>\n",
       "      <td>&lt;rdkit.Chem.rdchem.Mol object at 0x0000018F230...</td>\n",
       "      <td>10</td>\n",
       "      <td>[0, 0, 2, 2, 0, 0, 32, 2, 2, 0, 16, 0, 0, 0]</td>\n",
       "      <td>[2246728737, 2246699815, 864942730, 864674487,...</td>\n",
       "      <td>[0, 1, 0, 0, 0, 0, 0, 0, 0, 0, 0, 0, 0, 0, 0, ...</td>\n",
       "      <td>[0, 0, 0, 0, 0, 0, 0, 0, 0, 0, 0, 0, 0, 0, 0, ...</td>\n",
       "      <td>[0, 0, 0, 0, 0, 0, 0, 0, 0, 0, 0, 0, 0, 0, 0, ...</td>\n",
       "      <td>[0, 0, 0, 0, 0, 0, 0, 0, 0, 0, 0, 0, 0, 0, 0, ...</td>\n",
       "      <td>[0, 0, 0, 0, 0, 0, 0, 0, 0, 0, 0, 0, 0, 0, 0, ...</td>\n",
       "      <td>[1, 1, 0, 1, 1, 1, 0, 0, 0, 1, 1, 1, 1, 0, 0, ...</td>\n",
       "      <td>[1, 1, 0, 1, 1, 1, 0, 0, 0, 1, 1, 1, 1, 0, 0, ...</td>\n",
       "    </tr>\n",
       "    <tr>\n",
       "      <th>1</th>\n",
       "      <td>119</td>\n",
       "      <td>N</td>\n",
       "      <td>&lt;rdkit.Chem.rdchem.Mol object at 0x0000018F230...</td>\n",
       "      <td>10</td>\n",
       "      <td>[0, 0, 32, 2, 1, 0, 19]</td>\n",
       "      <td>[2245384272, 2245384272, 2246699815, 864942730...</td>\n",
       "      <td>[0, 0, 0, 0, 0, 0, 0, 0, 0, 0, 0, 0, 0, 0, 0, ...</td>\n",
       "      <td>[0, 0, 0, 0, 0, 0, 0, 0, 0, 0, 0, 0, 0, 0, 0, ...</td>\n",
       "      <td>[0, 0, 0, 0, 0, 0, 0, 0, 0, 0, 0, 0, 0, 0, 0, ...</td>\n",
       "      <td>[0, 0, 0, 0, 0, 0, 0, 0, 0, 0, 0, 0, 0, 0, 0, ...</td>\n",
       "      <td>[0, 0, 0, 0, 0, 0, 0, 0, 0, 0, 0, 0, 0, 0, 0, ...</td>\n",
       "      <td>[1, 1, 0, 1, 1, 1, 0, 0, 0, 1, 1, 1, 0, 0, 0, ...</td>\n",
       "      <td>[1, 1, 0, 1, 1, 1, 0, 0, 0, 1, 1, 1, 0, 0, 0, ...</td>\n",
       "    </tr>\n",
       "    <tr>\n",
       "      <th>2</th>\n",
       "      <td>137</td>\n",
       "      <td>L</td>\n",
       "      <td>&lt;rdkit.Chem.rdchem.Mol object at 0x0000018F230...</td>\n",
       "      <td>8</td>\n",
       "      <td>[0, 0, 32, 2, 1, 0, 2, 0, 19]</td>\n",
       "      <td>[2245384272, 2245384272, 2246699815, 864942730...</td>\n",
       "      <td>[0, 0, 0, 0, 0, 0, 0, 0, 0, 0, 0, 0, 0, 0, 0, ...</td>\n",
       "      <td>[0, 0, 0, 0, 0, 0, 0, 0, 0, 0, 0, 0, 0, 0, 0, ...</td>\n",
       "      <td>[0, 0, 0, 0, 0, 0, 0, 0, 0, 0, 0, 0, 0, 0, 0, ...</td>\n",
       "      <td>[0, 0, 0, 0, 0, 0, 0, 0, 0, 0, 0, 0, 0, 0, 0, ...</td>\n",
       "      <td>[0, 0, 0, 0, 0, 0, 0, 0, 0, 0, 0, 0, 0, 0, 0, ...</td>\n",
       "      <td>[1, 1, 0, 1, 1, 1, 0, 0, 0, 1, 1, 1, 0, 0, 0, ...</td>\n",
       "      <td>[1, 1, 0, 1, 1, 1, 0, 0, 0, 1, 1, 1, 0, 0, 0, ...</td>\n",
       "    </tr>\n",
       "    <tr>\n",
       "      <th>3</th>\n",
       "      <td>176</td>\n",
       "      <td>G</td>\n",
       "      <td>&lt;rdkit.Chem.rdchem.Mol object at 0x0000018F230...</td>\n",
       "      <td>4</td>\n",
       "      <td>[0, 32, 2, 1]</td>\n",
       "      <td>[2246728737, 2246699815, 864942730, 864662311]</td>\n",
       "      <td>[0, 0, 0, 0, 0, 0, 0, 0, 0, 0, 0, 0, 0, 0, 0, ...</td>\n",
       "      <td>[0, 0, 0, 0, 0, 0, 0, 0, 0, 0, 0, 0, 0, 0, 0, ...</td>\n",
       "      <td>[0, 0, 0, 0, 0, 0, 0, 0, 0, 0, 0, 0, 0, 0, 0, ...</td>\n",
       "      <td>[0, 0, 0, 0, 0, 0, 0, 0, 0, 0, 0, 0, 0, 0, 0, ...</td>\n",
       "      <td>[0, 0, 0, 0, 0, 0, 0, 0, 0, 0, 0, 0, 0, 0, 0, ...</td>\n",
       "      <td>[1, 1, 0, 1, 1, 1, 0, 0, 0, 1, 1, 0, 0, 0, 0, ...</td>\n",
       "      <td>[1, 1, 0, 1, 1, 1, 0, 0, 0, 1, 1, 0, 0, 0, 0, ...</td>\n",
       "    </tr>\n",
       "    <tr>\n",
       "      <th>4</th>\n",
       "      <td>187</td>\n",
       "      <td>S</td>\n",
       "      <td>&lt;rdkit.Chem.rdchem.Mol object at 0x0000018F231...</td>\n",
       "      <td>14</td>\n",
       "      <td>[0, 0, 2, 2, 0, 0, 16, 0, 0, 0]</td>\n",
       "      <td>[2246728737, 2246699815, 864942730, 864674487,...</td>\n",
       "      <td>[0, 0, 0, 0, 0, 0, 0, 0, 0, 0, 0, 0, 0, 1, 0, ...</td>\n",
       "      <td>[0, 0, 0, 0, 0, 0, 0, 0, 0, 0, 0, 0, 0, 0, 0, ...</td>\n",
       "      <td>[0, 0, 0, 0, 0, 0, 0, 0, 0, 0, 0, 0, 0, 0, 0, ...</td>\n",
       "      <td>[0, 0, 0, 0, 0, 0, 0, 0, 0, 0, 0, 0, 0, 0, 0, ...</td>\n",
       "      <td>[0, 0, 0, 0, 0, 0, 0, 0, 0, 0, 0, 0, 0, 0, 0, ...</td>\n",
       "      <td>[1, 1, 0, 1, 1, 1, 0, 0, 0, 1, 1, 1, 1, 0, 0, ...</td>\n",
       "      <td>[1, 1, 0, 1, 1, 1, 0, 0, 0, 1, 1, 1, 1, 0, 0, ...</td>\n",
       "    </tr>\n",
       "  </tbody>\n",
       "</table>\n",
       "</div>"
      ],
      "text/plain": [
       "   CID ATC_Code_Short                                           Molecule   \n",
       "0    1              N  <rdkit.Chem.rdchem.Mol object at 0x0000018F230...  \\\n",
       "1  119              N  <rdkit.Chem.rdchem.Mol object at 0x0000018F230...   \n",
       "2  137              L  <rdkit.Chem.rdchem.Mol object at 0x0000018F230...   \n",
       "3  176              G  <rdkit.Chem.rdchem.Mol object at 0x0000018F230...   \n",
       "4  187              S  <rdkit.Chem.rdchem.Mol object at 0x0000018F231...   \n",
       "\n",
       "   ATC_Code_#                                FeatInvariants   \n",
       "0          10  [0, 0, 2, 2, 0, 0, 32, 2, 2, 0, 16, 0, 0, 0]  \\\n",
       "1          10                       [0, 0, 32, 2, 1, 0, 19]   \n",
       "2           8                 [0, 0, 32, 2, 1, 0, 2, 0, 19]   \n",
       "3           4                                 [0, 32, 2, 1]   \n",
       "4          14               [0, 0, 2, 2, 0, 0, 16, 0, 0, 0]   \n",
       "\n",
       "                                      ConnInvariants   \n",
       "0  [2246728737, 2246699815, 864942730, 864674487,...  \\\n",
       "1  [2245384272, 2245384272, 2246699815, 864942730...   \n",
       "2  [2245384272, 2245384272, 2246699815, 864942730...   \n",
       "3     [2246728737, 2246699815, 864942730, 864662311]   \n",
       "4  [2246728737, 2246699815, 864942730, 864674487,...   \n",
       "\n",
       "                                           Morgan2FP   \n",
       "0  [0, 1, 0, 0, 0, 0, 0, 0, 0, 0, 0, 0, 0, 0, 0, ...  \\\n",
       "1  [0, 0, 0, 0, 0, 0, 0, 0, 0, 0, 0, 0, 0, 0, 0, ...   \n",
       "2  [0, 0, 0, 0, 0, 0, 0, 0, 0, 0, 0, 0, 0, 0, 0, ...   \n",
       "3  [0, 0, 0, 0, 0, 0, 0, 0, 0, 0, 0, 0, 0, 0, 0, ...   \n",
       "4  [0, 0, 0, 0, 0, 0, 0, 0, 0, 0, 0, 0, 0, 1, 0, ...   \n",
       "\n",
       "                                           MACCSKeys   \n",
       "0  [0, 0, 0, 0, 0, 0, 0, 0, 0, 0, 0, 0, 0, 0, 0, ...  \\\n",
       "1  [0, 0, 0, 0, 0, 0, 0, 0, 0, 0, 0, 0, 0, 0, 0, ...   \n",
       "2  [0, 0, 0, 0, 0, 0, 0, 0, 0, 0, 0, 0, 0, 0, 0, ...   \n",
       "3  [0, 0, 0, 0, 0, 0, 0, 0, 0, 0, 0, 0, 0, 0, 0, ...   \n",
       "4  [0, 0, 0, 0, 0, 0, 0, 0, 0, 0, 0, 0, 0, 0, 0, ...   \n",
       "\n",
       "                                          AtomPairFP   \n",
       "0  [0, 0, 0, 0, 0, 0, 0, 0, 0, 0, 0, 0, 0, 0, 0, ...  \\\n",
       "1  [0, 0, 0, 0, 0, 0, 0, 0, 0, 0, 0, 0, 0, 0, 0, ...   \n",
       "2  [0, 0, 0, 0, 0, 0, 0, 0, 0, 0, 0, 0, 0, 0, 0, ...   \n",
       "3  [0, 0, 0, 0, 0, 0, 0, 0, 0, 0, 0, 0, 0, 0, 0, ...   \n",
       "4  [0, 0, 0, 0, 0, 0, 0, 0, 0, 0, 0, 0, 0, 0, 0, ...   \n",
       "\n",
       "                                            TopTorFP   \n",
       "0  [0, 0, 0, 0, 0, 0, 0, 0, 0, 0, 0, 0, 0, 0, 0, ...  \\\n",
       "1  [0, 0, 0, 0, 0, 0, 0, 0, 0, 0, 0, 0, 0, 0, 0, ...   \n",
       "2  [0, 0, 0, 0, 0, 0, 0, 0, 0, 0, 0, 0, 0, 0, 0, ...   \n",
       "3  [0, 0, 0, 0, 0, 0, 0, 0, 0, 0, 0, 0, 0, 0, 0, ...   \n",
       "4  [0, 0, 0, 0, 0, 0, 0, 0, 0, 0, 0, 0, 0, 0, 0, ...   \n",
       "\n",
       "                                            AvalonFP   \n",
       "0  [0, 0, 0, 0, 0, 0, 0, 0, 0, 0, 0, 0, 0, 0, 0, ...  \\\n",
       "1  [0, 0, 0, 0, 0, 0, 0, 0, 0, 0, 0, 0, 0, 0, 0, ...   \n",
       "2  [0, 0, 0, 0, 0, 0, 0, 0, 0, 0, 0, 0, 0, 0, 0, ...   \n",
       "3  [0, 0, 0, 0, 0, 0, 0, 0, 0, 0, 0, 0, 0, 0, 0, ...   \n",
       "4  [0, 0, 0, 0, 0, 0, 0, 0, 0, 0, 0, 0, 0, 0, 0, ...   \n",
       "\n",
       "                                           PubchemFP   \n",
       "0  [1, 1, 0, 1, 1, 1, 0, 0, 0, 1, 1, 1, 1, 0, 0, ...  \\\n",
       "1  [1, 1, 0, 1, 1, 1, 0, 0, 0, 1, 1, 1, 0, 0, 0, ...   \n",
       "2  [1, 1, 0, 1, 1, 1, 0, 0, 0, 1, 1, 1, 0, 0, 0, ...   \n",
       "3  [1, 1, 0, 1, 1, 1, 0, 0, 0, 1, 1, 0, 0, 0, 0, ...   \n",
       "4  [1, 1, 0, 1, 1, 1, 0, 0, 0, 1, 1, 1, 1, 0, 0, ...   \n",
       "\n",
       "                                            CactvsFP  \n",
       "0  [1, 1, 0, 1, 1, 1, 0, 0, 0, 1, 1, 1, 1, 0, 0, ...  \n",
       "1  [1, 1, 0, 1, 1, 1, 0, 0, 0, 1, 1, 1, 0, 0, 0, ...  \n",
       "2  [1, 1, 0, 1, 1, 1, 0, 0, 0, 1, 1, 1, 0, 0, 0, ...  \n",
       "3  [1, 1, 0, 1, 1, 1, 0, 0, 0, 1, 1, 0, 0, 0, 0, ...  \n",
       "4  [1, 1, 0, 1, 1, 1, 0, 0, 0, 1, 1, 1, 1, 0, 0, ...  "
      ]
     },
     "execution_count": 4,
     "metadata": {},
     "output_type": "execute_result"
    }
   ],
   "source": [
    "drugs.head()"
   ]
  },
  {
   "attachments": {},
   "cell_type": "markdown",
   "metadata": {},
   "source": [
    "### Prepare the data"
   ]
  },
  {
   "cell_type": "code",
   "execution_count": 5,
   "metadata": {},
   "outputs": [
    {
     "data": {
      "text/plain": [
       "Index(['CID', 'ATC_Code_Short', 'Molecule', 'ATC_Code_#', 'FeatInvariants',\n",
       "       'ConnInvariants', 'Morgan2FP', 'MACCSKeys', 'AtomPairFP', 'TopTorFP',\n",
       "       'AvalonFP', 'PubchemFP', 'CactvsFP'],\n",
       "      dtype='object')"
      ]
     },
     "execution_count": 5,
     "metadata": {},
     "output_type": "execute_result"
    }
   ],
   "source": [
    "drugs.columns"
   ]
  },
  {
   "attachments": {},
   "cell_type": "markdown",
   "metadata": {},
   "source": [
    "We have found that Morgan fingerprints are the ones returning the best accuracy in a CNN model (look select_fingerprints.ipynb)"
   ]
  },
  {
   "cell_type": "code",
   "execution_count": 6,
   "metadata": {},
   "outputs": [],
   "source": [
    "#Choose fingerprints to train with\n",
    "X = drugs['TopTorFP']\n",
    "y = drugs['ATC_Code_#']"
   ]
  },
  {
   "cell_type": "code",
   "execution_count": 7,
   "metadata": {},
   "outputs": [],
   "source": [
    "# Train/test split\n",
    "X_train, X_test, y_train, y_test = train_test_split(X, y, test_size=0.3, random_state=42)"
   ]
  },
  {
   "cell_type": "code",
   "execution_count": 8,
   "metadata": {},
   "outputs": [
    {
     "name": "stdout",
     "output_type": "stream",
     "text": [
      "Shape x_train:  (7128, 2048)\n",
      "Number of classes:  16\n",
      "Reshaped x_train:  (7128, 2048, 1)\n",
      "In_shape:  (2048, 1)\n",
      "(7128, 2048, 1) (7128,)\n",
      "(3055, 2048, 1) (3055,)\n"
     ]
    }
   ],
   "source": [
    "# Reshaping the arrays to fit in the model\n",
    "x_train = np.array(list(X_train))\n",
    "x_test = np.array(list(X_test))\n",
    "print('Shape x_train: ', x_train.shape)\n",
    "n_classes = len(unique(y_train))\n",
    "print('Number of classes: ', n_classes)\n",
    "x_train= x_train.reshape((x_train.shape[0], x_train.shape[1], 1))\n",
    "x_test= x_test.reshape((x_test.shape[0], x_test.shape[1], 1))\n",
    "print('Reshaped x_train: ', x_train.shape)\n",
    "in_shape = x_train.shape[1:]\n",
    "print('In_shape: ', in_shape)\n",
    "print(x_train.shape, y_train.shape)\n",
    "print(x_test.shape, y_test.shape)"
   ]
  },
  {
   "cell_type": "code",
   "execution_count": 9,
   "metadata": {},
   "outputs": [
    {
     "ename": "SyntaxError",
     "evalue": "invalid syntax (2286720970.py, line 1)",
     "output_type": "error",
     "traceback": [
      "\u001b[1;36m  Cell \u001b[1;32mIn[9], line 1\u001b[1;36m\u001b[0m\n\u001b[1;33m    Shape x_train:  (4854, 2048)\u001b[0m\n\u001b[1;37m          ^\u001b[0m\n\u001b[1;31mSyntaxError\u001b[0m\u001b[1;31m:\u001b[0m invalid syntax\n"
     ]
    }
   ],
   "source": [
    "Shape x_train:  (4854, 2048)\n",
    "Number of classes:  12\n",
    "Reshapep x_train:  (4854, 2048, 1)\n",
    "In_shape:  (2048, 1)\n",
    "(4854, 2048, 1) (4854,)\n",
    "(2081, 2048, 1) (2081,)"
   ]
  },
  {
   "attachments": {},
   "cell_type": "markdown",
   "metadata": {},
   "source": [
    "### Tuning the model"
   ]
  },
  {
   "attachments": {},
   "cell_type": "markdown",
   "metadata": {},
   "source": [
    "Building the model"
   ]
  },
  {
   "cell_type": "code",
   "execution_count": 10,
   "metadata": {},
   "outputs": [],
   "source": [
    "#model with tuner choosing number of layers\n",
    "\n",
    "def build_model(hp):\n",
    "    \"\"\"\n",
    "    Function that chooses the best hyperparameters for a CNN model and then compiles it.\n",
    "    Input: a set of hyperparamneters\n",
    "    Output: a cnn model\n",
    "    \"\"\"\n",
    "    # Create model object\n",
    "    model = keras.Sequential()\n",
    "    # Choose number of layers\n",
    "    for i in range(hp.Int(\"num_layers\", 1, 5)):\n",
    "        model.add(\n",
    "            layers.Conv1D(\n",
    "        filters=hp.Int('conv_1_filter', min_value=16, max_value=128, step=16),\n",
    "        kernel_size=hp.Choice('conv_1_kernel', values = [3,5]),\n",
    "        activation='relu',\n",
    "        input_shape=(2048, 1)))\n",
    "        model.add(layers.MaxPool1D(hp.Int('pool_size', min_value=2, max_value=6)))\n",
    "        if hp.Boolean(\"dropout\"):\n",
    "            model.add(layers.Dropout(rate=0.25))\n",
    "\n",
    "    model.add(layers.Flatten())\n",
    "    model.add(layers.Dense(\n",
    "        units=hp.Int('dense_1_units', min_value=32, max_value=128, step=16),\n",
    "        activation='relu', kernel_initializer = 'he_uniform'\n",
    "    ))\n",
    "\n",
    "    model.add(layers.Dropout(0.5))\n",
    "    model.add(layers.Dense(16, activation='softmax'))\n",
    "\n",
    "    # Compilation of model\n",
    "    model.compile(optimizer=keras.optimizers.Adam(hp.Choice('learning_rate', values=[1e-2, 1e-3])),\n",
    "              loss='sparse_categorical_crossentropy',\n",
    "              metrics=['accuracy'])\n",
    "    return model"
   ]
  },
  {
   "attachments": {},
   "cell_type": "markdown",
   "metadata": {},
   "source": [
    "Tuning the model"
   ]
  },
  {
   "cell_type": "code",
   "execution_count": 21,
   "metadata": {},
   "outputs": [
    {
     "name": "stdout",
     "output_type": "stream",
     "text": [
      "Trial 5 Complete [00h 00m 47s]\n",
      "val_loss: 1.998681902885437\n",
      "\n",
      "Best val_loss So Far: 1.196704387664795\n",
      "Total elapsed time: 00h 03m 31s\n",
      "INFO:tensorflow:Oracle triggered exit\n"
     ]
    }
   ],
   "source": [
    "tuner = RandomSearch(build_model,\n",
    "                    objective='val_loss',\n",
    "                    max_trials = 5,\n",
    "                    directory = os.path.join('temp', 'tuner', 'RS_tuned_model', '230714_05'))\n",
    "tuner.search(x_train,y_train,epochs=3,validation_data=(x_test,y_test))"
   ]
  },
  {
   "attachments": {},
   "cell_type": "markdown",
   "metadata": {},
   "source": [
    "Obtain and save the model"
   ]
  },
  {
   "cell_type": "code",
   "execution_count": 13,
   "metadata": {},
   "outputs": [
    {
     "name": "stdout",
     "output_type": "stream",
     "text": [
      "Model: \"sequential\"\n",
      "_________________________________________________________________\n",
      " Layer (type)                Output Shape              Param #   \n",
      "=================================================================\n",
      " conv1d (Conv1D)             (None, 2044, 64)          384       \n",
      "                                                                 \n",
      " max_pooling1d (MaxPooling1D  (None, 681, 64)          0         \n",
      " )                                                               \n",
      "                                                                 \n",
      " flatten (Flatten)           (None, 43584)             0         \n",
      "                                                                 \n",
      " dense (Dense)               (None, 32)                1394720   \n",
      "                                                                 \n",
      " dropout (Dropout)           (None, 32)                0         \n",
      "                                                                 \n",
      " dense_1 (Dense)             (None, 16)                528       \n",
      "                                                                 \n",
      "=================================================================\n",
      "Total params: 1,395,632\n",
      "Trainable params: 1,395,632\n",
      "Non-trainable params: 0\n",
      "_________________________________________________________________\n"
     ]
    }
   ],
   "source": [
    "tuned_model = tuner.get_best_models(num_models=1)[0]\n",
    "tuned_model.summary()\n",
    "#tuned_model.save(os.path.join('compiled_models','tuned', 'opt_morgan_model'))"
   ]
  },
  {
   "attachments": {},
   "cell_type": "markdown",
   "metadata": {},
   "source": [
    "### Fit model and choose number of epochs"
   ]
  },
  {
   "attachments": {},
   "cell_type": "markdown",
   "metadata": {},
   "source": [
    "Set EarlyStopping and ModelCheckpoint to select a model with the optimal number of epochs"
   ]
  },
  {
   "cell_type": "code",
   "execution_count": 14,
   "metadata": {},
   "outputs": [
    {
     "name": "stdout",
     "output_type": "stream",
     "text": [
      "Epoch 1/200\n",
      "39/39 [==============================] - 4s 90ms/step - loss: 0.9643 - accuracy: 0.6631 - val_loss: 0.5891 - val_accuracy: 0.8242\n",
      "Epoch 2/200\n",
      "39/39 [==============================] - 3s 82ms/step - loss: 0.8997 - accuracy: 0.6831 - val_loss: 0.5860 - val_accuracy: 0.8298\n",
      "Epoch 3/200\n",
      "39/39 [==============================] - 3s 83ms/step - loss: 0.8574 - accuracy: 0.6933 - val_loss: 0.5846 - val_accuracy: 0.8214\n",
      "Epoch 4/200\n",
      "39/39 [==============================] - 3s 83ms/step - loss: 0.8294 - accuracy: 0.7046 - val_loss: 0.5853 - val_accuracy: 0.8247\n",
      "Epoch 5/200\n",
      "39/39 [==============================] - 3s 87ms/step - loss: 0.8221 - accuracy: 0.7019 - val_loss: 0.5846 - val_accuracy: 0.8195\n",
      "Epoch 6/200\n",
      "39/39 [==============================] - 3s 85ms/step - loss: 0.8036 - accuracy: 0.7068 - val_loss: 0.5889 - val_accuracy: 0.8228\n",
      "Epoch 7/200\n",
      "39/39 [==============================] - 3s 86ms/step - loss: 0.7984 - accuracy: 0.7164 - val_loss: 0.5986 - val_accuracy: 0.8153\n",
      "Epoch 8/200\n",
      "39/39 [==============================] - 3s 87ms/step - loss: 0.7774 - accuracy: 0.7212 - val_loss: 0.6016 - val_accuracy: 0.8153\n",
      "Epoch 9/200\n",
      "39/39 [==============================] - 3s 86ms/step - loss: 0.7815 - accuracy: 0.7122 - val_loss: 0.6134 - val_accuracy: 0.8121\n",
      "Epoch 10/200\n",
      "39/39 [==============================] - 3s 88ms/step - loss: 0.7650 - accuracy: 0.7214 - val_loss: 0.6156 - val_accuracy: 0.8097\n",
      "Epoch 11/200\n",
      "39/39 [==============================] - 3s 88ms/step - loss: 0.7349 - accuracy: 0.7242 - val_loss: 0.6196 - val_accuracy: 0.8055\n",
      "Epoch 12/200\n",
      "39/39 [==============================] - 4s 92ms/step - loss: 0.7345 - accuracy: 0.7252 - val_loss: 0.6285 - val_accuracy: 0.8065\n",
      "Epoch 13/200\n",
      "39/39 [==============================] - 3s 88ms/step - loss: 0.7309 - accuracy: 0.7292 - val_loss: 0.6362 - val_accuracy: 0.8036\n",
      "96/96 [==============================] - 1s 7ms/step - loss: 1.5222 - accuracy: 0.6835\n"
     ]
    }
   ],
   "source": [
    "# Configure early stopping\n",
    "es = EarlyStopping(monitor='val_loss', patience=10)\n",
    "mc = ModelCheckpoint(filepath = os.path.join('compiled_models','checkpoints', '{epoch:02d}-{val_accuracy:.3f}.hdf5'), monitor = 'val_loss', save_best_only = True)\n",
    "\n",
    "# Fit the model\n",
    "history = tuned_model.fit(x_train, y_train, epochs=200, batch_size=128, verbose=1, validation_split = 0.3, callbacks = [es,mc])\n",
    "\n",
    "# Evaluate the model\n",
    "loss, acc = tuned_model.evaluate(x_test, y_test, verbose=1)"
   ]
  },
  {
   "cell_type": "code",
   "execution_count": 15,
   "metadata": {},
   "outputs": [
    {
     "name": "stdout",
     "output_type": "stream",
     "text": [
      "96/96 [==============================] - 1s 6ms/step\n"
     ]
    }
   ],
   "source": [
    "# Getting test predictions\n",
    "y_pred = tuned_model.predict(x_test)\n",
    "y_pred_list = [argmax(x) for x in y_pred]"
   ]
  },
  {
   "cell_type": "code",
   "execution_count": 16,
   "metadata": {},
   "outputs": [],
   "source": [
    "# Save predictions\n",
    "y_pred_ser = pd.Series(y_pred_list)\n",
    "y_pred_ser.to_pickle(path= os.path.join('predictions', 'y_preds.pkl'))"
   ]
  },
  {
   "attachments": {},
   "cell_type": "markdown",
   "metadata": {},
   "source": [
    "#### Visualization of models accuracy"
   ]
  },
  {
   "cell_type": "code",
   "execution_count": 17,
   "metadata": {},
   "outputs": [
    {
     "name": "stdout",
     "output_type": "stream",
     "text": [
      "              precision    recall  f1-score   support\n",
      "\n",
      "           0       0.56      0.64      0.60       223\n",
      "           1       0.59      0.55      0.57       139\n",
      "           2       0.69      0.67      0.68       343\n",
      "           3       0.55      0.26      0.35       115\n",
      "           4       0.76      0.62      0.68       110\n",
      "           5       0.85      0.44      0.58        39\n",
      "           6       0.55      0.63      0.58        67\n",
      "           7       0.79      0.86      0.82       776\n",
      "           8       0.69      0.77      0.73       425\n",
      "           9       0.74      0.22      0.34        63\n",
      "          10       0.59      0.78      0.67       417\n",
      "          11       0.81      0.63      0.71        54\n",
      "          12       0.67      0.33      0.44        42\n",
      "          13       0.62      0.40      0.48        91\n",
      "          14       0.90      0.37      0.53        51\n",
      "          15       0.79      0.48      0.60       100\n",
      "\n",
      "    accuracy                           0.68      3055\n",
      "   macro avg       0.70      0.54      0.58      3055\n",
      "weighted avg       0.69      0.68      0.67      3055\n",
      "\n"
     ]
    }
   ],
   "source": [
    "# Precission and recall for every variable\n",
    "print(metrics.classification_report(y_test,y_pred_list))"
   ]
  },
  {
   "cell_type": "code",
   "execution_count": 18,
   "metadata": {},
   "outputs": [
    {
     "data": {
      "image/png": "[encoded data removed]",
      "text/plain": [
       "<Figure size 640x480 with 1 Axes>"
      ]
     },
     "metadata": {},
     "output_type": "display_data"
    }
   ],
   "source": [
    "#Learning curve visualization\n",
    "\n",
    "fig,ax = plt.subplots()\n",
    "plt.style.use('ggplot')\n",
    "\n",
    "epochs = len(history.history['loss'])\n",
    "epoch_values = list(range(epochs))\n",
    "\n",
    "ax.plot(epoch_values, history.history['loss'], label='Training loss')\n",
    "ax.plot(epoch_values, history.history['val_loss'], label='Validation loss')\n",
    "ax.plot(epoch_values, history.history['accuracy'], label='Training accuracy')\n",
    "ax.plot(epoch_values, history.history['val_accuracy'], label='Validation accuracy')\n",
    "\n",
    "ax.set_title('Training loss and accuracy')\n",
    "ax.set_xlabel('Epoch')\n",
    "ax.set_ylabel('Loss/Accuracy')\n",
    "ax.legend()\n",
    "plt.show()"
   ]
  },
  {
   "cell_type": "code",
   "execution_count": 37,
   "metadata": {},
   "outputs": [],
   "source": [
    "loaded_model = load_model(os.path.join('compiled_models','checkpoints', '04-0.991.hdf5'))"
   ]
  },
  {
   "cell_type": "code",
   "execution_count": 38,
   "metadata": {},
   "outputs": [
    {
     "name": "stdout",
     "output_type": "stream",
     "text": [
      "66/66 [==============================] - 2s 26ms/step\n"
     ]
    }
   ],
   "source": [
    "y_pred = loaded_model.predict(x_test)\n",
    "y_pred_list = [argmax(x) for x in y_pred]"
   ]
  },
  {
   "cell_type": "code",
   "execution_count": 39,
   "metadata": {},
   "outputs": [
    {
     "name": "stdout",
     "output_type": "stream",
     "text": [
      "              precision    recall  f1-score   support\n",
      "\n",
      "           0       0.87      0.89      0.88       721\n",
      "           1       0.81      0.82      0.82        95\n",
      "           2       0.78      0.78      0.78       372\n",
      "           3       0.74      0.73      0.74       232\n",
      "           4       0.70      0.83      0.76       341\n",
      "           5       0.68      0.48      0.57        27\n",
      "           6       0.94      0.68      0.79        75\n",
      "           7       0.77      0.55      0.64        85\n",
      "           8       0.93      0.66      0.77        56\n",
      "           9       0.88      0.90      0.89        39\n",
      "          10       0.94      0.53      0.68        32\n",
      "          11       1.00      0.33      0.50         6\n",
      "\n",
      "    accuracy                           0.80      2081\n",
      "   macro avg       0.84      0.68      0.73      2081\n",
      "weighted avg       0.81      0.80      0.80      2081\n",
      "\n"
     ]
    }
   ],
   "source": [
    "print(metrics.classification_report(y_test,y_pred_list))"
   ]
  },
  {
   "cell_type": "code",
   "execution_count": null,
   "metadata": {},
   "outputs": [],
   "source": []
  }
 ],
 "metadata": {
  "kernelspec": {
   "display_name": "Python 3 (ipykernel)",
   "language": "python",
   "name": "python3"
  },
  "language_info": {
   "codemirror_mode": {
    "name": "ipython",
    "version": 3
   },
   "file_extension": ".py",
   "mimetype": "text/x-python",
   "name": "python",
   "nbconvert_exporter": "python",
   "pygments_lexer": "ipython3",
   "version": "3.10.12"
  }
 },
 "nbformat": 4,
 "nbformat_minor": 2
}
