{
 "cells": [
  {
   "attachments": {},
   "cell_type": "markdown",
   "metadata": {},
   "source": [
    "## Building an optimized CNN Model for Morgan fingerprints"
   ]
  },
  {
   "attachments": {},
   "cell_type": "markdown",
   "metadata": {},
   "source": [
    "This Notebook will uses Keras Tuner to find the best hyperparameters for a CNN model which will label molecules according to their Morgan fingerprints"
   ]
  },
  {
   "attachments": {},
   "cell_type": "markdown",
   "metadata": {},
   "source": [
    "#### In case the requirements.txt file won't work"
   ]
  },
  {
   "cell_type": "code",
   "execution_count": 1,
   "metadata": {},
   "outputs": [],
   "source": [
    "#pip install keras_tuner"
   ]
  },
  {
   "attachments": {},
   "cell_type": "markdown",
   "metadata": {},
   "source": [
    "### Imports"
   ]
  },
  {
   "cell_type": "code",
   "execution_count": 8,
   "metadata": {},
   "outputs": [],
   "source": [
    "import os\n",
    "import pandas as pd\n",
    "import numpy as np\n",
    "import matplotlib.pyplot as plt\n",
    "from sklearn.model_selection import train_test_split\n",
    "from sklearn import metrics\n",
    "from numpy import unique\n",
    "from numpy import argmax\n",
    "from keras_tuner import RandomSearch\n",
    "from tensorflow.keras import layers\n",
    "from tensorflow import keras\n",
    "from tensorflow.keras.datasets.mnist import load_data\n",
    "from tensorflow.keras.models import Sequential, load_model\n",
    "from tensorflow.keras.layers import Dense, Conv1D, MaxPool1D, Flatten, Dropout\n",
    "from tensorflow.keras.callbacks import EarlyStopping, ModelCheckpoint\n",
    "import warnings\n",
    "warnings.filterwarnings(\"ignore\")"
   ]
  },
  {
   "attachments": {},
   "cell_type": "markdown",
   "metadata": {},
   "source": [
    "### Loading data"
   ]
  },
  {
   "cell_type": "code",
   "execution_count": 37,
   "metadata": {},
   "outputs": [],
   "source": [
    "drugs = pd.read_pickle('C:/Users/josin/GitRepositories/TFM_project/drug-predictor/data/05_model_input/input_table.pickle/2023-08-25T16.54.10.335Z/input_table.pickle')"
   ]
  },
  {
   "cell_type": "code",
   "execution_count": 39,
   "metadata": {},
   "outputs": [
    {
     "data": {
      "text/html": [
       "<div>\n",
       "<style scoped>\n",
       "    .dataframe tbody tr th:only-of-type {\n",
       "        vertical-align: middle;\n",
       "    }\n",
       "\n",
       "    .dataframe tbody tr th {\n",
       "        vertical-align: top;\n",
       "    }\n",
       "\n",
       "    .dataframe thead th {\n",
       "        text-align: right;\n",
       "    }\n",
       "</style>\n",
       "<table border=\"1\" class=\"dataframe\">\n",
       "  <thead>\n",
       "    <tr style=\"text-align: right;\">\n",
       "      <th></th>\n",
       "      <th>CID</th>\n",
       "      <th>MATC_Code_Short</th>\n",
       "      <th>MATC_Code_Explanation</th>\n",
       "      <th>Molecule</th>\n",
       "      <th>FeatInvariants</th>\n",
       "      <th>ConnInvariants</th>\n",
       "      <th>Morgan2FP</th>\n",
       "      <th>MACCSKeys</th>\n",
       "      <th>AtomPairFP</th>\n",
       "      <th>TopTorFP</th>\n",
       "      <th>AvalonFP</th>\n",
       "      <th>PubchemFP</th>\n",
       "      <th>Label</th>\n",
       "    </tr>\n",
       "  </thead>\n",
       "  <tbody>\n",
       "    <tr>\n",
       "      <th>0</th>\n",
       "      <td>24769</td>\n",
       "      <td>B</td>\n",
       "      <td>BLOOD AND BLOOD FORMING ORGANS</td>\n",
       "      <td>&lt;rdkit.Chem.rdchem.Mol object at 0x000001FC332...</td>\n",
       "      <td>[0, 18, 0, 0, 0, 0, 0, 0, 0, 18, 0, 0, 0, 0, 8...</td>\n",
       "      <td>[2246728737, 848128881, 2246728737, 2245384272...</td>\n",
       "      <td>[0, 0, 0, 0, 0, 0, 0, 0, 0, 0, 0, 0, 0, 0, 0, ...</td>\n",
       "      <td>[0, 0, 0, 0, 0, 0, 0, 0, 0, 0, 0, 0, 0, 0, 0, ...</td>\n",
       "      <td>[0, 0, 0, 0, 0, 0, 0, 0, 0, 0, 0, 0, 0, 0, 0, ...</td>\n",
       "      <td>[0, 0, 0, 0, 0, 0, 0, 0, 0, 0, 0, 0, 0, 0, 0, ...</td>\n",
       "      <td>[0, 0, 0, 0, 0, 0, 0, 0, 0, 0, 0, 0, 0, 0, 0, ...</td>\n",
       "      <td>[1, 1, 0, 1, 1, 1, 0, 0, 0, 1, 1, 1, 1, 0, 0, ...</td>\n",
       "      <td>1</td>\n",
       "    </tr>\n",
       "    <tr>\n",
       "      <th>1</th>\n",
       "      <td>134694070</td>\n",
       "      <td>C</td>\n",
       "      <td>CARDIOVASCULAR SYSTEM</td>\n",
       "      <td>&lt;rdkit.Chem.rdchem.Mol object at 0x000001FC332...</td>\n",
       "      <td>[0, 0, 2, 0, 17, 17, 4, 4, 4, 6, 4, 4, 6, 4, 4...</td>\n",
       "      <td>[2968968094, 2968968094, 2041434490, 321738070...</td>\n",
       "      <td>[0, 1, 0, 0, 0, 0, 0, 0, 0, 0, 0, 0, 0, 0, 0, ...</td>\n",
       "      <td>[0, 0, 0, 0, 0, 0, 0, 0, 0, 0, 0, 0, 0, 0, 0, ...</td>\n",
       "      <td>[1, 1, 0, 0, 1, 1, 0, 0, 0, 0, 0, 0, 0, 0, 0, ...</td>\n",
       "      <td>[0, 0, 0, 0, 0, 0, 0, 0, 0, 0, 0, 0, 0, 0, 0, ...</td>\n",
       "      <td>[0, 0, 0, 0, 0, 0, 1, 0, 0, 0, 0, 0, 0, 0, 0, ...</td>\n",
       "      <td>[1, 1, 0, 1, 1, 1, 0, 0, 0, 1, 1, 1, 1, 0, 0, ...</td>\n",
       "      <td>2</td>\n",
       "    </tr>\n",
       "    <tr>\n",
       "      <th>2</th>\n",
       "      <td>5121</td>\n",
       "      <td>J</td>\n",
       "      <td>ANTIINFECTIVES FOR SYSTEMIC USE</td>\n",
       "      <td>&lt;rdkit.Chem.rdchem.Mol object at 0x000001FC332...</td>\n",
       "      <td>[0, 0, 2, 0, 2, 0, 0, 16, 4, 4, 4, 4, 4, 4, 8]</td>\n",
       "      <td>[2968968094, 2968968094, 3351556771, 321738070...</td>\n",
       "      <td>[0, 0, 0, 0, 0, 0, 0, 0, 0, 0, 0, 0, 0, 0, 0, ...</td>\n",
       "      <td>[0, 0, 0, 0, 0, 0, 0, 0, 0, 0, 0, 0, 0, 0, 0, ...</td>\n",
       "      <td>[1, 1, 1, 0, 0, 0, 0, 0, 0, 0, 0, 0, 0, 0, 0, ...</td>\n",
       "      <td>[0, 0, 0, 0, 0, 0, 0, 0, 0, 0, 0, 0, 0, 0, 0, ...</td>\n",
       "      <td>[1, 0, 0, 0, 0, 0, 0, 0, 0, 0, 0, 0, 0, 0, 1, ...</td>\n",
       "      <td>[1, 1, 0, 1, 1, 1, 0, 0, 0, 1, 1, 1, 0, 0, 0, ...</td>\n",
       "      <td>7</td>\n",
       "    </tr>\n",
       "    <tr>\n",
       "      <th>3</th>\n",
       "      <td>4660557</td>\n",
       "      <td>N</td>\n",
       "      <td>NERVOUS SYSTEM</td>\n",
       "      <td>&lt;rdkit.Chem.rdchem.Mol object at 0x000001FC332...</td>\n",
       "      <td>[0, 0, 0, 0, 0, 0, 0, 0, 0, 0, 19, 4, 4, 4, 4,...</td>\n",
       "      <td>[2968968094, 2976033787, 2968968094, 297603378...</td>\n",
       "      <td>[0, 0, 0, 0, 0, 0, 0, 0, 0, 0, 0, 0, 0, 0, 0, ...</td>\n",
       "      <td>[0, 0, 0, 0, 0, 0, 0, 0, 0, 0, 0, 0, 0, 0, 0, ...</td>\n",
       "      <td>[1, 1, 1, 1, 1, 0, 0, 0, 0, 0, 0, 0, 0, 0, 0, ...</td>\n",
       "      <td>[0, 0, 0, 0, 0, 0, 0, 0, 0, 0, 0, 0, 0, 0, 0, ...</td>\n",
       "      <td>[0, 0, 0, 0, 1, 0, 0, 0, 0, 0, 0, 0, 0, 0, 0, ...</td>\n",
       "      <td>[1, 1, 0, 1, 1, 1, 0, 0, 0, 1, 1, 1, 1, 0, 0, ...</td>\n",
       "      <td>10</td>\n",
       "    </tr>\n",
       "    <tr>\n",
       "      <th>4</th>\n",
       "      <td>122175</td>\n",
       "      <td>L</td>\n",
       "      <td>ANTINEOPLASTIC AND IMMUNOMODULATING AGENTS</td>\n",
       "      <td>&lt;rdkit.Chem.rdchem.Mol object at 0x000001FC332...</td>\n",
       "      <td>[0, 0, 0, 0, 0, 0, 0, 19, 19]</td>\n",
       "      <td>[2246728737, 2245273601, 2245384272, 224538427...</td>\n",
       "      <td>[0, 1, 0, 0, 0, 0, 0, 0, 0, 0, 0, 0, 0, 0, 0, ...</td>\n",
       "      <td>[0, 0, 0, 0, 0, 0, 0, 0, 0, 0, 0, 0, 0, 0, 0, ...</td>\n",
       "      <td>[0, 0, 0, 0, 0, 0, 0, 0, 0, 0, 0, 0, 0, 0, 0, ...</td>\n",
       "      <td>[0, 0, 0, 0, 0, 0, 0, 0, 0, 0, 0, 0, 0, 0, 0, ...</td>\n",
       "      <td>[0, 0, 0, 0, 0, 0, 0, 0, 0, 0, 0, 0, 0, 0, 0, ...</td>\n",
       "      <td>[1, 1, 0, 1, 1, 1, 0, 0, 0, 1, 1, 1, 0, 0, 0, ...</td>\n",
       "      <td>8</td>\n",
       "    </tr>\n",
       "  </tbody>\n",
       "</table>\n",
       "</div>"
      ],
      "text/plain": [
       "         CID MATC_Code_Short                       MATC_Code_Explanation   \n",
       "0      24769               B              BLOOD AND BLOOD FORMING ORGANS  \\\n",
       "1  134694070               C                       CARDIOVASCULAR SYSTEM   \n",
       "2       5121               J             ANTIINFECTIVES FOR SYSTEMIC USE   \n",
       "3    4660557               N                              NERVOUS SYSTEM   \n",
       "4     122175               L  ANTINEOPLASTIC AND IMMUNOMODULATING AGENTS   \n",
       "\n",
       "                                            Molecule   \n",
       "0  <rdkit.Chem.rdchem.Mol object at 0x000001FC332...  \\\n",
       "1  <rdkit.Chem.rdchem.Mol object at 0x000001FC332...   \n",
       "2  <rdkit.Chem.rdchem.Mol object at 0x000001FC332...   \n",
       "3  <rdkit.Chem.rdchem.Mol object at 0x000001FC332...   \n",
       "4  <rdkit.Chem.rdchem.Mol object at 0x000001FC332...   \n",
       "\n",
       "                                      FeatInvariants   \n",
       "0  [0, 18, 0, 0, 0, 0, 0, 0, 0, 18, 0, 0, 0, 0, 8...  \\\n",
       "1  [0, 0, 2, 0, 17, 17, 4, 4, 4, 6, 4, 4, 6, 4, 4...   \n",
       "2     [0, 0, 2, 0, 2, 0, 0, 16, 4, 4, 4, 4, 4, 4, 8]   \n",
       "3  [0, 0, 0, 0, 0, 0, 0, 0, 0, 0, 19, 4, 4, 4, 4,...   \n",
       "4                      [0, 0, 0, 0, 0, 0, 0, 19, 19]   \n",
       "\n",
       "                                      ConnInvariants   \n",
       "0  [2246728737, 848128881, 2246728737, 2245384272...  \\\n",
       "1  [2968968094, 2968968094, 2041434490, 321738070...   \n",
       "2  [2968968094, 2968968094, 3351556771, 321738070...   \n",
       "3  [2968968094, 2976033787, 2968968094, 297603378...   \n",
       "4  [2246728737, 2245273601, 2245384272, 224538427...   \n",
       "\n",
       "                                           Morgan2FP   \n",
       "0  [0, 0, 0, 0, 0, 0, 0, 0, 0, 0, 0, 0, 0, 0, 0, ...  \\\n",
       "1  [0, 1, 0, 0, 0, 0, 0, 0, 0, 0, 0, 0, 0, 0, 0, ...   \n",
       "2  [0, 0, 0, 0, 0, 0, 0, 0, 0, 0, 0, 0, 0, 0, 0, ...   \n",
       "3  [0, 0, 0, 0, 0, 0, 0, 0, 0, 0, 0, 0, 0, 0, 0, ...   \n",
       "4  [0, 1, 0, 0, 0, 0, 0, 0, 0, 0, 0, 0, 0, 0, 0, ...   \n",
       "\n",
       "                                           MACCSKeys   \n",
       "0  [0, 0, 0, 0, 0, 0, 0, 0, 0, 0, 0, 0, 0, 0, 0, ...  \\\n",
       "1  [0, 0, 0, 0, 0, 0, 0, 0, 0, 0, 0, 0, 0, 0, 0, ...   \n",
       "2  [0, 0, 0, 0, 0, 0, 0, 0, 0, 0, 0, 0, 0, 0, 0, ...   \n",
       "3  [0, 0, 0, 0, 0, 0, 0, 0, 0, 0, 0, 0, 0, 0, 0, ...   \n",
       "4  [0, 0, 0, 0, 0, 0, 0, 0, 0, 0, 0, 0, 0, 0, 0, ...   \n",
       "\n",
       "                                          AtomPairFP   \n",
       "0  [0, 0, 0, 0, 0, 0, 0, 0, 0, 0, 0, 0, 0, 0, 0, ...  \\\n",
       "1  [1, 1, 0, 0, 1, 1, 0, 0, 0, 0, 0, 0, 0, 0, 0, ...   \n",
       "2  [1, 1, 1, 0, 0, 0, 0, 0, 0, 0, 0, 0, 0, 0, 0, ...   \n",
       "3  [1, 1, 1, 1, 1, 0, 0, 0, 0, 0, 0, 0, 0, 0, 0, ...   \n",
       "4  [0, 0, 0, 0, 0, 0, 0, 0, 0, 0, 0, 0, 0, 0, 0, ...   \n",
       "\n",
       "                                            TopTorFP   \n",
       "0  [0, 0, 0, 0, 0, 0, 0, 0, 0, 0, 0, 0, 0, 0, 0, ...  \\\n",
       "1  [0, 0, 0, 0, 0, 0, 0, 0, 0, 0, 0, 0, 0, 0, 0, ...   \n",
       "2  [0, 0, 0, 0, 0, 0, 0, 0, 0, 0, 0, 0, 0, 0, 0, ...   \n",
       "3  [0, 0, 0, 0, 0, 0, 0, 0, 0, 0, 0, 0, 0, 0, 0, ...   \n",
       "4  [0, 0, 0, 0, 0, 0, 0, 0, 0, 0, 0, 0, 0, 0, 0, ...   \n",
       "\n",
       "                                            AvalonFP   \n",
       "0  [0, 0, 0, 0, 0, 0, 0, 0, 0, 0, 0, 0, 0, 0, 0, ...  \\\n",
       "1  [0, 0, 0, 0, 0, 0, 1, 0, 0, 0, 0, 0, 0, 0, 0, ...   \n",
       "2  [1, 0, 0, 0, 0, 0, 0, 0, 0, 0, 0, 0, 0, 0, 1, ...   \n",
       "3  [0, 0, 0, 0, 1, 0, 0, 0, 0, 0, 0, 0, 0, 0, 0, ...   \n",
       "4  [0, 0, 0, 0, 0, 0, 0, 0, 0, 0, 0, 0, 0, 0, 0, ...   \n",
       "\n",
       "                                           PubchemFP  Label  \n",
       "0  [1, 1, 0, 1, 1, 1, 0, 0, 0, 1, 1, 1, 1, 0, 0, ...      1  \n",
       "1  [1, 1, 0, 1, 1, 1, 0, 0, 0, 1, 1, 1, 1, 0, 0, ...      2  \n",
       "2  [1, 1, 0, 1, 1, 1, 0, 0, 0, 1, 1, 1, 0, 0, 0, ...      7  \n",
       "3  [1, 1, 0, 1, 1, 1, 0, 0, 0, 1, 1, 1, 1, 0, 0, ...     10  \n",
       "4  [1, 1, 0, 1, 1, 1, 0, 0, 0, 1, 1, 1, 0, 0, 0, ...      8  "
      ]
     },
     "execution_count": 39,
     "metadata": {},
     "output_type": "execute_result"
    }
   ],
   "source": [
    "drugs.head()"
   ]
  },
  {
   "attachments": {},
   "cell_type": "markdown",
   "metadata": {},
   "source": [
    "### Prepare the data"
   ]
  },
  {
   "cell_type": "code",
   "execution_count": 40,
   "metadata": {},
   "outputs": [
    {
     "data": {
      "text/plain": [
       "Index(['CID', 'MATC_Code_Short', 'MATC_Code_Explanation', 'Molecule',\n",
       "       'FeatInvariants', 'ConnInvariants', 'Morgan2FP', 'MACCSKeys',\n",
       "       'AtomPairFP', 'TopTorFP', 'AvalonFP', 'PubchemFP', 'Label'],\n",
       "      dtype='object')"
      ]
     },
     "execution_count": 40,
     "metadata": {},
     "output_type": "execute_result"
    }
   ],
   "source": [
    "drugs.columns"
   ]
  },
  {
   "attachments": {},
   "cell_type": "markdown",
   "metadata": {},
   "source": [
    "We have found that Morgan fingerprints are the ones returning the best accuracy in a CNN model (look select_fingerprints.ipynb)"
   ]
  },
  {
   "cell_type": "code",
   "execution_count": 42,
   "metadata": {},
   "outputs": [],
   "source": [
    "#Choose fingerprints to train with\n",
    "X = drugs['TopTorFP']\n",
    "y = drugs['Label']"
   ]
  },
  {
   "cell_type": "code",
   "execution_count": 43,
   "metadata": {},
   "outputs": [],
   "source": [
    "# Train/test split\n",
    "X_train, X_test, y_train, y_test = train_test_split(X, y, test_size=0.3, random_state=42)"
   ]
  },
  {
   "cell_type": "code",
   "execution_count": 44,
   "metadata": {},
   "outputs": [
    {
     "name": "stdout",
     "output_type": "stream",
     "text": [
      "\u001b[1;31mSignature:\u001b[0m\n",
      "\u001b[0mtrain_test_split\u001b[0m\u001b[1;33m(\u001b[0m\u001b[1;33m\n",
      "\u001b[0m    \u001b[1;33m*\u001b[0m\u001b[0marrays\u001b[0m\u001b[1;33m,\u001b[0m\u001b[1;33m\n",
      "\u001b[0m    \u001b[0mtest_size\u001b[0m\u001b[1;33m=\u001b[0m\u001b[1;32mNone\u001b[0m\u001b[1;33m,\u001b[0m\u001b[1;33m\n",
      "\u001b[0m    \u001b[0mtrain_size\u001b[0m\u001b[1;33m=\u001b[0m\u001b[1;32mNone\u001b[0m\u001b[1;33m,\u001b[0m\u001b[1;33m\n",
      "\u001b[0m    \u001b[0mrandom_state\u001b[0m\u001b[1;33m=\u001b[0m\u001b[1;32mNone\u001b[0m\u001b[1;33m,\u001b[0m\u001b[1;33m\n",
      "\u001b[0m    \u001b[0mshuffle\u001b[0m\u001b[1;33m=\u001b[0m\u001b[1;32mTrue\u001b[0m\u001b[1;33m,\u001b[0m\u001b[1;33m\n",
      "\u001b[0m    \u001b[0mstratify\u001b[0m\u001b[1;33m=\u001b[0m\u001b[1;32mNone\u001b[0m\u001b[1;33m,\u001b[0m\u001b[1;33m\n",
      "\u001b[0m\u001b[1;33m)\u001b[0m\u001b[1;33m\u001b[0m\u001b[1;33m\u001b[0m\u001b[0m\n",
      "\u001b[1;31mDocstring:\u001b[0m\n",
      "Split arrays or matrices into random train and test subsets.\n",
      "\n",
      "Quick utility that wraps input validation,\n",
      "``next(ShuffleSplit().split(X, y))``, and application to input data\n",
      "into a single call for splitting (and optionally subsampling) data into a\n",
      "one-liner.\n",
      "\n",
      "Read more in the :ref:`User Guide <cross_validation>`.\n",
      "\n",
      "Parameters\n",
      "----------\n",
      "*arrays : sequence of indexables with same length / shape[0]\n",
      "    Allowed inputs are lists, numpy arrays, scipy-sparse\n",
      "    matrices or pandas dataframes.\n",
      "\n",
      "test_size : float or int, default=None\n",
      "    If float, should be between 0.0 and 1.0 and represent the proportion\n",
      "    of the dataset to include in the test split. If int, represents the\n",
      "    absolute number of test samples. If None, the value is set to the\n",
      "    complement of the train size. If ``train_size`` is also None, it will\n",
      "    be set to 0.25.\n",
      "\n",
      "train_size : float or int, default=None\n",
      "    If float, should be between 0.0 and 1.0 and represent the\n",
      "    proportion of the dataset to include in the train split. If\n",
      "    int, represents the absolute number of train samples. If None,\n",
      "    the value is automatically set to the complement of the test size.\n",
      "\n",
      "random_state : int, RandomState instance or None, default=None\n",
      "    Controls the shuffling applied to the data before applying the split.\n",
      "    Pass an int for reproducible output across multiple function calls.\n",
      "    See :term:`Glossary <random_state>`.\n",
      "\n",
      "shuffle : bool, default=True\n",
      "    Whether or not to shuffle the data before splitting. If shuffle=False\n",
      "    then stratify must be None.\n",
      "\n",
      "stratify : array-like, default=None\n",
      "    If not None, data is split in a stratified fashion, using this as\n",
      "    the class labels.\n",
      "    Read more in the :ref:`User Guide <stratification>`.\n",
      "\n",
      "Returns\n",
      "-------\n",
      "splitting : list, length=2 * len(arrays)\n",
      "    List containing train-test split of inputs.\n",
      "\n",
      "    .. versionadded:: 0.16\n",
      "        If the input is sparse, the output will be a\n",
      "        ``scipy.sparse.csr_matrix``. Else, output type is the same as the\n",
      "        input type.\n",
      "\n",
      "Examples\n",
      "--------\n",
      ">>> import numpy as np\n",
      ">>> from sklearn.model_selection import train_test_split\n",
      ">>> X, y = np.arange(10).reshape((5, 2)), range(5)\n",
      ">>> X\n",
      "array([[0, 1],\n",
      "       [2, 3],\n",
      "       [4, 5],\n",
      "       [6, 7],\n",
      "       [8, 9]])\n",
      ">>> list(y)\n",
      "[0, 1, 2, 3, 4]\n",
      "\n",
      ">>> X_train, X_test, y_train, y_test = train_test_split(\n",
      "...     X, y, test_size=0.33, random_state=42)\n",
      "...\n",
      ">>> X_train\n",
      "array([[4, 5],\n",
      "       [0, 1],\n",
      "       [6, 7]])\n",
      ">>> y_train\n",
      "[2, 0, 3]\n",
      ">>> X_test\n",
      "array([[2, 3],\n",
      "       [8, 9]])\n",
      ">>> y_test\n",
      "[1, 4]\n",
      "\n",
      ">>> train_test_split(y, shuffle=False)\n",
      "[[0, 1, 2], [3, 4]]\n",
      "\u001b[1;31mFile:\u001b[0m      c:\\users\\josin\\anaconda3\\envs\\kedro-environment\\lib\\site-packages\\sklearn\\model_selection\\_split.py\n",
      "\u001b[1;31mType:\u001b[0m      function"
     ]
    }
   ],
   "source": [
    "train_test_split?s"
   ]
  },
  {
   "cell_type": "code",
   "execution_count": 14,
   "metadata": {},
   "outputs": [
    {
     "name": "stdout",
     "output_type": "stream",
     "text": [
      "Shape x_train:  (7128, 2048)\n",
      "Number of classes:  16\n",
      "Reshaped x_train:  (7128, 2048, 1)\n",
      "In_shape:  (2048, 1)\n",
      "(7128, 2048, 1) (7128,)\n",
      "(3055, 2048, 1) (3055,)\n"
     ]
    }
   ],
   "source": [
    "# Reshaping the arrays to fit in the model\n",
    "x_train = np.array(list(X_train))\n",
    "x_test = np.array(list(X_test))\n",
    "print('Shape x_train: ', x_train.shape)\n",
    "n_classes = len(unique(y_train))\n",
    "print('Number of classes: ', n_classes)\n",
    "x_train= x_train.reshape((x_train.shape[0], x_train.shape[1], 1))\n",
    "x_test= x_test.reshape((x_test.shape[0], x_test.shape[1], 1))\n",
    "print('Reshaped x_train: ', x_train.shape)\n",
    "in_shape = x_train.shape[1:]\n",
    "print('In_shape: ', in_shape)\n",
    "print(x_train.shape, y_train.shape)\n",
    "print(x_test.shape, y_test.shape)"
   ]
  },
  {
   "cell_type": "code",
   "execution_count": 15,
   "metadata": {},
   "outputs": [
    {
     "ename": "SyntaxError",
     "evalue": "invalid syntax (2286720970.py, line 1)",
     "output_type": "error",
     "traceback": [
      "\u001b[1;36m  Cell \u001b[1;32mIn[15], line 1\u001b[1;36m\u001b[0m\n\u001b[1;33m    Shape x_train:  (4854, 2048)\u001b[0m\n\u001b[1;37m          ^\u001b[0m\n\u001b[1;31mSyntaxError\u001b[0m\u001b[1;31m:\u001b[0m invalid syntax\n"
     ]
    }
   ],
   "source": [
    "Shape x_train:  (4854, 2048)\n",
    "Number of classes:  12\n",
    "Reshapep x_train:  (4854, 2048, 1)\n",
    "In_shape:  (2048, 1)\n",
    "(4854, 2048, 1) (4854,)\n",
    "(2081, 2048, 1) (2081,)"
   ]
  },
  {
   "attachments": {},
   "cell_type": "markdown",
   "metadata": {},
   "source": [
    "### Tuning the model"
   ]
  },
  {
   "attachments": {},
   "cell_type": "markdown",
   "metadata": {},
   "source": [
    "Building the model"
   ]
  },
  {
   "cell_type": "code",
   "execution_count": 16,
   "metadata": {},
   "outputs": [],
   "source": [
    "#model with tuner choosing number of layers\n",
    "\n",
    "def build_model(hp):\n",
    "    \"\"\"\n",
    "    Function that chooses the best hyperparameters for a CNN model and then compiles it.\n",
    "    Input: a set of hyperparamneters\n",
    "    Output: a cnn model\n",
    "    \"\"\"\n",
    "    # Create model object\n",
    "    model = keras.Sequential()\n",
    "    # Choose number of layers\n",
    "    for i in range(hp.Int(\"num_layers\", 1, 5)):\n",
    "        model.add(\n",
    "            layers.Conv1D(\n",
    "        filters=hp.Int('conv_1_filter', min_value=16, max_value=128, step=16),\n",
    "        kernel_size=hp.Choice('conv_1_kernel', values = [3,5]),\n",
    "        activation='relu',\n",
    "        input_shape=(2048, 1)))\n",
    "        model.add(layers.MaxPool1D(hp.Int('pool_size', min_value=2, max_value=6)))\n",
    "        if hp.Boolean(\"dropout\"):\n",
    "            model.add(layers.Dropout(rate=0.25))\n",
    "\n",
    "    model.add(layers.Flatten())\n",
    "    model.add(layers.Dense(\n",
    "        units=hp.Int('dense_1_units', min_value=32, max_value=128, step=16),\n",
    "        activation='relu', kernel_initializer = 'he_uniform'\n",
    "    ))\n",
    "\n",
    "    model.add(layers.Dropout(0.5))\n",
    "    model.add(layers.Dense(16, activation='softmax'))\n",
    "\n",
    "    # Compilation of model\n",
    "    model.compile(optimizer=keras.optimizers.Adam(hp.Choice('learning_rate', values=[1e-2, 1e-3])),\n",
    "              loss='sparse_categorical_crossentropy',\n",
    "              metrics=['accuracy'])\n",
    "    return model"
   ]
  },
  {
   "attachments": {},
   "cell_type": "markdown",
   "metadata": {},
   "source": [
    "Tuning the model"
   ]
  },
  {
   "cell_type": "code",
   "execution_count": 28,
   "metadata": {},
   "outputs": [
    {
     "name": "stdout",
     "output_type": "stream",
     "text": [
      "Trial 5 Complete [00h 02m 20s]\n",
      "val_loss: 1.629793643951416\n",
      "\n",
      "Best val_loss So Far: 1.524943232536316\n",
      "Total elapsed time: 00h 03m 50s\n",
      "INFO:tensorflow:Oracle triggered exit\n"
     ]
    }
   ],
   "source": [
    "tuner = RandomSearch(build_model,\n",
    "                    objective='val_loss',\n",
    "                    max_trials = 5,\n",
    "                    directory = os.path.join('temp', 'tuner', 'RS_tuned_model', '230830_01'))\n",
    "tuner.search(x_train,y_train,epochs=3,validation_data=(x_test,y_test))"
   ]
  },
  {
   "attachments": {},
   "cell_type": "markdown",
   "metadata": {},
   "source": [
    "Obtain and save the model"
   ]
  },
  {
   "cell_type": "code",
   "execution_count": 29,
   "metadata": {},
   "outputs": [
    {
     "name": "stdout",
     "output_type": "stream",
     "text": [
      "Model: \"sequential\"\n",
      "_________________________________________________________________\n",
      " Layer (type)                Output Shape              Param #   \n",
      "=================================================================\n",
      " conv1d (Conv1D)             (None, 2046, 96)          384       \n",
      "                                                                 \n",
      " max_pooling1d (MaxPooling1D  (None, 341, 96)          0         \n",
      " )                                                               \n",
      "                                                                 \n",
      " conv1d_1 (Conv1D)           (None, 339, 96)           27744     \n",
      "                                                                 \n",
      " max_pooling1d_1 (MaxPooling  (None, 56, 96)           0         \n",
      " 1D)                                                             \n",
      "                                                                 \n",
      " flatten (Flatten)           (None, 5376)              0         \n",
      "                                                                 \n",
      " dense (Dense)               (None, 64)                344128    \n",
      "                                                                 \n",
      " dropout (Dropout)           (None, 64)                0         \n",
      "                                                                 \n",
      " dense_1 (Dense)             (None, 16)                1040      \n",
      "                                                                 \n",
      "=================================================================\n",
      "Total params: 373,296\n",
      "Trainable params: 373,296\n",
      "Non-trainable params: 0\n",
      "_________________________________________________________________\n"
     ]
    }
   ],
   "source": [
    "tuned_model = tuner.get_best_models(num_models=1)[0]\n",
    "tuned_model.summary()\n",
    "#tuned_model.save(os.path.join('compiled_models','tuned', 'opt_morgan_model'))"
   ]
  },
  {
   "attachments": {},
   "cell_type": "markdown",
   "metadata": {},
   "source": [
    "### Fit model and choose number of epochs"
   ]
  },
  {
   "attachments": {},
   "cell_type": "markdown",
   "metadata": {},
   "source": [
    "Set EarlyStopping and ModelCheckpoint to select a model with the optimal number of epochs"
   ]
  },
  {
   "cell_type": "code",
   "execution_count": 35,
   "metadata": {},
   "outputs": [
    {
     "name": "stdout",
     "output_type": "stream",
     "text": [
      "Epoch 1/200\n",
      "39/39 [==============================] - 4s 100ms/step - loss: 0.8812 - accuracy: 0.7039 - val_loss: 1.2726 - val_accuracy: 0.6648\n",
      "Epoch 2/200\n",
      "39/39 [==============================] - 4s 105ms/step - loss: 0.8537 - accuracy: 0.7102 - val_loss: 1.3016 - val_accuracy: 0.6667\n",
      "Epoch 3/200\n",
      "39/39 [==============================] - 4s 101ms/step - loss: 0.8284 - accuracy: 0.7144 - val_loss: 1.3196 - val_accuracy: 0.6676\n",
      "Epoch 4/200\n",
      "39/39 [==============================] - 4s 101ms/step - loss: 0.8295 - accuracy: 0.7106 - val_loss: 1.3483 - val_accuracy: 0.6601\n",
      "Epoch 5/200\n",
      "39/39 [==============================] - 4s 100ms/step - loss: 0.8239 - accuracy: 0.7070 - val_loss: 1.3739 - val_accuracy: 0.6531\n",
      "Epoch 6/200\n",
      "39/39 [==============================] - 4s 104ms/step - loss: 0.7933 - accuracy: 0.7264 - val_loss: 1.3393 - val_accuracy: 0.6676\n",
      "Epoch 7/200\n",
      "39/39 [==============================] - 4s 105ms/step - loss: 0.7848 - accuracy: 0.7218 - val_loss: 1.4213 - val_accuracy: 0.6615\n",
      "Epoch 8/200\n",
      "39/39 [==============================] - 4s 102ms/step - loss: 0.7696 - accuracy: 0.7252 - val_loss: 1.3778 - val_accuracy: 0.6690\n",
      "Epoch 9/200\n",
      "39/39 [==============================] - 4s 103ms/step - loss: 0.7682 - accuracy: 0.7290 - val_loss: 1.4229 - val_accuracy: 0.6615\n",
      "Epoch 10/200\n",
      "39/39 [==============================] - 4s 101ms/step - loss: 0.7379 - accuracy: 0.7378 - val_loss: 1.4294 - val_accuracy: 0.6681\n",
      "Epoch 11/200\n",
      "39/39 [==============================] - 4s 103ms/step - loss: 0.7314 - accuracy: 0.7328 - val_loss: 1.4441 - val_accuracy: 0.6629\n",
      "Epoch 12/200\n",
      "39/39 [==============================] - 4s 103ms/step - loss: 0.7262 - accuracy: 0.7404 - val_loss: 1.4831 - val_accuracy: 0.6540\n",
      "Epoch 13/200\n",
      "39/39 [==============================] - 4s 105ms/step - loss: 0.7437 - accuracy: 0.7292 - val_loss: 1.4984 - val_accuracy: 0.6634\n",
      "Epoch 14/200\n",
      "39/39 [==============================] - 4s 104ms/step - loss: 0.7167 - accuracy: 0.7400 - val_loss: 1.5263 - val_accuracy: 0.6690\n",
      "Epoch 15/200\n",
      "39/39 [==============================] - 4s 101ms/step - loss: 0.6926 - accuracy: 0.7476 - val_loss: 1.5876 - val_accuracy: 0.6653\n",
      "Epoch 16/200\n",
      "39/39 [==============================] - 4s 102ms/step - loss: 0.7065 - accuracy: 0.7426 - val_loss: 1.5336 - val_accuracy: 0.6643\n",
      "Epoch 17/200\n",
      "39/39 [==============================] - 4s 103ms/step - loss: 0.6956 - accuracy: 0.7406 - val_loss: 1.5640 - val_accuracy: 0.6713\n",
      "Epoch 18/200\n",
      "39/39 [==============================] - 4s 106ms/step - loss: 0.6823 - accuracy: 0.7484 - val_loss: 1.5896 - val_accuracy: 0.6597\n",
      "Epoch 19/200\n",
      "39/39 [==============================] - 4s 105ms/step - loss: 0.6720 - accuracy: 0.7492 - val_loss: 1.6449 - val_accuracy: 0.6713\n",
      "Epoch 20/200\n",
      "39/39 [==============================] - 4s 103ms/step - loss: 0.6605 - accuracy: 0.7539 - val_loss: 1.6499 - val_accuracy: 0.6625\n",
      "Epoch 21/200\n",
      "39/39 [==============================] - 4s 104ms/step - loss: 0.6603 - accuracy: 0.7561 - val_loss: 1.6703 - val_accuracy: 0.6704\n",
      "Epoch 22/200\n",
      "39/39 [==============================] - 4s 105ms/step - loss: 0.6524 - accuracy: 0.7569 - val_loss: 1.6837 - val_accuracy: 0.6718\n",
      "Epoch 23/200\n",
      "39/39 [==============================] - 4s 108ms/step - loss: 0.6498 - accuracy: 0.7601 - val_loss: 1.7067 - val_accuracy: 0.6709\n",
      "Epoch 24/200\n",
      "39/39 [==============================] - 4s 104ms/step - loss: 0.6527 - accuracy: 0.7539 - val_loss: 1.7056 - val_accuracy: 0.6671\n",
      "Epoch 25/200\n",
      "39/39 [==============================] - 4s 106ms/step - loss: 0.6323 - accuracy: 0.7649 - val_loss: 1.8005 - val_accuracy: 0.6643\n",
      "Epoch 26/200\n",
      "39/39 [==============================] - 4s 107ms/step - loss: 0.6192 - accuracy: 0.7641 - val_loss: 1.8382 - val_accuracy: 0.6662\n",
      "Epoch 27/200\n",
      "39/39 [==============================] - 4s 104ms/step - loss: 0.6178 - accuracy: 0.7677 - val_loss: 1.8611 - val_accuracy: 0.6676\n",
      "Epoch 28/200\n",
      "39/39 [==============================] - 4s 106ms/step - loss: 0.6141 - accuracy: 0.7671 - val_loss: 1.8151 - val_accuracy: 0.6760\n",
      "Epoch 29/200\n",
      "39/39 [==============================] - 4s 104ms/step - loss: 0.6056 - accuracy: 0.7683 - val_loss: 1.8204 - val_accuracy: 0.6676\n",
      "Epoch 30/200\n",
      "39/39 [==============================] - 4s 105ms/step - loss: 0.6100 - accuracy: 0.7693 - val_loss: 1.8420 - val_accuracy: 0.6657\n",
      "Epoch 31/200\n",
      "39/39 [==============================] - 4s 106ms/step - loss: 0.6080 - accuracy: 0.7747 - val_loss: 1.9548 - val_accuracy: 0.6653\n",
      "Epoch 32/200\n",
      "39/39 [==============================] - 4s 104ms/step - loss: 0.5890 - accuracy: 0.7781 - val_loss: 1.9306 - val_accuracy: 0.6676\n",
      "Epoch 33/200\n",
      "39/39 [==============================] - 4s 105ms/step - loss: 0.5998 - accuracy: 0.7745 - val_loss: 1.8830 - val_accuracy: 0.6657\n",
      "Epoch 34/200\n",
      "39/39 [==============================] - 4s 105ms/step - loss: 0.5853 - accuracy: 0.7765 - val_loss: 2.0257 - val_accuracy: 0.6662\n",
      "Epoch 35/200\n",
      "39/39 [==============================] - 4s 103ms/step - loss: 0.5815 - accuracy: 0.7795 - val_loss: 1.9487 - val_accuracy: 0.6676\n",
      "Epoch 36/200\n",
      "39/39 [==============================] - 4s 104ms/step - loss: 0.5778 - accuracy: 0.7839 - val_loss: 1.9543 - val_accuracy: 0.6681\n",
      "Epoch 37/200\n",
      "39/39 [==============================] - 4s 108ms/step - loss: 0.5815 - accuracy: 0.7697 - val_loss: 1.9983 - val_accuracy: 0.6695\n",
      "Epoch 38/200\n",
      "39/39 [==============================] - 4s 104ms/step - loss: 0.5702 - accuracy: 0.7773 - val_loss: 2.0038 - val_accuracy: 0.6653\n",
      "96/96 [==============================] - 1s 12ms/step - loss: 2.0975 - accuracy: 0.6678\n"
     ]
    }
   ],
   "source": [
    "# Configure early stopping\n",
    "es = EarlyStopping(monitor='val_accuracy', patience=10)\n",
    "mc = ModelCheckpoint(filepath = os.path.join('compiled_models','checkpoints', '{epoch:02d}-{val_accuracy:.3f}.hdf5'), monitor = 'val_loss', save_best_only = True)\n",
    "\n",
    "# Fit the model\n",
    "history = tuned_model.fit(x_train, y_train, epochs=200, batch_size=128, verbose=1, validation_split = 0.3, callbacks = [es,mc])\n",
    "\n",
    "# Evaluate the model\n",
    "loss, acc = tuned_model.evaluate(x_test, y_test, verbose=1)"
   ]
  },
  {
   "cell_type": "code",
   "execution_count": 31,
   "metadata": {},
   "outputs": [
    {
     "name": "stdout",
     "output_type": "stream",
     "text": [
      "96/96 [==============================] - 1s 10ms/step\n"
     ]
    }
   ],
   "source": [
    "# Getting test predictions\n",
    "y_pred = tuned_model.predict(x_test)\n",
    "y_pred_list = [argmax(x) for x in y_pred]"
   ]
  },
  {
   "cell_type": "code",
   "execution_count": 32,
   "metadata": {},
   "outputs": [],
   "source": [
    "# Save predictions\n",
    "y_pred_ser = pd.Series(y_pred_list)\n",
    "y_pred_ser.to_pickle(path= os.path.join('predictions', 'y_preds.pkl'))"
   ]
  },
  {
   "attachments": {},
   "cell_type": "markdown",
   "metadata": {},
   "source": [
    "#### Visualization of models accuracy"
   ]
  },
  {
   "cell_type": "code",
   "execution_count": 33,
   "metadata": {},
   "outputs": [
    {
     "name": "stdout",
     "output_type": "stream",
     "text": [
      "              precision    recall  f1-score   support\n",
      "\n",
      "           0       0.46      0.64      0.53       223\n",
      "           1       0.69      0.45      0.55       139\n",
      "           2       0.69      0.59      0.64       343\n",
      "           3       0.61      0.33      0.43       115\n",
      "           4       0.76      0.52      0.62       110\n",
      "           5       0.68      0.59      0.63        39\n",
      "           6       0.49      0.43      0.46        67\n",
      "           7       0.74      0.82      0.78       776\n",
      "           8       0.61      0.71      0.66       425\n",
      "           9       0.52      0.22      0.31        63\n",
      "          10       0.57      0.72      0.64       417\n",
      "          11       0.85      0.72      0.78        54\n",
      "          12       0.63      0.29      0.39        42\n",
      "          13       0.42      0.34      0.38        91\n",
      "          14       0.94      0.31      0.47        51\n",
      "          15       0.68      0.48      0.56       100\n",
      "\n",
      "    accuracy                           0.64      3055\n",
      "   macro avg       0.65      0.51      0.55      3055\n",
      "weighted avg       0.65      0.64      0.63      3055\n",
      "\n"
     ]
    }
   ],
   "source": [
    "# Precission and recall for every variable\n",
    "print(metrics.classification_report(y_test,y_pred_list))"
   ]
  },
  {
   "cell_type": "code",
   "execution_count": 34,
   "metadata": {},
   "outputs": [
    {
     "data": {
      "image/png": "[encoded data removed]",
      "text/plain": [
       "<Figure size 640x480 with 1 Axes>"
      ]
     },
     "metadata": {},
     "output_type": "display_data"
    }
   ],
   "source": [
    "#Learning curve visualization\n",
    "\n",
    "fig,ax = plt.subplots()\n",
    "plt.style.use('ggplot')\n",
    "\n",
    "epochs = len(history.history['loss'])\n",
    "epoch_values = list(range(epochs))\n",
    "\n",
    "ax.plot(epoch_values, history.history['loss'], label='Training loss')\n",
    "ax.plot(epoch_values, history.history['val_loss'], label='Validation loss')\n",
    "ax.plot(epoch_values, history.history['accuracy'], label='Training accuracy')\n",
    "ax.plot(epoch_values, history.history['val_accuracy'], label='Validation accuracy')\n",
    "\n",
    "ax.set_title('Training loss and accuracy')\n",
    "ax.set_xlabel('Epoch')\n",
    "ax.set_ylabel('Loss/Accuracy')\n",
    "ax.legend()\n",
    "plt.show()"
   ]
  },
  {
   "cell_type": "code",
   "execution_count": 25,
   "metadata": {},
   "outputs": [
    {
     "ename": "TypeError",
     "evalue": "weight_decay is not a valid argument, kwargs should be empty  for `optimizer_experimental.Optimizer`.",
     "output_type": "error",
     "traceback": [
      "\u001b[1;31m---------------------------------------------------------------------------\u001b[0m",
      "\u001b[1;31mTypeError\u001b[0m                                 Traceback (most recent call last)",
      "Cell \u001b[1;32mIn[25], line 1\u001b[0m\n\u001b[1;32m----> 1\u001b[0m loaded_model \u001b[39m=\u001b[39m load_model(os\u001b[39m.\u001b[39;49mpath\u001b[39m.\u001b[39;49mjoin(\u001b[39m'\u001b[39;49m\u001b[39mcompiled_models\u001b[39;49m\u001b[39m'\u001b[39;49m,\u001b[39m'\u001b[39;49m\u001b[39mcheckpoints\u001b[39;49m\u001b[39m'\u001b[39;49m, \u001b[39m'\u001b[39;49m\u001b[39m04-0.991.hdf5\u001b[39;49m\u001b[39m'\u001b[39;49m))\n",
      "File \u001b[1;32mc:\\Users\\josin\\anaconda3\\envs\\kedro-environment\\lib\\site-packages\\keras\\utils\\traceback_utils.py:70\u001b[0m, in \u001b[0;36mfilter_traceback.<locals>.error_handler\u001b[1;34m(*args, **kwargs)\u001b[0m\n\u001b[0;32m     67\u001b[0m     filtered_tb \u001b[39m=\u001b[39m _process_traceback_frames(e\u001b[39m.\u001b[39m__traceback__)\n\u001b[0;32m     68\u001b[0m     \u001b[39m# To get the full stack trace, call:\u001b[39;00m\n\u001b[0;32m     69\u001b[0m     \u001b[39m# `tf.debugging.disable_traceback_filtering()`\u001b[39;00m\n\u001b[1;32m---> 70\u001b[0m     \u001b[39mraise\u001b[39;00m e\u001b[39m.\u001b[39mwith_traceback(filtered_tb) \u001b[39mfrom\u001b[39;00m \u001b[39mNone\u001b[39;00m\n\u001b[0;32m     71\u001b[0m \u001b[39mfinally\u001b[39;00m:\n\u001b[0;32m     72\u001b[0m     \u001b[39mdel\u001b[39;00m filtered_tb\n",
      "File \u001b[1;32mc:\\Users\\josin\\anaconda3\\envs\\kedro-environment\\lib\\site-packages\\keras\\optimizers\\optimizer_experimental\\optimizer.py:115\u001b[0m, in \u001b[0;36m_BaseOptimizer._process_kwargs\u001b[1;34m(self, kwargs)\u001b[0m\n\u001b[0;32m    109\u001b[0m     logging\u001b[39m.\u001b[39mwarning(\n\u001b[0;32m    110\u001b[0m         \u001b[39m\"\u001b[39m\u001b[39m%s\u001b[39;00m\u001b[39m is deprecated in `optimizer_experimental.Optimizer`\u001b[39m\u001b[39m\"\u001b[39m\n\u001b[0;32m    111\u001b[0m         \u001b[39m\"\u001b[39m\u001b[39m, please check the docstring for valid arguments.\u001b[39m\u001b[39m\"\u001b[39m,\n\u001b[0;32m    112\u001b[0m         k,\n\u001b[0;32m    113\u001b[0m     )\n\u001b[0;32m    114\u001b[0m \u001b[39melse\u001b[39;00m:\n\u001b[1;32m--> 115\u001b[0m     \u001b[39mraise\u001b[39;00m \u001b[39mTypeError\u001b[39;00m(\n\u001b[0;32m    116\u001b[0m         \u001b[39mf\u001b[39m\u001b[39m\"\u001b[39m\u001b[39m{\u001b[39;00mk\u001b[39m}\u001b[39;00m\u001b[39m is not a valid argument, kwargs should be empty \u001b[39m\u001b[39m\"\u001b[39m\n\u001b[0;32m    117\u001b[0m         \u001b[39m\"\u001b[39m\u001b[39m for `optimizer_experimental.Optimizer`.\u001b[39m\u001b[39m\"\u001b[39m\n\u001b[0;32m    118\u001b[0m     )\n",
      "\u001b[1;31mTypeError\u001b[0m: weight_decay is not a valid argument, kwargs should be empty  for `optimizer_experimental.Optimizer`."
     ]
    }
   ],
   "source": [
    "loaded_model = load_model(os.path.join('compiled_models','checkpoints', '04-0.991.hdf5'))"
   ]
  },
  {
   "cell_type": "code",
   "execution_count": 38,
   "metadata": {},
   "outputs": [
    {
     "name": "stdout",
     "output_type": "stream",
     "text": [
      "66/66 [==============================] - 2s 26ms/step\n"
     ]
    }
   ],
   "source": [
    "y_pred = loaded_model.predict(x_test)\n",
    "y_pred_list = [argmax(x) for x in y_pred]"
   ]
  },
  {
   "cell_type": "code",
   "execution_count": 39,
   "metadata": {},
   "outputs": [
    {
     "name": "stdout",
     "output_type": "stream",
     "text": [
      "              precision    recall  f1-score   support\n",
      "\n",
      "           0       0.87      0.89      0.88       721\n",
      "           1       0.81      0.82      0.82        95\n",
      "           2       0.78      0.78      0.78       372\n",
      "           3       0.74      0.73      0.74       232\n",
      "           4       0.70      0.83      0.76       341\n",
      "           5       0.68      0.48      0.57        27\n",
      "           6       0.94      0.68      0.79        75\n",
      "           7       0.77      0.55      0.64        85\n",
      "           8       0.93      0.66      0.77        56\n",
      "           9       0.88      0.90      0.89        39\n",
      "          10       0.94      0.53      0.68        32\n",
      "          11       1.00      0.33      0.50         6\n",
      "\n",
      "    accuracy                           0.80      2081\n",
      "   macro avg       0.84      0.68      0.73      2081\n",
      "weighted avg       0.81      0.80      0.80      2081\n",
      "\n"
     ]
    }
   ],
   "source": [
    "print(metrics.classification_report(y_test,y_pred_list))"
   ]
  },
  {
   "cell_type": "code",
   "execution_count": null,
   "metadata": {},
   "outputs": [],
   "source": []
  }
 ],
 "metadata": {
  "kernelspec": {
   "display_name": "Python 3 (ipykernel)",
   "language": "python",
   "name": "python3"
  },
  "language_info": {
   "codemirror_mode": {
    "name": "ipython",
    "version": 3
   },
   "file_extension": ".py",
   "mimetype": "text/x-python",
   "name": "python",
   "nbconvert_exporter": "python",
   "pygments_lexer": "ipython3",
   "version": "3.10.8"
  }
 },
 "nbformat": 4,
 "nbformat_minor": 2
}
