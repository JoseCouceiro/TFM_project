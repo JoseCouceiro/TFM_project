{
 "cells": [
  {
   "cell_type": "code",
   "execution_count": 1,
   "metadata": {},
   "outputs": [],
   "source": [
    "import os\n",
    "import pandas as pd"
   ]
  },
  {
   "cell_type": "code",
   "execution_count": 2,
   "metadata": {},
   "outputs": [],
   "source": [
    "with open(os.path.join('Compound_168000001_168500000.xml')) as drugs_file:\n",
    "    lines = drugs_file.readlines()"
   ]
  },
  {
   "cell_type": "code",
   "execution_count": 7,
   "metadata": {},
   "outputs": [],
   "source": [
    "two_instances = lines[0:1722]\n",
    "two_i = open(os.path.join('two_pubmed_instances.xml'), 'w')\n",
    "for line in two_instances:\n",
    "    two_i.write(line)\n",
    "two_i.write('</PC-Compounds>\\n \\n')\n",
    "two_i.close()"
   ]
  },
  {
   "cell_type": "code",
   "execution_count": 6,
   "metadata": {},
   "outputs": [],
   "source": [
    "two_last_instances = lines[-8234:-1]\n",
    "two_last_i = open(os.path.join('drugbank_all_full_database.xml', 'two_last_instances.xml'), 'w')\n",
    "for line in two_last_instances:\n",
    "    two_last_i.write(line)\n",
    "two_last_i.close()\n"
   ]
  },
  {
   "cell_type": "code",
   "execution_count": 1,
   "metadata": {},
   "outputs": [
    {
     "ename": "NameError",
     "evalue": "name 'lines' is not defined",
     "output_type": "error",
     "traceback": [
      "\u001b[1;31m---------------------------------------------------------------------------\u001b[0m",
      "\u001b[1;31mNameError\u001b[0m                                 Traceback (most recent call last)",
      "Cell \u001b[1;32mIn[1], line 1\u001b[0m\n\u001b[1;32m----> 1\u001b[0m ending \u001b[39m=\u001b[39m lines[\u001b[39m-\u001b[39m\u001b[39m100\u001b[39m:\u001b[39m-\u001b[39m\u001b[39m1\u001b[39m]\n\u001b[0;32m      2\u001b[0m ending\n",
      "\u001b[1;31mNameError\u001b[0m: name 'lines' is not defined"
     ]
    }
   ],
   "source": [
    "ending = lines[-100:-1]\n",
    "ending"
   ]
  },
  {
   "cell_type": "code",
   "execution_count": 122,
   "metadata": {},
   "outputs": [
    {
     "data": {
      "text/plain": [
       "['  <reactions/>\\n',\n",
       " '  <snp-effects/>\\n',\n",
       " '  <snp-adverse-drug-reactions/>\\n',\n",
       " '  <targets/>\\n',\n",
       " '  <enzymes/>\\n',\n",
       " '  <carriers/>\\n',\n",
       " '  <transporters/>\\n',\n",
       " '</drug>\\n',\n",
       " '\\n']"
      ]
     },
     "execution_count": 122,
     "metadata": {},
     "output_type": "execute_result"
    }
   ],
   "source": [
    "lines[-10:-1]"
   ]
  },
  {
   "cell_type": "code",
   "execution_count": 3,
   "metadata": {},
   "outputs": [],
   "source": [
    "import os\n",
    "import xml.etree.ElementTree as ET"
   ]
  },
  {
   "cell_type": "code",
   "execution_count": 4,
   "metadata": {},
   "outputs": [],
   "source": [
    "drugs_tree = ET.parse(os.path.join('drugbank_all_full_database.xml', 'full database.xml'))"
   ]
  },
  {
   "cell_type": "code",
   "execution_count": 9,
   "metadata": {},
   "outputs": [
    {
     "data": {
      "text/plain": [
       "[1, 2, 3, 4]"
      ]
     },
     "execution_count": 9,
     "metadata": {},
     "output_type": "execute_result"
    }
   ],
   "source": [
    "x = list(range(1,5))\n",
    "x\n"
   ]
  },
  {
   "cell_type": "code",
   "execution_count": 1,
   "metadata": {},
   "outputs": [
    {
     "name": "stdout",
     "output_type": "stream",
     "text": [
      "Requirement already satisfied: streamlit in c:\\users\\josin\\anaconda3\\envs\\tfmenv\\lib\\site-packages (1.22.0)\n",
      "Requirement already satisfied: altair<5,>=3.2.0 in c:\\users\\josin\\anaconda3\\envs\\tfmenv\\lib\\site-packages (from streamlit) (4.2.2)\n",
      "Requirement already satisfied: blinker>=1.0.0 in c:\\users\\josin\\anaconda3\\envs\\tfmenv\\lib\\site-packages (from streamlit) (1.6.2)\n",
      "Requirement already satisfied: cachetools>=4.0 in c:\\users\\josin\\anaconda3\\envs\\tfmenv\\lib\\site-packages (from streamlit) (5.3.0)\n",
      "Requirement already satisfied: click>=7.0 in c:\\users\\josin\\anaconda3\\envs\\tfmenv\\lib\\site-packages (from streamlit) (8.1.3)\n",
      "Requirement already satisfied: importlib-metadata>=1.4 in c:\\users\\josin\\anaconda3\\envs\\tfmenv\\lib\\site-packages (from streamlit) (6.6.0)\n",
      "Requirement already satisfied: numpy in c:\\users\\josin\\anaconda3\\envs\\tfmenv\\lib\\site-packages (from streamlit) (1.24.3)\n",
      "Requirement already satisfied: packaging>=14.1 in c:\\users\\josin\\anaconda3\\envs\\tfmenv\\lib\\site-packages (from streamlit) (23.1)\n",
      "Requirement already satisfied: pandas<3,>=0.25 in c:\\users\\josin\\anaconda3\\envs\\tfmenv\\lib\\site-packages (from streamlit) (2.0.1)\n",
      "Requirement already satisfied: pillow>=6.2.0 in c:\\users\\josin\\anaconda3\\envs\\tfmenv\\lib\\site-packages (from streamlit) (9.5.0)\n",
      "Requirement already satisfied: protobuf<4,>=3.12 in c:\\users\\josin\\anaconda3\\envs\\tfmenv\\lib\\site-packages (from streamlit) (3.20.3)\n",
      "Requirement already satisfied: pyarrow>=4.0 in c:\\users\\josin\\anaconda3\\envs\\tfmenv\\lib\\site-packages (from streamlit) (12.0.0)\n",
      "Requirement already satisfied: pympler>=0.9 in c:\\users\\josin\\anaconda3\\envs\\tfmenv\\lib\\site-packages (from streamlit) (1.0.1)\n",
      "Requirement already satisfied: python-dateutil in c:\\users\\josin\\anaconda3\\envs\\tfmenv\\lib\\site-packages (from streamlit) (2.8.2)\n",
      "Requirement already satisfied: requests>=2.4 in c:\\users\\josin\\anaconda3\\envs\\tfmenv\\lib\\site-packages (from streamlit) (2.31.0)\n",
      "Requirement already satisfied: rich>=10.11.0 in c:\\users\\josin\\anaconda3\\envs\\tfmenv\\lib\\site-packages (from streamlit) (13.3.5)\n",
      "Requirement already satisfied: tenacity<9,>=8.0.0 in c:\\users\\josin\\anaconda3\\envs\\tfmenv\\lib\\site-packages (from streamlit) (8.2.2)\n",
      "Requirement already satisfied: toml in c:\\users\\josin\\anaconda3\\envs\\tfmenv\\lib\\site-packages (from streamlit) (0.10.2)\n",
      "Requirement already satisfied: typing-extensions>=3.10.0.0 in c:\\users\\josin\\anaconda3\\envs\\tfmenv\\lib\\site-packages (from streamlit) (4.5.0)\n",
      "Requirement already satisfied: tzlocal>=1.1 in c:\\users\\josin\\anaconda3\\envs\\tfmenv\\lib\\site-packages (from streamlit) (5.0.1)\n",
      "Requirement already satisfied: validators>=0.2 in c:\\users\\josin\\anaconda3\\envs\\tfmenv\\lib\\site-packages (from streamlit) (0.20.0)\n",
      "Requirement already satisfied: gitpython!=3.1.19 in c:\\users\\josin\\anaconda3\\envs\\tfmenv\\lib\\site-packages (from streamlit) (3.1.31)\n",
      "Requirement already satisfied: pydeck>=0.1.dev5 in c:\\users\\josin\\anaconda3\\envs\\tfmenv\\lib\\site-packages (from streamlit) (0.8.1b0)\n",
      "Requirement already satisfied: tornado>=6.0.3 in c:\\users\\josin\\anaconda3\\envs\\tfmenv\\lib\\site-packages (from streamlit) (6.3.2)\n",
      "Requirement already satisfied: watchdog in c:\\users\\josin\\anaconda3\\envs\\tfmenv\\lib\\site-packages (from streamlit) (3.0.0)\n",
      "Requirement already satisfied: entrypoints in c:\\users\\josin\\anaconda3\\envs\\tfmenv\\lib\\site-packages (from altair<5,>=3.2.0->streamlit) (0.4)\n",
      "Requirement already satisfied: jinja2 in c:\\users\\josin\\anaconda3\\envs\\tfmenv\\lib\\site-packages (from altair<5,>=3.2.0->streamlit) (3.1.2)\n",
      "Requirement already satisfied: jsonschema>=3.0 in c:\\users\\josin\\anaconda3\\envs\\tfmenv\\lib\\site-packages (from altair<5,>=3.2.0->streamlit) (4.17.3)\n",
      "Requirement already satisfied: toolz in c:\\users\\josin\\anaconda3\\envs\\tfmenv\\lib\\site-packages (from altair<5,>=3.2.0->streamlit) (0.12.0)\n",
      "Requirement already satisfied: colorama in c:\\users\\josin\\anaconda3\\envs\\tfmenv\\lib\\site-packages (from click>=7.0->streamlit) (0.4.6)\n",
      "Requirement already satisfied: gitdb<5,>=4.0.1 in c:\\users\\josin\\anaconda3\\envs\\tfmenv\\lib\\site-packages (from gitpython!=3.1.19->streamlit) (4.0.10)\n",
      "Requirement already satisfied: zipp>=0.5 in c:\\users\\josin\\anaconda3\\envs\\tfmenv\\lib\\site-packages (from importlib-metadata>=1.4->streamlit) (3.15.0)\n",
      "Requirement already satisfied: pytz>=2020.1 in c:\\users\\josin\\anaconda3\\envs\\tfmenv\\lib\\site-packages (from pandas<3,>=0.25->streamlit) (2023.3)\n",
      "Requirement already satisfied: tzdata>=2022.1 in c:\\users\\josin\\anaconda3\\envs\\tfmenv\\lib\\site-packages (from pandas<3,>=0.25->streamlit) (2023.3)\n",
      "Requirement already satisfied: six>=1.5 in c:\\users\\josin\\anaconda3\\envs\\tfmenv\\lib\\site-packages (from python-dateutil->streamlit) (1.16.0)\n",
      "Requirement already satisfied: charset-normalizer<4,>=2 in c:\\users\\josin\\anaconda3\\envs\\tfmenv\\lib\\site-packages (from requests>=2.4->streamlit) (3.1.0)\n",
      "Requirement already satisfied: idna<4,>=2.5 in c:\\users\\josin\\anaconda3\\envs\\tfmenv\\lib\\site-packages (from requests>=2.4->streamlit) (3.4)\n",
      "Requirement already satisfied: urllib3<3,>=1.21.1 in c:\\users\\josin\\anaconda3\\envs\\tfmenv\\lib\\site-packages (from requests>=2.4->streamlit) (2.0.2)\n",
      "Requirement already satisfied: certifi>=2017.4.17 in c:\\users\\josin\\anaconda3\\envs\\tfmenv\\lib\\site-packages (from requests>=2.4->streamlit) (2023.5.7)\n",
      "Requirement already satisfied: markdown-it-py<3.0.0,>=2.2.0 in c:\\users\\josin\\anaconda3\\envs\\tfmenv\\lib\\site-packages (from rich>=10.11.0->streamlit) (2.2.0)\n",
      "Requirement already satisfied: pygments<3.0.0,>=2.13.0 in c:\\users\\josin\\anaconda3\\envs\\tfmenv\\lib\\site-packages (from rich>=10.11.0->streamlit) (2.15.1)\n",
      "Requirement already satisfied: decorator>=3.4.0 in c:\\users\\josin\\anaconda3\\envs\\tfmenv\\lib\\site-packages (from validators>=0.2->streamlit) (5.1.1)\n",
      "Requirement already satisfied: smmap<6,>=3.0.1 in c:\\users\\josin\\anaconda3\\envs\\tfmenv\\lib\\site-packages (from gitdb<5,>=4.0.1->gitpython!=3.1.19->streamlit) (5.0.0)\n",
      "Requirement already satisfied: MarkupSafe>=2.0 in c:\\users\\josin\\anaconda3\\envs\\tfmenv\\lib\\site-packages (from jinja2->altair<5,>=3.2.0->streamlit) (2.1.2)\n",
      "Requirement already satisfied: attrs>=17.4.0 in c:\\users\\josin\\anaconda3\\envs\\tfmenv\\lib\\site-packages (from jsonschema>=3.0->altair<5,>=3.2.0->streamlit) (23.1.0)\n",
      "Requirement already satisfied: pyrsistent!=0.17.0,!=0.17.1,!=0.17.2,>=0.14.0 in c:\\users\\josin\\anaconda3\\envs\\tfmenv\\lib\\site-packages (from jsonschema>=3.0->altair<5,>=3.2.0->streamlit) (0.19.3)\n",
      "Requirement already satisfied: mdurl~=0.1 in c:\\users\\josin\\anaconda3\\envs\\tfmenv\\lib\\site-packages (from markdown-it-py<3.0.0,>=2.2.0->rich>=10.11.0->streamlit) (0.1.2)\n",
      "Note: you may need to restart the kernel to use updated packages.\n"
     ]
    }
   ],
   "source": [
    "pip install streamlit"
   ]
  },
  {
   "cell_type": "code",
   "execution_count": 2,
   "metadata": {},
   "outputs": [
    {
     "name": "stdout",
     "output_type": "stream",
     "text": [
      "Collecting rdkit\n",
      "  Downloading rdkit-2023.3.1-cp311-cp311-win_amd64.whl (20.7 MB)\n",
      "                                              0.0/20.7 MB ? eta -:--:--\n",
      "                                              0.0/20.7 MB ? eta -:--:--\n",
      "                                              0.1/20.7 MB 1.3 MB/s eta 0:00:16\n",
      "                                              0.3/20.7 MB 2.2 MB/s eta 0:00:10\n",
      "     --                                       1.0/20.7 MB 6.6 MB/s eta 0:00:03\n",
      "     --                                       1.0/20.7 MB 6.6 MB/s eta 0:00:03\n",
      "     --                                       1.0/20.7 MB 6.6 MB/s eta 0:00:03\n",
      "     --                                       1.0/20.7 MB 6.6 MB/s eta 0:00:03\n",
      "     --                                       1.0/20.7 MB 6.6 MB/s eta 0:00:03\n",
      "     --                                       1.0/20.7 MB 6.6 MB/s eta 0:00:03\n",
      "     --                                       1.0/20.7 MB 6.6 MB/s eta 0:00:03\n",
      "     ----                                     2.1/20.7 MB 4.3 MB/s eta 0:00:05\n",
      "     ----                                     2.1/20.7 MB 4.3 MB/s eta 0:00:05\n",
      "     ----                                     2.1/20.7 MB 4.3 MB/s eta 0:00:05\n",
      "     -----                                    2.9/20.7 MB 4.6 MB/s eta 0:00:04\n",
      "     ------                                   3.1/20.7 MB 4.9 MB/s eta 0:00:04\n",
      "     ------                                   3.1/20.7 MB 4.9 MB/s eta 0:00:04\n",
      "     ------                                   3.1/20.7 MB 4.9 MB/s eta 0:00:04\n",
      "     ------                                   3.1/20.7 MB 4.9 MB/s eta 0:00:04\n",
      "     ------                                   3.1/20.7 MB 4.9 MB/s eta 0:00:04\n",
      "     -------                                  3.9/20.7 MB 4.2 MB/s eta 0:00:04\n",
      "     --------                                 4.2/20.7 MB 4.5 MB/s eta 0:00:04\n",
      "     --------                                 4.2/20.7 MB 4.5 MB/s eta 0:00:04\n",
      "     --------                                 4.2/20.7 MB 4.5 MB/s eta 0:00:04\n",
      "     --------                                 4.2/20.7 MB 4.5 MB/s eta 0:00:04\n",
      "     --------                                 4.2/20.7 MB 4.5 MB/s eta 0:00:04\n",
      "     --------                                 4.4/20.7 MB 3.6 MB/s eta 0:00:05\n",
      "     ----------                               5.2/20.7 MB 4.2 MB/s eta 0:00:04\n",
      "     ----------                               5.2/20.7 MB 4.2 MB/s eta 0:00:04\n",
      "     ----------                               5.3/20.7 MB 3.9 MB/s eta 0:00:04\n",
      "     ------------                             6.3/20.7 MB 4.6 MB/s eta 0:00:04\n",
      "     ------------                             6.3/20.7 MB 4.6 MB/s eta 0:00:04\n",
      "     ------------                             6.3/20.7 MB 4.6 MB/s eta 0:00:04\n",
      "     ------------                             6.3/20.7 MB 4.6 MB/s eta 0:00:04\n",
      "     ------------                             6.3/20.7 MB 4.6 MB/s eta 0:00:04\n",
      "     ------------                             6.6/20.7 MB 4.1 MB/s eta 0:00:04\n",
      "     --------------                           7.3/20.7 MB 4.5 MB/s eta 0:00:03\n",
      "     --------------                           7.3/20.7 MB 4.5 MB/s eta 0:00:03\n",
      "     ----------------                         8.4/20.7 MB 4.8 MB/s eta 0:00:03\n",
      "     ----------------                         8.4/20.7 MB 4.8 MB/s eta 0:00:03\n",
      "     ----------------                         8.4/20.7 MB 4.8 MB/s eta 0:00:03\n",
      "     ----------------                         8.4/20.7 MB 4.8 MB/s eta 0:00:03\n",
      "     ----------------                         8.4/20.7 MB 4.8 MB/s eta 0:00:03\n",
      "     ----------------                         8.4/20.7 MB 4.8 MB/s eta 0:00:03\n",
      "     ----------------                         8.4/20.7 MB 4.8 MB/s eta 0:00:03\n",
      "     ----------------                         8.4/20.7 MB 4.8 MB/s eta 0:00:03\n",
      "     ----------------                         8.4/20.7 MB 4.8 MB/s eta 0:00:03\n",
      "     ------------------                       9.4/20.7 MB 4.3 MB/s eta 0:00:03\n",
      "     ------------------                       9.6/20.7 MB 4.3 MB/s eta 0:00:03\n",
      "     --------------------                     10.5/20.7 MB 4.8 MB/s eta 0:00:03\n",
      "     --------------------                     10.5/20.7 MB 4.8 MB/s eta 0:00:03\n",
      "     --------------------                     10.5/20.7 MB 4.8 MB/s eta 0:00:03\n",
      "     --------------------                     10.5/20.7 MB 4.8 MB/s eta 0:00:03\n",
      "     --------------------                     10.5/20.7 MB 4.8 MB/s eta 0:00:03\n",
      "     --------------------                     10.5/20.7 MB 4.8 MB/s eta 0:00:03\n",
      "     --------------------                     10.5/20.7 MB 4.8 MB/s eta 0:00:03\n",
      "     --------------------                     10.5/20.7 MB 4.8 MB/s eta 0:00:03\n",
      "     --------------------                     10.5/20.7 MB 4.8 MB/s eta 0:00:03\n",
      "     ----------------------                   11.5/20.7 MB 4.6 MB/s eta 0:00:02\n",
      "     ----------------------                   11.5/20.7 MB 4.6 MB/s eta 0:00:02\n",
      "     ------------------------                 12.7/20.7 MB 4.7 MB/s eta 0:00:02\n",
      "     --------------------------               13.5/20.7 MB 5.3 MB/s eta 0:00:02\n",
      "     --------------------------               13.6/20.7 MB 5.3 MB/s eta 0:00:02\n",
      "     --------------------------               13.6/20.7 MB 5.3 MB/s eta 0:00:02\n",
      "     --------------------------               13.6/20.7 MB 5.3 MB/s eta 0:00:02\n",
      "     --------------------------               13.6/20.7 MB 5.3 MB/s eta 0:00:02\n",
      "     --------------------------               13.6/20.7 MB 5.3 MB/s eta 0:00:02\n",
      "     --------------------------               13.6/20.7 MB 5.3 MB/s eta 0:00:02\n",
      "     --------------------------               13.6/20.7 MB 5.3 MB/s eta 0:00:02\n",
      "     --------------------------               13.6/20.7 MB 5.3 MB/s eta 0:00:02\n",
      "     ---------------------------              14.0/20.7 MB 4.4 MB/s eta 0:00:02\n",
      "     ----------------------------             14.7/20.7 MB 4.9 MB/s eta 0:00:02\n",
      "     ----------------------------             14.7/20.7 MB 4.9 MB/s eta 0:00:02\n",
      "     ------------------------------           15.7/20.7 MB 5.0 MB/s eta 0:00:01\n",
      "     ------------------------------           15.7/20.7 MB 5.0 MB/s eta 0:00:01\n",
      "     ------------------------------           15.7/20.7 MB 5.0 MB/s eta 0:00:01\n",
      "     ------------------------------           15.7/20.7 MB 5.0 MB/s eta 0:00:01\n",
      "     ------------------------------           15.7/20.7 MB 5.0 MB/s eta 0:00:01\n",
      "     ------------------------------           15.7/20.7 MB 5.0 MB/s eta 0:00:01\n",
      "     ------------------------------           15.7/20.7 MB 5.0 MB/s eta 0:00:01\n",
      "     ------------------------------           15.7/20.7 MB 5.0 MB/s eta 0:00:01\n",
      "     --------------------------------         16.8/20.7 MB 4.8 MB/s eta 0:00:01\n",
      "     --------------------------------         16.8/20.7 MB 4.8 MB/s eta 0:00:01\n",
      "     --------------------------------         16.8/20.7 MB 4.8 MB/s eta 0:00:01\n",
      "     --------------------------------         16.8/20.7 MB 4.8 MB/s eta 0:00:01\n",
      "     --------------------------------         16.8/20.7 MB 4.8 MB/s eta 0:00:01\n",
      "     --------------------------------         16.8/20.7 MB 4.8 MB/s eta 0:00:01\n",
      "     ----------------------------------       17.8/20.7 MB 4.4 MB/s eta 0:00:01\n",
      "     ----------------------------------       17.8/20.7 MB 4.4 MB/s eta 0:00:01\n",
      "     -----------------------------------      18.6/20.7 MB 4.3 MB/s eta 0:00:01\n",
      "     ------------------------------------     18.9/20.7 MB 5.1 MB/s eta 0:00:01\n",
      "     ------------------------------------     18.9/20.7 MB 5.1 MB/s eta 0:00:01\n",
      "     ------------------------------------     18.9/20.7 MB 5.1 MB/s eta 0:00:01\n",
      "     ------------------------------------     18.9/20.7 MB 5.1 MB/s eta 0:00:01\n",
      "     ------------------------------------     18.9/20.7 MB 5.1 MB/s eta 0:00:01\n",
      "     -------------------------------------    19.3/20.7 MB 4.5 MB/s eta 0:00:01\n",
      "     ---------------------------------------  20.7/20.7 MB 4.6 MB/s eta 0:00:01\n",
      "     ---------------------------------------  20.7/20.7 MB 4.6 MB/s eta 0:00:01\n",
      "     ---------------------------------------- 20.7/20.7 MB 4.5 MB/s eta 0:00:00\n",
      "Requirement already satisfied: numpy in c:\\users\\josin\\anaconda3\\envs\\tfmenv\\lib\\site-packages (from rdkit) (1.24.3)\n",
      "Requirement already satisfied: Pillow in c:\\users\\josin\\anaconda3\\envs\\tfmenv\\lib\\site-packages (from rdkit) (9.5.0)\n",
      "Installing collected packages: rdkit\n",
      "Successfully installed rdkit-2023.3.1\n",
      "Note: you may need to restart the kernel to use updated packages.\n"
     ]
    }
   ],
   "source": [
    "pip install rdkit"
   ]
  },
  {
   "cell_type": "code",
   "execution_count": 18,
   "metadata": {},
   "outputs": [
    {
     "data": {
      "text/html": [
       "<div>\n",
       "<style scoped>\n",
       "    .dataframe tbody tr th:only-of-type {\n",
       "        vertical-align: middle;\n",
       "    }\n",
       "\n",
       "    .dataframe tbody tr th {\n",
       "        vertical-align: top;\n",
       "    }\n",
       "\n",
       "    .dataframe thead th {\n",
       "        text-align: right;\n",
       "    }\n",
       "</style>\n",
       "<table border=\"1\" class=\"dataframe\">\n",
       "  <thead>\n",
       "    <tr style=\"text-align: right;\">\n",
       "      <th></th>\n",
       "      <th>cid</th>\n",
       "      <th>name</th>\n",
       "      <th>atc_code</th>\n",
       "    </tr>\n",
       "  </thead>\n",
       "  <tbody>\n",
       "    <tr>\n",
       "      <th>0</th>\n",
       "      <td>2</td>\n",
       "      <td>1-Propanaminium, 2-(acetyloxy)-3-carboxy-N,N,N...</td>\n",
       "      <td>NaN</td>\n",
       "    </tr>\n",
       "    <tr>\n",
       "      <th>1</th>\n",
       "      <td>3</td>\n",
       "      <td>5,6-Dihydroxycyclohexa-1,3-diene-1-carboxylic ...</td>\n",
       "      <td>NaN</td>\n",
       "    </tr>\n",
       "    <tr>\n",
       "      <th>2</th>\n",
       "      <td>4</td>\n",
       "      <td>1-Aminopropan-2-ol</td>\n",
       "      <td>NaN</td>\n",
       "    </tr>\n",
       "    <tr>\n",
       "      <th>3</th>\n",
       "      <td>5</td>\n",
       "      <td>3-Amino-2-oxopropyl phosphate</td>\n",
       "      <td>NaN</td>\n",
       "    </tr>\n",
       "    <tr>\n",
       "      <th>4</th>\n",
       "      <td>6</td>\n",
       "      <td>1-Chloro-2,4-dinitrobenzene</td>\n",
       "      <td>NaN</td>\n",
       "    </tr>\n",
       "  </tbody>\n",
       "</table>\n",
       "</div>"
      ],
      "text/plain": [
       "   cid                                               name  atc_code\n",
       "0    2  1-Propanaminium, 2-(acetyloxy)-3-carboxy-N,N,N...       NaN\n",
       "1    3  5,6-Dihydroxycyclohexa-1,3-diene-1-carboxylic ...       NaN\n",
       "2    4                                 1-Aminopropan-2-ol       NaN\n",
       "3    5                      3-Amino-2-oxopropyl phosphate       NaN\n",
       "4    6                        1-Chloro-2,4-dinitrobenzene       NaN"
      ]
     },
     "metadata": {},
     "output_type": "display_data"
    }
   ],
   "source": [
    "to2000 = pd.read_csv('pubchem_1_2000_no_atc.csv')\n",
    "to2000 = to2000.drop('Unnamed: 0', axis=1)\n",
    "display(to2000.head())\n",
    "to2000.to_csv('pubchem_1_2000_no_atc.csv', index=False)"
   ]
  },
  {
   "cell_type": "code",
   "execution_count": 19,
   "metadata": {},
   "outputs": [
    {
     "data": {
      "text/html": [
       "<div>\n",
       "<style scoped>\n",
       "    .dataframe tbody tr th:only-of-type {\n",
       "        vertical-align: middle;\n",
       "    }\n",
       "\n",
       "    .dataframe tbody tr th {\n",
       "        vertical-align: top;\n",
       "    }\n",
       "\n",
       "    .dataframe thead th {\n",
       "        text-align: right;\n",
       "    }\n",
       "</style>\n",
       "<table border=\"1\" class=\"dataframe\">\n",
       "  <thead>\n",
       "    <tr style=\"text-align: right;\">\n",
       "      <th></th>\n",
       "      <th>cid</th>\n",
       "      <th>name</th>\n",
       "      <th>atc_code</th>\n",
       "    </tr>\n",
       "  </thead>\n",
       "  <tbody>\n",
       "    <tr>\n",
       "      <th>0</th>\n",
       "      <td>2</td>\n",
       "      <td>1-Propanaminium, 2-(acetyloxy)-3-carboxy-N,N,N...</td>\n",
       "      <td>NaN</td>\n",
       "    </tr>\n",
       "    <tr>\n",
       "      <th>1</th>\n",
       "      <td>3</td>\n",
       "      <td>5,6-Dihydroxycyclohexa-1,3-diene-1-carboxylic ...</td>\n",
       "      <td>NaN</td>\n",
       "    </tr>\n",
       "    <tr>\n",
       "      <th>2</th>\n",
       "      <td>4</td>\n",
       "      <td>1-Aminopropan-2-ol</td>\n",
       "      <td>NaN</td>\n",
       "    </tr>\n",
       "    <tr>\n",
       "      <th>3</th>\n",
       "      <td>5</td>\n",
       "      <td>3-Amino-2-oxopropyl phosphate</td>\n",
       "      <td>NaN</td>\n",
       "    </tr>\n",
       "    <tr>\n",
       "      <th>4</th>\n",
       "      <td>6</td>\n",
       "      <td>1-Chloro-2,4-dinitrobenzene</td>\n",
       "      <td>NaN</td>\n",
       "    </tr>\n",
       "  </tbody>\n",
       "</table>\n",
       "</div>"
      ],
      "text/plain": [
       "   cid                                               name  atc_code\n",
       "0    2  1-Propanaminium, 2-(acetyloxy)-3-carboxy-N,N,N...       NaN\n",
       "1    3  5,6-Dihydroxycyclohexa-1,3-diene-1-carboxylic ...       NaN\n",
       "2    4                                 1-Aminopropan-2-ol       NaN\n",
       "3    5                      3-Amino-2-oxopropyl phosphate       NaN\n",
       "4    6                        1-Chloro-2,4-dinitrobenzene       NaN"
      ]
     },
     "execution_count": 19,
     "metadata": {},
     "output_type": "execute_result"
    }
   ],
   "source": [
    "to2000 = pd.read_csv('pubchem_1_2000_no_atc.csv')\n",
    "to2000.head()"
   ]
  },
  {
   "cell_type": "code",
   "execution_count": null,
   "metadata": {},
   "outputs": [],
   "source": [
    "wiht open('TFM_project\\Dataframes\\Pubmed\\Compound_000000001_000500000.sdf.gz')"
   ]
  }
 ],
 "metadata": {
  "kernelspec": {
   "display_name": "kedro-environment",
   "language": "python",
   "name": "python3"
  },
  "language_info": {
   "codemirror_mode": {
    "name": "ipython",
    "version": 3
   },
   "file_extension": ".py",
   "mimetype": "text/x-python",
   "name": "python",
   "nbconvert_exporter": "python",
   "pygments_lexer": "ipython3",
   "version": "3.11.3"
  },
  "orig_nbformat": 4
 },
 "nbformat": 4,
 "nbformat_minor": 2
}
