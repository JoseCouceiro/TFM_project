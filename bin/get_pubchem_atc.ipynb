{
 "cells": [
  {
   "cell_type": "code",
   "execution_count": 6,
   "metadata": {},
   "outputs": [],
   "source": [
    "from IPython.display import clear_output\n",
    "import requests as rq\n",
    "import pandas as pd\n",
    "import os\n",
    "import pubchempy as pcp\n",
    "import re"
   ]
  },
  {
   "cell_type": "code",
   "execution_count": 7,
   "metadata": {},
   "outputs": [
    {
     "data": {
      "text/html": [
       "<div>\n",
       "<style scoped>\n",
       "    .dataframe tbody tr th:only-of-type {\n",
       "        vertical-align: middle;\n",
       "    }\n",
       "\n",
       "    .dataframe tbody tr th {\n",
       "        vertical-align: top;\n",
       "    }\n",
       "\n",
       "    .dataframe thead th {\n",
       "        text-align: right;\n",
       "    }\n",
       "</style>\n",
       "<table border=\"1\" class=\"dataframe\">\n",
       "  <thead>\n",
       "    <tr style=\"text-align: right;\">\n",
       "      <th></th>\n",
       "      <th>cid</th>\n",
       "      <th>name</th>\n",
       "    </tr>\n",
       "  </thead>\n",
       "  <tbody>\n",
       "  </tbody>\n",
       "</table>\n",
       "</div>"
      ],
      "text/plain": [
       "Empty DataFrame\n",
       "Columns: [cid, name]\n",
       "Index: []"
      ]
     },
     "execution_count": 7,
     "metadata": {},
     "output_type": "execute_result"
    }
   ],
   "source": [
    "df_keys = ['cid','name']\n",
    "df = pd.DataFrame(columns = df_keys)\n",
    "df"
   ]
  },
  {
   "cell_type": "code",
   "execution_count": 8,
   "metadata": {},
   "outputs": [],
   "source": [
    "df_dic = {}"
   ]
  },
  {
   "cell_type": "code",
   "execution_count": 9,
   "metadata": {},
   "outputs": [],
   "source": [
    "def get_cid(cid):\n",
    "    return cid"
   ]
  },
  {
   "cell_type": "code",
   "execution_count": 10,
   "metadata": {},
   "outputs": [
    {
     "data": {
      "text/plain": [
       "1983"
      ]
     },
     "execution_count": 10,
     "metadata": {},
     "output_type": "execute_result"
    }
   ],
   "source": [
    "a = get_cid(1983)\n",
    "a"
   ]
  },
  {
   "cell_type": "code",
   "execution_count": 3,
   "metadata": {},
   "outputs": [],
   "source": [
    "def get_name(response):\n",
    "    return response['Record']['RecordTitle']"
   ]
  },
  {
   "cell_type": "code",
   "execution_count": 4,
   "metadata": {},
   "outputs": [],
   "source": [
    "def get_atc_code(response):\n",
    "    pat = r\"\\\"[A-Z]\\d{2}[A-Z]{2}\\d{2}\\\"\"\n",
    "    atc_code_found = re.search(pat, response.text)\n",
    "    if atc_code_found:\n",
    "        return atc_code_found.group(0).strip('\"')"
   ]
  },
  {
   "cell_type": "code",
   "execution_count": 11,
   "metadata": {},
   "outputs": [],
   "source": [
    "cid = 1980\n",
    "url = f'https://pubchem.ncbi.nlm.nih.gov/rest/pug_view/data/compound/{cid}/JSON'\n",
    "response = rq.get(url)\n",
    "get_atc_code(response)\n"
   ]
  },
  {
   "cell_type": "code",
   "execution_count": 12,
   "metadata": {},
   "outputs": [
    {
     "data": {
      "text/plain": [
       "'3,6-Diacetoxy-3,3a,6,6a-tetrahydrofuro[3,2-b]furan-2,5-dione'"
      ]
     },
     "execution_count": 12,
     "metadata": {},
     "output_type": "execute_result"
    }
   ],
   "source": [
    "response_json = rq.get(url).json()\n",
    "get_name(response_json)"
   ]
  },
  {
   "cell_type": "code",
   "execution_count": 13,
   "metadata": {},
   "outputs": [
    {
     "name": "stdout",
     "output_type": "stream",
     "text": [
      "part ['{\\n  \"Record\": {\\n    \"RecordType\": \"CID\",\\n    \"RecordNumber\": 1980,\\n    ']\n",
      "part ['\"RecordTitle\": ']\n",
      "part ['\"3,6-Diacetoxy-3,3a,6,6a-tetrahydrofuro[3,2-b]furan-2,5-dione\",\\n    \"Section\": [\\n      {\\n        \"TOCHeading\": \"Structures\",\\n        \"Description\": \"Structure depictions of this compound, including computationally generated two-dimensional (2D) and three-dimensional (3D) structures, as well as experimentally determined 3D single-crystal structures.\",\\n        \"Section\": [\\n          {\\n            \"TOCHeading\": \"2D Structure\",\\n            \"Description\": \"A two-dimensional (2D) structure representation of the compound.  Because this structure is processed through chemical structure standardization (Hähnke et al., J. Cheminform. 2018, 10, 36), it is not necessarily the same as the structures provided by individual data contributors.  \",\\n            \"URL\": \"https://doi.org/10.1186/s13321-018-0293-8\",\\n            \"DisplayControls\": {\\n              \"MoveToTop\": true\\n            },\\n            \"Information\": [\\n              {\\n                \"ReferenceNumber\": 4,\\n                \"Value\": {\\n                  \"Boolean\": [\\n                    true\\n                  ]\\n                }\\n              }\\n            ]\\n          },\\n          {\\n            \"TOCHeading\": \"3D Conformer\",\\n            \"Description\": \"A three-dimensional (3D) structure representation of the compound.  This 3D structure is not experimentally determined, but computed by PubChem.  This structure may or may not be the same as the inherent structure of the compound you would expect to see in vacuum or in the gas phase, because the underlying computational algorithm aims to generate a protein-bound structure, which would be observed in a protein-ligand complex.  More detailed information on this conformer model can be found in Kim et al., J. Cheminform. 2013, 5, 1.\",\\n            \"URL\": \"https://doi.org/10.1186/1758-2946-5-1\",\\n            \"DisplayControls\": {\\n              \"MoveToTop\": true\\n            },\\n            \"Information\": [\\n              {\\n                \"ReferenceNumber\": 4,\\n                \"Description\": \"3,6-Diacetoxy-3,3a,6,6a-tetrahydrofuro[3,2-b]furan-2,5-dione\",\\n                \"Value\": {\\n                  \"Number\": [\\n                    1980\\n                  ]\\n                }\\n              }\\n            ]\\n          }\\n        ]\\n      },\\n      {\\n        \"TOCHeading\": \"Names and Identifiers\",\\n        \"Description\": \"Chemical names, synonyms, identifiers, and descriptors.\",\\n        \"Section\": [\\n          {\\n            \"TOCHeading\": \"Computed Descriptors\",\\n            \"Description\": \"Structural descriptors generated or computed for the structures of this compound, including the IUPAC name, InChI/InChIKey, and canonical/isomeric SMILES.\",\\n            \"Section\": [\\n              {\\n                \"TOCHeading\": \"IUPAC Name\",\\n                \"Description\": \"Chemical name of this compound, computed from its structure based on the International Union of Pure and Applied Chemistry (IUPAC) nomenclature standards.\",\\n                \"URL\": \"https://iupac.org/what-we-do/nomenclature/\",\\n                \"Information\": [\\n                  {\\n                    \"ReferenceNumber\": 4,\\n                    \"Reference\": [\\n                      \"Computed by Lexichem TK 2.7.0 (PubChem release 2021.05.07)\"\\n                    ],\\n                    \"Value\": {\\n                      \"StringWithMarkup\": [\\n                        {\\n                          \"String\": \"(6-acetyloxy-2,5-dioxo-3,3a,6,6a-tetrahydrofuro[3,2-b]furan-3-yl) acetate\",\\n                          \"Markup\": [\\n                            {\\n                              \"Start\": 26,\\n                              \"Length\": 1,\\n                              \"Type\": \"Italics\"\\n                            },\\n                            {\\n                              \"Start\": 31,\\n                              \"Length\": 1,\\n                              \"Type\": \"Italics\"\\n                            }\\n                          ]\\n                        }\\n                      ]\\n                    }\\n                  }\\n                ]\\n              },\\n              {\\n                \"TOCHeading\": \"InChI\",\\n                \"Description\": \"The International Chemical Identifier (InChI) is a computed, non-proprietary identifier for a chemical structure.  The InChI is an International Union of Pure and Applied Chemistry (IUPAC) standard.\",\\n                \"URL\": \"https://iupac.org/who-we-are/divisions/division-details/inchi/\",\\n                \"Information\": [\\n                  {\\n                    \"ReferenceNumber\": 4,\\n                    \"Reference\": [\\n                      \"Computed by InChI 1.0.6 (PubChem release 2021.05.07)\"\\n                    ],\\n                    \"Value\": {\\n                      \"StringWithMarkup\": [\\n                        {\\n                          \"String\": \"InChI=1S/C10H10O8/c1-3(11)15-7-5-6(18-9(7)13)8(10(14)17-5)16-4(2)12/h5-8H,1-2H3\"\\n                        }\\n                      ]\\n                    }\\n                  }\\n                ]\\n              },\\n              {\\n                \"TOCHeading\": \"InChIKey\",\\n                \"Description\": \"An InChIKey is a 27-character hash code derived from an InChI.  The International Chemical Identifier (InChI) is a computed, non-proprietary identifier for a chemical structure.  The InChI is an International Union of Pure and Applied Chemistry (IUPAC) standard. \",\\n                \"URL\": \"https://iupac.org/who-we-are/divisions/division-details/inchi/\",\\n                \"Information\": [\\n                  {\\n                    \"ReferenceNumber\": 4,\\n                    \"Reference\": [\\n                      \"Computed by InChI 1.0.6 (PubChem release 2021.05.07)\"\\n                    ],\\n                    \"Value\": {\\n                      \"StringWithMarkup\": [\\n                        {\\n                          \"String\": \"ZOZKYEHVNDEUCO-UHFFFAOYSA-N\"\\n                        }\\n                      ]\\n                    }\\n                  }\\n                ]\\n              },\\n              {\\n                \"TOCHeading\": \"Canonical SMILES\",\\n                \"Description\": \"The Simplified Molecular-Input Line-Entry System (SMILES) is a widely-used line notation for chemical structures.  PubChem computes two kinds of SMILES strings for compounds: canonical SMILES (computed from chemical structures devoid of isotopic and stereochemical information), and isomeric SMILES (computed from chemical structures containing isotopic and stereochemical information).  This section shows the canonical SMILES of the compound.\",\\n                \"URL\": \"https://www.daylight.com/dayhtml/doc/theory/theory.smiles.html\",\\n                \"Information\": [\\n                  {\\n                    \"ReferenceNumber\": 4,\\n                    \"Reference\": [\\n                      \"Computed by OEChem 2.3.0 (PubChem release 2021.05.07)\"\\n                    ],\\n                    \"Value\": {\\n                      \"StringWithMarkup\": [\\n                        {\\n                          \"String\": \"CC(=O)OC1C2C(C(C(=O)O2)OC(=O)C)OC1=O\"\\n                        }\\n                      ]\\n                    }\\n                  }\\n                ]\\n              }\\n            ]\\n          },\\n          {\\n            \"TOCHeading\": \"Molecular Formula\",\\n            \"Description\": \"A chemical formula is a way of expressing information about the proportions of atoms that constitute a particular chemical compound, using a single line of chemical element symbols and numbers. PubChem uses the Hill system, whereby the number of carbon atoms in a molecule is indicated first, the number of hydrogen atoms second, and then the number of all other chemical elements in alphabetical order. When the formula contains no carbon, all the elements, including hydrogen, are listed alphabetically. Sources other than PubChem may include a variant of the formula that is more structural or natural to chemists, for example, H2SO4 for sulfuric acid, rather than the Hill version H2O4S.\",\\n            \"URL\": \"https://pubs.acs.org/doi/abs/10.1021/ja02046a005\",\\n            \"DisplayControls\": {\\n              \"MoveToTop\": true\\n            },\\n            \"Information\": [\\n              {\\n                \"ReferenceNumber\": 4,\\n                \"Reference\": [\\n                  \"Computed by PubChem 2.1 (PubChem release 2021.05.07)\"\\n                ],\\n                \"Value\": {\\n                  \"StringWithMarkup\": [\\n                    {\\n                      \"String\": \"C10H10O8\"\\n                    }\\n                  ]\\n                }\\n              }\\n            ]\\n          },\\n          {\\n            \"TOCHeading\": \"Other Identifiers\",\\n            \"Description\": \"Other identifiers assigned to this chemical.\",\\n            \"Section\": [\\n              {\\n                \"TOCHeading\": \"DSSTox Substance ID\",\\n                \"Description\": \"Substance identifier used in the Distributed Structure-Searchable Toxicity (DSSTox) Database.\",\\n                \"URL\": \"https://www.epa.gov/chemical-research/distributed-structure-searchable-toxicity-dsstox-database\",\\n                \"Information\": [\\n                  {\\n                    \"ReferenceNumber\": 1,\\n                    \"URL\": \"https://comptox.epa.gov/dashboard/DTXSID90859524\",\\n                    \"Value\": {\\n                      \"StringWithMarkup\": [\\n                        {\\n                          \"String\": \"DTXSID90859524\"\\n                        }\\n                      ]\\n                    }\\n                  }\\n                ]\\n              },\\n              {\\n                \"TOCHeading\": \"Nikkaji Number\",\\n                \"Description\": \"Substance identifier used in the Japan Chemical Substance Dictionary (Nikkaji).\",\\n                \"URL\": \"https://jglobal.jst.go.jp/en/\",\\n                \"Information\": [\\n                  {\\n                    \"ReferenceNumber\": 3,\\n                    \"URL\": \"http://jglobal.jst.go.jp/en/redirect?Nikkaji_No=J1.285.470F\",\\n                    \"Value\": {\\n                      \"StringWithMarkup\": [\\n                        {\\n                          \"String\": \"J1.285.470F\"\\n                        }\\n                      ]\\n                    }\\n                  }\\n                ]\\n              }\\n            ]\\n          },\\n          {\\n            \"TOCHeading\": \"Synonyms\",\\n            \"Description\": \"Alternative names for this PubChem Compound record.  A compound can have many different names.  For example, acetone (CH3C(=O)CH3) is also known as propanone, propan-2-one, or dimethyl ketone.  The brand name of a product is commonly used to indicate the primary chemical ingredient(s) in the product (e.g., Tylenol, a common pain killer, is often used for acetaminophen, its active ingredient).  Another example of common synonyms is record identifiers used in different data collections, such as Chemical Abstract Service (CAS) registry numbers, FDA UNII (Unique Ingredient Identifiers), and many others.  All these various names and identifiers that designate this compound are organized under the Synonyms section.\",\\n            \"Section\": [\\n              {\\n                \"TOCHeading\": \"Depositor-Supplied Synonyms\",\\n                \"Description\": \"Chemical names provided by individual data contributors. Synonyms of Substances corresponding to a PubChem Compound record are combined. Some contributed names may be considered erroneous and filtered out. The link on each synonym shows which depositors provided that particular synonym for this structure.\",\\n                \"DisplayControls\": {\\n                  \"ListType\": \"Columns\",\\n                  \"MoveToTop\": true\\n                },\\n                \"Information\": [\\n                  {\\n                    \"ReferenceNumber\": 4,\\n                    \"Value\": {\\n                      \"StringWithMarkup\": [\\n                        {\\n                          \"String\": \"Aceglaton\"\\n                        },\\n                        {\\n                          \"String\": \"Aceglatone [INN]\"\\n                        },\\n                        {\\n                          \"String\": \"Aceglatonum [INN-Latin]\"\\n                        },\\n                        {\\n                          \"String\": \"Aceglatona [INN-Spanish]\"\\n                        },\\n                        {\\n                          \"String\": \"CCRIS 2774\"\\n                        },\\n                        {\\n                          \"String\": \"D-Glucaric acid di-gamma-lactone diacetate\"\\n                        },\\n                        {\\n                          \"String\": \"D-Glucaric acid, di-.gamma.-lactone, diacetate\"\\n                        },\\n                        {\\n                          \"String\": \"Glucaric acid, di-.gamma.-lactone, diacetate, D-\"\\n                        },\\n                        {\\n                          \"String\": \"Glucaric acid, 1,4:6,3-dilactone, diacetate, D-\"\\n                        },\\n                        {\\n                          \"String\": \"DTXSID90859524\"\\n                        },\\n                        {\\n                          \"String\": \"LS-71328\"\\n                        },\\n                        {\\n                          \"String\": \"3,6-Diacetoxy-3,3a,6,6a-tetrahydrofuro[3,2-b]furan-2,5-dione\"\\n                        },\\n                        {\\n                          \"String\": \"2,5-dioxohexahydrofuro[3,2-b]furan-3,6-diyl diacetate (non-preferred name)\"\\n                        }\\n                      ]\\n                    }\\n                  }\\n                ]\\n              },\\n              {\\n                \"TOCHeading\": \"Removed Synonyms\",\\n                \"Description\": \"Potentially erroneous chemical names and identifiers provided by PubChem Substance records for the same chemical structure that were removed by name/structure consistency filtering.\",\\n                \"DisplayControls\": {\\n                  \"HideThisSection\": true\\n                },\\n                \"Information\": [\\n                  {\\n                    \"ReferenceNumber\": 4,\\n                    \"Value\": {\\n                      \"StringWithMarkup\": [\\n                        {\\n                          \"String\": \"aceglatone\"\\n                        },\\n                        {\\n                          \"String\": \"Glucaron\"\\n                        },\\n                        {\\n                          \"String\": \"Aceglatona\"\\n                        },\\n                        {\\n                          \"String\": \"Aceglatonum\"\\n                        },\\n                        {\\n                          \"String\": \"Aceglatone [INN:JAN]\"\\n                        },\\n                        {\\n                          \"String\": \"AC1L1CNN\"\\n                        },\\n                        {\\n                          \"String\": \"AC1Q6HLF\"\\n                        },\\n                        {\\n                          \"String\": \"UNII-347Q3OOJ13\"\\n                        },\\n                        {\\n                          \"String\": \"CID1980\"\\n                        },\\n                        {\\n                          \"String\": \"C10H10O8\"\\n                        },\\n                        {\\n                          \"String\": \"C14H18O8\"\\n                        },\\n                        {\\n                          \"String\": \"AR-1D4507\"\\n                        },\\n                        {\\n                          \"String\": \"C10-H10-O8\"\\n                        },\\n                        {\\n                          \"String\": \"AN-25628\"\\n                        },\\n                        {\\n                          \"String\": \"D-Glucaric acid 1,4:6,3-dilactone diacetate\"\\n                        },\\n                        {\\n                          \"String\": \"2,5-Di-O-acetyl-D-glucaro-1,4:6,3-dilactone\"\\n                        },\\n                        {\\n                          \"String\": \"2,5-Di-O-acetyl-D-glucosaccharo-1,4:6,3-dilactone\"\\n                        },\\n                        {\\n                          \"String\": \"2,5-dioxohexahydrofuro[3,2-b]furan-3,6-diyl diacetate(non-preferred name)\"\\n                        },\\n                        {\\n                          \"String\": \"642-83-1\"\\n                        },\\n                        {\\n                          \"String\": \"(6-acetoxy-2,5-dioxo-3,3a,6,6a-tetrahydrofuro[3,2-b]furan-3-yl) acetate\"\\n                        },\\n                        {\\n                          \"String\": \"(6-acetyloxy-2,5-dioxo-3,3a,6,6a-tetrahydrofuro[3,2-b]furan-3-yl) acetate\"\\n                        },\\n                        {\\n                          \"String\": \"6624-28-8\"\\n                        }\\n                      ]\\n                    }\\n                  }\\n                ]\\n              }\\n            ]\\n          },\\n          {\\n            \"TOCHeading\": \"Create Date\",\\n            \"Description\": \"Date when this compound record was created. For more information on various dates for PubChem records, visit the PubChem Record Dates help page.\",\\n            \"URL\": \"https://pubchem.ncbi.nlm.nih.gov/docs/record-dates\",\\n            \"DisplayControls\": {\\n              \"HideThisSection\": true,\\n              \"MoveToTop\": true\\n            },\\n            \"Information\": [\\n              {\\n                \"ReferenceNumber\": 4,\\n                \"Value\": {\\n                  \"DateISO8601\": [\\n                    \"2005-03-25\"\\n                  ]\\n                }\\n              }\\n            ]\\n          },\\n          {\\n            \"TOCHeading\": \"Modify Date\",\\n            \"Description\": \"Date when this compound record was last modified. For more information on various dates for PubChem records, visit the PubChem Record Dates help page.\",\\n            \"URL\": \"https://pubchem.ncbi.nlm.nih.gov/docs/record-dates\",\\n            \"DisplayControls\": {\\n              \"HideThisSection\": true,\\n              \"MoveToTop\": true\\n            },\\n            \"Information\": [\\n              {\\n                \"ReferenceNumber\": 4,\\n                \"Value\": {\\n                  \"DateISO8601\": [\\n                    \"2023-06-17\"\\n                  ]\\n                }\\n              }\\n            ]\\n          }\\n        ]\\n      },\\n      {\\n        \"TOCHeading\": \"Chemical and Physical Properties\",\\n        \"Description\": \"Various chemical and physical properties that are experimentally determined for this compound.  See also the Safety and Hazard Properties section (if available), which has additional properties pertinent to chemical safety and hazards.\",\\n        \"Section\": [\\n          {\\n            \"TOCHeading\": \"Computed Properties\",\\n            \"Description\": \"Properties of this compound computed from its molecular formula and structure.\",\\n            \"DisplayControls\": {\\n              \"CreateTable\": {\\n                \"FromInformationIn\": \"Subsections\",\\n                \"NumberOfColumns\": 3,\\n                \"ColumnHeadings\": [\\n                  \"Property Name\",\\n                  \"Property Value\",\\n                  \"Reference\"\\n                ],\\n                \"ColumnContents\": [\\n                  \"Name\",\\n                  \"Value\",\\n                  \"Reference\"\\n                ]\\n              }\\n            },\\n            \"Section\": [\\n              {\\n                \"TOCHeading\": \"Molecular Weight\",\\n                \"Description\": \"Molecular weight or molecular mass refers to the mass of a molecule. It is calculated as the sum of the mass of each constituent atom multiplied by the number of atoms of that element in the molecular formula.  The molecular weight is also called the relative molar mass, because molecular weights are reported in daltons, which is defined relative to the mass of the isotope 12C (carbon 12).\",\\n                \"URL\": \"https://www.degruyter.com/document/doi/10.1515/pac-2017-1002/html?lang=en\",\\n                \"DisplayControls\": {\\n                  \"MoveToTop\": true\\n                },\\n                \"Information\": [\\n                  {\\n                    \"ReferenceNumber\": 4,\\n                    \"Reference\": [\\n                      \"Computed by PubChem 2.1 (PubChem release 2021.05.07)\"\\n                    ],\\n                    \"Value\": {\\n                      \"StringWithMarkup\": [\\n                        {\\n                          \"String\": \"258.18\"\\n                        }\\n                      ],\\n                      \"Unit\": \"g/mol\"\\n                    }\\n                  }\\n                ]\\n              },\\n              {\\n                \"TOCHeading\": \"XLogP3\",\\n                \"Description\": \"XLogP3 is a predicted octanol-water partition coefficient, computed using the algorithm described in J. Chem. Inf. Model. 2007, 47, 6, 2140-2148. It is used as a measure of hydrophilicity or hydrophobicity of a molecule.\",\\n                \"URL\": \"https://pubmed.ncbi.nlm.nih.gov/17985865/\",\\n                \"Information\": [\\n                  {\\n                    \"ReferenceNumber\": 4,\\n                    \"Name\": \"XLogP3-AA\",\\n                    \"Reference\": [\\n                      \"Computed by XLogP3 3.0 (PubChem release 2021.05.07)\"\\n                    ],\\n                    \"Value\": {\\n                      \"Number\": [\\n                        -0.4\\n                      ]\\n                    }\\n                  }\\n                ]\\n              },\\n              {\\n                \"TOCHeading\": \"Hydrogen Bond Donor Count\",\\n                \"Description\": \"The number of hydrogen bond donors in this compound.\",\\n                \"Information\": [\\n                  {\\n                    \"ReferenceNumber\": 4,\\n                    \"Reference\": [\\n                      \"Computed by Cactvs 3.4.8.18 (PubChem release 2021.05.07)\"\\n                    ],\\n                    \"Value\": {\\n                      \"Number\": [\\n                        0\\n                      ]\\n                    }\\n                  }\\n                ]\\n              },\\n              {\\n                \"TOCHeading\": \"Hydrogen Bond Acceptor Count\",\\n                \"Description\": \"The number of hydrogen bond acceptors in this compound.\",\\n                \"Information\": [\\n                  {\\n                    \"ReferenceNumber\": 4,\\n                    \"Reference\": [\\n                      \"Computed by Cactvs 3.4.8.18 (PubChem release 2021.05.07)\"\\n                    ],\\n                    \"Value\": {\\n                      \"Number\": [\\n                        8\\n                      ]\\n                    }\\n                  }\\n                ]\\n              },\\n              {\\n                \"TOCHeading\": \"Rotatable Bond Count\",\\n                \"Description\": \"A rotatable bond is defined as any single-order non-ring bond, where atoms on either side of the bond are in turn bound to nonterminal heavy (i.e., non-hydrogen) atoms. That is, where rotation around the bond axis changes the overall shape of the molecule, and generates conformers which can be distinguished by standard fast spectroscopic methods.\",\\n                \"Information\": [\\n                  {\\n                    \"ReferenceNumber\": 4,\\n                    \"Reference\": [\\n                      \"Computed by Cactvs 3.4.8.18 (PubChem release 2021.05.07)\"\\n                    ],\\n                    \"Value\": {\\n                      \"Number\": [\\n                        4\\n                      ]\\n                    }\\n                  }\\n                ]\\n              },\\n              {\\n                \"TOCHeading\": \"Exact Mass\",\\n                \"Description\": \"The exact mass of an isotopic species is obtained by summing the masses of the individual isotopes of the molecule.\",\\n                \"Information\": [\\n                  {\\n                    \"ReferenceNumber\": 4,\\n                    \"Reference\": [\\n                      \"Computed by PubChem 2.1 (PubChem release 2021.05.07)\"\\n                    ],\\n                    \"Value\": {\\n                      \"StringWithMarkup\": [\\n                        {\\n                          \"String\": \"258.03756727\"\\n                        }\\n                      ],\\n                      \"Unit\": \"g/mol\"\\n                    }\\n                  }\\n                ]\\n              },\\n              {\\n                \"TOCHeading\": \"Monoisotopic Mass\",\\n                \"Description\": \"The monoisotopic mass is the sum of the masses of the atoms in a molecule using the unbound, ground-state, rest mass of the principal (most abundant) isotope for each element instead of the isotopic average mass.\",\\n                \"Information\": [\\n                  {\\n                    \"ReferenceNumber\": 4,\\n                    \"Reference\": [\\n                      \"Computed by PubChem 2.1 (PubChem release 2021.05.07)\"\\n                    ],\\n                    \"Value\": {\\n                      \"StringWithMarkup\": [\\n                        {\\n                          \"String\": \"258.03756727\"\\n                        }\\n                      ],\\n                      \"Unit\": \"g/mol\"\\n                    }\\n                  }\\n                ]\\n              },\\n              {\\n                \"TOCHeading\": \"Topological Polar Surface Area\",\\n                \"Description\": \"The topological polar surface area (TPSA) is an estimate of the polar surface area (in Angstroms^2) of a molecule, computed as the surface sum over polar atoms in the molecule.  The implementation follows the paper by Ertl et al. [J. Med. Chem. 2000, 43, 3714-3717]: only N and O are considered, 3D coordinates are not used, and there are various precomputed factors for different hybridizations, charges and participation in aromatic systems.\",\\n                \"URL\": \"https://pubmed.ncbi.nlm.nih.gov/11020286/\",\\n                \"Information\": [\\n                  {\\n                    \"ReferenceNumber\": 4,\\n                    \"Reference\": [\\n                      \"Computed by Cactvs 3.4.8.18 (PubChem release 2021.05.07)\"\\n                    ],\\n                    \"Value\": {\\n                      \"Number\": [\\n                        105\\n                      ],\\n                      \"Unit\": \"Å²\"\\n                    }\\n                  }\\n                ]\\n              },\\n              {\\n                \"TOCHeading\": \"Heavy Atom Count\",\\n                \"Description\": \"The number of heavy atoms (i.e., non-hydrogen atoms) in this compound.\",\\n                \"Information\": [\\n                  {\\n                    \"ReferenceNumber\": 4,\\n                    \"Reference\": [\\n                      \"Computed by PubChem\"\\n                    ],\\n                    \"Value\": {\\n                      \"Number\": [\\n                        18\\n                      ]\\n                    }\\n                  }\\n                ]\\n              },\\n              {\\n                \"TOCHeading\": \"Formal Charge\",\\n                \"Description\": \"Formal charge is the difference between the number of valence electrons of each atom and the number of electrons the atom is associated with. Formal charge assumes any shared electrons are equally shared between the two bonded atoms.\",\\n                \"Information\": [\\n                  {\\n                    \"ReferenceNumber\": 4,\\n                    \"Reference\": [\\n                      \"Computed by PubChem\"\\n                    ],\\n                    \"Value\": {\\n                      \"Number\": [\\n                        0\\n                      ]\\n                    }\\n                  }\\n                ]\\n              },\\n              {\\n                \"TOCHeading\": \"Complexity\",\\n                \"Description\": \"The complexity rating of a compound is a rough estimate of how complicated a structure is, seen from both the point of view of the elements contained and the displayed structural features including symmetry. This complexity rating is computed using the Bertz/Hendrickson/Ihlenfeldt formula.\",\\n                \"URL\": \"https://pubchem.ncbi.nlm.nih.gov/docs/glossary#section=Complexity\",\\n                \"Information\": [\\n                  {\\n                    \"ReferenceNumber\": 4,\\n                    \"Reference\": [\\n                      \"Computed by Cactvs 3.4.8.18 (PubChem release 2021.05.07)\"\\n                    ],\\n                    \"Value\": {\\n                      \"Number\": [\\n                        388\\n                      ]\\n                    }\\n                  }\\n                ]\\n              },\\n              {\\n                \"TOCHeading\": \"Isotope Atom Count\",\\n                \"Description\": \"Isotope atom count is the number of isotopes that are not most abundant for the corresponding chemical elements.  Isotopes are variants of a chemical element which differ in neutron number.  For example, among three isotopes of carbon (i.e., C-12, C-13, and C-14), the isotope atom count considers the C-13 and C-14 atoms, because C-12 is the most abundant isotope of carbon.\",\\n                \"Information\": [\\n                  {\\n                    \"ReferenceNumber\": 4,\\n                    \"Reference\": [\\n                      \"Computed by PubChem\"\\n                    ],\\n                    \"Value\": {\\n                      \"Number\": [\\n                        0\\n                      ]\\n                    }\\n                  }\\n                ]\\n              },\\n              {\\n                \"TOCHeading\": \"Defined Atom Stereocenter Count\",\\n                \"Description\": \"An atom stereocenter, also known as a chiral center, is an atom that is attached to four different types of atoms (or groups of atoms) in the tetrahedral arrangement. It can have either (R)- or (S)- configurations.  Some compounds, such as racemic mixtures, have an undefined atom stereocenter, whose (R/S)-configuration is not specifically defined.  The \\\\\"defined atom stereocenter count\\\\\" is the number of atom stereocenters whose configurations are specifically defined.  \",\\n                \"Information\": [\\n                  {\\n                    \"ReferenceNumber\": 4,\\n                    \"Reference\": [\\n                      \"Computed by PubChem\"\\n                    ],\\n                    \"Value\": {\\n                      \"Number\": [\\n                        0\\n                      ]\\n                    }\\n                  }\\n                ]\\n              },\\n              {\\n                \"TOCHeading\": \"Undefined Atom Stereocenter Count\",\\n                \"Description\": \"The number of atom stereocenters whose configurations are not specifically defined.  For the definition of atom stereocenters, see the \\\\\"defined atom stereocenter count\\\\\" above.\",\\n                \"Information\": [\\n                  {\\n                    \"ReferenceNumber\": 4,\\n                    \"Reference\": [\\n                      \"Computed by PubChem\"\\n                    ],\\n                    \"Value\": {\\n                      \"Number\": [\\n                        4\\n                      ]\\n                    }\\n                  }\\n                ]\\n              },\\n              {\\n                \"TOCHeading\": \"Defined Bond Stereocenter Count\",\\n                \"Description\": \"A bond stereocenter is a non-rotatable bond around which two atoms can have different arrangement (as in cis- and trans-forms of butene around its double bond).  Some compounds have an undefined bond stereocenter, whose stereochemistry is not specifically defined.  The \\\\\"defined bond stereocenter count\\\\\" is the number of bond stereocenters whose configurations are specifically defined.  \",\\n                \"Information\": [\\n                  {\\n                    \"ReferenceNumber\": 4,\\n                    \"Reference\": [\\n                      \"Computed by PubChem\"\\n                    ],\\n                    \"Value\": {\\n                      \"Number\": [\\n                        0\\n                      ]\\n                    }\\n                  }\\n                ]\\n              },\\n              {\\n                \"TOCHeading\": \"Undefined Bond Stereocenter Count\",\\n                \"Description\": \"The number of bond stereocenters whose configurations are not specifically defined.  For the definition of bond stereocenters, see the \\\\\"defined bond stereocenter count\\\\\" above.\",\\n                \"Information\": [\\n                  {\\n                    \"ReferenceNumber\": 4,\\n                    \"Reference\": [\\n                      \"Computed by PubChem\"\\n                    ],\\n                    \"Value\": {\\n                      \"Number\": [\\n                        0\\n                      ]\\n                    }\\n                  }\\n                ]\\n              },\\n              {\\n                \"TOCHeading\": \"Covalently-Bonded Unit Count\",\\n                \"Description\": \"A covalently-bonded unit is a group of atoms connected by covalent bonds, ignoring other bond types (or a single atom without covalent bonds).  The \\\\\"covalently-bonded unit count\\\\\" property is the number of such units in this compound compound.\",\\n                \"Information\": [\\n                  {\\n                    \"ReferenceNumber\": 4,\\n                    \"Reference\": [\\n                      \"Computed by PubChem\"\\n                    ],\\n                    \"Value\": {\\n                      \"Number\": [\\n                        1\\n                      ]\\n                    }\\n                  }\\n                ]\\n              },\\n              {\\n                \"TOCHeading\": \"Compound Is Canonicalized\",\\n                \"Description\": \"Whether the compound has successfully passed PubChem\\'s valence bond canonicalization procedure. Some large, complex, or highly symmetric structures may fail this process.\",\\n                \"Information\": [\\n                  {\\n                    \"ReferenceNumber\": 4,\\n                    \"Reference\": [\\n                      \"Computed by PubChem (release 2021.05.07)\"\\n                    ],\\n                    \"Value\": {\\n                      \"StringWithMarkup\": [\\n                        {\\n                          \"String\": \"Yes\"\\n                        }\\n                      ]\\n                    }\\n                  }\\n                ]\\n              }\\n            ]\\n          }\\n        ]\\n      },\\n      {\\n        \"TOCHeading\": \"Related Records\",\\n        \"Description\": \"Records related to this compound.  This includes PubChem compound and substance records, as well as records in NCBI resources (e.g., PubMed, Gene, Protein Structure, and Taxonomy) and other databases external to NCBI.\",\\n        \"Section\": [\\n          {\\n            \"TOCHeading\": \"Related Compounds with Annotation\",\\n            \"Description\": \"Compound records that are closely related to this record AND that have biomedical annotations.  In essence, they are a subset of the compounds included in the \\\\\"Related Compounds\\\\\" section below this section.  The \\\\\"Related Compounds\\\\\" include the parent, components, mixtures, and salt forms of this compound record as well as the \\\\\"similar compounds\\\\\" and \\\\\"similar conformers\\\\\", which are structurally similar to this record in terms of 2-D and 3-D chemical structure similarity measures, respectively, as explained in Kim et al., J. Cheminform. 2016, 8, 62.\",\\n            \"URL\": \"https://doi.org/10.1186/s13321-016-0163-1\",\\n            \"Information\": [\\n              {\\n                \"ReferenceNumber\": 4,\\n                \"Value\": {\\n                  \"Boolean\": [\\n                    true\\n                  ]\\n                }\\n              }\\n            ]\\n          },\\n          {\\n            \"TOCHeading\": \"Related Compounds\",\\n            \"Description\": \"Compound records closely related to this record.  It includes compounds which are the parent, components, mixtures, and salt forms of this compound record.  It also includes the \\\\\"similar compounds\\\\\" and \\\\\"similar conformers\\\\\", which are structurally similar to this record in terms of 2-D and 3-D chemical structure similarity measures, respectively, as explained in Kim et al., J. Cheminform. 2016, 8, 62.\",\\n            \"URL\": \"https://doi.org/10.1186/s13321-016-0163-1\",\\n            \"DisplayControls\": {\\n              \"CreateTable\": {\\n                \"FromInformationIn\": \"ThisSection\",\\n                \"NumberOfColumns\": 2,\\n                \"ColumnContents\": [\\n                  \"Name\",\\n                  \"Value\"\\n                ]\\n              },\\n              \"ShowAtMost\": 1\\n            },\\n            \"Information\": [\\n              {\\n                \"ReferenceNumber\": 4,\\n                \"Name\": \"Same Connectivity Count\",\\n                \"URL\": \"https://pubchem.ncbi.nlm.nih.gov/rest/pug/compound/cid/1980/cids/JSON?cids_type=same_connectivity&list_return=redirect\",\\n                \"Value\": {\\n                  \"Number\": [\\n                    4\\n                  ]\\n                }\\n              },\\n              {\\n                \"ReferenceNumber\": 4,\\n                \"Name\": \"Same Isotope Count\",\\n                \"URL\": \"https://pubchem.ncbi.nlm.nih.gov/rest/pug/compound/cid/1980/cids/JSON?cids_type=same_isotopes&list_return=redirect\",\\n                \"Value\": {\\n                  \"Number\": [\\n                    3\\n                  ]\\n                }\\n              },\\n              {\\n                \"ReferenceNumber\": 4,\\n                \"Name\": \"Same Parent, Connectivity Count\",\\n                \"URL\": \"https://pubchem.ncbi.nlm.nih.gov/rest/pug/compound/cid/1980/cids/JSON?cids_type=same_parent_connectivity&list_return=redirect\",\\n                \"Value\": {\\n                  \"Number\": [\\n                    4\\n                  ]\\n                }\\n              },\\n              {\\n                \"ReferenceNumber\": 4,\\n                \"Name\": \"Same Parent, Isotope Count\",\\n                \"URL\": \"https://pubchem.ncbi.nlm.nih.gov/rest/pug/compound/cid/1980/cids/JSON?cids_type=same_parent_isotopes&list_return=redirect\",\\n                \"Value\": {\\n                  \"Number\": [\\n                    3\\n                  ]\\n                }\\n              },\\n              {\\n                \"ReferenceNumber\": 4,\\n                \"Name\": \"Similar Compounds Count\",\\n                \"URL\": \"https://pubchem.ncbi.nlm.nih.gov/rest/pug/compound/cid/1980/cids/JSON?cids_type=similar_2d&list_return=redirect\",\\n                \"Value\": {\\n                  \"Number\": [\\n                    29\\n                  ]\\n                }\\n              },\\n              {\\n                \"ReferenceNumber\": 4,\\n                \"Name\": \"Similar Conformers Count\",\\n                \"URL\": \"https://pubchem.ncbi.nlm.nih.gov/rest/pug/compound/cid/1980/cids/JSON?cids_type=similar_3d&list_return=redirect\",\\n                \"Value\": {\\n                  \"Number\": [\\n                    20\\n                  ]\\n                }\\n              }\\n            ]\\n          },\\n          {\\n            \"TOCHeading\": \"Substances\",\\n            \"Description\": \"Substance records associated with this compound.  In PubChem, the term \\\\\"substance\\\\\" refers to depositor-provided data for a chemical..\",\\n            \"URL\": \"https://pubchem.ncbi.nlm.nih.gov/docs/substances\",\\n            \"Section\": [\\n              {\\n                \"TOCHeading\": \"Related Substances\",\\n                \"Description\": \"Substance records related to this compound (e.g., the standardized chemical structures of these substances are the same as this compound or correspond to a mixture containing this compound as a component).\",\\n                \"DisplayControls\": {\\n                  \"CreateTable\": {\\n                    \"FromInformationIn\": \"ThisSection\",\\n                    \"NumberOfColumns\": 2,\\n                    \"ColumnContents\": [\\n                      \"Name\",\\n                      \"Value\"\\n                    ]\\n                  },\\n                  \"ShowAtMost\": 1\\n                },\\n                \"Information\": [\\n                  {\\n                    \"ReferenceNumber\": 4,\\n                    \"Name\": \"Same Count\",\\n                    \"URL\": \"https://pubchem.ncbi.nlm.nih.gov/rest/pug/compound/cid/1980/sids/JSON?sids_type=standardized&list_return=redirect\",\\n                    \"Value\": {\\n                      \"Number\": [\\n                        20\\n                      ]\\n                    }\\n                  }\\n                ]\\n              },\\n              {\\n                \"TOCHeading\": \"Substances by Category\",\\n                \"Description\": \"Substances associated with this compound, grouped by the category of the data sources who submitted the substances to PubChem (e.g., government organizations, chemical vendors, research and development, curation efforts, NIH initiatives, etc.).\",\\n                \"Information\": [\\n                  {\\n                    \"ReferenceNumber\": 4,\\n                    \"Value\": {\\n                      \"StringWithMarkup\": [\\n                        {\\n                          \"String\": \"Chemical Vendors\"\\n                        },\\n                        {\\n                          \"String\": \"Curation Efforts\"\\n                        },\\n                        {\\n                          \"String\": \"Governmental Organizations\"\\n                        },\\n                        {\\n                          \"String\": \"Journal Publishers\"\\n                        },\\n                        {\\n                          \"String\": \"Legacy Depositors\"\\n                        },\\n                        {\\n                          \"String\": \"Research and Development\"\\n                        },\\n                        {\\n                          \"String\": \"Subscription Services\"\\n                        }\\n                      ]\\n                    }\\n                  }\\n                ]\\n              }\\n            ]\\n          }\\n        ]\\n      },\\n      {\\n        \"TOCHeading\": \"Chemical Vendors\",\\n        \"Description\": \"A list of chemical vendors that sell this compound. Note that the order of chemical vendors on the list is randomized, and that PubChem do not endorse any of the vendors. Each vendor may have multiple products containing the same chemical, but different in various aspects, such as amount and purity.  For each product, the external identifier used to locate the product on the vendor\\'s website is provided under the Purchasable Chemical column, and clicking this identifier directs you to the vendor\\'s website.  The information on the product provided by the vendor to PubChem can be accessed at the Summary page of the corresponding PubChem Substance ID (SID).  \",\\n        \"Information\": [\\n          {\\n            \"ReferenceNumber\": 4,\\n            \"Value\": {\\n              \"Boolean\": [\\n                true\\n              ]\\n            }\\n          }\\n        ]\\n      },\\n      {\\n        \"TOCHeading\": \"Literature\",\\n        \"Description\": \"Scientific articles associated with this compound.  Some chemical-literature associations in this section are provided by data contributors or derived from MeSH annotations, as explained in Kim et al., J. Cheminform. 2016, 8, 32.  This section also provides the lists of chemicals, genes/proteins, and diseases, that are co-mentioned in scientific articles, as described in Zaslavsky et al., Front. Res. Metr. Anal., 2021, 6, 689059.\",\\n        \"URL\": \"https://pubchem.ncbi.nlm.nih.gov/docs/literature\",\\n        \"Section\": [\\n          {\\n            \"TOCHeading\": \"Consolidated References\",\\n            \"Description\": \"The consolidated references include literature data from all sources including Springer Nature, Thieme Chemistry, Wiley, Nature journals, depositor provided citations, and NLM curated PubMed citations.\",\\n            \"URL\": \"https://pubchem.ncbi.nlm.nih.gov/docs/literature\",\\n            \"Information\": [\\n              {\\n                \"ReferenceNumber\": 4,\\n                \"Value\": {\\n                  \"ExternalTableName\": \"literature\"\\n                }\\n              }\\n            ]\\n          },\\n          {\\n            \"TOCHeading\": \"Metabolite References\",\\n            \"Description\": \"General metabolite references for this compound, provided by the Human Metabolome Database (HMDB) and other sources.\",\\n            \"URL\": \"https://hmdb.ca/\",\\n            \"Information\": [\\n              {\\n                \"ReferenceNumber\": 2,\\n                \"Name\": \"Metabolite References\",\\n                \"Value\": {\\n                  \"ExternalTableName\": \"hmdb\",\\n                  \"ExternalTableNumRows\": 1\\n                }\\n              }\\n            ]\\n          }\\n        ]\\n      },\\n      {\\n        \"TOCHeading\": \"Patents\",\\n        \"Description\": \"Patent applications/documents that mention this compound.\",\\n        \"DisplayControls\": {\\n          \"ListType\": \"Columns\"\\n        },\\n        \"Section\": [\\n          {\\n            \"TOCHeading\": \"WIPO PATENTSCOPE\",\\n            \"Description\": \"Use the provided link to show patents associated with this chemical structure in WIPO\\'s PATENTSCOPE system.\",\\n            \"URL\": \"https://www.wipo.int/patentscope/en/\",\\n            \"Information\": [\\n              {\\n                \"ReferenceNumber\": 5,\\n                \"Value\": {\\n                  \"StringWithMarkup\": [\\n                    {\\n                      \"String\": \"Patents are available for this chemical structure:\"\\n                    },\\n                    {\\n                      \"String\": \"https://patentscope.wipo.int/search/en/result.jsf?inchikey=ZOZKYEHVNDEUCO-UHFFFAOYSA-N\",\\n                      \"Markup\": [\\n                        {\\n                          \"Start\": 0,\\n                          \"Length\": 86,\\n                          \"URL\": \"https://patentscope.wipo.int/search/en/result.jsf?inchikey=ZOZKYEHVNDEUCO-UHFFFAOYSA-N\"\\n                        }\\n                      ]\\n                    }\\n                  ]\\n                }\\n              }\\n            ]\\n          }\\n        ]\\n      }\\n    ],\\n    \"Reference\": [\\n      {\\n        \"ReferenceNumber\": 1,\\n        \"SourceName\": \"EPA DSSTox\",\\n        \"SourceID\": \"DTXSID90859524\",\\n        \"Name\": \"2,5-Dioxohexahydrofuro[3,2-b]furan-3,6-diyl diacetate (non-preferred name)\",\\n        \"Description\": \"DSSTox provides a high quality public chemistry resource for supporting improved predictive toxicology.\",\\n        \"URL\": \"https://comptox.epa.gov/dashboard/DTXSID90859524\",\\n        \"LicenseURL\": \"https://www.epa.gov/privacy/privacy-act-laws-policies-and-resources\",\\n        \"ANID\": 23979853\\n      },\\n      {\\n        \"ReferenceNumber\": 2,\\n        \"SourceName\": \"Human Metabolome Database (HMDB)\",\\n        \"SourceID\": \"HMDB0247896\",\\n        \"Name\": \"Glucaron\",\\n        \"Description\": \"The Human Metabolome Database (HMDB) is a freely available electronic database containing detailed information about small molecule metabolites found in the human body.\",\\n        \"URL\": \"http://www.hmdb.ca/metabolites/HMDB0247896\",\\n        \"LicenseNote\": \"\\\\u0009HMDB is offered to the public as a freely available resource. Use and re-distribution of the data, in whole or in part, for commercial purposes requires explicit permission of the authors and explicit acknowledgment of the source material (HMDB) and the original publication (see the HMDB citing page). We ask that users who download significant portions of the database cite the HMDB paper in any resulting publications.\",\\n        \"LicenseURL\": \"http://www.hmdb.ca/citing\",\\n        \"ANID\": 14480313\\n      },\\n      {\\n        \"ReferenceNumber\": 3,\\n        \"SourceName\": \"Japan Chemical Substance Dictionary (Nikkaji)\",\\n        \"SourceID\": \"J1.285.470F\",\\n        \"Description\": \"The Japan Chemical Substance Dictionary (Nikkaji) has a search system that helps obtain knowledge from dissimilar fields and discover concepts that cross boundaries of specializations.\",\\n        \"URL\": \"http://jglobal.jst.go.jp/en/redirect?Nikkaji_No=J1.285.470F\",\\n        \"ANID\": 20753044\\n      },\\n      {\\n        \"ReferenceNumber\": 4,\\n        \"SourceName\": \"PubChem\",\\n        \"SourceID\": \"PubChem\",\\n        \"Description\": \"Data deposited in or computed by PubChem\",\\n        \"URL\": \"https://pubchem.ncbi.nlm.nih.gov\"\\n      },\\n      {\\n        \"ReferenceNumber\": 5,\\n        \"SourceName\": \"PATENTSCOPE (WIPO)\",\\n        \"Name\": \"SID 388770790\",\\n        \"Description\": \"The PATENTSCOPE database from WIPO includes patent and chemical structure search (with a free account) that gives access to millions of patent documents. The World Intellectual Property Organisation (WIPO) is a specialized United Nations (UN) agency headquartered in Geneva (Switzerland). Our mission is to lead the development of a balanced and effective international Intellectual Property (IP) system that enables innovation and creativity for the benefit of all. We help governments, businesses and society realize the benefits of Intellectual Property and are notably a world reference source for IP information.\",\\n        \"URL\": \"https://pubchem.ncbi.nlm.nih.gov/substance/388770790\"\\n      }\\n    ]\\n  }\\n}\\n']\n"
     ]
    }
   ],
   "source": [
    "for partition in response.text.partition('\"RecordTitle\": '):\n",
    "    print('part', partition.split(',\"Section\":'))\n"
   ]
  },
  {
   "cell_type": "code",
   "execution_count": 14,
   "metadata": {},
   "outputs": [
    {
     "data": {
      "text/plain": [
       "'\"3,6-Diacetoxy-3,3a,6,6a-tetrahydrofuro[3,2-b]furan-2,5-dione\"'"
      ]
     },
     "execution_count": 14,
     "metadata": {},
     "output_type": "execute_result"
    }
   ],
   "source": [
    "response.text.partition('\"RecordTitle\": ')[2].split(',\\n')[0]"
   ]
  },
  {
   "cell_type": "code",
   "execution_count": 15,
   "metadata": {},
   "outputs": [
    {
     "name": "stdout",
     "output_type": "stream",
     "text": [
      "3,6-Diacetoxy-3,3a,6,6a-tetrahydrofuro[3,2-b]furan-2,5-dione\n"
     ]
    }
   ],
   "source": [
    "print(response.text.split('RecordTitle\": ')[1].split('\"')[1])"
   ]
  },
  {
   "cell_type": "code",
   "execution_count": 16,
   "metadata": {},
   "outputs": [],
   "source": [
    "df_keys = ['cid', 'name', 'atc_code']"
   ]
  },
  {
   "cell_type": "code",
   "execution_count": 17,
   "metadata": {},
   "outputs": [],
   "source": [
    "import random"
   ]
  },
  {
   "cell_type": "code",
   "execution_count": 20,
   "metadata": {},
   "outputs": [
    {
     "name": "stdout",
     "output_type": "stream",
     "text": [
      "3 201237\n"
     ]
    }
   ],
   "source": [
    "cids = list(range(201235,300000))\n",
    "df_atc = pd.read_csv('pubchem_2kon_atc.csv')\n",
    "df_no_atc = pd.read_csv('pubchem_2kon_no_atc.csv')\n",
    "df_dic = {}\n",
    "\n",
    "i=0\n",
    "for cid in cids:\n",
    "    url = f'https://pubchem.ncbi.nlm.nih.gov/rest/pug_view/data/compound/{cid}/JSON'\n",
    "    \n",
    "    response_text = rq.get(url)\n",
    "    response_json = rq.get(url).json()\n",
    "    \n",
    "    \n",
    "    try:\n",
    "        df_dic['cid'] = get_cid(cid)\n",
    "        df_dic['name'] = get_name(response_json)\n",
    "        df_dic['atc_code'] = get_atc_code(response_text)\n",
    "\n",
    "        if response_text:\n",
    "            if get_atc_code(response_text):\n",
    "                df_atc.loc[len(df_atc)] = df_dic\n",
    "            else:\n",
    "                df_no_atc.loc[len(df_no_atc)] = df_dic\n",
    "            df_atc.to_csv('pubchem_2kon_atc.csv', index=False)\n",
    "            df_no_atc.to_csv('pubchem_2kon_no_atc.csv', index=False)\n",
    "    except:\n",
    "        pass\n",
    "\n",
    "    i += 1\n",
    "    clear_output()\n",
    "    print(i, cid)\n",
    "\n",
    "display(df_atc.head())\n",
    "display(df_no_atc.tail(10))"
   ]
  },
  {
   "cell_type": "code",
   "execution_count": null,
   "metadata": {},
   "outputs": [
    {
     "name": "stdout",
     "output_type": "stream",
     "text": [
      "1980\n",
      "1981\n",
      "M01AB11\n",
      "M - Musculo-skeletal system\n",
      "1982\n",
      "1983\n",
      "N02BE01\n",
      "N - Nervous system\n",
      "1984\n",
      "1985\n",
      "G - Genito urinary system and sex hormones\n",
      "P - Antiparasitic products, insecticides and repellents\n",
      "A - Alimentary tract and metabolism\n",
      "1986\n",
      "S01EC01\n",
      "S - Sensory organs\n",
      "1987\n",
      "1988\n",
      "1989\n",
      "A - Alimentary tract and metabolism\n"
     ]
    }
   ],
   "source": [
    "cids = list(range(1980, 1990))\n",
    "for cid in cids:\n",
    "    print(cid)\n",
    "    \n",
    "    url = f'https://pubchem.ncbi.nlm.nih.gov/rest/pug_view/data/compound/{cid}/JSON'\n",
    "    response = rq.get(url).json()\n",
    "    for head in response['Record']['Section']:\n",
    "        if head['TOCHeading'] == 'Pharmacology and Biochemistry':\n",
    "            for key in head['Section']:\n",
    "                #print(key)\n",
    "                if key['TOCHeading'] == 'ATC Code':\n",
    "                    for prop in key['Information']:\n",
    "                        if 'StringWithMarkup' in prop['Value'].keys() :\n",
    "                            print(prop['Value']['StringWithMarkup'][0]['String'])\n",
    "                       \n"
   ]
  },
  {
   "cell_type": "code",
   "execution_count": null,
   "metadata": {},
   "outputs": [
    {
     "name": "stdout",
     "output_type": "stream",
     "text": [
      "1980\n",
      "1981\n",
      "M01AB11\n",
      "1982\n",
      "1983\n",
      "N02BE01\n",
      "1984\n",
      "1985\n",
      "G01AB01\n",
      "1986\n",
      "S01EC01\n",
      "1987\n",
      "1988\n",
      "1989\n",
      "A10BB31\n"
     ]
    }
   ],
   "source": [
    "cids = list(range(1980, 1990))\n",
    "for cid in cids:\n",
    "    print(cid)\n",
    "    url = f'https://pubchem.ncbi.nlm.nih.gov/rest/pug_view/data/compound/{cid}/json'\n",
    "    response = rq.get(url)\n",
    "    pat = r\"\\\"[A-Z]\\d{2}[A-Z]{2}\\d{2}\\\"\"\n",
    "    atc_code_found = re.search(pat, response.text)\n",
    "    if atc_code_found:\n",
    "        print(atc_code_found.group(0).strip('\"'))\n",
    "    "
   ]
  },
  {
   "cell_type": "code",
   "execution_count": null,
   "metadata": {},
   "outputs": [
    {
     "name": "stdout",
     "output_type": "stream",
     "text": [
      "N02BE01\n"
     ]
    }
   ],
   "source": [
    "cid = 1983\n",
    "url = f'https://pubchem.ncbi.nlm.nih.gov/rest/pug_view/data/compound/{cid}/json'\n",
    "response = rq.get(url)\n",
    "pat = r\"\\\"[A-Z]\\d{2}[A-Z]{2}\\d{2}\\\"\"\n",
    "atc_code =  re.search(pat, response.text)\n",
    "print(atc_code.group(0).strip('\"'))\n"
   ]
  },
  {
   "cell_type": "code",
   "execution_count": null,
   "metadata": {},
   "outputs": [
    {
     "ename": "TypeError",
     "evalue": "'Response' object is not subscriptable",
     "output_type": "error",
     "traceback": [
      "\u001b[1;31m---------------------------------------------------------------------------\u001b[0m",
      "\u001b[1;31mTypeError\u001b[0m                                 Traceback (most recent call last)",
      "Cell \u001b[1;32mIn[20], line 1\u001b[0m\n\u001b[1;32m----> 1\u001b[0m \u001b[39mfor\u001b[39;00m head \u001b[39min\u001b[39;00m response[\u001b[39m'\u001b[39;49m\u001b[39mRecord\u001b[39;49m\u001b[39m'\u001b[39;49m][\u001b[39m'\u001b[39m\u001b[39mSection\u001b[39m\u001b[39m'\u001b[39m]:\n\u001b[0;32m      2\u001b[0m     \u001b[39mif\u001b[39;00m head[\u001b[39m'\u001b[39m\u001b[39mTOCHeading\u001b[39m\u001b[39m'\u001b[39m] \u001b[39m==\u001b[39m \u001b[39m'\u001b[39m\u001b[39mPharmacology and Biochemistry\u001b[39m\u001b[39m'\u001b[39m:\n\u001b[0;32m      3\u001b[0m         \u001b[39mfor\u001b[39;00m key \u001b[39min\u001b[39;00m head[\u001b[39m'\u001b[39m\u001b[39mSection\u001b[39m\u001b[39m'\u001b[39m]:\n\u001b[0;32m      4\u001b[0m             \u001b[39m#print(key)\u001b[39;00m\n",
      "\u001b[1;31mTypeError\u001b[0m: 'Response' object is not subscriptable"
     ]
    }
   ],
   "source": [
    "for head in response['Record']['Section']:\n",
    "    if head['TOCHeading'] == 'Pharmacology and Biochemistry':\n",
    "        for key in head['Section']:\n",
    "            #print(key)\n",
    "            if key['TOCHeading'] == 'ATC Code':\n",
    "                for prop in key['Information']:\n",
    "                    print(prop)\n",
    "                    "
   ]
  },
  {
   "cell_type": "code",
   "execution_count": null,
   "metadata": {},
   "outputs": [
    {
     "data": {
      "text/plain": [
       "Index(['Unnamed: 0', '@type', '@created', '@updated', 'drugbank-id', 'name',\n",
       "       'cas-number', 'unii', 'average-mass', 'monoisotopic-mass', 'groups',\n",
       "       'mixtures', 'manufacturers', 'experimental-properties', 'snp-effects',\n",
       "       'snp-adverse-drug-reactions', 'targets', 'enzymes', 'carriers',\n",
       "       'transporters', 'logP', 'logS', 'Water Solubility', 'IUPAC Name',\n",
       "       'Traditional IUPAC Name', 'Molecular Weight', 'Monoisotopic Weight',\n",
       "       'SMILES', 'Molecular Formula', 'InChI', 'InChIKey',\n",
       "       'Polar Surface Area (PSA)', 'Refractivity', 'Polarizability',\n",
       "       'Rotatable Bond Count', 'H Bond Acceptor Count', 'H Bond Donor Count',\n",
       "       'pKa (strongest acidic)', 'Physiological Charge', 'Number of Rings',\n",
       "       'Bioavailability', 'Rule of Five', 'Ghose Filter', 'MDDR-Like Rule',\n",
       "       'atc_code', 'atc_code_0', 'atc_code_0_$', 'atc_code_1', 'atc_code_1_$',\n",
       "       'atc_code_2', 'atc_code_2_$', 'atc_code_3', 'atc_code_3_$'],\n",
       "      dtype='object')"
      ]
     },
     "execution_count": 183,
     "metadata": {},
     "output_type": "execute_result"
    }
   ],
   "source": [
    "drugbank_df = pd.read_csv('..\\Drugbank database\\drugbank_all_full_database.xml\\molecule_dataframe.csv')\n",
    "drugbank_df.columns\n"
   ]
  },
  {
   "cell_type": "code",
   "execution_count": null,
   "metadata": {},
   "outputs": [],
   "source": [
    "comp = pcp.get_compounds(1983)"
   ]
  },
  {
   "cell_type": "code",
   "execution_count": null,
   "metadata": {},
   "outputs": [
    {
     "data": {
      "text/plain": [
       "Compound(1983)"
      ]
     },
     "execution_count": 146,
     "metadata": {},
     "output_type": "execute_result"
    }
   ],
   "source": [
    "comp[0]"
   ]
  },
  {
   "cell_type": "code",
   "execution_count": null,
   "metadata": {},
   "outputs": [
    {
     "data": {
      "text/plain": [
       "{'atc_code': {0: 'A',\n",
       "  1: 'B',\n",
       "  2: 'C',\n",
       "  3: 'D',\n",
       "  4: 'G',\n",
       "  5: 'H',\n",
       "  6: 'J',\n",
       "  7: 'L',\n",
       "  8: 'M',\n",
       "  9: 'N',\n",
       "  10: 'P',\n",
       "  11: 'R',\n",
       "  12: 'S',\n",
       "  13: 'V'},\n",
       " 'atc_desc': {0: 'ALIMENTARY TRACT AND METABOLISM',\n",
       "  1: 'BLOOD AND BLOOD FORMING ORGANS',\n",
       "  2: 'CARDIOVASCULAR SYSTEM',\n",
       "  3: 'DERMATOLOGICALS',\n",
       "  4: 'GENITO URINARY SYSTEM AND SEX HORMONES',\n",
       "  5: 'SYSTEMIC HORMONAL PREPARATIONS, EXCL. SEX HORMONES AND INSULINS',\n",
       "  6: 'ANTIINFECTIVES FOR SYSTEMIC USE',\n",
       "  7: 'ANTINEOPLASTIC AND IMMUNOMODULATING AGENTS',\n",
       "  8: 'MUSCULO-SKELETAL SYSTEM',\n",
       "  9: 'NERVOUS SYSTEM',\n",
       "  10: 'ANTIPARASITIC PRODUCTS, INSECTICIDES AND REPELLENTS',\n",
       "  11: 'RESPIRATORY SYSTEM',\n",
       "  12: 'SENSORY ORGANS',\n",
       "  13: 'VARIOUS'}}"
      ]
     },
     "execution_count": 36,
     "metadata": {},
     "output_type": "execute_result"
    }
   ],
   "source": [
    "atc_codes=pd.read_csv('atc_codes.csv', sep=';')\n",
    "atc_dict = atc_codes.to_dict()\n",
    "atc_dict"
   ]
  },
  {
   "cell_type": "code",
   "execution_count": null,
   "metadata": {},
   "outputs": [],
   "source": []
  },
  {
   "cell_type": "code",
   "execution_count": null,
   "metadata": {},
   "outputs": [
    {
     "data": {
      "text/html": [
       "<div>\n",
       "<style scoped>\n",
       "    .dataframe tbody tr th:only-of-type {\n",
       "        vertical-align: middle;\n",
       "    }\n",
       "\n",
       "    .dataframe tbody tr th {\n",
       "        vertical-align: top;\n",
       "    }\n",
       "\n",
       "    .dataframe thead th {\n",
       "        text-align: right;\n",
       "    }\n",
       "</style>\n",
       "<table border=\"1\" class=\"dataframe\">\n",
       "  <thead>\n",
       "    <tr style=\"text-align: right;\">\n",
       "      <th></th>\n",
       "      <th>Unnamed: 0</th>\n",
       "      <th>cid</th>\n",
       "      <th>name</th>\n",
       "      <th>atc_code</th>\n",
       "    </tr>\n",
       "  </thead>\n",
       "  <tbody>\n",
       "    <tr>\n",
       "      <th>0</th>\n",
       "      <td>0</td>\n",
       "      <td>1</td>\n",
       "      <td>Acetylcarnitine</td>\n",
       "      <td>N</td>\n",
       "    </tr>\n",
       "    <tr>\n",
       "      <th>1</th>\n",
       "      <td>1</td>\n",
       "      <td>137</td>\n",
       "      <td>Aminolevulinic acid</td>\n",
       "      <td>L</td>\n",
       "    </tr>\n",
       "    <tr>\n",
       "      <th>2</th>\n",
       "      <td>2</td>\n",
       "      <td>176</td>\n",
       "      <td>Acetic Acid</td>\n",
       "      <td>G</td>\n",
       "    </tr>\n",
       "    <tr>\n",
       "      <th>3</th>\n",
       "      <td>3</td>\n",
       "      <td>187</td>\n",
       "      <td>Acetylcholine</td>\n",
       "      <td>S</td>\n",
       "    </tr>\n",
       "    <tr>\n",
       "      <th>4</th>\n",
       "      <td>4</td>\n",
       "      <td>237</td>\n",
       "      <td>Quinacrine</td>\n",
       "      <td>P</td>\n",
       "    </tr>\n",
       "    <tr>\n",
       "      <th>...</th>\n",
       "      <td>...</td>\n",
       "      <td>...</td>\n",
       "      <td>...</td>\n",
       "      <td>...</td>\n",
       "    </tr>\n",
       "    <tr>\n",
       "      <th>67</th>\n",
       "      <td>67</td>\n",
       "      <td>1986</td>\n",
       "      <td>Acetazolamide</td>\n",
       "      <td>S</td>\n",
       "    </tr>\n",
       "    <tr>\n",
       "      <th>68</th>\n",
       "      <td>68</td>\n",
       "      <td>1989</td>\n",
       "      <td>Acetohexamide</td>\n",
       "      <td>A</td>\n",
       "    </tr>\n",
       "    <tr>\n",
       "      <th>69</th>\n",
       "      <td>69</td>\n",
       "      <td>1990</td>\n",
       "      <td>Acetohydroxamic acid</td>\n",
       "      <td>G</td>\n",
       "    </tr>\n",
       "    <tr>\n",
       "      <th>70</th>\n",
       "      <td>70</td>\n",
       "      <td>1993</td>\n",
       "      <td>Methacholine</td>\n",
       "      <td>V</td>\n",
       "    </tr>\n",
       "    <tr>\n",
       "      <th>71</th>\n",
       "      <td>71</td>\n",
       "      <td>1995</td>\n",
       "      <td>Acetylleucine</td>\n",
       "      <td>N</td>\n",
       "    </tr>\n",
       "  </tbody>\n",
       "</table>\n",
       "<p>72 rows × 4 columns</p>\n",
       "</div>"
      ],
      "text/plain": [
       "    Unnamed: 0   cid                  name atc_code\n",
       "0            0     1       Acetylcarnitine        N\n",
       "1            1   137   Aminolevulinic acid        L\n",
       "2            2   176           Acetic Acid        G\n",
       "3            3   187         Acetylcholine        S\n",
       "4            4   237            Quinacrine        P\n",
       "..         ...   ...                   ...      ...\n",
       "67          67  1986         Acetazolamide        S\n",
       "68          68  1989         Acetohexamide        A\n",
       "69          69  1990  Acetohydroxamic acid        G\n",
       "70          70  1993          Methacholine        V\n",
       "71          71  1995         Acetylleucine        N\n",
       "\n",
       "[72 rows x 4 columns]"
      ]
     },
     "execution_count": 25,
     "metadata": {},
     "output_type": "execute_result"
    }
   ],
   "source": [
    "pc_df = pd.read_csv('pubchem_1_2000_atc.csv')\n",
    "pc_df['atc_code'] = pc_df['atc_code'].str[0]\n",
    "pc_df['atc_desc'] = pc_df['atc_code'].apply(lambda x)\n",
    "pc_df"
   ]
  },
  {
   "cell_type": "code",
   "execution_count": null,
   "metadata": {},
   "outputs": [
    {
     "data": {
      "text/plain": [
       "[67841280,\n",
       " 87484765,\n",
       " 52966160,\n",
       " 64556986,\n",
       " 51842987,\n",
       " 30886865,\n",
       " 78470395,\n",
       " 127838834,\n",
       " 149758725,\n",
       " 164103470]"
      ]
     },
     "execution_count": 14,
     "metadata": {},
     "output_type": "execute_result"
    }
   ],
   "source": [
    "import random\n",
    "random.seed(77)\n",
    "n = random.sample(range(0,168500000),10)\n",
    "n\n"
   ]
  },
  {
   "cell_type": "code",
   "execution_count": null,
   "metadata": {},
   "outputs": [],
   "source": [
    "168 500 000"
   ]
  }
 ],
 "metadata": {
  "kernelspec": {
   "display_name": "kedro-environment",
   "language": "python",
   "name": "python3"
  },
  "language_info": {
   "codemirror_mode": {
    "name": "ipython",
    "version": 3
   },
   "file_extension": ".py",
   "mimetype": "text/x-python",
   "name": "python",
   "nbconvert_exporter": "python",
   "pygments_lexer": "ipython3",
   "version": "3.11.3"
  },
  "orig_nbformat": 4
 },
 "nbformat": 4,
 "nbformat_minor": 2
}
