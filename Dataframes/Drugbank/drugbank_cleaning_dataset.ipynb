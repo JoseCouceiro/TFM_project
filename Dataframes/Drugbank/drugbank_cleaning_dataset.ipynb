{
 "cells": [
  {
   "attachments": {},
   "cell_type": "markdown",
   "metadata": {},
   "source": [
    "#### Imports"
   ]
  },
  {
   "cell_type": "code",
   "execution_count": 3,
   "metadata": {},
   "outputs": [],
   "source": [
    "import os\n",
    "import pandas as pd\n",
    "import pubchempy as pcp"
   ]
  },
  {
   "attachments": {},
   "cell_type": "markdown",
   "metadata": {},
   "source": [
    "#### Process the dataframe"
   ]
  },
  {
   "cell_type": "code",
   "execution_count": 12,
   "metadata": {},
   "outputs": [],
   "source": [
    "drugs = pd.read_csv(os.path.join('drugbank_dataframe.csv'), low_memory=False)"
   ]
  },
  {
   "attachments": {},
   "cell_type": "markdown",
   "metadata": {},
   "source": [
    "Selection of the columns of interest"
   ]
  },
  {
   "cell_type": "code",
   "execution_count": 16,
   "metadata": {},
   "outputs": [],
   "source": [
    "sel_cols = ['H Bond Acceptor Count', 'H Bond Donor Count', 'Molecular Weight', 'logP', 'Rule of Five', 'SMILES', 'atc_code']"
   ]
  },
  {
   "cell_type": "code",
   "execution_count": 16,
   "metadata": {},
   "outputs": [],
   "source": [
    "drugs_dataset = drugs[sel_cols]"
   ]
  },
  {
   "attachments": {},
   "cell_type": "markdown",
   "metadata": {},
   "source": [
    "WE make a function that obtaines the CID number of a molecule from its InChI code and map it to obtain a new column with the CID"
   ]
  },
  {
   "cell_type": "code",
   "execution_count": 19,
   "metadata": {},
   "outputs": [],
   "source": [
    "def get_cid_from_inchi(inchi):\n",
    "    \"\"\"Function that obtains the CID of a molecule from its InChI\n",
    "    Input: molecule's InChi\n",
    "    Output: molecule's CID\n",
    "    \"\"\"\n",
    "    try:\n",
    "        comp = pcp.get_compounds(inchi, 'inchi')\n",
    "    except:\n",
    "        print('Something went wrong obtaining the CID')\n",
    "        return None\n",
    "    return comp[0].cid"
   ]
  },
  {
   "cell_type": "code",
   "execution_count": 20,
   "metadata": {},
   "outputs": [
    {
     "name": "stdout",
     "output_type": "stream",
     "text": [
      "Something went wrong obtaining the CID\n",
      "Something went wrong obtaining the CID\n",
      "Something went wrong obtaining the CID\n",
      "Something went wrong obtaining the CID\n",
      "Something went wrong obtaining the CID\n",
      "Something went wrong obtaining the CID\n",
      "Something went wrong obtaining the CID\n",
      "Something went wrong obtaining the CID\n",
      "Something went wrong obtaining the CID\n",
      "Something went wrong obtaining the CID\n",
      "Something went wrong obtaining the CID\n",
      "Something went wrong obtaining the CID\n",
      "Something went wrong obtaining the CID\n",
      "Something went wrong obtaining the CID\n",
      "Something went wrong obtaining the CID\n",
      "Something went wrong obtaining the CID\n",
      "Something went wrong obtaining the CID\n",
      "Something went wrong obtaining the CID\n",
      "Something went wrong obtaining the CID\n",
      "Something went wrong obtaining the CID\n",
      "Something went wrong obtaining the CID\n",
      "Something went wrong obtaining the CID\n",
      "Something went wrong obtaining the CID\n",
      "Something went wrong obtaining the CID\n",
      "Something went wrong obtaining the CID\n",
      "Something went wrong obtaining the CID\n",
      "Something went wrong obtaining the CID\n",
      "Something went wrong obtaining the CID\n",
      "Something went wrong obtaining the CID\n",
      "Something went wrong obtaining the CID\n",
      "Something went wrong obtaining the CID\n",
      "Something went wrong obtaining the CID\n",
      "Something went wrong obtaining the CID\n",
      "Something went wrong obtaining the CID\n",
      "Something went wrong obtaining the CID\n",
      "Something went wrong obtaining the CID\n",
      "Something went wrong obtaining the CID\n",
      "Something went wrong obtaining the CID\n",
      "Something went wrong obtaining the CID\n",
      "Something went wrong obtaining the CID\n",
      "Something went wrong obtaining the CID\n",
      "Something went wrong obtaining the CID\n",
      "Something went wrong obtaining the CID\n",
      "Something went wrong obtaining the CID\n",
      "Something went wrong obtaining the CID\n",
      "Something went wrong obtaining the CID\n",
      "Something went wrong obtaining the CID\n",
      "Something went wrong obtaining the CID\n",
      "Something went wrong obtaining the CID\n",
      "Something went wrong obtaining the CID\n",
      "Something went wrong obtaining the CID\n",
      "Something went wrong obtaining the CID\n",
      "Something went wrong obtaining the CID\n",
      "Something went wrong obtaining the CID\n",
      "Something went wrong obtaining the CID\n",
      "Something went wrong obtaining the CID\n",
      "Something went wrong obtaining the CID\n",
      "Something went wrong obtaining the CID\n",
      "Something went wrong obtaining the CID\n",
      "Something went wrong obtaining the CID\n",
      "Something went wrong obtaining the CID\n",
      "Something went wrong obtaining the CID\n",
      "Something went wrong obtaining the CID\n",
      "Something went wrong obtaining the CID\n",
      "Something went wrong obtaining the CID\n",
      "Something went wrong obtaining the CID\n",
      "Something went wrong obtaining the CID\n",
      "Something went wrong obtaining the CID\n",
      "Something went wrong obtaining the CID\n",
      "Something went wrong obtaining the CID\n",
      "Something went wrong obtaining the CID\n",
      "Something went wrong obtaining the CID\n",
      "Something went wrong obtaining the CID\n",
      "Something went wrong obtaining the CID\n",
      "Something went wrong obtaining the CID\n",
      "Something went wrong obtaining the CID\n",
      "Something went wrong obtaining the CID\n",
      "Something went wrong obtaining the CID\n",
      "Something went wrong obtaining the CID\n",
      "Something went wrong obtaining the CID\n",
      "Something went wrong obtaining the CID\n",
      "Something went wrong obtaining the CID\n",
      "Something went wrong obtaining the CID\n",
      "Something went wrong obtaining the CID\n",
      "Something went wrong obtaining the CID\n",
      "Something went wrong obtaining the CID\n",
      "Something went wrong obtaining the CID\n",
      "Something went wrong obtaining the CID\n",
      "Something went wrong obtaining the CID\n",
      "Something went wrong obtaining the CID\n",
      "Something went wrong obtaining the CID\n",
      "Something went wrong obtaining the CID\n",
      "Something went wrong obtaining the CID\n"
     ]
    },
    {
     "name": "stderr",
     "output_type": "stream",
     "text": [
      "C:\\Users\\josin\\AppData\\Local\\Temp\\ipykernel_8256\\69809899.py:1: SettingWithCopyWarning: \n",
      "A value is trying to be set on a copy of a slice from a DataFrame.\n",
      "Try using .loc[row_indexer,col_indexer] = value instead\n",
      "\n",
      "See the caveats in the documentation: https://pandas.pydata.org/pandas-docs/stable/user_guide/indexing.html#returning-a-view-versus-a-copy\n",
      "  drugs_dataset_atc['CID']= drugs_atc['InChI'].map(get_cid_from_inchi)\n"
     ]
    }
   ],
   "source": [
    "# This step can take up to 2 hours\n",
    "drugs_dataset['CID']= drugs['InChI'].map(get_cid_from_inchi)"
   ]
  },
  {
   "attachments": {},
   "cell_type": "markdown",
   "metadata": {},
   "source": [
    "Changing the names and order of the columns to be the same in every dataset"
   ]
  },
  {
   "cell_type": "code",
   "execution_count": 168,
   "metadata": {},
   "outputs": [],
   "source": [
    "column_order = [\"CID\", \"HBondAcceptorCount\", \"HBondDonorCount\", \"MolecularWeight\", \"LogP\", \"RuleFive\", \"IsomericSMILES\", \"ATC_code\"]\n",
    "new_column_names = sorted(column_order)\n",
    "new_column_names = new_column_names[0:4] + new_column_names[5:] + new_column_names[4:5]\n",
    "\n",
    "columns = sorted(drugs_dataset.columns.to_list(), key=str.lower)\n"
   ]
  },
  {
   "cell_type": "code",
   "execution_count": 169,
   "metadata": {},
   "outputs": [],
   "source": [
    "column_names_dict = {columns[i]: new_column_names[i] for i in range(len(columns))}"
   ]
  },
  {
   "cell_type": "code",
   "execution_count": 170,
   "metadata": {},
   "outputs": [],
   "source": [
    "# Renaming\n",
    "drugs_dataset = drugs_dataset.rename(columns=column_names_dict)"
   ]
  },
  {
   "cell_type": "code",
   "execution_count": 171,
   "metadata": {},
   "outputs": [],
   "source": [
    "# Reorder\n",
    "drugs_dataset = drugs_dataset[column_order]"
   ]
  },
  {
   "attachments": {},
   "cell_type": "markdown",
   "metadata": {},
   "source": [
    "Converting some data types"
   ]
  },
  {
   "cell_type": "code",
   "execution_count": 172,
   "metadata": {},
   "outputs": [],
   "source": [
    "drugs_dataset[['RuleFive', 'CID']] = drugs_dataset[['RuleFive', 'CID']].astype('int32')"
   ]
  },
  {
   "attachments": {},
   "cell_type": "markdown",
   "metadata": {},
   "source": [
    "Split the data into labeled and unlabeled datasets"
   ]
  },
  {
   "cell_type": "code",
   "execution_count": 13,
   "metadata": {},
   "outputs": [],
   "source": [
    "drugs_atc = drugs[drugs['atc_code'].isna() == False]\n",
    "drugs_no_atc = drugs[drugs['atc_code'].isna()] "
   ]
  },
  {
   "attachments": {},
   "cell_type": "markdown",
   "metadata": {},
   "source": [
    "Droping NaN"
   ]
  },
  {
   "cell_type": "code",
   "execution_count": 167,
   "metadata": {},
   "outputs": [],
   "source": [
    "drugs_dataset_atc = drugs_dataset_atc.dropna()\n",
    "\n",
    "drugs_dataset_no_atc = drugs_dataset_no_atc[['H Bond Acceptor Count', 'H Bond Donor Count', 'Molecular Weight',\n",
    "       'logP', 'Rule of Five', 'SMILES', 'CID']].dropna(how='any')\n",
    "drugs_dataset_no_atc['atc_code'] = None"
   ]
  },
  {
   "cell_type": "code",
   "execution_count": 173,
   "metadata": {},
   "outputs": [
    {
     "name": "stdout",
     "output_type": "stream",
     "text": [
      "<class 'pandas.core.frame.DataFrame'>\n",
      "Index: 2901 entries, 0 to 3023\n",
      "Data columns (total 8 columns):\n",
      " #   Column              Non-Null Count  Dtype  \n",
      "---  ------              --------------  -----  \n",
      " 0   CID                 2901 non-null   int32  \n",
      " 1   HBondAcceptorCount  2901 non-null   float64\n",
      " 2   HBondDonorCount     2901 non-null   float64\n",
      " 3   MolecularWeight     2901 non-null   float64\n",
      " 4   LogP                2901 non-null   float64\n",
      " 5   RuleFive            2901 non-null   int32  \n",
      " 6   IsomericSMILES      2901 non-null   object \n",
      " 7   ATC_code            2901 non-null   object \n",
      "dtypes: float64(4), int32(2), object(2)\n",
      "memory usage: 181.3+ KB\n"
     ]
    },
    {
     "data": {
      "text/plain": [
       "None"
      ]
     },
     "metadata": {},
     "output_type": "display_data"
    },
    {
     "data": {
      "text/html": [
       "<div>\n",
       "<style scoped>\n",
       "    .dataframe tbody tr th:only-of-type {\n",
       "        vertical-align: middle;\n",
       "    }\n",
       "\n",
       "    .dataframe tbody tr th {\n",
       "        vertical-align: top;\n",
       "    }\n",
       "\n",
       "    .dataframe thead th {\n",
       "        text-align: right;\n",
       "    }\n",
       "</style>\n",
       "<table border=\"1\" class=\"dataframe\">\n",
       "  <thead>\n",
       "    <tr style=\"text-align: right;\">\n",
       "      <th></th>\n",
       "      <th>CID</th>\n",
       "      <th>HBondAcceptorCount</th>\n",
       "      <th>HBondDonorCount</th>\n",
       "      <th>MolecularWeight</th>\n",
       "      <th>LogP</th>\n",
       "      <th>RuleFive</th>\n",
       "      <th>IsomericSMILES</th>\n",
       "      <th>ATC_code</th>\n",
       "    </tr>\n",
       "  </thead>\n",
       "  <tbody>\n",
       "    <tr>\n",
       "      <th>0</th>\n",
       "      <td>101041682</td>\n",
       "      <td>37.0</td>\n",
       "      <td>28.0</td>\n",
       "      <td>2180.2853</td>\n",
       "      <td>-0.76</td>\n",
       "      <td>0</td>\n",
       "      <td>CC[C@H](C)[C@H](NC(=O)[C@H](CCC(O)=O)NC(=O)[C@...</td>\n",
       "      <td>B01AE06</td>\n",
       "    </tr>\n",
       "    <tr>\n",
       "      <th>1</th>\n",
       "      <td>657181</td>\n",
       "      <td>16.0</td>\n",
       "      <td>16.0</td>\n",
       "      <td>1209.3983</td>\n",
       "      <td>1.04</td>\n",
       "      <td>0</td>\n",
       "      <td>CCNC(=O)[C@@H]1CCCN1C(=O)[C@H](CCCNC(N)=N)NC(=...</td>\n",
       "      <td>L02AE51</td>\n",
       "    </tr>\n",
       "    <tr>\n",
       "      <th>2</th>\n",
       "      <td>5311128</td>\n",
       "      <td>18.0</td>\n",
       "      <td>17.0</td>\n",
       "      <td>1269.4105</td>\n",
       "      <td>0.30</td>\n",
       "      <td>0</td>\n",
       "      <td>CC(C)C[C@H](NC(=O)[C@@H](COC(C)(C)C)NC(=O)[C@H...</td>\n",
       "      <td>L02AE03</td>\n",
       "    </tr>\n",
       "  </tbody>\n",
       "</table>\n",
       "</div>"
      ],
      "text/plain": [
       "         CID  HBondAcceptorCount  HBondDonorCount  MolecularWeight  LogP   \n",
       "0  101041682                37.0             28.0        2180.2853 -0.76  \\\n",
       "1     657181                16.0             16.0        1209.3983  1.04   \n",
       "2    5311128                18.0             17.0        1269.4105  0.30   \n",
       "\n",
       "   RuleFive                                     IsomericSMILES ATC_code  \n",
       "0         0  CC[C@H](C)[C@H](NC(=O)[C@H](CCC(O)=O)NC(=O)[C@...  B01AE06  \n",
       "1         0  CCNC(=O)[C@@H]1CCCN1C(=O)[C@H](CCCNC(N)=N)NC(=...  L02AE51  \n",
       "2         0  CC(C)C[C@H](NC(=O)[C@@H](COC(C)(C)C)NC(=O)[C@H...  L02AE03  "
      ]
     },
     "metadata": {},
     "output_type": "display_data"
    },
    {
     "name": "stdout",
     "output_type": "stream",
     "text": [
      "<class 'pandas.core.frame.DataFrame'>\n",
      "Index: 8457 entries, 0 to 9197\n",
      "Data columns (total 8 columns):\n",
      " #   Column              Non-Null Count  Dtype  \n",
      "---  ------              --------------  -----  \n",
      " 0   CID                 8457 non-null   int32  \n",
      " 1   HBondAcceptorCount  8457 non-null   float64\n",
      " 2   HBondDonorCount     8457 non-null   float64\n",
      " 3   MolecularWeight     8457 non-null   float64\n",
      " 4   LogP                8457 non-null   float64\n",
      " 5   RuleFive            8457 non-null   int32  \n",
      " 6   IsomericSMILES      8457 non-null   object \n",
      " 7   ATC_code            0 non-null      object \n",
      "dtypes: float64(4), int32(2), object(2)\n",
      "memory usage: 528.6+ KB\n"
     ]
    },
    {
     "data": {
      "text/plain": [
       "None"
      ]
     },
     "metadata": {},
     "output_type": "display_data"
    },
    {
     "data": {
      "text/html": [
       "<div>\n",
       "<style scoped>\n",
       "    .dataframe tbody tr th:only-of-type {\n",
       "        vertical-align: middle;\n",
       "    }\n",
       "\n",
       "    .dataframe tbody tr th {\n",
       "        vertical-align: top;\n",
       "    }\n",
       "\n",
       "    .dataframe thead th {\n",
       "        text-align: right;\n",
       "    }\n",
       "</style>\n",
       "<table border=\"1\" class=\"dataframe\">\n",
       "  <thead>\n",
       "    <tr style=\"text-align: right;\">\n",
       "      <th></th>\n",
       "      <th>CID</th>\n",
       "      <th>HBondAcceptorCount</th>\n",
       "      <th>HBondDonorCount</th>\n",
       "      <th>MolecularWeight</th>\n",
       "      <th>LogP</th>\n",
       "      <th>RuleFive</th>\n",
       "      <th>IsomericSMILES</th>\n",
       "      <th>ATC_code</th>\n",
       "    </tr>\n",
       "  </thead>\n",
       "  <tbody>\n",
       "    <tr>\n",
       "      <th>0</th>\n",
       "      <td>11979316</td>\n",
       "      <td>16.0</td>\n",
       "      <td>14.0</td>\n",
       "      <td>2140.4600</td>\n",
       "      <td>-1.40</td>\n",
       "      <td>0</td>\n",
       "      <td>NCCCCC(NC(=O)C1CCCN1C(=O)C1CSSCC(N)C(=O)NC(CC2...</td>\n",
       "      <td>None</td>\n",
       "    </tr>\n",
       "    <tr>\n",
       "      <th>1</th>\n",
       "      <td>135444742</td>\n",
       "      <td>12.0</td>\n",
       "      <td>8.0</td>\n",
       "      <td>445.4292</td>\n",
       "      <td>-0.96</td>\n",
       "      <td>0</td>\n",
       "      <td>NC1=NC(=O)C2=C(NCC(CNC3=CC=C(C=C3)C(=O)N[C@@H]...</td>\n",
       "      <td>None</td>\n",
       "    </tr>\n",
       "    <tr>\n",
       "      <th>2</th>\n",
       "      <td>6274</td>\n",
       "      <td>4.0</td>\n",
       "      <td>3.0</td>\n",
       "      <td>155.1546</td>\n",
       "      <td>-2.70</td>\n",
       "      <td>1</td>\n",
       "      <td>N[C@@H](CC1=CNC=N1)C(O)=O</td>\n",
       "      <td>None</td>\n",
       "    </tr>\n",
       "  </tbody>\n",
       "</table>\n",
       "</div>"
      ],
      "text/plain": [
       "         CID  HBondAcceptorCount  HBondDonorCount  MolecularWeight  LogP   \n",
       "0   11979316                16.0             14.0        2140.4600 -1.40  \\\n",
       "1  135444742                12.0              8.0         445.4292 -0.96   \n",
       "2       6274                 4.0              3.0         155.1546 -2.70   \n",
       "\n",
       "   RuleFive                                     IsomericSMILES ATC_code  \n",
       "0         0  NCCCCC(NC(=O)C1CCCN1C(=O)C1CSSCC(N)C(=O)NC(CC2...     None  \n",
       "1         0  NC1=NC(=O)C2=C(NCC(CNC3=CC=C(C=C3)C(=O)N[C@@H]...     None  \n",
       "2         1                          N[C@@H](CC1=CNC=N1)C(O)=O     None  "
      ]
     },
     "metadata": {},
     "output_type": "display_data"
    }
   ],
   "source": [
    "display(drugs_dataset_atc.info(), drugs_dataset_atc.head(3))\n",
    "display(drugs_dataset_no_atc.info(), drugs_dataset_no_atc.head(3))"
   ]
  },
  {
   "attachments": {},
   "cell_type": "markdown",
   "metadata": {},
   "source": [
    "Saving the datasets"
   ]
  },
  {
   "cell_type": "code",
   "execution_count": 174,
   "metadata": {},
   "outputs": [],
   "source": [
    "drugs_dataset_no_atc.to_csv('drugbank_dataset_no_atc.csv', index=False)\n",
    "drugs_dataset_atc.to_csv('drugbank_dataset_atc.csv', index=False)"
   ]
  }
 ],
 "metadata": {
  "kernelspec": {
   "display_name": "kedro-environment",
   "language": "python",
   "name": "python3"
  },
  "language_info": {
   "codemirror_mode": {
    "name": "ipython",
    "version": 3
   },
   "file_extension": ".py",
   "mimetype": "text/x-python",
   "name": "python",
   "nbconvert_exporter": "python",
   "pygments_lexer": "ipython3",
   "version": "3.11.3"
  },
  "orig_nbformat": 4
 },
 "nbformat": 4,
 "nbformat_minor": 2
}
