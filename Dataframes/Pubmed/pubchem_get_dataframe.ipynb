{
 "cells": [
  {
   "cell_type": "code",
   "execution_count": 42,
   "metadata": {},
   "outputs": [],
   "source": [
    "import os\n",
    "import json\n",
    "import pandas as pd\n",
    "import pubchempy as pcp"
   ]
  },
  {
   "cell_type": "code",
   "execution_count": 22,
   "metadata": {},
   "outputs": [],
   "source": [
    "drugs = pd.read_csv('pubchem_atc.csv')"
   ]
  },
  {
   "cell_type": "code",
   "execution_count": 23,
   "metadata": {},
   "outputs": [],
   "source": [
    "new_drugs = pd.read_csv('pubchem_2kon_atc.csv')"
   ]
  },
  {
   "cell_type": "code",
   "execution_count": 24,
   "metadata": {},
   "outputs": [],
   "source": [
    "drugs = pd.concat([drugs, new_drugs])"
   ]
  },
  {
   "cell_type": "code",
   "execution_count": 28,
   "metadata": {},
   "outputs": [],
   "source": [
    "drugs = drugs.drop_duplicates()"
   ]
  },
  {
   "cell_type": "code",
   "execution_count": 29,
   "metadata": {},
   "outputs": [
    {
     "data": {
      "text/html": [
       "<div>\n",
       "<style scoped>\n",
       "    .dataframe tbody tr th:only-of-type {\n",
       "        vertical-align: middle;\n",
       "    }\n",
       "\n",
       "    .dataframe tbody tr th {\n",
       "        vertical-align: top;\n",
       "    }\n",
       "\n",
       "    .dataframe thead th {\n",
       "        text-align: right;\n",
       "    }\n",
       "</style>\n",
       "<table border=\"1\" class=\"dataframe\">\n",
       "  <thead>\n",
       "    <tr style=\"text-align: right;\">\n",
       "      <th></th>\n",
       "      <th>cid</th>\n",
       "      <th>name</th>\n",
       "      <th>atc_code</th>\n",
       "    </tr>\n",
       "  </thead>\n",
       "  <tbody>\n",
       "    <tr>\n",
       "      <th>0</th>\n",
       "      <td>1</td>\n",
       "      <td>Acetylcarnitine</td>\n",
       "      <td>N06BX12</td>\n",
       "    </tr>\n",
       "    <tr>\n",
       "      <th>1</th>\n",
       "      <td>137</td>\n",
       "      <td>Aminolevulinic acid</td>\n",
       "      <td>L01XD04</td>\n",
       "    </tr>\n",
       "    <tr>\n",
       "      <th>2</th>\n",
       "      <td>176</td>\n",
       "      <td>Acetic Acid</td>\n",
       "      <td>G01AD02</td>\n",
       "    </tr>\n",
       "    <tr>\n",
       "      <th>3</th>\n",
       "      <td>187</td>\n",
       "      <td>Acetylcholine</td>\n",
       "      <td>S01EB09</td>\n",
       "    </tr>\n",
       "    <tr>\n",
       "      <th>4</th>\n",
       "      <td>237</td>\n",
       "      <td>Quinacrine</td>\n",
       "      <td>P01AX05</td>\n",
       "    </tr>\n",
       "    <tr>\n",
       "      <th>...</th>\n",
       "      <td>...</td>\n",
       "      <td>...</td>\n",
       "      <td>...</td>\n",
       "    </tr>\n",
       "    <tr>\n",
       "      <th>1904</th>\n",
       "      <td>119607</td>\n",
       "      <td>Valdecoxib</td>\n",
       "      <td>M01AH03</td>\n",
       "    </tr>\n",
       "    <tr>\n",
       "      <th>1905</th>\n",
       "      <td>119828</td>\n",
       "      <td>Parecoxib</td>\n",
       "      <td>M01AH04</td>\n",
       "    </tr>\n",
       "    <tr>\n",
       "      <th>1906</th>\n",
       "      <td>120183</td>\n",
       "      <td>Morpholine salicylate</td>\n",
       "      <td>N02BA08</td>\n",
       "    </tr>\n",
       "    <tr>\n",
       "      <th>1907</th>\n",
       "      <td>120226</td>\n",
       "      <td>1H-Perfluorodecane</td>\n",
       "      <td>C10HF21</td>\n",
       "    </tr>\n",
       "    <tr>\n",
       "      <th>1908</th>\n",
       "      <td>120508</td>\n",
       "      <td>Prenoxdiazine</td>\n",
       "      <td>R05DB18</td>\n",
       "    </tr>\n",
       "  </tbody>\n",
       "</table>\n",
       "<p>1981 rows × 3 columns</p>\n",
       "</div>"
      ],
      "text/plain": [
       "         cid                   name atc_code\n",
       "0          1        Acetylcarnitine  N06BX12\n",
       "1        137    Aminolevulinic acid  L01XD04\n",
       "2        176            Acetic Acid  G01AD02\n",
       "3        187          Acetylcholine  S01EB09\n",
       "4        237             Quinacrine  P01AX05\n",
       "...      ...                    ...      ...\n",
       "1904  119607             Valdecoxib  M01AH03\n",
       "1905  119828              Parecoxib  M01AH04\n",
       "1906  120183  Morpholine salicylate  N02BA08\n",
       "1907  120226     1H-Perfluorodecane  C10HF21\n",
       "1908  120508          Prenoxdiazine  R05DB18\n",
       "\n",
       "[1981 rows x 3 columns]"
      ]
     },
     "execution_count": 29,
     "metadata": {},
     "output_type": "execute_result"
    }
   ],
   "source": [
    "drugs"
   ]
  },
  {
   "cell_type": "code",
   "execution_count": 30,
   "metadata": {},
   "outputs": [
    {
     "name": "stderr",
     "output_type": "stream",
     "text": [
      "C:\\Users\\josin\\AppData\\Local\\Temp\\ipykernel_19672\\1421149798.py:1: SettingWithCopyWarning: \n",
      "A value is trying to be set on a copy of a slice from a DataFrame.\n",
      "Try using .loc[row_indexer,col_indexer] = value instead\n",
      "\n",
      "See the caveats in the documentation: https://pandas.pydata.org/pandas-docs/stable/user_guide/indexing.html#returning-a-view-versus-a-copy\n",
      "  drugs['compound'] = drugs['cid'].map(pcp.Compound.from_cid)\n"
     ]
    }
   ],
   "source": [
    "drugs['compound'] = drugs['cid'].map(pcp.Compound.from_cid)"
   ]
  },
  {
   "cell_type": "code",
   "execution_count": 56,
   "metadata": {},
   "outputs": [
    {
     "data": {
      "text/html": [
       "<div>\n",
       "<style scoped>\n",
       "    .dataframe tbody tr th:only-of-type {\n",
       "        vertical-align: middle;\n",
       "    }\n",
       "\n",
       "    .dataframe tbody tr th {\n",
       "        vertical-align: top;\n",
       "    }\n",
       "\n",
       "    .dataframe thead th {\n",
       "        text-align: right;\n",
       "    }\n",
       "</style>\n",
       "<table border=\"1\" class=\"dataframe\">\n",
       "  <thead>\n",
       "    <tr style=\"text-align: right;\">\n",
       "      <th></th>\n",
       "      <th>cid</th>\n",
       "      <th>name</th>\n",
       "      <th>atc_code</th>\n",
       "      <th>compound</th>\n",
       "      <th>HBondAcceptorCount</th>\n",
       "      <th>HBondDonorCount</th>\n",
       "      <th>MolecularWeight</th>\n",
       "      <th>LogP</th>\n",
       "      <th>IsomericSMILES</th>\n",
       "    </tr>\n",
       "  </thead>\n",
       "  <tbody>\n",
       "    <tr>\n",
       "      <th>0</th>\n",
       "      <td>1</td>\n",
       "      <td>Acetylcarnitine</td>\n",
       "      <td>N06BX12</td>\n",
       "      <td>Compound(1)</td>\n",
       "      <td>4</td>\n",
       "      <td>0</td>\n",
       "      <td>203.24</td>\n",
       "      <td>0.4</td>\n",
       "      <td>CC(=O)OC(CC(=O)[O-])C[N+](C)(C)C</td>\n",
       "    </tr>\n",
       "    <tr>\n",
       "      <th>1</th>\n",
       "      <td>137</td>\n",
       "      <td>Aminolevulinic acid</td>\n",
       "      <td>L01XD04</td>\n",
       "      <td>Compound(137)</td>\n",
       "      <td>4</td>\n",
       "      <td>2</td>\n",
       "      <td>131.13</td>\n",
       "      <td>-3.8</td>\n",
       "      <td>C(CC(=O)O)C(=O)CN</td>\n",
       "    </tr>\n",
       "    <tr>\n",
       "      <th>2</th>\n",
       "      <td>176</td>\n",
       "      <td>Acetic Acid</td>\n",
       "      <td>G01AD02</td>\n",
       "      <td>Compound(176)</td>\n",
       "      <td>2</td>\n",
       "      <td>1</td>\n",
       "      <td>60.05</td>\n",
       "      <td>-0.2</td>\n",
       "      <td>CC(=O)O</td>\n",
       "    </tr>\n",
       "    <tr>\n",
       "      <th>3</th>\n",
       "      <td>187</td>\n",
       "      <td>Acetylcholine</td>\n",
       "      <td>S01EB09</td>\n",
       "      <td>Compound(187)</td>\n",
       "      <td>2</td>\n",
       "      <td>0</td>\n",
       "      <td>146.21</td>\n",
       "      <td>0.2</td>\n",
       "      <td>CC(=O)OCC[N+](C)(C)C</td>\n",
       "    </tr>\n",
       "    <tr>\n",
       "      <th>4</th>\n",
       "      <td>237</td>\n",
       "      <td>Quinacrine</td>\n",
       "      <td>P01AX05</td>\n",
       "      <td>Compound(237)</td>\n",
       "      <td>4</td>\n",
       "      <td>1</td>\n",
       "      <td>400.0</td>\n",
       "      <td>6.0</td>\n",
       "      <td>CCN(CC)CCCC(C)NC1=C2C=C(C=CC2=NC3=C1C=CC(=C3)C...</td>\n",
       "    </tr>\n",
       "    <tr>\n",
       "      <th>...</th>\n",
       "      <td>...</td>\n",
       "      <td>...</td>\n",
       "      <td>...</td>\n",
       "      <td>...</td>\n",
       "      <td>...</td>\n",
       "      <td>...</td>\n",
       "      <td>...</td>\n",
       "      <td>...</td>\n",
       "      <td>...</td>\n",
       "    </tr>\n",
       "    <tr>\n",
       "      <th>1904</th>\n",
       "      <td>119607</td>\n",
       "      <td>Valdecoxib</td>\n",
       "      <td>M01AH03</td>\n",
       "      <td>Compound(119607)</td>\n",
       "      <td>5</td>\n",
       "      <td>1</td>\n",
       "      <td>314.4</td>\n",
       "      <td>2.6</td>\n",
       "      <td>CC1=C(C(=NO1)C2=CC=CC=C2)C3=CC=C(C=C3)S(=O)(=O)N</td>\n",
       "    </tr>\n",
       "    <tr>\n",
       "      <th>1905</th>\n",
       "      <td>119828</td>\n",
       "      <td>Parecoxib</td>\n",
       "      <td>M01AH04</td>\n",
       "      <td>Compound(119828)</td>\n",
       "      <td>5</td>\n",
       "      <td>1</td>\n",
       "      <td>370.4</td>\n",
       "      <td>3.3</td>\n",
       "      <td>CCC(=O)NS(=O)(=O)C1=CC=C(C=C1)C2=C(ON=C2C3=CC=...</td>\n",
       "    </tr>\n",
       "    <tr>\n",
       "      <th>1906</th>\n",
       "      <td>120183</td>\n",
       "      <td>Morpholine salicylate</td>\n",
       "      <td>N02BA08</td>\n",
       "      <td>Compound(120183)</td>\n",
       "      <td>5</td>\n",
       "      <td>3</td>\n",
       "      <td>225.24</td>\n",
       "      <td>NaN</td>\n",
       "      <td>C1COCCN1.C1=CC=C(C(=C1)C(=O)O)O</td>\n",
       "    </tr>\n",
       "    <tr>\n",
       "      <th>1907</th>\n",
       "      <td>120226</td>\n",
       "      <td>1H-Perfluorodecane</td>\n",
       "      <td>C10HF21</td>\n",
       "      <td>Compound(120226)</td>\n",
       "      <td>21</td>\n",
       "      <td>0</td>\n",
       "      <td>520.08</td>\n",
       "      <td>7.6</td>\n",
       "      <td>C(C(C(C(C(C(C(C(C(C(F)(F)F)(F)F)(F)F)(F)F)(F)F...</td>\n",
       "    </tr>\n",
       "    <tr>\n",
       "      <th>1908</th>\n",
       "      <td>120508</td>\n",
       "      <td>Prenoxdiazine</td>\n",
       "      <td>R05DB18</td>\n",
       "      <td>Compound(120508)</td>\n",
       "      <td>4</td>\n",
       "      <td>0</td>\n",
       "      <td>361.5</td>\n",
       "      <td>5.0</td>\n",
       "      <td>C1CCN(CC1)CCC2=NC(=NO2)CC(C3=CC=CC=C3)C4=CC=CC=C4</td>\n",
       "    </tr>\n",
       "  </tbody>\n",
       "</table>\n",
       "<p>1981 rows × 9 columns</p>\n",
       "</div>"
      ],
      "text/plain": [
       "         cid                   name atc_code          compound   \n",
       "0          1        Acetylcarnitine  N06BX12       Compound(1)  \\\n",
       "1        137    Aminolevulinic acid  L01XD04     Compound(137)   \n",
       "2        176            Acetic Acid  G01AD02     Compound(176)   \n",
       "3        187          Acetylcholine  S01EB09     Compound(187)   \n",
       "4        237             Quinacrine  P01AX05     Compound(237)   \n",
       "...      ...                    ...      ...               ...   \n",
       "1904  119607             Valdecoxib  M01AH03  Compound(119607)   \n",
       "1905  119828              Parecoxib  M01AH04  Compound(119828)   \n",
       "1906  120183  Morpholine salicylate  N02BA08  Compound(120183)   \n",
       "1907  120226     1H-Perfluorodecane  C10HF21  Compound(120226)   \n",
       "1908  120508          Prenoxdiazine  R05DB18  Compound(120508)   \n",
       "\n",
       "      HBondAcceptorCount  HBondDonorCount MolecularWeight  LogP   \n",
       "0                      4                0          203.24   0.4  \\\n",
       "1                      4                2          131.13  -3.8   \n",
       "2                      2                1           60.05  -0.2   \n",
       "3                      2                0          146.21   0.2   \n",
       "4                      4                1           400.0   6.0   \n",
       "...                  ...              ...             ...   ...   \n",
       "1904                   5                1           314.4   2.6   \n",
       "1905                   5                1           370.4   3.3   \n",
       "1906                   5                3          225.24   NaN   \n",
       "1907                  21                0          520.08   7.6   \n",
       "1908                   4                0           361.5   5.0   \n",
       "\n",
       "                                         IsomericSMILES  \n",
       "0                      CC(=O)OC(CC(=O)[O-])C[N+](C)(C)C  \n",
       "1                                     C(CC(=O)O)C(=O)CN  \n",
       "2                                               CC(=O)O  \n",
       "3                                  CC(=O)OCC[N+](C)(C)C  \n",
       "4     CCN(CC)CCCC(C)NC1=C2C=C(C=CC2=NC3=C1C=CC(=C3)C...  \n",
       "...                                                 ...  \n",
       "1904   CC1=C(C(=NO1)C2=CC=CC=C2)C3=CC=C(C=C3)S(=O)(=O)N  \n",
       "1905  CCC(=O)NS(=O)(=O)C1=CC=C(C=C1)C2=C(ON=C2C3=CC=...  \n",
       "1906                    C1COCCN1.C1=CC=C(C(=C1)C(=O)O)O  \n",
       "1907  C(C(C(C(C(C(C(C(C(C(F)(F)F)(F)F)(F)F)(F)F)(F)F...  \n",
       "1908  C1CCN(CC1)CCC2=NC(=NO2)CC(C3=CC=CC=C3)C4=CC=CC=C4  \n",
       "\n",
       "[1981 rows x 9 columns]"
      ]
     },
     "execution_count": 56,
     "metadata": {},
     "output_type": "execute_result"
    }
   ],
   "source": [
    "drugs"
   ]
  },
  {
   "cell_type": "code",
   "execution_count": 55,
   "metadata": {},
   "outputs": [
    {
     "name": "stderr",
     "output_type": "stream",
     "text": [
      "C:\\Users\\josin\\AppData\\Local\\Temp\\ipykernel_19672\\3172148816.py:1: SettingWithCopyWarning: \n",
      "A value is trying to be set on a copy of a slice from a DataFrame.\n",
      "Try using .loc[row_indexer,col_indexer] = value instead\n",
      "\n",
      "See the caveats in the documentation: https://pandas.pydata.org/pandas-docs/stable/user_guide/indexing.html#returning-a-view-versus-a-copy\n",
      "  drugs['HBondAcceptorCount'] = drugs['compound'].apply(lambda x: x.h_bond_acceptor_count)\n",
      "C:\\Users\\josin\\AppData\\Local\\Temp\\ipykernel_19672\\3172148816.py:2: SettingWithCopyWarning: \n",
      "A value is trying to be set on a copy of a slice from a DataFrame.\n",
      "Try using .loc[row_indexer,col_indexer] = value instead\n",
      "\n",
      "See the caveats in the documentation: https://pandas.pydata.org/pandas-docs/stable/user_guide/indexing.html#returning-a-view-versus-a-copy\n",
      "  drugs['HBondDonorCount'] = drugs['compound'].apply(lambda x: x.h_bond_donor_count)\n",
      "C:\\Users\\josin\\AppData\\Local\\Temp\\ipykernel_19672\\3172148816.py:3: SettingWithCopyWarning: \n",
      "A value is trying to be set on a copy of a slice from a DataFrame.\n",
      "Try using .loc[row_indexer,col_indexer] = value instead\n",
      "\n",
      "See the caveats in the documentation: https://pandas.pydata.org/pandas-docs/stable/user_guide/indexing.html#returning-a-view-versus-a-copy\n",
      "  drugs['MolecularWeight'] = drugs['compound'].apply(lambda x: x.molecular_weight)\n",
      "C:\\Users\\josin\\AppData\\Local\\Temp\\ipykernel_19672\\3172148816.py:4: SettingWithCopyWarning: \n",
      "A value is trying to be set on a copy of a slice from a DataFrame.\n",
      "Try using .loc[row_indexer,col_indexer] = value instead\n",
      "\n",
      "See the caveats in the documentation: https://pandas.pydata.org/pandas-docs/stable/user_guide/indexing.html#returning-a-view-versus-a-copy\n",
      "  drugs['LogP'] = drugs['compound'].apply(lambda x: x.xlogp)\n",
      "C:\\Users\\josin\\AppData\\Local\\Temp\\ipykernel_19672\\3172148816.py:5: SettingWithCopyWarning: \n",
      "A value is trying to be set on a copy of a slice from a DataFrame.\n",
      "Try using .loc[row_indexer,col_indexer] = value instead\n",
      "\n",
      "See the caveats in the documentation: https://pandas.pydata.org/pandas-docs/stable/user_guide/indexing.html#returning-a-view-versus-a-copy\n",
      "  drugs['IsomericSMILES'] = drugs['compound'].apply(lambda x: x.isomeric_smiles)\n"
     ]
    }
   ],
   "source": [
    "drugs['HBondAcceptorCount'] = drugs['compound'].apply(lambda x: x.h_bond_acceptor_count)\n",
    "drugs['HBondDonorCount'] = drugs['compound'].apply(lambda x: x.h_bond_donor_count)\n",
    "drugs['MolecularWeight'] = drugs['compound'].apply(lambda x: x.molecular_weight)\n",
    "drugs['LogP'] = drugs['compound'].apply(lambda x: x.xlogp)\n",
    "drugs['IsomericSMILES'] = drugs['compound'].apply(lambda x: x.isomeric_smiles)"
   ]
  },
  {
   "cell_type": "code",
   "execution_count": 70,
   "metadata": {},
   "outputs": [],
   "source": [
    "with open(os.path.join('..', 'dataframes_resources', 'dataframes_props.json')) as props:\n",
    "    column_order_dict = json.load(props)"
   ]
  },
  {
   "cell_type": "code",
   "execution_count": 34,
   "metadata": {},
   "outputs": [],
   "source": [
    "one_compound = drugs.loc[0]['compound']"
   ]
  },
  {
   "cell_type": "code",
   "execution_count": 46,
   "metadata": {},
   "outputs": [
    {
     "data": {
      "text/plain": [
       "4"
      ]
     },
     "execution_count": 46,
     "metadata": {},
     "output_type": "execute_result"
    }
   ],
   "source": [
    "one_compound.h_bond_acceptor_count"
   ]
  },
  {
   "cell_type": "code",
   "execution_count": 47,
   "metadata": {},
   "outputs": [
    {
     "data": {
      "text/plain": [
       "0"
      ]
     },
     "execution_count": 47,
     "metadata": {},
     "output_type": "execute_result"
    }
   ],
   "source": [
    "one_compound.h_bond_donor_count"
   ]
  },
  {
   "cell_type": "code",
   "execution_count": 39,
   "metadata": {},
   "outputs": [
    {
     "data": {
      "text/plain": [
       "'203.24'"
      ]
     },
     "execution_count": 39,
     "metadata": {},
     "output_type": "execute_result"
    }
   ],
   "source": [
    "one_compound.molecular_weight"
   ]
  },
  {
   "cell_type": "code",
   "execution_count": 51,
   "metadata": {},
   "outputs": [
    {
     "data": {
      "text/plain": [
       "0.4"
      ]
     },
     "execution_count": 51,
     "metadata": {},
     "output_type": "execute_result"
    }
   ],
   "source": [
    "one_compound.xlogp"
   ]
  },
  {
   "cell_type": "code",
   "execution_count": 52,
   "metadata": {},
   "outputs": [
    {
     "data": {
      "text/plain": [
       "'CC(=O)OC(CC(=O)[O-])C[N+](C)(C)C'"
      ]
     },
     "execution_count": 52,
     "metadata": {},
     "output_type": "execute_result"
    }
   ],
   "source": [
    "one_compound.isomeric_smiles"
   ]
  },
  {
   "cell_type": "code",
   "execution_count": 71,
   "metadata": {},
   "outputs": [],
   "source": [
    "column_order = column_order_dict['column_order_pubchem']"
   ]
  },
  {
   "cell_type": "code",
   "execution_count": 57,
   "metadata": {},
   "outputs": [],
   "source": [
    "drugs.to_pickle('pubchem_atc_w_comps.pkl')"
   ]
  },
  {
   "cell_type": "code",
   "execution_count": 65,
   "metadata": {},
   "outputs": [],
   "source": [
    "drugs = drugs.drop(['name'], axis=1)"
   ]
  },
  {
   "cell_type": "code",
   "execution_count": 83,
   "metadata": {},
   "outputs": [
    {
     "data": {
      "text/html": [
       "<div>\n",
       "<style scoped>\n",
       "    .dataframe tbody tr th:only-of-type {\n",
       "        vertical-align: middle;\n",
       "    }\n",
       "\n",
       "    .dataframe tbody tr th {\n",
       "        vertical-align: top;\n",
       "    }\n",
       "\n",
       "    .dataframe thead th {\n",
       "        text-align: right;\n",
       "    }\n",
       "</style>\n",
       "<table border=\"1\" class=\"dataframe\">\n",
       "  <thead>\n",
       "    <tr style=\"text-align: right;\">\n",
       "      <th></th>\n",
       "      <th>cid</th>\n",
       "      <th>atc_code</th>\n",
       "      <th>HBondAcceptorCount</th>\n",
       "      <th>HBondDonorCount</th>\n",
       "      <th>MolecularWeight</th>\n",
       "      <th>LogP</th>\n",
       "      <th>IsomericSMILES</th>\n",
       "    </tr>\n",
       "  </thead>\n",
       "  <tbody>\n",
       "    <tr>\n",
       "      <th>0</th>\n",
       "      <td>1</td>\n",
       "      <td>N06BX12</td>\n",
       "      <td>4</td>\n",
       "      <td>0</td>\n",
       "      <td>203.24</td>\n",
       "      <td>0.4</td>\n",
       "      <td>CC(=O)OC(CC(=O)[O-])C[N+](C)(C)C</td>\n",
       "    </tr>\n",
       "    <tr>\n",
       "      <th>1</th>\n",
       "      <td>137</td>\n",
       "      <td>L01XD04</td>\n",
       "      <td>4</td>\n",
       "      <td>2</td>\n",
       "      <td>131.13</td>\n",
       "      <td>-3.8</td>\n",
       "      <td>C(CC(=O)O)C(=O)CN</td>\n",
       "    </tr>\n",
       "    <tr>\n",
       "      <th>2</th>\n",
       "      <td>176</td>\n",
       "      <td>G01AD02</td>\n",
       "      <td>2</td>\n",
       "      <td>1</td>\n",
       "      <td>60.05</td>\n",
       "      <td>-0.2</td>\n",
       "      <td>CC(=O)O</td>\n",
       "    </tr>\n",
       "    <tr>\n",
       "      <th>3</th>\n",
       "      <td>187</td>\n",
       "      <td>S01EB09</td>\n",
       "      <td>2</td>\n",
       "      <td>0</td>\n",
       "      <td>146.21</td>\n",
       "      <td>0.2</td>\n",
       "      <td>CC(=O)OCC[N+](C)(C)C</td>\n",
       "    </tr>\n",
       "    <tr>\n",
       "      <th>4</th>\n",
       "      <td>237</td>\n",
       "      <td>P01AX05</td>\n",
       "      <td>4</td>\n",
       "      <td>1</td>\n",
       "      <td>400.0</td>\n",
       "      <td>6.0</td>\n",
       "      <td>CCN(CC)CCCC(C)NC1=C2C=C(C=CC2=NC3=C1C=CC(=C3)C...</td>\n",
       "    </tr>\n",
       "  </tbody>\n",
       "</table>\n",
       "</div>"
      ],
      "text/plain": [
       "   cid atc_code  HBondAcceptorCount  HBondDonorCount MolecularWeight  LogP   \n",
       "0    1  N06BX12                   4                0          203.24   0.4  \\\n",
       "1  137  L01XD04                   4                2          131.13  -3.8   \n",
       "2  176  G01AD02                   2                1           60.05  -0.2   \n",
       "3  187  S01EB09                   2                0          146.21   0.2   \n",
       "4  237  P01AX05                   4                1           400.0   6.0   \n",
       "\n",
       "                                      IsomericSMILES  \n",
       "0                   CC(=O)OC(CC(=O)[O-])C[N+](C)(C)C  \n",
       "1                                  C(CC(=O)O)C(=O)CN  \n",
       "2                                            CC(=O)O  \n",
       "3                               CC(=O)OCC[N+](C)(C)C  \n",
       "4  CCN(CC)CCCC(C)NC1=C2C=C(C=CC2=NC3=C1C=CC(=C3)C...  "
      ]
     },
     "execution_count": 83,
     "metadata": {},
     "output_type": "execute_result"
    }
   ],
   "source": [
    "drugs.head()"
   ]
  },
  {
   "cell_type": "code",
   "execution_count": 79,
   "metadata": {},
   "outputs": [
    {
     "data": {
      "text/plain": [
       "['CID',\n",
       " 'HBondAcceptorCount',\n",
       " 'HBondDonorCount',\n",
       " 'MolecularWeight',\n",
       " 'LogP',\n",
       " 'IsomericSMILES',\n",
       " 'ATC_Code']"
      ]
     },
     "execution_count": 79,
     "metadata": {},
     "output_type": "execute_result"
    }
   ],
   "source": [
    "column_order"
   ]
  },
  {
   "cell_type": "code",
   "execution_count": 85,
   "metadata": {},
   "outputs": [],
   "source": [
    "drugs = drugs.rename(columns = {'atc_code': 'ATC_Code', 'cid': 'CID'})[column_order]"
   ]
  },
  {
   "cell_type": "code",
   "execution_count": 86,
   "metadata": {},
   "outputs": [
    {
     "data": {
      "text/html": [
       "<div>\n",
       "<style scoped>\n",
       "    .dataframe tbody tr th:only-of-type {\n",
       "        vertical-align: middle;\n",
       "    }\n",
       "\n",
       "    .dataframe tbody tr th {\n",
       "        vertical-align: top;\n",
       "    }\n",
       "\n",
       "    .dataframe thead th {\n",
       "        text-align: right;\n",
       "    }\n",
       "</style>\n",
       "<table border=\"1\" class=\"dataframe\">\n",
       "  <thead>\n",
       "    <tr style=\"text-align: right;\">\n",
       "      <th></th>\n",
       "      <th>CID</th>\n",
       "      <th>HBondAcceptorCount</th>\n",
       "      <th>HBondDonorCount</th>\n",
       "      <th>MolecularWeight</th>\n",
       "      <th>LogP</th>\n",
       "      <th>IsomericSMILES</th>\n",
       "      <th>ATC_Code</th>\n",
       "    </tr>\n",
       "  </thead>\n",
       "  <tbody>\n",
       "    <tr>\n",
       "      <th>0</th>\n",
       "      <td>1</td>\n",
       "      <td>4</td>\n",
       "      <td>0</td>\n",
       "      <td>203.24</td>\n",
       "      <td>0.4</td>\n",
       "      <td>CC(=O)OC(CC(=O)[O-])C[N+](C)(C)C</td>\n",
       "      <td>N06BX12</td>\n",
       "    </tr>\n",
       "    <tr>\n",
       "      <th>1</th>\n",
       "      <td>137</td>\n",
       "      <td>4</td>\n",
       "      <td>2</td>\n",
       "      <td>131.13</td>\n",
       "      <td>-3.8</td>\n",
       "      <td>C(CC(=O)O)C(=O)CN</td>\n",
       "      <td>L01XD04</td>\n",
       "    </tr>\n",
       "    <tr>\n",
       "      <th>2</th>\n",
       "      <td>176</td>\n",
       "      <td>2</td>\n",
       "      <td>1</td>\n",
       "      <td>60.05</td>\n",
       "      <td>-0.2</td>\n",
       "      <td>CC(=O)O</td>\n",
       "      <td>G01AD02</td>\n",
       "    </tr>\n",
       "    <tr>\n",
       "      <th>3</th>\n",
       "      <td>187</td>\n",
       "      <td>2</td>\n",
       "      <td>0</td>\n",
       "      <td>146.21</td>\n",
       "      <td>0.2</td>\n",
       "      <td>CC(=O)OCC[N+](C)(C)C</td>\n",
       "      <td>S01EB09</td>\n",
       "    </tr>\n",
       "    <tr>\n",
       "      <th>4</th>\n",
       "      <td>237</td>\n",
       "      <td>4</td>\n",
       "      <td>1</td>\n",
       "      <td>400.0</td>\n",
       "      <td>6.0</td>\n",
       "      <td>CCN(CC)CCCC(C)NC1=C2C=C(C=CC2=NC3=C1C=CC(=C3)C...</td>\n",
       "      <td>P01AX05</td>\n",
       "    </tr>\n",
       "    <tr>\n",
       "      <th>...</th>\n",
       "      <td>...</td>\n",
       "      <td>...</td>\n",
       "      <td>...</td>\n",
       "      <td>...</td>\n",
       "      <td>...</td>\n",
       "      <td>...</td>\n",
       "      <td>...</td>\n",
       "    </tr>\n",
       "    <tr>\n",
       "      <th>1904</th>\n",
       "      <td>119607</td>\n",
       "      <td>5</td>\n",
       "      <td>1</td>\n",
       "      <td>314.4</td>\n",
       "      <td>2.6</td>\n",
       "      <td>CC1=C(C(=NO1)C2=CC=CC=C2)C3=CC=C(C=C3)S(=O)(=O)N</td>\n",
       "      <td>M01AH03</td>\n",
       "    </tr>\n",
       "    <tr>\n",
       "      <th>1905</th>\n",
       "      <td>119828</td>\n",
       "      <td>5</td>\n",
       "      <td>1</td>\n",
       "      <td>370.4</td>\n",
       "      <td>3.3</td>\n",
       "      <td>CCC(=O)NS(=O)(=O)C1=CC=C(C=C1)C2=C(ON=C2C3=CC=...</td>\n",
       "      <td>M01AH04</td>\n",
       "    </tr>\n",
       "    <tr>\n",
       "      <th>1906</th>\n",
       "      <td>120183</td>\n",
       "      <td>5</td>\n",
       "      <td>3</td>\n",
       "      <td>225.24</td>\n",
       "      <td>NaN</td>\n",
       "      <td>C1COCCN1.C1=CC=C(C(=C1)C(=O)O)O</td>\n",
       "      <td>N02BA08</td>\n",
       "    </tr>\n",
       "    <tr>\n",
       "      <th>1907</th>\n",
       "      <td>120226</td>\n",
       "      <td>21</td>\n",
       "      <td>0</td>\n",
       "      <td>520.08</td>\n",
       "      <td>7.6</td>\n",
       "      <td>C(C(C(C(C(C(C(C(C(C(F)(F)F)(F)F)(F)F)(F)F)(F)F...</td>\n",
       "      <td>C10HF21</td>\n",
       "    </tr>\n",
       "    <tr>\n",
       "      <th>1908</th>\n",
       "      <td>120508</td>\n",
       "      <td>4</td>\n",
       "      <td>0</td>\n",
       "      <td>361.5</td>\n",
       "      <td>5.0</td>\n",
       "      <td>C1CCN(CC1)CCC2=NC(=NO2)CC(C3=CC=CC=C3)C4=CC=CC=C4</td>\n",
       "      <td>R05DB18</td>\n",
       "    </tr>\n",
       "  </tbody>\n",
       "</table>\n",
       "<p>1981 rows × 7 columns</p>\n",
       "</div>"
      ],
      "text/plain": [
       "         CID  HBondAcceptorCount  HBondDonorCount MolecularWeight  LogP   \n",
       "0          1                   4                0          203.24   0.4  \\\n",
       "1        137                   4                2          131.13  -3.8   \n",
       "2        176                   2                1           60.05  -0.2   \n",
       "3        187                   2                0          146.21   0.2   \n",
       "4        237                   4                1           400.0   6.0   \n",
       "...      ...                 ...              ...             ...   ...   \n",
       "1904  119607                   5                1           314.4   2.6   \n",
       "1905  119828                   5                1           370.4   3.3   \n",
       "1906  120183                   5                3          225.24   NaN   \n",
       "1907  120226                  21                0          520.08   7.6   \n",
       "1908  120508                   4                0           361.5   5.0   \n",
       "\n",
       "                                         IsomericSMILES ATC_Code  \n",
       "0                      CC(=O)OC(CC(=O)[O-])C[N+](C)(C)C  N06BX12  \n",
       "1                                     C(CC(=O)O)C(=O)CN  L01XD04  \n",
       "2                                               CC(=O)O  G01AD02  \n",
       "3                                  CC(=O)OCC[N+](C)(C)C  S01EB09  \n",
       "4     CCN(CC)CCCC(C)NC1=C2C=C(C=CC2=NC3=C1C=CC(=C3)C...  P01AX05  \n",
       "...                                                 ...      ...  \n",
       "1904   CC1=C(C(=NO1)C2=CC=CC=C2)C3=CC=C(C=C3)S(=O)(=O)N  M01AH03  \n",
       "1905  CCC(=O)NS(=O)(=O)C1=CC=C(C=C1)C2=C(ON=C2C3=CC=...  M01AH04  \n",
       "1906                    C1COCCN1.C1=CC=C(C(=C1)C(=O)O)O  N02BA08  \n",
       "1907  C(C(C(C(C(C(C(C(C(C(F)(F)F)(F)F)(F)F)(F)F)(F)F...  C10HF21  \n",
       "1908  C1CCN(CC1)CCC2=NC(=NO2)CC(C3=CC=CC=C3)C4=CC=CC=C4  R05DB18  \n",
       "\n",
       "[1981 rows x 7 columns]"
      ]
     },
     "execution_count": 86,
     "metadata": {},
     "output_type": "execute_result"
    }
   ],
   "source": [
    "drugs"
   ]
  },
  {
   "cell_type": "code",
   "execution_count": null,
   "metadata": {},
   "outputs": [],
   "source": []
  }
 ],
 "metadata": {
  "kernelspec": {
   "display_name": "TFMenv",
   "language": "python",
   "name": "python3"
  },
  "language_info": {
   "codemirror_mode": {
    "name": "ipython",
    "version": 3
   },
   "file_extension": ".py",
   "mimetype": "text/x-python",
   "name": "python",
   "nbconvert_exporter": "python",
   "pygments_lexer": "ipython3",
   "version": "3.11.3"
  },
  "orig_nbformat": 4
 },
 "nbformat": 4,
 "nbformat_minor": 2
}
