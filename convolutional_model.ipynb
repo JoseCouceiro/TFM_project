{
 "cells": [
  {
   "cell_type": "code",
   "execution_count": 2,
   "metadata": {},
   "outputs": [],
   "source": [
    "from rdkit import Chem\n",
    "from rdkit.Chem import AllChem\n",
    "from rdkit.Chem import PandasTools as pt\n",
    "from rdkit import DataStructs\n",
    "from rdkit import rdBase\n",
    "from sklearn.model_selection import train_test_split\n",
    "from sklearn import preprocessing\n",
    "from sklearn import metrics\n",
    "import pubchempy as pcp\n",
    "import pandas as pd\n",
    "import sklearn\n",
    "import matplotlib.pyplot as plt\n",
    "import numpy as np\n",
    "import seaborn as sns"
   ]
  },
  {
   "cell_type": "code",
   "execution_count": 3,
   "metadata": {},
   "outputs": [],
   "source": [
    "all_drugs = pd.read_pickle('morgan_and_mac.pkl')"
   ]
  },
  {
   "cell_type": "code",
   "execution_count": 4,
   "metadata": {},
   "outputs": [
    {
     "data": {
      "text/html": [
       "<div>\n",
       "<style scoped>\n",
       "    .dataframe tbody tr th:only-of-type {\n",
       "        vertical-align: middle;\n",
       "    }\n",
       "\n",
       "    .dataframe tbody tr th {\n",
       "        vertical-align: top;\n",
       "    }\n",
       "\n",
       "    .dataframe thead th {\n",
       "        text-align: right;\n",
       "    }\n",
       "</style>\n",
       "<table border=\"1\" class=\"dataframe\">\n",
       "  <thead>\n",
       "    <tr style=\"text-align: right;\">\n",
       "      <th></th>\n",
       "      <th>CID</th>\n",
       "      <th>Molecule</th>\n",
       "      <th>drug_class</th>\n",
       "      <th>Morgan2FP</th>\n",
       "      <th>MACCSKeys</th>\n",
       "      <th>AtomPairFP</th>\n",
       "      <th>TopTorFP</th>\n",
       "      <th>MorganCircFP</th>\n",
       "      <th>drug_class_code</th>\n",
       "    </tr>\n",
       "  </thead>\n",
       "  <tbody>\n",
       "    <tr>\n",
       "      <th>0</th>\n",
       "      <td>24769</td>\n",
       "      <td>&lt;rdkit.Chem.rdchem.Mol object at 0x00000243DCF...</td>\n",
       "      <td>hematologic</td>\n",
       "      <td>[0, 0, 0, 0, 0, 0, 0, 0, 0, 0, 0, 0, 0, 0, 0, ...</td>\n",
       "      <td>[0, 0, 0, 0, 0, 0, 0, 0, 0, 0, 0, 0, 0, 0, 0, ...</td>\n",
       "      <td>[1, 1, 1, 1, 1, 0, 0, 0, 1, 1, 0, 0, 0, 0, 0, ...</td>\n",
       "      <td>[1, 1, 0, 0, 0, 0, 0, 0, 0, 0, 0, 0, 0, 0, 0, ...</td>\n",
       "      <td>[0, 0, 0, 0, 0, 0, 0, 0, 0, 0, 0, 0, 0, 0, 0, ...</td>\n",
       "      <td>7</td>\n",
       "    </tr>\n",
       "    <tr>\n",
       "      <th>1</th>\n",
       "      <td>134694070</td>\n",
       "      <td>&lt;rdkit.Chem.rdchem.Mol object at 0x00000243E86...</td>\n",
       "      <td>cardio</td>\n",
       "      <td>[0, 1, 0, 0, 0, 0, 0, 0, 0, 0, 0, 0, 0, 0, 0, ...</td>\n",
       "      <td>[0, 0, 0, 0, 0, 0, 0, 0, 0, 0, 0, 0, 0, 0, 0, ...</td>\n",
       "      <td>[1, 1, 1, 1, 1, 0, 0, 0, 1, 1, 0, 0, 0, 0, 0, ...</td>\n",
       "      <td>[0, 0, 0, 0, 0, 0, 0, 0, 0, 0, 0, 0, 0, 0, 0, ...</td>\n",
       "      <td>[0, 1, 0, 0, 0, 0, 0, 0, 0, 0, 0, 0, 0, 0, 0, ...</td>\n",
       "      <td>3</td>\n",
       "    </tr>\n",
       "    <tr>\n",
       "      <th>2</th>\n",
       "      <td>5121</td>\n",
       "      <td>&lt;rdkit.Chem.rdchem.Mol object at 0x00000243DCF...</td>\n",
       "      <td>antiinfective</td>\n",
       "      <td>[0, 0, 0, 0, 0, 0, 0, 0, 0, 0, 0, 0, 0, 0, 0, ...</td>\n",
       "      <td>[0, 0, 0, 0, 0, 0, 0, 0, 0, 0, 0, 0, 0, 0, 0, ...</td>\n",
       "      <td>[1, 1, 1, 1, 1, 0, 0, 0, 1, 1, 0, 0, 0, 0, 0, ...</td>\n",
       "      <td>[1, 1, 0, 0, 0, 0, 0, 0, 0, 0, 0, 0, 1, 1, 0, ...</td>\n",
       "      <td>[0, 0, 0, 0, 0, 0, 0, 0, 0, 0, 0, 0, 0, 0, 0, ...</td>\n",
       "      <td>0</td>\n",
       "    </tr>\n",
       "    <tr>\n",
       "      <th>3</th>\n",
       "      <td>4660557</td>\n",
       "      <td>&lt;rdkit.Chem.rdchem.Mol object at 0x00000243DCF...</td>\n",
       "      <td>cns</td>\n",
       "      <td>[0, 0, 0, 0, 0, 0, 0, 0, 0, 0, 0, 0, 0, 0, 0, ...</td>\n",
       "      <td>[0, 0, 0, 0, 0, 0, 0, 0, 0, 0, 0, 0, 0, 0, 0, ...</td>\n",
       "      <td>[1, 1, 1, 1, 1, 0, 0, 0, 1, 1, 0, 0, 0, 0, 0, ...</td>\n",
       "      <td>[1, 1, 0, 0, 0, 0, 0, 0, 0, 0, 0, 0, 0, 0, 0, ...</td>\n",
       "      <td>[0, 0, 0, 0, 0, 0, 0, 0, 0, 0, 0, 0, 0, 0, 0, ...</td>\n",
       "      <td>4</td>\n",
       "    </tr>\n",
       "    <tr>\n",
       "      <th>4</th>\n",
       "      <td>122175</td>\n",
       "      <td>&lt;rdkit.Chem.rdchem.Mol object at 0x00000243DCF...</td>\n",
       "      <td>antineoplastic</td>\n",
       "      <td>[0, 1, 0, 0, 0, 0, 0, 0, 0, 0, 0, 0, 0, 0, 0, ...</td>\n",
       "      <td>[0, 0, 0, 0, 0, 0, 0, 0, 0, 0, 0, 0, 0, 0, 0, ...</td>\n",
       "      <td>[1, 1, 1, 1, 1, 0, 0, 0, 1, 1, 0, 0, 0, 0, 0, ...</td>\n",
       "      <td>[0, 0, 0, 0, 0, 0, 0, 0, 0, 0, 0, 0, 0, 0, 0, ...</td>\n",
       "      <td>[0, 1, 0, 0, 0, 0, 0, 0, 0, 0, 0, 0, 0, 0, 0, ...</td>\n",
       "      <td>2</td>\n",
       "    </tr>\n",
       "  </tbody>\n",
       "</table>\n",
       "</div>"
      ],
      "text/plain": [
       "         CID                                           Molecule  \\\n",
       "0      24769  <rdkit.Chem.rdchem.Mol object at 0x00000243DCF...   \n",
       "1  134694070  <rdkit.Chem.rdchem.Mol object at 0x00000243E86...   \n",
       "2       5121  <rdkit.Chem.rdchem.Mol object at 0x00000243DCF...   \n",
       "3    4660557  <rdkit.Chem.rdchem.Mol object at 0x00000243DCF...   \n",
       "4     122175  <rdkit.Chem.rdchem.Mol object at 0x00000243DCF...   \n",
       "\n",
       "       drug_class                                          Morgan2FP  \\\n",
       "0     hematologic  [0, 0, 0, 0, 0, 0, 0, 0, 0, 0, 0, 0, 0, 0, 0, ...   \n",
       "1          cardio  [0, 1, 0, 0, 0, 0, 0, 0, 0, 0, 0, 0, 0, 0, 0, ...   \n",
       "2   antiinfective  [0, 0, 0, 0, 0, 0, 0, 0, 0, 0, 0, 0, 0, 0, 0, ...   \n",
       "3             cns  [0, 0, 0, 0, 0, 0, 0, 0, 0, 0, 0, 0, 0, 0, 0, ...   \n",
       "4  antineoplastic  [0, 1, 0, 0, 0, 0, 0, 0, 0, 0, 0, 0, 0, 0, 0, ...   \n",
       "\n",
       "                                           MACCSKeys  \\\n",
       "0  [0, 0, 0, 0, 0, 0, 0, 0, 0, 0, 0, 0, 0, 0, 0, ...   \n",
       "1  [0, 0, 0, 0, 0, 0, 0, 0, 0, 0, 0, 0, 0, 0, 0, ...   \n",
       "2  [0, 0, 0, 0, 0, 0, 0, 0, 0, 0, 0, 0, 0, 0, 0, ...   \n",
       "3  [0, 0, 0, 0, 0, 0, 0, 0, 0, 0, 0, 0, 0, 0, 0, ...   \n",
       "4  [0, 0, 0, 0, 0, 0, 0, 0, 0, 0, 0, 0, 0, 0, 0, ...   \n",
       "\n",
       "                                          AtomPairFP  \\\n",
       "0  [1, 1, 1, 1, 1, 0, 0, 0, 1, 1, 0, 0, 0, 0, 0, ...   \n",
       "1  [1, 1, 1, 1, 1, 0, 0, 0, 1, 1, 0, 0, 0, 0, 0, ...   \n",
       "2  [1, 1, 1, 1, 1, 0, 0, 0, 1, 1, 0, 0, 0, 0, 0, ...   \n",
       "3  [1, 1, 1, 1, 1, 0, 0, 0, 1, 1, 0, 0, 0, 0, 0, ...   \n",
       "4  [1, 1, 1, 1, 1, 0, 0, 0, 1, 1, 0, 0, 0, 0, 0, ...   \n",
       "\n",
       "                                            TopTorFP  \\\n",
       "0  [1, 1, 0, 0, 0, 0, 0, 0, 0, 0, 0, 0, 0, 0, 0, ...   \n",
       "1  [0, 0, 0, 0, 0, 0, 0, 0, 0, 0, 0, 0, 0, 0, 0, ...   \n",
       "2  [1, 1, 0, 0, 0, 0, 0, 0, 0, 0, 0, 0, 1, 1, 0, ...   \n",
       "3  [1, 1, 0, 0, 0, 0, 0, 0, 0, 0, 0, 0, 0, 0, 0, ...   \n",
       "4  [0, 0, 0, 0, 0, 0, 0, 0, 0, 0, 0, 0, 0, 0, 0, ...   \n",
       "\n",
       "                                        MorganCircFP  drug_class_code  \n",
       "0  [0, 0, 0, 0, 0, 0, 0, 0, 0, 0, 0, 0, 0, 0, 0, ...                7  \n",
       "1  [0, 1, 0, 0, 0, 0, 0, 0, 0, 0, 0, 0, 0, 0, 0, ...                3  \n",
       "2  [0, 0, 0, 0, 0, 0, 0, 0, 0, 0, 0, 0, 0, 0, 0, ...                0  \n",
       "3  [0, 0, 0, 0, 0, 0, 0, 0, 0, 0, 0, 0, 0, 0, 0, ...                4  \n",
       "4  [0, 1, 0, 0, 0, 0, 0, 0, 0, 0, 0, 0, 0, 0, 0, ...                2  "
      ]
     },
     "execution_count": 4,
     "metadata": {},
     "output_type": "execute_result"
    }
   ],
   "source": [
    "drugs = all_drugs[:2000]\n",
    "drugs.head()"
   ]
  },
  {
   "cell_type": "code",
   "execution_count": 5,
   "metadata": {},
   "outputs": [
    {
     "name": "stdout",
     "output_type": "stream",
     "text": [
      "<class 'numpy.ndarray'>\n"
     ]
    }
   ],
   "source": [
    "print(type(drugs['MorganCircFP'].iloc[0]))"
   ]
  },
  {
   "attachments": {},
   "cell_type": "markdown",
   "metadata": {},
   "source": [
    "Red convolucional"
   ]
  },
  {
   "cell_type": "code",
   "execution_count": 6,
   "metadata": {},
   "outputs": [],
   "source": [
    "# example of a cnn for image classification\n",
    "from numpy import set_printoptions\n",
    "from numpy import asarray\n",
    "from numpy import unique\n",
    "from numpy import argmax\n",
    "from tensorflow.keras.datasets.mnist import load_data\n",
    "from tensorflow.keras import Sequential\n",
    "from tensorflow.keras.layers import Dense\n",
    "from tensorflow.keras.layers import Conv1D\n",
    "from tensorflow.keras.layers import MaxPool1D\n",
    "from tensorflow.keras.layers import Flatten\n",
    "from tensorflow.keras.layers import Dropout"
   ]
  },
  {
   "cell_type": "code",
   "execution_count": 7,
   "metadata": {},
   "outputs": [
    {
     "data": {
      "text/plain": [
       "(2048,)"
      ]
     },
     "execution_count": 7,
     "metadata": {},
     "output_type": "execute_result"
    }
   ],
   "source": [
    "drugs['MorganCircFP'].iloc[0].shape"
   ]
  },
  {
   "cell_type": "code",
   "execution_count": 8,
   "metadata": {},
   "outputs": [],
   "source": [
    "def concat_narrays(a1, a2):\n",
    "    arr = np.concatenate((a1, a2), axis=0)\n",
    "    return arr"
   ]
  },
  {
   "cell_type": "code",
   "execution_count": 9,
   "metadata": {},
   "outputs": [
    {
     "name": "stderr",
     "output_type": "stream",
     "text": [
      "C:\\Users\\josin\\AppData\\Local\\Temp\\ipykernel_10220\\2875725365.py:1: SettingWithCopyWarning: \n",
      "A value is trying to be set on a copy of a slice from a DataFrame.\n",
      "Try using .loc[row_indexer,col_indexer] = value instead\n",
      "\n",
      "See the caveats in the documentation: https://pandas.pydata.org/pandas-docs/stable/user_guide/indexing.html#returning-a-view-versus-a-copy\n",
      "  drugs['FP_chain'] = drugs.apply(lambda x: concat_narrays(x['Morgan2FP'],x['MorganCircFP']), axis=1)\n"
     ]
    },
    {
     "data": {
      "text/html": [
       "<div>\n",
       "<style scoped>\n",
       "    .dataframe tbody tr th:only-of-type {\n",
       "        vertical-align: middle;\n",
       "    }\n",
       "\n",
       "    .dataframe tbody tr th {\n",
       "        vertical-align: top;\n",
       "    }\n",
       "\n",
       "    .dataframe thead th {\n",
       "        text-align: right;\n",
       "    }\n",
       "</style>\n",
       "<table border=\"1\" class=\"dataframe\">\n",
       "  <thead>\n",
       "    <tr style=\"text-align: right;\">\n",
       "      <th></th>\n",
       "      <th>CID</th>\n",
       "      <th>Molecule</th>\n",
       "      <th>drug_class</th>\n",
       "      <th>Morgan2FP</th>\n",
       "      <th>MACCSKeys</th>\n",
       "      <th>AtomPairFP</th>\n",
       "      <th>TopTorFP</th>\n",
       "      <th>MorganCircFP</th>\n",
       "      <th>drug_class_code</th>\n",
       "      <th>FP_chain</th>\n",
       "    </tr>\n",
       "  </thead>\n",
       "  <tbody>\n",
       "    <tr>\n",
       "      <th>0</th>\n",
       "      <td>24769</td>\n",
       "      <td>&lt;rdkit.Chem.rdchem.Mol object at 0x00000243DCF...</td>\n",
       "      <td>hematologic</td>\n",
       "      <td>[0, 0, 0, 0, 0, 0, 0, 0, 0, 0, 0, 0, 0, 0, 0, ...</td>\n",
       "      <td>[0, 0, 0, 0, 0, 0, 0, 0, 0, 0, 0, 0, 0, 0, 0, ...</td>\n",
       "      <td>[1, 1, 1, 1, 1, 0, 0, 0, 1, 1, 0, 0, 0, 0, 0, ...</td>\n",
       "      <td>[1, 1, 0, 0, 0, 0, 0, 0, 0, 0, 0, 0, 0, 0, 0, ...</td>\n",
       "      <td>[0, 0, 0, 0, 0, 0, 0, 0, 0, 0, 0, 0, 0, 0, 0, ...</td>\n",
       "      <td>7</td>\n",
       "      <td>[0, 0, 0, 0, 0, 0, 0, 0, 0, 0, 0, 0, 0, 0, 0, ...</td>\n",
       "    </tr>\n",
       "    <tr>\n",
       "      <th>1</th>\n",
       "      <td>134694070</td>\n",
       "      <td>&lt;rdkit.Chem.rdchem.Mol object at 0x00000243E86...</td>\n",
       "      <td>cardio</td>\n",
       "      <td>[0, 1, 0, 0, 0, 0, 0, 0, 0, 0, 0, 0, 0, 0, 0, ...</td>\n",
       "      <td>[0, 0, 0, 0, 0, 0, 0, 0, 0, 0, 0, 0, 0, 0, 0, ...</td>\n",
       "      <td>[1, 1, 1, 1, 1, 0, 0, 0, 1, 1, 0, 0, 0, 0, 0, ...</td>\n",
       "      <td>[0, 0, 0, 0, 0, 0, 0, 0, 0, 0, 0, 0, 0, 0, 0, ...</td>\n",
       "      <td>[0, 1, 0, 0, 0, 0, 0, 0, 0, 0, 0, 0, 0, 0, 0, ...</td>\n",
       "      <td>3</td>\n",
       "      <td>[0, 1, 0, 0, 0, 0, 0, 0, 0, 0, 0, 0, 0, 0, 0, ...</td>\n",
       "    </tr>\n",
       "    <tr>\n",
       "      <th>2</th>\n",
       "      <td>5121</td>\n",
       "      <td>&lt;rdkit.Chem.rdchem.Mol object at 0x00000243DCF...</td>\n",
       "      <td>antiinfective</td>\n",
       "      <td>[0, 0, 0, 0, 0, 0, 0, 0, 0, 0, 0, 0, 0, 0, 0, ...</td>\n",
       "      <td>[0, 0, 0, 0, 0, 0, 0, 0, 0, 0, 0, 0, 0, 0, 0, ...</td>\n",
       "      <td>[1, 1, 1, 1, 1, 0, 0, 0, 1, 1, 0, 0, 0, 0, 0, ...</td>\n",
       "      <td>[1, 1, 0, 0, 0, 0, 0, 0, 0, 0, 0, 0, 1, 1, 0, ...</td>\n",
       "      <td>[0, 0, 0, 0, 0, 0, 0, 0, 0, 0, 0, 0, 0, 0, 0, ...</td>\n",
       "      <td>0</td>\n",
       "      <td>[0, 0, 0, 0, 0, 0, 0, 0, 0, 0, 0, 0, 0, 0, 0, ...</td>\n",
       "    </tr>\n",
       "    <tr>\n",
       "      <th>3</th>\n",
       "      <td>4660557</td>\n",
       "      <td>&lt;rdkit.Chem.rdchem.Mol object at 0x00000243DCF...</td>\n",
       "      <td>cns</td>\n",
       "      <td>[0, 0, 0, 0, 0, 0, 0, 0, 0, 0, 0, 0, 0, 0, 0, ...</td>\n",
       "      <td>[0, 0, 0, 0, 0, 0, 0, 0, 0, 0, 0, 0, 0, 0, 0, ...</td>\n",
       "      <td>[1, 1, 1, 1, 1, 0, 0, 0, 1, 1, 0, 0, 0, 0, 0, ...</td>\n",
       "      <td>[1, 1, 0, 0, 0, 0, 0, 0, 0, 0, 0, 0, 0, 0, 0, ...</td>\n",
       "      <td>[0, 0, 0, 0, 0, 0, 0, 0, 0, 0, 0, 0, 0, 0, 0, ...</td>\n",
       "      <td>4</td>\n",
       "      <td>[0, 0, 0, 0, 0, 0, 0, 0, 0, 0, 0, 0, 0, 0, 0, ...</td>\n",
       "    </tr>\n",
       "    <tr>\n",
       "      <th>4</th>\n",
       "      <td>122175</td>\n",
       "      <td>&lt;rdkit.Chem.rdchem.Mol object at 0x00000243DCF...</td>\n",
       "      <td>antineoplastic</td>\n",
       "      <td>[0, 1, 0, 0, 0, 0, 0, 0, 0, 0, 0, 0, 0, 0, 0, ...</td>\n",
       "      <td>[0, 0, 0, 0, 0, 0, 0, 0, 0, 0, 0, 0, 0, 0, 0, ...</td>\n",
       "      <td>[1, 1, 1, 1, 1, 0, 0, 0, 1, 1, 0, 0, 0, 0, 0, ...</td>\n",
       "      <td>[0, 0, 0, 0, 0, 0, 0, 0, 0, 0, 0, 0, 0, 0, 0, ...</td>\n",
       "      <td>[0, 1, 0, 0, 0, 0, 0, 0, 0, 0, 0, 0, 0, 0, 0, ...</td>\n",
       "      <td>2</td>\n",
       "      <td>[0, 1, 0, 0, 0, 0, 0, 0, 0, 0, 0, 0, 0, 0, 0, ...</td>\n",
       "    </tr>\n",
       "  </tbody>\n",
       "</table>\n",
       "</div>"
      ],
      "text/plain": [
       "         CID                                           Molecule  \\\n",
       "0      24769  <rdkit.Chem.rdchem.Mol object at 0x00000243DCF...   \n",
       "1  134694070  <rdkit.Chem.rdchem.Mol object at 0x00000243E86...   \n",
       "2       5121  <rdkit.Chem.rdchem.Mol object at 0x00000243DCF...   \n",
       "3    4660557  <rdkit.Chem.rdchem.Mol object at 0x00000243DCF...   \n",
       "4     122175  <rdkit.Chem.rdchem.Mol object at 0x00000243DCF...   \n",
       "\n",
       "       drug_class                                          Morgan2FP  \\\n",
       "0     hematologic  [0, 0, 0, 0, 0, 0, 0, 0, 0, 0, 0, 0, 0, 0, 0, ...   \n",
       "1          cardio  [0, 1, 0, 0, 0, 0, 0, 0, 0, 0, 0, 0, 0, 0, 0, ...   \n",
       "2   antiinfective  [0, 0, 0, 0, 0, 0, 0, 0, 0, 0, 0, 0, 0, 0, 0, ...   \n",
       "3             cns  [0, 0, 0, 0, 0, 0, 0, 0, 0, 0, 0, 0, 0, 0, 0, ...   \n",
       "4  antineoplastic  [0, 1, 0, 0, 0, 0, 0, 0, 0, 0, 0, 0, 0, 0, 0, ...   \n",
       "\n",
       "                                           MACCSKeys  \\\n",
       "0  [0, 0, 0, 0, 0, 0, 0, 0, 0, 0, 0, 0, 0, 0, 0, ...   \n",
       "1  [0, 0, 0, 0, 0, 0, 0, 0, 0, 0, 0, 0, 0, 0, 0, ...   \n",
       "2  [0, 0, 0, 0, 0, 0, 0, 0, 0, 0, 0, 0, 0, 0, 0, ...   \n",
       "3  [0, 0, 0, 0, 0, 0, 0, 0, 0, 0, 0, 0, 0, 0, 0, ...   \n",
       "4  [0, 0, 0, 0, 0, 0, 0, 0, 0, 0, 0, 0, 0, 0, 0, ...   \n",
       "\n",
       "                                          AtomPairFP  \\\n",
       "0  [1, 1, 1, 1, 1, 0, 0, 0, 1, 1, 0, 0, 0, 0, 0, ...   \n",
       "1  [1, 1, 1, 1, 1, 0, 0, 0, 1, 1, 0, 0, 0, 0, 0, ...   \n",
       "2  [1, 1, 1, 1, 1, 0, 0, 0, 1, 1, 0, 0, 0, 0, 0, ...   \n",
       "3  [1, 1, 1, 1, 1, 0, 0, 0, 1, 1, 0, 0, 0, 0, 0, ...   \n",
       "4  [1, 1, 1, 1, 1, 0, 0, 0, 1, 1, 0, 0, 0, 0, 0, ...   \n",
       "\n",
       "                                            TopTorFP  \\\n",
       "0  [1, 1, 0, 0, 0, 0, 0, 0, 0, 0, 0, 0, 0, 0, 0, ...   \n",
       "1  [0, 0, 0, 0, 0, 0, 0, 0, 0, 0, 0, 0, 0, 0, 0, ...   \n",
       "2  [1, 1, 0, 0, 0, 0, 0, 0, 0, 0, 0, 0, 1, 1, 0, ...   \n",
       "3  [1, 1, 0, 0, 0, 0, 0, 0, 0, 0, 0, 0, 0, 0, 0, ...   \n",
       "4  [0, 0, 0, 0, 0, 0, 0, 0, 0, 0, 0, 0, 0, 0, 0, ...   \n",
       "\n",
       "                                        MorganCircFP  drug_class_code  \\\n",
       "0  [0, 0, 0, 0, 0, 0, 0, 0, 0, 0, 0, 0, 0, 0, 0, ...                7   \n",
       "1  [0, 1, 0, 0, 0, 0, 0, 0, 0, 0, 0, 0, 0, 0, 0, ...                3   \n",
       "2  [0, 0, 0, 0, 0, 0, 0, 0, 0, 0, 0, 0, 0, 0, 0, ...                0   \n",
       "3  [0, 0, 0, 0, 0, 0, 0, 0, 0, 0, 0, 0, 0, 0, 0, ...                4   \n",
       "4  [0, 1, 0, 0, 0, 0, 0, 0, 0, 0, 0, 0, 0, 0, 0, ...                2   \n",
       "\n",
       "                                            FP_chain  \n",
       "0  [0, 0, 0, 0, 0, 0, 0, 0, 0, 0, 0, 0, 0, 0, 0, ...  \n",
       "1  [0, 1, 0, 0, 0, 0, 0, 0, 0, 0, 0, 0, 0, 0, 0, ...  \n",
       "2  [0, 0, 0, 0, 0, 0, 0, 0, 0, 0, 0, 0, 0, 0, 0, ...  \n",
       "3  [0, 0, 0, 0, 0, 0, 0, 0, 0, 0, 0, 0, 0, 0, 0, ...  \n",
       "4  [0, 1, 0, 0, 0, 0, 0, 0, 0, 0, 0, 0, 0, 0, 0, ...  "
      ]
     },
     "metadata": {},
     "output_type": "display_data"
    },
    {
     "data": {
      "text/plain": [
       "(4096,)"
      ]
     },
     "execution_count": 9,
     "metadata": {},
     "output_type": "execute_result"
    }
   ],
   "source": [
    "drugs['FP_chain'] = drugs.apply(lambda x: concat_narrays(x['Morgan2FP'],x['MorganCircFP']), axis=1)\n",
    "display(drugs.head())\n",
    "X = drugs['FP_chain']\n",
    "y = drugs['drug_class_code']\n",
    "drugs['FP_chain'][0].shape"
   ]
  },
  {
   "cell_type": "code",
   "execution_count": 10,
   "metadata": {},
   "outputs": [],
   "source": [
    "X_train, X_test, y_train, y_test = train_test_split(X, y, test_size=0.3, random_state=42)"
   ]
  },
  {
   "cell_type": "code",
   "execution_count": 33,
   "metadata": {},
   "outputs": [
    {
     "name": "stdout",
     "output_type": "stream",
     "text": [
      "<class 'numpy.ndarray'>\n",
      "(1400, 4096)\n",
      "12\n",
      "(4096, 1)\n",
      "(1400, 4096, 1) (1400,)\n",
      "(600, 4096, 1) (600,)\n"
     ]
    }
   ],
   "source": [
    "x_train = np.array(list(X_train))\n",
    "print(type(x_train))\n",
    "print(x_train.shape)\n",
    "x_test = np.array(list(X_test))\n",
    "n_classes = len(unique(y_train))\n",
    "print(len(unique(y_train)))\n",
    "x_train=x_train.reshape((x_train.shape[0], x_train.shape[1], 1))\n",
    "x_test=x_test.reshape((x_test.shape[0], x_test.shape[1], 1))\n",
    "in_shape = x_train.shape[1:]\n",
    "print(in_shape)\n",
    "print(x_train.shape, y_train.shape)\n",
    "print(x_test.shape, y_test.shape)"
   ]
  },
  {
   "cell_type": "code",
   "execution_count": 12,
   "metadata": {},
   "outputs": [],
   "source": [
    "model = Sequential()\n",
    "model.add(Conv1D(100, 9, activation='relu', kernel_initializer='he_uniform', input_shape=in_shape))\n",
    "model.add(MaxPool1D(4))\n",
    "model.add(Flatten())\n",
    "model.add(Dense(100, activation='relu', kernel_initializer='he_uniform'))\n",
    "model.add(Dropout(0.5))\n",
    "model.add(Dense(n_classes, activation='softmax'))\n",
    "# define loss and optimizer\n",
    "model.compile(optimizer='adam', loss='sparse_categorical_crossentropy', metrics=['accuracy'])"
   ]
  },
  {
   "cell_type": "code",
   "execution_count": 13,
   "metadata": {},
   "outputs": [
    {
     "name": "stdout",
     "output_type": "stream",
     "text": [
      "Epoch 1/5\n",
      "11/11 [==============================] - 15s 1s/step - loss: 5.8822 - accuracy: 0.2943\n",
      "Epoch 2/5\n",
      "11/11 [==============================] - 13s 1s/step - loss: 1.9455 - accuracy: 0.2943\n",
      "Epoch 3/5\n",
      "11/11 [==============================] - 15s 1s/step - loss: 1.7250 - accuracy: 0.3893\n",
      "Epoch 4/5\n",
      "11/11 [==============================] - 12s 1s/step - loss: 1.5497 - accuracy: 0.4293\n",
      "Epoch 5/5\n",
      "11/11 [==============================] - 13s 1s/step - loss: 1.4145 - accuracy: 0.4836\n",
      "Accuracy: 0.617\n",
      "19/19 [==============================] - 2s 96ms/step\n",
      "Predicted: class=9\n"
     ]
    }
   ],
   "source": [
    "# fit the model\n",
    "model.fit(x_train, y_train, epochs=5, batch_size=128, verbose=1)\n",
    "# evaluate the model\n",
    "loss, acc = model.evaluate(x_test, y_test, verbose=0)\n",
    "print(f'Accuracy: {acc:.3f}')\n",
    "# make a prediction\n",
    "#   image = x_train[0]\n",
    "y_pred = model.predict(x_test)\n",
    "set_printoptions(precision=3)\n",
    "print(f'Predicted: class={argmax(y_pred[1])}')"
   ]
  },
  {
   "cell_type": "code",
   "execution_count": 14,
   "metadata": {},
   "outputs": [
    {
     "name": "stdout",
     "output_type": "stream",
     "text": [
      "(4096, 1)\n",
      "[4, 9, 0, 2, 0, 0, 2, 6, 9, 0, 9, 0, 2, 0, 4, 0, 4, 0, 0, 5, 2, 3, 0, 0, 0, 7, 2, 0, 0, 9, 1, 0, 0, 0, 10, 0, 1, 0, 10, 4, 3, 6, 2, 0, 0, 3, 2, 0, 9, 1, 3, 2, 2, 0, 0, 4, 2, 0, 2, 0, 0, 2, 3, 8, 6, 2, 3, 0, 0, 5, 0, 0, 0, 2, 1, 2, 0, 0, 0, 0, 9, 8, 0, 4, 0, 0, 3, 0, 2, 1, 0, 0, 0, 5, 0, 0, 4, 6, 0, 3, 4, 0, 2, 3, 4, 2, 1, 4, 1, 0, 2, 2, 0, 4, 1, 0, 0, 9, 0, 0, 0, 0, 8, 7, 4, 0, 0, 4, 2, 0, 1, 4, 4, 5, 3, 5, 3, 9, 0, 2, 0, 5, 8, 10, 2, 0, 3, 1, 1, 0, 0, 2, 1, 0, 3, 0, 0, 6, 0, 10, 2, 4, 2, 3, 3, 7, 0, 0, 10, 4, 4, 2, 0, 0, 4, 0, 0, 0, 1, 8, 0, 4, 3, 2, 3, 7, 3, 3, 3, 3, 1, 0, 6, 4, 9, 0, 8, 8, 9, 2, 4, 0, 2, 1, 4, 2, 0, 0, 4, 4, 4, 9, 0, 0, 7, 2, 5, 3, 4, 2, 0, 2, 4, 5, 2, 0, 2, 7, 8, 4, 3, 0, 4, 5, 2, 6, 4, 0, 0, 4, 0, 3, 0, 0, 0, 0, 4, 3, 10, 0, 3, 5, 8, 0, 2, 10, 0, 1, 2, 1, 2, 9, 9, 0, 3, 2, 3, 2, 4, 2, 1, 0, 7, 0, 0, 1, 1, 2, 0, 3, 3, 7, 1, 4, 0, 9, 3, 0, 2, 2, 0, 0, 7, 3, 2, 3, 9, 2, 0, 4, 3, 2, 0, 2, 0, 0, 2, 0, 8, 7, 2, 3, 1, 4, 8, 4, 4, 2, 0, 4, 9, 0, 4, 5, 4, 0, 5, 1, 4, 1, 4, 0, 3, 3, 1, 10, 0, 0, 8, 2, 0, 5, 1, 4, 0, 3, 3, 3, 0, 0, 2, 2, 9, 1, 3, 3, 0, 2, 0, 8, 9, 1, 1, 0, 1, 0, 0, 1, 2, 0, 3, 2, 9, 10, 0, 2, 0, 2, 9, 7, 0, 4, 4, 4, 10, 1, 7, 3, 1, 3, 2, 3, 0, 4, 0, 0, 4, 0, 0, 5, 0, 1, 4, 3, 4, 8, 4, 0, 10, 0, 4, 2, 5, 8, 9, 0, 2, 9, 2, 4, 4, 1, 6, 2, 7, 3, 0, 8, 0, 0, 4, 0, 0, 4, 0, 3, 3, 0, 4, 0, 4, 0, 2, 1, 2, 4, 4, 3, 4, 1, 0, 6, 0, 5, 4, 0, 1, 4, 3, 9, 2, 0, 0, 3, 4, 0, 0, 0, 4, 0, 4, 2, 3, 0, 4, 0, 2, 4, 0, 4, 0, 0, 2, 4, 7, 0, 3, 2, 0, 0, 2, 10, 4, 0, 1, 2, 6, 8, 3, 9, 0, 1, 8, 9, 0, 3, 0, 4, 3, 2, 4, 2, 0, 0, 7, 8, 0, 2, 0, 0, 0, 2, 0, 9, 2, 4, 7, 1, 0, 0, 2, 5, 4, 4, 3, 3, 4, 8, 0, 3, 3, 0, 2, 3, 6, 2, 4, 4, 3, 0, 0, 9, 0, 4, 7, 1, 8, 0, 7, 4, 7, 3, 4, 1, 1, 8, 7, 10, 0, 9, 0, 3, 0, 0, 2, 0, 2, 2, 4, 0, 0, 4, 0, 2, 6, 4, 0, 1, 5, 2, 1, 4, 3, 6, 2, 0, 4, 0, 4, 8]\n",
      "[4, 9, 0, 0, 0, 0, 0, 3, 9, 0, 9, 0, 2, 9, 3, 0, 2, 0, 0, 9, 2, 3, 3, 3, 0, 0, 4, 0, 2, 9, 1, 0, 0, 0, 0, 0, 4, 0, 0, 4, 0, 3, 2, 3, 2, 4, 2, 2, 9, 1, 2, 2, 0, 4, 0, 4, 1, 0, 2, 0, 0, 2, 3, 8, 3, 2, 3, 0, 0, 0, 0, 0, 0, 0, 0, 2, 0, 2, 0, 0, 9, 0, 0, 0, 0, 0, 4, 0, 2, 3, 0, 0, 4, 2, 0, 0, 0, 1, 0, 3, 4, 0, 2, 8, 2, 4, 1, 4, 1, 2, 0, 2, 0, 4, 3, 0, 0, 3, 0, 0, 0, 0, 2, 3, 0, 2, 0, 4, 2, 0, 1, 0, 0, 0, 3, 5, 3, 9, 0, 2, 0, 1, 8, 4, 0, 0, 3, 1, 3, 8, 0, 4, 1, 0, 3, 0, 0, 4, 0, 4, 2, 3, 2, 3, 3, 2, 0, 0, 10, 4, 4, 2, 0, 0, 0, 0, 0, 0, 1, 8, 0, 3, 3, 2, 3, 0, 3, 3, 0, 8, 1, 0, 1, 4, 9, 0, 8, 4, 9, 2, 0, 3, 2, 1, 0, 2, 0, 0, 3, 4, 0, 9, 0, 0, 0, 2, 0, 0, 0, 8, 0, 0, 2, 0, 3, 0, 2, 0, 8, 0, 3, 0, 0, 0, 3, 0, 2, 4, 0, 0, 0, 3, 4, 0, 0, 0, 4, 3, 0, 0, 4, 2, 8, 0, 2, 0, 0, 1, 2, 1, 0, 9, 9, 2, 3, 0, 0, 2, 3, 0, 1, 0, 3, 0, 0, 3, 1, 3, 0, 0, 3, 2, 1, 4, 0, 9, 3, 0, 3, 2, 0, 4, 3, 3, 2, 3, 9, 0, 0, 2, 3, 0, 0, 9, 0, 0, 3, 0, 8, 2, 2, 3, 1, 4, 8, 4, 0, 0, 0, 4, 9, 0, 0, 2, 4, 0, 4, 1, 4, 6, 4, 3, 0, 2, 1, 3, 0, 0, 8, 2, 0, 2, 4, 4, 2, 3, 0, 3, 8, 2, 2, 9, 2, 1, 0, 3, 0, 2, 0, 0, 2, 1, 1, 0, 1, 0, 0, 1, 2, 0, 2, 2, 9, 8, 4, 0, 0, 2, 9, 0, 0, 4, 0, 0, 3, 6, 3, 3, 1, 0, 2, 2, 0, 4, 0, 0, 0, 3, 0, 0, 0, 1, 3, 3, 0, 6, 4, 0, 3, 2, 0, 2, 2, 8, 9, 0, 2, 9, 0, 4, 0, 1, 1, 2, 0, 4, 0, 8, 0, 0, 2, 0, 0, 3, 0, 3, 3, 4, 0, 8, 0, 0, 0, 1, 2, 1, 4, 3, 0, 1, 0, 1, 0, 5, 4, 0, 1, 4, 2, 9, 2, 0, 1, 3, 0, 0, 0, 0, 4, 0, 9, 2, 3, 0, 4, 0, 2, 0, 0, 0, 0, 0, 2, 0, 3, 0, 4, 0, 0, 0, 2, 2, 4, 0, 0, 0, 1, 4, 3, 9, 3, 0, 8, 2, 0, 3, 0, 0, 3, 3, 0, 2, 0, 0, 3, 8, 0, 2, 8, 3, 0, 2, 0, 9, 2, 0, 3, 1, 0, 0, 0, 2, 0, 4, 3, 3, 4, 8, 0, 3, 0, 4, 0, 3, 1, 0, 4, 4, 3, 0, 2, 9, 0, 0, 0, 1, 0, 0, 0, 4, 3, 3, 4, 0, 1, 8, 3, 3, 0, 9, 0, 0, 0, 0, 0, 0, 2, 2, 4, 0, 0, 4, 0, 0, 4, 0, 0, 1, 3, 2, 9, 6, 4, 1, 4, 0, 0, 0, 4, 8]\n"
     ]
    }
   ],
   "source": [
    "y_pred_mor = [argmax(x) for x in y_pred]\n",
    "\n",
    "print(x_test[29].shape)\n",
    "print(list(y_test))\n",
    "print(y_pred_mor)"
   ]
  },
  {
   "cell_type": "code",
   "execution_count": 15,
   "metadata": {},
   "outputs": [
    {
     "name": "stdout",
     "output_type": "stream",
     "text": [
      "              precision    recall  f1-score   support\n",
      "\n",
      "           0       0.63      0.83      0.71       193\n",
      "           1       0.75      0.72      0.73        46\n",
      "           2       0.59      0.58      0.59        89\n",
      "           3       0.50      0.64      0.56        67\n",
      "           4       0.59      0.43      0.50        90\n",
      "           5       1.00      0.11      0.20        18\n",
      "           6       0.00      0.00      0.00        13\n",
      "           7       0.00      0.00      0.00        20\n",
      "           8       0.67      0.70      0.68        23\n",
      "           9       0.80      0.86      0.83        28\n",
      "          10       1.00      0.08      0.14        13\n",
      "\n",
      "    accuracy                           0.62       600\n",
      "   macro avg       0.59      0.45      0.45       600\n",
      "weighted avg       0.61      0.62      0.58       600\n",
      "\n"
     ]
    },
    {
     "name": "stderr",
     "output_type": "stream",
     "text": [
      "c:\\Users\\josin\\anaconda3\\envs\\kedro-environment\\lib\\site-packages\\sklearn\\metrics\\_classification.py:1344: UndefinedMetricWarning: Precision and F-score are ill-defined and being set to 0.0 in labels with no predicted samples. Use `zero_division` parameter to control this behavior.\n",
      "  _warn_prf(average, modifier, msg_start, len(result))\n",
      "c:\\Users\\josin\\anaconda3\\envs\\kedro-environment\\lib\\site-packages\\sklearn\\metrics\\_classification.py:1344: UndefinedMetricWarning: Precision and F-score are ill-defined and being set to 0.0 in labels with no predicted samples. Use `zero_division` parameter to control this behavior.\n",
      "  _warn_prf(average, modifier, msg_start, len(result))\n",
      "c:\\Users\\josin\\anaconda3\\envs\\kedro-environment\\lib\\site-packages\\sklearn\\metrics\\_classification.py:1344: UndefinedMetricWarning: Precision and F-score are ill-defined and being set to 0.0 in labels with no predicted samples. Use `zero_division` parameter to control this behavior.\n",
      "  _warn_prf(average, modifier, msg_start, len(result))\n"
     ]
    }
   ],
   "source": [
    "print( metrics.classification_report(y_test,y_pred_mor))"
   ]
  },
  {
   "cell_type": "code",
   "execution_count": 31,
   "metadata": {},
   "outputs": [
    {
     "name": "stdout",
     "output_type": "stream",
     "text": [
      "19/19 [==============================] - 3s 133ms/step\n",
      "Predicted: class=9\n"
     ]
    }
   ],
   "source": [
    "\n"
   ]
  },
  {
   "cell_type": "code",
   "execution_count": 19,
   "metadata": {},
   "outputs": [
    {
     "data": {
      "text/plain": [
       "(600, 4096, 1)"
      ]
     },
     "execution_count": 19,
     "metadata": {},
     "output_type": "execute_result"
    }
   ],
   "source": [
    "x_test.shape"
   ]
  },
  {
   "cell_type": "code",
   "execution_count": 54,
   "metadata": {},
   "outputs": [],
   "source": [
    "cid_paracetamol = 16004692"
   ]
  },
  {
   "cell_type": "code",
   "execution_count": 55,
   "metadata": {},
   "outputs": [
    {
     "data": {
      "image/png": "[encoded data removed]",
      "text/plain": [
       "<rdkit.Chem.rdchem.Mol at 0x243917e0f90>"
      ]
     },
     "metadata": {},
     "output_type": "display_data"
    }
   ],
   "source": [
    "#get mol\n",
    "comp_paracetamol = pcp.Compound.from_cid(cid_paracetamol)\n",
    "smiles_paracetamol = comp_paracetamol.canonical_smiles\n",
    "mol_paracetamol = Chem.MolFromSmiles(smiles_paracetamol)\n",
    "display(mol_paracetamol)"
   ]
  },
  {
   "cell_type": "code",
   "execution_count": 56,
   "metadata": {},
   "outputs": [],
   "source": [
    "def compute_morgan_fp(mol, depth=2, nBits=2048):\n",
    "    try:\n",
    "        mor_fp = AllChem.GetMorganFingerprintAsBitVect(mol,depth,nBits)\n",
    "    except:\n",
    "        print('Something went wrong computing Morgan fingerprints')\n",
    "        return None\n",
    "    return np.array(mor_fp)"
   ]
  },
  {
   "cell_type": "code",
   "execution_count": 57,
   "metadata": {},
   "outputs": [],
   "source": [
    "def compute_morgan_circular_fp(mol, depth=2, nBits=2048):\n",
    "    try:\n",
    "        mc_fp = AllChem.GetMorganFingerprintAsBitVect(mol, depth, nBits)\n",
    "    except:\n",
    "        print('Something went wrong computin Morgan circular fingerprints')\n",
    "        return None\n",
    "    return np.array(mc_fp)"
   ]
  },
  {
   "cell_type": "code",
   "execution_count": 58,
   "metadata": {},
   "outputs": [],
   "source": [
    "mc_fp_paracetamol = compute_morgan_circular_fp(mol_paracetamol)\n",
    "m_fp_paracetamol = compute_morgan_fp(mol_paracetamol)"
   ]
  },
  {
   "cell_type": "code",
   "execution_count": 59,
   "metadata": {},
   "outputs": [],
   "source": [
    "paracetamol_chain = np.concatenate((m_fp_paracetamol, mc_fp_paracetamol), axis=0)"
   ]
  },
  {
   "cell_type": "code",
   "execution_count": 60,
   "metadata": {},
   "outputs": [
    {
     "data": {
      "text/plain": [
       "(1, 4096, 1)"
      ]
     },
     "metadata": {},
     "output_type": "display_data"
    },
    {
     "name": "stdout",
     "output_type": "stream",
     "text": [
      "1/1 [==============================] - 0s 67ms/step\n",
      "Predicted: class=0\n"
     ]
    }
   ],
   "source": [
    "\n",
    "paracetamol_array = np.array(paracetamol_chain)\n",
    "reshaped = np.array(paracetamol_array.reshape(1, paracetamol_array.shape[0], 1))\n",
    "display(reshaped.shape)\n",
    "y_pred = model.predict(reshaped)\n",
    "print(f'Predicted: class={argmax(y_pred)}')"
   ]
  },
  {
   "cell_type": "code",
   "execution_count": null,
   "metadata": {},
   "outputs": [],
   "source": []
  }
 ],
 "metadata": {
  "kernelspec": {
   "display_name": "kedro-environment",
   "language": "python",
   "name": "python3"
  },
  "language_info": {
   "codemirror_mode": {
    "name": "ipython",
    "version": 3
   },
   "file_extension": ".py",
   "mimetype": "text/x-python",
   "name": "python",
   "nbconvert_exporter": "python",
   "pygments_lexer": "ipython3",
   "version": "3.10.9"
  },
  "orig_nbformat": 4
 },
 "nbformat": 4,
 "nbformat_minor": 2
}
