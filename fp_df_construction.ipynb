{
 "cells": [
  {
   "cell_type": "code",
   "execution_count": 76,
   "metadata": {},
   "outputs": [],
   "source": [
    "from rdkit import Chem\n",
    "from rdkit.Chem import AllChem\n",
    "from rdkit.Chem import MACCSkeys\n",
    "from rdkit.Chem import PandasTools as pt\n",
    "from rdkit.Chem import rdMolDescriptors\n",
    "from rdkit import DataStructs\n",
    "from rdkit import rdBase\n",
    "import pubchempy as pcp\n",
    "import pandas as pd\n",
    "import sklearn\n",
    "import matplotlib.pyplot as plt\n",
    "import numpy as np\n",
    "import seaborn as sns"
   ]
  },
  {
   "cell_type": "code",
   "execution_count": 73,
   "metadata": {},
   "outputs": [
    {
     "name": "stderr",
     "output_type": "stream",
     "text": [
      "[17:50:27] WARNING: not removing hydrogen atom without neighbors\n"
     ]
    },
    {
     "data": {
      "text/html": [
       "<div>\n",
       "<style scoped>\n",
       "    .dataframe tbody tr th:only-of-type {\n",
       "        vertical-align: middle;\n",
       "    }\n",
       "\n",
       "    .dataframe tbody tr th {\n",
       "        vertical-align: top;\n",
       "    }\n",
       "\n",
       "    .dataframe thead th {\n",
       "        text-align: right;\n",
       "    }\n",
       "</style>\n",
       "<table border=\"1\" class=\"dataframe\">\n",
       "  <thead>\n",
       "    <tr style=\"text-align: right;\">\n",
       "      <th></th>\n",
       "      <th>CID</th>\n",
       "      <th>HBondAcceptorCount</th>\n",
       "      <th>HBondDonorCount</th>\n",
       "      <th>IsomericSMILES</th>\n",
       "      <th>MolecularWeight</th>\n",
       "      <th>XLogP</th>\n",
       "      <th>drug_class</th>\n",
       "      <th>desalted_SMILES</th>\n",
       "      <th>Molecule</th>\n",
       "    </tr>\n",
       "  </thead>\n",
       "  <tbody>\n",
       "    <tr>\n",
       "      <th>0</th>\n",
       "      <td>24769</td>\n",
       "      <td>2</td>\n",
       "      <td>0</td>\n",
       "      <td>CN(C)CCCCCCN(C)C.C(CBr)CBr</td>\n",
       "      <td>374.205</td>\n",
       "      <td>NaN</td>\n",
       "      <td>hematologic</td>\n",
       "      <td>BrCCCBr.CN(C)CCCCCCN(C)C</td>\n",
       "      <td>&lt;rdkit.Chem.rdchem.Mol object at 0x0000029A5DB...</td>\n",
       "    </tr>\n",
       "    <tr>\n",
       "      <th>1</th>\n",
       "      <td>134694070</td>\n",
       "      <td>9</td>\n",
       "      <td>6</td>\n",
       "      <td>C1CN=C(N1)NC2=C(C3=NC=CN=C3C=C2)Br.[C@@H](C(C(...</td>\n",
       "      <td>442.226</td>\n",
       "      <td>NaN</td>\n",
       "      <td>cardio</td>\n",
       "      <td>Brc1c(NC2=NCCN2)ccc2nccnc12</td>\n",
       "      <td>&lt;rdkit.Chem.rdchem.Mol object at 0x0000029A702...</td>\n",
       "    </tr>\n",
       "    <tr>\n",
       "      <th>2</th>\n",
       "      <td>5121</td>\n",
       "      <td>2</td>\n",
       "      <td>0</td>\n",
       "      <td>C1CSC2=NC(CN21)C3=CC=C(C=C3)Br</td>\n",
       "      <td>283.187</td>\n",
       "      <td>2.5</td>\n",
       "      <td>antiinfective</td>\n",
       "      <td>Brc1ccc(C2CN3CCSC3=N2)cc1</td>\n",
       "      <td>&lt;rdkit.Chem.rdchem.Mol object at 0x0000029A702...</td>\n",
       "    </tr>\n",
       "    <tr>\n",
       "      <th>3</th>\n",
       "      <td>4660557</td>\n",
       "      <td>1</td>\n",
       "      <td>1</td>\n",
       "      <td>C1C2CC3CC1CC(C2)C3NC4=CC=C(C=C4)Br</td>\n",
       "      <td>306.247</td>\n",
       "      <td>5.0</td>\n",
       "      <td>cns</td>\n",
       "      <td>Brc1ccc(NC2C3CC4CC(C3)CC2C4)cc1</td>\n",
       "      <td>&lt;rdkit.Chem.rdchem.Mol object at 0x0000029A702...</td>\n",
       "    </tr>\n",
       "    <tr>\n",
       "      <th>4</th>\n",
       "      <td>122175</td>\n",
       "      <td>2</td>\n",
       "      <td>2</td>\n",
       "      <td>CC(CCC(C#C)N)N</td>\n",
       "      <td>126.203</td>\n",
       "      <td>-0.4</td>\n",
       "      <td>antineoplastic</td>\n",
       "      <td>C#CC(N)CCC(C)N</td>\n",
       "      <td>&lt;rdkit.Chem.rdchem.Mol object at 0x0000029A702...</td>\n",
       "    </tr>\n",
       "  </tbody>\n",
       "</table>\n",
       "</div>"
      ],
      "text/plain": [
       "         CID  HBondAcceptorCount  HBondDonorCount  \\\n",
       "0      24769                   2                0   \n",
       "1  134694070                   9                6   \n",
       "2       5121                   2                0   \n",
       "3    4660557                   1                1   \n",
       "4     122175                   2                2   \n",
       "\n",
       "                                      IsomericSMILES  MolecularWeight  XLogP  \\\n",
       "0                         CN(C)CCCCCCN(C)C.C(CBr)CBr          374.205    NaN   \n",
       "1  C1CN=C(N1)NC2=C(C3=NC=CN=C3C=C2)Br.[C@@H](C(C(...          442.226    NaN   \n",
       "2                     C1CSC2=NC(CN21)C3=CC=C(C=C3)Br          283.187    2.5   \n",
       "3                 C1C2CC3CC1CC(C2)C3NC4=CC=C(C=C4)Br          306.247    5.0   \n",
       "4                                     CC(CCC(C#C)N)N          126.203   -0.4   \n",
       "\n",
       "       drug_class                  desalted_SMILES  \\\n",
       "0     hematologic         BrCCCBr.CN(C)CCCCCCN(C)C   \n",
       "1          cardio      Brc1c(NC2=NCCN2)ccc2nccnc12   \n",
       "2   antiinfective        Brc1ccc(C2CN3CCSC3=N2)cc1   \n",
       "3             cns  Brc1ccc(NC2C3CC4CC(C3)CC2C4)cc1   \n",
       "4  antineoplastic                   C#CC(N)CCC(C)N   \n",
       "\n",
       "                                            Molecule  \n",
       "0  <rdkit.Chem.rdchem.Mol object at 0x0000029A5DB...  \n",
       "1  <rdkit.Chem.rdchem.Mol object at 0x0000029A702...  \n",
       "2  <rdkit.Chem.rdchem.Mol object at 0x0000029A702...  \n",
       "3  <rdkit.Chem.rdchem.Mol object at 0x0000029A702...  \n",
       "4  <rdkit.Chem.rdchem.Mol object at 0x0000029A702...  "
      ]
     },
     "execution_count": 73,
     "metadata": {},
     "output_type": "execute_result"
    }
   ],
   "source": [
    "drugs = pd.read_csv('CID_properties_nr.csv')\n",
    "pt.AddMoleculeColumnToFrame(frame=drugs,smilesCol='IsomericSMILES', molCol='Molecule')\n",
    "drugs.head()"
   ]
  },
  {
   "cell_type": "code",
   "execution_count": 27,
   "metadata": {},
   "outputs": [
    {
     "data": {
      "image/png": "[encoded data removed]",
      "text/plain": [
       "<rdkit.Chem.rdchem.Mol at 0x29a498a3bc0>"
      ]
     },
     "execution_count": 27,
     "metadata": {},
     "output_type": "execute_result"
    }
   ],
   "source": [
    "first_mol = drugs.iloc[0]['Molecule']\n",
    "first_mol"
   ]
  },
  {
   "cell_type": "code",
   "execution_count": 21,
   "metadata": {},
   "outputs": [],
   "source": [
    "from rdkit.Chem.rdMolDescriptors import (GetMorganFingerprint,\n",
    "                                         GetAtomPairFingerprint,\n",
    "                                         GetTopologicalTorsionFingerprint,\n",
    "                                         GetMACCSKeysFingerprint,\n",
    "                                         GetFeatureInvariants,\n",
    "                                         GetConnectivityInvariants)"
   ]
  },
  {
   "cell_type": "code",
   "execution_count": 48,
   "metadata": {},
   "outputs": [
    {
     "data": {
      "text/plain": [
       "'                                          GetAtomPairFingerprint,\\n                                         GetTopologicalTorsionFingerprint,\\n                                         GetMACCSKeysFingerprint,\\n                                         GetFeatureInvariants,\\n                                         GetConnectivityInvariants '"
      ]
     },
     "execution_count": 48,
     "metadata": {},
     "output_type": "execute_result"
    }
   ],
   "source": [
    "\"\"\" GetAtomPairFingerprint,\n",
    "GetTopologicalTorsionFingerprint,\n",
    "GetFeatureInvariants,\n",
    "GetConnectivityInvariants\n",
    "pubchem_fingerprints,\n",
    "cactvs_fingerprints \"\"\""
   ]
  },
  {
   "cell_type": "code",
   "execution_count": 47,
   "metadata": {},
   "outputs": [],
   "source": [
    "def compute_morgan_fp(mol, depth=2, nBits=2048):\n",
    "    a = np.zeros(nBits)\n",
    "    try:\n",
    "        DataStructs.ConvertToNumpyArray(AllChem.GetMorganFingerprintAsBitVect(mol,depth,nBits), a)\n",
    "    except:\n",
    "        return None\n",
    "    return a"
   ]
  },
  {
   "cell_type": "code",
   "execution_count": 74,
   "metadata": {},
   "outputs": [],
   "source": [
    "def compute_maccskeys(mol):\n",
    "    try:\n",
    "        mkeys = MACCSkeys.GenMACCSKeys(mol)   \n",
    "    except:\n",
    "        return None\n",
    "    return np.array(mkeys)"
   ]
  },
  {
   "cell_type": "code",
   "execution_count": 85,
   "metadata": {},
   "outputs": [],
   "source": [
    "def compute_atom_pair_fp(mol):\n",
    "    try:\n",
    "        atom_pair_fp = rdMolDescriptors.GetHashedAtomPairFingerprintAsBitVect(first_mol, nBits = 512)\n",
    "    except:\n",
    "        return None\n",
    "    return np.array(atom_pair_fp)"
   ]
  },
  {
   "cell_type": "code",
   "execution_count": 59,
   "metadata": {},
   "outputs": [
    {
     "data": {
      "text/plain": [
       "array([0, 0, 0, 0, 0, 0, 0, 0, 0, 0, 0, 0, 0, 0, 0, 0, 0, 0, 0, 0, 0, 0,\n",
       "       0, 0, 0, 0, 0, 0, 0, 0, 0, 0, 0, 0, 0, 0, 0, 0, 0, 0, 0, 0, 0, 0,\n",
       "       0, 0, 1, 0, 0, 0, 0, 0, 0, 0, 0, 0, 0, 0, 0, 0, 0, 0, 0, 0, 0, 0,\n",
       "       0, 0, 0, 0, 0, 0, 0, 0, 1, 0, 0, 0, 0, 0, 0, 0, 0, 0, 0, 1, 1, 0,\n",
       "       0, 0, 0, 0, 0, 1, 0, 0, 0, 0, 0, 0, 1, 0, 0, 0, 0, 0, 0, 0, 1, 0,\n",
       "       0, 1, 0, 0, 0, 1, 1, 0, 1, 0, 0, 0, 1, 0, 0, 0, 0, 0, 1, 1, 0, 0,\n",
       "       0, 0, 1, 0, 0, 0, 1, 0, 0, 1, 1, 0, 0, 0, 0, 1, 1, 1, 0, 0, 0, 1,\n",
       "       0, 1, 0, 0, 1, 0, 1, 1, 0, 0, 0, 0, 1])"
      ]
     },
     "execution_count": 59,
     "metadata": {},
     "output_type": "execute_result"
    }
   ],
   "source": [
    "#celda probar funciones\n",
    "compute_maccskeys(first_mol)"
   ]
  },
  {
   "cell_type": "code",
   "execution_count": 66,
   "metadata": {},
   "outputs": [
    {
     "data": {
      "text/html": [
       "<div>\n",
       "<style scoped>\n",
       "    .dataframe tbody tr th:only-of-type {\n",
       "        vertical-align: middle;\n",
       "    }\n",
       "\n",
       "    .dataframe tbody tr th {\n",
       "        vertical-align: top;\n",
       "    }\n",
       "\n",
       "    .dataframe thead th {\n",
       "        text-align: right;\n",
       "    }\n",
       "</style>\n",
       "<table border=\"1\" class=\"dataframe\">\n",
       "  <thead>\n",
       "    <tr style=\"text-align: right;\">\n",
       "      <th></th>\n",
       "      <th>CID</th>\n",
       "      <th>Molecule</th>\n",
       "      <th>drug_class</th>\n",
       "    </tr>\n",
       "  </thead>\n",
       "  <tbody>\n",
       "    <tr>\n",
       "      <th>0</th>\n",
       "      <td>24769</td>\n",
       "      <td>&lt;rdkit.Chem.rdchem.Mol object at 0x0000029A498...</td>\n",
       "      <td>hematologic</td>\n",
       "    </tr>\n",
       "    <tr>\n",
       "      <th>1</th>\n",
       "      <td>134694070</td>\n",
       "      <td>&lt;rdkit.Chem.rdchem.Mol object at 0x0000029A498...</td>\n",
       "      <td>cardio</td>\n",
       "    </tr>\n",
       "    <tr>\n",
       "      <th>2</th>\n",
       "      <td>5121</td>\n",
       "      <td>&lt;rdkit.Chem.rdchem.Mol object at 0x0000029A498...</td>\n",
       "      <td>antiinfective</td>\n",
       "    </tr>\n",
       "    <tr>\n",
       "      <th>3</th>\n",
       "      <td>4660557</td>\n",
       "      <td>&lt;rdkit.Chem.rdchem.Mol object at 0x0000029A498...</td>\n",
       "      <td>cns</td>\n",
       "    </tr>\n",
       "    <tr>\n",
       "      <th>4</th>\n",
       "      <td>122175</td>\n",
       "      <td>&lt;rdkit.Chem.rdchem.Mol object at 0x0000029A498...</td>\n",
       "      <td>antineoplastic</td>\n",
       "    </tr>\n",
       "  </tbody>\n",
       "</table>\n",
       "</div>"
      ],
      "text/plain": [
       "         CID                                           Molecule  \\\n",
       "0      24769  <rdkit.Chem.rdchem.Mol object at 0x0000029A498...   \n",
       "1  134694070  <rdkit.Chem.rdchem.Mol object at 0x0000029A498...   \n",
       "2       5121  <rdkit.Chem.rdchem.Mol object at 0x0000029A498...   \n",
       "3    4660557  <rdkit.Chem.rdchem.Mol object at 0x0000029A498...   \n",
       "4     122175  <rdkit.Chem.rdchem.Mol object at 0x0000029A498...   \n",
       "\n",
       "       drug_class  \n",
       "0     hematologic  \n",
       "1          cardio  \n",
       "2   antiinfective  \n",
       "3             cns  \n",
       "4  antineoplastic  "
      ]
     },
     "execution_count": 66,
     "metadata": {},
     "output_type": "execute_result"
    }
   ],
   "source": [
    "drug_ids = drugs[['CID','Molecule','drug_class']]\n",
    "drug_ids.head()"
   ]
  },
  {
   "cell_type": "code",
   "execution_count": 84,
   "metadata": {},
   "outputs": [],
   "source": [
    "drug_ids['Morgan2FP'] = drug_ids['Molecule'].map(compute_morgan_fp)\n",
    "drug_ids['MACCSKeys'] = drug_ids['Molecule'].map(compute_maccskeys)\n"
   ]
  },
  {
   "cell_type": "code",
   "execution_count": 86,
   "metadata": {},
   "outputs": [],
   "source": [
    "drug_ids['AtomPairFP'] = drug_ids['Molecule'].map(compute_atom_pair_fp)"
   ]
  },
  {
   "cell_type": "code",
   "execution_count": 87,
   "metadata": {},
   "outputs": [
    {
     "data": {
      "text/html": [
       "<div>\n",
       "<style scoped>\n",
       "    .dataframe tbody tr th:only-of-type {\n",
       "        vertical-align: middle;\n",
       "    }\n",
       "\n",
       "    .dataframe tbody tr th {\n",
       "        vertical-align: top;\n",
       "    }\n",
       "\n",
       "    .dataframe thead th {\n",
       "        text-align: right;\n",
       "    }\n",
       "</style>\n",
       "<table border=\"1\" class=\"dataframe\">\n",
       "  <thead>\n",
       "    <tr style=\"text-align: right;\">\n",
       "      <th></th>\n",
       "      <th>CID</th>\n",
       "      <th>Molecule</th>\n",
       "      <th>drug_class</th>\n",
       "      <th>Morgan2FP</th>\n",
       "      <th>MACCSKeys</th>\n",
       "      <th>AtomPairFP</th>\n",
       "    </tr>\n",
       "  </thead>\n",
       "  <tbody>\n",
       "    <tr>\n",
       "      <th>0</th>\n",
       "      <td>24769</td>\n",
       "      <td>&lt;rdkit.Chem.rdchem.Mol object at 0x0000029A498...</td>\n",
       "      <td>hematologic</td>\n",
       "      <td>[0.0, 0.0, 0.0, 0.0, 0.0, 0.0, 0.0, 0.0, 0.0, ...</td>\n",
       "      <td>[0, 0, 0, 0, 0, 0, 0, 0, 0, 0, 0, 0, 0, 0, 0, ...</td>\n",
       "      <td>[0, 0, 0, 0, 0, 0, 0, 0, 0, 0, 0, 0, 0, 0, 0, ...</td>\n",
       "    </tr>\n",
       "    <tr>\n",
       "      <th>1</th>\n",
       "      <td>134694070</td>\n",
       "      <td>&lt;rdkit.Chem.rdchem.Mol object at 0x0000029A498...</td>\n",
       "      <td>cardio</td>\n",
       "      <td>[0.0, 1.0, 0.0, 0.0, 0.0, 0.0, 0.0, 0.0, 0.0, ...</td>\n",
       "      <td>[0, 0, 0, 0, 0, 0, 0, 0, 0, 0, 0, 0, 0, 0, 0, ...</td>\n",
       "      <td>[0, 0, 0, 0, 0, 0, 0, 0, 0, 0, 0, 0, 0, 0, 0, ...</td>\n",
       "    </tr>\n",
       "    <tr>\n",
       "      <th>2</th>\n",
       "      <td>5121</td>\n",
       "      <td>&lt;rdkit.Chem.rdchem.Mol object at 0x0000029A498...</td>\n",
       "      <td>antiinfective</td>\n",
       "      <td>[0.0, 0.0, 0.0, 0.0, 0.0, 0.0, 0.0, 0.0, 0.0, ...</td>\n",
       "      <td>[0, 0, 0, 0, 0, 0, 0, 0, 0, 0, 0, 0, 0, 0, 0, ...</td>\n",
       "      <td>[0, 0, 0, 0, 0, 0, 0, 0, 0, 0, 0, 0, 0, 0, 0, ...</td>\n",
       "    </tr>\n",
       "    <tr>\n",
       "      <th>3</th>\n",
       "      <td>4660557</td>\n",
       "      <td>&lt;rdkit.Chem.rdchem.Mol object at 0x0000029A498...</td>\n",
       "      <td>cns</td>\n",
       "      <td>[0.0, 0.0, 0.0, 0.0, 0.0, 0.0, 0.0, 0.0, 0.0, ...</td>\n",
       "      <td>[0, 0, 0, 0, 0, 0, 0, 0, 0, 0, 0, 0, 0, 0, 0, ...</td>\n",
       "      <td>[0, 0, 0, 0, 0, 0, 0, 0, 0, 0, 0, 0, 0, 0, 0, ...</td>\n",
       "    </tr>\n",
       "    <tr>\n",
       "      <th>4</th>\n",
       "      <td>122175</td>\n",
       "      <td>&lt;rdkit.Chem.rdchem.Mol object at 0x0000029A498...</td>\n",
       "      <td>antineoplastic</td>\n",
       "      <td>[0.0, 1.0, 0.0, 0.0, 0.0, 0.0, 0.0, 0.0, 0.0, ...</td>\n",
       "      <td>[0, 0, 0, 0, 0, 0, 0, 0, 0, 0, 0, 0, 0, 0, 0, ...</td>\n",
       "      <td>[0, 0, 0, 0, 0, 0, 0, 0, 0, 0, 0, 0, 0, 0, 0, ...</td>\n",
       "    </tr>\n",
       "  </tbody>\n",
       "</table>\n",
       "</div>"
      ],
      "text/plain": [
       "         CID                                           Molecule  \\\n",
       "0      24769  <rdkit.Chem.rdchem.Mol object at 0x0000029A498...   \n",
       "1  134694070  <rdkit.Chem.rdchem.Mol object at 0x0000029A498...   \n",
       "2       5121  <rdkit.Chem.rdchem.Mol object at 0x0000029A498...   \n",
       "3    4660557  <rdkit.Chem.rdchem.Mol object at 0x0000029A498...   \n",
       "4     122175  <rdkit.Chem.rdchem.Mol object at 0x0000029A498...   \n",
       "\n",
       "       drug_class                                          Morgan2FP  \\\n",
       "0     hematologic  [0.0, 0.0, 0.0, 0.0, 0.0, 0.0, 0.0, 0.0, 0.0, ...   \n",
       "1          cardio  [0.0, 1.0, 0.0, 0.0, 0.0, 0.0, 0.0, 0.0, 0.0, ...   \n",
       "2   antiinfective  [0.0, 0.0, 0.0, 0.0, 0.0, 0.0, 0.0, 0.0, 0.0, ...   \n",
       "3             cns  [0.0, 0.0, 0.0, 0.0, 0.0, 0.0, 0.0, 0.0, 0.0, ...   \n",
       "4  antineoplastic  [0.0, 1.0, 0.0, 0.0, 0.0, 0.0, 0.0, 0.0, 0.0, ...   \n",
       "\n",
       "                                           MACCSKeys  \\\n",
       "0  [0, 0, 0, 0, 0, 0, 0, 0, 0, 0, 0, 0, 0, 0, 0, ...   \n",
       "1  [0, 0, 0, 0, 0, 0, 0, 0, 0, 0, 0, 0, 0, 0, 0, ...   \n",
       "2  [0, 0, 0, 0, 0, 0, 0, 0, 0, 0, 0, 0, 0, 0, 0, ...   \n",
       "3  [0, 0, 0, 0, 0, 0, 0, 0, 0, 0, 0, 0, 0, 0, 0, ...   \n",
       "4  [0, 0, 0, 0, 0, 0, 0, 0, 0, 0, 0, 0, 0, 0, 0, ...   \n",
       "\n",
       "                                          AtomPairFP  \n",
       "0  [0, 0, 0, 0, 0, 0, 0, 0, 0, 0, 0, 0, 0, 0, 0, ...  \n",
       "1  [0, 0, 0, 0, 0, 0, 0, 0, 0, 0, 0, 0, 0, 0, 0, ...  \n",
       "2  [0, 0, 0, 0, 0, 0, 0, 0, 0, 0, 0, 0, 0, 0, 0, ...  \n",
       "3  [0, 0, 0, 0, 0, 0, 0, 0, 0, 0, 0, 0, 0, 0, 0, ...  \n",
       "4  [0, 0, 0, 0, 0, 0, 0, 0, 0, 0, 0, 0, 0, 0, 0, ...  "
      ]
     },
     "execution_count": 87,
     "metadata": {},
     "output_type": "execute_result"
    }
   ],
   "source": [
    "drug_ids.head()"
   ]
  },
  {
   "cell_type": "code",
   "execution_count": 88,
   "metadata": {},
   "outputs": [],
   "source": [
    "drug_ids.to_pickle('morgan_and_mac.pkl')"
   ]
  },
  {
   "cell_type": "code",
   "execution_count": null,
   "metadata": {},
   "outputs": [],
   "source": []
  }
 ],
 "metadata": {
  "kernelspec": {
   "display_name": "kedro-environment",
   "language": "python",
   "name": "python3"
  },
  "language_info": {
   "codemirror_mode": {
    "name": "ipython",
    "version": 3
   },
   "file_extension": ".py",
   "mimetype": "text/x-python",
   "name": "python",
   "nbconvert_exporter": "python",
   "pygments_lexer": "ipython3",
   "version": "3.10.9"
  },
  "orig_nbformat": 4
 },
 "nbformat": 4,
 "nbformat_minor": 2
}
