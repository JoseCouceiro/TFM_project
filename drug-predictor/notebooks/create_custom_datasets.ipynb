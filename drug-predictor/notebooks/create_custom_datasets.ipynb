{
 "cells": [
  {
   "cell_type": "markdown",
   "metadata": {},
   "source": [
    "### Creating custom datasets to run in Kedro\n",
    "In this notebook, some feature enginering is performed to obtain a dataset containing only the four major labels and another dataset with a more balaned distribution of labels."
   ]
  },
  {
   "cell_type": "markdown",
   "metadata": {},
   "source": [
    "### Imports and loads"
   ]
  },
  {
   "cell_type": "code",
   "execution_count": 1,
   "metadata": {},
   "outputs": [],
   "source": [
    "import os\n",
    "import numpy as np\n",
    "import pandas as pd"
   ]
  },
  {
   "cell_type": "code",
   "execution_count": 3,
   "metadata": {},
   "outputs": [],
   "source": [
    "drugs = pd.read_csv(os.path.join('..', 'data', '03_primary', 'all_drugs_dataset.csv'))"
   ]
  },
  {
   "cell_type": "markdown",
   "metadata": {},
   "source": [
    "### 4-label dataset"
   ]
  },
  {
   "cell_type": "code",
   "execution_count": 47,
   "metadata": {},
   "outputs": [],
   "source": [
    "major_labels = drugs.groupby('MATC_Code_Explanation').count().sort_values('MATC_Code_Short', ascending=False)['MATC_Code_Short'][:4]"
   ]
  },
  {
   "cell_type": "code",
   "execution_count": 48,
   "metadata": {},
   "outputs": [
    {
     "data": {
      "text/plain": [
       "MATC_Code_Explanation\n",
       "Antiinfectives for systemic use               2552\n",
       "Nervous system                                1475\n",
       "Antineoplastic and immunomodulating agents    1414\n",
       "Cardiovascular system                         1047\n",
       "Name: MATC_Code_Short, dtype: int64"
      ]
     },
     "execution_count": 48,
     "metadata": {},
     "output_type": "execute_result"
    }
   ],
   "source": [
    "major_labels"
   ]
  },
  {
   "cell_type": "code",
   "execution_count": 8,
   "metadata": {},
   "outputs": [],
   "source": [
    "major_drugs = drugs.loc[drugs.apply(lambda x: x['MATC_Code_Explanation'] in major_labels, axis=1)].reset_index()"
   ]
  },
  {
   "cell_type": "code",
   "execution_count": 20,
   "metadata": {},
   "outputs": [],
   "source": [
    "major_labels_list = major_drugs['MATC_Code_Short'].unique()"
   ]
  },
  {
   "cell_type": "code",
   "execution_count": 21,
   "metadata": {},
   "outputs": [],
   "source": [
    "major_drugs.to_csv(os.path.join('..', 'data', '03_primary', 'major_drugs_dataset.csv'), index=None)"
   ]
  },
  {
   "cell_type": "markdown",
   "metadata": {},
   "source": [
    "### Label-balanced dataset"
   ]
  },
  {
   "cell_type": "code",
   "execution_count": 17,
   "metadata": {},
   "outputs": [
    {
     "data": {
      "text/plain": [
       "MATC_Code_Short\n",
       "H     108\n",
       "P     141\n",
       "O     145\n",
       "S     152\n",
       "M     174\n",
       "I     277\n",
       "V     288\n",
       "G     305\n",
       "R     317\n",
       "D     346\n",
       "B     425\n",
       "A     753\n",
       "C    1047\n",
       "L    1414\n",
       "N    1475\n",
       "J    2552\n",
       "Name: CID, dtype: int64"
      ]
     },
     "execution_count": 17,
     "metadata": {},
     "output_type": "execute_result"
    }
   ],
   "source": [
    "drugs.groupby('MATC_Code_Short').count().sort_values('CID')['CID']"
   ]
  },
  {
   "cell_type": "code",
   "execution_count": 18,
   "metadata": {},
   "outputs": [
    {
     "data": {
      "text/plain": [
       "311.0"
      ]
     },
     "execution_count": 18,
     "metadata": {},
     "output_type": "execute_result"
    }
   ],
   "source": [
    "drugs.groupby('MATC_Code_Short').count().sort_values('CID')['CID'].median()"
   ]
  },
  {
   "cell_type": "code",
   "execution_count": 50,
   "metadata": {},
   "outputs": [
    {
     "data": {
      "text/plain": [
       "array(['C', 'J', 'N', 'L', 'A'], dtype=object)"
      ]
     },
     "execution_count": 50,
     "metadata": {},
     "output_type": "execute_result"
    }
   ],
   "source": [
    "major_labels = drugs.groupby('MATC_Code_Explanation').count().sort_values('MATC_Code_Short', ascending=False)['MATC_Code_Short'][:5]\n",
    "major_drugs = drugs.loc[drugs.apply(lambda x: x['MATC_Code_Explanation'] in major_labels, axis=1)].reset_index()\n",
    "major_labels_list = major_drugs['MATC_Code_Short'].unique()\n",
    "major_labels_list"
   ]
  },
  {
   "cell_type": "code",
   "execution_count": 51,
   "metadata": {},
   "outputs": [],
   "source": [
    "balanced_labels = drugs.loc[drugs.apply(lambda x: x['MATC_Code_Short'] not in major_labels_list, axis=1)].reset_index()"
   ]
  },
  {
   "cell_type": "code",
   "execution_count": 52,
   "metadata": {},
   "outputs": [
    {
     "data": {
      "text/plain": [
       "array(['B', 'G', 'D', 'I', 'O', 'R', 'S', 'P', 'V', 'M', 'H'],\n",
       "      dtype=object)"
      ]
     },
     "execution_count": 52,
     "metadata": {},
     "output_type": "execute_result"
    }
   ],
   "source": [
    "balanced_labels['MATC_Code_Short'].unique()"
   ]
  },
  {
   "cell_type": "code",
   "execution_count": 53,
   "metadata": {},
   "outputs": [],
   "source": [
    "for label in major_labels_list:\n",
    "    label_df = drugs[drugs['MATC_Code_Short']==label].sample(311)\n",
    "    balanced_labels = pd.concat([balanced_labels, label_df], axis=0)"
   ]
  },
  {
   "cell_type": "code",
   "execution_count": 54,
   "metadata": {},
   "outputs": [
    {
     "name": "stdout",
     "output_type": "stream",
     "text": [
      "<class 'pandas.core.frame.DataFrame'>\n",
      "Index: 4233 entries, 0 to 2713\n",
      "Data columns (total 10 columns):\n",
      " #   Column                 Non-Null Count  Dtype  \n",
      "---  ------                 --------------  -----  \n",
      " 0   index                  2678 non-null   float64\n",
      " 1   CID                    4233 non-null   int64  \n",
      " 2   HBondAcceptorCount     4233 non-null   float64\n",
      " 3   HBondDonorCount        4233 non-null   float64\n",
      " 4   IsomericSMILES         4233 non-null   object \n",
      " 5   MolecularWeight        4233 non-null   float64\n",
      " 6   LogP                   3134 non-null   float64\n",
      " 7   RuleFive               4233 non-null   float64\n",
      " 8   MATC_Code_Short        4233 non-null   object \n",
      " 9   MATC_Code_Explanation  4233 non-null   object \n",
      "dtypes: float64(6), int64(1), object(3)\n",
      "memory usage: 363.8+ KB\n"
     ]
    }
   ],
   "source": [
    "balanced_labels.info()"
   ]
  },
  {
   "cell_type": "code",
   "execution_count": 55,
   "metadata": {},
   "outputs": [
    {
     "data": {
      "text/plain": [
       "MATC_Code_Short\n",
       "H    108\n",
       "P    141\n",
       "O    145\n",
       "S    152\n",
       "M    174\n",
       "I    277\n",
       "V    288\n",
       "G    305\n",
       "A    311\n",
       "C    311\n",
       "J    311\n",
       "L    311\n",
       "N    311\n",
       "R    317\n",
       "D    346\n",
       "B    425\n",
       "Name: CID, dtype: int64"
      ]
     },
     "execution_count": 55,
     "metadata": {},
     "output_type": "execute_result"
    }
   ],
   "source": [
    "balanced_labels.groupby('MATC_Code_Short').count().sort_values('CID')['CID']"
   ]
  },
  {
   "cell_type": "code",
   "execution_count": 34,
   "metadata": {},
   "outputs": [],
   "source": [
    "balanced_labels = balanced_labels.drop('index', axis=1)"
   ]
  },
  {
   "cell_type": "code",
   "execution_count": 56,
   "metadata": {},
   "outputs": [
    {
     "name": "stdout",
     "output_type": "stream",
     "text": [
      "<class 'pandas.core.frame.DataFrame'>\n",
      "Index: 4233 entries, 0 to 2713\n",
      "Data columns (total 10 columns):\n",
      " #   Column                 Non-Null Count  Dtype  \n",
      "---  ------                 --------------  -----  \n",
      " 0   index                  2678 non-null   float64\n",
      " 1   CID                    4233 non-null   int64  \n",
      " 2   HBondAcceptorCount     4233 non-null   float64\n",
      " 3   HBondDonorCount        4233 non-null   float64\n",
      " 4   IsomericSMILES         4233 non-null   object \n",
      " 5   MolecularWeight        4233 non-null   float64\n",
      " 6   LogP                   3134 non-null   float64\n",
      " 7   RuleFive               4233 non-null   float64\n",
      " 8   MATC_Code_Short        4233 non-null   object \n",
      " 9   MATC_Code_Explanation  4233 non-null   object \n",
      "dtypes: float64(6), int64(1), object(3)\n",
      "memory usage: 363.8+ KB\n"
     ]
    }
   ],
   "source": [
    "balanced_labels.info()"
   ]
  },
  {
   "cell_type": "code",
   "execution_count": 58,
   "metadata": {},
   "outputs": [],
   "source": [
    "#balanced_labels.to_csv(os.path.join('..', 'data', '03_primary', 'balanced_dataset.csv'), index=None)"
   ]
  }
 ],
 "metadata": {
  "kernelspec": {
   "display_name": "kedro-rebuild",
   "language": "python",
   "name": "python3"
  },
  "language_info": {
   "codemirror_mode": {
    "name": "ipython",
    "version": 3
   },
   "file_extension": ".py",
   "mimetype": "text/x-python",
   "name": "python",
   "nbconvert_exporter": "python",
   "pygments_lexer": "ipython3",
   "version": "3.10.12"
  }
 },
 "nbformat": 4,
 "nbformat_minor": 2
}
