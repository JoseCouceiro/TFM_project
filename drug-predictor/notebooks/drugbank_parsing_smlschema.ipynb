{
 "cells": [
  {
   "cell_type": "markdown",
   "metadata": {},
   "source": [
    "### Parsing Drugbank Xml File\n",
    "This notebook can be used to parse the xml file provided by Drugbank and turn it into a python dictionary which can be stored as a json file.\n",
    "This json file is the one used by Drug Predictor Kedro application"
   ]
  },
  {
   "attachments": {},
   "cell_type": "markdown",
   "metadata": {},
   "source": [
    "#### Imports and loads"
   ]
  },
  {
   "cell_type": "code",
   "execution_count": 4,
   "metadata": {},
   "outputs": [],
   "source": [
    "import os\n",
    "import json\n",
    "import xmlschema"
   ]
  },
  {
   "attachments": {},
   "cell_type": "markdown",
   "metadata": {},
   "source": [
    "### Parse with the schema .xsd file"
   ]
  },
  {
   "cell_type": "code",
   "execution_count": 5,
   "metadata": {},
   "outputs": [],
   "source": [
    "my_schema = xmlschema.XMLSchema(os.path.join('drugbank_schema.xsd'))"
   ]
  },
  {
   "cell_type": "code",
   "execution_count": 8,
   "metadata": {},
   "outputs": [
    {
     "ename": "KeyboardInterrupt",
     "evalue": "",
     "output_type": "error",
     "traceback": [
      "\u001b[1;31m---------------------------------------------------------------------------\u001b[0m",
      "\u001b[1;31mKeyboardInterrupt\u001b[0m                         Traceback (most recent call last)",
      "\u001b[1;32mc:\\Users\\josin\\GitRepositories\\TFM_project\\drug-predictor\\notebooks\\drugbank_parsing_smlschema.ipynb Cell 7\u001b[0m line \u001b[0;36m1\n\u001b[1;32m----> <a href='vscode-notebook-cell:/c%3A/Users/josin/GitRepositories/TFM_project/drug-predictor/notebooks/drugbank_parsing_smlschema.ipynb#W5sZmlsZQ%3D%3D?line=0'>1</a>\u001b[0m my_schema\u001b[39m.\u001b[39;49mis_valid(os\u001b[39m.\u001b[39;49mpath\u001b[39m.\u001b[39;49mjoin(\u001b[39m'\u001b[39;49m\u001b[39mfull database.xml\u001b[39;49m\u001b[39m'\u001b[39;49m))\n",
      "File \u001b[1;32mc:\\Users\\josin\\anaconda3\\envs\\kedro-rebuild\\lib\\site-packages\\xmlschema\\validators\\schemas.py:1717\u001b[0m, in \u001b[0;36mXMLSchemaBase.is_valid\u001b[1;34m(self, source, path, schema_path, use_defaults, namespaces, max_depth, extra_validator, allow_empty)\u001b[0m\n\u001b[0;32m   1705\u001b[0m \u001b[39mdef\u001b[39;00m \u001b[39mis_valid\u001b[39m(\u001b[39mself\u001b[39m, source: Union[XMLSourceType, XMLResource],\n\u001b[0;32m   1706\u001b[0m              path: Optional[\u001b[39mstr\u001b[39m] \u001b[39m=\u001b[39m \u001b[39mNone\u001b[39;00m,\n\u001b[0;32m   1707\u001b[0m              schema_path: Optional[\u001b[39mstr\u001b[39m] \u001b[39m=\u001b[39m \u001b[39mNone\u001b[39;00m,\n\u001b[1;32m   (...)\u001b[0m\n\u001b[0;32m   1711\u001b[0m              extra_validator: Optional[ExtraValidatorType] \u001b[39m=\u001b[39m \u001b[39mNone\u001b[39;00m,\n\u001b[0;32m   1712\u001b[0m              allow_empty: \u001b[39mbool\u001b[39m \u001b[39m=\u001b[39m \u001b[39mTrue\u001b[39;00m) \u001b[39m-\u001b[39m\u001b[39m>\u001b[39m \u001b[39mbool\u001b[39m:\n\u001b[0;32m   1713\u001b[0m \u001b[39m    \u001b[39m\u001b[39m\"\"\"\u001b[39;00m\n\u001b[0;32m   1714\u001b[0m \u001b[39m    Like :meth:`validate` except that does not raise an exception but returns\u001b[39;00m\n\u001b[0;32m   1715\u001b[0m \u001b[39m    ``True`` if the XML data instance is valid, ``False`` if it is invalid.\u001b[39;00m\n\u001b[0;32m   1716\u001b[0m \u001b[39m    \"\"\"\u001b[39;00m\n\u001b[1;32m-> 1717\u001b[0m     error \u001b[39m=\u001b[39m \u001b[39mnext\u001b[39;49m(\u001b[39mself\u001b[39;49m\u001b[39m.\u001b[39;49miter_errors(source, path, schema_path, use_defaults, namespaces,\n\u001b[0;32m   1718\u001b[0m                                   max_depth, extra_validator, allow_empty), \u001b[39mNone\u001b[39;49;00m)\n\u001b[0;32m   1719\u001b[0m     \u001b[39mreturn\u001b[39;00m error \u001b[39mis\u001b[39;00m \u001b[39mNone\u001b[39;00m\n",
      "File \u001b[1;32mc:\\Users\\josin\\anaconda3\\envs\\kedro-rebuild\\lib\\site-packages\\xmlschema\\validators\\schemas.py:1738\u001b[0m, in \u001b[0;36mXMLSchemaBase.iter_errors\u001b[1;34m(self, source, path, schema_path, use_defaults, namespaces, max_depth, extra_validator, allow_empty)\u001b[0m\n\u001b[0;32m   1736\u001b[0m     resource: XMLResource \u001b[39m=\u001b[39m source\n\u001b[0;32m   1737\u001b[0m \u001b[39melse\u001b[39;00m:\n\u001b[1;32m-> 1738\u001b[0m     resource \u001b[39m=\u001b[39m XMLResource(source, defuse\u001b[39m=\u001b[39;49m\u001b[39mself\u001b[39;49m\u001b[39m.\u001b[39;49mdefuse, timeout\u001b[39m=\u001b[39;49m\u001b[39mself\u001b[39;49m\u001b[39m.\u001b[39;49mtimeout)\n\u001b[0;32m   1740\u001b[0m \u001b[39mif\u001b[39;00m \u001b[39mnot\u001b[39;00m schema_path:\n\u001b[0;32m   1741\u001b[0m     schema_path \u001b[39m=\u001b[39m resource\u001b[39m.\u001b[39mget_absolute_path(path)\n",
      "File \u001b[1;32mc:\\Users\\josin\\anaconda3\\envs\\kedro-rebuild\\lib\\site-packages\\xmlschema\\resources.py:482\u001b[0m, in \u001b[0;36mXMLResource.__init__\u001b[1;34m(self, source, base_url, allow, defuse, timeout, lazy)\u001b[0m\n\u001b[0;32m    479\u001b[0m     \u001b[39mraise\u001b[39;00m XMLSchemaValueError(msg)\n\u001b[0;32m    480\u001b[0m \u001b[39mself\u001b[39m\u001b[39m.\u001b[39m_timeout \u001b[39m=\u001b[39m timeout\n\u001b[1;32m--> 482\u001b[0m \u001b[39mself\u001b[39;49m\u001b[39m.\u001b[39;49mparse(source, lazy)\n",
      "File \u001b[1;32mc:\\Users\\josin\\anaconda3\\envs\\kedro-rebuild\\lib\\site-packages\\xmlschema\\resources.py:744\u001b[0m, in \u001b[0;36mXMLResource.parse\u001b[1;34m(self, source, lazy)\u001b[0m\n\u001b[0;32m    741\u001b[0m \u001b[39mself\u001b[39m\u001b[39m.\u001b[39m_access_control(url)\n\u001b[0;32m    743\u001b[0m \u001b[39mwith\u001b[39;00m urlopen(url, timeout\u001b[39m=\u001b[39m\u001b[39mself\u001b[39m\u001b[39m.\u001b[39m_timeout) \u001b[39mas\u001b[39;00m resource:\n\u001b[1;32m--> 744\u001b[0m     \u001b[39mself\u001b[39;49m\u001b[39m.\u001b[39;49m_parse_resource(resource, url, lazy)\n\u001b[0;32m    746\u001b[0m \u001b[39mself\u001b[39m\u001b[39m.\u001b[39m_text \u001b[39m=\u001b[39m \u001b[39mNone\u001b[39;00m\n\u001b[0;32m    747\u001b[0m \u001b[39mself\u001b[39m\u001b[39m.\u001b[39m_lazy \u001b[39m=\u001b[39m lazy\n",
      "File \u001b[1;32mc:\\Users\\josin\\anaconda3\\envs\\kedro-rebuild\\lib\\site-packages\\xmlschema\\resources.py:716\u001b[0m, in \u001b[0;36mXMLResource._parse_resource\u001b[1;34m(self, resource, url, lazy)\u001b[0m\n\u001b[0;32m    714\u001b[0m \u001b[39mtry\u001b[39;00m:\n\u001b[0;32m    715\u001b[0m     \u001b[39mif\u001b[39;00m \u001b[39mnot\u001b[39;00m lazy:\n\u001b[1;32m--> 716\u001b[0m         \u001b[39mself\u001b[39;49m\u001b[39m.\u001b[39;49m_parse(resource)\n\u001b[0;32m    717\u001b[0m     \u001b[39melse\u001b[39;00m:\n\u001b[0;32m    718\u001b[0m         nsmap: List[Tuple[\u001b[39mstr\u001b[39m, \u001b[39mstr\u001b[39m]] \u001b[39m=\u001b[39m []\n",
      "File \u001b[1;32mc:\\Users\\josin\\anaconda3\\envs\\kedro-rebuild\\lib\\site-packages\\xmlschema\\resources.py:690\u001b[0m, in \u001b[0;36mXMLResource._parse\u001b[1;34m(self, resource)\u001b[0m\n\u001b[0;32m    687\u001b[0m namespaces \u001b[39m=\u001b[39m {}\n\u001b[0;32m    688\u001b[0m events \u001b[39m=\u001b[39m \u001b[39m'\u001b[39m\u001b[39mstart-ns\u001b[39m\u001b[39m'\u001b[39m, \u001b[39m'\u001b[39m\u001b[39mend-ns\u001b[39m\u001b[39m'\u001b[39m, \u001b[39m'\u001b[39m\u001b[39mend\u001b[39m\u001b[39m'\u001b[39m\n\u001b[1;32m--> 690\u001b[0m \u001b[39mfor\u001b[39;00m event, node \u001b[39min\u001b[39;00m ElementTree\u001b[39m.\u001b[39miterparse(resource, events):\n\u001b[0;32m    691\u001b[0m     \u001b[39mif\u001b[39;00m event \u001b[39m==\u001b[39m \u001b[39m'\u001b[39m\u001b[39mend\u001b[39m\u001b[39m'\u001b[39m:\n\u001b[0;32m    692\u001b[0m         \u001b[39mif\u001b[39;00m nsmap_changed \u001b[39mor\u001b[39;00m elem \u001b[39mis\u001b[39;00m \u001b[39mNone\u001b[39;00m:\n",
      "File \u001b[1;32mc:\\Users\\josin\\anaconda3\\envs\\kedro-rebuild\\lib\\xml\\etree\\ElementTree.py:1258\u001b[0m, in \u001b[0;36miterparse.<locals>.iterator\u001b[1;34m(source)\u001b[0m\n\u001b[0;32m   1256\u001b[0m     \u001b[39mif\u001b[39;00m \u001b[39mnot\u001b[39;00m data:\n\u001b[0;32m   1257\u001b[0m         \u001b[39mbreak\u001b[39;00m\n\u001b[1;32m-> 1258\u001b[0m     pullparser\u001b[39m.\u001b[39;49mfeed(data)\n\u001b[0;32m   1259\u001b[0m root \u001b[39m=\u001b[39m pullparser\u001b[39m.\u001b[39m_close_and_return_root()\n\u001b[0;32m   1260\u001b[0m \u001b[39myield from\u001b[39;00m pullparser\u001b[39m.\u001b[39mread_events()\n",
      "\u001b[1;31mKeyboardInterrupt\u001b[0m: "
     ]
    }
   ],
   "source": [
    "my_schema.is_valid(os.path.join('full database.xml'))"
   ]
  },
  {
   "cell_type": "code",
   "execution_count": 4,
   "metadata": {},
   "outputs": [],
   "source": [
    "drug_dict = my_schema.to_dict(os.path.join('drugbank_all_full_database.xml', 'two_instances.xml'))"
   ]
  },
  {
   "cell_type": "code",
   "execution_count": 7,
   "metadata": {},
   "outputs": [],
   "source": [
    "with open(os.path.join('drugbank_database_dict.json'), 'w') as full:\n",
    "    json.dump(drug_dict['drug'], full)"
   ]
  }
 ],
 "metadata": {
  "kernelspec": {
   "display_name": "kedro-environment",
   "language": "python",
   "name": "python3"
  },
  "language_info": {
   "codemirror_mode": {
    "name": "ipython",
    "version": 3
   },
   "file_extension": ".py",
   "mimetype": "text/x-python",
   "name": "python",
   "nbconvert_exporter": "python",
   "pygments_lexer": "ipython3",
   "version": "3.10.12"
  },
  "orig_nbformat": 4
 },
 "nbformat": 4,
 "nbformat_minor": 2
}
