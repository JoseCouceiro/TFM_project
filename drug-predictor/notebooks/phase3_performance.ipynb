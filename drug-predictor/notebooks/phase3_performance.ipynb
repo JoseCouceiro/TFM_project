{
 "cells": [
  {
   "cell_type": "code",
   "execution_count": 2,
   "metadata": {},
   "outputs": [],
   "source": [
    "import os\n",
    "import json\n",
    "import random\n",
    "import pandas as pd\n",
    "import numpy as np\n",
    "import pubchempy as pcp\n",
    "from rdkit import Chem\n",
    "from compute_fp_note import Compute_FP\n",
    "from tensorflow.keras.models import load_model\n",
    "from rdkit.Chem import Lipinski\n",
    "from rdkit.Chem import Descriptors\n",
    "from tensorflow.keras.models import load_model"
   ]
  },
  {
   "cell_type": "code",
   "execution_count": 3,
   "metadata": {},
   "outputs": [],
   "source": [
    "candidates = pd.read_csv('phase3_candidates.csv')"
   ]
  },
  {
   "cell_type": "code",
   "execution_count": 4,
   "metadata": {},
   "outputs": [
    {
     "data": {
      "text/html": [
       "<div>\n",
       "<style scoped>\n",
       "    .dataframe tbody tr th:only-of-type {\n",
       "        vertical-align: middle;\n",
       "    }\n",
       "\n",
       "    .dataframe tbody tr th {\n",
       "        vertical-align: top;\n",
       "    }\n",
       "\n",
       "    .dataframe thead th {\n",
       "        text-align: right;\n",
       "    }\n",
       "</style>\n",
       "<table border=\"1\" class=\"dataframe\">\n",
       "  <thead>\n",
       "    <tr style=\"text-align: right;\">\n",
       "      <th></th>\n",
       "      <th>cid</th>\n",
       "      <th>name</th>\n",
       "      <th>condition</th>\n",
       "      <th>mechanism_of_action</th>\n",
       "      <th>clinical_trial_id</th>\n",
       "      <th>MATC_code_short</th>\n",
       "      <th>label</th>\n",
       "    </tr>\n",
       "  </thead>\n",
       "  <tbody>\n",
       "    <tr>\n",
       "      <th>0</th>\n",
       "      <td>118892432</td>\n",
       "      <td>Rilematovir</td>\n",
       "      <td>Respiratory Syncytial Virus (RSV) Infection</td>\n",
       "      <td>inhibitor of the RSV viral fusion glycoprotein</td>\n",
       "      <td>NCT04978337</td>\n",
       "      <td>J</td>\n",
       "      <td>7</td>\n",
       "    </tr>\n",
       "    <tr>\n",
       "      <th>1</th>\n",
       "      <td>9795739</td>\n",
       "      <td>Pridopidine</td>\n",
       "      <td>Hungtington's Disease</td>\n",
       "      <td>activator of sigma-1 CNS receptor (S1R)</td>\n",
       "      <td>NCT04556656</td>\n",
       "      <td>N</td>\n",
       "      <td>10</td>\n",
       "    </tr>\n",
       "    <tr>\n",
       "      <th>2</th>\n",
       "      <td>11977753</td>\n",
       "      <td>Dactolisib</td>\n",
       "      <td>Endometrial Carcinoma</td>\n",
       "      <td>PI3K and mTOR inhibitor</td>\n",
       "      <td>NCT01290406</td>\n",
       "      <td>L</td>\n",
       "      <td>8</td>\n",
       "    </tr>\n",
       "    <tr>\n",
       "      <th>3</th>\n",
       "      <td>60194102</td>\n",
       "      <td>Proxalutamide</td>\n",
       "      <td>COVID-19 Infection</td>\n",
       "      <td>high-affinity silent antagonist of the androge...</td>\n",
       "      <td>NCT05009732</td>\n",
       "      <td>J</td>\n",
       "      <td>7</td>\n",
       "    </tr>\n",
       "    <tr>\n",
       "      <th>4</th>\n",
       "      <td>72704611</td>\n",
       "      <td>Deuruxolitinib</td>\n",
       "      <td>Severe Alopecia Areata</td>\n",
       "      <td>inhibitor of Janus kinase 1 (JAK1) and JAK2 en...</td>\n",
       "      <td>NCT04518995</td>\n",
       "      <td>D</td>\n",
       "      <td>3</td>\n",
       "    </tr>\n",
       "    <tr>\n",
       "      <th>5</th>\n",
       "      <td>16659285</td>\n",
       "      <td>Ridinilazole</td>\n",
       "      <td>Clostridioides Difficile Infection</td>\n",
       "      <td>minor groove DNA binder</td>\n",
       "      <td>NCT04802837</td>\n",
       "      <td>J</td>\n",
       "      <td>7</td>\n",
       "    </tr>\n",
       "    <tr>\n",
       "      <th>6</th>\n",
       "      <td>118253852</td>\n",
       "      <td>Brensocatib</td>\n",
       "      <td>Non-Cystic Fibrosis Bronchiectasis</td>\n",
       "      <td>inhibitor of dipeptidyl peptidase-1 of neutrop...</td>\n",
       "      <td>NCT04594369</td>\n",
       "      <td>L</td>\n",
       "      <td>8</td>\n",
       "    </tr>\n",
       "    <tr>\n",
       "      <th>7</th>\n",
       "      <td>70912</td>\n",
       "      <td>N-Acetyl-L-leucine</td>\n",
       "      <td>Niemann-Pick Type C1 (NPC1) Disease</td>\n",
       "      <td>neuronal calcium channel modulator</td>\n",
       "      <td>NCT05163288</td>\n",
       "      <td>N</td>\n",
       "      <td>10</td>\n",
       "    </tr>\n",
       "    <tr>\n",
       "      <th>8</th>\n",
       "      <td>172997</td>\n",
       "      <td>Lixivaptan</td>\n",
       "      <td>Autosomal Dominant Polycystic Kidney Disease</td>\n",
       "      <td>vasopressin 2 receptor antagonist</td>\n",
       "      <td>NCT04064346</td>\n",
       "      <td>C</td>\n",
       "      <td>2</td>\n",
       "    </tr>\n",
       "    <tr>\n",
       "      <th>9</th>\n",
       "      <td>643985</td>\n",
       "      <td>Dextromethadone</td>\n",
       "      <td>Major Depressive Disorder</td>\n",
       "      <td>modulation of neuron NMDA receptors</td>\n",
       "      <td>NCT05081167</td>\n",
       "      <td>N</td>\n",
       "      <td>10</td>\n",
       "    </tr>\n",
       "    <tr>\n",
       "      <th>10</th>\n",
       "      <td>10257882</td>\n",
       "      <td>Sparsentan</td>\n",
       "      <td>IgA Nephropathy</td>\n",
       "      <td>dual endothelin angiotensin receptor antagonist</td>\n",
       "      <td>NCT03762850</td>\n",
       "      <td>B</td>\n",
       "      <td>1</td>\n",
       "    </tr>\n",
       "    <tr>\n",
       "      <th>11</th>\n",
       "      <td>46195331</td>\n",
       "      <td>Simufilam</td>\n",
       "      <td>Mild-to-Moderate Alzheimer's Disease</td>\n",
       "      <td>anti-amiloide</td>\n",
       "      <td>NCT04994483</td>\n",
       "      <td>N</td>\n",
       "      <td>10</td>\n",
       "    </tr>\n",
       "    <tr>\n",
       "      <th>12</th>\n",
       "      <td>9882189</td>\n",
       "      <td>Blarcamesine</td>\n",
       "      <td>Alzheimer's Disease</td>\n",
       "      <td>inhibits mitochondrial respiratory dysfunction</td>\n",
       "      <td>NCT03790709</td>\n",
       "      <td>N</td>\n",
       "      <td>10</td>\n",
       "    </tr>\n",
       "    <tr>\n",
       "      <th>13</th>\n",
       "      <td>86294073</td>\n",
       "      <td>Zuranolone</td>\n",
       "      <td>Major Depressive Disorder</td>\n",
       "      <td>modulator of neuronal GABA A receptors</td>\n",
       "      <td>NCT03672175</td>\n",
       "      <td>N</td>\n",
       "      <td>10</td>\n",
       "    </tr>\n",
       "    <tr>\n",
       "      <th>14</th>\n",
       "      <td>44623998</td>\n",
       "      <td>Etrasimod</td>\n",
       "      <td>Ulcerative Colitis</td>\n",
       "      <td>modulator of sfingosine-1-phospate receptor</td>\n",
       "      <td>NCT05287126</td>\n",
       "      <td>L</td>\n",
       "      <td>8</td>\n",
       "    </tr>\n",
       "    <tr>\n",
       "      <th>15</th>\n",
       "      <td>6098167</td>\n",
       "      <td>(r)-Oxybutynin</td>\n",
       "      <td>Urge Urinary Incontinence</td>\n",
       "      <td>muscarinic receptor antagonist</td>\n",
       "      <td>NCT00749632</td>\n",
       "      <td>N</td>\n",
       "      <td>10</td>\n",
       "    </tr>\n",
       "    <tr>\n",
       "      <th>16</th>\n",
       "      <td>11236126</td>\n",
       "      <td>Seladelpar</td>\n",
       "      <td>Primary Biliary Cholangitis (PBC)</td>\n",
       "      <td>decreases bile acid synthesis</td>\n",
       "      <td>NCT03602560</td>\n",
       "      <td>A</td>\n",
       "      <td>0</td>\n",
       "    </tr>\n",
       "    <tr>\n",
       "      <th>17</th>\n",
       "      <td>118277544</td>\n",
       "      <td>Milvexian</td>\n",
       "      <td>Acute Ischemic Stroke</td>\n",
       "      <td>coagulation factor XIa inhibitor</td>\n",
       "      <td>NCT05702034</td>\n",
       "      <td>B</td>\n",
       "      <td>1</td>\n",
       "    </tr>\n",
       "    <tr>\n",
       "      <th>18</th>\n",
       "      <td>163358784</td>\n",
       "      <td>Deuremidevir</td>\n",
       "      <td>COVID-19 Infection</td>\n",
       "      <td>RNA-dependent RNA polymerase inhibitor</td>\n",
       "      <td>NCT05582629</td>\n",
       "      <td>J</td>\n",
       "      <td>7</td>\n",
       "    </tr>\n",
       "    <tr>\n",
       "      <th>19</th>\n",
       "      <td>11528958</td>\n",
       "      <td>Verdiperstat</td>\n",
       "      <td>Amyotrophic Lateral Sclerosis</td>\n",
       "      <td>inhibitor of myeloperoxidase generating ROS by...</td>\n",
       "      <td>NCT04436510</td>\n",
       "      <td>N</td>\n",
       "      <td>10</td>\n",
       "    </tr>\n",
       "  </tbody>\n",
       "</table>\n",
       "</div>"
      ],
      "text/plain": [
       "          cid                name   \n",
       "0   118892432         Rilematovir  \\\n",
       "1     9795739         Pridopidine   \n",
       "2    11977753          Dactolisib   \n",
       "3    60194102       Proxalutamide   \n",
       "4    72704611      Deuruxolitinib   \n",
       "5    16659285        Ridinilazole   \n",
       "6   118253852         Brensocatib   \n",
       "7       70912  N-Acetyl-L-leucine   \n",
       "8      172997          Lixivaptan   \n",
       "9      643985     Dextromethadone   \n",
       "10   10257882          Sparsentan   \n",
       "11   46195331           Simufilam   \n",
       "12    9882189        Blarcamesine   \n",
       "13   86294073          Zuranolone   \n",
       "14   44623998           Etrasimod   \n",
       "15    6098167      (r)-Oxybutynin   \n",
       "16   11236126          Seladelpar   \n",
       "17  118277544           Milvexian   \n",
       "18  163358784        Deuremidevir   \n",
       "19   11528958        Verdiperstat   \n",
       "\n",
       "                                       condition   \n",
       "0    Respiratory Syncytial Virus (RSV) Infection  \\\n",
       "1                          Hungtington's Disease   \n",
       "2                          Endometrial Carcinoma   \n",
       "3                             COVID-19 Infection   \n",
       "4                         Severe Alopecia Areata   \n",
       "5             Clostridioides Difficile Infection   \n",
       "6             Non-Cystic Fibrosis Bronchiectasis   \n",
       "7            Niemann-Pick Type C1 (NPC1) Disease   \n",
       "8   Autosomal Dominant Polycystic Kidney Disease   \n",
       "9                      Major Depressive Disorder   \n",
       "10                               IgA Nephropathy   \n",
       "11          Mild-to-Moderate Alzheimer's Disease   \n",
       "12                           Alzheimer's Disease   \n",
       "13                     Major Depressive Disorder   \n",
       "14                            Ulcerative Colitis   \n",
       "15                     Urge Urinary Incontinence   \n",
       "16             Primary Biliary Cholangitis (PBC)   \n",
       "17                         Acute Ischemic Stroke   \n",
       "18                            COVID-19 Infection   \n",
       "19                 Amyotrophic Lateral Sclerosis   \n",
       "\n",
       "                                  mechanism_of_action clinical_trial_id   \n",
       "0      inhibitor of the RSV viral fusion glycoprotein       NCT04978337  \\\n",
       "1             activator of sigma-1 CNS receptor (S1R)       NCT04556656   \n",
       "2                             PI3K and mTOR inhibitor       NCT01290406   \n",
       "3   high-affinity silent antagonist of the androge...       NCT05009732   \n",
       "4   inhibitor of Janus kinase 1 (JAK1) and JAK2 en...       NCT04518995   \n",
       "5                             minor groove DNA binder       NCT04802837   \n",
       "6   inhibitor of dipeptidyl peptidase-1 of neutrop...       NCT04594369   \n",
       "7                  neuronal calcium channel modulator       NCT05163288   \n",
       "8                   vasopressin 2 receptor antagonist       NCT04064346   \n",
       "9                 modulation of neuron NMDA receptors       NCT05081167   \n",
       "10    dual endothelin angiotensin receptor antagonist       NCT03762850   \n",
       "11                                      anti-amiloide       NCT04994483   \n",
       "12     inhibits mitochondrial respiratory dysfunction       NCT03790709   \n",
       "13             modulator of neuronal GABA A receptors       NCT03672175   \n",
       "14        modulator of sfingosine-1-phospate receptor       NCT05287126   \n",
       "15                     muscarinic receptor antagonist       NCT00749632   \n",
       "16                      decreases bile acid synthesis       NCT03602560   \n",
       "17                   coagulation factor XIa inhibitor       NCT05702034   \n",
       "18             RNA-dependent RNA polymerase inhibitor       NCT05582629   \n",
       "19  inhibitor of myeloperoxidase generating ROS by...       NCT04436510   \n",
       "\n",
       "   MATC_code_short  label  \n",
       "0                J      7  \n",
       "1                N     10  \n",
       "2                L      8  \n",
       "3                J      7  \n",
       "4                D      3  \n",
       "5                J      7  \n",
       "6                L      8  \n",
       "7                N     10  \n",
       "8                C      2  \n",
       "9                N     10  \n",
       "10               B      1  \n",
       "11               N     10  \n",
       "12               N     10  \n",
       "13               N     10  \n",
       "14               L      8  \n",
       "15               N     10  \n",
       "16               A      0  \n",
       "17               B      1  \n",
       "18               J      7  \n",
       "19               N     10  "
      ]
     },
     "execution_count": 4,
     "metadata": {},
     "output_type": "execute_result"
    }
   ],
   "source": [
    "candidates"
   ]
  },
  {
   "cell_type": "code",
   "execution_count": 5,
   "metadata": {},
   "outputs": [],
   "source": [
    "with open(os.path.join('..', 'data', '05_model_input', 'selected_fp.txt')) as file:\n",
    "    selected_fp = file.readline()"
   ]
  },
  {
   "cell_type": "code",
   "execution_count": 6,
   "metadata": {},
   "outputs": [],
   "source": [
    "def get_smiles(cid):\n",
    "    try:\n",
    "        compound = pcp.Compound.from_cid(cid)\n",
    "        return compound.isomeric_smiles\n",
    "    except:\n",
    "        'no smiles found'\n",
    "        return None"
   ]
  },
  {
   "cell_type": "code",
   "execution_count": 7,
   "metadata": {},
   "outputs": [],
   "source": [
    "def get_rdkit_molecule(smiles):\n",
    "    try:\n",
    "        mol = Chem.MolFromSmiles(smiles)\n",
    "        return mol\n",
    "    except:\n",
    "        print('no molecule found')\n",
    "        return None"
   ]
  },
  {
   "cell_type": "code",
   "execution_count": 8,
   "metadata": {},
   "outputs": [],
   "source": [
    "computer = Compute_FP()\n",
    "def get_fp(mol):\n",
    "    return computer.relate_fp_functions(selected_fp, mol)"
   ]
  },
  {
   "cell_type": "code",
   "execution_count": 9,
   "metadata": {},
   "outputs": [],
   "source": [
    "candidates['smiles'] = candidates['cid'].map(get_smiles)\n",
    "candidates['molecule'] = candidates['smiles'].map(get_rdkit_molecule)\n",
    "candidates['fingerprints'] = candidates['molecule'].map(get_fp)"
   ]
  },
  {
   "cell_type": "code",
   "execution_count": 10,
   "metadata": {},
   "outputs": [
    {
     "name": "stdout",
     "output_type": "stream",
     "text": [
      "<class 'pandas.core.frame.DataFrame'>\n",
      "RangeIndex: 20 entries, 0 to 19\n",
      "Data columns (total 10 columns):\n",
      " #   Column               Non-Null Count  Dtype \n",
      "---  ------               --------------  ----- \n",
      " 0   cid                  20 non-null     int64 \n",
      " 1   name                 20 non-null     object\n",
      " 2   condition            20 non-null     object\n",
      " 3   mechanism_of_action  20 non-null     object\n",
      " 4   clinical_trial_id    20 non-null     object\n",
      " 5   MATC_code_short      20 non-null     object\n",
      " 6   label                20 non-null     int64 \n",
      " 7   smiles               20 non-null     object\n",
      " 8   molecule             20 non-null     object\n",
      " 9   fingerprints         20 non-null     object\n",
      "dtypes: int64(2), object(8)\n",
      "memory usage: 1.7+ KB\n"
     ]
    }
   ],
   "source": [
    "candidates.info()"
   ]
  },
  {
   "cell_type": "code",
   "execution_count": 11,
   "metadata": {},
   "outputs": [],
   "source": [
    "model = load_model(os.path.join('..', 'data', '06_models', 'def_model.hd5'))"
   ]
  },
  {
   "cell_type": "code",
   "execution_count": 12,
   "metadata": {},
   "outputs": [],
   "source": [
    "fingerprints = np.array(list(candidates['fingerprints']))\n",
    "reshaped_fps = fingerprints.reshape((fingerprints.shape[0], fingerprints.shape[1], 1))"
   ]
  },
  {
   "cell_type": "code",
   "execution_count": 13,
   "metadata": {},
   "outputs": [
    {
     "name": "stdout",
     "output_type": "stream",
     "text": [
      "1/1 [==============================] - 0s 114ms/step\n"
     ]
    }
   ],
   "source": [
    "probs = model.predict(reshaped_fps)\n",
    "preds = [np.argmax(x) for x in probs]\n",
    "max_probs = [np.max(x) for x in probs]\n"
   ]
  },
  {
   "cell_type": "code",
   "execution_count": 14,
   "metadata": {},
   "outputs": [],
   "source": [
    "candidates['prediction'] = preds\n",
    "candidates['probability'] = max_probs"
   ]
  },
  {
   "cell_type": "code",
   "execution_count": 15,
   "metadata": {},
   "outputs": [],
   "source": [
    "from sklearn import metrics"
   ]
  },
  {
   "cell_type": "code",
   "execution_count": 16,
   "metadata": {},
   "outputs": [
    {
     "name": "stdout",
     "output_type": "stream",
     "text": [
      "              precision    recall  f1-score   support\n",
      "\n",
      "           1       0.00      0.00      0.00         2\n",
      "           2       0.00      0.00      0.00         0\n",
      "           7       0.50      1.00      0.67         1\n",
      "           8       1.00      1.00      1.00         1\n",
      "          10       1.00      1.00      1.00         3\n",
      "\n",
      "    accuracy                           0.71         7\n",
      "   macro avg       0.50      0.60      0.53         7\n",
      "weighted avg       0.64      0.71      0.67         7\n",
      "\n"
     ]
    },
    {
     "name": "stderr",
     "output_type": "stream",
     "text": [
      "c:\\Users\\josin\\anaconda3\\envs\\kedro-environment\\lib\\site-packages\\sklearn\\metrics\\_classification.py:1469: UndefinedMetricWarning: Precision and F-score are ill-defined and being set to 0.0 in labels with no predicted samples. Use `zero_division` parameter to control this behavior.\n",
      "  _warn_prf(average, modifier, msg_start, len(result))\n",
      "c:\\Users\\josin\\anaconda3\\envs\\kedro-environment\\lib\\site-packages\\sklearn\\metrics\\_classification.py:1469: UndefinedMetricWarning: Recall and F-score are ill-defined and being set to 0.0 in labels with no true samples. Use `zero_division` parameter to control this behavior.\n",
      "  _warn_prf(average, modifier, msg_start, len(result))\n",
      "c:\\Users\\josin\\anaconda3\\envs\\kedro-environment\\lib\\site-packages\\sklearn\\metrics\\_classification.py:1469: UndefinedMetricWarning: Precision and F-score are ill-defined and being set to 0.0 in labels with no predicted samples. Use `zero_division` parameter to control this behavior.\n",
      "  _warn_prf(average, modifier, msg_start, len(result))\n",
      "c:\\Users\\josin\\anaconda3\\envs\\kedro-environment\\lib\\site-packages\\sklearn\\metrics\\_classification.py:1469: UndefinedMetricWarning: Recall and F-score are ill-defined and being set to 0.0 in labels with no true samples. Use `zero_division` parameter to control this behavior.\n",
      "  _warn_prf(average, modifier, msg_start, len(result))\n",
      "c:\\Users\\josin\\anaconda3\\envs\\kedro-environment\\lib\\site-packages\\sklearn\\metrics\\_classification.py:1469: UndefinedMetricWarning: Precision and F-score are ill-defined and being set to 0.0 in labels with no predicted samples. Use `zero_division` parameter to control this behavior.\n",
      "  _warn_prf(average, modifier, msg_start, len(result))\n",
      "c:\\Users\\josin\\anaconda3\\envs\\kedro-environment\\lib\\site-packages\\sklearn\\metrics\\_classification.py:1469: UndefinedMetricWarning: Recall and F-score are ill-defined and being set to 0.0 in labels with no true samples. Use `zero_division` parameter to control this behavior.\n",
      "  _warn_prf(average, modifier, msg_start, len(result))\n"
     ]
    }
   ],
   "source": [
    "safe_candidates = candidates[candidates['probability']>0.8]\n",
    "print(metrics.classification_report(safe_candidates['label'], safe_candidates['prediction']))"
   ]
  },
  {
   "cell_type": "code",
   "execution_count": 17,
   "metadata": {},
   "outputs": [
    {
     "data": {
      "text/plain": [
       "label  cid        name                prediction  probability\n",
       "7      163358784  Deuremidevir        7           0.879209       1\n",
       "8      11977753   Dactolisib          8           0.816242       1\n",
       "       44623998   Etrasimod           8           0.394294       1\n",
       "       118253852  Brensocatib         8           0.390182       1\n",
       "10     70912      N-Acetyl-L-leucine  10          0.991990       1\n",
       "       643985     Dextromethadone     10          0.999991       1\n",
       "       9795739    Pridopidine         10          0.824893       1\n",
       "Name: count, dtype: int64"
      ]
     },
     "execution_count": 17,
     "metadata": {},
     "output_type": "execute_result"
    }
   ],
   "source": [
    "candidates[candidates['label']==candidates['prediction']][['cid','name','label','prediction','probability']].groupby('label').value_counts()"
   ]
  },
  {
   "cell_type": "code",
   "execution_count": 18,
   "metadata": {},
   "outputs": [
    {
     "data": {
      "text/plain": [
       "label  cid        name            prediction  probability\n",
       "0      11236126   Seladelpar      2           0.704986       1\n",
       "1      10257882   Sparsentan      2           0.810624       1\n",
       "       118277544  Milvexian       7           0.897134       1\n",
       "2      172997     Lixivaptan      7           0.379510       1\n",
       "3      72704611   Deuruxolitinib  7           0.572343       1\n",
       "7      16659285   Ridinilazole    8           0.476822       1\n",
       "       60194102   Proxalutamide   10          0.462669       1\n",
       "       118892432  Rilematovir     10          0.516604       1\n",
       "10     6098167    (r)-Oxybutynin  4           0.668176       1\n",
       "       9882189    Blarcamesine    13          0.500853       1\n",
       "       11528958   Verdiperstat    3           0.210203       1\n",
       "       46195331   Simufilam       0           0.449461       1\n",
       "       86294073   Zuranolone      7           0.195335       1\n",
       "Name: count, dtype: int64"
      ]
     },
     "execution_count": 18,
     "metadata": {},
     "output_type": "execute_result"
    }
   ],
   "source": [
    "candidates[candidates['label']!=candidates['prediction']][['cid', 'name', 'label', 'prediction', 'probability']].groupby('label').value_counts()"
   ]
  },
  {
   "cell_type": "code",
   "execution_count": 19,
   "metadata": {},
   "outputs": [],
   "source": [
    "from sklearn import metrics"
   ]
  },
  {
   "cell_type": "code",
   "execution_count": 20,
   "metadata": {},
   "outputs": [
    {
     "name": "stderr",
     "output_type": "stream",
     "text": [
      "c:\\Users\\josin\\anaconda3\\envs\\kedro-environment\\lib\\site-packages\\sklearn\\metrics\\_classification.py:1469: UndefinedMetricWarning: Precision and F-score are ill-defined and being set to 0.0 in labels with no predicted samples. Use `zero_division` parameter to control this behavior.\n",
      "  _warn_prf(average, modifier, msg_start, len(result))\n",
      "c:\\Users\\josin\\anaconda3\\envs\\kedro-environment\\lib\\site-packages\\sklearn\\metrics\\_classification.py:1469: UndefinedMetricWarning: Recall and F-score are ill-defined and being set to 0.0 in labels with no true samples. Use `zero_division` parameter to control this behavior.\n",
      "  _warn_prf(average, modifier, msg_start, len(result))\n",
      "c:\\Users\\josin\\anaconda3\\envs\\kedro-environment\\lib\\site-packages\\sklearn\\metrics\\_classification.py:1469: UndefinedMetricWarning: Precision and F-score are ill-defined and being set to 0.0 in labels with no predicted samples. Use `zero_division` parameter to control this behavior.\n",
      "  _warn_prf(average, modifier, msg_start, len(result))\n",
      "c:\\Users\\josin\\anaconda3\\envs\\kedro-environment\\lib\\site-packages\\sklearn\\metrics\\_classification.py:1469: UndefinedMetricWarning: Recall and F-score are ill-defined and being set to 0.0 in labels with no true samples. Use `zero_division` parameter to control this behavior.\n",
      "  _warn_prf(average, modifier, msg_start, len(result))\n",
      "c:\\Users\\josin\\anaconda3\\envs\\kedro-environment\\lib\\site-packages\\sklearn\\metrics\\_classification.py:1469: UndefinedMetricWarning: Precision and F-score are ill-defined and being set to 0.0 in labels with no predicted samples. Use `zero_division` parameter to control this behavior.\n",
      "  _warn_prf(average, modifier, msg_start, len(result))\n",
      "c:\\Users\\josin\\anaconda3\\envs\\kedro-environment\\lib\\site-packages\\sklearn\\metrics\\_classification.py:1469: UndefinedMetricWarning: Recall and F-score are ill-defined and being set to 0.0 in labels with no true samples. Use `zero_division` parameter to control this behavior.\n",
      "  _warn_prf(average, modifier, msg_start, len(result))\n"
     ]
    },
    {
     "data": {
      "text/plain": [
       "'              precision    recall  f1-score   support\\n\\n           0       0.00      0.00      0.00         1\\n           1       0.00      0.00      0.00         2\\n           2       0.00      0.00      0.00         1\\n           3       0.00      0.00      0.00         1\\n           4       0.00      0.00      0.00         0\\n           7       0.20      0.25      0.22         4\\n           8       0.75      1.00      0.86         3\\n          10       0.60      0.38      0.46         8\\n          13       0.00      0.00      0.00         0\\n\\n    accuracy                           0.35        20\\n   macro avg       0.17      0.18      0.17        20\\nweighted avg       0.39      0.35      0.36        20\\n'"
      ]
     },
     "execution_count": 20,
     "metadata": {},
     "output_type": "execute_result"
    }
   ],
   "source": [
    "metrics.classification_report(candidates['label'],candidates['prediction'])"
   ]
  },
  {
   "cell_type": "code",
   "execution_count": null,
   "metadata": {},
   "outputs": [],
   "source": [
    "''''              precision    recall  f1-score   support\n",
    "\\n\n",
    "\\n           0       0.00      0.00      0.00         1\n",
    "\\n           1       0.00      0.00      0.00         2\n",
    "\\n           2       0.00      0.00      0.00         1\n",
    "\\n           3       0.00      0.00      0.00         1\n",
    "\\n           4       0.00      0.00      0.00         0\n",
    "\\n           7       0.20      0.25      0.22         4\n",
    "\\n           8       0.75      1.00      0.86         3\n",
    "\\n          10       0.60      0.38      0.46         8\n",
    "\\n          13       0.00      0.00      0.00         0\n",
    "\\n\n",
    "\\n    accuracy                           0.35        20\n",
    "\\n   macro avg       0.17      0.18      0.17        20\n",
    "\\nweighted avg       0.39      0.35      0.36        20\\n'\n",
    "'''"
   ]
  },
  {
   "cell_type": "code",
   "execution_count": 21,
   "metadata": {},
   "outputs": [
    {
     "name": "stdout",
     "output_type": "stream",
     "text": [
      "              precision    recall  f1-score   support\n",
      "\n",
      "           0       0.00      0.00      0.00         1\n",
      "           1       0.00      0.00      0.00         2\n",
      "           2       0.00      0.00      0.00         1\n",
      "           3       0.00      0.00      0.00         1\n",
      "           4       0.00      0.00      0.00         0\n",
      "           7       0.20      0.25      0.22         4\n",
      "           8       0.75      1.00      0.86         3\n",
      "          10       0.60      0.38      0.46         8\n",
      "          13       0.00      0.00      0.00         0\n",
      "\n",
      "    accuracy                           0.35        20\n",
      "   macro avg       0.17      0.18      0.17        20\n",
      "weighted avg       0.39      0.35      0.36        20\n",
      "\n"
     ]
    },
    {
     "name": "stderr",
     "output_type": "stream",
     "text": [
      "c:\\Users\\josin\\anaconda3\\envs\\kedro-environment\\lib\\site-packages\\sklearn\\metrics\\_classification.py:1469: UndefinedMetricWarning: Precision and F-score are ill-defined and being set to 0.0 in labels with no predicted samples. Use `zero_division` parameter to control this behavior.\n",
      "  _warn_prf(average, modifier, msg_start, len(result))\n",
      "c:\\Users\\josin\\anaconda3\\envs\\kedro-environment\\lib\\site-packages\\sklearn\\metrics\\_classification.py:1469: UndefinedMetricWarning: Recall and F-score are ill-defined and being set to 0.0 in labels with no true samples. Use `zero_division` parameter to control this behavior.\n",
      "  _warn_prf(average, modifier, msg_start, len(result))\n",
      "c:\\Users\\josin\\anaconda3\\envs\\kedro-environment\\lib\\site-packages\\sklearn\\metrics\\_classification.py:1469: UndefinedMetricWarning: Precision and F-score are ill-defined and being set to 0.0 in labels with no predicted samples. Use `zero_division` parameter to control this behavior.\n",
      "  _warn_prf(average, modifier, msg_start, len(result))\n",
      "c:\\Users\\josin\\anaconda3\\envs\\kedro-environment\\lib\\site-packages\\sklearn\\metrics\\_classification.py:1469: UndefinedMetricWarning: Recall and F-score are ill-defined and being set to 0.0 in labels with no true samples. Use `zero_division` parameter to control this behavior.\n",
      "  _warn_prf(average, modifier, msg_start, len(result))\n",
      "c:\\Users\\josin\\anaconda3\\envs\\kedro-environment\\lib\\site-packages\\sklearn\\metrics\\_classification.py:1469: UndefinedMetricWarning: Precision and F-score are ill-defined and being set to 0.0 in labels with no predicted samples. Use `zero_division` parameter to control this behavior.\n",
      "  _warn_prf(average, modifier, msg_start, len(result))\n",
      "c:\\Users\\josin\\anaconda3\\envs\\kedro-environment\\lib\\site-packages\\sklearn\\metrics\\_classification.py:1469: UndefinedMetricWarning: Recall and F-score are ill-defined and being set to 0.0 in labels with no true samples. Use `zero_division` parameter to control this behavior.\n",
      "  _warn_prf(average, modifier, msg_start, len(result))\n"
     ]
    }
   ],
   "source": [
    "print(metrics.classification_report(candidates['label'],candidates['prediction']))"
   ]
  },
  {
   "cell_type": "code",
   "execution_count": 22,
   "metadata": {},
   "outputs": [],
   "source": [
    "clas_rep = \"\"\"precision    recall  f1-score   support\n",
    "\n",
    "           0       1.00      1.00      1.00         1\n",
    "           1       0.00      0.00      0.00         2\n",
    "           2       0.00      0.00      0.00         1\n",
    "           3       0.00      0.00      0.00         1\n",
    "           4       0.00      0.00      0.00         0\n",
    "           7       0.50      0.25      0.33         4\n",
    "           8       0.38      1.00      0.55         3\n",
    "          10       1.00      0.75      0.86         8\"\"\""
   ]
  },
  {
   "cell_type": "code",
   "execution_count": 36,
   "metadata": {},
   "outputs": [
    {
     "name": "stderr",
     "output_type": "stream",
     "text": [
      "c:\\Users\\josin\\anaconda3\\envs\\kedro-environment\\lib\\site-packages\\sklearn\\metrics\\_classification.py:1469: UndefinedMetricWarning: Precision and F-score are ill-defined and being set to 0.0 in labels with no predicted samples. Use `zero_division` parameter to control this behavior.\n",
      "  _warn_prf(average, modifier, msg_start, len(result))\n",
      "c:\\Users\\josin\\anaconda3\\envs\\kedro-environment\\lib\\site-packages\\sklearn\\metrics\\_classification.py:1469: UndefinedMetricWarning: Recall and F-score are ill-defined and being set to 0.0 in labels with no true samples. Use `zero_division` parameter to control this behavior.\n",
      "  _warn_prf(average, modifier, msg_start, len(result))\n",
      "c:\\Users\\josin\\anaconda3\\envs\\kedro-environment\\lib\\site-packages\\sklearn\\metrics\\_classification.py:1469: UndefinedMetricWarning: Precision and F-score are ill-defined and being set to 0.0 in labels with no predicted samples. Use `zero_division` parameter to control this behavior.\n",
      "  _warn_prf(average, modifier, msg_start, len(result))\n",
      "c:\\Users\\josin\\anaconda3\\envs\\kedro-environment\\lib\\site-packages\\sklearn\\metrics\\_classification.py:1469: UndefinedMetricWarning: Recall and F-score are ill-defined and being set to 0.0 in labels with no true samples. Use `zero_division` parameter to control this behavior.\n",
      "  _warn_prf(average, modifier, msg_start, len(result))\n",
      "c:\\Users\\josin\\anaconda3\\envs\\kedro-environment\\lib\\site-packages\\sklearn\\metrics\\_classification.py:1469: UndefinedMetricWarning: Precision and F-score are ill-defined and being set to 0.0 in labels with no predicted samples. Use `zero_division` parameter to control this behavior.\n",
      "  _warn_prf(average, modifier, msg_start, len(result))\n",
      "c:\\Users\\josin\\anaconda3\\envs\\kedro-environment\\lib\\site-packages\\sklearn\\metrics\\_classification.py:1469: UndefinedMetricWarning: Recall and F-score are ill-defined and being set to 0.0 in labels with no true samples. Use `zero_division` parameter to control this behavior.\n",
      "  _warn_prf(average, modifier, msg_start, len(result))\n"
     ]
    }
   ],
   "source": [
    "clas_rep = metrics.classification_report(candidates['label'],candidates['prediction'])"
   ]
  },
  {
   "cell_type": "code",
   "execution_count": 37,
   "metadata": {},
   "outputs": [],
   "source": [
    "import matplotlib.pyplot as plt"
   ]
  },
  {
   "cell_type": "code",
   "execution_count": 38,
   "metadata": {},
   "outputs": [],
   "source": [
    "def show_values(pc, fmt=\"%.2f\", **kw):\n",
    "    '''\n",
    "    Heatmap with text in each cell with matplotlib's pyplot\n",
    "    Source: https://stackoverflow.com/a/25074150/395857 \n",
    "    By HYRY\n",
    "    '''\n",
    "    \n",
    "    pc.update_scalarmappable()\n",
    "    ax = pc.axes\n",
    "    for p, color, value in zip(pc.get_paths(), pc.get_facecolors(), pc.get_array()):\n",
    "        x, y = p.vertices[:-2, :].mean(0)\n",
    "        if np.all(color[:3] > 0.5):\n",
    "            color = (0.0, 0.0, 0.0)\n",
    "        else:\n",
    "            color = (1.0, 1.0, 1.0)\n",
    "        ax.text(x, y, fmt % value, ha=\"center\", va=\"center\", color=color, **kw)"
   ]
  },
  {
   "cell_type": "code",
   "execution_count": 39,
   "metadata": {},
   "outputs": [],
   "source": [
    "def cm2inch(*tupl):\n",
    "    '''\n",
    "    Specify figure size in centimeter in matplotlib\n",
    "    Source: https://stackoverflow.com/a/22787457/395857\n",
    "    By gns-ank\n",
    "    '''\n",
    "    inch = 2.54\n",
    "    if type(tupl[0]) == tuple:\n",
    "        return tuple(i/inch for i in tupl[0])\n",
    "    else:\n",
    "        return tuple(i/inch for i in tupl)"
   ]
  },
  {
   "cell_type": "code",
   "execution_count": 40,
   "metadata": {},
   "outputs": [],
   "source": [
    "def heatmap(AUC, title, xlabel, ylabel, xticklabels, yticklabels, figure_width=40, figure_height=20, correct_orientation=False, cmap='RdBu'):\n",
    "    '''\n",
    "    Inspired by:\n",
    "    - https://stackoverflow.com/a/16124677/395857 \n",
    "    - https://stackoverflow.com/a/25074150/395857\n",
    "    '''\n",
    "\n",
    "    # Plot it out\n",
    "    fig, ax = plt.subplots()    \n",
    "    #c = ax.pcolor(AUC, edgecolors='k', linestyle= 'dashed', linewidths=0.2, cmap='RdBu', vmin=0.0, vmax=1.0)\n",
    "    c = ax.pcolor(AUC, edgecolors='k', linestyle= 'dashed', linewidths=0.2, cmap=cmap)\n",
    "\n",
    "    # put the major ticks at the middle of each cell\n",
    "    ax.set_yticks(np.arange(AUC.shape[0]) + 0.5, minor=False)\n",
    "    ax.set_xticks(np.arange(AUC.shape[1]) + 0.5, minor=False)\n",
    "\n",
    "    # set tick labels\n",
    "    #ax.set_xticklabels(np.arange(1,AUC.shape[1]+1), minor=False)\n",
    "    ax.set_xticklabels(xticklabels, minor=False)\n",
    "    ax.set_yticklabels(yticklabels, minor=False)\n",
    "\n",
    "    # set title and x/y labels\n",
    "    plt.title(title)\n",
    "    plt.xlabel(xlabel)\n",
    "    plt.ylabel(ylabel)      \n",
    "\n",
    "    # Remove last blank column\n",
    "    plt.xlim( (0, AUC.shape[1]) )\n",
    "\n",
    "    # Turn off all the ticks\n",
    "    ax = plt.gca()    \n",
    "    for t in ax.xaxis.get_major_ticks():\n",
    "        t.tick1On = False\n",
    "        t.tick2On = False\n",
    "    for t in ax.yaxis.get_major_ticks():\n",
    "        t.tick1On = False\n",
    "        t.tick2On = False\n",
    "\n",
    "    # Add color bar\n",
    "    plt.colorbar(c)\n",
    "\n",
    "    # Add text in each cell \n",
    "    show_values(c)\n",
    "\n",
    "    # Proper orientation (origin at the top left instead of bottom left)\n",
    "    if correct_orientation:\n",
    "        ax.invert_yaxis()\n",
    "        ax.xaxis.tick_top()       \n",
    "\n",
    "    # resize \n",
    "    fig = plt.gcf()\n",
    "    #fig.set_size_inches(cm2inch(40, 20))\n",
    "    #fig.set_size_inches(cm2inch(40*4, 20*4))\n",
    "    fig.set_size_inches(cm2inch(figure_width, figure_height))"
   ]
  },
  {
   "cell_type": "code",
   "execution_count": 41,
   "metadata": {},
   "outputs": [],
   "source": [
    "with open(os.path.join('..', 'data', '03_primary', 'code_to_label_dic.json')) as codes:\n",
    "    label_dic = json.load(codes)"
   ]
  },
  {
   "cell_type": "code",
   "execution_count": 67,
   "metadata": {},
   "outputs": [],
   "source": [
    "def plot_classification_report(classification_report, title='Classification report ', cmap='RdBu'):\n",
    "    '''\n",
    "    Plot scikit-learn classification report.\n",
    "    Extension based on https://stackoverflow.com/a/31689645/395857 \n",
    "    '''\n",
    "    lines = classification_report.split('\\n')\n",
    "\n",
    "    #classes = []\n",
    "    plotMat = []\n",
    "    support = []\n",
    "    class_names = []\n",
    "    for line in lines[2 : (len(lines))-5]:\n",
    "        t = line.strip().split()\n",
    "        if len(t) < 2: continue\n",
    "        #classes.append(t[0])\n",
    "        print([x for x in t[1: len(t) - 1]])\n",
    "        v = [float(x) for x in t[1: len(t) - 10]]\n",
    "        support.append(int(t[-1]))\n",
    "        class_names.append(t[0])\n",
    "        plotMat.append(v)\n",
    "\n",
    "    #print('plotMat: {0}'.format(plotMat))\n",
    "    #print('support: {0}'.format(support))\n",
    "    class_names = [label_dic[str(key)] for key in class_names]\n",
    "    \n",
    "    xlabel = 'Metrics'\n",
    "    ylabel = 'Classes'\n",
    "    xticklabels = ['Precision', 'Recall', 'F1-score']\n",
    "    yticklabels = ['{0} ({1})'.format(class_names[idx], sup) for idx, sup  in enumerate(support)]\n",
    "    figure_width = 25\n",
    "    figure_height = len(class_names) + 7\n",
    "    correct_orientation = False\n",
    "    heatmap(np.array(plotMat), title, xlabel, ylabel, xticklabels, yticklabels, figure_width, figure_height, correct_orientation, cmap=cmap)"
   ]
  },
  {
   "cell_type": "code",
   "execution_count": 68,
   "metadata": {},
   "outputs": [
    {
     "name": "stdout",
     "output_type": "stream",
     "text": [
      "['0.00', '0.00', '0.00']\n",
      "['0.00', '0.00', '0.00']\n",
      "['0.00', '0.00', '0.00']\n",
      "['0.00', '0.00', '0.00']\n",
      "['0.00', '0.00', '0.00']\n",
      "['0.20', '0.25', '0.22']\n",
      "['0.75', '1.00', '0.86']\n",
      "['0.60', '0.38', '0.46']\n",
      "['0.00', '0.00', '0.00']\n",
      "['0.35']\n",
      "['avg', '0.17', '0.18', '0.17']\n"
     ]
    },
    {
     "ename": "ValueError",
     "evalue": "could not convert string to float: 'avg'",
     "output_type": "error",
     "traceback": [
      "\u001b[1;31m---------------------------------------------------------------------------\u001b[0m",
      "\u001b[1;31mValueError\u001b[0m                                Traceback (most recent call last)",
      "\u001b[1;32mc:\\Users\\josin\\GitRepositories\\TFM_project\\drug-predictor\\notebooks\\phase3_performance.ipynb Cell 30\u001b[0m line \u001b[0;36m1\n\u001b[1;32m----> <a href='vscode-notebook-cell:/c%3A/Users/josin/GitRepositories/TFM_project/drug-predictor/notebooks/phase3_performance.ipynb#X35sZmlsZQ%3D%3D?line=0'>1</a>\u001b[0m plot_classification_report(clas_rep)\n",
      "\u001b[1;32mc:\\Users\\josin\\GitRepositories\\TFM_project\\drug-predictor\\notebooks\\phase3_performance.ipynb Cell 30\u001b[0m line \u001b[0;36m1\n\u001b[0;32m     <a href='vscode-notebook-cell:/c%3A/Users/josin/GitRepositories/TFM_project/drug-predictor/notebooks/phase3_performance.ipynb#X35sZmlsZQ%3D%3D?line=14'>15</a>\u001b[0m \u001b[39m#classes.append(t[0])\u001b[39;00m\n\u001b[0;32m     <a href='vscode-notebook-cell:/c%3A/Users/josin/GitRepositories/TFM_project/drug-predictor/notebooks/phase3_performance.ipynb#X35sZmlsZQ%3D%3D?line=15'>16</a>\u001b[0m \u001b[39mprint\u001b[39m([x \u001b[39mfor\u001b[39;00m x \u001b[39min\u001b[39;00m t[\u001b[39m1\u001b[39m: \u001b[39mlen\u001b[39m(t) \u001b[39m-\u001b[39m \u001b[39m1\u001b[39m]])\n\u001b[1;32m---> <a href='vscode-notebook-cell:/c%3A/Users/josin/GitRepositories/TFM_project/drug-predictor/notebooks/phase3_performance.ipynb#X35sZmlsZQ%3D%3D?line=16'>17</a>\u001b[0m v \u001b[39m=\u001b[39m [\u001b[39mfloat\u001b[39m(x) \u001b[39mfor\u001b[39;00m x \u001b[39min\u001b[39;00m t[\u001b[39m1\u001b[39m: \u001b[39mlen\u001b[39m(t) \u001b[39m-\u001b[39m \u001b[39m10\u001b[39m]]\n\u001b[0;32m     <a href='vscode-notebook-cell:/c%3A/Users/josin/GitRepositories/TFM_project/drug-predictor/notebooks/phase3_performance.ipynb#X35sZmlsZQ%3D%3D?line=17'>18</a>\u001b[0m support\u001b[39m.\u001b[39mappend(\u001b[39mint\u001b[39m(t[\u001b[39m-\u001b[39m\u001b[39m1\u001b[39m]))\n\u001b[0;32m     <a href='vscode-notebook-cell:/c%3A/Users/josin/GitRepositories/TFM_project/drug-predictor/notebooks/phase3_performance.ipynb#X35sZmlsZQ%3D%3D?line=18'>19</a>\u001b[0m class_names\u001b[39m.\u001b[39mappend(t[\u001b[39m0\u001b[39m])\n",
      "\u001b[1;32mc:\\Users\\josin\\GitRepositories\\TFM_project\\drug-predictor\\notebooks\\phase3_performance.ipynb Cell 30\u001b[0m line \u001b[0;36m1\n\u001b[0;32m     <a href='vscode-notebook-cell:/c%3A/Users/josin/GitRepositories/TFM_project/drug-predictor/notebooks/phase3_performance.ipynb#X35sZmlsZQ%3D%3D?line=14'>15</a>\u001b[0m \u001b[39m#classes.append(t[0])\u001b[39;00m\n\u001b[0;32m     <a href='vscode-notebook-cell:/c%3A/Users/josin/GitRepositories/TFM_project/drug-predictor/notebooks/phase3_performance.ipynb#X35sZmlsZQ%3D%3D?line=15'>16</a>\u001b[0m \u001b[39mprint\u001b[39m([x \u001b[39mfor\u001b[39;00m x \u001b[39min\u001b[39;00m t[\u001b[39m1\u001b[39m: \u001b[39mlen\u001b[39m(t) \u001b[39m-\u001b[39m \u001b[39m1\u001b[39m]])\n\u001b[1;32m---> <a href='vscode-notebook-cell:/c%3A/Users/josin/GitRepositories/TFM_project/drug-predictor/notebooks/phase3_performance.ipynb#X35sZmlsZQ%3D%3D?line=16'>17</a>\u001b[0m v \u001b[39m=\u001b[39m [\u001b[39mfloat\u001b[39;49m(x) \u001b[39mfor\u001b[39;00m x \u001b[39min\u001b[39;00m t[\u001b[39m1\u001b[39m: \u001b[39mlen\u001b[39m(t) \u001b[39m-\u001b[39m \u001b[39m10\u001b[39m]]\n\u001b[0;32m     <a href='vscode-notebook-cell:/c%3A/Users/josin/GitRepositories/TFM_project/drug-predictor/notebooks/phase3_performance.ipynb#X35sZmlsZQ%3D%3D?line=17'>18</a>\u001b[0m support\u001b[39m.\u001b[39mappend(\u001b[39mint\u001b[39m(t[\u001b[39m-\u001b[39m\u001b[39m1\u001b[39m]))\n\u001b[0;32m     <a href='vscode-notebook-cell:/c%3A/Users/josin/GitRepositories/TFM_project/drug-predictor/notebooks/phase3_performance.ipynb#X35sZmlsZQ%3D%3D?line=18'>19</a>\u001b[0m class_names\u001b[39m.\u001b[39mappend(t[\u001b[39m0\u001b[39m])\n",
      "\u001b[1;31mValueError\u001b[0m: could not convert string to float: 'avg'"
     ]
    }
   ],
   "source": [
    "plot_classification_report(clas_rep)"
   ]
  },
  {
   "cell_type": "code",
   "execution_count": 66,
   "metadata": {},
   "outputs": [],
   "source": [
    "drugs_w_mol = pd.read_pickle('../data/05_model_input/input_table.pickle/2023-09-07T18.33.38.013Z/input_table.pickle')"
   ]
  },
  {
   "cell_type": "code",
   "execution_count": 31,
   "metadata": {},
   "outputs": [],
   "source": [
    "fingerprints = np.array(list(drugs_w_mol[selected_fp]))\n",
    "reshaped_fps = fingerprints.reshape((fingerprints.shape[0], fingerprints.shape[1], 1))"
   ]
  },
  {
   "cell_type": "code",
   "execution_count": 32,
   "metadata": {},
   "outputs": [
    {
     "name": "stdout",
     "output_type": "stream",
     "text": [
      "310/310 [==============================] - 3s 10ms/step\n"
     ]
    }
   ],
   "source": [
    "probs = model.predict(reshaped_fps)\n",
    "preds = [np.argmax(x) for x in probs]\n",
    "max_probs = [np.max(x) for x in probs]"
   ]
  },
  {
   "cell_type": "code",
   "execution_count": 33,
   "metadata": {},
   "outputs": [
    {
     "name": "stdout",
     "output_type": "stream",
     "text": [
      "              precision    recall  f1-score   support\n",
      "\n",
      "           0       0.65      0.81      0.72       767\n",
      "           1       0.88      0.65      0.75       439\n",
      "           2       0.87      0.78      0.82      1051\n",
      "           3       0.70      0.61      0.66       346\n",
      "           4       0.82      0.74      0.78       308\n",
      "           5       0.78      0.64      0.70       108\n",
      "           6       0.75      0.66      0.70       276\n",
      "           7       0.87      0.90      0.89      2524\n",
      "           8       0.82      0.84      0.83      1390\n",
      "           9       0.75      0.69      0.72       189\n",
      "          10       0.76      0.86      0.81      1456\n",
      "          11       0.90      0.79      0.84       141\n",
      "          12       0.87      0.46      0.60       141\n",
      "          13       0.71      0.72      0.72       310\n",
      "          14       0.82      0.54      0.65       161\n",
      "          15       0.80      0.70      0.75       302\n",
      "\n",
      "    accuracy                           0.80      9909\n",
      "   macro avg       0.80      0.71      0.75      9909\n",
      "weighted avg       0.81      0.80      0.80      9909\n",
      "\n"
     ]
    }
   ],
   "source": [
    "print(metrics.classification_report(drugs_w_mol['Label'],preds))"
   ]
  },
  {
   "cell_type": "code",
   "execution_count": 34,
   "metadata": {},
   "outputs": [],
   "source": [
    "drugs_w_mol_class_rep = \"\"\"precision    recall  f1-score   support\n",
    "\n",
    "           0       0.80      0.76      0.78       777\n",
    "           1       0.80      0.73      0.76       449\n",
    "           2       0.82      0.81      0.81      1072\n",
    "           3       0.74      0.58      0.65       350\n",
    "           4       0.82      0.78      0.80       312\n",
    "           5       0.69      0.72      0.70       111\n",
    "           6       0.75      0.79      0.77       277\n",
    "           7       0.86      0.92      0.89      2570\n",
    "           8       0.83      0.87      0.85      1420\n",
    "           9       0.81      0.57      0.67       195\n",
    "          10       0.79      0.87      0.83      1474\n",
    "          11       0.88      0.79      0.83       143\n",
    "          12       0.85      0.49      0.62       146\n",
    "          13       0.81      0.66      0.73       321\n",
    "          14       0.76      0.49      0.59       166\n",
    "          15       0.79      0.75      0.77       307\"\"\""
   ]
  },
  {
   "cell_type": "code",
   "execution_count": 35,
   "metadata": {},
   "outputs": [
    {
     "ename": "KeyError",
     "evalue": "'15'",
     "output_type": "error",
     "traceback": [
      "\u001b[1;31m---------------------------------------------------------------------------\u001b[0m",
      "\u001b[1;31mKeyError\u001b[0m                                  Traceback (most recent call last)",
      "\u001b[1;32mc:\\Users\\josin\\GitRepositories\\TFM_project\\drug-predictor\\notebooks\\phase3_performance.ipynb Cell 34\u001b[0m line \u001b[0;36m1\n\u001b[1;32m----> <a href='vscode-notebook-cell:/c%3A/Users/josin/GitRepositories/TFM_project/drug-predictor/notebooks/phase3_performance.ipynb#X44sZmlsZQ%3D%3D?line=0'>1</a>\u001b[0m plot_classification_report(drugs_w_mol_class_rep)\n",
      "\u001b[1;32mc:\\Users\\josin\\GitRepositories\\TFM_project\\drug-predictor\\notebooks\\phase3_performance.ipynb Cell 34\u001b[0m line \u001b[0;36m2\n\u001b[0;32m     <a href='vscode-notebook-cell:/c%3A/Users/josin/GitRepositories/TFM_project/drug-predictor/notebooks/phase3_performance.ipynb#X44sZmlsZQ%3D%3D?line=18'>19</a>\u001b[0m     plotMat\u001b[39m.\u001b[39mappend(v)\n\u001b[0;32m     <a href='vscode-notebook-cell:/c%3A/Users/josin/GitRepositories/TFM_project/drug-predictor/notebooks/phase3_performance.ipynb#X44sZmlsZQ%3D%3D?line=20'>21</a>\u001b[0m \u001b[39m#print('plotMat: {0}'.format(plotMat))\u001b[39;00m\n\u001b[0;32m     <a href='vscode-notebook-cell:/c%3A/Users/josin/GitRepositories/TFM_project/drug-predictor/notebooks/phase3_performance.ipynb#X44sZmlsZQ%3D%3D?line=21'>22</a>\u001b[0m \u001b[39m#print('support: {0}'.format(support))\u001b[39;00m\n\u001b[1;32m---> <a href='vscode-notebook-cell:/c%3A/Users/josin/GitRepositories/TFM_project/drug-predictor/notebooks/phase3_performance.ipynb#X44sZmlsZQ%3D%3D?line=22'>23</a>\u001b[0m class_names \u001b[39m=\u001b[39m [label_dic[\u001b[39mstr\u001b[39m(key)] \u001b[39mfor\u001b[39;00m key \u001b[39min\u001b[39;00m class_names]\n\u001b[0;32m     <a href='vscode-notebook-cell:/c%3A/Users/josin/GitRepositories/TFM_project/drug-predictor/notebooks/phase3_performance.ipynb#X44sZmlsZQ%3D%3D?line=24'>25</a>\u001b[0m xlabel \u001b[39m=\u001b[39m \u001b[39m'\u001b[39m\u001b[39mMetrics\u001b[39m\u001b[39m'\u001b[39m\n\u001b[0;32m     <a href='vscode-notebook-cell:/c%3A/Users/josin/GitRepositories/TFM_project/drug-predictor/notebooks/phase3_performance.ipynb#X44sZmlsZQ%3D%3D?line=25'>26</a>\u001b[0m ylabel \u001b[39m=\u001b[39m \u001b[39m'\u001b[39m\u001b[39mClasses\u001b[39m\u001b[39m'\u001b[39m\n",
      "\u001b[1;32mc:\\Users\\josin\\GitRepositories\\TFM_project\\drug-predictor\\notebooks\\phase3_performance.ipynb Cell 34\u001b[0m line \u001b[0;36m2\n\u001b[0;32m     <a href='vscode-notebook-cell:/c%3A/Users/josin/GitRepositories/TFM_project/drug-predictor/notebooks/phase3_performance.ipynb#X44sZmlsZQ%3D%3D?line=18'>19</a>\u001b[0m     plotMat\u001b[39m.\u001b[39mappend(v)\n\u001b[0;32m     <a href='vscode-notebook-cell:/c%3A/Users/josin/GitRepositories/TFM_project/drug-predictor/notebooks/phase3_performance.ipynb#X44sZmlsZQ%3D%3D?line=20'>21</a>\u001b[0m \u001b[39m#print('plotMat: {0}'.format(plotMat))\u001b[39;00m\n\u001b[0;32m     <a href='vscode-notebook-cell:/c%3A/Users/josin/GitRepositories/TFM_project/drug-predictor/notebooks/phase3_performance.ipynb#X44sZmlsZQ%3D%3D?line=21'>22</a>\u001b[0m \u001b[39m#print('support: {0}'.format(support))\u001b[39;00m\n\u001b[1;32m---> <a href='vscode-notebook-cell:/c%3A/Users/josin/GitRepositories/TFM_project/drug-predictor/notebooks/phase3_performance.ipynb#X44sZmlsZQ%3D%3D?line=22'>23</a>\u001b[0m class_names \u001b[39m=\u001b[39m [label_dic[\u001b[39mstr\u001b[39;49m(key)] \u001b[39mfor\u001b[39;00m key \u001b[39min\u001b[39;00m class_names]\n\u001b[0;32m     <a href='vscode-notebook-cell:/c%3A/Users/josin/GitRepositories/TFM_project/drug-predictor/notebooks/phase3_performance.ipynb#X44sZmlsZQ%3D%3D?line=24'>25</a>\u001b[0m xlabel \u001b[39m=\u001b[39m \u001b[39m'\u001b[39m\u001b[39mMetrics\u001b[39m\u001b[39m'\u001b[39m\n\u001b[0;32m     <a href='vscode-notebook-cell:/c%3A/Users/josin/GitRepositories/TFM_project/drug-predictor/notebooks/phase3_performance.ipynb#X44sZmlsZQ%3D%3D?line=25'>26</a>\u001b[0m ylabel \u001b[39m=\u001b[39m \u001b[39m'\u001b[39m\u001b[39mClasses\u001b[39m\u001b[39m'\u001b[39m\n",
      "\u001b[1;31mKeyError\u001b[0m: '15'"
     ]
    }
   ],
   "source": [
    "plot_classification_report(drugs_w_mol_class_rep)"
   ]
  },
  {
   "cell_type": "code",
   "execution_count": null,
   "metadata": {},
   "outputs": [],
   "source": []
  }
 ],
 "metadata": {
  "kernelspec": {
   "display_name": "kedro-environment",
   "language": "python",
   "name": "python3"
  },
  "language_info": {
   "codemirror_mode": {
    "name": "ipython",
    "version": 3
   },
   "file_extension": ".py",
   "mimetype": "text/x-python",
   "name": "python",
   "nbconvert_exporter": "python",
   "pygments_lexer": "ipython3",
   "version": "3.10.8"
  },
  "orig_nbformat": 4
 },
 "nbformat": 4,
 "nbformat_minor": 2
}
