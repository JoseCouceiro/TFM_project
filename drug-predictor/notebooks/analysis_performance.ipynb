{
 "cells": [
  {
   "cell_type": "markdown",
   "metadata": {},
   "source": [
    "### Analysis of Lipinski rules in predicted molecules\n",
    "In this notebook, a sample of random molecules is collected from PubChem and analysed with Drug Predictor's model. Then an analysis is conducted to observes any possible bias in the compliance to Lipinski rules between molecules predicted with high and low probabilities."
   ]
  },
  {
   "cell_type": "markdown",
   "metadata": {},
   "source": [
    "#### Imports and loads"
   ]
  },
  {
   "cell_type": "code",
   "execution_count": 2,
   "metadata": {},
   "outputs": [],
   "source": [
    "import os\n",
    "import random\n",
    "import pandas as pd\n",
    "import numpy as np\n",
    "import pubchempy as pcp\n",
    "from rdkit import Chem\n",
    "from rdkit.Chem import Lipinski\n",
    "from rdkit.Chem import Descriptors\n",
    "from compute_fp_note import Compute_FP\n",
    "from tensorflow.keras.models import load_model\n"
   ]
  },
  {
   "cell_type": "code",
   "execution_count": 4,
   "metadata": {},
   "outputs": [],
   "source": [
    "# Training dataset, loaded to avoid grabbing molecules used for training\n",
    "pubchem = pd.read_csv(os.path.join('..', 'data', '01_raw', 'dataset_pubchem.csv'))"
   ]
  },
  {
   "cell_type": "code",
   "execution_count": 26,
   "metadata": {},
   "outputs": [],
   "source": [
    "# The fingerprints used to train the model\n",
    "with open(os.path.join('..', 'data', '05_model_input', 'selected_fp.txt')) as file:\n",
    "            selected_fp = file.readline()"
   ]
  },
  {
   "cell_type": "code",
   "execution_count": 29,
   "metadata": {},
   "outputs": [],
   "source": [
    "# Load a computer wich holds all the functions to calculate any type of fingerprint\n",
    "computer = Compute_FP()"
   ]
  },
  {
   "cell_type": "code",
   "execution_count": 36,
   "metadata": {},
   "outputs": [
    {
     "name": "stdout",
     "output_type": "stream",
     "text": [
      "WARNING:tensorflow:Error in loading the saved optimizer state. As a result, your model is starting with a freshly initialized optimizer.\n"
     ]
    }
   ],
   "source": [
    "# Load the CNN model\n",
    "model = load_model(os.path.join('..', 'data', '06_models', 'def_model.hd5'))"
   ]
  },
  {
   "cell_type": "markdown",
   "metadata": {},
   "source": [
    "#### Collecting a n number of molecules not present in the training dataset"
   ]
  },
  {
   "cell_type": "code",
   "execution_count": 5,
   "metadata": {},
   "outputs": [],
   "source": [
    "n_mols = 10"
   ]
  },
  {
   "cell_type": "code",
   "execution_count": 16,
   "metadata": {},
   "outputs": [],
   "source": [
    "labeled_cids = list(pubchem['cid'])\n",
    "random_cids = []\n",
    "while len(random_cids) < 10:\n",
    "    i = random.randint(2, 15000000)\n",
    "    if i not in labeled_cids:\n",
    "        random_cids.append(i)"
   ]
  },
  {
   "cell_type": "markdown",
   "metadata": {},
   "source": [
    "#### Building a dataframe with the selected cids"
   ]
  },
  {
   "cell_type": "markdown",
   "metadata": {},
   "source": [
    "Functions"
   ]
  },
  {
   "cell_type": "code",
   "execution_count": 10,
   "metadata": {},
   "outputs": [],
   "source": [
    "def get_smiles(cid):\n",
    "    try:\n",
    "        compound = pcp.Compound.from_cid(cid)\n",
    "        return compound.isomeric_smiles\n",
    "    except:\n",
    "        'no smiles found'\n",
    "        return None"
   ]
  },
  {
   "cell_type": "code",
   "execution_count": 21,
   "metadata": {},
   "outputs": [],
   "source": [
    "def get_rdkit_molecule(smiles):\n",
    "    try:\n",
    "        mol = Chem.MolFromSmiles(smiles)\n",
    "        return mol\n",
    "    except:\n",
    "        print('no molecule found')\n",
    "        return None"
   ]
  },
  {
   "cell_type": "code",
   "execution_count": 31,
   "metadata": {},
   "outputs": [],
   "source": [
    "def get_fp(mol):\n",
    "    return computer.relate_fp_functions(selected_fp, mol)"
   ]
  },
  {
   "cell_type": "markdown",
   "metadata": {},
   "source": [
    "Building a Dataframe with 'cid', 'smiles' and 'molecule' columns"
   ]
  },
  {
   "cell_type": "code",
   "execution_count": 17,
   "metadata": {},
   "outputs": [],
   "source": [
    "randoms = pd.DataFrame()"
   ]
  },
  {
   "cell_type": "code",
   "execution_count": 18,
   "metadata": {},
   "outputs": [],
   "source": [
    "randoms['cid'] = random_cids"
   ]
  },
  {
   "cell_type": "code",
   "execution_count": 19,
   "metadata": {},
   "outputs": [],
   "source": [
    "randoms['smiles'] = randoms['cid'].map(get_smiles)"
   ]
  },
  {
   "cell_type": "code",
   "execution_count": 23,
   "metadata": {},
   "outputs": [],
   "source": [
    "randoms['molecule'] = randoms['smiles'].map(get_rdkit_molecule)"
   ]
  },
  {
   "cell_type": "code",
   "execution_count": 32,
   "metadata": {},
   "outputs": [],
   "source": [
    "randoms['fingerprints'] = randoms['molecule'].map(get_fp)"
   ]
  },
  {
   "cell_type": "code",
   "execution_count": 101,
   "metadata": {},
   "outputs": [],
   "source": [
    "randoms = randoms.dropna()"
   ]
  },
  {
   "cell_type": "code",
   "execution_count": 35,
   "metadata": {},
   "outputs": [
    {
     "name": "stdout",
     "output_type": "stream",
     "text": [
      "<class 'pandas.core.frame.DataFrame'>\n",
      "RangeIndex: 10 entries, 0 to 9\n",
      "Data columns (total 4 columns):\n",
      " #   Column        Non-Null Count  Dtype \n",
      "---  ------        --------------  ----- \n",
      " 0   cid           10 non-null     int64 \n",
      " 1   smiles        10 non-null     object\n",
      " 2   molecule      10 non-null     object\n",
      " 3   fingerprints  10 non-null     object\n",
      "dtypes: int64(1), object(3)\n",
      "memory usage: 448.0+ bytes\n"
     ]
    }
   ],
   "source": [
    "randoms.info()"
   ]
  },
  {
   "cell_type": "markdown",
   "metadata": {},
   "source": [
    "Saving the model for later if n_mols is high"
   ]
  },
  {
   "cell_type": "code",
   "execution_count": null,
   "metadata": {},
   "outputs": [],
   "source": [
    "#randoms.to_pickle('randoms_no_preds.pickle')"
   ]
  },
  {
   "cell_type": "markdown",
   "metadata": {},
   "source": [
    "#### Predicting the categories"
   ]
  },
  {
   "cell_type": "markdown",
   "metadata": {},
   "source": [
    "Reshaping the array of fingerprints"
   ]
  },
  {
   "cell_type": "code",
   "execution_count": 38,
   "metadata": {},
   "outputs": [],
   "source": [
    "fingerprints = np.array(list(randoms['fingerprints']))\n",
    "reshaped_fps = fingerprints.reshape((fingerprints.shape[0], fingerprints.shape[1], 1))"
   ]
  },
  {
   "cell_type": "markdown",
   "metadata": {},
   "source": [
    "Obtaining the predictions and the highest probabilities."
   ]
  },
  {
   "cell_type": "code",
   "execution_count": 47,
   "metadata": {},
   "outputs": [
    {
     "name": "stdout",
     "output_type": "stream",
     "text": [
      "1/1 [==============================] - 0s 25ms/step\n"
     ]
    }
   ],
   "source": [
    "probs = model.predict(reshaped_fps)\n",
    "preds = [np.argmax(x) for x in probs]\n",
    "max_probs = [np.max(x) for x in probs]"
   ]
  },
  {
   "cell_type": "markdown",
   "metadata": {},
   "source": [
    "Adding predictions and probabilities to the dataframe\n"
   ]
  },
  {
   "cell_type": "code",
   "execution_count": 48,
   "metadata": {},
   "outputs": [],
   "source": [
    "randoms['predictions'] = preds"
   ]
  },
  {
   "cell_type": "code",
   "execution_count": 49,
   "metadata": {},
   "outputs": [],
   "source": [
    "randoms['probabilities'] = max_probs"
   ]
  },
  {
   "cell_type": "code",
   "execution_count": 50,
   "metadata": {},
   "outputs": [],
   "source": [
    "#randoms.to_pickle('randoms.pickle')"
   ]
  },
  {
   "cell_type": "code",
   "execution_count": 168,
   "metadata": {},
   "outputs": [],
   "source": [
    "randoms = pd.read_pickle(os.path.join('randoms_smf.pickle'))"
   ]
  },
  {
   "cell_type": "code",
   "execution_count": 169,
   "metadata": {},
   "outputs": [
    {
     "data": {
      "text/html": [
       "<div>\n",
       "<style scoped>\n",
       "    .dataframe tbody tr th:only-of-type {\n",
       "        vertical-align: middle;\n",
       "    }\n",
       "\n",
       "    .dataframe tbody tr th {\n",
       "        vertical-align: top;\n",
       "    }\n",
       "\n",
       "    .dataframe thead th {\n",
       "        text-align: right;\n",
       "    }\n",
       "</style>\n",
       "<table border=\"1\" class=\"dataframe\">\n",
       "  <thead>\n",
       "    <tr style=\"text-align: right;\">\n",
       "      <th></th>\n",
       "      <th>cid</th>\n",
       "      <th>smiles</th>\n",
       "      <th>molecule</th>\n",
       "      <th>fingerprints</th>\n",
       "    </tr>\n",
       "  </thead>\n",
       "  <tbody>\n",
       "    <tr>\n",
       "      <th>0</th>\n",
       "      <td>13573036</td>\n",
       "      <td>CC1=C(C=C(N1C)C2=CC=CC=C2)C=NC3=CC=C(C=C3)[N+]...</td>\n",
       "      <td>&lt;rdkit.Chem.rdchem.Mol object at 0x000001E4BB8...</td>\n",
       "      <td>[0, 0, 0, 0, 0, 0, 0, 0, 0, 0, 0, 0, 0, 0, 0, ...</td>\n",
       "    </tr>\n",
       "    <tr>\n",
       "      <th>1</th>\n",
       "      <td>1230264</td>\n",
       "      <td>C1C[C@H]2[C@@H]3CN(C[C@@H]3[C@@H]1C2OC(=O)C4=C...</td>\n",
       "      <td>&lt;rdkit.Chem.rdchem.Mol object at 0x000001E4BB8...</td>\n",
       "      <td>[0, 0, 0, 0, 0, 0, 0, 0, 0, 0, 0, 0, 0, 0, 0, ...</td>\n",
       "    </tr>\n",
       "    <tr>\n",
       "      <th>2</th>\n",
       "      <td>7079270</td>\n",
       "      <td>C[NH+]1CCC2=C(C1)C(=C3C(=C2C(=O)/C=C/C4=C(C(=C...</td>\n",
       "      <td>&lt;rdkit.Chem.rdchem.Mol object at 0x000001E4BB8...</td>\n",
       "      <td>[0, 0, 0, 0, 0, 0, 0, 0, 0, 0, 0, 0, 0, 0, 0, ...</td>\n",
       "    </tr>\n",
       "    <tr>\n",
       "      <th>3</th>\n",
       "      <td>6136287</td>\n",
       "      <td>CCOC1=C(C=C(C=C1)/C=C\\2/C(=O)N(C(=S)S2)C3=C(C=...</td>\n",
       "      <td>&lt;rdkit.Chem.rdchem.Mol object at 0x000001E4BB8...</td>\n",
       "      <td>[0, 0, 0, 0, 0, 0, 0, 0, 0, 1, 0, 0, 0, 0, 0, ...</td>\n",
       "    </tr>\n",
       "    <tr>\n",
       "      <th>4</th>\n",
       "      <td>7961650</td>\n",
       "      <td>C[C@@H](C(=O)C1=CC=C(C=C1)F)OC(=O)CNS(=O)(=O)C...</td>\n",
       "      <td>&lt;rdkit.Chem.rdchem.Mol object at 0x000001E4BB8...</td>\n",
       "      <td>[0, 1, 0, 0, 0, 0, 0, 0, 0, 0, 0, 0, 0, 0, 0, ...</td>\n",
       "    </tr>\n",
       "  </tbody>\n",
       "</table>\n",
       "</div>"
      ],
      "text/plain": [
       "        cid                                             smiles   \n",
       "0  13573036  CC1=C(C=C(N1C)C2=CC=CC=C2)C=NC3=CC=C(C=C3)[N+]...  \\\n",
       "1   1230264  C1C[C@H]2[C@@H]3CN(C[C@@H]3[C@@H]1C2OC(=O)C4=C...   \n",
       "2   7079270  C[NH+]1CCC2=C(C1)C(=C3C(=C2C(=O)/C=C/C4=C(C(=C...   \n",
       "3   6136287  CCOC1=C(C=C(C=C1)/C=C\\2/C(=O)N(C(=S)S2)C3=C(C=...   \n",
       "4   7961650  C[C@@H](C(=O)C1=CC=C(C=C1)F)OC(=O)CNS(=O)(=O)C...   \n",
       "\n",
       "                                            molecule   \n",
       "0  <rdkit.Chem.rdchem.Mol object at 0x000001E4BB8...  \\\n",
       "1  <rdkit.Chem.rdchem.Mol object at 0x000001E4BB8...   \n",
       "2  <rdkit.Chem.rdchem.Mol object at 0x000001E4BB8...   \n",
       "3  <rdkit.Chem.rdchem.Mol object at 0x000001E4BB8...   \n",
       "4  <rdkit.Chem.rdchem.Mol object at 0x000001E4BB8...   \n",
       "\n",
       "                                        fingerprints  \n",
       "0  [0, 0, 0, 0, 0, 0, 0, 0, 0, 0, 0, 0, 0, 0, 0, ...  \n",
       "1  [0, 0, 0, 0, 0, 0, 0, 0, 0, 0, 0, 0, 0, 0, 0, ...  \n",
       "2  [0, 0, 0, 0, 0, 0, 0, 0, 0, 0, 0, 0, 0, 0, 0, ...  \n",
       "3  [0, 0, 0, 0, 0, 0, 0, 0, 0, 1, 0, 0, 0, 0, 0, ...  \n",
       "4  [0, 1, 0, 0, 0, 0, 0, 0, 0, 0, 0, 0, 0, 0, 0, ...  "
      ]
     },
     "execution_count": 169,
     "metadata": {},
     "output_type": "execute_result"
    }
   ],
   "source": [
    "randoms.head()"
   ]
  },
  {
   "cell_type": "code",
   "execution_count": 170,
   "metadata": {},
   "outputs": [],
   "source": [
    "def add_lipinski_props(df, molecule_column):\n",
    "    df['HBondAcceptorCount'] = df[molecule_column].map(Lipinski.NumHAcceptors)\n",
    "    df['HBondDonorCount'] = df[molecule_column].map(Lipinski.NumHDonors)\n",
    "    df['MolecularWeight'] = df[molecule_column].map(Descriptors.MolWt)\n",
    "    df['LogP'] = df[molecule_column].map(Descriptors.MolLogP)"
   ]
  },
  {
   "cell_type": "code",
   "execution_count": 171,
   "metadata": {},
   "outputs": [],
   "source": [
    "def is_lipinski(x: pd.DataFrame) -> pd.DataFrame:\n",
    "    \"\"\"\n",
    "    Function that applies a set of rules (Lipinski rules) to several columns of a pandas dataframe and returns \\\n",
    "          a dataframe with a new column that states if said rules were passed or not.\n",
    "    Input: pandas dataframe.\n",
    "    Output: pandas dataframe.\n",
    "    \"\"\"\n",
    "    # Lipinski rules\n",
    "    hdonor = x['HBondDonorCount'] < 6\n",
    "    haccept = x['HBondAcceptorCount'] < 10\n",
    "    mw = x['MolecularWeight'] < 500\n",
    "    clogP = x['LogP'] < 5\n",
    "    # Apply rules to dataframe\n",
    "    x['RuleFive'] = np.where(((hdonor & haccept & mw) | (hdonor & haccept & clogP) | (hdonor & mw & clogP) | (haccept & mw & clogP)), 1, 0)\n",
    "    return x"
   ]
  },
  {
   "cell_type": "code",
   "execution_count": 172,
   "metadata": {},
   "outputs": [],
   "source": [
    "add_lipinski_props(randoms, 'molecule')"
   ]
  },
  {
   "cell_type": "code",
   "execution_count": 173,
   "metadata": {},
   "outputs": [
    {
     "name": "stdout",
     "output_type": "stream",
     "text": [
      "<class 'pandas.core.frame.DataFrame'>\n",
      "Index: 9936 entries, 0 to 9955\n",
      "Data columns (total 8 columns):\n",
      " #   Column              Non-Null Count  Dtype  \n",
      "---  ------              --------------  -----  \n",
      " 0   cid                 9936 non-null   int64  \n",
      " 1   smiles              9936 non-null   object \n",
      " 2   molecule            9936 non-null   object \n",
      " 3   fingerprints        9936 non-null   object \n",
      " 4   HBondAcceptorCount  9936 non-null   int64  \n",
      " 5   HBondDonorCount     9936 non-null   int64  \n",
      " 6   MolecularWeight     9936 non-null   float64\n",
      " 7   LogP                9936 non-null   float64\n",
      "dtypes: float64(2), int64(3), object(3)\n",
      "memory usage: 698.6+ KB\n"
     ]
    }
   ],
   "source": [
    "randoms.info()"
   ]
  },
  {
   "cell_type": "code",
   "execution_count": 174,
   "metadata": {},
   "outputs": [
    {
     "data": {
      "text/html": [
       "<div>\n",
       "<style scoped>\n",
       "    .dataframe tbody tr th:only-of-type {\n",
       "        vertical-align: middle;\n",
       "    }\n",
       "\n",
       "    .dataframe tbody tr th {\n",
       "        vertical-align: top;\n",
       "    }\n",
       "\n",
       "    .dataframe thead th {\n",
       "        text-align: right;\n",
       "    }\n",
       "</style>\n",
       "<table border=\"1\" class=\"dataframe\">\n",
       "  <thead>\n",
       "    <tr style=\"text-align: right;\">\n",
       "      <th></th>\n",
       "      <th>cid</th>\n",
       "      <th>smiles</th>\n",
       "      <th>molecule</th>\n",
       "      <th>fingerprints</th>\n",
       "      <th>HBondAcceptorCount</th>\n",
       "      <th>HBondDonorCount</th>\n",
       "      <th>MolecularWeight</th>\n",
       "      <th>LogP</th>\n",
       "      <th>RuleFive</th>\n",
       "    </tr>\n",
       "  </thead>\n",
       "  <tbody>\n",
       "    <tr>\n",
       "      <th>0</th>\n",
       "      <td>13573036</td>\n",
       "      <td>CC1=C(C=C(N1C)C2=CC=CC=C2)C=NC3=CC=C(C=C3)[N+]...</td>\n",
       "      <td>&lt;rdkit.Chem.rdchem.Mol object at 0x000001E4BB8...</td>\n",
       "      <td>[0, 0, 0, 0, 0, 0, 0, 0, 0, 0, 0, 0, 0, 0, 0, ...</td>\n",
       "      <td>4</td>\n",
       "      <td>0</td>\n",
       "      <td>319.364</td>\n",
       "      <td>4.65932</td>\n",
       "      <td>1</td>\n",
       "    </tr>\n",
       "    <tr>\n",
       "      <th>1</th>\n",
       "      <td>1230264</td>\n",
       "      <td>C1C[C@H]2[C@@H]3CN(C[C@@H]3[C@@H]1C2OC(=O)C4=C...</td>\n",
       "      <td>&lt;rdkit.Chem.rdchem.Mol object at 0x000001E4BB8...</td>\n",
       "      <td>[0, 0, 0, 0, 0, 0, 0, 0, 0, 0, 0, 0, 0, 0, 0, ...</td>\n",
       "      <td>3</td>\n",
       "      <td>0</td>\n",
       "      <td>361.485</td>\n",
       "      <td>4.04250</td>\n",
       "      <td>1</td>\n",
       "    </tr>\n",
       "    <tr>\n",
       "      <th>2</th>\n",
       "      <td>7079270</td>\n",
       "      <td>C[NH+]1CCC2=C(C1)C(=C3C(=C2C(=O)/C=C/C4=C(C(=C...</td>\n",
       "      <td>&lt;rdkit.Chem.rdchem.Mol object at 0x000001E4BB8...</td>\n",
       "      <td>[0, 0, 0, 0, 0, 0, 0, 0, 0, 0, 0, 0, 0, 0, 0, ...</td>\n",
       "      <td>6</td>\n",
       "      <td>1</td>\n",
       "      <td>412.462</td>\n",
       "      <td>1.90800</td>\n",
       "      <td>1</td>\n",
       "    </tr>\n",
       "    <tr>\n",
       "      <th>3</th>\n",
       "      <td>6136287</td>\n",
       "      <td>CCOC1=C(C=C(C=C1)/C=C\\2/C(=O)N(C(=S)S2)C3=C(C=...</td>\n",
       "      <td>&lt;rdkit.Chem.rdchem.Mol object at 0x000001E4BB8...</td>\n",
       "      <td>[0, 0, 0, 0, 0, 0, 0, 0, 0, 1, 0, 0, 0, 0, 0, ...</td>\n",
       "      <td>5</td>\n",
       "      <td>0</td>\n",
       "      <td>399.537</td>\n",
       "      <td>5.11654</td>\n",
       "      <td>1</td>\n",
       "    </tr>\n",
       "    <tr>\n",
       "      <th>4</th>\n",
       "      <td>7961650</td>\n",
       "      <td>C[C@@H](C(=O)C1=CC=C(C=C1)F)OC(=O)CNS(=O)(=O)C...</td>\n",
       "      <td>&lt;rdkit.Chem.rdchem.Mol object at 0x000001E4BB8...</td>\n",
       "      <td>[0, 1, 0, 0, 0, 0, 0, 0, 0, 0, 0, 0, 0, 0, 0, ...</td>\n",
       "      <td>5</td>\n",
       "      <td>1</td>\n",
       "      <td>383.372</td>\n",
       "      <td>2.05770</td>\n",
       "      <td>1</td>\n",
       "    </tr>\n",
       "    <tr>\n",
       "      <th>...</th>\n",
       "      <td>...</td>\n",
       "      <td>...</td>\n",
       "      <td>...</td>\n",
       "      <td>...</td>\n",
       "      <td>...</td>\n",
       "      <td>...</td>\n",
       "      <td>...</td>\n",
       "      <td>...</td>\n",
       "      <td>...</td>\n",
       "    </tr>\n",
       "    <tr>\n",
       "      <th>9951</th>\n",
       "      <td>5957860</td>\n",
       "      <td>COC1=C(C=CC(=C1)/C=N/NC2=NC3=C(NON3)N=C2NC4=CC...</td>\n",
       "      <td>&lt;rdkit.Chem.rdchem.Mol object at 0x000001E4BB8...</td>\n",
       "      <td>[0, 0, 0, 0, 0, 0, 0, 0, 0, 0, 0, 0, 0, 0, 0, ...</td>\n",
       "      <td>11</td>\n",
       "      <td>4</td>\n",
       "      <td>592.403</td>\n",
       "      <td>4.61740</td>\n",
       "      <td>0</td>\n",
       "    </tr>\n",
       "    <tr>\n",
       "      <th>9952</th>\n",
       "      <td>12084460</td>\n",
       "      <td>C1[C@H]([C@H]([C@@H]([C@H](O1)OCC2=CC=CC=C2)O)...</td>\n",
       "      <td>&lt;rdkit.Chem.rdchem.Mol object at 0x000001E4BB8...</td>\n",
       "      <td>[0, 0, 0, 0, 0, 0, 0, 0, 0, 0, 0, 0, 0, 0, 0, ...</td>\n",
       "      <td>10</td>\n",
       "      <td>2</td>\n",
       "      <td>762.896</td>\n",
       "      <td>6.36440</td>\n",
       "      <td>0</td>\n",
       "    </tr>\n",
       "    <tr>\n",
       "      <th>9953</th>\n",
       "      <td>1667066</td>\n",
       "      <td>CC[C@H](C)OC(=O)[C@H](C)OC1=CC2=C(C=C1)C(=O)C(...</td>\n",
       "      <td>&lt;rdkit.Chem.rdchem.Mol object at 0x000001E4BB8...</td>\n",
       "      <td>[0, 1, 0, 0, 0, 0, 0, 0, 0, 0, 0, 0, 0, 0, 0, ...</td>\n",
       "      <td>6</td>\n",
       "      <td>0</td>\n",
       "      <td>438.520</td>\n",
       "      <td>5.99180</td>\n",
       "      <td>1</td>\n",
       "    </tr>\n",
       "    <tr>\n",
       "      <th>9954</th>\n",
       "      <td>14077126</td>\n",
       "      <td>C[C@@H]([C@H]1[C@@H](C[C@H](O1)OC)OC)OC(=O)NC2...</td>\n",
       "      <td>&lt;rdkit.Chem.rdchem.Mol object at 0x000001E4BB8...</td>\n",
       "      <td>[0, 1, 0, 0, 0, 0, 0, 0, 0, 0, 0, 0, 0, 0, 0, ...</td>\n",
       "      <td>9</td>\n",
       "      <td>1</td>\n",
       "      <td>385.329</td>\n",
       "      <td>2.21640</td>\n",
       "      <td>1</td>\n",
       "    </tr>\n",
       "    <tr>\n",
       "      <th>9955</th>\n",
       "      <td>2096849</td>\n",
       "      <td>CN1C(=O)C(=C(N(C1=O)CC2=CC=CC=C2)N)C(=O)CN3CCN...</td>\n",
       "      <td>&lt;rdkit.Chem.rdchem.Mol object at 0x000001E4BB8...</td>\n",
       "      <td>[0, 0, 0, 0, 0, 0, 0, 0, 0, 0, 0, 0, 0, 0, 0, ...</td>\n",
       "      <td>8</td>\n",
       "      <td>1</td>\n",
       "      <td>451.502</td>\n",
       "      <td>1.32150</td>\n",
       "      <td>1</td>\n",
       "    </tr>\n",
       "  </tbody>\n",
       "</table>\n",
       "<p>9936 rows × 9 columns</p>\n",
       "</div>"
      ],
      "text/plain": [
       "           cid                                             smiles   \n",
       "0     13573036  CC1=C(C=C(N1C)C2=CC=CC=C2)C=NC3=CC=C(C=C3)[N+]...  \\\n",
       "1      1230264  C1C[C@H]2[C@@H]3CN(C[C@@H]3[C@@H]1C2OC(=O)C4=C...   \n",
       "2      7079270  C[NH+]1CCC2=C(C1)C(=C3C(=C2C(=O)/C=C/C4=C(C(=C...   \n",
       "3      6136287  CCOC1=C(C=C(C=C1)/C=C\\2/C(=O)N(C(=S)S2)C3=C(C=...   \n",
       "4      7961650  C[C@@H](C(=O)C1=CC=C(C=C1)F)OC(=O)CNS(=O)(=O)C...   \n",
       "...        ...                                                ...   \n",
       "9951   5957860  COC1=C(C=CC(=C1)/C=N/NC2=NC3=C(NON3)N=C2NC4=CC...   \n",
       "9952  12084460  C1[C@H]([C@H]([C@@H]([C@H](O1)OCC2=CC=CC=C2)O)...   \n",
       "9953   1667066  CC[C@H](C)OC(=O)[C@H](C)OC1=CC2=C(C=C1)C(=O)C(...   \n",
       "9954  14077126  C[C@@H]([C@H]1[C@@H](C[C@H](O1)OC)OC)OC(=O)NC2...   \n",
       "9955   2096849  CN1C(=O)C(=C(N(C1=O)CC2=CC=CC=C2)N)C(=O)CN3CCN...   \n",
       "\n",
       "                                               molecule   \n",
       "0     <rdkit.Chem.rdchem.Mol object at 0x000001E4BB8...  \\\n",
       "1     <rdkit.Chem.rdchem.Mol object at 0x000001E4BB8...   \n",
       "2     <rdkit.Chem.rdchem.Mol object at 0x000001E4BB8...   \n",
       "3     <rdkit.Chem.rdchem.Mol object at 0x000001E4BB8...   \n",
       "4     <rdkit.Chem.rdchem.Mol object at 0x000001E4BB8...   \n",
       "...                                                 ...   \n",
       "9951  <rdkit.Chem.rdchem.Mol object at 0x000001E4BB8...   \n",
       "9952  <rdkit.Chem.rdchem.Mol object at 0x000001E4BB8...   \n",
       "9953  <rdkit.Chem.rdchem.Mol object at 0x000001E4BB8...   \n",
       "9954  <rdkit.Chem.rdchem.Mol object at 0x000001E4BB8...   \n",
       "9955  <rdkit.Chem.rdchem.Mol object at 0x000001E4BB8...   \n",
       "\n",
       "                                           fingerprints  HBondAcceptorCount   \n",
       "0     [0, 0, 0, 0, 0, 0, 0, 0, 0, 0, 0, 0, 0, 0, 0, ...                   4  \\\n",
       "1     [0, 0, 0, 0, 0, 0, 0, 0, 0, 0, 0, 0, 0, 0, 0, ...                   3   \n",
       "2     [0, 0, 0, 0, 0, 0, 0, 0, 0, 0, 0, 0, 0, 0, 0, ...                   6   \n",
       "3     [0, 0, 0, 0, 0, 0, 0, 0, 0, 1, 0, 0, 0, 0, 0, ...                   5   \n",
       "4     [0, 1, 0, 0, 0, 0, 0, 0, 0, 0, 0, 0, 0, 0, 0, ...                   5   \n",
       "...                                                 ...                 ...   \n",
       "9951  [0, 0, 0, 0, 0, 0, 0, 0, 0, 0, 0, 0, 0, 0, 0, ...                  11   \n",
       "9952  [0, 0, 0, 0, 0, 0, 0, 0, 0, 0, 0, 0, 0, 0, 0, ...                  10   \n",
       "9953  [0, 1, 0, 0, 0, 0, 0, 0, 0, 0, 0, 0, 0, 0, 0, ...                   6   \n",
       "9954  [0, 1, 0, 0, 0, 0, 0, 0, 0, 0, 0, 0, 0, 0, 0, ...                   9   \n",
       "9955  [0, 0, 0, 0, 0, 0, 0, 0, 0, 0, 0, 0, 0, 0, 0, ...                   8   \n",
       "\n",
       "      HBondDonorCount  MolecularWeight     LogP  RuleFive  \n",
       "0                   0          319.364  4.65932         1  \n",
       "1                   0          361.485  4.04250         1  \n",
       "2                   1          412.462  1.90800         1  \n",
       "3                   0          399.537  5.11654         1  \n",
       "4                   1          383.372  2.05770         1  \n",
       "...               ...              ...      ...       ...  \n",
       "9951                4          592.403  4.61740         0  \n",
       "9952                2          762.896  6.36440         0  \n",
       "9953                0          438.520  5.99180         1  \n",
       "9954                1          385.329  2.21640         1  \n",
       "9955                1          451.502  1.32150         1  \n",
       "\n",
       "[9936 rows x 9 columns]"
      ]
     },
     "execution_count": 174,
     "metadata": {},
     "output_type": "execute_result"
    }
   ],
   "source": [
    "is_lipinski(randoms)"
   ]
  },
  {
   "cell_type": "code",
   "execution_count": 175,
   "metadata": {},
   "outputs": [
    {
     "data": {
      "text/html": [
       "<div>\n",
       "<style scoped>\n",
       "    .dataframe tbody tr th:only-of-type {\n",
       "        vertical-align: middle;\n",
       "    }\n",
       "\n",
       "    .dataframe tbody tr th {\n",
       "        vertical-align: top;\n",
       "    }\n",
       "\n",
       "    .dataframe thead th {\n",
       "        text-align: right;\n",
       "    }\n",
       "</style>\n",
       "<table border=\"1\" class=\"dataframe\">\n",
       "  <thead>\n",
       "    <tr style=\"text-align: right;\">\n",
       "      <th></th>\n",
       "      <th>cid</th>\n",
       "      <th>smiles</th>\n",
       "      <th>molecule</th>\n",
       "      <th>fingerprints</th>\n",
       "      <th>HBondAcceptorCount</th>\n",
       "      <th>HBondDonorCount</th>\n",
       "      <th>MolecularWeight</th>\n",
       "      <th>LogP</th>\n",
       "      <th>RuleFive</th>\n",
       "    </tr>\n",
       "  </thead>\n",
       "  <tbody>\n",
       "    <tr>\n",
       "      <th>0</th>\n",
       "      <td>13573036</td>\n",
       "      <td>CC1=C(C=C(N1C)C2=CC=CC=C2)C=NC3=CC=C(C=C3)[N+]...</td>\n",
       "      <td>&lt;rdkit.Chem.rdchem.Mol object at 0x000001E4BB8...</td>\n",
       "      <td>[0, 0, 0, 0, 0, 0, 0, 0, 0, 0, 0, 0, 0, 0, 0, ...</td>\n",
       "      <td>4</td>\n",
       "      <td>0</td>\n",
       "      <td>319.364</td>\n",
       "      <td>4.65932</td>\n",
       "      <td>1</td>\n",
       "    </tr>\n",
       "    <tr>\n",
       "      <th>1</th>\n",
       "      <td>1230264</td>\n",
       "      <td>C1C[C@H]2[C@@H]3CN(C[C@@H]3[C@@H]1C2OC(=O)C4=C...</td>\n",
       "      <td>&lt;rdkit.Chem.rdchem.Mol object at 0x000001E4BB8...</td>\n",
       "      <td>[0, 0, 0, 0, 0, 0, 0, 0, 0, 0, 0, 0, 0, 0, 0, ...</td>\n",
       "      <td>3</td>\n",
       "      <td>0</td>\n",
       "      <td>361.485</td>\n",
       "      <td>4.04250</td>\n",
       "      <td>1</td>\n",
       "    </tr>\n",
       "    <tr>\n",
       "      <th>2</th>\n",
       "      <td>7079270</td>\n",
       "      <td>C[NH+]1CCC2=C(C1)C(=C3C(=C2C(=O)/C=C/C4=C(C(=C...</td>\n",
       "      <td>&lt;rdkit.Chem.rdchem.Mol object at 0x000001E4BB8...</td>\n",
       "      <td>[0, 0, 0, 0, 0, 0, 0, 0, 0, 0, 0, 0, 0, 0, 0, ...</td>\n",
       "      <td>6</td>\n",
       "      <td>1</td>\n",
       "      <td>412.462</td>\n",
       "      <td>1.90800</td>\n",
       "      <td>1</td>\n",
       "    </tr>\n",
       "    <tr>\n",
       "      <th>3</th>\n",
       "      <td>6136287</td>\n",
       "      <td>CCOC1=C(C=C(C=C1)/C=C\\2/C(=O)N(C(=S)S2)C3=C(C=...</td>\n",
       "      <td>&lt;rdkit.Chem.rdchem.Mol object at 0x000001E4BB8...</td>\n",
       "      <td>[0, 0, 0, 0, 0, 0, 0, 0, 0, 1, 0, 0, 0, 0, 0, ...</td>\n",
       "      <td>5</td>\n",
       "      <td>0</td>\n",
       "      <td>399.537</td>\n",
       "      <td>5.11654</td>\n",
       "      <td>1</td>\n",
       "    </tr>\n",
       "    <tr>\n",
       "      <th>4</th>\n",
       "      <td>7961650</td>\n",
       "      <td>C[C@@H](C(=O)C1=CC=C(C=C1)F)OC(=O)CNS(=O)(=O)C...</td>\n",
       "      <td>&lt;rdkit.Chem.rdchem.Mol object at 0x000001E4BB8...</td>\n",
       "      <td>[0, 1, 0, 0, 0, 0, 0, 0, 0, 0, 0, 0, 0, 0, 0, ...</td>\n",
       "      <td>5</td>\n",
       "      <td>1</td>\n",
       "      <td>383.372</td>\n",
       "      <td>2.05770</td>\n",
       "      <td>1</td>\n",
       "    </tr>\n",
       "  </tbody>\n",
       "</table>\n",
       "</div>"
      ],
      "text/plain": [
       "        cid                                             smiles   \n",
       "0  13573036  CC1=C(C=C(N1C)C2=CC=CC=C2)C=NC3=CC=C(C=C3)[N+]...  \\\n",
       "1   1230264  C1C[C@H]2[C@@H]3CN(C[C@@H]3[C@@H]1C2OC(=O)C4=C...   \n",
       "2   7079270  C[NH+]1CCC2=C(C1)C(=C3C(=C2C(=O)/C=C/C4=C(C(=C...   \n",
       "3   6136287  CCOC1=C(C=C(C=C1)/C=C\\2/C(=O)N(C(=S)S2)C3=C(C=...   \n",
       "4   7961650  C[C@@H](C(=O)C1=CC=C(C=C1)F)OC(=O)CNS(=O)(=O)C...   \n",
       "\n",
       "                                            molecule   \n",
       "0  <rdkit.Chem.rdchem.Mol object at 0x000001E4BB8...  \\\n",
       "1  <rdkit.Chem.rdchem.Mol object at 0x000001E4BB8...   \n",
       "2  <rdkit.Chem.rdchem.Mol object at 0x000001E4BB8...   \n",
       "3  <rdkit.Chem.rdchem.Mol object at 0x000001E4BB8...   \n",
       "4  <rdkit.Chem.rdchem.Mol object at 0x000001E4BB8...   \n",
       "\n",
       "                                        fingerprints  HBondAcceptorCount   \n",
       "0  [0, 0, 0, 0, 0, 0, 0, 0, 0, 0, 0, 0, 0, 0, 0, ...                   4  \\\n",
       "1  [0, 0, 0, 0, 0, 0, 0, 0, 0, 0, 0, 0, 0, 0, 0, ...                   3   \n",
       "2  [0, 0, 0, 0, 0, 0, 0, 0, 0, 0, 0, 0, 0, 0, 0, ...                   6   \n",
       "3  [0, 0, 0, 0, 0, 0, 0, 0, 0, 1, 0, 0, 0, 0, 0, ...                   5   \n",
       "4  [0, 1, 0, 0, 0, 0, 0, 0, 0, 0, 0, 0, 0, 0, 0, ...                   5   \n",
       "\n",
       "   HBondDonorCount  MolecularWeight     LogP  RuleFive  \n",
       "0                0          319.364  4.65932         1  \n",
       "1                0          361.485  4.04250         1  \n",
       "2                1          412.462  1.90800         1  \n",
       "3                0          399.537  5.11654         1  \n",
       "4                1          383.372  2.05770         1  "
      ]
     },
     "execution_count": 175,
     "metadata": {},
     "output_type": "execute_result"
    }
   ],
   "source": [
    "randoms.head()"
   ]
  },
  {
   "cell_type": "code",
   "execution_count": 184,
   "metadata": {},
   "outputs": [],
   "source": [
    "randoms.to_pickle(os.path.join('randoms_w_lip.pickle'))"
   ]
  },
  {
   "cell_type": "code",
   "execution_count": 7,
   "metadata": {},
   "outputs": [],
   "source": [
    "randoms = pd.read_pickle(os.path.join('randoms_w_lip.pickle'))"
   ]
  },
  {
   "cell_type": "code",
   "execution_count": 9,
   "metadata": {},
   "outputs": [
    {
     "data": {
      "text/plain": [
       "RuleFive\n",
       "0    0.608702\n",
       "1    0.584020\n",
       "Name: probabilities, dtype: float32"
      ]
     },
     "execution_count": 9,
     "metadata": {},
     "output_type": "execute_result"
    }
   ],
   "source": [
    "randoms.groupby('RuleFive')['probabilities'].mean()"
   ]
  },
  {
   "cell_type": "code",
   "execution_count": 10,
   "metadata": {},
   "outputs": [],
   "source": [
    "safest = randoms[randoms['probabilities']>0.9]"
   ]
  },
  {
   "cell_type": "code",
   "execution_count": 11,
   "metadata": {},
   "outputs": [
    {
     "data": {
      "text/plain": [
       "1344"
      ]
     },
     "execution_count": 11,
     "metadata": {},
     "output_type": "execute_result"
    }
   ],
   "source": [
    "len(safest)"
   ]
  },
  {
   "cell_type": "code",
   "execution_count": 12,
   "metadata": {},
   "outputs": [
    {
     "data": {
      "text/plain": [
       "RuleFive\n",
       "0     192\n",
       "1    1152\n",
       "Name: probabilities, dtype: int64"
      ]
     },
     "execution_count": 12,
     "metadata": {},
     "output_type": "execute_result"
    }
   ],
   "source": [
    "safest.groupby('RuleFive')['probabilities'].count()"
   ]
  },
  {
   "cell_type": "code",
   "execution_count": 13,
   "metadata": {},
   "outputs": [
    {
     "data": {
      "text/plain": [
       "Index(['cid', 'smiles', 'molecule', 'fingerprints', 'HBondAcceptorCount',\n",
       "       'HBondDonorCount', 'MolecularWeight', 'LogP', 'RuleFive',\n",
       "       'probabilities'],\n",
       "      dtype='object')"
      ]
     },
     "execution_count": 13,
     "metadata": {},
     "output_type": "execute_result"
    }
   ],
   "source": [
    "randoms.columns"
   ]
  },
  {
   "cell_type": "code",
   "execution_count": 14,
   "metadata": {},
   "outputs": [],
   "source": [
    "randoms_analysis = randoms.drop(['smiles', 'molecule', 'fingerprints'], axis=1)"
   ]
  },
  {
   "cell_type": "code",
   "execution_count": 15,
   "metadata": {},
   "outputs": [
    {
     "name": "stdout",
     "output_type": "stream",
     "text": [
      "<class 'pandas.core.frame.DataFrame'>\n",
      "Index: 9936 entries, 0 to 9955\n",
      "Data columns (total 7 columns):\n",
      " #   Column              Non-Null Count  Dtype  \n",
      "---  ------              --------------  -----  \n",
      " 0   cid                 9936 non-null   int64  \n",
      " 1   HBondAcceptorCount  9936 non-null   int64  \n",
      " 2   HBondDonorCount     9936 non-null   int64  \n",
      " 3   MolecularWeight     9936 non-null   float64\n",
      " 4   LogP                9936 non-null   float64\n",
      " 5   RuleFive            9936 non-null   int32  \n",
      " 6   probabilities       9936 non-null   float32\n",
      "dtypes: float32(1), float64(2), int32(1), int64(3)\n",
      "memory usage: 543.4 KB\n"
     ]
    }
   ],
   "source": [
    "randoms_analysis.info()"
   ]
  },
  {
   "cell_type": "code",
   "execution_count": 16,
   "metadata": {},
   "outputs": [
    {
     "data": {
      "text/html": [
       "<div>\n",
       "<style scoped>\n",
       "    .dataframe tbody tr th:only-of-type {\n",
       "        vertical-align: middle;\n",
       "    }\n",
       "\n",
       "    .dataframe tbody tr th {\n",
       "        vertical-align: top;\n",
       "    }\n",
       "\n",
       "    .dataframe thead th {\n",
       "        text-align: right;\n",
       "    }\n",
       "</style>\n",
       "<table border=\"1\" class=\"dataframe\">\n",
       "  <thead>\n",
       "    <tr style=\"text-align: right;\">\n",
       "      <th></th>\n",
       "      <th>cid</th>\n",
       "      <th>HBondAcceptorCount</th>\n",
       "      <th>HBondDonorCount</th>\n",
       "      <th>MolecularWeight</th>\n",
       "      <th>LogP</th>\n",
       "      <th>probabilities</th>\n",
       "    </tr>\n",
       "    <tr>\n",
       "      <th>RuleFive</th>\n",
       "      <th></th>\n",
       "      <th></th>\n",
       "      <th></th>\n",
       "      <th></th>\n",
       "      <th></th>\n",
       "      <th></th>\n",
       "    </tr>\n",
       "  </thead>\n",
       "  <tbody>\n",
       "    <tr>\n",
       "      <th>0</th>\n",
       "      <td>0.107589</td>\n",
       "      <td>0.107589</td>\n",
       "      <td>0.107589</td>\n",
       "      <td>0.107589</td>\n",
       "      <td>0.107589</td>\n",
       "      <td>0.107589</td>\n",
       "    </tr>\n",
       "    <tr>\n",
       "      <th>1</th>\n",
       "      <td>0.892411</td>\n",
       "      <td>0.892411</td>\n",
       "      <td>0.892411</td>\n",
       "      <td>0.892411</td>\n",
       "      <td>0.892411</td>\n",
       "      <td>0.892411</td>\n",
       "    </tr>\n",
       "  </tbody>\n",
       "</table>\n",
       "</div>"
      ],
      "text/plain": [
       "               cid  HBondAcceptorCount  HBondDonorCount  MolecularWeight   \n",
       "RuleFive                                                                   \n",
       "0         0.107589            0.107589         0.107589         0.107589  \\\n",
       "1         0.892411            0.892411         0.892411         0.892411   \n",
       "\n",
       "              LogP  probabilities  \n",
       "RuleFive                           \n",
       "0         0.107589       0.107589  \n",
       "1         0.892411       0.892411  "
      ]
     },
     "execution_count": 16,
     "metadata": {},
     "output_type": "execute_result"
    }
   ],
   "source": [
    "randoms_analysis.groupby('RuleFive').count()/len(randoms_analysis)"
   ]
  },
  {
   "cell_type": "code",
   "execution_count": 17,
   "metadata": {},
   "outputs": [],
   "source": [
    "safest_analysis = randoms_analysis[randoms_analysis['probabilities']>0.7]"
   ]
  },
  {
   "cell_type": "code",
   "execution_count": 18,
   "metadata": {},
   "outputs": [
    {
     "data": {
      "text/html": [
       "<div>\n",
       "<style scoped>\n",
       "    .dataframe tbody tr th:only-of-type {\n",
       "        vertical-align: middle;\n",
       "    }\n",
       "\n",
       "    .dataframe tbody tr th {\n",
       "        vertical-align: top;\n",
       "    }\n",
       "\n",
       "    .dataframe thead th {\n",
       "        text-align: right;\n",
       "    }\n",
       "</style>\n",
       "<table border=\"1\" class=\"dataframe\">\n",
       "  <thead>\n",
       "    <tr style=\"text-align: right;\">\n",
       "      <th></th>\n",
       "      <th>cid</th>\n",
       "      <th>HBondAcceptorCount</th>\n",
       "      <th>HBondDonorCount</th>\n",
       "      <th>MolecularWeight</th>\n",
       "      <th>LogP</th>\n",
       "      <th>probabilities</th>\n",
       "    </tr>\n",
       "    <tr>\n",
       "      <th>RuleFive</th>\n",
       "      <th></th>\n",
       "      <th></th>\n",
       "      <th></th>\n",
       "      <th></th>\n",
       "      <th></th>\n",
       "      <th></th>\n",
       "    </tr>\n",
       "  </thead>\n",
       "  <tbody>\n",
       "    <tr>\n",
       "      <th>0</th>\n",
       "      <td>8.572043e+06</td>\n",
       "      <td>9.796069</td>\n",
       "      <td>3.149877</td>\n",
       "      <td>705.860218</td>\n",
       "      <td>5.042110</td>\n",
       "      <td>0.881701</td>\n",
       "    </tr>\n",
       "    <tr>\n",
       "      <th>1</th>\n",
       "      <td>7.484470e+06</td>\n",
       "      <td>4.578584</td>\n",
       "      <td>1.239724</td>\n",
       "      <td>363.742101</td>\n",
       "      <td>3.119728</td>\n",
       "      <td>0.863904</td>\n",
       "    </tr>\n",
       "  </tbody>\n",
       "</table>\n",
       "</div>"
      ],
      "text/plain": [
       "                   cid  HBondAcceptorCount  HBondDonorCount  MolecularWeight   \n",
       "RuleFive                                                                       \n",
       "0         8.572043e+06            9.796069         3.149877       705.860218  \\\n",
       "1         7.484470e+06            4.578584         1.239724       363.742101   \n",
       "\n",
       "              LogP  probabilities  \n",
       "RuleFive                           \n",
       "0         5.042110       0.881701  \n",
       "1         3.119728       0.863904  "
      ]
     },
     "execution_count": 18,
     "metadata": {},
     "output_type": "execute_result"
    }
   ],
   "source": [
    "safest_analysis.groupby('RuleFive').mean()"
   ]
  },
  {
   "cell_type": "code",
   "execution_count": 19,
   "metadata": {},
   "outputs": [
    {
     "data": {
      "text/html": [
       "<div>\n",
       "<style scoped>\n",
       "    .dataframe tbody tr th:only-of-type {\n",
       "        vertical-align: middle;\n",
       "    }\n",
       "\n",
       "    .dataframe tbody tr th {\n",
       "        vertical-align: top;\n",
       "    }\n",
       "\n",
       "    .dataframe thead th {\n",
       "        text-align: right;\n",
       "    }\n",
       "</style>\n",
       "<table border=\"1\" class=\"dataframe\">\n",
       "  <thead>\n",
       "    <tr style=\"text-align: right;\">\n",
       "      <th></th>\n",
       "      <th>cid</th>\n",
       "      <th>HBondAcceptorCount</th>\n",
       "      <th>HBondDonorCount</th>\n",
       "      <th>MolecularWeight</th>\n",
       "      <th>LogP</th>\n",
       "      <th>probabilities</th>\n",
       "    </tr>\n",
       "    <tr>\n",
       "      <th>RuleFive</th>\n",
       "      <th></th>\n",
       "      <th></th>\n",
       "      <th></th>\n",
       "      <th></th>\n",
       "      <th></th>\n",
       "      <th></th>\n",
       "    </tr>\n",
       "  </thead>\n",
       "  <tbody>\n",
       "    <tr>\n",
       "      <th>0</th>\n",
       "      <td>0.123259</td>\n",
       "      <td>0.123259</td>\n",
       "      <td>0.123259</td>\n",
       "      <td>0.123259</td>\n",
       "      <td>0.123259</td>\n",
       "      <td>0.123259</td>\n",
       "    </tr>\n",
       "    <tr>\n",
       "      <th>1</th>\n",
       "      <td>0.876741</td>\n",
       "      <td>0.876741</td>\n",
       "      <td>0.876741</td>\n",
       "      <td>0.876741</td>\n",
       "      <td>0.876741</td>\n",
       "      <td>0.876741</td>\n",
       "    </tr>\n",
       "  </tbody>\n",
       "</table>\n",
       "</div>"
      ],
      "text/plain": [
       "               cid  HBondAcceptorCount  HBondDonorCount  MolecularWeight   \n",
       "RuleFive                                                                   \n",
       "0         0.123259            0.123259         0.123259         0.123259  \\\n",
       "1         0.876741            0.876741         0.876741         0.876741   \n",
       "\n",
       "              LogP  probabilities  \n",
       "RuleFive                           \n",
       "0         0.123259       0.123259  \n",
       "1         0.876741       0.876741  "
      ]
     },
     "execution_count": 19,
     "metadata": {},
     "output_type": "execute_result"
    }
   ],
   "source": [
    "safest_analysis.groupby('RuleFive').count()/len(safest_analysis)"
   ]
  },
  {
   "cell_type": "code",
   "execution_count": 20,
   "metadata": {},
   "outputs": [],
   "source": [
    "drugs = pd.read_csv(os.path.join('../data/03_primary/all_drugs_dataset.csv'))"
   ]
  },
  {
   "cell_type": "code",
   "execution_count": 21,
   "metadata": {},
   "outputs": [
    {
     "name": "stdout",
     "output_type": "stream",
     "text": [
      "<class 'pandas.core.frame.DataFrame'>\n",
      "RangeIndex: 203 entries, 0 to 202\n",
      "Data columns (total 9 columns):\n",
      " #   Column                 Non-Null Count  Dtype  \n",
      "---  ------                 --------------  -----  \n",
      " 0   CID                    203 non-null    int64  \n",
      " 1   HBondAcceptorCount     203 non-null    int64  \n",
      " 2   HBondDonorCount        203 non-null    int64  \n",
      " 3   IsomericSMILES         203 non-null    object \n",
      " 4   MolecularWeight        203 non-null    float64\n",
      " 5   LogP                   172 non-null    float64\n",
      " 6   RuleFive               203 non-null    int64  \n",
      " 7   MATC_Code_Short        203 non-null    object \n",
      " 8   MATC_Code_Explanation  203 non-null    object \n",
      "dtypes: float64(2), int64(4), object(3)\n",
      "memory usage: 14.4+ KB\n"
     ]
    }
   ],
   "source": [
    "drugs.info()"
   ]
  },
  {
   "cell_type": "code",
   "execution_count": 22,
   "metadata": {},
   "outputs": [],
   "source": [
    "drugs_analysis = drugs.drop(['IsomericSMILES', 'MATC_Code_Short', 'MATC_Code_Explanation'], axis=1)"
   ]
  },
  {
   "cell_type": "code",
   "execution_count": 23,
   "metadata": {},
   "outputs": [
    {
     "data": {
      "text/html": [
       "<div>\n",
       "<style scoped>\n",
       "    .dataframe tbody tr th:only-of-type {\n",
       "        vertical-align: middle;\n",
       "    }\n",
       "\n",
       "    .dataframe tbody tr th {\n",
       "        vertical-align: top;\n",
       "    }\n",
       "\n",
       "    .dataframe thead th {\n",
       "        text-align: right;\n",
       "    }\n",
       "</style>\n",
       "<table border=\"1\" class=\"dataframe\">\n",
       "  <thead>\n",
       "    <tr style=\"text-align: right;\">\n",
       "      <th></th>\n",
       "      <th>CID</th>\n",
       "      <th>HBondAcceptorCount</th>\n",
       "      <th>HBondDonorCount</th>\n",
       "      <th>MolecularWeight</th>\n",
       "      <th>LogP</th>\n",
       "    </tr>\n",
       "    <tr>\n",
       "      <th>RuleFive</th>\n",
       "      <th></th>\n",
       "      <th></th>\n",
       "      <th></th>\n",
       "      <th></th>\n",
       "      <th></th>\n",
       "    </tr>\n",
       "  </thead>\n",
       "  <tbody>\n",
       "    <tr>\n",
       "      <th>0</th>\n",
       "      <td>0.172414</td>\n",
       "      <td>0.172414</td>\n",
       "      <td>0.172414</td>\n",
       "      <td>0.172414</td>\n",
       "      <td>0.064039</td>\n",
       "    </tr>\n",
       "    <tr>\n",
       "      <th>1</th>\n",
       "      <td>0.827586</td>\n",
       "      <td>0.827586</td>\n",
       "      <td>0.827586</td>\n",
       "      <td>0.827586</td>\n",
       "      <td>0.783251</td>\n",
       "    </tr>\n",
       "  </tbody>\n",
       "</table>\n",
       "</div>"
      ],
      "text/plain": [
       "               CID  HBondAcceptorCount  HBondDonorCount  MolecularWeight   \n",
       "RuleFive                                                                   \n",
       "0         0.172414            0.172414         0.172414         0.172414  \\\n",
       "1         0.827586            0.827586         0.827586         0.827586   \n",
       "\n",
       "              LogP  \n",
       "RuleFive            \n",
       "0         0.064039  \n",
       "1         0.783251  "
      ]
     },
     "execution_count": 23,
     "metadata": {},
     "output_type": "execute_result"
    }
   ],
   "source": [
    "drugs_analysis.groupby('RuleFive').count()/len(drugs)"
   ]
  },
  {
   "cell_type": "code",
   "execution_count": 24,
   "metadata": {},
   "outputs": [
    {
     "data": {
      "text/html": [
       "<div>\n",
       "<style scoped>\n",
       "    .dataframe tbody tr th:only-of-type {\n",
       "        vertical-align: middle;\n",
       "    }\n",
       "\n",
       "    .dataframe tbody tr th {\n",
       "        vertical-align: top;\n",
       "    }\n",
       "\n",
       "    .dataframe thead th {\n",
       "        text-align: right;\n",
       "    }\n",
       "</style>\n",
       "<table border=\"1\" class=\"dataframe\">\n",
       "  <thead>\n",
       "    <tr style=\"text-align: right;\">\n",
       "      <th></th>\n",
       "      <th>CID</th>\n",
       "      <th>HBondAcceptorCount</th>\n",
       "      <th>HBondDonorCount</th>\n",
       "      <th>MolecularWeight</th>\n",
       "      <th>LogP</th>\n",
       "    </tr>\n",
       "    <tr>\n",
       "      <th>RuleFive</th>\n",
       "      <th></th>\n",
       "      <th></th>\n",
       "      <th></th>\n",
       "      <th></th>\n",
       "      <th></th>\n",
       "    </tr>\n",
       "  </thead>\n",
       "  <tbody>\n",
       "    <tr>\n",
       "      <th>0</th>\n",
       "      <td>2.153905e+07</td>\n",
       "      <td>11.628571</td>\n",
       "      <td>7.885714</td>\n",
       "      <td>949.565746</td>\n",
       "      <td>-2.558462</td>\n",
       "    </tr>\n",
       "    <tr>\n",
       "      <th>1</th>\n",
       "      <td>4.670556e+06</td>\n",
       "      <td>3.327381</td>\n",
       "      <td>1.541667</td>\n",
       "      <td>256.537738</td>\n",
       "      <td>1.641509</td>\n",
       "    </tr>\n",
       "  </tbody>\n",
       "</table>\n",
       "</div>"
      ],
      "text/plain": [
       "                   CID  HBondAcceptorCount  HBondDonorCount  MolecularWeight   \n",
       "RuleFive                                                                       \n",
       "0         2.153905e+07           11.628571         7.885714       949.565746  \\\n",
       "1         4.670556e+06            3.327381         1.541667       256.537738   \n",
       "\n",
       "              LogP  \n",
       "RuleFive            \n",
       "0        -2.558462  \n",
       "1         1.641509  "
      ]
     },
     "execution_count": 24,
     "metadata": {},
     "output_type": "execute_result"
    }
   ],
   "source": [
    "drugs_analysis.groupby('RuleFive').mean()"
   ]
  },
  {
   "cell_type": "code",
   "execution_count": 25,
   "metadata": {},
   "outputs": [
    {
     "data": {
      "text/html": [
       "<div>\n",
       "<style scoped>\n",
       "    .dataframe tbody tr th:only-of-type {\n",
       "        vertical-align: middle;\n",
       "    }\n",
       "\n",
       "    .dataframe tbody tr th {\n",
       "        vertical-align: top;\n",
       "    }\n",
       "\n",
       "    .dataframe thead th {\n",
       "        text-align: right;\n",
       "    }\n",
       "</style>\n",
       "<table border=\"1\" class=\"dataframe\">\n",
       "  <thead>\n",
       "    <tr style=\"text-align: right;\">\n",
       "      <th></th>\n",
       "      <th>cid</th>\n",
       "      <th>HBondAcceptorCount</th>\n",
       "      <th>HBondDonorCount</th>\n",
       "      <th>MolecularWeight</th>\n",
       "      <th>LogP</th>\n",
       "      <th>probabilities</th>\n",
       "    </tr>\n",
       "    <tr>\n",
       "      <th>RuleFive</th>\n",
       "      <th></th>\n",
       "      <th></th>\n",
       "      <th></th>\n",
       "      <th></th>\n",
       "      <th></th>\n",
       "      <th></th>\n",
       "    </tr>\n",
       "  </thead>\n",
       "  <tbody>\n",
       "    <tr>\n",
       "      <th>0</th>\n",
       "      <td>8.461197e+06</td>\n",
       "      <td>8.743686</td>\n",
       "      <td>2.762395</td>\n",
       "      <td>683.377282</td>\n",
       "      <td>5.466515</td>\n",
       "      <td>0.608702</td>\n",
       "    </tr>\n",
       "    <tr>\n",
       "      <th>1</th>\n",
       "      <td>7.354755e+06</td>\n",
       "      <td>4.489343</td>\n",
       "      <td>1.136235</td>\n",
       "      <td>359.932612</td>\n",
       "      <td>3.183786</td>\n",
       "      <td>0.584020</td>\n",
       "    </tr>\n",
       "  </tbody>\n",
       "</table>\n",
       "</div>"
      ],
      "text/plain": [
       "                   cid  HBondAcceptorCount  HBondDonorCount  MolecularWeight   \n",
       "RuleFive                                                                       \n",
       "0         8.461197e+06            8.743686         2.762395       683.377282  \\\n",
       "1         7.354755e+06            4.489343         1.136235       359.932612   \n",
       "\n",
       "              LogP  probabilities  \n",
       "RuleFive                           \n",
       "0         5.466515       0.608702  \n",
       "1         3.183786       0.584020  "
      ]
     },
     "execution_count": 25,
     "metadata": {},
     "output_type": "execute_result"
    }
   ],
   "source": [
    "randoms_analysis.groupby('RuleFive').mean()"
   ]
  },
  {
   "cell_type": "code",
   "execution_count": 26,
   "metadata": {},
   "outputs": [
    {
     "data": {
      "text/html": [
       "<div>\n",
       "<style scoped>\n",
       "    .dataframe tbody tr th:only-of-type {\n",
       "        vertical-align: middle;\n",
       "    }\n",
       "\n",
       "    .dataframe tbody tr th {\n",
       "        vertical-align: top;\n",
       "    }\n",
       "\n",
       "    .dataframe thead th {\n",
       "        text-align: right;\n",
       "    }\n",
       "</style>\n",
       "<table border=\"1\" class=\"dataframe\">\n",
       "  <thead>\n",
       "    <tr style=\"text-align: right;\">\n",
       "      <th></th>\n",
       "      <th>CID</th>\n",
       "    </tr>\n",
       "  </thead>\n",
       "  <tbody>\n",
       "    <tr>\n",
       "      <th>0</th>\n",
       "      <td>24769</td>\n",
       "    </tr>\n",
       "    <tr>\n",
       "      <th>1</th>\n",
       "      <td>134694070</td>\n",
       "    </tr>\n",
       "    <tr>\n",
       "      <th>2</th>\n",
       "      <td>5121</td>\n",
       "    </tr>\n",
       "    <tr>\n",
       "      <th>3</th>\n",
       "      <td>4660557</td>\n",
       "    </tr>\n",
       "    <tr>\n",
       "      <th>4</th>\n",
       "      <td>122175</td>\n",
       "    </tr>\n",
       "    <tr>\n",
       "      <th>...</th>\n",
       "      <td>...</td>\n",
       "    </tr>\n",
       "    <tr>\n",
       "      <th>198</th>\n",
       "      <td>5311065</td>\n",
       "    </tr>\n",
       "    <tr>\n",
       "      <th>199</th>\n",
       "      <td>25074887</td>\n",
       "    </tr>\n",
       "    <tr>\n",
       "      <th>200</th>\n",
       "      <td>21585658</td>\n",
       "    </tr>\n",
       "    <tr>\n",
       "      <th>201</th>\n",
       "      <td>5284373</td>\n",
       "    </tr>\n",
       "    <tr>\n",
       "      <th>202</th>\n",
       "      <td>16131215</td>\n",
       "    </tr>\n",
       "  </tbody>\n",
       "</table>\n",
       "<p>203 rows × 1 columns</p>\n",
       "</div>"
      ],
      "text/plain": [
       "           CID\n",
       "0        24769\n",
       "1    134694070\n",
       "2         5121\n",
       "3      4660557\n",
       "4       122175\n",
       "..         ...\n",
       "198    5311065\n",
       "199   25074887\n",
       "200   21585658\n",
       "201    5284373\n",
       "202   16131215\n",
       "\n",
       "[203 rows x 1 columns]"
      ]
     },
     "execution_count": 26,
     "metadata": {},
     "output_type": "execute_result"
    }
   ],
   "source": [
    "pd.DataFrame(drugs_analysis['CID'])"
   ]
  },
  {
   "cell_type": "code",
   "execution_count": 27,
   "metadata": {},
   "outputs": [],
   "source": [
    "drugs_w_mol = pd.read_pickle('../data/05_model_input/input_table.pickle/2023-09-07T18.33.38.013Z/input_table.pickle')"
   ]
  },
  {
   "cell_type": "code",
   "execution_count": 28,
   "metadata": {},
   "outputs": [
    {
     "data": {
      "text/html": [
       "<div>\n",
       "<style scoped>\n",
       "    .dataframe tbody tr th:only-of-type {\n",
       "        vertical-align: middle;\n",
       "    }\n",
       "\n",
       "    .dataframe tbody tr th {\n",
       "        vertical-align: top;\n",
       "    }\n",
       "\n",
       "    .dataframe thead th {\n",
       "        text-align: right;\n",
       "    }\n",
       "</style>\n",
       "<table border=\"1\" class=\"dataframe\">\n",
       "  <thead>\n",
       "    <tr style=\"text-align: right;\">\n",
       "      <th></th>\n",
       "      <th>CID</th>\n",
       "      <th>MATC_Code_Short</th>\n",
       "      <th>MATC_Code_Explanation</th>\n",
       "      <th>Molecule</th>\n",
       "      <th>Morgan2FP</th>\n",
       "      <th>MACCSKeys</th>\n",
       "      <th>AtomPairFP</th>\n",
       "      <th>TopTorFP</th>\n",
       "      <th>AvalonFP</th>\n",
       "      <th>PubchemFP</th>\n",
       "      <th>Label</th>\n",
       "    </tr>\n",
       "  </thead>\n",
       "  <tbody>\n",
       "    <tr>\n",
       "      <th>0</th>\n",
       "      <td>24769</td>\n",
       "      <td>B</td>\n",
       "      <td>BLOOD AND BLOOD FORMING ORGANS</td>\n",
       "      <td>&lt;rdkit.Chem.rdchem.Mol object at 0x000002784DF...</td>\n",
       "      <td>[0, 0, 0, 0, 0, 0, 0, 0, 0, 0, 0, 0, 0, 0, 0, ...</td>\n",
       "      <td>[0, 0, 0, 0, 0, 0, 0, 0, 0, 0, 0, 0, 0, 0, 0, ...</td>\n",
       "      <td>[0, 0, 0, 0, 0, 0, 0, 0, 0, 0, 0, 0, 0, 0, 0, ...</td>\n",
       "      <td>[0, 0, 0, 0, 0, 0, 0, 0, 0, 0, 0, 0, 0, 0, 0, ...</td>\n",
       "      <td>[0, 0, 0, 0, 0, 0, 0, 0, 0, 0, 0, 0, 0, 0, 0, ...</td>\n",
       "      <td>[1, 1, 0, 1, 1, 1, 0, 0, 0, 1, 1, 1, 1, 0, 0, ...</td>\n",
       "      <td>1</td>\n",
       "    </tr>\n",
       "    <tr>\n",
       "      <th>1</th>\n",
       "      <td>134694070</td>\n",
       "      <td>C</td>\n",
       "      <td>CARDIOVASCULAR SYSTEM</td>\n",
       "      <td>&lt;rdkit.Chem.rdchem.Mol object at 0x00000278503...</td>\n",
       "      <td>[0, 1, 0, 0, 0, 0, 0, 0, 0, 0, 0, 0, 0, 0, 0, ...</td>\n",
       "      <td>[0, 0, 0, 0, 0, 0, 0, 0, 0, 0, 0, 0, 0, 0, 0, ...</td>\n",
       "      <td>[1, 1, 0, 0, 1, 1, 0, 0, 0, 0, 0, 0, 0, 0, 0, ...</td>\n",
       "      <td>[0, 0, 0, 0, 0, 0, 0, 0, 0, 0, 0, 0, 0, 0, 0, ...</td>\n",
       "      <td>[0, 0, 0, 0, 0, 0, 1, 0, 0, 0, 0, 0, 0, 0, 0, ...</td>\n",
       "      <td>[1, 1, 0, 1, 1, 1, 0, 0, 0, 1, 1, 1, 1, 0, 0, ...</td>\n",
       "      <td>2</td>\n",
       "    </tr>\n",
       "    <tr>\n",
       "      <th>2</th>\n",
       "      <td>5121</td>\n",
       "      <td>J</td>\n",
       "      <td>ANTIINFECTIVES FOR SYSTEMIC USE</td>\n",
       "      <td>&lt;rdkit.Chem.rdchem.Mol object at 0x00000278503...</td>\n",
       "      <td>[0, 0, 0, 0, 0, 0, 0, 0, 0, 0, 0, 0, 0, 0, 0, ...</td>\n",
       "      <td>[0, 0, 0, 0, 0, 0, 0, 0, 0, 0, 0, 0, 0, 0, 0, ...</td>\n",
       "      <td>[1, 1, 1, 0, 0, 0, 0, 0, 0, 0, 0, 0, 0, 0, 0, ...</td>\n",
       "      <td>[0, 0, 0, 0, 0, 0, 0, 0, 0, 0, 0, 0, 0, 0, 0, ...</td>\n",
       "      <td>[1, 0, 0, 0, 0, 0, 0, 0, 0, 0, 0, 0, 0, 0, 1, ...</td>\n",
       "      <td>[1, 1, 0, 1, 1, 1, 0, 0, 0, 1, 1, 1, 0, 0, 0, ...</td>\n",
       "      <td>7</td>\n",
       "    </tr>\n",
       "    <tr>\n",
       "      <th>3</th>\n",
       "      <td>4660557</td>\n",
       "      <td>N</td>\n",
       "      <td>NERVOUS SYSTEM</td>\n",
       "      <td>&lt;rdkit.Chem.rdchem.Mol object at 0x00000278503...</td>\n",
       "      <td>[0, 0, 0, 0, 0, 0, 0, 0, 0, 0, 0, 0, 0, 0, 0, ...</td>\n",
       "      <td>[0, 0, 0, 0, 0, 0, 0, 0, 0, 0, 0, 0, 0, 0, 0, ...</td>\n",
       "      <td>[1, 1, 1, 1, 1, 0, 0, 0, 0, 0, 0, 0, 0, 0, 0, ...</td>\n",
       "      <td>[0, 0, 0, 0, 0, 0, 0, 0, 0, 0, 0, 0, 0, 0, 0, ...</td>\n",
       "      <td>[0, 0, 0, 0, 1, 0, 0, 0, 0, 0, 0, 0, 0, 0, 0, ...</td>\n",
       "      <td>[1, 1, 0, 1, 1, 1, 0, 0, 0, 1, 1, 1, 1, 0, 0, ...</td>\n",
       "      <td>10</td>\n",
       "    </tr>\n",
       "    <tr>\n",
       "      <th>4</th>\n",
       "      <td>122175</td>\n",
       "      <td>L</td>\n",
       "      <td>ANTINEOPLASTIC AND IMMUNOMODULATING AGENTS</td>\n",
       "      <td>&lt;rdkit.Chem.rdchem.Mol object at 0x00000278503...</td>\n",
       "      <td>[0, 1, 0, 0, 0, 0, 0, 0, 0, 0, 0, 0, 0, 0, 0, ...</td>\n",
       "      <td>[0, 0, 0, 0, 0, 0, 0, 0, 0, 0, 0, 0, 0, 0, 0, ...</td>\n",
       "      <td>[0, 0, 0, 0, 0, 0, 0, 0, 0, 0, 0, 0, 0, 0, 0, ...</td>\n",
       "      <td>[0, 0, 0, 0, 0, 0, 0, 0, 0, 0, 0, 0, 0, 0, 0, ...</td>\n",
       "      <td>[0, 0, 0, 0, 0, 0, 0, 0, 0, 0, 0, 0, 0, 0, 0, ...</td>\n",
       "      <td>[1, 1, 0, 1, 1, 1, 0, 0, 0, 1, 1, 1, 0, 0, 0, ...</td>\n",
       "      <td>8</td>\n",
       "    </tr>\n",
       "    <tr>\n",
       "      <th>...</th>\n",
       "      <td>...</td>\n",
       "      <td>...</td>\n",
       "      <td>...</td>\n",
       "      <td>...</td>\n",
       "      <td>...</td>\n",
       "      <td>...</td>\n",
       "      <td>...</td>\n",
       "      <td>...</td>\n",
       "      <td>...</td>\n",
       "      <td>...</td>\n",
       "      <td>...</td>\n",
       "    </tr>\n",
       "    <tr>\n",
       "      <th>10105</th>\n",
       "      <td>65450</td>\n",
       "      <td>J</td>\n",
       "      <td>ANTIINFECTIVES FOR SYSTEMIC USE</td>\n",
       "      <td>&lt;rdkit.Chem.rdchem.Mol object at 0x0000027847C...</td>\n",
       "      <td>[0, 0, 0, 0, 0, 0, 0, 0, 0, 0, 0, 0, 0, 1, 0, ...</td>\n",
       "      <td>[0, 0, 0, 0, 0, 0, 0, 0, 0, 0, 0, 0, 0, 0, 0, ...</td>\n",
       "      <td>[0, 0, 0, 0, 1, 0, 0, 0, 0, 0, 0, 0, 0, 0, 0, ...</td>\n",
       "      <td>[0, 0, 0, 0, 0, 0, 0, 0, 0, 0, 0, 0, 0, 0, 0, ...</td>\n",
       "      <td>[0, 0, 0, 0, 0, 0, 0, 0, 0, 0, 0, 0, 0, 0, 0, ...</td>\n",
       "      <td>[1, 1, 0, 1, 1, 1, 0, 0, 0, 1, 1, 1, 1, 0, 0, ...</td>\n",
       "      <td>7</td>\n",
       "    </tr>\n",
       "    <tr>\n",
       "      <th>10106</th>\n",
       "      <td>91800164</td>\n",
       "      <td>V</td>\n",
       "      <td>VARIOUS</td>\n",
       "      <td>&lt;rdkit.Chem.rdchem.Mol object at 0x0000027847B...</td>\n",
       "      <td>[0, 1, 0, 0, 0, 0, 0, 0, 0, 0, 0, 0, 0, 0, 0, ...</td>\n",
       "      <td>[0, 0, 0, 0, 0, 0, 0, 0, 0, 0, 0, 0, 0, 0, 0, ...</td>\n",
       "      <td>[1, 1, 1, 1, 1, 1, 1, 1, 1, 1, 1, 1, 1, 1, 0, ...</td>\n",
       "      <td>[1, 1, 0, 0, 0, 0, 0, 0, 0, 0, 0, 0, 0, 0, 0, ...</td>\n",
       "      <td>[0, 0, 0, 0, 0, 0, 0, 0, 0, 0, 0, 0, 0, 0, 0, ...</td>\n",
       "      <td>[1, 1, 0, 1, 1, 1, 0, 0, 0, 1, 1, 1, 1, 1, 0, ...</td>\n",
       "      <td>15</td>\n",
       "    </tr>\n",
       "    <tr>\n",
       "      <th>10107</th>\n",
       "      <td>9851775</td>\n",
       "      <td>P</td>\n",
       "      <td>ANTIPARASITIC PRODUCTS INSECTICIDES AND REPELL...</td>\n",
       "      <td>&lt;rdkit.Chem.rdchem.Mol object at 0x0000027847B...</td>\n",
       "      <td>[0, 0, 0, 0, 0, 0, 0, 0, 0, 0, 0, 0, 0, 0, 0, ...</td>\n",
       "      <td>[0, 0, 0, 0, 0, 0, 0, 0, 0, 0, 0, 0, 0, 0, 0, ...</td>\n",
       "      <td>[1, 1, 1, 0, 1, 1, 1, 0, 0, 0, 0, 0, 1, 0, 0, ...</td>\n",
       "      <td>[0, 0, 0, 0, 0, 0, 0, 0, 0, 0, 0, 0, 0, 0, 0, ...</td>\n",
       "      <td>[1, 0, 0, 0, 0, 0, 0, 0, 0, 0, 0, 0, 0, 0, 0, ...</td>\n",
       "      <td>[1, 1, 0, 1, 1, 1, 0, 0, 0, 1, 1, 1, 1, 0, 0, ...</td>\n",
       "      <td>12</td>\n",
       "    </tr>\n",
       "    <tr>\n",
       "      <th>10108</th>\n",
       "      <td>16019977</td>\n",
       "      <td>V</td>\n",
       "      <td>VARIOUS</td>\n",
       "      <td>&lt;rdkit.Chem.rdchem.Mol object at 0x0000027847B...</td>\n",
       "      <td>[0, 0, 0, 0, 0, 0, 0, 0, 0, 0, 0, 0, 0, 0, 0, ...</td>\n",
       "      <td>[0, 0, 0, 0, 0, 0, 0, 0, 0, 0, 0, 0, 0, 0, 0, ...</td>\n",
       "      <td>[0, 0, 0, 0, 0, 0, 0, 0, 0, 0, 0, 0, 0, 0, 0, ...</td>\n",
       "      <td>[0, 0, 0, 0, 0, 0, 0, 0, 0, 0, 0, 0, 0, 0, 0, ...</td>\n",
       "      <td>[0, 0, 0, 0, 0, 0, 0, 0, 0, 0, 0, 0, 0, 0, 0, ...</td>\n",
       "      <td>[1, 1, 0, 1, 1, 1, 0, 0, 0, 1, 0, 0, 0, 0, 0, ...</td>\n",
       "      <td>15</td>\n",
       "    </tr>\n",
       "    <tr>\n",
       "      <th>10109</th>\n",
       "      <td>11789360</td>\n",
       "      <td>V</td>\n",
       "      <td>VARIOUS</td>\n",
       "      <td>&lt;rdkit.Chem.rdchem.Mol object at 0x0000027847B...</td>\n",
       "      <td>[0, 1, 0, 0, 0, 0, 0, 0, 0, 0, 0, 1, 0, 0, 0, ...</td>\n",
       "      <td>[0, 0, 0, 0, 0, 0, 0, 0, 0, 0, 0, 0, 0, 0, 0, ...</td>\n",
       "      <td>[0, 0, 0, 0, 0, 0, 0, 0, 0, 0, 0, 0, 0, 0, 0, ...</td>\n",
       "      <td>[0, 0, 0, 0, 0, 0, 0, 0, 0, 0, 0, 0, 0, 0, 0, ...</td>\n",
       "      <td>[1, 0, 0, 0, 0, 0, 0, 0, 0, 0, 0, 0, 0, 0, 0, ...</td>\n",
       "      <td>[1, 1, 0, 1, 1, 1, 0, 0, 0, 1, 1, 1, 0, 0, 0, ...</td>\n",
       "      <td>15</td>\n",
       "    </tr>\n",
       "  </tbody>\n",
       "</table>\n",
       "<p>9909 rows × 11 columns</p>\n",
       "</div>"
      ],
      "text/plain": [
       "             CID MATC_Code_Short   \n",
       "0          24769               B  \\\n",
       "1      134694070               C   \n",
       "2           5121               J   \n",
       "3        4660557               N   \n",
       "4         122175               L   \n",
       "...          ...             ...   \n",
       "10105      65450               J   \n",
       "10106   91800164               V   \n",
       "10107    9851775               P   \n",
       "10108   16019977               V   \n",
       "10109   11789360               V   \n",
       "\n",
       "                                   MATC_Code_Explanation   \n",
       "0                         BLOOD AND BLOOD FORMING ORGANS  \\\n",
       "1                                  CARDIOVASCULAR SYSTEM   \n",
       "2                        ANTIINFECTIVES FOR SYSTEMIC USE   \n",
       "3                                         NERVOUS SYSTEM   \n",
       "4             ANTINEOPLASTIC AND IMMUNOMODULATING AGENTS   \n",
       "...                                                  ...   \n",
       "10105                    ANTIINFECTIVES FOR SYSTEMIC USE   \n",
       "10106                                            VARIOUS   \n",
       "10107  ANTIPARASITIC PRODUCTS INSECTICIDES AND REPELL...   \n",
       "10108                                            VARIOUS   \n",
       "10109                                            VARIOUS   \n",
       "\n",
       "                                                Molecule   \n",
       "0      <rdkit.Chem.rdchem.Mol object at 0x000002784DF...  \\\n",
       "1      <rdkit.Chem.rdchem.Mol object at 0x00000278503...   \n",
       "2      <rdkit.Chem.rdchem.Mol object at 0x00000278503...   \n",
       "3      <rdkit.Chem.rdchem.Mol object at 0x00000278503...   \n",
       "4      <rdkit.Chem.rdchem.Mol object at 0x00000278503...   \n",
       "...                                                  ...   \n",
       "10105  <rdkit.Chem.rdchem.Mol object at 0x0000027847C...   \n",
       "10106  <rdkit.Chem.rdchem.Mol object at 0x0000027847B...   \n",
       "10107  <rdkit.Chem.rdchem.Mol object at 0x0000027847B...   \n",
       "10108  <rdkit.Chem.rdchem.Mol object at 0x0000027847B...   \n",
       "10109  <rdkit.Chem.rdchem.Mol object at 0x0000027847B...   \n",
       "\n",
       "                                               Morgan2FP   \n",
       "0      [0, 0, 0, 0, 0, 0, 0, 0, 0, 0, 0, 0, 0, 0, 0, ...  \\\n",
       "1      [0, 1, 0, 0, 0, 0, 0, 0, 0, 0, 0, 0, 0, 0, 0, ...   \n",
       "2      [0, 0, 0, 0, 0, 0, 0, 0, 0, 0, 0, 0, 0, 0, 0, ...   \n",
       "3      [0, 0, 0, 0, 0, 0, 0, 0, 0, 0, 0, 0, 0, 0, 0, ...   \n",
       "4      [0, 1, 0, 0, 0, 0, 0, 0, 0, 0, 0, 0, 0, 0, 0, ...   \n",
       "...                                                  ...   \n",
       "10105  [0, 0, 0, 0, 0, 0, 0, 0, 0, 0, 0, 0, 0, 1, 0, ...   \n",
       "10106  [0, 1, 0, 0, 0, 0, 0, 0, 0, 0, 0, 0, 0, 0, 0, ...   \n",
       "10107  [0, 0, 0, 0, 0, 0, 0, 0, 0, 0, 0, 0, 0, 0, 0, ...   \n",
       "10108  [0, 0, 0, 0, 0, 0, 0, 0, 0, 0, 0, 0, 0, 0, 0, ...   \n",
       "10109  [0, 1, 0, 0, 0, 0, 0, 0, 0, 0, 0, 1, 0, 0, 0, ...   \n",
       "\n",
       "                                               MACCSKeys   \n",
       "0      [0, 0, 0, 0, 0, 0, 0, 0, 0, 0, 0, 0, 0, 0, 0, ...  \\\n",
       "1      [0, 0, 0, 0, 0, 0, 0, 0, 0, 0, 0, 0, 0, 0, 0, ...   \n",
       "2      [0, 0, 0, 0, 0, 0, 0, 0, 0, 0, 0, 0, 0, 0, 0, ...   \n",
       "3      [0, 0, 0, 0, 0, 0, 0, 0, 0, 0, 0, 0, 0, 0, 0, ...   \n",
       "4      [0, 0, 0, 0, 0, 0, 0, 0, 0, 0, 0, 0, 0, 0, 0, ...   \n",
       "...                                                  ...   \n",
       "10105  [0, 0, 0, 0, 0, 0, 0, 0, 0, 0, 0, 0, 0, 0, 0, ...   \n",
       "10106  [0, 0, 0, 0, 0, 0, 0, 0, 0, 0, 0, 0, 0, 0, 0, ...   \n",
       "10107  [0, 0, 0, 0, 0, 0, 0, 0, 0, 0, 0, 0, 0, 0, 0, ...   \n",
       "10108  [0, 0, 0, 0, 0, 0, 0, 0, 0, 0, 0, 0, 0, 0, 0, ...   \n",
       "10109  [0, 0, 0, 0, 0, 0, 0, 0, 0, 0, 0, 0, 0, 0, 0, ...   \n",
       "\n",
       "                                              AtomPairFP   \n",
       "0      [0, 0, 0, 0, 0, 0, 0, 0, 0, 0, 0, 0, 0, 0, 0, ...  \\\n",
       "1      [1, 1, 0, 0, 1, 1, 0, 0, 0, 0, 0, 0, 0, 0, 0, ...   \n",
       "2      [1, 1, 1, 0, 0, 0, 0, 0, 0, 0, 0, 0, 0, 0, 0, ...   \n",
       "3      [1, 1, 1, 1, 1, 0, 0, 0, 0, 0, 0, 0, 0, 0, 0, ...   \n",
       "4      [0, 0, 0, 0, 0, 0, 0, 0, 0, 0, 0, 0, 0, 0, 0, ...   \n",
       "...                                                  ...   \n",
       "10105  [0, 0, 0, 0, 1, 0, 0, 0, 0, 0, 0, 0, 0, 0, 0, ...   \n",
       "10106  [1, 1, 1, 1, 1, 1, 1, 1, 1, 1, 1, 1, 1, 1, 0, ...   \n",
       "10107  [1, 1, 1, 0, 1, 1, 1, 0, 0, 0, 0, 0, 1, 0, 0, ...   \n",
       "10108  [0, 0, 0, 0, 0, 0, 0, 0, 0, 0, 0, 0, 0, 0, 0, ...   \n",
       "10109  [0, 0, 0, 0, 0, 0, 0, 0, 0, 0, 0, 0, 0, 0, 0, ...   \n",
       "\n",
       "                                                TopTorFP   \n",
       "0      [0, 0, 0, 0, 0, 0, 0, 0, 0, 0, 0, 0, 0, 0, 0, ...  \\\n",
       "1      [0, 0, 0, 0, 0, 0, 0, 0, 0, 0, 0, 0, 0, 0, 0, ...   \n",
       "2      [0, 0, 0, 0, 0, 0, 0, 0, 0, 0, 0, 0, 0, 0, 0, ...   \n",
       "3      [0, 0, 0, 0, 0, 0, 0, 0, 0, 0, 0, 0, 0, 0, 0, ...   \n",
       "4      [0, 0, 0, 0, 0, 0, 0, 0, 0, 0, 0, 0, 0, 0, 0, ...   \n",
       "...                                                  ...   \n",
       "10105  [0, 0, 0, 0, 0, 0, 0, 0, 0, 0, 0, 0, 0, 0, 0, ...   \n",
       "10106  [1, 1, 0, 0, 0, 0, 0, 0, 0, 0, 0, 0, 0, 0, 0, ...   \n",
       "10107  [0, 0, 0, 0, 0, 0, 0, 0, 0, 0, 0, 0, 0, 0, 0, ...   \n",
       "10108  [0, 0, 0, 0, 0, 0, 0, 0, 0, 0, 0, 0, 0, 0, 0, ...   \n",
       "10109  [0, 0, 0, 0, 0, 0, 0, 0, 0, 0, 0, 0, 0, 0, 0, ...   \n",
       "\n",
       "                                                AvalonFP   \n",
       "0      [0, 0, 0, 0, 0, 0, 0, 0, 0, 0, 0, 0, 0, 0, 0, ...  \\\n",
       "1      [0, 0, 0, 0, 0, 0, 1, 0, 0, 0, 0, 0, 0, 0, 0, ...   \n",
       "2      [1, 0, 0, 0, 0, 0, 0, 0, 0, 0, 0, 0, 0, 0, 1, ...   \n",
       "3      [0, 0, 0, 0, 1, 0, 0, 0, 0, 0, 0, 0, 0, 0, 0, ...   \n",
       "4      [0, 0, 0, 0, 0, 0, 0, 0, 0, 0, 0, 0, 0, 0, 0, ...   \n",
       "...                                                  ...   \n",
       "10105  [0, 0, 0, 0, 0, 0, 0, 0, 0, 0, 0, 0, 0, 0, 0, ...   \n",
       "10106  [0, 0, 0, 0, 0, 0, 0, 0, 0, 0, 0, 0, 0, 0, 0, ...   \n",
       "10107  [1, 0, 0, 0, 0, 0, 0, 0, 0, 0, 0, 0, 0, 0, 0, ...   \n",
       "10108  [0, 0, 0, 0, 0, 0, 0, 0, 0, 0, 0, 0, 0, 0, 0, ...   \n",
       "10109  [1, 0, 0, 0, 0, 0, 0, 0, 0, 0, 0, 0, 0, 0, 0, ...   \n",
       "\n",
       "                                               PubchemFP  Label  \n",
       "0      [1, 1, 0, 1, 1, 1, 0, 0, 0, 1, 1, 1, 1, 0, 0, ...      1  \n",
       "1      [1, 1, 0, 1, 1, 1, 0, 0, 0, 1, 1, 1, 1, 0, 0, ...      2  \n",
       "2      [1, 1, 0, 1, 1, 1, 0, 0, 0, 1, 1, 1, 0, 0, 0, ...      7  \n",
       "3      [1, 1, 0, 1, 1, 1, 0, 0, 0, 1, 1, 1, 1, 0, 0, ...     10  \n",
       "4      [1, 1, 0, 1, 1, 1, 0, 0, 0, 1, 1, 1, 0, 0, 0, ...      8  \n",
       "...                                                  ...    ...  \n",
       "10105  [1, 1, 0, 1, 1, 1, 0, 0, 0, 1, 1, 1, 1, 0, 0, ...      7  \n",
       "10106  [1, 1, 0, 1, 1, 1, 0, 0, 0, 1, 1, 1, 1, 1, 0, ...     15  \n",
       "10107  [1, 1, 0, 1, 1, 1, 0, 0, 0, 1, 1, 1, 1, 0, 0, ...     12  \n",
       "10108  [1, 1, 0, 1, 1, 1, 0, 0, 0, 1, 0, 0, 0, 0, 0, ...     15  \n",
       "10109  [1, 1, 0, 1, 1, 1, 0, 0, 0, 1, 1, 1, 0, 0, 0, ...     15  \n",
       "\n",
       "[9909 rows x 11 columns]"
      ]
     },
     "execution_count": 28,
     "metadata": {},
     "output_type": "execute_result"
    }
   ],
   "source": [
    "drugs_w_mol"
   ]
  },
  {
   "cell_type": "code",
   "execution_count": 29,
   "metadata": {},
   "outputs": [],
   "source": [
    "drugs_w_mol = drugs_w_mol[['CID', 'Molecule']]"
   ]
  },
  {
   "cell_type": "code",
   "execution_count": 30,
   "metadata": {},
   "outputs": [
    {
     "name": "stdout",
     "output_type": "stream",
     "text": [
      "<class 'pandas.core.frame.DataFrame'>\n",
      "Index: 9909 entries, 0 to 10109\n",
      "Data columns (total 2 columns):\n",
      " #   Column    Non-Null Count  Dtype \n",
      "---  ------    --------------  ----- \n",
      " 0   CID       9909 non-null   int64 \n",
      " 1   Molecule  9909 non-null   object\n",
      "dtypes: int64(1), object(1)\n",
      "memory usage: 232.2+ KB\n"
     ]
    }
   ],
   "source": [
    "drugs_w_mol.info()"
   ]
  },
  {
   "cell_type": "code",
   "execution_count": 31,
   "metadata": {},
   "outputs": [
    {
     "data": {
      "text/html": [
       "<div>\n",
       "<style scoped>\n",
       "    .dataframe tbody tr th:only-of-type {\n",
       "        vertical-align: middle;\n",
       "    }\n",
       "\n",
       "    .dataframe tbody tr th {\n",
       "        vertical-align: top;\n",
       "    }\n",
       "\n",
       "    .dataframe thead th {\n",
       "        text-align: right;\n",
       "    }\n",
       "</style>\n",
       "<table border=\"1\" class=\"dataframe\">\n",
       "  <thead>\n",
       "    <tr style=\"text-align: right;\">\n",
       "      <th></th>\n",
       "      <th>cid</th>\n",
       "      <th>HBondAcceptorCount</th>\n",
       "      <th>HBondDonorCount</th>\n",
       "      <th>MolecularWeight</th>\n",
       "      <th>LogP</th>\n",
       "      <th>probabilities</th>\n",
       "    </tr>\n",
       "    <tr>\n",
       "      <th>RuleFive</th>\n",
       "      <th></th>\n",
       "      <th></th>\n",
       "      <th></th>\n",
       "      <th></th>\n",
       "      <th></th>\n",
       "      <th></th>\n",
       "    </tr>\n",
       "  </thead>\n",
       "  <tbody>\n",
       "    <tr>\n",
       "      <th>0</th>\n",
       "      <td>0.107589</td>\n",
       "      <td>0.107589</td>\n",
       "      <td>0.107589</td>\n",
       "      <td>0.107589</td>\n",
       "      <td>0.107589</td>\n",
       "      <td>0.107589</td>\n",
       "    </tr>\n",
       "    <tr>\n",
       "      <th>1</th>\n",
       "      <td>0.892411</td>\n",
       "      <td>0.892411</td>\n",
       "      <td>0.892411</td>\n",
       "      <td>0.892411</td>\n",
       "      <td>0.892411</td>\n",
       "      <td>0.892411</td>\n",
       "    </tr>\n",
       "  </tbody>\n",
       "</table>\n",
       "</div>"
      ],
      "text/plain": [
       "               cid  HBondAcceptorCount  HBondDonorCount  MolecularWeight   \n",
       "RuleFive                                                                   \n",
       "0         0.107589            0.107589         0.107589         0.107589  \\\n",
       "1         0.892411            0.892411         0.892411         0.892411   \n",
       "\n",
       "              LogP  probabilities  \n",
       "RuleFive                           \n",
       "0         0.107589       0.107589  \n",
       "1         0.892411       0.892411  "
      ]
     },
     "metadata": {},
     "output_type": "display_data"
    },
    {
     "data": {
      "text/html": [
       "<div>\n",
       "<style scoped>\n",
       "    .dataframe tbody tr th:only-of-type {\n",
       "        vertical-align: middle;\n",
       "    }\n",
       "\n",
       "    .dataframe tbody tr th {\n",
       "        vertical-align: top;\n",
       "    }\n",
       "\n",
       "    .dataframe thead th {\n",
       "        text-align: right;\n",
       "    }\n",
       "</style>\n",
       "<table border=\"1\" class=\"dataframe\">\n",
       "  <thead>\n",
       "    <tr style=\"text-align: right;\">\n",
       "      <th></th>\n",
       "      <th>cid</th>\n",
       "      <th>HBondAcceptorCount</th>\n",
       "      <th>HBondDonorCount</th>\n",
       "      <th>MolecularWeight</th>\n",
       "      <th>LogP</th>\n",
       "      <th>probabilities</th>\n",
       "    </tr>\n",
       "    <tr>\n",
       "      <th>RuleFive</th>\n",
       "      <th></th>\n",
       "      <th></th>\n",
       "      <th></th>\n",
       "      <th></th>\n",
       "      <th></th>\n",
       "      <th></th>\n",
       "    </tr>\n",
       "  </thead>\n",
       "  <tbody>\n",
       "    <tr>\n",
       "      <th>0</th>\n",
       "      <td>8.461197e+06</td>\n",
       "      <td>8.743686</td>\n",
       "      <td>2.762395</td>\n",
       "      <td>683.377282</td>\n",
       "      <td>5.466515</td>\n",
       "      <td>0.608702</td>\n",
       "    </tr>\n",
       "    <tr>\n",
       "      <th>1</th>\n",
       "      <td>7.354755e+06</td>\n",
       "      <td>4.489343</td>\n",
       "      <td>1.136235</td>\n",
       "      <td>359.932612</td>\n",
       "      <td>3.183786</td>\n",
       "      <td>0.584020</td>\n",
       "    </tr>\n",
       "  </tbody>\n",
       "</table>\n",
       "</div>"
      ],
      "text/plain": [
       "                   cid  HBondAcceptorCount  HBondDonorCount  MolecularWeight   \n",
       "RuleFive                                                                       \n",
       "0         8.461197e+06            8.743686         2.762395       683.377282  \\\n",
       "1         7.354755e+06            4.489343         1.136235       359.932612   \n",
       "\n",
       "              LogP  probabilities  \n",
       "RuleFive                           \n",
       "0         5.466515       0.608702  \n",
       "1         3.183786       0.584020  "
      ]
     },
     "metadata": {},
     "output_type": "display_data"
    }
   ],
   "source": [
    "display(randoms_analysis.groupby('RuleFive').count()/len(randoms_analysis))\n",
    "display(randoms_analysis.groupby('RuleFive').mean())"
   ]
  },
  {
   "cell_type": "code",
   "execution_count": 33,
   "metadata": {},
   "outputs": [
    {
     "data": {
      "text/plain": [
       "RuleFive\n",
       "0    0.172414\n",
       "1    0.827586\n",
       "Name: CID, dtype: float64"
      ]
     },
     "metadata": {},
     "output_type": "display_data"
    },
    {
     "data": {
      "text/html": [
       "<div>\n",
       "<style scoped>\n",
       "    .dataframe tbody tr th:only-of-type {\n",
       "        vertical-align: middle;\n",
       "    }\n",
       "\n",
       "    .dataframe tbody tr th {\n",
       "        vertical-align: top;\n",
       "    }\n",
       "\n",
       "    .dataframe thead th {\n",
       "        text-align: right;\n",
       "    }\n",
       "</style>\n",
       "<table border=\"1\" class=\"dataframe\">\n",
       "  <thead>\n",
       "    <tr style=\"text-align: right;\">\n",
       "      <th></th>\n",
       "      <th>CID</th>\n",
       "      <th>HBondAcceptorCount</th>\n",
       "      <th>HBondDonorCount</th>\n",
       "      <th>MolecularWeight</th>\n",
       "      <th>LogP</th>\n",
       "    </tr>\n",
       "    <tr>\n",
       "      <th>RuleFive</th>\n",
       "      <th></th>\n",
       "      <th></th>\n",
       "      <th></th>\n",
       "      <th></th>\n",
       "      <th></th>\n",
       "    </tr>\n",
       "  </thead>\n",
       "  <tbody>\n",
       "    <tr>\n",
       "      <th>0</th>\n",
       "      <td>2.153905e+07</td>\n",
       "      <td>11.628571</td>\n",
       "      <td>7.885714</td>\n",
       "      <td>949.565746</td>\n",
       "      <td>-2.558462</td>\n",
       "    </tr>\n",
       "    <tr>\n",
       "      <th>1</th>\n",
       "      <td>4.670556e+06</td>\n",
       "      <td>3.327381</td>\n",
       "      <td>1.541667</td>\n",
       "      <td>256.537738</td>\n",
       "      <td>1.641509</td>\n",
       "    </tr>\n",
       "  </tbody>\n",
       "</table>\n",
       "</div>"
      ],
      "text/plain": [
       "                   CID  HBondAcceptorCount  HBondDonorCount  MolecularWeight   \n",
       "RuleFive                                                                       \n",
       "0         2.153905e+07           11.628571         7.885714       949.565746  \\\n",
       "1         4.670556e+06            3.327381         1.541667       256.537738   \n",
       "\n",
       "              LogP  \n",
       "RuleFive            \n",
       "0        -2.558462  \n",
       "1         1.641509  "
      ]
     },
     "metadata": {},
     "output_type": "display_data"
    }
   ],
   "source": [
    "display(drugs_analysis.groupby('RuleFive')['CID'].count()/len(drugs_analysis))\n",
    "display(drugs_analysis.groupby('RuleFive').mean())"
   ]
  },
  {
   "cell_type": "code",
   "execution_count": 35,
   "metadata": {},
   "outputs": [
    {
     "data": {
      "text/plain": [
       "RuleFive\n",
       "0    0.123259\n",
       "1    0.876741\n",
       "Name: cid, dtype: float64"
      ]
     },
     "metadata": {},
     "output_type": "display_data"
    },
    {
     "data": {
      "text/html": [
       "<div>\n",
       "<style scoped>\n",
       "    .dataframe tbody tr th:only-of-type {\n",
       "        vertical-align: middle;\n",
       "    }\n",
       "\n",
       "    .dataframe tbody tr th {\n",
       "        vertical-align: top;\n",
       "    }\n",
       "\n",
       "    .dataframe thead th {\n",
       "        text-align: right;\n",
       "    }\n",
       "</style>\n",
       "<table border=\"1\" class=\"dataframe\">\n",
       "  <thead>\n",
       "    <tr style=\"text-align: right;\">\n",
       "      <th></th>\n",
       "      <th>cid</th>\n",
       "      <th>HBondAcceptorCount</th>\n",
       "      <th>HBondDonorCount</th>\n",
       "      <th>MolecularWeight</th>\n",
       "      <th>LogP</th>\n",
       "      <th>probabilities</th>\n",
       "    </tr>\n",
       "    <tr>\n",
       "      <th>RuleFive</th>\n",
       "      <th></th>\n",
       "      <th></th>\n",
       "      <th></th>\n",
       "      <th></th>\n",
       "      <th></th>\n",
       "      <th></th>\n",
       "    </tr>\n",
       "  </thead>\n",
       "  <tbody>\n",
       "    <tr>\n",
       "      <th>0</th>\n",
       "      <td>8.572043e+06</td>\n",
       "      <td>9.796069</td>\n",
       "      <td>3.149877</td>\n",
       "      <td>705.860218</td>\n",
       "      <td>5.042110</td>\n",
       "      <td>0.881701</td>\n",
       "    </tr>\n",
       "    <tr>\n",
       "      <th>1</th>\n",
       "      <td>7.484470e+06</td>\n",
       "      <td>4.578584</td>\n",
       "      <td>1.239724</td>\n",
       "      <td>363.742101</td>\n",
       "      <td>3.119728</td>\n",
       "      <td>0.863904</td>\n",
       "    </tr>\n",
       "  </tbody>\n",
       "</table>\n",
       "</div>"
      ],
      "text/plain": [
       "                   cid  HBondAcceptorCount  HBondDonorCount  MolecularWeight   \n",
       "RuleFive                                                                       \n",
       "0         8.572043e+06            9.796069         3.149877       705.860218  \\\n",
       "1         7.484470e+06            4.578584         1.239724       363.742101   \n",
       "\n",
       "              LogP  probabilities  \n",
       "RuleFive                           \n",
       "0         5.042110       0.881701  \n",
       "1         3.119728       0.863904  "
      ]
     },
     "metadata": {},
     "output_type": "display_data"
    }
   ],
   "source": [
    "display(safest_analysis.groupby('RuleFive')['cid'].count()/len(safest_analysis))\n",
    "display(safest_analysis.groupby('RuleFive').mean())"
   ]
  },
  {
   "cell_type": "code",
   "execution_count": 219,
   "metadata": {},
   "outputs": [
    {
     "data": {
      "text/plain": [
       "CID                   2.554020e+07\n",
       "HBondAcceptorCount    8.574679e+00\n",
       "HBondDonorCount       3.917606e+00\n",
       "MolecularWeight       5.263210e+02\n",
       "LogP                  1.926290e+00\n",
       "RuleFive              6.447082e-01\n",
       "dtype: float64"
      ]
     },
     "execution_count": 219,
     "metadata": {},
     "output_type": "execute_result"
    }
   ],
   "source": [
    "drugs_analysis.mean()"
   ]
  },
  {
   "cell_type": "code",
   "execution_count": 220,
   "metadata": {},
   "outputs": [
    {
     "data": {
      "text/plain": [
       "cid                   7.473796e+06\n",
       "HBondAcceptorCount    4.947061e+00\n",
       "HBondDonorCount       1.311192e+00\n",
       "MolecularWeight       3.947316e+02\n",
       "LogP                  3.429382e+00\n",
       "RuleFive              8.924114e-01\n",
       "probabilities         5.866758e-01\n",
       "dtype: float64"
      ]
     },
     "execution_count": 220,
     "metadata": {},
     "output_type": "execute_result"
    }
   ],
   "source": [
    "randoms_analysis.mean()"
   ]
  },
  {
   "cell_type": "code",
   "execution_count": 221,
   "metadata": {},
   "outputs": [
    {
     "data": {
      "text/plain": [
       "cid                   7.618523e+06\n",
       "HBondAcceptorCount    5.221684e+00\n",
       "HBondDonorCount       1.475167e+00\n",
       "MolecularWeight       4.059111e+02\n",
       "LogP                  3.356678e+00\n",
       "RuleFive              8.767414e-01\n",
       "probabilities         8.660977e-01\n",
       "dtype: float64"
      ]
     },
     "execution_count": 221,
     "metadata": {},
     "output_type": "execute_result"
    }
   ],
   "source": [
    "safest_analysis.mean()"
   ]
  },
  {
   "cell_type": "code",
   "execution_count": null,
   "metadata": {},
   "outputs": [],
   "source": []
  }
 ],
 "metadata": {
  "kernelspec": {
   "display_name": "kedro-environment",
   "language": "python",
   "name": "python3"
  },
  "language_info": {
   "codemirror_mode": {
    "name": "ipython",
    "version": 3
   },
   "file_extension": ".py",
   "mimetype": "text/x-python",
   "name": "python",
   "nbconvert_exporter": "python",
   "pygments_lexer": "ipython3",
   "version": "3.10.12"
  },
  "orig_nbformat": 4
 },
 "nbformat": 4,
 "nbformat_minor": 2
}
