{
 "cells": [
  {
   "cell_type": "markdown",
   "metadata": {},
   "source": [
    "### This notebook is a prototype of the architecture behind the app Drug Predictor"
   ]
  },
  {
   "cell_type": "markdown",
   "metadata": {},
   "source": [
    "#### Imports and loads"
   ]
  },
  {
   "cell_type": "code",
   "execution_count": 1,
   "metadata": {},
   "outputs": [],
   "source": [
    "import os\n",
    "import json\n",
    "import random\n",
    "import numpy as np\n",
    "import pandas as pd\n",
    "import pubchempy as pcp\n",
    "from rdkit import Chem\n",
    "from compute_fp_note import Compute_FP\n",
    "from tensorflow.keras.models import load_model"
   ]
  },
  {
   "cell_type": "markdown",
   "metadata": {},
   "source": [
    "Obtaining a random dataset"
   ]
  },
  {
   "cell_type": "code",
   "execution_count": 43,
   "metadata": {},
   "outputs": [
    {
     "name": "stdout",
     "output_type": "stream",
     "text": [
      "[10252613, 11312089, 3626475, 8160293, 747765, 1284872, 6343964, 11259732, 3587638, 2169831]\n"
     ]
    }
   ],
   "source": [
    "list_of_cids = [random.randrange(17000000) for x in range(10)]\n",
    "print(list_of_cids)"
   ]
  },
  {
   "cell_type": "code",
   "execution_count": 44,
   "metadata": {},
   "outputs": [],
   "source": [
    "cids = pd.DataFrame(list_of_cids, columns = ['cid'])"
   ]
  },
  {
   "cell_type": "markdown",
   "metadata": {},
   "source": [
    "Alternatively, load dataset from file"
   ]
  },
  {
   "cell_type": "code",
   "execution_count": 30,
   "metadata": {},
   "outputs": [],
   "source": [
    "cids = pd.read_csv(os.path.join('..', 'data', '09_examples', 'ht_input_smiles.csv'))"
   ]
  },
  {
   "cell_type": "markdown",
   "metadata": {},
   "source": [
    "Loading model, selected fingerprints and code dictionary"
   ]
  },
  {
   "cell_type": "code",
   "execution_count": 45,
   "metadata": {},
   "outputs": [],
   "source": [
    "with open(os.path.join('..', 'data', '05_model_input', 'selected_fp.txt')) as file:\n",
    "    selected_fp = file.readline()"
   ]
  },
  {
   "cell_type": "code",
   "execution_count": 46,
   "metadata": {},
   "outputs": [
    {
     "name": "stdout",
     "output_type": "stream",
     "text": [
      "WARNING:tensorflow:Error in loading the saved optimizer state. As a result, your model is starting with a freshly initialized optimizer.\n"
     ]
    }
   ],
   "source": [
    "model = load_model(os.path.join('..', 'data', '06_models', 'def_model.hd5'))"
   ]
  },
  {
   "cell_type": "code",
   "execution_count": 47,
   "metadata": {},
   "outputs": [],
   "source": [
    "with open(os.path.join('..', 'data', '03_primary', 'code_to_label_dic.json'), 'r') as file:\n",
    "            class_codes_dict = json.load(file)"
   ]
  },
  {
   "cell_type": "markdown",
   "metadata": {},
   "source": [
    "### Functions"
   ]
  },
  {
   "cell_type": "code",
   "execution_count": 48,
   "metadata": {},
   "outputs": [],
   "source": [
    "def get_smiles(cid: int):\n",
    "    \"\"\"\n",
    "    Function that obtains the SMILES of a molecule from its cid.\n",
    "    Args: cid number integer.\n",
    "    Output: SMILES string.\n",
    "    \"\"\"\n",
    "    try:\n",
    "        compound = pcp.Compound.from_cid(cid)\n",
    "        return compound.isomeric_smiles\n",
    "    except:\n",
    "        print('no smiles found')\n",
    "        return None"
   ]
  },
  {
   "cell_type": "code",
   "execution_count": 49,
   "metadata": {},
   "outputs": [],
   "source": [
    "def get_rdkit_molecule(smiles: str):\n",
    "    \"\"\"\n",
    "    Function that obtains the RDKit molecule object of molecule from its SMILES.\n",
    "    Args: SMILES string.\n",
    "    Output: RDKit molecule object.\n",
    "    \"\"\"\n",
    "    try:\n",
    "        mol = Chem.MolFromSmiles(smiles)\n",
    "        return mol\n",
    "    except:\n",
    "        print('no molecule found')\n",
    "        return None"
   ]
  },
  {
   "cell_type": "code",
   "execution_count": 50,
   "metadata": {},
   "outputs": [],
   "source": [
    "computer = Compute_FP()\n",
    "def get_fp(mol):\n",
    "    \"\"\"\n",
    "    Function that obtains fingerprints from an RDKit molecule object. It uses the function relate_fp_functions from the module compute_fp.\n",
    "    This function takes the kind of fingerprints that need to be retrieved and chooses the correct function to obtain them.\n",
    "    Arg: an RDKit molecule object.\n",
    "    Output: a numpy array\n",
    "    \"\"\"\n",
    "    return computer.relate_fp_functions(selected_fp, mol)"
   ]
  },
  {
   "cell_type": "markdown",
   "metadata": {},
   "source": [
    "### Obtaining molecule fingerprints\n",
    "A dataframe is build with SMILES, RDKit molecule object and fingerprints"
   ]
  },
  {
   "cell_type": "code",
   "execution_count": 51,
   "metadata": {},
   "outputs": [],
   "source": [
    "if 'cid' in cids.columns:\n",
    "    cids['smiles'] = cids['cid'].map(get_smiles)\n",
    "cids['molecule'] = cids['smiles'].map(get_rdkit_molecule)\n",
    "cids['fingerprints'] = cids['molecule'].map(get_fp)"
   ]
  },
  {
   "cell_type": "code",
   "execution_count": 52,
   "metadata": {},
   "outputs": [
    {
     "data": {
      "text/html": [
       "<div>\n",
       "<style scoped>\n",
       "    .dataframe tbody tr th:only-of-type {\n",
       "        vertical-align: middle;\n",
       "    }\n",
       "\n",
       "    .dataframe tbody tr th {\n",
       "        vertical-align: top;\n",
       "    }\n",
       "\n",
       "    .dataframe thead th {\n",
       "        text-align: right;\n",
       "    }\n",
       "</style>\n",
       "<table border=\"1\" class=\"dataframe\">\n",
       "  <thead>\n",
       "    <tr style=\"text-align: right;\">\n",
       "      <th></th>\n",
       "      <th>cid</th>\n",
       "      <th>smiles</th>\n",
       "      <th>molecule</th>\n",
       "      <th>fingerprints</th>\n",
       "    </tr>\n",
       "  </thead>\n",
       "  <tbody>\n",
       "    <tr>\n",
       "      <th>0</th>\n",
       "      <td>10252613</td>\n",
       "      <td>CCC[C@](C1=CC2=C(C=C1)C=C(C=C2)OC)(C(=O)O)C3(C...</td>\n",
       "      <td>&lt;rdkit.Chem.rdchem.Mol object at 0x000002270F2...</td>\n",
       "      <td>[0, 0, 0, 0, 0, 0, 0, 0, 0, 0, 0, 0, 0, 0, 0, ...</td>\n",
       "    </tr>\n",
       "    <tr>\n",
       "      <th>1</th>\n",
       "      <td>11312089</td>\n",
       "      <td>COC1=CC=C(C=C1)N/N=C/2\\CCC3=C2C=C(C=C3)OC</td>\n",
       "      <td>&lt;rdkit.Chem.rdchem.Mol object at 0x000002270F2...</td>\n",
       "      <td>[0, 0, 0, 0, 0, 0, 0, 0, 0, 0, 0, 0, 0, 0, 0, ...</td>\n",
       "    </tr>\n",
       "    <tr>\n",
       "      <th>2</th>\n",
       "      <td>3626475</td>\n",
       "      <td>CCCCCCCCCNC(=O)C1=CC2=CC=CC=C2C(=O)O1</td>\n",
       "      <td>&lt;rdkit.Chem.rdchem.Mol object at 0x000002270F2...</td>\n",
       "      <td>[0, 0, 0, 0, 0, 0, 0, 0, 1, 0, 0, 0, 0, 0, 0, ...</td>\n",
       "    </tr>\n",
       "    <tr>\n",
       "      <th>3</th>\n",
       "      <td>8160293</td>\n",
       "      <td>C#CCNC(=O)CSC1=NN=C(N1CC2=CC=CC=C2)CN3CCCCC3</td>\n",
       "      <td>&lt;rdkit.Chem.rdchem.Mol object at 0x000002270F2...</td>\n",
       "      <td>[0, 0, 1, 0, 0, 0, 0, 0, 0, 0, 0, 0, 0, 0, 0, ...</td>\n",
       "    </tr>\n",
       "    <tr>\n",
       "      <th>4</th>\n",
       "      <td>747765</td>\n",
       "      <td>CC[C@@H]1[C@H](OC(=O)C(C1=O)(C)C)C2=CC(=CC=C2)...</td>\n",
       "      <td>&lt;rdkit.Chem.rdchem.Mol object at 0x000002270F2...</td>\n",
       "      <td>[0, 0, 0, 0, 0, 0, 0, 0, 0, 0, 0, 0, 0, 0, 0, ...</td>\n",
       "    </tr>\n",
       "    <tr>\n",
       "      <th>5</th>\n",
       "      <td>1284872</td>\n",
       "      <td>CCOC1=C(C(=CC(=C1)C(=S)N2C[C@@H](O[C@H](C2)C)C...</td>\n",
       "      <td>&lt;rdkit.Chem.rdchem.Mol object at 0x000002270F2...</td>\n",
       "      <td>[0, 0, 0, 0, 0, 0, 0, 0, 0, 0, 0, 1, 0, 0, 0, ...</td>\n",
       "    </tr>\n",
       "    <tr>\n",
       "      <th>6</th>\n",
       "      <td>6343964</td>\n",
       "      <td>C1=CC=C(C(=C1)C(=O)O[NH+]=C(C2=NON=C2N)N)I</td>\n",
       "      <td>&lt;rdkit.Chem.rdchem.Mol object at 0x000002270F2...</td>\n",
       "      <td>[0, 0, 0, 0, 0, 0, 0, 0, 0, 0, 0, 0, 0, 0, 0, ...</td>\n",
       "    </tr>\n",
       "    <tr>\n",
       "      <th>7</th>\n",
       "      <td>11259732</td>\n",
       "      <td>C1=CC=C(C=C1)C[N+]2=CC=CC(=C2)C(=O)NCCN(CCCl)CCCl</td>\n",
       "      <td>&lt;rdkit.Chem.rdchem.Mol object at 0x000002270F2...</td>\n",
       "      <td>[0, 0, 0, 0, 0, 0, 0, 0, 1, 0, 0, 0, 0, 0, 0, ...</td>\n",
       "    </tr>\n",
       "    <tr>\n",
       "      <th>8</th>\n",
       "      <td>3587638</td>\n",
       "      <td>CCCN(CCC)S(=O)(=O)C1=CC=C(C=C1)C(=O)NC2=CC=CC3...</td>\n",
       "      <td>&lt;rdkit.Chem.rdchem.Mol object at 0x000002270F2...</td>\n",
       "      <td>[0, 1, 0, 0, 0, 0, 0, 0, 0, 0, 0, 0, 0, 0, 0, ...</td>\n",
       "    </tr>\n",
       "    <tr>\n",
       "      <th>9</th>\n",
       "      <td>2169831</td>\n",
       "      <td>COCCCNC(=O)/C=C/C1=C(C=CC=C1Cl)Cl</td>\n",
       "      <td>&lt;rdkit.Chem.rdchem.Mol object at 0x000002270F2...</td>\n",
       "      <td>[0, 0, 0, 0, 0, 0, 0, 0, 0, 0, 0, 0, 0, 1, 0, ...</td>\n",
       "    </tr>\n",
       "  </tbody>\n",
       "</table>\n",
       "</div>"
      ],
      "text/plain": [
       "        cid                                             smiles   \n",
       "0  10252613  CCC[C@](C1=CC2=C(C=C1)C=C(C=C2)OC)(C(=O)O)C3(C...  \\\n",
       "1  11312089          COC1=CC=C(C=C1)N/N=C/2\\CCC3=C2C=C(C=C3)OC   \n",
       "2   3626475              CCCCCCCCCNC(=O)C1=CC2=CC=CC=C2C(=O)O1   \n",
       "3   8160293       C#CCNC(=O)CSC1=NN=C(N1CC2=CC=CC=C2)CN3CCCCC3   \n",
       "4    747765  CC[C@@H]1[C@H](OC(=O)C(C1=O)(C)C)C2=CC(=CC=C2)...   \n",
       "5   1284872  CCOC1=C(C(=CC(=C1)C(=S)N2C[C@@H](O[C@H](C2)C)C...   \n",
       "6   6343964         C1=CC=C(C(=C1)C(=O)O[NH+]=C(C2=NON=C2N)N)I   \n",
       "7  11259732  C1=CC=C(C=C1)C[N+]2=CC=CC(=C2)C(=O)NCCN(CCCl)CCCl   \n",
       "8   3587638  CCCN(CCC)S(=O)(=O)C1=CC=C(C=C1)C(=O)NC2=CC=CC3...   \n",
       "9   2169831                  COCCCNC(=O)/C=C/C1=C(C=CC=C1Cl)Cl   \n",
       "\n",
       "                                            molecule   \n",
       "0  <rdkit.Chem.rdchem.Mol object at 0x000002270F2...  \\\n",
       "1  <rdkit.Chem.rdchem.Mol object at 0x000002270F2...   \n",
       "2  <rdkit.Chem.rdchem.Mol object at 0x000002270F2...   \n",
       "3  <rdkit.Chem.rdchem.Mol object at 0x000002270F2...   \n",
       "4  <rdkit.Chem.rdchem.Mol object at 0x000002270F2...   \n",
       "5  <rdkit.Chem.rdchem.Mol object at 0x000002270F2...   \n",
       "6  <rdkit.Chem.rdchem.Mol object at 0x000002270F2...   \n",
       "7  <rdkit.Chem.rdchem.Mol object at 0x000002270F2...   \n",
       "8  <rdkit.Chem.rdchem.Mol object at 0x000002270F2...   \n",
       "9  <rdkit.Chem.rdchem.Mol object at 0x000002270F2...   \n",
       "\n",
       "                                        fingerprints  \n",
       "0  [0, 0, 0, 0, 0, 0, 0, 0, 0, 0, 0, 0, 0, 0, 0, ...  \n",
       "1  [0, 0, 0, 0, 0, 0, 0, 0, 0, 0, 0, 0, 0, 0, 0, ...  \n",
       "2  [0, 0, 0, 0, 0, 0, 0, 0, 1, 0, 0, 0, 0, 0, 0, ...  \n",
       "3  [0, 0, 1, 0, 0, 0, 0, 0, 0, 0, 0, 0, 0, 0, 0, ...  \n",
       "4  [0, 0, 0, 0, 0, 0, 0, 0, 0, 0, 0, 0, 0, 0, 0, ...  \n",
       "5  [0, 0, 0, 0, 0, 0, 0, 0, 0, 0, 0, 1, 0, 0, 0, ...  \n",
       "6  [0, 0, 0, 0, 0, 0, 0, 0, 0, 0, 0, 0, 0, 0, 0, ...  \n",
       "7  [0, 0, 0, 0, 0, 0, 0, 0, 1, 0, 0, 0, 0, 0, 0, ...  \n",
       "8  [0, 1, 0, 0, 0, 0, 0, 0, 0, 0, 0, 0, 0, 0, 0, ...  \n",
       "9  [0, 0, 0, 0, 0, 0, 0, 0, 0, 0, 0, 0, 0, 1, 0, ...  "
      ]
     },
     "execution_count": 52,
     "metadata": {},
     "output_type": "execute_result"
    }
   ],
   "source": [
    "cids"
   ]
  },
  {
   "cell_type": "markdown",
   "metadata": {},
   "source": [
    "### Obtaining predictions"
   ]
  },
  {
   "cell_type": "code",
   "execution_count": 53,
   "metadata": {},
   "outputs": [],
   "source": [
    "fingerprints = np.array(list(cids['fingerprints']))\n",
    "reshaped_fps = fingerprints.reshape((fingerprints.shape[0], fingerprints.shape[1], 1))"
   ]
  },
  {
   "cell_type": "code",
   "execution_count": 54,
   "metadata": {},
   "outputs": [
    {
     "name": "stdout",
     "output_type": "stream",
     "text": [
      "1/1 [==============================] - 0s 82ms/step\n"
     ]
    }
   ],
   "source": [
    "probs = model.predict(reshaped_fps)\n",
    "preds = [np.argmax(x) for x in probs]\n",
    "max_probs = [np.max(x) for x in probs]"
   ]
  },
  {
   "cell_type": "markdown",
   "metadata": {},
   "source": [
    "### Building output dataset\n",
    "Columns predictions, probability, description, 'url' and 'cid' (if not provided) are added"
   ]
  },
  {
   "cell_type": "code",
   "execution_count": 38,
   "metadata": {},
   "outputs": [],
   "source": [
    "cids['prediction'] = preds\n",
    "cids['probability'] = max_probs"
   ]
  },
  {
   "cell_type": "code",
   "execution_count": 39,
   "metadata": {},
   "outputs": [],
   "source": [
    "cids['description'] = cids['prediction'].astype('str').map(class_codes_dict)"
   ]
  },
  {
   "cell_type": "code",
   "execution_count": 55,
   "metadata": {},
   "outputs": [],
   "source": [
    "if 'cid' not in cids.columns:\n",
    "    cids['cid'] = cids['smiles'].apply(lambda x: pcp.get_compounds(x, 'smiles')[0].cid)\n",
    "    cids['cid'] = cids['cid'].replace({np.nan: None})\n",
    "    cids['cid'] = cids['cid'].apply(lambda x: int(x) if x!=None else 0)"
   ]
  },
  {
   "cell_type": "code",
   "execution_count": 22,
   "metadata": {},
   "outputs": [],
   "source": [
    "cids['url'] = cids['cid'].apply(\n",
    "    lambda x: f'https://pubchem.ncbi.nlm.nih.gov/compound/{x}' if x!=0 else None)"
   ]
  },
  {
   "cell_type": "code",
   "execution_count": 23,
   "metadata": {},
   "outputs": [],
   "source": [
    "output_df = cids[['cid', 'prediction', 'probability', 'description', 'url']]"
   ]
  },
  {
   "cell_type": "code",
   "execution_count": 24,
   "metadata": {},
   "outputs": [
    {
     "data": {
      "text/html": [
       "<div>\n",
       "<style scoped>\n",
       "    .dataframe tbody tr th:only-of-type {\n",
       "        vertical-align: middle;\n",
       "    }\n",
       "\n",
       "    .dataframe tbody tr th {\n",
       "        vertical-align: top;\n",
       "    }\n",
       "\n",
       "    .dataframe thead th {\n",
       "        text-align: right;\n",
       "    }\n",
       "</style>\n",
       "<table border=\"1\" class=\"dataframe\">\n",
       "  <thead>\n",
       "    <tr style=\"text-align: right;\">\n",
       "      <th></th>\n",
       "      <th>cid</th>\n",
       "      <th>prediction</th>\n",
       "      <th>probability</th>\n",
       "      <th>description</th>\n",
       "      <th>url</th>\n",
       "    </tr>\n",
       "  </thead>\n",
       "  <tbody>\n",
       "    <tr>\n",
       "      <th>0</th>\n",
       "      <td>10529429</td>\n",
       "      <td>0</td>\n",
       "      <td>0.667142</td>\n",
       "      <td>Alimentary tract and metabolism</td>\n",
       "      <td>https://pubchem.ncbi.nlm.nih.gov/compound/1052...</td>\n",
       "    </tr>\n",
       "    <tr>\n",
       "      <th>1</th>\n",
       "      <td>6460467</td>\n",
       "      <td>10</td>\n",
       "      <td>0.797661</td>\n",
       "      <td>Nervous system</td>\n",
       "      <td>https://pubchem.ncbi.nlm.nih.gov/compound/6460467</td>\n",
       "    </tr>\n",
       "    <tr>\n",
       "      <th>2</th>\n",
       "      <td>11594294</td>\n",
       "      <td>10</td>\n",
       "      <td>0.462228</td>\n",
       "      <td>Nervous system</td>\n",
       "      <td>https://pubchem.ncbi.nlm.nih.gov/compound/1159...</td>\n",
       "    </tr>\n",
       "    <tr>\n",
       "      <th>3</th>\n",
       "      <td>6306287</td>\n",
       "      <td>10</td>\n",
       "      <td>0.998569</td>\n",
       "      <td>Nervous system</td>\n",
       "      <td>https://pubchem.ncbi.nlm.nih.gov/compound/6306287</td>\n",
       "    </tr>\n",
       "    <tr>\n",
       "      <th>4</th>\n",
       "      <td>12260926</td>\n",
       "      <td>10</td>\n",
       "      <td>0.657525</td>\n",
       "      <td>Nervous system</td>\n",
       "      <td>https://pubchem.ncbi.nlm.nih.gov/compound/1226...</td>\n",
       "    </tr>\n",
       "    <tr>\n",
       "      <th>5</th>\n",
       "      <td>5730620</td>\n",
       "      <td>10</td>\n",
       "      <td>0.590146</td>\n",
       "      <td>Nervous system</td>\n",
       "      <td>https://pubchem.ncbi.nlm.nih.gov/compound/5730620</td>\n",
       "    </tr>\n",
       "    <tr>\n",
       "      <th>6</th>\n",
       "      <td>1357894</td>\n",
       "      <td>10</td>\n",
       "      <td>0.567083</td>\n",
       "      <td>Nervous system</td>\n",
       "      <td>https://pubchem.ncbi.nlm.nih.gov/compound/1357894</td>\n",
       "    </tr>\n",
       "    <tr>\n",
       "      <th>7</th>\n",
       "      <td>3209631</td>\n",
       "      <td>10</td>\n",
       "      <td>0.865813</td>\n",
       "      <td>Nervous system</td>\n",
       "      <td>https://pubchem.ncbi.nlm.nih.gov/compound/3209631</td>\n",
       "    </tr>\n",
       "    <tr>\n",
       "      <th>8</th>\n",
       "      <td>4490953</td>\n",
       "      <td>10</td>\n",
       "      <td>0.469757</td>\n",
       "      <td>Nervous system</td>\n",
       "      <td>https://pubchem.ncbi.nlm.nih.gov/compound/4490953</td>\n",
       "    </tr>\n",
       "    <tr>\n",
       "      <th>9</th>\n",
       "      <td>12845338</td>\n",
       "      <td>10</td>\n",
       "      <td>0.945368</td>\n",
       "      <td>Nervous system</td>\n",
       "      <td>https://pubchem.ncbi.nlm.nih.gov/compound/1284...</td>\n",
       "    </tr>\n",
       "  </tbody>\n",
       "</table>\n",
       "</div>"
      ],
      "text/plain": [
       "        cid  prediction  probability                      description   \n",
       "0  10529429           0     0.667142  Alimentary tract and metabolism  \\\n",
       "1   6460467          10     0.797661                   Nervous system   \n",
       "2  11594294          10     0.462228                   Nervous system   \n",
       "3   6306287          10     0.998569                   Nervous system   \n",
       "4  12260926          10     0.657525                   Nervous system   \n",
       "5   5730620          10     0.590146                   Nervous system   \n",
       "6   1357894          10     0.567083                   Nervous system   \n",
       "7   3209631          10     0.865813                   Nervous system   \n",
       "8   4490953          10     0.469757                   Nervous system   \n",
       "9  12845338          10     0.945368                   Nervous system   \n",
       "\n",
       "                                                 url  \n",
       "0  https://pubchem.ncbi.nlm.nih.gov/compound/1052...  \n",
       "1  https://pubchem.ncbi.nlm.nih.gov/compound/6460467  \n",
       "2  https://pubchem.ncbi.nlm.nih.gov/compound/1159...  \n",
       "3  https://pubchem.ncbi.nlm.nih.gov/compound/6306287  \n",
       "4  https://pubchem.ncbi.nlm.nih.gov/compound/1226...  \n",
       "5  https://pubchem.ncbi.nlm.nih.gov/compound/5730620  \n",
       "6  https://pubchem.ncbi.nlm.nih.gov/compound/1357894  \n",
       "7  https://pubchem.ncbi.nlm.nih.gov/compound/3209631  \n",
       "8  https://pubchem.ncbi.nlm.nih.gov/compound/4490953  \n",
       "9  https://pubchem.ncbi.nlm.nih.gov/compound/1284...  "
      ]
     },
     "execution_count": 24,
     "metadata": {},
     "output_type": "execute_result"
    }
   ],
   "source": [
    "output_df"
   ]
  }
 ],
 "metadata": {
  "kernelspec": {
   "display_name": "kedro-environment",
   "language": "python",
   "name": "python3"
  },
  "language_info": {
   "codemirror_mode": {
    "name": "ipython",
    "version": 3
   },
   "file_extension": ".py",
   "mimetype": "text/x-python",
   "name": "python",
   "nbconvert_exporter": "python",
   "pygments_lexer": "ipython3",
   "version": "3.10.12"
  },
  "orig_nbformat": 4
 },
 "nbformat": 4,
 "nbformat_minor": 2
}
