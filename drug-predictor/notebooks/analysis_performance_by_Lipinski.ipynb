{
 "cells": [
  {
   "cell_type": "markdown",
   "metadata": {},
   "source": [
    "### Analysis of Lipinski rules in predicted molecules\n",
    "In this notebook, a sample of random molecules is collected from PubChem and analysed with Drug Predictor's model. Then an analysis is conducted to observes any possible bias in the compliance to Lipinski rules between molecules predicted with high and low probabilities."
   ]
  },
  {
   "cell_type": "markdown",
   "metadata": {},
   "source": [
    "#### Imports and loads"
   ]
  },
  {
   "cell_type": "code",
   "execution_count": 123,
   "metadata": {},
   "outputs": [],
   "source": [
    "import os\n",
    "import random\n",
    "import pandas as pd\n",
    "import numpy as np\n",
    "import pubchempy as pcp\n",
    "from rdkit import Chem\n",
    "from rdkit.Chem import Lipinski\n",
    "from rdkit.Chem import Descriptors\n",
    "from compute_fp_note import Compute_FP\n",
    "from tensorflow.keras.models import load_model\n"
   ]
  },
  {
   "cell_type": "code",
   "execution_count": 124,
   "metadata": {},
   "outputs": [],
   "source": [
    "# Training dataset, loaded to avoid grabbing molecules used for training\n",
    "pubchem = pd.read_csv(os.path.join('..', 'data', '01_raw', 'dataset_pubchem.csv'))"
   ]
  },
  {
   "cell_type": "code",
   "execution_count": 125,
   "metadata": {},
   "outputs": [],
   "source": [
    "# The fingerprints used to train the model\n",
    "with open(os.path.join('..', 'data', '05_model_input', 'selected_fp.txt')) as file:\n",
    "            selected_fp = file.readline()"
   ]
  },
  {
   "cell_type": "code",
   "execution_count": 126,
   "metadata": {},
   "outputs": [],
   "source": [
    "# Load a computer wich holds all the functions to calculate any type of fingerprint\n",
    "computer = Compute_FP()"
   ]
  },
  {
   "cell_type": "code",
   "execution_count": 127,
   "metadata": {},
   "outputs": [
    {
     "name": "stdout",
     "output_type": "stream",
     "text": [
      "WARNING:tensorflow:Error in loading the saved optimizer state. As a result, your model is starting with a freshly initialized optimizer.\n"
     ]
    }
   ],
   "source": [
    "# Load the CNN model\n",
    "model = load_model(os.path.join('..', 'data', '06_models', 'def_model.hd5'))"
   ]
  },
  {
   "cell_type": "markdown",
   "metadata": {},
   "source": [
    "#### Collecting a n number of molecules not present in the training dataset"
   ]
  },
  {
   "cell_type": "code",
   "execution_count": 128,
   "metadata": {},
   "outputs": [],
   "source": [
    "n_mols = 100"
   ]
  },
  {
   "cell_type": "code",
   "execution_count": 129,
   "metadata": {},
   "outputs": [],
   "source": [
    "labeled_cids = list(pubchem['cid'])\n",
    "random_cids = []\n",
    "while len(random_cids) < 10:\n",
    "    i = random.randint(2, 15000000)\n",
    "    if i not in labeled_cids:\n",
    "        random_cids.append(i)"
   ]
  },
  {
   "cell_type": "markdown",
   "metadata": {},
   "source": [
    "#### Building a dataframe with the selected cids"
   ]
  },
  {
   "cell_type": "markdown",
   "metadata": {},
   "source": [
    "Functions"
   ]
  },
  {
   "cell_type": "code",
   "execution_count": 130,
   "metadata": {},
   "outputs": [],
   "source": [
    "def get_smiles(cid):\n",
    "    try:\n",
    "        compound = pcp.Compound.from_cid(cid)\n",
    "        return compound.isomeric_smiles\n",
    "    except:\n",
    "        'no smiles found'\n",
    "        return None"
   ]
  },
  {
   "cell_type": "code",
   "execution_count": 131,
   "metadata": {},
   "outputs": [],
   "source": [
    "def get_rdkit_molecule(smiles):\n",
    "    try:\n",
    "        mol = Chem.MolFromSmiles(smiles)\n",
    "        return mol\n",
    "    except:\n",
    "        print('no molecule found')\n",
    "        return None"
   ]
  },
  {
   "cell_type": "code",
   "execution_count": 132,
   "metadata": {},
   "outputs": [],
   "source": [
    "def get_fp(mol):\n",
    "    return computer.relate_fp_functions(selected_fp, mol)"
   ]
  },
  {
   "cell_type": "markdown",
   "metadata": {},
   "source": [
    "Building a Dataframe with 'cid', 'smiles' and 'molecule' columns"
   ]
  },
  {
   "cell_type": "code",
   "execution_count": 133,
   "metadata": {},
   "outputs": [],
   "source": [
    "randoms = pd.DataFrame()"
   ]
  },
  {
   "cell_type": "code",
   "execution_count": 134,
   "metadata": {},
   "outputs": [],
   "source": [
    "randoms['cid'] = random_cids"
   ]
  },
  {
   "cell_type": "code",
   "execution_count": 135,
   "metadata": {},
   "outputs": [],
   "source": [
    "randoms['smiles'] = randoms['cid'].map(get_smiles)"
   ]
  },
  {
   "cell_type": "code",
   "execution_count": 136,
   "metadata": {},
   "outputs": [],
   "source": [
    "randoms['molecule'] = randoms['smiles'].map(get_rdkit_molecule)"
   ]
  },
  {
   "cell_type": "code",
   "execution_count": 137,
   "metadata": {},
   "outputs": [],
   "source": [
    "randoms['fingerprints'] = randoms['molecule'].map(get_fp)"
   ]
  },
  {
   "cell_type": "code",
   "execution_count": 138,
   "metadata": {},
   "outputs": [],
   "source": [
    "randoms = randoms.dropna()"
   ]
  },
  {
   "cell_type": "code",
   "execution_count": 139,
   "metadata": {},
   "outputs": [
    {
     "name": "stdout",
     "output_type": "stream",
     "text": [
      "<class 'pandas.core.frame.DataFrame'>\n",
      "RangeIndex: 10 entries, 0 to 9\n",
      "Data columns (total 4 columns):\n",
      " #   Column        Non-Null Count  Dtype \n",
      "---  ------        --------------  ----- \n",
      " 0   cid           10 non-null     int64 \n",
      " 1   smiles        10 non-null     object\n",
      " 2   molecule      10 non-null     object\n",
      " 3   fingerprints  10 non-null     object\n",
      "dtypes: int64(1), object(3)\n",
      "memory usage: 448.0+ bytes\n"
     ]
    }
   ],
   "source": [
    "randoms.info()"
   ]
  },
  {
   "cell_type": "markdown",
   "metadata": {},
   "source": [
    "Saving the model for later if n_mols is high"
   ]
  },
  {
   "cell_type": "code",
   "execution_count": 140,
   "metadata": {},
   "outputs": [],
   "source": [
    "#randoms.to_pickle('randoms.pickle')"
   ]
  },
  {
   "cell_type": "markdown",
   "metadata": {},
   "source": [
    "#### Predicting the categories"
   ]
  },
  {
   "cell_type": "markdown",
   "metadata": {},
   "source": [
    "Reshaping the array of fingerprints"
   ]
  },
  {
   "cell_type": "code",
   "execution_count": 141,
   "metadata": {},
   "outputs": [],
   "source": [
    "fingerprints = np.array(list(randoms['fingerprints']))\n",
    "reshaped_fps = fingerprints.reshape((fingerprints.shape[0], fingerprints.shape[1], 1))"
   ]
  },
  {
   "cell_type": "markdown",
   "metadata": {},
   "source": [
    "Obtaining the predictions and the highest probabilities."
   ]
  },
  {
   "cell_type": "code",
   "execution_count": 142,
   "metadata": {},
   "outputs": [
    {
     "name": "stdout",
     "output_type": "stream",
     "text": [
      "1/1 [==============================] - 0s 103ms/step\n"
     ]
    }
   ],
   "source": [
    "probs = model.predict(reshaped_fps)\n",
    "preds = [np.argmax(x) for x in probs]\n",
    "max_probs = [np.max(x) for x in probs]"
   ]
  },
  {
   "cell_type": "markdown",
   "metadata": {},
   "source": [
    "Adding predictions and probabilities to the dataframe\n"
   ]
  },
  {
   "cell_type": "code",
   "execution_count": 143,
   "metadata": {},
   "outputs": [],
   "source": [
    "randoms['predictions'] = preds"
   ]
  },
  {
   "cell_type": "code",
   "execution_count": 144,
   "metadata": {},
   "outputs": [],
   "source": [
    "randoms['probabilities'] = max_probs"
   ]
  },
  {
   "cell_type": "code",
   "execution_count": 145,
   "metadata": {},
   "outputs": [],
   "source": [
    "#randoms.to_pickle('randoms_preds.pickle')"
   ]
  },
  {
   "cell_type": "markdown",
   "metadata": {},
   "source": [
    "#### Adding Lipinski properties to the dataframe"
   ]
  },
  {
   "cell_type": "markdown",
   "metadata": {},
   "source": [
    "Functions"
   ]
  },
  {
   "cell_type": "code",
   "execution_count": 146,
   "metadata": {},
   "outputs": [],
   "source": [
    "def add_lipinski_props(df, molecule_column):\n",
    "    df['HBondAcceptorCount'] = df[molecule_column].map(Lipinski.NumHAcceptors)\n",
    "    df['HBondDonorCount'] = df[molecule_column].map(Lipinski.NumHDonors)\n",
    "    df['MolecularWeight'] = df[molecule_column].map(Descriptors.MolWt)\n",
    "    df['LogP'] = df[molecule_column].map(Descriptors.MolLogP)"
   ]
  },
  {
   "cell_type": "code",
   "execution_count": 147,
   "metadata": {},
   "outputs": [],
   "source": [
    "def is_lipinski(x: pd.DataFrame) -> pd.DataFrame:\n",
    "    \"\"\"\n",
    "    Function that applies a set of rules (Lipinski rules) to several columns of a pandas dataframe and returns \\\n",
    "          a dataframe with a new column that states if said rules were passed or not.\n",
    "    Input: pandas dataframe.\n",
    "    Output: pandas dataframe.\n",
    "    \"\"\"\n",
    "    # Lipinski rules\n",
    "    hdonor = x['HBondDonorCount'] < 6\n",
    "    haccept = x['HBondAcceptorCount'] < 10\n",
    "    mw = x['MolecularWeight'] < 500\n",
    "    clogP = x['LogP'] < 5\n",
    "    # Apply rules to dataframe\n",
    "    x['RuleFive'] = np.where(((hdonor & haccept & mw) | (hdonor & haccept & clogP) | (hdonor & mw & clogP) | (haccept & mw & clogP)), 1, 0)"
   ]
  },
  {
   "cell_type": "code",
   "execution_count": 148,
   "metadata": {},
   "outputs": [],
   "source": [
    "add_lipinski_props(randoms, 'molecule')"
   ]
  },
  {
   "cell_type": "code",
   "execution_count": 149,
   "metadata": {},
   "outputs": [],
   "source": [
    "is_lipinski(randoms)"
   ]
  },
  {
   "cell_type": "code",
   "execution_count": 150,
   "metadata": {},
   "outputs": [],
   "source": [
    "#randoms.to_pickle(os.path.join('randoms_pred_lip.pickle'))"
   ]
  },
  {
   "cell_type": "markdown",
   "metadata": {},
   "source": [
    "#### Compare molecules predicted with high and low probabilities"
   ]
  },
  {
   "cell_type": "code",
   "execution_count": 151,
   "metadata": {},
   "outputs": [],
   "source": [
    "high_prob = randoms[randoms['probabilities']>0.7]\n",
    "low_prob = randoms[randoms['probabilities']<0.7]"
   ]
  },
  {
   "cell_type": "code",
   "execution_count": 152,
   "metadata": {},
   "outputs": [],
   "source": [
    "randoms_analysis = randoms.drop(['smiles', 'molecule', 'fingerprints'], axis=1)\n",
    "high_prob_analysis = high_prob.drop(['smiles', 'molecule', 'fingerprints'], axis=1)\n",
    "low_prob_analysis = low_prob.drop(['smiles', 'molecule', 'fingerprints'], axis=1)"
   ]
  },
  {
   "cell_type": "code",
   "execution_count": 153,
   "metadata": {},
   "outputs": [
    {
     "data": {
      "text/plain": [
       "RuleFive\n",
       "0    0.2\n",
       "1    0.8\n",
       "Name: cid, dtype: float64"
      ]
     },
     "metadata": {},
     "output_type": "display_data"
    },
    {
     "data": {
      "text/html": [
       "<div>\n",
       "<style scoped>\n",
       "    .dataframe tbody tr th:only-of-type {\n",
       "        vertical-align: middle;\n",
       "    }\n",
       "\n",
       "    .dataframe tbody tr th {\n",
       "        vertical-align: top;\n",
       "    }\n",
       "\n",
       "    .dataframe thead th {\n",
       "        text-align: right;\n",
       "    }\n",
       "</style>\n",
       "<table border=\"1\" class=\"dataframe\">\n",
       "  <thead>\n",
       "    <tr style=\"text-align: right;\">\n",
       "      <th></th>\n",
       "      <th>cid</th>\n",
       "      <th>predictions</th>\n",
       "      <th>probabilities</th>\n",
       "      <th>HBondAcceptorCount</th>\n",
       "      <th>HBondDonorCount</th>\n",
       "      <th>MolecularWeight</th>\n",
       "      <th>LogP</th>\n",
       "    </tr>\n",
       "    <tr>\n",
       "      <th>RuleFive</th>\n",
       "      <th></th>\n",
       "      <th></th>\n",
       "      <th></th>\n",
       "      <th></th>\n",
       "      <th></th>\n",
       "      <th></th>\n",
       "      <th></th>\n",
       "    </tr>\n",
       "  </thead>\n",
       "  <tbody>\n",
       "    <tr>\n",
       "      <th>0</th>\n",
       "      <td>12824984.5</td>\n",
       "      <td>9.00</td>\n",
       "      <td>0.702113</td>\n",
       "      <td>10.50</td>\n",
       "      <td>3.00</td>\n",
       "      <td>684.9740</td>\n",
       "      <td>3.455050</td>\n",
       "    </tr>\n",
       "    <tr>\n",
       "      <th>1</th>\n",
       "      <td>6972802.0</td>\n",
       "      <td>5.75</td>\n",
       "      <td>0.428089</td>\n",
       "      <td>3.25</td>\n",
       "      <td>0.75</td>\n",
       "      <td>285.6705</td>\n",
       "      <td>3.183913</td>\n",
       "    </tr>\n",
       "  </tbody>\n",
       "</table>\n",
       "</div>"
      ],
      "text/plain": [
       "                 cid  predictions  probabilities  HBondAcceptorCount   \n",
       "RuleFive                                                               \n",
       "0         12824984.5         9.00       0.702113               10.50  \\\n",
       "1          6972802.0         5.75       0.428089                3.25   \n",
       "\n",
       "          HBondDonorCount  MolecularWeight      LogP  \n",
       "RuleFive                                              \n",
       "0                    3.00         684.9740  3.455050  \n",
       "1                    0.75         285.6705  3.183913  "
      ]
     },
     "metadata": {},
     "output_type": "display_data"
    }
   ],
   "source": [
    "display(randoms_analysis.groupby('RuleFive')['cid'].count()/len(randoms_analysis))\n",
    "display(randoms_analysis.groupby('RuleFive').mean())"
   ]
  },
  {
   "cell_type": "code",
   "execution_count": 154,
   "metadata": {},
   "outputs": [
    {
     "data": {
      "text/plain": [
       "RuleFive\n",
       "0    1.0\n",
       "Name: cid, dtype: float64"
      ]
     },
     "metadata": {},
     "output_type": "display_data"
    },
    {
     "data": {
      "text/html": [
       "<div>\n",
       "<style scoped>\n",
       "    .dataframe tbody tr th:only-of-type {\n",
       "        vertical-align: middle;\n",
       "    }\n",
       "\n",
       "    .dataframe tbody tr th {\n",
       "        vertical-align: top;\n",
       "    }\n",
       "\n",
       "    .dataframe thead th {\n",
       "        text-align: right;\n",
       "    }\n",
       "</style>\n",
       "<table border=\"1\" class=\"dataframe\">\n",
       "  <thead>\n",
       "    <tr style=\"text-align: right;\">\n",
       "      <th></th>\n",
       "      <th>cid</th>\n",
       "      <th>predictions</th>\n",
       "      <th>probabilities</th>\n",
       "      <th>HBondAcceptorCount</th>\n",
       "      <th>HBondDonorCount</th>\n",
       "      <th>MolecularWeight</th>\n",
       "      <th>LogP</th>\n",
       "    </tr>\n",
       "    <tr>\n",
       "      <th>RuleFive</th>\n",
       "      <th></th>\n",
       "      <th></th>\n",
       "      <th></th>\n",
       "      <th></th>\n",
       "      <th></th>\n",
       "      <th></th>\n",
       "      <th></th>\n",
       "    </tr>\n",
       "  </thead>\n",
       "  <tbody>\n",
       "    <tr>\n",
       "      <th>0</th>\n",
       "      <td>10929982.0</td>\n",
       "      <td>8.0</td>\n",
       "      <td>0.942317</td>\n",
       "      <td>11.0</td>\n",
       "      <td>2.0</td>\n",
       "      <td>587.062</td>\n",
       "      <td>1.9662</td>\n",
       "    </tr>\n",
       "  </tbody>\n",
       "</table>\n",
       "</div>"
      ],
      "text/plain": [
       "                 cid  predictions  probabilities  HBondAcceptorCount   \n",
       "RuleFive                                                               \n",
       "0         10929982.0          8.0       0.942317                11.0  \\\n",
       "\n",
       "          HBondDonorCount  MolecularWeight    LogP  \n",
       "RuleFive                                            \n",
       "0                     2.0          587.062  1.9662  "
      ]
     },
     "metadata": {},
     "output_type": "display_data"
    }
   ],
   "source": [
    "display(high_prob_analysis.groupby('RuleFive')['cid'].count()/len(high_prob_analysis))\n",
    "display(high_prob_analysis.groupby('RuleFive').mean())"
   ]
  },
  {
   "cell_type": "code",
   "execution_count": 155,
   "metadata": {},
   "outputs": [
    {
     "data": {
      "text/plain": [
       "RuleFive\n",
       "0    0.111111\n",
       "1    0.888889\n",
       "Name: cid, dtype: float64"
      ]
     },
     "metadata": {},
     "output_type": "display_data"
    },
    {
     "data": {
      "text/html": [
       "<div>\n",
       "<style scoped>\n",
       "    .dataframe tbody tr th:only-of-type {\n",
       "        vertical-align: middle;\n",
       "    }\n",
       "\n",
       "    .dataframe tbody tr th {\n",
       "        vertical-align: top;\n",
       "    }\n",
       "\n",
       "    .dataframe thead th {\n",
       "        text-align: right;\n",
       "    }\n",
       "</style>\n",
       "<table border=\"1\" class=\"dataframe\">\n",
       "  <thead>\n",
       "    <tr style=\"text-align: right;\">\n",
       "      <th></th>\n",
       "      <th>cid</th>\n",
       "      <th>predictions</th>\n",
       "      <th>probabilities</th>\n",
       "      <th>HBondAcceptorCount</th>\n",
       "      <th>HBondDonorCount</th>\n",
       "      <th>MolecularWeight</th>\n",
       "      <th>LogP</th>\n",
       "    </tr>\n",
       "    <tr>\n",
       "      <th>RuleFive</th>\n",
       "      <th></th>\n",
       "      <th></th>\n",
       "      <th></th>\n",
       "      <th></th>\n",
       "      <th></th>\n",
       "      <th></th>\n",
       "      <th></th>\n",
       "    </tr>\n",
       "  </thead>\n",
       "  <tbody>\n",
       "    <tr>\n",
       "      <th>0</th>\n",
       "      <td>14719987.0</td>\n",
       "      <td>10.00</td>\n",
       "      <td>0.461910</td>\n",
       "      <td>10.00</td>\n",
       "      <td>4.00</td>\n",
       "      <td>782.8860</td>\n",
       "      <td>4.943900</td>\n",
       "    </tr>\n",
       "    <tr>\n",
       "      <th>1</th>\n",
       "      <td>6972802.0</td>\n",
       "      <td>5.75</td>\n",
       "      <td>0.428089</td>\n",
       "      <td>3.25</td>\n",
       "      <td>0.75</td>\n",
       "      <td>285.6705</td>\n",
       "      <td>3.183913</td>\n",
       "    </tr>\n",
       "  </tbody>\n",
       "</table>\n",
       "</div>"
      ],
      "text/plain": [
       "                 cid  predictions  probabilities  HBondAcceptorCount   \n",
       "RuleFive                                                               \n",
       "0         14719987.0        10.00       0.461910               10.00  \\\n",
       "1          6972802.0         5.75       0.428089                3.25   \n",
       "\n",
       "          HBondDonorCount  MolecularWeight      LogP  \n",
       "RuleFive                                              \n",
       "0                    4.00         782.8860  4.943900  \n",
       "1                    0.75         285.6705  3.183913  "
      ]
     },
     "metadata": {},
     "output_type": "display_data"
    }
   ],
   "source": [
    "display(low_prob_analysis.groupby('RuleFive')['cid'].count()/len(low_prob_analysis))\n",
    "display(low_prob_analysis.groupby('RuleFive').mean())"
   ]
  },
  {
   "cell_type": "markdown",
   "metadata": {},
   "source": [
    "We consistently observed in different datasets that the adherence to the Lipinski rule decreases decreases in the molecules predicted with the highest certainty, which is actually the opposite to the expected. Canonically, a Lipinski complier would be predicted as drugable with higer probability."
   ]
  }
 ],
 "metadata": {
  "kernelspec": {
   "display_name": "kedro-environment",
   "language": "python",
   "name": "python3"
  },
  "language_info": {
   "codemirror_mode": {
    "name": "ipython",
    "version": 3
   },
   "file_extension": ".py",
   "mimetype": "text/x-python",
   "name": "python",
   "nbconvert_exporter": "python",
   "pygments_lexer": "ipython3",
   "version": "3.10.12"
  },
  "orig_nbformat": 4
 },
 "nbformat": 4,
 "nbformat_minor": 2
}
