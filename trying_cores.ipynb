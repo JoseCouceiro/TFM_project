{
 "cells": [
  {
   "cell_type": "code",
   "execution_count": 22,
   "metadata": {},
   "outputs": [],
   "source": [
    "from multiprocessing import Pool, Process\n",
    "import multiprocessing\n",
    "from time import sleep"
   ]
  },
  {
   "cell_type": "code",
   "execution_count": 23,
   "metadata": {},
   "outputs": [
    {
     "name": "stdout",
     "output_type": "stream",
     "text": [
      "This is from another process\n"
     ]
    }
   ],
   "source": [
    "# a custom function that blocks for a moment\n",
    "def task():\n",
    "    # block for a moment\n",
    "    sleep(1)\n",
    "    # display a message\n",
    "    print('This is from another process')\n",
    "\n",
    "task()"
   ]
  },
  {
   "cell_type": "code",
   "execution_count": 24,
   "metadata": {},
   "outputs": [],
   "source": [
    "\n",
    "# create a process\n",
    "process = Process(target=task)"
   ]
  },
  {
   "cell_type": "code",
   "execution_count": 25,
   "metadata": {},
   "outputs": [],
   "source": [
    "\n",
    "# run the process\n",
    "process.start()"
   ]
  },
  {
   "cell_type": "code",
   "execution_count": 26,
   "metadata": {},
   "outputs": [
    {
     "name": "stdout",
     "output_type": "stream",
     "text": [
      "Waiting for the process...\n"
     ]
    }
   ],
   "source": [
    "# SuperFastPython.com\n",
    "# example of running a function in another process\n",
    "from time import sleep\n",
    "from multiprocessing import Process\n",
    " \n",
    "# a custom function that blocks for a moment\n",
    "def task():\n",
    "    # block for a moment\n",
    "    sleep(1)\n",
    "    # display a message\n",
    "    print('This is from another process')\n",
    " \n",
    "# entry point\n",
    "if __name__ == '__main__':\n",
    "    # create a process\n",
    "    process = Process(target=task)\n",
    "    # run the process\n",
    "    process.start()\n",
    "    # wait for the process to finish\n",
    "    print('Waiting for the process...')\n",
    "    process.join()"
   ]
  },
  {
   "cell_type": "code",
   "execution_count": 27,
   "metadata": {},
   "outputs": [
    {
     "ename": "NameError",
     "evalue": "name 'dfgasdsfg' is not defined",
     "output_type": "error",
     "traceback": [
      "\u001b[1;31m---------------------------------------------------------------------------\u001b[0m",
      "\u001b[1;31mNameError\u001b[0m                                 Traceback (most recent call last)",
      "Cell \u001b[1;32mIn[27], line 1\u001b[0m\n\u001b[1;32m----> 1\u001b[0m dfgasdsfg\n",
      "\u001b[1;31mNameError\u001b[0m: name 'dfgasdsfg' is not defined"
     ]
    }
   ],
   "source": [
    "dfgasdsfg"
   ]
  },
  {
   "cell_type": "code",
   "execution_count": null,
   "metadata": {},
   "outputs": [],
   "source": []
  }
 ],
 "metadata": {
  "kernelspec": {
   "display_name": "TFMenv",
   "language": "python",
   "name": "python3"
  },
  "language_info": {
   "codemirror_mode": {
    "name": "ipython",
    "version": 3
   },
   "file_extension": ".py",
   "mimetype": "text/x-python",
   "name": "python",
   "nbconvert_exporter": "python",
   "pygments_lexer": "ipython3",
   "version": "3.10.11"
  },
  "orig_nbformat": 4
 },
 "nbformat": 4,
 "nbformat_minor": 2
}
