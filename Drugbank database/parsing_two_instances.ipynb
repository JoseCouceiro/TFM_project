{
 "cells": [
  {
   "cell_type": "code",
   "execution_count": 28,
   "metadata": {},
   "outputs": [],
   "source": [
    "#%pip install sax\n",
    "#%pip install xmlschema"
   ]
  },
  {
   "cell_type": "code",
   "execution_count": 7,
   "metadata": {},
   "outputs": [],
   "source": [
    "import os\n",
    "import xmlschema\n",
    "import pandas as pd"
   ]
  },
  {
   "cell_type": "code",
   "execution_count": 2,
   "metadata": {},
   "outputs": [],
   "source": [
    "my_schema = xmlschema.XMLSchema(os.path.join('drugbank_all_full_database.xml', 'drugbank_schema.xsd'))"
   ]
  },
  {
   "cell_type": "code",
   "execution_count": 31,
   "metadata": {},
   "outputs": [],
   "source": [
    "#my_schema.is_valid(os.path.join('drugbank_all_full_database.xml', 'full database.xml'))"
   ]
  },
  {
   "cell_type": "code",
   "execution_count": 4,
   "metadata": {},
   "outputs": [],
   "source": [
    "drug_dict = my_schema.to_dict(os.path.join('drugbank_all_full_database.xml', 'full database.xml'))"
   ]
  },
  {
   "cell_type": "code",
   "execution_count": 16,
   "metadata": {},
   "outputs": [
    {
     "data": {
      "text/plain": [
       "6"
      ]
     },
     "execution_count": 16,
     "metadata": {},
     "output_type": "execute_result"
    }
   ],
   "source": [
    "len(drug_dict)"
   ]
  },
  {
   "cell_type": "code",
   "execution_count": 24,
   "metadata": {},
   "outputs": [
    {
     "data": {
      "text/plain": [
       "'http://www.drugbank.ca'"
      ]
     },
     "execution_count": 24,
     "metadata": {},
     "output_type": "execute_result"
    }
   ],
   "source": [
    "drug_dict['@xmlns']"
   ]
  },
  {
   "cell_type": "code",
   "execution_count": 17,
   "metadata": {},
   "outputs": [
    {
     "data": {
      "text/html": [
       "<div>\n",
       "<style scoped>\n",
       "    .dataframe tbody tr th:only-of-type {\n",
       "        vertical-align: middle;\n",
       "    }\n",
       "\n",
       "    .dataframe tbody tr th {\n",
       "        vertical-align: top;\n",
       "    }\n",
       "\n",
       "    .dataframe thead th {\n",
       "        text-align: right;\n",
       "    }\n",
       "</style>\n",
       "<table border=\"1\" class=\"dataframe\">\n",
       "  <thead>\n",
       "    <tr style=\"text-align: right;\">\n",
       "      <th></th>\n",
       "      <th>@xmlns</th>\n",
       "      <th>@xmlns:xsi</th>\n",
       "      <th>@xsi:schemaLocation</th>\n",
       "      <th>@version</th>\n",
       "      <th>@exported-on</th>\n",
       "      <th>drug</th>\n",
       "    </tr>\n",
       "  </thead>\n",
       "  <tbody>\n",
       "    <tr>\n",
       "      <th>0</th>\n",
       "      <td>http://www.drugbank.ca</td>\n",
       "      <td>http://www.w3.org/2001/XMLSchema-instance</td>\n",
       "      <td>http://www.drugbank.ca http://www.drugbank.ca/...</td>\n",
       "      <td>5.1</td>\n",
       "      <td>2023-01-04</td>\n",
       "      <td>{'@type': 'biotech', '@created': '2005-06-13',...</td>\n",
       "    </tr>\n",
       "    <tr>\n",
       "      <th>1</th>\n",
       "      <td>http://www.drugbank.ca</td>\n",
       "      <td>http://www.w3.org/2001/XMLSchema-instance</td>\n",
       "      <td>http://www.drugbank.ca http://www.drugbank.ca/...</td>\n",
       "      <td>5.1</td>\n",
       "      <td>2023-01-04</td>\n",
       "      <td>{'@type': 'biotech', '@created': '2005-06-13',...</td>\n",
       "    </tr>\n",
       "    <tr>\n",
       "      <th>2</th>\n",
       "      <td>http://www.drugbank.ca</td>\n",
       "      <td>http://www.w3.org/2001/XMLSchema-instance</td>\n",
       "      <td>http://www.drugbank.ca http://www.drugbank.ca/...</td>\n",
       "      <td>5.1</td>\n",
       "      <td>2023-01-04</td>\n",
       "      <td>{'@type': 'biotech', '@created': '2005-06-13',...</td>\n",
       "    </tr>\n",
       "    <tr>\n",
       "      <th>3</th>\n",
       "      <td>http://www.drugbank.ca</td>\n",
       "      <td>http://www.w3.org/2001/XMLSchema-instance</td>\n",
       "      <td>http://www.drugbank.ca http://www.drugbank.ca/...</td>\n",
       "      <td>5.1</td>\n",
       "      <td>2023-01-04</td>\n",
       "      <td>{'@type': 'biotech', '@created': '2005-06-13',...</td>\n",
       "    </tr>\n",
       "    <tr>\n",
       "      <th>4</th>\n",
       "      <td>http://www.drugbank.ca</td>\n",
       "      <td>http://www.w3.org/2001/XMLSchema-instance</td>\n",
       "      <td>http://www.drugbank.ca http://www.drugbank.ca/...</td>\n",
       "      <td>5.1</td>\n",
       "      <td>2023-01-04</td>\n",
       "      <td>{'@type': 'biotech', '@created': '2005-06-13',...</td>\n",
       "    </tr>\n",
       "    <tr>\n",
       "      <th>...</th>\n",
       "      <td>...</td>\n",
       "      <td>...</td>\n",
       "      <td>...</td>\n",
       "      <td>...</td>\n",
       "      <td>...</td>\n",
       "      <td>...</td>\n",
       "    </tr>\n",
       "    <tr>\n",
       "      <th>15230</th>\n",
       "      <td>http://www.drugbank.ca</td>\n",
       "      <td>http://www.w3.org/2001/XMLSchema-instance</td>\n",
       "      <td>http://www.drugbank.ca http://www.drugbank.ca/...</td>\n",
       "      <td>5.1</td>\n",
       "      <td>2023-01-04</td>\n",
       "      <td>{'@type': 'small molecule', '@created': '2022-...</td>\n",
       "    </tr>\n",
       "    <tr>\n",
       "      <th>15231</th>\n",
       "      <td>http://www.drugbank.ca</td>\n",
       "      <td>http://www.w3.org/2001/XMLSchema-instance</td>\n",
       "      <td>http://www.drugbank.ca http://www.drugbank.ca/...</td>\n",
       "      <td>5.1</td>\n",
       "      <td>2023-01-04</td>\n",
       "      <td>{'@type': 'small molecule', '@created': '2022-...</td>\n",
       "    </tr>\n",
       "    <tr>\n",
       "      <th>15232</th>\n",
       "      <td>http://www.drugbank.ca</td>\n",
       "      <td>http://www.w3.org/2001/XMLSchema-instance</td>\n",
       "      <td>http://www.drugbank.ca http://www.drugbank.ca/...</td>\n",
       "      <td>5.1</td>\n",
       "      <td>2023-01-04</td>\n",
       "      <td>{'@type': 'small molecule', '@created': '2022-...</td>\n",
       "    </tr>\n",
       "    <tr>\n",
       "      <th>15233</th>\n",
       "      <td>http://www.drugbank.ca</td>\n",
       "      <td>http://www.w3.org/2001/XMLSchema-instance</td>\n",
       "      <td>http://www.drugbank.ca http://www.drugbank.ca/...</td>\n",
       "      <td>5.1</td>\n",
       "      <td>2023-01-04</td>\n",
       "      <td>{'@type': 'small molecule', '@created': '2022-...</td>\n",
       "    </tr>\n",
       "    <tr>\n",
       "      <th>15234</th>\n",
       "      <td>http://www.drugbank.ca</td>\n",
       "      <td>http://www.w3.org/2001/XMLSchema-instance</td>\n",
       "      <td>http://www.drugbank.ca http://www.drugbank.ca/...</td>\n",
       "      <td>5.1</td>\n",
       "      <td>2023-01-04</td>\n",
       "      <td>{'@type': 'small molecule', '@created': '2023-...</td>\n",
       "    </tr>\n",
       "  </tbody>\n",
       "</table>\n",
       "<p>15235 rows × 6 columns</p>\n",
       "</div>"
      ],
      "text/plain": [
       "                       @xmlns                                 @xmlns:xsi  \\\n",
       "0      http://www.drugbank.ca  http://www.w3.org/2001/XMLSchema-instance   \n",
       "1      http://www.drugbank.ca  http://www.w3.org/2001/XMLSchema-instance   \n",
       "2      http://www.drugbank.ca  http://www.w3.org/2001/XMLSchema-instance   \n",
       "3      http://www.drugbank.ca  http://www.w3.org/2001/XMLSchema-instance   \n",
       "4      http://www.drugbank.ca  http://www.w3.org/2001/XMLSchema-instance   \n",
       "...                       ...                                        ...   \n",
       "15230  http://www.drugbank.ca  http://www.w3.org/2001/XMLSchema-instance   \n",
       "15231  http://www.drugbank.ca  http://www.w3.org/2001/XMLSchema-instance   \n",
       "15232  http://www.drugbank.ca  http://www.w3.org/2001/XMLSchema-instance   \n",
       "15233  http://www.drugbank.ca  http://www.w3.org/2001/XMLSchema-instance   \n",
       "15234  http://www.drugbank.ca  http://www.w3.org/2001/XMLSchema-instance   \n",
       "\n",
       "                                     @xsi:schemaLocation @version  \\\n",
       "0      http://www.drugbank.ca http://www.drugbank.ca/...      5.1   \n",
       "1      http://www.drugbank.ca http://www.drugbank.ca/...      5.1   \n",
       "2      http://www.drugbank.ca http://www.drugbank.ca/...      5.1   \n",
       "3      http://www.drugbank.ca http://www.drugbank.ca/...      5.1   \n",
       "4      http://www.drugbank.ca http://www.drugbank.ca/...      5.1   \n",
       "...                                                  ...      ...   \n",
       "15230  http://www.drugbank.ca http://www.drugbank.ca/...      5.1   \n",
       "15231  http://www.drugbank.ca http://www.drugbank.ca/...      5.1   \n",
       "15232  http://www.drugbank.ca http://www.drugbank.ca/...      5.1   \n",
       "15233  http://www.drugbank.ca http://www.drugbank.ca/...      5.1   \n",
       "15234  http://www.drugbank.ca http://www.drugbank.ca/...      5.1   \n",
       "\n",
       "      @exported-on                                               drug  \n",
       "0       2023-01-04  {'@type': 'biotech', '@created': '2005-06-13',...  \n",
       "1       2023-01-04  {'@type': 'biotech', '@created': '2005-06-13',...  \n",
       "2       2023-01-04  {'@type': 'biotech', '@created': '2005-06-13',...  \n",
       "3       2023-01-04  {'@type': 'biotech', '@created': '2005-06-13',...  \n",
       "4       2023-01-04  {'@type': 'biotech', '@created': '2005-06-13',...  \n",
       "...            ...                                                ...  \n",
       "15230   2023-01-04  {'@type': 'small molecule', '@created': '2022-...  \n",
       "15231   2023-01-04  {'@type': 'small molecule', '@created': '2022-...  \n",
       "15232   2023-01-04  {'@type': 'small molecule', '@created': '2022-...  \n",
       "15233   2023-01-04  {'@type': 'small molecule', '@created': '2022-...  \n",
       "15234   2023-01-04  {'@type': 'small molecule', '@created': '2023-...  \n",
       "\n",
       "[15235 rows x 6 columns]"
      ]
     },
     "execution_count": 17,
     "metadata": {},
     "output_type": "execute_result"
    }
   ],
   "source": [
    "drugs_df"
   ]
  },
  {
   "cell_type": "code",
   "execution_count": 10,
   "metadata": {},
   "outputs": [
    {
     "name": "stdout",
     "output_type": "stream",
     "text": [
      "<class 'pandas.core.frame.DataFrame'>\n",
      "RangeIndex: 15235 entries, 0 to 15234\n",
      "Data columns (total 6 columns):\n",
      " #   Column               Non-Null Count  Dtype \n",
      "---  ------               --------------  ----- \n",
      " 0   @xmlns               15235 non-null  object\n",
      " 1   @xmlns:xsi           15235 non-null  object\n",
      " 2   @xsi:schemaLocation  15235 non-null  object\n",
      " 3   @version             15235 non-null  object\n",
      " 4   @exported-on         15235 non-null  object\n",
      " 5   drug                 15235 non-null  object\n",
      "dtypes: object(6)\n",
      "memory usage: 714.3+ KB\n"
     ]
    }
   ],
   "source": [
    "drugs_df.info()"
   ]
  },
  {
   "cell_type": "code",
   "execution_count": 19,
   "metadata": {},
   "outputs": [
    {
     "name": "stdout",
     "output_type": "stream",
     "text": [
      "['http://www.drugbank.ca']\n",
      "['http://www.w3.org/2001/XMLSchema-instance']\n",
      "['http://www.drugbank.ca http://www.drugbank.ca/docs/drugbank.xsd']\n",
      "['5.1']\n",
      "['2023-01-04']\n"
     ]
    },
    {
     "ename": "TypeError",
     "evalue": "unhashable type: 'dict'",
     "output_type": "error",
     "traceback": [
      "\u001b[1;31m---------------------------------------------------------------------------\u001b[0m",
      "\u001b[1;31mTypeError\u001b[0m                                 Traceback (most recent call last)",
      "Cell \u001b[1;32mIn[19], line 2\u001b[0m\n\u001b[0;32m      1\u001b[0m \u001b[39mfor\u001b[39;00m column \u001b[39min\u001b[39;00m drugs_df\u001b[39m.\u001b[39mcolumns:\n\u001b[1;32m----> 2\u001b[0m     \u001b[39mprint\u001b[39m(drugs_df[column]\u001b[39m.\u001b[39;49munique())\n",
      "File \u001b[1;32mc:\\Users\\josin\\anaconda3\\envs\\kedro-environment\\lib\\site-packages\\pandas\\core\\series.py:2242\u001b[0m, in \u001b[0;36mSeries.unique\u001b[1;34m(self)\u001b[0m\n\u001b[0;32m   2183\u001b[0m \u001b[39mdef\u001b[39;00m \u001b[39munique\u001b[39m(\u001b[39mself\u001b[39m) \u001b[39m-\u001b[39m\u001b[39m>\u001b[39m ArrayLike:\n\u001b[0;32m   2184\u001b[0m \u001b[39m    \u001b[39m\u001b[39m\"\"\"\u001b[39;00m\n\u001b[0;32m   2185\u001b[0m \u001b[39m    Return unique values of Series object.\u001b[39;00m\n\u001b[0;32m   2186\u001b[0m \n\u001b[1;32m   (...)\u001b[0m\n\u001b[0;32m   2240\u001b[0m \u001b[39m    Categories (3, object): ['a' < 'b' < 'c']\u001b[39;00m\n\u001b[0;32m   2241\u001b[0m \u001b[39m    \"\"\"\u001b[39;00m\n\u001b[1;32m-> 2242\u001b[0m     \u001b[39mreturn\u001b[39;00m \u001b[39msuper\u001b[39;49m()\u001b[39m.\u001b[39;49munique()\n",
      "File \u001b[1;32mc:\\Users\\josin\\anaconda3\\envs\\kedro-environment\\lib\\site-packages\\pandas\\core\\base.py:1001\u001b[0m, in \u001b[0;36mIndexOpsMixin.unique\u001b[1;34m(self)\u001b[0m\n\u001b[0;32m    999\u001b[0m         result \u001b[39m=\u001b[39m np\u001b[39m.\u001b[39masarray(result)\n\u001b[0;32m   1000\u001b[0m \u001b[39melse\u001b[39;00m:\n\u001b[1;32m-> 1001\u001b[0m     result \u001b[39m=\u001b[39m unique1d(values)\n\u001b[0;32m   1003\u001b[0m \u001b[39mreturn\u001b[39;00m result\n",
      "File \u001b[1;32mc:\\Users\\josin\\anaconda3\\envs\\kedro-environment\\lib\\site-packages\\pandas\\core\\algorithms.py:409\u001b[0m, in \u001b[0;36munique\u001b[1;34m(values)\u001b[0m\n\u001b[0;32m    315\u001b[0m \u001b[39mdef\u001b[39;00m \u001b[39munique\u001b[39m(values):\n\u001b[0;32m    316\u001b[0m \u001b[39m    \u001b[39m\u001b[39m\"\"\"\u001b[39;00m\n\u001b[0;32m    317\u001b[0m \u001b[39m    Return unique values based on a hash table.\u001b[39;00m\n\u001b[0;32m    318\u001b[0m \n\u001b[1;32m   (...)\u001b[0m\n\u001b[0;32m    407\u001b[0m \u001b[39m    array([('a', 'b'), ('b', 'a'), ('a', 'c')], dtype=object)\u001b[39;00m\n\u001b[0;32m    408\u001b[0m \u001b[39m    \"\"\"\u001b[39;00m\n\u001b[1;32m--> 409\u001b[0m     \u001b[39mreturn\u001b[39;00m unique_with_mask(values)\n",
      "File \u001b[1;32mc:\\Users\\josin\\anaconda3\\envs\\kedro-environment\\lib\\site-packages\\pandas\\core\\algorithms.py:425\u001b[0m, in \u001b[0;36munique_with_mask\u001b[1;34m(values, mask)\u001b[0m\n\u001b[0;32m    423\u001b[0m table \u001b[39m=\u001b[39m htable(\u001b[39mlen\u001b[39m(values))\n\u001b[0;32m    424\u001b[0m \u001b[39mif\u001b[39;00m mask \u001b[39mis\u001b[39;00m \u001b[39mNone\u001b[39;00m:\n\u001b[1;32m--> 425\u001b[0m     uniques \u001b[39m=\u001b[39m table\u001b[39m.\u001b[39;49munique(values)\n\u001b[0;32m    426\u001b[0m     uniques \u001b[39m=\u001b[39m _reconstruct_data(uniques, original\u001b[39m.\u001b[39mdtype, original)\n\u001b[0;32m    427\u001b[0m     \u001b[39mreturn\u001b[39;00m uniques\n",
      "File \u001b[1;32mpandas\\_libs\\hashtable_class_helper.pxi:5910\u001b[0m, in \u001b[0;36mpandas._libs.hashtable.PyObjectHashTable.unique\u001b[1;34m()\u001b[0m\n",
      "File \u001b[1;32mpandas\\_libs\\hashtable_class_helper.pxi:5857\u001b[0m, in \u001b[0;36mpandas._libs.hashtable.PyObjectHashTable._unique\u001b[1;34m()\u001b[0m\n",
      "\u001b[1;31mTypeError\u001b[0m: unhashable type: 'dict'"
     ]
    }
   ],
   "source": [
    "for column in drugs_df.columns:\n",
    "    print(drugs_df[column].unique())"
   ]
  },
  {
   "cell_type": "code",
   "execution_count": null,
   "metadata": {},
   "outputs": [],
   "source": []
  }
 ],
 "metadata": {
  "kernelspec": {
   "display_name": "kedro-environment",
   "language": "python",
   "name": "python3"
  },
  "language_info": {
   "codemirror_mode": {
    "name": "ipython",
    "version": 3
   },
   "file_extension": ".py",
   "mimetype": "text/x-python",
   "name": "python",
   "nbconvert_exporter": "python",
   "pygments_lexer": "ipython3",
   "version": "3.10.9"
  },
  "orig_nbformat": 4
 },
 "nbformat": 4,
 "nbformat_minor": 2
}
