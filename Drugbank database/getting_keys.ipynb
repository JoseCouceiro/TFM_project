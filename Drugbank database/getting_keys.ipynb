{
 "cells": [
  {
   "cell_type": "code",
   "execution_count": 1,
   "metadata": {},
   "outputs": [],
   "source": [
    "import os\n",
    "import json\n",
    "import pandas as pd"
   ]
  },
  {
   "cell_type": "code",
   "execution_count": 2,
   "metadata": {},
   "outputs": [],
   "source": [
    "with open(os.path.join('drugbank_all_full_database.xml', 'one_drug_small_cured.json'), 'r') as file:\n",
    "    drug_dict = json.load(file)\n"
   ]
  },
  {
   "attachments": {},
   "cell_type": "markdown",
   "metadata": {},
   "source": []
  },
  {
   "cell_type": "code",
   "execution_count": null,
   "metadata": {},
   "outputs": [],
   "source": [
    "my_dict = {}\n",
    "for key in drug_dict[0].keys():\n",
    "    my_dict[key] = []\n",
    "my_dict.pop('calculated-properties')\n",
    "for property in drug_dict[0]['calculated-properties']['property']:\n",
    "    my_dict[property['kind']] = []\n",
    "\n",
    "for mol in drug_dict:\n",
    "    for key,value in mol.items():\n",
    "        if key in my_dict.keys():\n",
    "            if type(value) in (str, float) or value == None: \n",
    "                my_dict[key].append(value)\n",
    "            elif key == 'drugbank-id':\n",
    "                my_dict[key].append(value[0]['$'])\n",
    "            elif key == 'groups':\n",
    "                my_dict[key].append(value['group'][0])\n",
    "        elif key == 'calculated-properties':\n",
    "            #kind_set = set()\n",
    "            for property in value['property']:\n",
    "                if property in property.keys():\n",
    "                        my_dict[prop].append(property['value'])\n",
    "\n",
    "\n"
   ]
  },
  {
   "cell_type": "code",
   "execution_count": 62,
   "metadata": {},
   "outputs": [],
   "source": [
    "my_dict = {}\n",
    "for key in drug_dict[0].keys():\n",
    "    my_dict[key] = []\n",
    "my_dict.pop('calculated-properties')\n",
    "for property in drug_dict[0]['calculated-properties']['property']:\n",
    "    my_dict[property['kind']] = []\n",
    "\n",
    "str_and_nulls = []\n",
    "for key,value in drug_dict[0].items():\n",
    "    if type(value) in (str, float) or value == None: \n",
    "        str_and_nulls.append(key)\n",
    "\n",
    "for mol in drug_dict:\n",
    "    \n",
    "    for key in my_dict.keys():\n",
    "    \n",
    "    \n",
    "        \n",
    "        if key in mol.keys():\n",
    "            if key in str_and_nulls:\n",
    "                my_dict[key].append(mol[key])\n",
    "            elif key == 'drugbank-id':\n",
    "                my_dict[key].append(mol[key][0]['$'])\n",
    "            elif key == 'groups':\n",
    "                my_dict[key].append(mol[key]['group'][0])\n",
    "        else:\n",
    "            property_kind_values = set()  \n",
    "            for property in mol['calculated-properties']['property']:\n",
    "                if property['kind'] not in property_kind_values:\n",
    "                    property_kind_values.add(property['kind'])\n",
    "                \n",
    "                    if key == property['kind']:\n",
    "                        my_dict[key].append(property['value'])\n",
    "            if key not in property_kind_values:\n",
    "                my_dict[key].append(None)\n",
    "                    "
   ]
  },
  {
   "cell_type": "code",
   "execution_count": 63,
   "metadata": {},
   "outputs": [
    {
     "data": {
      "text/plain": [
       "{'Bioavailability',\n",
       " 'Ghose Filter',\n",
       " 'H Bond Acceptor Count',\n",
       " 'H Bond Donor Count',\n",
       " 'IUPAC Name',\n",
       " 'InChI',\n",
       " 'InChIKey',\n",
       " 'MDDR-Like Rule',\n",
       " 'Molecular Formula',\n",
       " 'Molecular Weight',\n",
       " 'Monoisotopic Weight',\n",
       " 'Number of Rings',\n",
       " 'Physiological Charge',\n",
       " 'Polar Surface Area (PSA)',\n",
       " 'Polarizability',\n",
       " 'Refractivity',\n",
       " 'Rotatable Bond Count',\n",
       " 'Rule of Five',\n",
       " 'SMILES',\n",
       " 'Traditional IUPAC Name',\n",
       " 'Water Solubility',\n",
       " 'logP',\n",
       " 'logS',\n",
       " 'pKa (strongest acidic)',\n",
       " 'pKa (strongest basic)'}"
      ]
     },
     "execution_count": 63,
     "metadata": {},
     "output_type": "execute_result"
    }
   ],
   "source": [
    "rep_values"
   ]
  },
  {
   "cell_type": "code",
   "execution_count": 64,
   "metadata": {},
   "outputs": [
    {
     "data": {
      "text/plain": [
       "{'@type': ['small molecule', 'small molecule'],\n",
       " '@created': ['2022-12-02', '2022-12-02'],\n",
       " '@updated': ['2022-12-03', '2022-12-13'],\n",
       " 'drugbank-id': ['DB17297', 'DB17298'],\n",
       " 'name': ['Enitociclib', 'Disufenton'],\n",
       " 'cas-number': ['1610408-97-3', '168021-77-0'],\n",
       " 'unii': ['1255AT22ZJ', '797K01YF1M'],\n",
       " 'average-mass': [404.44, 337.36],\n",
       " 'monoisotopic-mass': [404.111853336, 337.028994175],\n",
       " 'groups': ['investigational', 'investigational'],\n",
       " 'mixtures': [None, None],\n",
       " 'manufacturers': [None, None],\n",
       " 'atc-codes': [None, None],\n",
       " 'experimental-properties': [None, None],\n",
       " 'snp-effects': [None, None],\n",
       " 'snp-adverse-drug-reactions': [None, None],\n",
       " 'targets': [None, None],\n",
       " 'enzymes': [None, None],\n",
       " 'carriers': [None, None],\n",
       " 'transporters': [None, None],\n",
       " 'logP': ['3.71', '-2.1'],\n",
       " 'logS': ['-4.7', '-2.9'],\n",
       " 'Water Solubility': ['7.76e-03 g/l', '3.98e-01 g/l'],\n",
       " 'IUPAC Name': ['(S)-[(2-{[5-fluoro-4-(4-fluoro-2-methoxyphenyl)pyridin-2-yl]amino}pyridin-4-yl)methyl](imino)methyl-lambda6-sulfanone',\n",
       "  '(Z)-tert-butyl[(2,4-disulfophenyl)methylidene]oxidoazanium'],\n",
       " 'Traditional IUPAC Name': ['(S)-[(2-{[5-fluoro-4-(4-fluoro-2-methoxyphenyl)pyridin-2-yl]amino}pyridin-4-yl)methyl](imino)methyl-lambda6-sulfanone',\n",
       "  '(Z)-tert-butyl[(2,4-disulfophenyl)methylidene]oxidoazanium'],\n",
       " 'Molecular Weight': ['404.44', '337.36'],\n",
       " 'Monoisotopic Weight': ['404.111853336', '337.028994175'],\n",
       " 'SMILES': ['COC1=C(C=CC(F)=C1)C1=CC(NC2=NC=CC(C[S@@](C)(=N)=O)=C2)=NC=C1F',\n",
       "  'CC(C)(C)[N+](\\\\[O-])=C\\\\C1=C(C=C(C=C1)S(O)(=O)=O)S(O)(=O)=O'],\n",
       " 'Molecular Formula': ['C19H18F2N4O2S', 'C11H15NO7S2'],\n",
       " 'InChI': ['InChI=1S/C19H18F2N4O2S/c1-27-17-8-13(20)3-4-14(17)15-9-19(24-10-16(15)21)25-18-7-12(5-6-23-18)11-28(2,22)26/h3-10,22H,11H2,1-2H3,(H,23,24,25)/t28-/m0/s1',\n",
       "  'InChI=1S/C11H15NO7S2/c1-11(2,3)12(13)7-8-4-5-9(20(14,15)16)6-10(8)21(17,18)19/h4-7H,1-3H3,(H,14,15,16)(H,17,18,19)/b12-7-'],\n",
       " 'InChIKey': ['YZCUMZWULWOUMD-NDEPHWFRSA-N', 'OVTCHWSLKGENKP-GHXNOFRVSA-N'],\n",
       " 'Polar Surface Area (PSA)': ['87.96', '134.81'],\n",
       " 'Refractivity': ['103.02', '78.1'],\n",
       " 'Polarizability': ['39.71', '31.55'],\n",
       " 'Rotatable Bond Count': ['6', '4'],\n",
       " 'H Bond Acceptor Count': ['6', '7'],\n",
       " 'H Bond Donor Count': ['2', '2'],\n",
       " 'pKa (strongest acidic)': ['13.52', '-2.9'],\n",
       " 'pKa (strongest basic)': ['4.46', None],\n",
       " 'Physiological Charge': ['0', '-2'],\n",
       " 'Number of Rings': ['3', '1'],\n",
       " 'Bioavailability': ['1', '1'],\n",
       " 'Rule of Five': ['1', '1'],\n",
       " 'Ghose Filter': ['1', '0'],\n",
       " 'MDDR-Like Rule': ['1', '0']}"
      ]
     },
     "execution_count": 64,
     "metadata": {},
     "output_type": "execute_result"
    }
   ],
   "source": [
    "my_dict"
   ]
  },
  {
   "cell_type": "code",
   "execution_count": 65,
   "metadata": {},
   "outputs": [
    {
     "name": "stdout",
     "output_type": "stream",
     "text": [
      "2\n",
      "2\n",
      "2\n",
      "2\n",
      "2\n",
      "2\n",
      "2\n",
      "2\n",
      "2\n",
      "2\n",
      "2\n",
      "2\n",
      "2\n",
      "2\n",
      "2\n",
      "2\n",
      "2\n",
      "2\n",
      "2\n",
      "2\n",
      "2\n",
      "2\n",
      "2\n",
      "2\n",
      "2\n",
      "2\n",
      "2\n",
      "2\n",
      "2\n",
      "2\n",
      "2\n",
      "2\n",
      "2\n",
      "2\n",
      "2\n",
      "2\n",
      "2\n",
      "2\n",
      "2\n",
      "2\n",
      "2\n",
      "2\n",
      "2\n",
      "2\n",
      "2\n"
     ]
    }
   ],
   "source": [
    "for key, value in my_dict.items():\n",
    "    print(len(value))"
   ]
  },
  {
   "cell_type": "code",
   "execution_count": null,
   "metadata": {},
   "outputs": [],
   "source": []
  },
  {
   "cell_type": "code",
   "execution_count": null,
   "metadata": {},
   "outputs": [],
   "source": [
    "drug_df = pd.DataFrame(my_dict)"
   ]
  },
  {
   "cell_type": "code",
   "execution_count": null,
   "metadata": {},
   "outputs": [],
   "source": []
  },
  {
   "cell_type": "code",
   "execution_count": null,
   "metadata": {},
   "outputs": [],
   "source": []
  },
  {
   "cell_type": "code",
   "execution_count": null,
   "metadata": {},
   "outputs": [],
   "source": [
    "drug_df = pd.DataFrame(my_dict)"
   ]
  },
  {
   "cell_type": "code",
   "execution_count": null,
   "metadata": {},
   "outputs": [],
   "source": []
  },
  {
   "cell_type": "code",
   "execution_count": null,
   "metadata": {},
   "outputs": [],
   "source": []
  },
  {
   "cell_type": "code",
   "execution_count": null,
   "metadata": {},
   "outputs": [],
   "source": [
    "def __create_table_medicines(self):\n",
    "        self.__table_keys = []\n",
    "        __query = \"\"\"CREATE TABLE IF NOT EXISTS MEDICINES(\"\"\"\n",
    "        for __attr in cfg_item(\"med_attributes\"):\n",
    "            self.__table_keys.append(__attr)\n",
    "            __column = cfg_item(\"med_attributes\", f\"{__attr}\", \"column\")\n",
    "            __typ = cfg_item(\"med_attributes\", f\"{__attr}\", \"type\")\n",
    "            __query += f\"\"\"{__column} {__typ},\"\"\"  \n",
    "        __query += f\"\"\"PRIMARY KEY (AEMPS_register_number),\n",
    "                FOREIGN KEY (administration_id) REFERENCES ADMINISTRATION_ROUTES (id_AEMPS)\n",
    "            );\"\"\"\n",
    "        #print(__query)\n",
    "        execute_query(self.__connection, __query)"
   ]
  },
  {
   "cell_type": "code",
   "execution_count": null,
   "metadata": {},
   "outputs": [],
   "source": [
    "def __insert_data_medicines(self, response_list):  \n",
    "    __query_list = []               \n",
    "    for __med in response_list:\n",
    "        __prop_list = [] \n",
    "        for __key, __prop in __med.items():\n",
    "            if __key in self.__table_keys:\n",
    "                type_num = {cfg_item(\"med_attributes\", f\"{__key}\", \"inst\")}\n",
    "                if type_num == {1}:\n",
    "                    inst = f\"'{__prop}'\"\n",
    "                if type_num == {2}:\n",
    "                    inst = f\"{int(__prop)}\"\n",
    "                if type_num == {3}:\n",
    "                    inst = f\"'{__prop['aut']}'\"\n",
    "                if type_num == {4}:\n",
    "                    inst = f\"'{__prop['nombre']}'\"\n",
    "                if type_num == {5}:\n",
    "                    inst = f\"'{__prop[0]['id']}'\"\n",
    "                __prop_list.append(inst)\n",
    "        __prop_str = ','.join(__prop_list)\n",
    "        __query_list.append(f\"INSERT INTO MEDICINES VALUES({__prop_str});\")\n",
    "    for __query in __query_list:\n",
    "        #print(__query)\n",
    "        execute_query(self.__connection, __query)  "
   ]
  }
 ],
 "metadata": {
  "kernelspec": {
   "display_name": "kedro-environment",
   "language": "python",
   "name": "python3"
  },
  "language_info": {
   "codemirror_mode": {
    "name": "ipython",
    "version": 3
   },
   "file_extension": ".py",
   "mimetype": "text/x-python",
   "name": "python",
   "nbconvert_exporter": "python",
   "pygments_lexer": "ipython3",
   "version": "3.10.9"
  },
  "orig_nbformat": 4
 },
 "nbformat": 4,
 "nbformat_minor": 2
}
