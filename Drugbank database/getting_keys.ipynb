{
 "cells": [
  {
   "cell_type": "code",
   "execution_count": 59,
   "metadata": {},
   "outputs": [],
   "source": [
    "import os\n",
    "import json\n",
    "import pandas as pd"
   ]
  },
  {
   "cell_type": "code",
   "execution_count": 60,
   "metadata": {},
   "outputs": [],
   "source": [
    "with open(os.path.join('drugbank_all_full_database.xml', 'one_drug_small_cured.json'), 'r') as file:\n",
    "    drug_dict = json.load(file)\n"
   ]
  },
  {
   "attachments": {},
   "cell_type": "markdown",
   "metadata": {},
   "source": []
  },
  {
   "cell_type": "code",
   "execution_count": 111,
   "metadata": {},
   "outputs": [],
   "source": [
    "with open(os.path.join('drugbank_all_full_database.xml', 'one_drug_biotech_cured.json'), 'r') as file:\n",
    "    biotech_dict = json.load(file)"
   ]
  },
  {
   "cell_type": "code",
   "execution_count": 112,
   "metadata": {},
   "outputs": [],
   "source": [
    "with open(os.path.join('drugbank_all_full_database.xml', 'one_drug_mixed_cured.json'), 'r') as file:\n",
    "    mixed_dict = json.load(file)"
   ]
  },
  {
   "cell_type": "code",
   "execution_count": null,
   "metadata": {},
   "outputs": [],
   "source": [
    "with open(os.path.join('drugbank_all_full_database.xml', 'one_drug_mixed_cured.json'), 'r') as file:\n",
    "    full_dict = json.load(file)"
   ]
  },
  {
   "cell_type": "code",
   "execution_count": 113,
   "metadata": {},
   "outputs": [],
   "source": [
    "my_dict = {}\n",
    "for key in drug_dict[0].keys():\n",
    "    my_dict[key] = []\n",
    "my_dict.pop('calculated-properties')\n",
    "for property in drug_dict[0]['calculated-properties']['property']:\n",
    "    my_dict[property['kind']] = []\n",
    "my_dict['atc_code'] = []\n",
    "my_dict['atc_code_$'] = []\n",
    "for i in range(4):\n",
    "    my_dict[f'atc_code_{i}'] = []\n",
    "    my_dict[f'atc_code_{i}_$'] = []\n",
    "\n",
    "\n",
    "str_and_nulls = []\n",
    "for key,value in drug_dict[0].items():\n",
    "    if type(value) in (str, float) or value == None: \n",
    "        str_and_nulls.append(key)\n",
    "\n",
    "for mol in mixed_dict:\n",
    "    if mol['@type'] != 'biotech':\n",
    "        for key in my_dict.keys():\n",
    "            if key in mol.keys():\n",
    "                if key in str_and_nulls:\n",
    "                    my_dict[key].append(mol[key])\n",
    "                elif key == 'drugbank-id':\n",
    "                    my_dict[key].append(mol[key][0]['$'])\n",
    "                elif key == 'groups':\n",
    "                    my_dict[key].append(mol[key]['group'][0])\n",
    "                \n",
    "\n",
    "            else:\n",
    "                for inst in mol:\n",
    "                    if inst == 'calculated-properties': \n",
    "                        property_kind_values = set()  \n",
    "                        for property in mol['calculated-properties']['property']:\n",
    "                            if property['kind'] not in property_kind_values:\n",
    "                                property_kind_values.add(property['kind'])\n",
    "                                if key == property['kind']:\n",
    "                                    my_dict[key].append(property['value'])\n",
    "                \n",
    "                \n",
    "                    elif inst == 'act-codes':\n",
    "                        my_dict['atc_code'].append(value['atc-code'][0]['@code'])\n",
    "                        my_dict['atc_code_$'].append(value['atc-code'][0]['$'])\n",
    "                        for i, value in enumerate(key['atc-code'][0]['level']):\n",
    "                            my_dict[f'act_code_{i}'] = value['atc-code'][0]['level'][i]['@code']\n",
    "                            my_dict[f'act_code_{i}_$'] = value['atc-code'][0]['level'][i]['$']\n",
    "\n",
    "                if key not in property_kind_values:\n",
    "                    my_dict[key].append(None)"
   ]
  },
  {
   "cell_type": "code",
   "execution_count": 114,
   "metadata": {},
   "outputs": [
    {
     "data": {
      "text/plain": [
       "{'@type': ['small molecule', 'small molecule'],\n",
       " '@created': ['2022-12-02', '2022-12-02'],\n",
       " '@updated': ['2022-12-03', '2022-12-13'],\n",
       " 'drugbank-id': ['DB17297', 'DB17298'],\n",
       " 'name': ['Enitociclib', 'Disufenton'],\n",
       " 'cas-number': ['1610408-97-3', '168021-77-0'],\n",
       " 'unii': ['1255AT22ZJ', '797K01YF1M'],\n",
       " 'average-mass': [404.44, 337.36],\n",
       " 'monoisotopic-mass': [404.111853336, 337.028994175],\n",
       " 'groups': ['investigational', 'investigational'],\n",
       " 'mixtures': [None, None],\n",
       " 'manufacturers': [None, None],\n",
       " 'atc-codes': [None, None],\n",
       " 'experimental-properties': [None, None],\n",
       " 'snp-effects': [None, None],\n",
       " 'snp-adverse-drug-reactions': [None, None],\n",
       " 'targets': [None, None],\n",
       " 'enzymes': [None, None],\n",
       " 'carriers': [None, None],\n",
       " 'transporters': [None, None],\n",
       " 'logP': ['3.71', '-2.1'],\n",
       " 'logS': ['-4.7', '-2.9'],\n",
       " 'Water Solubility': ['7.76e-03 g/l', '3.98e-01 g/l'],\n",
       " 'IUPAC Name': ['(S)-[(2-{[5-fluoro-4-(4-fluoro-2-methoxyphenyl)pyridin-2-yl]amino}pyridin-4-yl)methyl](imino)methyl-lambda6-sulfanone',\n",
       "  '(Z)-tert-butyl[(2,4-disulfophenyl)methylidene]oxidoazanium'],\n",
       " 'Traditional IUPAC Name': ['(S)-[(2-{[5-fluoro-4-(4-fluoro-2-methoxyphenyl)pyridin-2-yl]amino}pyridin-4-yl)methyl](imino)methyl-lambda6-sulfanone',\n",
       "  '(Z)-tert-butyl[(2,4-disulfophenyl)methylidene]oxidoazanium'],\n",
       " 'Molecular Weight': ['404.44', '337.36'],\n",
       " 'Monoisotopic Weight': ['404.111853336', '337.028994175'],\n",
       " 'SMILES': ['COC1=C(C=CC(F)=C1)C1=CC(NC2=NC=CC(C[S@@](C)(=N)=O)=C2)=NC=C1F',\n",
       "  'CC(C)(C)[N+](\\\\[O-])=C\\\\C1=C(C=C(C=C1)S(O)(=O)=O)S(O)(=O)=O'],\n",
       " 'Molecular Formula': ['C19H18F2N4O2S', 'C11H15NO7S2'],\n",
       " 'InChI': ['InChI=1S/C19H18F2N4O2S/c1-27-17-8-13(20)3-4-14(17)15-9-19(24-10-16(15)21)25-18-7-12(5-6-23-18)11-28(2,22)26/h3-10,22H,11H2,1-2H3,(H,23,24,25)/t28-/m0/s1',\n",
       "  'InChI=1S/C11H15NO7S2/c1-11(2,3)12(13)7-8-4-5-9(20(14,15)16)6-10(8)21(17,18)19/h4-7H,1-3H3,(H,14,15,16)(H,17,18,19)/b12-7-'],\n",
       " 'InChIKey': ['YZCUMZWULWOUMD-NDEPHWFRSA-N', 'OVTCHWSLKGENKP-GHXNOFRVSA-N'],\n",
       " 'Polar Surface Area (PSA)': ['87.96', '134.81'],\n",
       " 'Refractivity': ['103.02', '78.1'],\n",
       " 'Polarizability': ['39.71', '31.55'],\n",
       " 'Rotatable Bond Count': ['6', '4'],\n",
       " 'H Bond Acceptor Count': ['6', '7'],\n",
       " 'H Bond Donor Count': ['2', '2'],\n",
       " 'pKa (strongest acidic)': ['13.52', '-2.9'],\n",
       " 'pKa (strongest basic)': ['4.46', None],\n",
       " 'Physiological Charge': ['0', '-2'],\n",
       " 'Number of Rings': ['3', '1'],\n",
       " 'Bioavailability': ['1', '1'],\n",
       " 'Rule of Five': ['1', '1'],\n",
       " 'Ghose Filter': ['1', '0'],\n",
       " 'MDDR-Like Rule': ['1', '0'],\n",
       " 'atc_code': [None, None],\n",
       " 'atc_code_$': [None, None],\n",
       " 'atc_code_0': [None, None],\n",
       " 'atc_code_0_$': [None, None],\n",
       " 'atc_code_1': [None, None],\n",
       " 'atc_code_1_$': [None, None],\n",
       " 'atc_code_2': [None, None],\n",
       " 'atc_code_2_$': [None, None],\n",
       " 'atc_code_3': [None, None],\n",
       " 'atc_code_3_$': [None, None]}"
      ]
     },
     "execution_count": 114,
     "metadata": {},
     "output_type": "execute_result"
    }
   ],
   "source": [
    "my_dict"
   ]
  },
  {
   "cell_type": "code",
   "execution_count": 117,
   "metadata": {},
   "outputs": [
    {
     "name": "stdout",
     "output_type": "stream",
     "text": [
      "[2, 2, 2, 2, 2, 2, 2, 2, 2, 2, 2, 2, 2, 2, 2, 2, 2, 2, 2, 2, 2, 2, 2, 2, 2, 2, 2, 2, 2, 2, 2, 2, 2, 2, 2, 2, 2, 2, 2, 2, 2, 2, 2, 2, 2, 2, 2, 2, 2, 2, 2, 2, 2, 2, 2]\n"
     ]
    }
   ],
   "source": [
    "lens= []\n",
    "for key, value in my_dict.items():\n",
    "    lens.append(len(value))\n",
    "print(lens)"
   ]
  },
  {
   "cell_type": "code",
   "execution_count": 118,
   "metadata": {},
   "outputs": [],
   "source": [
    "drug_df = pd.DataFrame(my_dict)"
   ]
  },
  {
   "cell_type": "code",
   "execution_count": 119,
   "metadata": {},
   "outputs": [
    {
     "data": {
      "text/html": [
       "<div>\n",
       "<style scoped>\n",
       "    .dataframe tbody tr th:only-of-type {\n",
       "        vertical-align: middle;\n",
       "    }\n",
       "\n",
       "    .dataframe tbody tr th {\n",
       "        vertical-align: top;\n",
       "    }\n",
       "\n",
       "    .dataframe thead th {\n",
       "        text-align: right;\n",
       "    }\n",
       "</style>\n",
       "<table border=\"1\" class=\"dataframe\">\n",
       "  <thead>\n",
       "    <tr style=\"text-align: right;\">\n",
       "      <th></th>\n",
       "      <th>@type</th>\n",
       "      <th>@created</th>\n",
       "      <th>@updated</th>\n",
       "      <th>drugbank-id</th>\n",
       "      <th>name</th>\n",
       "      <th>cas-number</th>\n",
       "      <th>unii</th>\n",
       "      <th>average-mass</th>\n",
       "      <th>monoisotopic-mass</th>\n",
       "      <th>groups</th>\n",
       "      <th>...</th>\n",
       "      <th>atc_code</th>\n",
       "      <th>atc_code_$</th>\n",
       "      <th>atc_code_0</th>\n",
       "      <th>atc_code_0_$</th>\n",
       "      <th>atc_code_1</th>\n",
       "      <th>atc_code_1_$</th>\n",
       "      <th>atc_code_2</th>\n",
       "      <th>atc_code_2_$</th>\n",
       "      <th>atc_code_3</th>\n",
       "      <th>atc_code_3_$</th>\n",
       "    </tr>\n",
       "  </thead>\n",
       "  <tbody>\n",
       "    <tr>\n",
       "      <th>0</th>\n",
       "      <td>small molecule</td>\n",
       "      <td>2022-12-02</td>\n",
       "      <td>2022-12-03</td>\n",
       "      <td>DB17297</td>\n",
       "      <td>Enitociclib</td>\n",
       "      <td>1610408-97-3</td>\n",
       "      <td>1255AT22ZJ</td>\n",
       "      <td>404.44</td>\n",
       "      <td>404.111853</td>\n",
       "      <td>investigational</td>\n",
       "      <td>...</td>\n",
       "      <td>None</td>\n",
       "      <td>None</td>\n",
       "      <td>None</td>\n",
       "      <td>None</td>\n",
       "      <td>None</td>\n",
       "      <td>None</td>\n",
       "      <td>None</td>\n",
       "      <td>None</td>\n",
       "      <td>None</td>\n",
       "      <td>None</td>\n",
       "    </tr>\n",
       "    <tr>\n",
       "      <th>1</th>\n",
       "      <td>small molecule</td>\n",
       "      <td>2022-12-02</td>\n",
       "      <td>2022-12-13</td>\n",
       "      <td>DB17298</td>\n",
       "      <td>Disufenton</td>\n",
       "      <td>168021-77-0</td>\n",
       "      <td>797K01YF1M</td>\n",
       "      <td>337.36</td>\n",
       "      <td>337.028994</td>\n",
       "      <td>investigational</td>\n",
       "      <td>...</td>\n",
       "      <td>None</td>\n",
       "      <td>None</td>\n",
       "      <td>None</td>\n",
       "      <td>None</td>\n",
       "      <td>None</td>\n",
       "      <td>None</td>\n",
       "      <td>None</td>\n",
       "      <td>None</td>\n",
       "      <td>None</td>\n",
       "      <td>None</td>\n",
       "    </tr>\n",
       "  </tbody>\n",
       "</table>\n",
       "<p>2 rows × 55 columns</p>\n",
       "</div>"
      ],
      "text/plain": [
       "            @type    @created    @updated drugbank-id         name  \\\n",
       "0  small molecule  2022-12-02  2022-12-03     DB17297  Enitociclib   \n",
       "1  small molecule  2022-12-02  2022-12-13     DB17298   Disufenton   \n",
       "\n",
       "     cas-number        unii  average-mass  monoisotopic-mass           groups  \\\n",
       "0  1610408-97-3  1255AT22ZJ        404.44         404.111853  investigational   \n",
       "1   168021-77-0  797K01YF1M        337.36         337.028994  investigational   \n",
       "\n",
       "   ... atc_code atc_code_$ atc_code_0 atc_code_0_$ atc_code_1 atc_code_1_$  \\\n",
       "0  ...     None       None       None         None       None         None   \n",
       "1  ...     None       None       None         None       None         None   \n",
       "\n",
       "  atc_code_2 atc_code_2_$ atc_code_3 atc_code_3_$  \n",
       "0       None         None       None         None  \n",
       "1       None         None       None         None  \n",
       "\n",
       "[2 rows x 55 columns]"
      ]
     },
     "execution_count": 119,
     "metadata": {},
     "output_type": "execute_result"
    }
   ],
   "source": [
    "drug_df"
   ]
  },
  {
   "cell_type": "code",
   "execution_count": 120,
   "metadata": {},
   "outputs": [],
   "source": [
    "drug_df.to_csv(os.path.join('drugbank_all_full_database.xml', 'molecule_dataframe.csv'))"
   ]
  },
  {
   "cell_type": "code",
   "execution_count": null,
   "metadata": {},
   "outputs": [],
   "source": []
  }
 ],
 "metadata": {
  "kernelspec": {
   "display_name": "kedro-environment",
   "language": "python",
   "name": "python3"
  },
  "language_info": {
   "codemirror_mode": {
    "name": "ipython",
    "version": 3
   },
   "file_extension": ".py",
   "mimetype": "text/x-python",
   "name": "python",
   "nbconvert_exporter": "python",
   "pygments_lexer": "ipython3",
   "version": "3.10.9"
  },
  "orig_nbformat": 4
 },
 "nbformat": 4,
 "nbformat_minor": 2
}
