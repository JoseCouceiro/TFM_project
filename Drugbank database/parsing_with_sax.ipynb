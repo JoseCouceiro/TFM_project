{
 "cells": [
  {
   "cell_type": "code",
   "execution_count": 1,
   "metadata": {},
   "outputs": [],
   "source": [
    "import os\n",
    "import xml.sax"
   ]
  },
  {
   "cell_type": "code",
   "execution_count": null,
   "metadata": {},
   "outputs": [],
   "source": [
    "columns = 'id,name,description,cas-number,unii,average-mass,salt_name,property_kind:SMILES_value,property_kind:Molecular Formula_value,property_kind:InChi_value,property_kind:InChiKey_value,property_state,classification_direct-parent,product_name,product_dosage-form,product_route,product_fda-application-number,packager_name,atc-code,atc-code_level0,atc-code_level1,atc-code_level2,atc-code_level3'"
   ]
  },
  {
   "cell_type": "code",
   "execution_count": 24,
   "metadata": {},
   "outputs": [],
   "source": [
    "class DrugHandler(xml.sax.ContentHandler):\n",
    "\n",
    "    def startElement(self, tag, attrs):\n",
    "        self.current = tag\n",
    "        if tag == 'drug' and 'type' in attrs:\n",
    "            print(f\"{attrs['type']}\")\n",
    "        if tag == 'drugbank-id' and 'primary' in attrs:\n",
    "            print(f\"{tag}\")\n",
    "\n",
    "    def characters(self, content):\n",
    "        if self.current == 'drugbank-id':\n",
    "            self.id = content\n",
    "        elif self.current == 'name':\n",
    "            self.name = content\n",
    "        elif self.current == 'description':\n",
    "            self.description = content\n",
    "\n",
    "    def endElement(self, name):\n",
    "        if self.current == 'drugbank-id':\n",
    "            print(f\"id: {self.id}\")\n",
    "        elif self.current == 'name':\n",
    "            print(f\"name: {self.name}\")\n",
    "        elif self.current == 'description':\n",
    "            print(f\"description: {self.description}\")\n",
    "        self.current = ''"
   ]
  },
  {
   "cell_type": "code",
   "execution_count": 25,
   "metadata": {},
   "outputs": [
    {
     "name": "stdout",
     "output_type": "stream",
     "text": [
      "biotech\n"
     ]
    },
    {
     "ename": "AttributeError",
     "evalue": "'str' object has no attribute 'content'",
     "output_type": "error",
     "traceback": [
      "\u001b[1;31m---------------------------------------------------------------------------\u001b[0m",
      "\u001b[1;31mAttributeError\u001b[0m                            Traceback (most recent call last)",
      "Cell \u001b[1;32mIn[25], line 4\u001b[0m\n\u001b[0;32m      2\u001b[0m parser \u001b[39m=\u001b[39m xml\u001b[39m.\u001b[39msax\u001b[39m.\u001b[39mmake_parser()\n\u001b[0;32m      3\u001b[0m parser\u001b[39m.\u001b[39msetContentHandler(handler)\n\u001b[1;32m----> 4\u001b[0m parser\u001b[39m.\u001b[39;49mparse(os\u001b[39m.\u001b[39;49mpath\u001b[39m.\u001b[39;49mjoin(\u001b[39m'\u001b[39;49m\u001b[39mdrugbank_all_full_database.xml\u001b[39;49m\u001b[39m'\u001b[39;49m, \u001b[39m\"\u001b[39;49m\u001b[39mtwo_instances.xml\u001b[39;49m\u001b[39m\"\u001b[39;49m))\n",
      "File \u001b[1;32mc:\\Users\\josin\\anaconda3\\envs\\kedro-environment\\lib\\xml\\sax\\expatreader.py:111\u001b[0m, in \u001b[0;36mExpatParser.parse\u001b[1;34m(self, source)\u001b[0m\n\u001b[0;32m    109\u001b[0m     \u001b[39mself\u001b[39m\u001b[39m.\u001b[39mreset()\n\u001b[0;32m    110\u001b[0m     \u001b[39mself\u001b[39m\u001b[39m.\u001b[39m_cont_handler\u001b[39m.\u001b[39msetDocumentLocator(ExpatLocator(\u001b[39mself\u001b[39m))\n\u001b[1;32m--> 111\u001b[0m     xmlreader\u001b[39m.\u001b[39;49mIncrementalParser\u001b[39m.\u001b[39;49mparse(\u001b[39mself\u001b[39;49m, source)\n\u001b[0;32m    112\u001b[0m \u001b[39mexcept\u001b[39;00m:\n\u001b[0;32m    113\u001b[0m     \u001b[39m# bpo-30264: Close the source on error to not leak resources:\u001b[39;00m\n\u001b[0;32m    114\u001b[0m     \u001b[39m# xml.sax.parse() doesn't give access to the underlying parser\u001b[39;00m\n\u001b[0;32m    115\u001b[0m     \u001b[39m# to the caller\u001b[39;00m\n\u001b[0;32m    116\u001b[0m     \u001b[39mself\u001b[39m\u001b[39m.\u001b[39m_close_source()\n",
      "File \u001b[1;32mc:\\Users\\josin\\anaconda3\\envs\\kedro-environment\\lib\\xml\\sax\\xmlreader.py:125\u001b[0m, in \u001b[0;36mIncrementalParser.parse\u001b[1;34m(self, source)\u001b[0m\n\u001b[0;32m    123\u001b[0m buffer \u001b[39m=\u001b[39m file\u001b[39m.\u001b[39mread(\u001b[39mself\u001b[39m\u001b[39m.\u001b[39m_bufsize)\n\u001b[0;32m    124\u001b[0m \u001b[39mwhile\u001b[39;00m buffer:\n\u001b[1;32m--> 125\u001b[0m     \u001b[39mself\u001b[39;49m\u001b[39m.\u001b[39;49mfeed(buffer)\n\u001b[0;32m    126\u001b[0m     buffer \u001b[39m=\u001b[39m file\u001b[39m.\u001b[39mread(\u001b[39mself\u001b[39m\u001b[39m.\u001b[39m_bufsize)\n\u001b[0;32m    127\u001b[0m \u001b[39mself\u001b[39m\u001b[39m.\u001b[39mclose()\n",
      "File \u001b[1;32mc:\\Users\\josin\\anaconda3\\envs\\kedro-environment\\lib\\xml\\sax\\expatreader.py:217\u001b[0m, in \u001b[0;36mExpatParser.feed\u001b[1;34m(self, data, isFinal)\u001b[0m\n\u001b[0;32m    210\u001b[0m     \u001b[39mself\u001b[39m\u001b[39m.\u001b[39m_cont_handler\u001b[39m.\u001b[39mstartDocument()\n\u001b[0;32m    212\u001b[0m \u001b[39mtry\u001b[39;00m:\n\u001b[0;32m    213\u001b[0m     \u001b[39m# The isFinal parameter is internal to the expat reader.\u001b[39;00m\n\u001b[0;32m    214\u001b[0m     \u001b[39m# If it is set to true, expat will check validity of the entire\u001b[39;00m\n\u001b[0;32m    215\u001b[0m     \u001b[39m# document. When feeding chunks, they are not normally final -\u001b[39;00m\n\u001b[0;32m    216\u001b[0m     \u001b[39m# except when invoked from close.\u001b[39;00m\n\u001b[1;32m--> 217\u001b[0m     \u001b[39mself\u001b[39;49m\u001b[39m.\u001b[39;49m_parser\u001b[39m.\u001b[39;49mParse(data, isFinal)\n\u001b[0;32m    218\u001b[0m \u001b[39mexcept\u001b[39;00m expat\u001b[39m.\u001b[39merror \u001b[39mas\u001b[39;00m e:\n\u001b[0;32m    219\u001b[0m     exc \u001b[39m=\u001b[39m SAXParseException(expat\u001b[39m.\u001b[39mErrorString(e\u001b[39m.\u001b[39mcode), e, \u001b[39mself\u001b[39m)\n",
      "File \u001b[1;32mc:\\b\\abs_e2ihaadqb1\\croot\\python-split_1677694532162\\work\\modules\\pyexpat.c:416\u001b[0m, in \u001b[0;36mStartElement\u001b[1;34m()\u001b[0m\n",
      "File \u001b[1;32mc:\\Users\\josin\\anaconda3\\envs\\kedro-environment\\lib\\xml\\sax\\expatreader.py:333\u001b[0m, in \u001b[0;36mExpatParser.start_element\u001b[1;34m(self, name, attrs)\u001b[0m\n\u001b[0;32m    332\u001b[0m \u001b[39mdef\u001b[39;00m \u001b[39mstart_element\u001b[39m(\u001b[39mself\u001b[39m, name, attrs):\n\u001b[1;32m--> 333\u001b[0m     \u001b[39mself\u001b[39;49m\u001b[39m.\u001b[39;49m_cont_handler\u001b[39m.\u001b[39;49mstartElement(name, AttributesImpl(attrs))\n",
      "Cell \u001b[1;32mIn[24], line 8\u001b[0m, in \u001b[0;36mDrugHandler.startElement\u001b[1;34m(self, tag, attrs)\u001b[0m\n\u001b[0;32m      6\u001b[0m     \u001b[39mprint\u001b[39m(\u001b[39mf\u001b[39m\u001b[39m\"\u001b[39m\u001b[39m{\u001b[39;00mattrs[\u001b[39m'\u001b[39m\u001b[39mtype\u001b[39m\u001b[39m'\u001b[39m]\u001b[39m}\u001b[39;00m\u001b[39m\"\u001b[39m)\n\u001b[0;32m      7\u001b[0m \u001b[39mif\u001b[39;00m tag \u001b[39m==\u001b[39m \u001b[39m'\u001b[39m\u001b[39mdrugbank-id\u001b[39m\u001b[39m'\u001b[39m \u001b[39mand\u001b[39;00m \u001b[39m'\u001b[39m\u001b[39mprimary\u001b[39m\u001b[39m'\u001b[39m \u001b[39min\u001b[39;00m attrs:\n\u001b[1;32m----> 8\u001b[0m     \u001b[39mprint\u001b[39m(\u001b[39mf\u001b[39m\u001b[39m\"\u001b[39m\u001b[39m{\u001b[39;00mtag\u001b[39m.\u001b[39;49mcontent\u001b[39m}\u001b[39;00m\u001b[39m\"\u001b[39m)\n",
      "\u001b[1;31mAttributeError\u001b[0m: 'str' object has no attribute 'content'"
     ]
    }
   ],
   "source": [
    "handler = DrugHandler()\n",
    "parser = xml.sax.make_parser()\n",
    "parser.setContentHandler(handler)\n",
    "parser.parse(os.path.join('drugbank_all_full_database.xml', \"two_instances.xml\"))"
   ]
  },
  {
   "cell_type": "code",
   "execution_count": null,
   "metadata": {},
   "outputs": [],
   "source": []
  }
 ],
 "metadata": {
  "kernelspec": {
   "display_name": "kedro-environment",
   "language": "python",
   "name": "python3"
  },
  "language_info": {
   "codemirror_mode": {
    "name": "ipython",
    "version": 3
   },
   "file_extension": ".py",
   "mimetype": "text/x-python",
   "name": "python",
   "nbconvert_exporter": "python",
   "pygments_lexer": "ipython3",
   "version": "3.10.9"
  },
  "orig_nbformat": 4
 },
 "nbformat": 4,
 "nbformat_minor": 2
}
