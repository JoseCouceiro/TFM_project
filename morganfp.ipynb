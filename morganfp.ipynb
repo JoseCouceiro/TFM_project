{
 "cells": [
  {
   "cell_type": "code",
   "execution_count": 61,
   "metadata": {},
   "outputs": [],
   "source": [
    "from rdkit import Chem\n",
    "from rdkit.Chem import AllChem\n",
    "from rdkit.Chem import PandasTools as pt\n",
    "from rdkit import DataStructs\n",
    "from rdkit import rdBase\n",
    "import pandas as pd\n",
    "import sklearn\n",
    "import matplotlib.pyplot as plt\n",
    "import numpy as np\n",
    "import seaborn as sns"
   ]
  },
  {
   "cell_type": "code",
   "execution_count": 2,
   "metadata": {},
   "outputs": [],
   "source": [
    "def computeMorganFP(mol, depth=2, nBits=2048):\n",
    "    a = np.zeros(nBits)\n",
    "    try:\n",
    "      DataStructs.ConvertToNumpyArray(AllChem.GetMorganFingerprintAsBitVect(mol,depth,nBits),a)\n",
    "    except:\n",
    "      return None\n",
    "    return a"
   ]
  },
  {
   "cell_type": "code",
   "execution_count": 131,
   "metadata": {},
   "outputs": [],
   "source": [
    "chunks = pd.read_csv('CID_properties_nr.csv', chunksize=6000)"
   ]
  },
  {
   "cell_type": "code",
   "execution_count": 132,
   "metadata": {},
   "outputs": [],
   "source": [
    "list_of_dfs = []\n",
    "for df in chunks:\n",
    "    list_of_dfs.append(df)"
   ]
  },
  {
   "cell_type": "code",
   "execution_count": 133,
   "metadata": {},
   "outputs": [
    {
     "name": "stdout",
     "output_type": "stream",
     "text": [
      "<class 'pandas.core.frame.DataFrame'>\n",
      "RangeIndex: 6000 entries, 0 to 5999\n",
      "Data columns (total 8 columns):\n",
      " #   Column              Non-Null Count  Dtype  \n",
      "---  ------              --------------  -----  \n",
      " 0   CID                 6000 non-null   int64  \n",
      " 1   HBondAcceptorCount  6000 non-null   int64  \n",
      " 2   HBondDonorCount     6000 non-null   int64  \n",
      " 3   IsomericSMILES      6000 non-null   object \n",
      " 4   MolecularWeight     6000 non-null   float64\n",
      " 5   XLogP               4158 non-null   float64\n",
      " 6   drug_class          6000 non-null   object \n",
      " 7   desalted_SMILES     6000 non-null   object \n",
      "dtypes: float64(2), int64(3), object(3)\n",
      "memory usage: 375.1+ KB\n"
     ]
    }
   ],
   "source": [
    "drugs = list_of_dfs[0]\n",
    "drugs.info()"
   ]
  },
  {
   "cell_type": "code",
   "execution_count": 134,
   "metadata": {},
   "outputs": [
    {
     "name": "stderr",
     "output_type": "stream",
     "text": [
      "[12:35:24] WARNING: not removing hydrogen atom without neighbors\n"
     ]
    }
   ],
   "source": [
    "pt.AddMoleculeColumnToFrame(frame=drugs,smilesCol='IsomericSMILES', molCol='Molecule')"
   ]
  },
  {
   "cell_type": "code",
   "execution_count": 135,
   "metadata": {},
   "outputs": [
    {
     "name": "stdout",
     "output_type": "stream",
     "text": [
      "<class 'pandas.core.frame.DataFrame'>\n",
      "RangeIndex: 6000 entries, 0 to 5999\n",
      "Data columns (total 9 columns):\n",
      " #   Column              Non-Null Count  Dtype  \n",
      "---  ------              --------------  -----  \n",
      " 0   CID                 6000 non-null   int64  \n",
      " 1   HBondAcceptorCount  6000 non-null   int64  \n",
      " 2   HBondDonorCount     6000 non-null   int64  \n",
      " 3   IsomericSMILES      6000 non-null   object \n",
      " 4   MolecularWeight     6000 non-null   float64\n",
      " 5   XLogP               4158 non-null   float64\n",
      " 6   drug_class          6000 non-null   object \n",
      " 7   desalted_SMILES     6000 non-null   object \n",
      " 8   Molecule            6000 non-null   object \n",
      "dtypes: float64(2), int64(3), object(4)\n",
      "memory usage: 422.0+ KB\n"
     ]
    }
   ],
   "source": [
    "drugs.info()"
   ]
  },
  {
   "cell_type": "code",
   "execution_count": 136,
   "metadata": {},
   "outputs": [
    {
     "data": {
      "text/html": [
       "<div>\n",
       "<style scoped>\n",
       "    .dataframe tbody tr th:only-of-type {\n",
       "        vertical-align: middle;\n",
       "    }\n",
       "\n",
       "    .dataframe tbody tr th {\n",
       "        vertical-align: top;\n",
       "    }\n",
       "\n",
       "    .dataframe thead th {\n",
       "        text-align: right;\n",
       "    }\n",
       "</style>\n",
       "<table border=\"1\" class=\"dataframe\">\n",
       "  <thead>\n",
       "    <tr style=\"text-align: right;\">\n",
       "      <th></th>\n",
       "      <th>CID</th>\n",
       "      <th>HBondAcceptorCount</th>\n",
       "      <th>HBondDonorCount</th>\n",
       "      <th>IsomericSMILES</th>\n",
       "      <th>MolecularWeight</th>\n",
       "      <th>XLogP</th>\n",
       "      <th>drug_class</th>\n",
       "      <th>desalted_SMILES</th>\n",
       "      <th>Molecule</th>\n",
       "    </tr>\n",
       "  </thead>\n",
       "  <tbody>\n",
       "    <tr>\n",
       "      <th>0</th>\n",
       "      <td>24769</td>\n",
       "      <td>2</td>\n",
       "      <td>0</td>\n",
       "      <td>CN(C)CCCCCCN(C)C.C(CBr)CBr</td>\n",
       "      <td>374.205</td>\n",
       "      <td>NaN</td>\n",
       "      <td>hematologic</td>\n",
       "      <td>BrCCCBr.CN(C)CCCCCCN(C)C</td>\n",
       "      <td>&lt;rdkit.Chem.rdchem.Mol object at 0x00000196B51...</td>\n",
       "    </tr>\n",
       "    <tr>\n",
       "      <th>1</th>\n",
       "      <td>134694070</td>\n",
       "      <td>9</td>\n",
       "      <td>6</td>\n",
       "      <td>C1CN=C(N1)NC2=C(C3=NC=CN=C3C=C2)Br.[C@@H](C(C(...</td>\n",
       "      <td>442.226</td>\n",
       "      <td>NaN</td>\n",
       "      <td>cardio</td>\n",
       "      <td>Brc1c(NC2=NCCN2)ccc2nccnc12</td>\n",
       "      <td>&lt;rdkit.Chem.rdchem.Mol object at 0x00000196BB6...</td>\n",
       "    </tr>\n",
       "    <tr>\n",
       "      <th>2</th>\n",
       "      <td>5121</td>\n",
       "      <td>2</td>\n",
       "      <td>0</td>\n",
       "      <td>C1CSC2=NC(CN21)C3=CC=C(C=C3)Br</td>\n",
       "      <td>283.187</td>\n",
       "      <td>2.5</td>\n",
       "      <td>antiinfective</td>\n",
       "      <td>Brc1ccc(C2CN3CCSC3=N2)cc1</td>\n",
       "      <td>&lt;rdkit.Chem.rdchem.Mol object at 0x00000196B1B...</td>\n",
       "    </tr>\n",
       "    <tr>\n",
       "      <th>3</th>\n",
       "      <td>4660557</td>\n",
       "      <td>1</td>\n",
       "      <td>1</td>\n",
       "      <td>C1C2CC3CC1CC(C2)C3NC4=CC=C(C=C4)Br</td>\n",
       "      <td>306.247</td>\n",
       "      <td>5.0</td>\n",
       "      <td>cns</td>\n",
       "      <td>Brc1ccc(NC2C3CC4CC(C3)CC2C4)cc1</td>\n",
       "      <td>&lt;rdkit.Chem.rdchem.Mol object at 0x00000196B1B...</td>\n",
       "    </tr>\n",
       "    <tr>\n",
       "      <th>4</th>\n",
       "      <td>122175</td>\n",
       "      <td>2</td>\n",
       "      <td>2</td>\n",
       "      <td>CC(CCC(C#C)N)N</td>\n",
       "      <td>126.203</td>\n",
       "      <td>-0.4</td>\n",
       "      <td>antineoplastic</td>\n",
       "      <td>C#CC(N)CCC(C)N</td>\n",
       "      <td>&lt;rdkit.Chem.rdchem.Mol object at 0x00000196B1B...</td>\n",
       "    </tr>\n",
       "  </tbody>\n",
       "</table>\n",
       "</div>"
      ],
      "text/plain": [
       "         CID  HBondAcceptorCount  HBondDonorCount  \\\n",
       "0      24769                   2                0   \n",
       "1  134694070                   9                6   \n",
       "2       5121                   2                0   \n",
       "3    4660557                   1                1   \n",
       "4     122175                   2                2   \n",
       "\n",
       "                                      IsomericSMILES  MolecularWeight  XLogP  \\\n",
       "0                         CN(C)CCCCCCN(C)C.C(CBr)CBr          374.205    NaN   \n",
       "1  C1CN=C(N1)NC2=C(C3=NC=CN=C3C=C2)Br.[C@@H](C(C(...          442.226    NaN   \n",
       "2                     C1CSC2=NC(CN21)C3=CC=C(C=C3)Br          283.187    2.5   \n",
       "3                 C1C2CC3CC1CC(C2)C3NC4=CC=C(C=C4)Br          306.247    5.0   \n",
       "4                                     CC(CCC(C#C)N)N          126.203   -0.4   \n",
       "\n",
       "       drug_class                  desalted_SMILES  \\\n",
       "0     hematologic         BrCCCBr.CN(C)CCCCCCN(C)C   \n",
       "1          cardio      Brc1c(NC2=NCCN2)ccc2nccnc12   \n",
       "2   antiinfective        Brc1ccc(C2CN3CCSC3=N2)cc1   \n",
       "3             cns  Brc1ccc(NC2C3CC4CC(C3)CC2C4)cc1   \n",
       "4  antineoplastic                   C#CC(N)CCC(C)N   \n",
       "\n",
       "                                            Molecule  \n",
       "0  <rdkit.Chem.rdchem.Mol object at 0x00000196B51...  \n",
       "1  <rdkit.Chem.rdchem.Mol object at 0x00000196BB6...  \n",
       "2  <rdkit.Chem.rdchem.Mol object at 0x00000196B1B...  \n",
       "3  <rdkit.Chem.rdchem.Mol object at 0x00000196B1B...  \n",
       "4  <rdkit.Chem.rdchem.Mol object at 0x00000196B1B...  "
      ]
     },
     "execution_count": 136,
     "metadata": {},
     "output_type": "execute_result"
    }
   ],
   "source": [
    "drugs.head()"
   ]
  },
  {
   "cell_type": "code",
   "execution_count": 137,
   "metadata": {},
   "outputs": [],
   "source": [
    "drugs['Morgan2FP'] = drugs['Molecule'].map(computeMorganFP)"
   ]
  },
  {
   "cell_type": "code",
   "execution_count": 138,
   "metadata": {},
   "outputs": [
    {
     "name": "stdout",
     "output_type": "stream",
     "text": [
      "<class 'pandas.core.frame.DataFrame'>\n",
      "RangeIndex: 6000 entries, 0 to 5999\n",
      "Data columns (total 10 columns):\n",
      " #   Column              Non-Null Count  Dtype  \n",
      "---  ------              --------------  -----  \n",
      " 0   CID                 6000 non-null   int64  \n",
      " 1   HBondAcceptorCount  6000 non-null   int64  \n",
      " 2   HBondDonorCount     6000 non-null   int64  \n",
      " 3   IsomericSMILES      6000 non-null   object \n",
      " 4   MolecularWeight     6000 non-null   float64\n",
      " 5   XLogP               4158 non-null   float64\n",
      " 6   drug_class          6000 non-null   object \n",
      " 7   desalted_SMILES     6000 non-null   object \n",
      " 8   Molecule            6000 non-null   object \n",
      " 9   Morgan2FP           6000 non-null   object \n",
      "dtypes: float64(2), int64(3), object(5)\n",
      "memory usage: 468.9+ KB\n"
     ]
    },
    {
     "data": {
      "text/plain": [
       "None"
      ]
     },
     "metadata": {},
     "output_type": "display_data"
    },
    {
     "data": {
      "text/html": [
       "<div>\n",
       "<style scoped>\n",
       "    .dataframe tbody tr th:only-of-type {\n",
       "        vertical-align: middle;\n",
       "    }\n",
       "\n",
       "    .dataframe tbody tr th {\n",
       "        vertical-align: top;\n",
       "    }\n",
       "\n",
       "    .dataframe thead th {\n",
       "        text-align: right;\n",
       "    }\n",
       "</style>\n",
       "<table border=\"1\" class=\"dataframe\">\n",
       "  <thead>\n",
       "    <tr style=\"text-align: right;\">\n",
       "      <th></th>\n",
       "      <th>CID</th>\n",
       "      <th>HBondAcceptorCount</th>\n",
       "      <th>HBondDonorCount</th>\n",
       "      <th>IsomericSMILES</th>\n",
       "      <th>MolecularWeight</th>\n",
       "      <th>XLogP</th>\n",
       "      <th>drug_class</th>\n",
       "      <th>desalted_SMILES</th>\n",
       "      <th>Molecule</th>\n",
       "      <th>Morgan2FP</th>\n",
       "    </tr>\n",
       "  </thead>\n",
       "  <tbody>\n",
       "    <tr>\n",
       "      <th>0</th>\n",
       "      <td>24769</td>\n",
       "      <td>2</td>\n",
       "      <td>0</td>\n",
       "      <td>CN(C)CCCCCCN(C)C.C(CBr)CBr</td>\n",
       "      <td>374.205</td>\n",
       "      <td>NaN</td>\n",
       "      <td>hematologic</td>\n",
       "      <td>BrCCCBr.CN(C)CCCCCCN(C)C</td>\n",
       "      <td>&lt;rdkit.Chem.rdchem.Mol object at 0x00000196B51...</td>\n",
       "      <td>[0.0, 0.0, 0.0, 0.0, 0.0, 0.0, 0.0, 0.0, 0.0, ...</td>\n",
       "    </tr>\n",
       "    <tr>\n",
       "      <th>1</th>\n",
       "      <td>134694070</td>\n",
       "      <td>9</td>\n",
       "      <td>6</td>\n",
       "      <td>C1CN=C(N1)NC2=C(C3=NC=CN=C3C=C2)Br.[C@@H](C(C(...</td>\n",
       "      <td>442.226</td>\n",
       "      <td>NaN</td>\n",
       "      <td>cardio</td>\n",
       "      <td>Brc1c(NC2=NCCN2)ccc2nccnc12</td>\n",
       "      <td>&lt;rdkit.Chem.rdchem.Mol object at 0x00000196BB6...</td>\n",
       "      <td>[0.0, 1.0, 0.0, 0.0, 0.0, 0.0, 0.0, 0.0, 0.0, ...</td>\n",
       "    </tr>\n",
       "    <tr>\n",
       "      <th>2</th>\n",
       "      <td>5121</td>\n",
       "      <td>2</td>\n",
       "      <td>0</td>\n",
       "      <td>C1CSC2=NC(CN21)C3=CC=C(C=C3)Br</td>\n",
       "      <td>283.187</td>\n",
       "      <td>2.5</td>\n",
       "      <td>antiinfective</td>\n",
       "      <td>Brc1ccc(C2CN3CCSC3=N2)cc1</td>\n",
       "      <td>&lt;rdkit.Chem.rdchem.Mol object at 0x00000196B1B...</td>\n",
       "      <td>[0.0, 0.0, 0.0, 0.0, 0.0, 0.0, 0.0, 0.0, 0.0, ...</td>\n",
       "    </tr>\n",
       "    <tr>\n",
       "      <th>3</th>\n",
       "      <td>4660557</td>\n",
       "      <td>1</td>\n",
       "      <td>1</td>\n",
       "      <td>C1C2CC3CC1CC(C2)C3NC4=CC=C(C=C4)Br</td>\n",
       "      <td>306.247</td>\n",
       "      <td>5.0</td>\n",
       "      <td>cns</td>\n",
       "      <td>Brc1ccc(NC2C3CC4CC(C3)CC2C4)cc1</td>\n",
       "      <td>&lt;rdkit.Chem.rdchem.Mol object at 0x00000196B1B...</td>\n",
       "      <td>[0.0, 0.0, 0.0, 0.0, 0.0, 0.0, 0.0, 0.0, 0.0, ...</td>\n",
       "    </tr>\n",
       "    <tr>\n",
       "      <th>4</th>\n",
       "      <td>122175</td>\n",
       "      <td>2</td>\n",
       "      <td>2</td>\n",
       "      <td>CC(CCC(C#C)N)N</td>\n",
       "      <td>126.203</td>\n",
       "      <td>-0.4</td>\n",
       "      <td>antineoplastic</td>\n",
       "      <td>C#CC(N)CCC(C)N</td>\n",
       "      <td>&lt;rdkit.Chem.rdchem.Mol object at 0x00000196B1B...</td>\n",
       "      <td>[0.0, 1.0, 0.0, 0.0, 0.0, 0.0, 0.0, 0.0, 0.0, ...</td>\n",
       "    </tr>\n",
       "  </tbody>\n",
       "</table>\n",
       "</div>"
      ],
      "text/plain": [
       "         CID  HBondAcceptorCount  HBondDonorCount  \\\n",
       "0      24769                   2                0   \n",
       "1  134694070                   9                6   \n",
       "2       5121                   2                0   \n",
       "3    4660557                   1                1   \n",
       "4     122175                   2                2   \n",
       "\n",
       "                                      IsomericSMILES  MolecularWeight  XLogP  \\\n",
       "0                         CN(C)CCCCCCN(C)C.C(CBr)CBr          374.205    NaN   \n",
       "1  C1CN=C(N1)NC2=C(C3=NC=CN=C3C=C2)Br.[C@@H](C(C(...          442.226    NaN   \n",
       "2                     C1CSC2=NC(CN21)C3=CC=C(C=C3)Br          283.187    2.5   \n",
       "3                 C1C2CC3CC1CC(C2)C3NC4=CC=C(C=C4)Br          306.247    5.0   \n",
       "4                                     CC(CCC(C#C)N)N          126.203   -0.4   \n",
       "\n",
       "       drug_class                  desalted_SMILES  \\\n",
       "0     hematologic         BrCCCBr.CN(C)CCCCCCN(C)C   \n",
       "1          cardio      Brc1c(NC2=NCCN2)ccc2nccnc12   \n",
       "2   antiinfective        Brc1ccc(C2CN3CCSC3=N2)cc1   \n",
       "3             cns  Brc1ccc(NC2C3CC4CC(C3)CC2C4)cc1   \n",
       "4  antineoplastic                   C#CC(N)CCC(C)N   \n",
       "\n",
       "                                            Molecule  \\\n",
       "0  <rdkit.Chem.rdchem.Mol object at 0x00000196B51...   \n",
       "1  <rdkit.Chem.rdchem.Mol object at 0x00000196BB6...   \n",
       "2  <rdkit.Chem.rdchem.Mol object at 0x00000196B1B...   \n",
       "3  <rdkit.Chem.rdchem.Mol object at 0x00000196B1B...   \n",
       "4  <rdkit.Chem.rdchem.Mol object at 0x00000196B1B...   \n",
       "\n",
       "                                           Morgan2FP  \n",
       "0  [0.0, 0.0, 0.0, 0.0, 0.0, 0.0, 0.0, 0.0, 0.0, ...  \n",
       "1  [0.0, 1.0, 0.0, 0.0, 0.0, 0.0, 0.0, 0.0, 0.0, ...  \n",
       "2  [0.0, 0.0, 0.0, 0.0, 0.0, 0.0, 0.0, 0.0, 0.0, ...  \n",
       "3  [0.0, 0.0, 0.0, 0.0, 0.0, 0.0, 0.0, 0.0, 0.0, ...  \n",
       "4  [0.0, 1.0, 0.0, 0.0, 0.0, 0.0, 0.0, 0.0, 0.0, ...  "
      ]
     },
     "metadata": {},
     "output_type": "display_data"
    }
   ],
   "source": [
    "display(drugs.info())\n",
    "display(drugs.head())"
   ]
  },
  {
   "cell_type": "code",
   "execution_count": 139,
   "metadata": {},
   "outputs": [],
   "source": [
    "from sklearn.model_selection import train_test_split"
   ]
  },
  {
   "cell_type": "code",
   "execution_count": 140,
   "metadata": {},
   "outputs": [],
   "source": [
    "from sklearn import preprocessing\n",
    "le = preprocessing.LabelEncoder()\n",
    "le = le.fit(drugs['drug_class'])\n",
    "drugs['drug_class_code'] = le.transform(drugs['drug_class'])"
   ]
  },
  {
   "cell_type": "code",
   "execution_count": 141,
   "metadata": {},
   "outputs": [],
   "source": [
    "X = drugs[['Morgan2FP']]\n",
    "y = drugs['drug_class_code']"
   ]
  },
  {
   "cell_type": "code",
   "execution_count": 142,
   "metadata": {},
   "outputs": [
    {
     "data": {
      "text/html": [
       "<div>\n",
       "<style scoped>\n",
       "    .dataframe tbody tr th:only-of-type {\n",
       "        vertical-align: middle;\n",
       "    }\n",
       "\n",
       "    .dataframe tbody tr th {\n",
       "        vertical-align: top;\n",
       "    }\n",
       "\n",
       "    .dataframe thead th {\n",
       "        text-align: right;\n",
       "    }\n",
       "</style>\n",
       "<table border=\"1\" class=\"dataframe\">\n",
       "  <thead>\n",
       "    <tr style=\"text-align: right;\">\n",
       "      <th></th>\n",
       "      <th>Morgan2FP</th>\n",
       "    </tr>\n",
       "  </thead>\n",
       "  <tbody>\n",
       "    <tr>\n",
       "      <th>0</th>\n",
       "      <td>[0.0, 0.0, 0.0, 0.0, 0.0, 0.0, 0.0, 0.0, 0.0, ...</td>\n",
       "    </tr>\n",
       "    <tr>\n",
       "      <th>1</th>\n",
       "      <td>[0.0, 1.0, 0.0, 0.0, 0.0, 0.0, 0.0, 0.0, 0.0, ...</td>\n",
       "    </tr>\n",
       "    <tr>\n",
       "      <th>2</th>\n",
       "      <td>[0.0, 0.0, 0.0, 0.0, 0.0, 0.0, 0.0, 0.0, 0.0, ...</td>\n",
       "    </tr>\n",
       "    <tr>\n",
       "      <th>3</th>\n",
       "      <td>[0.0, 0.0, 0.0, 0.0, 0.0, 0.0, 0.0, 0.0, 0.0, ...</td>\n",
       "    </tr>\n",
       "    <tr>\n",
       "      <th>4</th>\n",
       "      <td>[0.0, 1.0, 0.0, 0.0, 0.0, 0.0, 0.0, 0.0, 0.0, ...</td>\n",
       "    </tr>\n",
       "  </tbody>\n",
       "</table>\n",
       "</div>"
      ],
      "text/plain": [
       "                                           Morgan2FP\n",
       "0  [0.0, 0.0, 0.0, 0.0, 0.0, 0.0, 0.0, 0.0, 0.0, ...\n",
       "1  [0.0, 1.0, 0.0, 0.0, 0.0, 0.0, 0.0, 0.0, 0.0, ...\n",
       "2  [0.0, 0.0, 0.0, 0.0, 0.0, 0.0, 0.0, 0.0, 0.0, ...\n",
       "3  [0.0, 0.0, 0.0, 0.0, 0.0, 0.0, 0.0, 0.0, 0.0, ...\n",
       "4  [0.0, 1.0, 0.0, 0.0, 0.0, 0.0, 0.0, 0.0, 0.0, ..."
      ]
     },
     "metadata": {},
     "output_type": "display_data"
    },
    {
     "data": {
      "text/plain": [
       "0    7\n",
       "1    3\n",
       "2    0\n",
       "3    4\n",
       "4    2\n",
       "Name: drug_class_code, dtype: int32"
      ]
     },
     "metadata": {},
     "output_type": "display_data"
    }
   ],
   "source": [
    "display(X.head())\n",
    "display(y.head())"
   ]
  },
  {
   "cell_type": "code",
   "execution_count": 143,
   "metadata": {},
   "outputs": [],
   "source": [
    "X_train, X_test, y_train, y_test = train_test_split(X, y, test_size=0.3, random_state=42)\n"
   ]
  },
  {
   "cell_type": "code",
   "execution_count": 144,
   "metadata": {},
   "outputs": [],
   "source": [
    "from sklearn.ensemble import RandomForestClassifier\n",
    "from sklearn import metrics\n",
    "rfr = RandomForestClassifier()\n",
    "rfr.fit(list(X_train['Morgan2FP']),y_train)\n",
    "morgan_predictions = rfr.predict(list(X_test['Morgan2FP']))"
   ]
  },
  {
   "cell_type": "code",
   "execution_count": 145,
   "metadata": {},
   "outputs": [
    {
     "data": {
      "text/plain": [
       "['Morgan2FP']"
      ]
     },
     "execution_count": 145,
     "metadata": {},
     "output_type": "execute_result"
    }
   ],
   "source": [
    "list(X_train)"
   ]
  },
  {
   "cell_type": "code",
   "execution_count": 146,
   "metadata": {},
   "outputs": [],
   "source": [
    "def confusion_matrix_summary(acts,preds):\n",
    "    '''Simple classification evaluation based on discrete, exact class comparison'''\n",
    "    from io import StringIO\n",
    "    file_str = StringIO()\n",
    "    vTab=metrics.confusion_matrix(acts,preds)\n",
    "    #print vTab\n",
    "    nResultCodes=len(vTab)\n",
    "    file_str.write('\\n\\tResults Table (experiment in rows):\\n')\n",
    "    colCounts = np.sum(vTab,0)\n",
    "    rowCounts = np.sum(vTab,1)\n",
    "    print\n",
    "    for i in range(nResultCodes):\n",
    "        if rowCounts[i]==0: rowCounts[i]=1\n",
    "        row = vTab[i]\n",
    "        file_str.write('    ')\n",
    "        for j in range(nResultCodes):\n",
    "            entry = row[j]\n",
    "            file_str.write(' % 6d'%entry),\n",
    "        file_str.write('     | % 4.2f\\n'%(100.*vTab[i,i]/rowCounts[i]))\n",
    "    file_str.write('    ')\n",
    "    for i in range(nResultCodes):\n",
    "        file_str.write('-------')\n",
    "    file_str.write('\\n')\n",
    "    file_str.write('    '),\n",
    "    for i in range(nResultCodes):\n",
    "        if colCounts[i]==0: colCounts[i]=1\n",
    "        file_str.write(' % 6.2f'%(100.*vTab[i,i]/colCounts[i])),\n",
    "    file_str.write('\\n')\n",
    "    return file_str.getvalue()"
   ]
  },
  {
   "cell_type": "code",
   "execution_count": 147,
   "metadata": {},
   "outputs": [
    {
     "name": "stdout",
     "output_type": "stream",
     "text": [
      "Morgan Fingerprints\n",
      "\n",
      "\tResults Table (experiment in rows):\n",
      "        608      0     10      6     21      1      1      0      0      0      0      0     |  93.97\n",
      "          9     83      5      1     12      0      0      0      0      0      0      0     |  75.45\n",
      "         37      1    241      1     22      0      0      0      0      1      0      0     |  79.54\n",
      "         21      0      5    136     23      0      0      0      1      3      0      0     |  71.96\n",
      "         26      2      3      2    269      0      0      0      0      0      1      0     |  88.78\n",
      "          9      0      0      0      7      9      1      0      0      0      0      0     |  34.62\n",
      "          4      0      2      0      6      0     31      0      0      0      0      0     |  72.09\n",
      "         10      0      1      2      5      0      1     38      0      0      0      0     |  66.67\n",
      "          8      0      1      0      4      0      0      0     33      0      0      0     |  71.74\n",
      "          1      0      1      0      2      0      0      0      0     36      0      0     |  90.00\n",
      "          5      2      1      5      5      0      0      0      0      0     14      0     |  43.75\n",
      "          0      0      0      1      2      0      0      0      0      0      0      1     |  25.00\n",
      "    ------------------------------------------------------------------------------------\n",
      "      82.38  94.32  89.26  88.31  71.16  90.00  91.18  100.00  97.06  90.00  93.33  100.00\n",
      "\n",
      "              precision    recall  f1-score   support\n",
      "\n",
      "           0       0.82      0.94      0.88       647\n",
      "           1       0.94      0.75      0.84       110\n",
      "           2       0.89      0.80      0.84       303\n",
      "           3       0.88      0.72      0.79       189\n",
      "           4       0.71      0.89      0.79       303\n",
      "           5       0.90      0.35      0.50        26\n",
      "           6       0.91      0.72      0.81        43\n",
      "           7       1.00      0.67      0.80        57\n",
      "           8       0.97      0.72      0.82        46\n",
      "           9       0.90      0.90      0.90        40\n",
      "          10       0.93      0.44      0.60        32\n",
      "          11       1.00      0.25      0.40         4\n",
      "\n",
      "    accuracy                           0.83      1800\n",
      "   macro avg       0.91      0.68      0.75      1800\n",
      "weighted avg       0.85      0.83      0.83      1800\n",
      "\n"
     ]
    }
   ],
   "source": [
    "print('Morgan Fingerprints')\n",
    "print(confusion_matrix_summary(y_test,morgan_predictions))\n",
    "print( metrics.classification_report(y_test,morgan_predictions))"
   ]
  },
  {
   "cell_type": "code",
   "execution_count": 148,
   "metadata": {},
   "outputs": [
    {
     "data": {
      "text/plain": [
       "(1800, 12)"
      ]
     },
     "execution_count": 148,
     "metadata": {},
     "output_type": "execute_result"
    }
   ],
   "source": [
    "from sklearn.preprocessing import LabelBinarizer\n",
    "\n",
    "label_binarizer = LabelBinarizer().fit(y_train)\n",
    "y_onehot_test = label_binarizer.transform(y_test)\n",
    "y_onehot_test.shape  # (n_samples, n_classes)\n",
    "\n"
   ]
  },
  {
   "cell_type": "code",
   "execution_count": 149,
   "metadata": {},
   "outputs": [
    {
     "data": {
      "text/plain": [
       "array([[1, 0, 0, 0, 0, 0, 0, 0, 0, 0, 0, 0]])"
      ]
     },
     "execution_count": 149,
     "metadata": {},
     "output_type": "execute_result"
    }
   ],
   "source": [
    "label_binarizer.transform([0])"
   ]
  },
  {
   "cell_type": "code",
   "execution_count": 154,
   "metadata": {},
   "outputs": [
    {
     "data": {
      "text/plain": [
       "0"
      ]
     },
     "execution_count": 154,
     "metadata": {},
     "output_type": "execute_result"
    }
   ],
   "source": [
    "class_of_interest = 0\n",
    "class_id = np.flatnonzero(label_binarizer.classes_ == class_of_interest)[0]\n",
    "class_id"
   ]
  },
  {
   "cell_type": "code",
   "execution_count": 155,
   "metadata": {},
   "outputs": [
    {
     "data": {
      "image/png": "[encoded data removed]",
      "text/plain": [
       "<Figure size 640x480 with 1 Axes>"
      ]
     },
     "metadata": {},
     "output_type": "display_data"
    }
   ],
   "source": [
    "from sklearn.metrics import RocCurveDisplay\n",
    "\n",
    "y_score = rfr.fit(list(X_train['Morgan2FP']), y_train).predict_proba(list(X_test['Morgan2FP']))\n",
    "\n",
    "RocCurveDisplay.from_predictions(\n",
    "    y_onehot_test[:, class_id],\n",
    "    y_score[:, class_id],\n",
    "    name=f\"{class_of_interest} vs the rest\",\n",
    "    color=\"darkorange\",\n",
    ")\n",
    "plt.plot([0, 1], [0, 1], \"k--\", label=\"chance level (AUC = 0.5)\")\n",
    "plt.axis(\"square\")\n",
    "plt.xlabel(\"False Positive Rate\")\n",
    "plt.ylabel(\"True Positive Rate\")\n",
    "plt.title(f\"Class{class_of_interest}-vs-Rest ROC curves\")\n",
    "plt.legend()\n",
    "plt.show()"
   ]
  },
  {
   "cell_type": "code",
   "execution_count": null,
   "metadata": {},
   "outputs": [],
   "source": []
  }
 ],
 "metadata": {
  "kernelspec": {
   "display_name": "kedro-environment",
   "language": "python",
   "name": "python3"
  },
  "language_info": {
   "codemirror_mode": {
    "name": "ipython",
    "version": 3
   },
   "file_extension": ".py",
   "mimetype": "text/x-python",
   "name": "python",
   "nbconvert_exporter": "python",
   "pygments_lexer": "ipython3",
   "version": "3.10.9"
  },
  "orig_nbformat": 4
 },
 "nbformat": 4,
 "nbformat_minor": 2
}
