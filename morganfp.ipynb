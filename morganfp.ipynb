{
 "cells": [
  {
   "cell_type": "code",
   "execution_count": 96,
   "metadata": {},
   "outputs": [],
   "source": [
    "from rdkit import Chem\n",
    "from rdkit.Chem import AllChem\n",
    "from rdkit.Chem import PandasTools as pt\n",
    "from rdkit import DataStructs\n",
    "from rdkit import rdBase\n",
    "import pubchempy as pcp\n",
    "import pandas as pd\n",
    "import sklearn\n",
    "import matplotlib.pyplot as plt\n",
    "import numpy as np\n",
    "import seaborn as sns"
   ]
  },
  {
   "cell_type": "code",
   "execution_count": 2,
   "metadata": {},
   "outputs": [],
   "source": [
    "def computeMorganFP(mol, depth=2, nBits=2048):\n",
    "    a = np.zeros(nBits)\n",
    "    try:\n",
    "      DataStructs.ConvertToNumpyArray(AllChem.GetMorganFingerprintAsBitVect(mol,depth,nBits),a)\n",
    "    except:\n",
    "      return None\n",
    "    return a"
   ]
  },
  {
   "cell_type": "code",
   "execution_count": 37,
   "metadata": {},
   "outputs": [],
   "source": [
    "chunks = pd.read_csv('CID_properties_nr.csv', chunksize=2000)"
   ]
  },
  {
   "cell_type": "code",
   "execution_count": 38,
   "metadata": {},
   "outputs": [],
   "source": [
    "list_of_dfs = []\n",
    "for df in chunks:\n",
    "    list_of_dfs.append(df)"
   ]
  },
  {
   "cell_type": "code",
   "execution_count": 39,
   "metadata": {},
   "outputs": [
    {
     "name": "stdout",
     "output_type": "stream",
     "text": [
      "<class 'pandas.core.frame.DataFrame'>\n",
      "RangeIndex: 2000 entries, 0 to 1999\n",
      "Data columns (total 8 columns):\n",
      " #   Column              Non-Null Count  Dtype  \n",
      "---  ------              --------------  -----  \n",
      " 0   CID                 2000 non-null   int64  \n",
      " 1   HBondAcceptorCount  2000 non-null   int64  \n",
      " 2   HBondDonorCount     2000 non-null   int64  \n",
      " 3   IsomericSMILES      2000 non-null   object \n",
      " 4   MolecularWeight     2000 non-null   float64\n",
      " 5   XLogP               1418 non-null   float64\n",
      " 6   drug_class          2000 non-null   object \n",
      " 7   desalted_SMILES     2000 non-null   object \n",
      "dtypes: float64(2), int64(3), object(3)\n",
      "memory usage: 125.1+ KB\n"
     ]
    }
   ],
   "source": [
    "drugs = list_of_dfs[0]\n",
    "drugs.info()"
   ]
  },
  {
   "cell_type": "code",
   "execution_count": 40,
   "metadata": {},
   "outputs": [
    {
     "name": "stderr",
     "output_type": "stream",
     "text": [
      "[18:16:32] WARNING: not removing hydrogen atom without neighbors\n"
     ]
    }
   ],
   "source": [
    "pt.AddMoleculeColumnToFrame(frame=drugs,smilesCol='IsomericSMILES', molCol='Molecule')"
   ]
  },
  {
   "cell_type": "code",
   "execution_count": 41,
   "metadata": {},
   "outputs": [
    {
     "name": "stdout",
     "output_type": "stream",
     "text": [
      "<class 'pandas.core.frame.DataFrame'>\n",
      "RangeIndex: 2000 entries, 0 to 1999\n",
      "Data columns (total 9 columns):\n",
      " #   Column              Non-Null Count  Dtype  \n",
      "---  ------              --------------  -----  \n",
      " 0   CID                 2000 non-null   int64  \n",
      " 1   HBondAcceptorCount  2000 non-null   int64  \n",
      " 2   HBondDonorCount     2000 non-null   int64  \n",
      " 3   IsomericSMILES      2000 non-null   object \n",
      " 4   MolecularWeight     2000 non-null   float64\n",
      " 5   XLogP               1418 non-null   float64\n",
      " 6   drug_class          2000 non-null   object \n",
      " 7   desalted_SMILES     2000 non-null   object \n",
      " 8   Molecule            2000 non-null   object \n",
      "dtypes: float64(2), int64(3), object(4)\n",
      "memory usage: 140.8+ KB\n"
     ]
    }
   ],
   "source": [
    "drugs.info()"
   ]
  },
  {
   "cell_type": "code",
   "execution_count": 42,
   "metadata": {},
   "outputs": [
    {
     "data": {
      "text/html": [
       "<div>\n",
       "<style scoped>\n",
       "    .dataframe tbody tr th:only-of-type {\n",
       "        vertical-align: middle;\n",
       "    }\n",
       "\n",
       "    .dataframe tbody tr th {\n",
       "        vertical-align: top;\n",
       "    }\n",
       "\n",
       "    .dataframe thead th {\n",
       "        text-align: right;\n",
       "    }\n",
       "</style>\n",
       "<table border=\"1\" class=\"dataframe\">\n",
       "  <thead>\n",
       "    <tr style=\"text-align: right;\">\n",
       "      <th></th>\n",
       "      <th>CID</th>\n",
       "      <th>HBondAcceptorCount</th>\n",
       "      <th>HBondDonorCount</th>\n",
       "      <th>IsomericSMILES</th>\n",
       "      <th>MolecularWeight</th>\n",
       "      <th>XLogP</th>\n",
       "      <th>drug_class</th>\n",
       "      <th>desalted_SMILES</th>\n",
       "      <th>Molecule</th>\n",
       "    </tr>\n",
       "  </thead>\n",
       "  <tbody>\n",
       "    <tr>\n",
       "      <th>0</th>\n",
       "      <td>24769</td>\n",
       "      <td>2</td>\n",
       "      <td>0</td>\n",
       "      <td>CN(C)CCCCCCN(C)C.C(CBr)CBr</td>\n",
       "      <td>374.205</td>\n",
       "      <td>NaN</td>\n",
       "      <td>hematologic</td>\n",
       "      <td>BrCCCBr.CN(C)CCCCCCN(C)C</td>\n",
       "      <td>&lt;rdkit.Chem.rdchem.Mol object at 0x0000022A97B...</td>\n",
       "    </tr>\n",
       "    <tr>\n",
       "      <th>1</th>\n",
       "      <td>134694070</td>\n",
       "      <td>9</td>\n",
       "      <td>6</td>\n",
       "      <td>C1CN=C(N1)NC2=C(C3=NC=CN=C3C=C2)Br.[C@@H](C(C(...</td>\n",
       "      <td>442.226</td>\n",
       "      <td>NaN</td>\n",
       "      <td>cardio</td>\n",
       "      <td>Brc1c(NC2=NCCN2)ccc2nccnc12</td>\n",
       "      <td>&lt;rdkit.Chem.rdchem.Mol object at 0x0000022A88A...</td>\n",
       "    </tr>\n",
       "    <tr>\n",
       "      <th>2</th>\n",
       "      <td>5121</td>\n",
       "      <td>2</td>\n",
       "      <td>0</td>\n",
       "      <td>C1CSC2=NC(CN21)C3=CC=C(C=C3)Br</td>\n",
       "      <td>283.187</td>\n",
       "      <td>2.5</td>\n",
       "      <td>antiinfective</td>\n",
       "      <td>Brc1ccc(C2CN3CCSC3=N2)cc1</td>\n",
       "      <td>&lt;rdkit.Chem.rdchem.Mol object at 0x0000022A88A...</td>\n",
       "    </tr>\n",
       "    <tr>\n",
       "      <th>3</th>\n",
       "      <td>4660557</td>\n",
       "      <td>1</td>\n",
       "      <td>1</td>\n",
       "      <td>C1C2CC3CC1CC(C2)C3NC4=CC=C(C=C4)Br</td>\n",
       "      <td>306.247</td>\n",
       "      <td>5.0</td>\n",
       "      <td>cns</td>\n",
       "      <td>Brc1ccc(NC2C3CC4CC(C3)CC2C4)cc1</td>\n",
       "      <td>&lt;rdkit.Chem.rdchem.Mol object at 0x0000022A88A...</td>\n",
       "    </tr>\n",
       "    <tr>\n",
       "      <th>4</th>\n",
       "      <td>122175</td>\n",
       "      <td>2</td>\n",
       "      <td>2</td>\n",
       "      <td>CC(CCC(C#C)N)N</td>\n",
       "      <td>126.203</td>\n",
       "      <td>-0.4</td>\n",
       "      <td>antineoplastic</td>\n",
       "      <td>C#CC(N)CCC(C)N</td>\n",
       "      <td>&lt;rdkit.Chem.rdchem.Mol object at 0x0000022A88A...</td>\n",
       "    </tr>\n",
       "  </tbody>\n",
       "</table>\n",
       "</div>"
      ],
      "text/plain": [
       "         CID  HBondAcceptorCount  HBondDonorCount  \\\n",
       "0      24769                   2                0   \n",
       "1  134694070                   9                6   \n",
       "2       5121                   2                0   \n",
       "3    4660557                   1                1   \n",
       "4     122175                   2                2   \n",
       "\n",
       "                                      IsomericSMILES  MolecularWeight  XLogP  \\\n",
       "0                         CN(C)CCCCCCN(C)C.C(CBr)CBr          374.205    NaN   \n",
       "1  C1CN=C(N1)NC2=C(C3=NC=CN=C3C=C2)Br.[C@@H](C(C(...          442.226    NaN   \n",
       "2                     C1CSC2=NC(CN21)C3=CC=C(C=C3)Br          283.187    2.5   \n",
       "3                 C1C2CC3CC1CC(C2)C3NC4=CC=C(C=C4)Br          306.247    5.0   \n",
       "4                                     CC(CCC(C#C)N)N          126.203   -0.4   \n",
       "\n",
       "       drug_class                  desalted_SMILES  \\\n",
       "0     hematologic         BrCCCBr.CN(C)CCCCCCN(C)C   \n",
       "1          cardio      Brc1c(NC2=NCCN2)ccc2nccnc12   \n",
       "2   antiinfective        Brc1ccc(C2CN3CCSC3=N2)cc1   \n",
       "3             cns  Brc1ccc(NC2C3CC4CC(C3)CC2C4)cc1   \n",
       "4  antineoplastic                   C#CC(N)CCC(C)N   \n",
       "\n",
       "                                            Molecule  \n",
       "0  <rdkit.Chem.rdchem.Mol object at 0x0000022A97B...  \n",
       "1  <rdkit.Chem.rdchem.Mol object at 0x0000022A88A...  \n",
       "2  <rdkit.Chem.rdchem.Mol object at 0x0000022A88A...  \n",
       "3  <rdkit.Chem.rdchem.Mol object at 0x0000022A88A...  \n",
       "4  <rdkit.Chem.rdchem.Mol object at 0x0000022A88A...  "
      ]
     },
     "execution_count": 42,
     "metadata": {},
     "output_type": "execute_result"
    }
   ],
   "source": [
    "drugs.head()"
   ]
  },
  {
   "cell_type": "code",
   "execution_count": 43,
   "metadata": {},
   "outputs": [],
   "source": [
    "drugs['Morgan2FP'] = drugs['Molecule'].map(computeMorganFP)"
   ]
  },
  {
   "cell_type": "code",
   "execution_count": 45,
   "metadata": {},
   "outputs": [
    {
     "name": "stdout",
     "output_type": "stream",
     "text": [
      "<class 'pandas.core.frame.DataFrame'>\n",
      "RangeIndex: 2000 entries, 0 to 1999\n",
      "Data columns (total 10 columns):\n",
      " #   Column              Non-Null Count  Dtype  \n",
      "---  ------              --------------  -----  \n",
      " 0   CID                 2000 non-null   int64  \n",
      " 1   HBondAcceptorCount  2000 non-null   int64  \n",
      " 2   HBondDonorCount     2000 non-null   int64  \n",
      " 3   IsomericSMILES      2000 non-null   object \n",
      " 4   MolecularWeight     2000 non-null   float64\n",
      " 5   XLogP               1418 non-null   float64\n",
      " 6   drug_class          2000 non-null   object \n",
      " 7   desalted_SMILES     2000 non-null   object \n",
      " 8   Molecule            2000 non-null   object \n",
      " 9   Morgan2FP           2000 non-null   object \n",
      "dtypes: float64(2), int64(3), object(5)\n",
      "memory usage: 156.4+ KB\n"
     ]
    },
    {
     "data": {
      "text/plain": [
       "None"
      ]
     },
     "metadata": {},
     "output_type": "display_data"
    },
    {
     "data": {
      "text/html": [
       "<div>\n",
       "<style scoped>\n",
       "    .dataframe tbody tr th:only-of-type {\n",
       "        vertical-align: middle;\n",
       "    }\n",
       "\n",
       "    .dataframe tbody tr th {\n",
       "        vertical-align: top;\n",
       "    }\n",
       "\n",
       "    .dataframe thead th {\n",
       "        text-align: right;\n",
       "    }\n",
       "</style>\n",
       "<table border=\"1\" class=\"dataframe\">\n",
       "  <thead>\n",
       "    <tr style=\"text-align: right;\">\n",
       "      <th></th>\n",
       "      <th>CID</th>\n",
       "      <th>HBondAcceptorCount</th>\n",
       "      <th>HBondDonorCount</th>\n",
       "      <th>IsomericSMILES</th>\n",
       "      <th>MolecularWeight</th>\n",
       "      <th>XLogP</th>\n",
       "      <th>drug_class</th>\n",
       "      <th>desalted_SMILES</th>\n",
       "      <th>Molecule</th>\n",
       "      <th>Morgan2FP</th>\n",
       "    </tr>\n",
       "  </thead>\n",
       "  <tbody>\n",
       "    <tr>\n",
       "      <th>0</th>\n",
       "      <td>24769</td>\n",
       "      <td>2</td>\n",
       "      <td>0</td>\n",
       "      <td>CN(C)CCCCCCN(C)C.C(CBr)CBr</td>\n",
       "      <td>374.205</td>\n",
       "      <td>NaN</td>\n",
       "      <td>hematologic</td>\n",
       "      <td>BrCCCBr.CN(C)CCCCCCN(C)C</td>\n",
       "      <td>&lt;rdkit.Chem.rdchem.Mol object at 0x0000022A97B...</td>\n",
       "      <td>[0.0, 0.0, 0.0, 0.0, 0.0, 0.0, 0.0, 0.0, 0.0, ...</td>\n",
       "    </tr>\n",
       "    <tr>\n",
       "      <th>1</th>\n",
       "      <td>134694070</td>\n",
       "      <td>9</td>\n",
       "      <td>6</td>\n",
       "      <td>C1CN=C(N1)NC2=C(C3=NC=CN=C3C=C2)Br.[C@@H](C(C(...</td>\n",
       "      <td>442.226</td>\n",
       "      <td>NaN</td>\n",
       "      <td>cardio</td>\n",
       "      <td>Brc1c(NC2=NCCN2)ccc2nccnc12</td>\n",
       "      <td>&lt;rdkit.Chem.rdchem.Mol object at 0x0000022A88A...</td>\n",
       "      <td>[0.0, 1.0, 0.0, 0.0, 0.0, 0.0, 0.0, 0.0, 0.0, ...</td>\n",
       "    </tr>\n",
       "    <tr>\n",
       "      <th>2</th>\n",
       "      <td>5121</td>\n",
       "      <td>2</td>\n",
       "      <td>0</td>\n",
       "      <td>C1CSC2=NC(CN21)C3=CC=C(C=C3)Br</td>\n",
       "      <td>283.187</td>\n",
       "      <td>2.5</td>\n",
       "      <td>antiinfective</td>\n",
       "      <td>Brc1ccc(C2CN3CCSC3=N2)cc1</td>\n",
       "      <td>&lt;rdkit.Chem.rdchem.Mol object at 0x0000022A88A...</td>\n",
       "      <td>[0.0, 0.0, 0.0, 0.0, 0.0, 0.0, 0.0, 0.0, 0.0, ...</td>\n",
       "    </tr>\n",
       "    <tr>\n",
       "      <th>3</th>\n",
       "      <td>4660557</td>\n",
       "      <td>1</td>\n",
       "      <td>1</td>\n",
       "      <td>C1C2CC3CC1CC(C2)C3NC4=CC=C(C=C4)Br</td>\n",
       "      <td>306.247</td>\n",
       "      <td>5.0</td>\n",
       "      <td>cns</td>\n",
       "      <td>Brc1ccc(NC2C3CC4CC(C3)CC2C4)cc1</td>\n",
       "      <td>&lt;rdkit.Chem.rdchem.Mol object at 0x0000022A88A...</td>\n",
       "      <td>[0.0, 0.0, 0.0, 0.0, 0.0, 0.0, 0.0, 0.0, 0.0, ...</td>\n",
       "    </tr>\n",
       "    <tr>\n",
       "      <th>4</th>\n",
       "      <td>122175</td>\n",
       "      <td>2</td>\n",
       "      <td>2</td>\n",
       "      <td>CC(CCC(C#C)N)N</td>\n",
       "      <td>126.203</td>\n",
       "      <td>-0.4</td>\n",
       "      <td>antineoplastic</td>\n",
       "      <td>C#CC(N)CCC(C)N</td>\n",
       "      <td>&lt;rdkit.Chem.rdchem.Mol object at 0x0000022A88A...</td>\n",
       "      <td>[0.0, 1.0, 0.0, 0.0, 0.0, 0.0, 0.0, 0.0, 0.0, ...</td>\n",
       "    </tr>\n",
       "  </tbody>\n",
       "</table>\n",
       "</div>"
      ],
      "text/plain": [
       "         CID  HBondAcceptorCount  HBondDonorCount  \\\n",
       "0      24769                   2                0   \n",
       "1  134694070                   9                6   \n",
       "2       5121                   2                0   \n",
       "3    4660557                   1                1   \n",
       "4     122175                   2                2   \n",
       "\n",
       "                                      IsomericSMILES  MolecularWeight  XLogP  \\\n",
       "0                         CN(C)CCCCCCN(C)C.C(CBr)CBr          374.205    NaN   \n",
       "1  C1CN=C(N1)NC2=C(C3=NC=CN=C3C=C2)Br.[C@@H](C(C(...          442.226    NaN   \n",
       "2                     C1CSC2=NC(CN21)C3=CC=C(C=C3)Br          283.187    2.5   \n",
       "3                 C1C2CC3CC1CC(C2)C3NC4=CC=C(C=C4)Br          306.247    5.0   \n",
       "4                                     CC(CCC(C#C)N)N          126.203   -0.4   \n",
       "\n",
       "       drug_class                  desalted_SMILES  \\\n",
       "0     hematologic         BrCCCBr.CN(C)CCCCCCN(C)C   \n",
       "1          cardio      Brc1c(NC2=NCCN2)ccc2nccnc12   \n",
       "2   antiinfective        Brc1ccc(C2CN3CCSC3=N2)cc1   \n",
       "3             cns  Brc1ccc(NC2C3CC4CC(C3)CC2C4)cc1   \n",
       "4  antineoplastic                   C#CC(N)CCC(C)N   \n",
       "\n",
       "                                            Molecule  \\\n",
       "0  <rdkit.Chem.rdchem.Mol object at 0x0000022A97B...   \n",
       "1  <rdkit.Chem.rdchem.Mol object at 0x0000022A88A...   \n",
       "2  <rdkit.Chem.rdchem.Mol object at 0x0000022A88A...   \n",
       "3  <rdkit.Chem.rdchem.Mol object at 0x0000022A88A...   \n",
       "4  <rdkit.Chem.rdchem.Mol object at 0x0000022A88A...   \n",
       "\n",
       "                                           Morgan2FP  \n",
       "0  [0.0, 0.0, 0.0, 0.0, 0.0, 0.0, 0.0, 0.0, 0.0, ...  \n",
       "1  [0.0, 1.0, 0.0, 0.0, 0.0, 0.0, 0.0, 0.0, 0.0, ...  \n",
       "2  [0.0, 0.0, 0.0, 0.0, 0.0, 0.0, 0.0, 0.0, 0.0, ...  \n",
       "3  [0.0, 0.0, 0.0, 0.0, 0.0, 0.0, 0.0, 0.0, 0.0, ...  \n",
       "4  [0.0, 1.0, 0.0, 0.0, 0.0, 0.0, 0.0, 0.0, 0.0, ...  "
      ]
     },
     "metadata": {},
     "output_type": "display_data"
    },
    {
     "data": {
      "text/plain": [
       "(2000, 10)"
      ]
     },
     "execution_count": 45,
     "metadata": {},
     "output_type": "execute_result"
    }
   ],
   "source": [
    "display(drugs.info())\n",
    "display(drugs.head())\n",
    "drugs.shape"
   ]
  },
  {
   "cell_type": "code",
   "execution_count": 46,
   "metadata": {},
   "outputs": [],
   "source": [
    "from sklearn.model_selection import train_test_split"
   ]
  },
  {
   "cell_type": "code",
   "execution_count": 47,
   "metadata": {},
   "outputs": [],
   "source": [
    "from sklearn import preprocessing\n",
    "le = preprocessing.LabelEncoder()\n",
    "le = le.fit(drugs['drug_class'])\n",
    "drugs['drug_class_code'] = le.transform(drugs['drug_class'])"
   ]
  },
  {
   "cell_type": "code",
   "execution_count": 48,
   "metadata": {},
   "outputs": [],
   "source": [
    "X = drugs[['Morgan2FP']]\n",
    "y = drugs['drug_class_code']"
   ]
  },
  {
   "cell_type": "code",
   "execution_count": 49,
   "metadata": {},
   "outputs": [
    {
     "data": {
      "text/html": [
       "<div>\n",
       "<style scoped>\n",
       "    .dataframe tbody tr th:only-of-type {\n",
       "        vertical-align: middle;\n",
       "    }\n",
       "\n",
       "    .dataframe tbody tr th {\n",
       "        vertical-align: top;\n",
       "    }\n",
       "\n",
       "    .dataframe thead th {\n",
       "        text-align: right;\n",
       "    }\n",
       "</style>\n",
       "<table border=\"1\" class=\"dataframe\">\n",
       "  <thead>\n",
       "    <tr style=\"text-align: right;\">\n",
       "      <th></th>\n",
       "      <th>Morgan2FP</th>\n",
       "    </tr>\n",
       "  </thead>\n",
       "  <tbody>\n",
       "    <tr>\n",
       "      <th>0</th>\n",
       "      <td>[0.0, 0.0, 0.0, 0.0, 0.0, 0.0, 0.0, 0.0, 0.0, ...</td>\n",
       "    </tr>\n",
       "    <tr>\n",
       "      <th>1</th>\n",
       "      <td>[0.0, 1.0, 0.0, 0.0, 0.0, 0.0, 0.0, 0.0, 0.0, ...</td>\n",
       "    </tr>\n",
       "    <tr>\n",
       "      <th>2</th>\n",
       "      <td>[0.0, 0.0, 0.0, 0.0, 0.0, 0.0, 0.0, 0.0, 0.0, ...</td>\n",
       "    </tr>\n",
       "    <tr>\n",
       "      <th>3</th>\n",
       "      <td>[0.0, 0.0, 0.0, 0.0, 0.0, 0.0, 0.0, 0.0, 0.0, ...</td>\n",
       "    </tr>\n",
       "    <tr>\n",
       "      <th>4</th>\n",
       "      <td>[0.0, 1.0, 0.0, 0.0, 0.0, 0.0, 0.0, 0.0, 0.0, ...</td>\n",
       "    </tr>\n",
       "  </tbody>\n",
       "</table>\n",
       "</div>"
      ],
      "text/plain": [
       "                                           Morgan2FP\n",
       "0  [0.0, 0.0, 0.0, 0.0, 0.0, 0.0, 0.0, 0.0, 0.0, ...\n",
       "1  [0.0, 1.0, 0.0, 0.0, 0.0, 0.0, 0.0, 0.0, 0.0, ...\n",
       "2  [0.0, 0.0, 0.0, 0.0, 0.0, 0.0, 0.0, 0.0, 0.0, ...\n",
       "3  [0.0, 0.0, 0.0, 0.0, 0.0, 0.0, 0.0, 0.0, 0.0, ...\n",
       "4  [0.0, 1.0, 0.0, 0.0, 0.0, 0.0, 0.0, 0.0, 0.0, ..."
      ]
     },
     "metadata": {},
     "output_type": "display_data"
    },
    {
     "data": {
      "text/plain": [
       "0    7\n",
       "1    3\n",
       "2    0\n",
       "3    4\n",
       "4    2\n",
       "Name: drug_class_code, dtype: int32"
      ]
     },
     "metadata": {},
     "output_type": "display_data"
    }
   ],
   "source": [
    "display(X.head())\n",
    "display(y.head())"
   ]
  },
  {
   "cell_type": "code",
   "execution_count": 50,
   "metadata": {},
   "outputs": [],
   "source": [
    "X_train, X_test, y_train, y_test = train_test_split(X, y, test_size=0.3, random_state=42)\n"
   ]
  },
  {
   "attachments": {},
   "cell_type": "markdown",
   "metadata": {},
   "source": [
    "### Random forest classifier"
   ]
  },
  {
   "cell_type": "code",
   "execution_count": 51,
   "metadata": {},
   "outputs": [],
   "source": [
    "from sklearn.ensemble import RandomForestClassifier\n",
    "from sklearn import metrics\n",
    "rfr = RandomForestClassifier()\n",
    "rfr.fit(list(X_train['Morgan2FP']),y_train)\n",
    "morgan_predictions = rfr.predict(list(X_test['Morgan2FP']))"
   ]
  },
  {
   "cell_type": "code",
   "execution_count": 52,
   "metadata": {},
   "outputs": [
    {
     "data": {
      "text/plain": [
       "['Morgan2FP']"
      ]
     },
     "execution_count": 52,
     "metadata": {},
     "output_type": "execute_result"
    }
   ],
   "source": [
    "list(X_train)"
   ]
  },
  {
   "cell_type": "code",
   "execution_count": 53,
   "metadata": {},
   "outputs": [],
   "source": [
    "def confusion_matrix_summary(acts,preds):\n",
    "    '''Simple classification evaluation based on discrete, exact class comparison'''\n",
    "    from io import StringIO\n",
    "    file_str = StringIO()\n",
    "    vTab=metrics.confusion_matrix(acts,preds)\n",
    "    #print vTab\n",
    "    nResultCodes=len(vTab)\n",
    "    file_str.write('\\n\\tResults Table (experiment in rows):\\n')\n",
    "    colCounts = np.sum(vTab,0)\n",
    "    rowCounts = np.sum(vTab,1)\n",
    "    print\n",
    "    for i in range(nResultCodes):\n",
    "        if rowCounts[i]==0: rowCounts[i]=1\n",
    "        row = vTab[i]\n",
    "        file_str.write('    ')\n",
    "        for j in range(nResultCodes):\n",
    "            entry = row[j]\n",
    "            file_str.write(' % 6d'%entry),\n",
    "        file_str.write('     | % 4.2f\\n'%(100.*vTab[i,i]/rowCounts[i]))\n",
    "    file_str.write('    ')\n",
    "    for i in range(nResultCodes):\n",
    "        file_str.write('-------')\n",
    "    file_str.write('\\n')\n",
    "    file_str.write('    '),\n",
    "    for i in range(nResultCodes):\n",
    "        if colCounts[i]==0: colCounts[i]=1\n",
    "        file_str.write(' % 6.2f'%(100.*vTab[i,i]/colCounts[i])),\n",
    "    file_str.write('\\n')\n",
    "    return file_str.getvalue()"
   ]
  },
  {
   "cell_type": "code",
   "execution_count": 54,
   "metadata": {},
   "outputs": [
    {
     "name": "stdout",
     "output_type": "stream",
     "text": [
      "Morgan Fingerprints\n",
      "\n",
      "\tResults Table (experiment in rows):\n",
      "        177      0      4      0     12      0      0      0      0      0      0     |  91.71\n",
      "          0     41      0      1      2      1      0      0      0      0      1     |  89.13\n",
      "         15      0     61      2      8      1      0      0      1      1      0     |  68.54\n",
      "          4      0      0     54      8      0      0      0      0      1      0     |  80.60\n",
      "          2      3      3      1     81      0      0      0      0      0      0     |  90.00\n",
      "          1      1      0      1      3     12      0      0      0      0      0     |  66.67\n",
      "          1      0      0      2      2      0      8      0      0      0      0     |  61.54\n",
      "          1      1      0      0      3      0      0     15      0      0      0     |  75.00\n",
      "          3      0      0      0      2      0      0      0     18      0      0     |  78.26\n",
      "          2      0      1      0      0      0      0      0      0     25      0     |  89.29\n",
      "          1      0      1      3      3      0      0      0      0      0      5     |  38.46\n",
      "    -----------------------------------------------------------------------------\n",
      "      85.51  89.13  87.14  84.38  65.32  85.71  100.00  100.00  94.74  92.59  83.33\n",
      "\n",
      "              precision    recall  f1-score   support\n",
      "\n",
      "           0       0.86      0.92      0.89       193\n",
      "           1       0.89      0.89      0.89        46\n",
      "           2       0.87      0.69      0.77        89\n",
      "           3       0.84      0.81      0.82        67\n",
      "           4       0.65      0.90      0.76        90\n",
      "           5       0.86      0.67      0.75        18\n",
      "           6       1.00      0.62      0.76        13\n",
      "           7       1.00      0.75      0.86        20\n",
      "           8       0.95      0.78      0.86        23\n",
      "           9       0.93      0.89      0.91        28\n",
      "          10       0.83      0.38      0.53        13\n",
      "\n",
      "    accuracy                           0.83       600\n",
      "   macro avg       0.88      0.75      0.80       600\n",
      "weighted avg       0.84      0.83      0.83       600\n",
      "\n"
     ]
    }
   ],
   "source": [
    "print('Morgan Fingerprints')\n",
    "print(confusion_matrix_summary(y_test,morgan_predictions))\n",
    "print( metrics.classification_report(y_test,morgan_predictions))"
   ]
  },
  {
   "cell_type": "code",
   "execution_count": 55,
   "metadata": {},
   "outputs": [
    {
     "data": {
      "text/plain": [
       "(600, 12)"
      ]
     },
     "execution_count": 55,
     "metadata": {},
     "output_type": "execute_result"
    }
   ],
   "source": [
    "from sklearn.preprocessing import LabelBinarizer\n",
    "\n",
    "label_binarizer = LabelBinarizer().fit(y_train)\n",
    "y_onehot_test = label_binarizer.transform(y_test)\n",
    "y_onehot_test.shape  # (n_samples, n_classes)\n",
    "\n"
   ]
  },
  {
   "cell_type": "code",
   "execution_count": 56,
   "metadata": {},
   "outputs": [
    {
     "data": {
      "text/plain": [
       "array([[1, 0, 0, 0, 0, 0, 0, 0, 0, 0, 0, 0]])"
      ]
     },
     "execution_count": 56,
     "metadata": {},
     "output_type": "execute_result"
    }
   ],
   "source": [
    "label_binarizer.transform([0])"
   ]
  },
  {
   "cell_type": "code",
   "execution_count": 59,
   "metadata": {},
   "outputs": [
    {
     "data": {
      "text/plain": [
       "10"
      ]
     },
     "execution_count": 59,
     "metadata": {},
     "output_type": "execute_result"
    }
   ],
   "source": [
    "class_of_interest = 10\n",
    "class_id = np.flatnonzero(label_binarizer.classes_ == class_of_interest)[0]\n",
    "class_id"
   ]
  },
  {
   "cell_type": "code",
   "execution_count": 60,
   "metadata": {},
   "outputs": [
    {
     "data": {
      "image/png": "[encoded data removed]",
      "text/plain": [
       "<Figure size 640x480 with 1 Axes>"
      ]
     },
     "metadata": {},
     "output_type": "display_data"
    }
   ],
   "source": [
    "from sklearn.metrics import RocCurveDisplay\n",
    "\n",
    "y_score = rfr.fit(list(X_train['Morgan2FP']), y_train).predict_proba(list(X_test['Morgan2FP']))\n",
    "\n",
    "RocCurveDisplay.from_predictions(\n",
    "    y_onehot_test[:, class_id],\n",
    "    y_score[:, class_id],\n",
    "    name=f\"{class_of_interest} vs the rest\",\n",
    "    color=\"darkorange\",\n",
    ")\n",
    "plt.plot([0, 1], [0, 1], \"k--\", label=\"chance level (AUC = 0.5)\")\n",
    "plt.axis(\"square\")\n",
    "plt.xlabel(\"False Positive Rate\")\n",
    "plt.ylabel(\"True Positive Rate\")\n",
    "plt.title(f\"Class{class_of_interest}-vs-Rest ROC curves\")\n",
    "plt.legend()\n",
    "plt.show()"
   ]
  },
  {
   "attachments": {},
   "cell_type": "markdown",
   "metadata": {},
   "source": [
    "### Redes convolucionales"
   ]
  },
  {
   "cell_type": "code",
   "execution_count": 61,
   "metadata": {},
   "outputs": [],
   "source": [
    "# example of a cnn for image classification\n",
    "from numpy import set_printoptions\n",
    "from numpy import asarray\n",
    "from numpy import unique\n",
    "from numpy import argmax\n",
    "from tensorflow.keras.datasets.mnist import load_data\n",
    "from tensorflow.keras import Sequential\n",
    "from tensorflow.keras.layers import Dense\n",
    "from tensorflow.keras.layers import Conv1D\n",
    "from tensorflow.keras.layers import MaxPool1D\n",
    "from tensorflow.keras.layers import Flatten\n",
    "from tensorflow.keras.layers import Dropout"
   ]
  },
  {
   "cell_type": "code",
   "execution_count": 62,
   "metadata": {},
   "outputs": [
    {
     "data": {
      "text/plain": [
       "11"
      ]
     },
     "execution_count": 62,
     "metadata": {},
     "output_type": "execute_result"
    }
   ],
   "source": [
    "X = drugs['Morgan2FP']\n",
    "y = drugs['drug_class_code']\n",
    "X_train, X_test, y_train, y_test = train_test_split(X, y, test_size=0.3, random_state=42)\n",
    "y_train.max()\n"
   ]
  },
  {
   "cell_type": "code",
   "execution_count": 63,
   "metadata": {},
   "outputs": [
    {
     "name": "stdout",
     "output_type": "stream",
     "text": [
      "12\n",
      "(1400, 2048, 1) (1400,)\n",
      "(600, 2048, 1) (600,)\n"
     ]
    }
   ],
   "source": [
    "x_train = np.array(list(X_train))\n",
    "x_test = np.array(list(X_test))\n",
    "n_classes = len(unique(y_train))\n",
    "print(len(unique(y_train)))\n",
    "x_train=x_train.reshape((x_train.shape[0], x_train.shape[1], 1))\n",
    "x_test=x_test.reshape((x_test.shape[0], x_test.shape[1], 1))\n",
    "in_shape = x_train.shape[1:]\n",
    "print(x_train.shape, y_train.shape)\n",
    "print(x_test.shape, y_test.shape)"
   ]
  },
  {
   "cell_type": "code",
   "execution_count": 92,
   "metadata": {},
   "outputs": [],
   "source": [
    "model = Sequential()\n",
    "model.add(Conv1D(35, 9, activation='relu', kernel_initializer='he_uniform', input_shape=in_shape))\n",
    "model.add(MaxPool1D(4))\n",
    "model.add(Flatten())\n",
    "model.add(Dense(100, activation='relu', kernel_initializer='he_uniform'))\n",
    "model.add(Dropout(0.5))\n",
    "model.add(Dense(n_classes, activation='softmax'))\n",
    "# define loss and optimizer\n",
    "model.compile(optimizer='adam', loss='sparse_categorical_crossentropy', metrics=['accuracy'])"
   ]
  },
  {
   "cell_type": "code",
   "execution_count": 93,
   "metadata": {},
   "outputs": [
    {
     "name": "stdout",
     "output_type": "stream",
     "text": [
      "Epoch 1/5\n",
      "11/11 [==============================] - 4s 231ms/step - loss: 2.1075 - accuracy: 0.3607\n",
      "Epoch 2/5\n",
      "11/11 [==============================] - 2s 208ms/step - loss: 1.3043 - accuracy: 0.5850\n",
      "Epoch 3/5\n",
      "11/11 [==============================] - 2s 209ms/step - loss: 1.0274 - accuracy: 0.6550\n",
      "Epoch 4/5\n",
      "11/11 [==============================] - 2s 198ms/step - loss: 0.8561 - accuracy: 0.7321\n",
      "Epoch 5/5\n",
      "11/11 [==============================] - 2s 201ms/step - loss: 0.7549 - accuracy: 0.7514\n",
      "Accuracy: 0.750\n",
      "19/19 [==============================] - 0s 21ms/step\n",
      "Predicted: class=9\n"
     ]
    }
   ],
   "source": [
    "# fit the model\n",
    "model.fit(x_train, y_train, epochs=5, batch_size=128, verbose=1)\n",
    "# evaluate the model\n",
    "loss, acc = model.evaluate(x_test, y_test, verbose=0)\n",
    "print(f'Accuracy: {acc:.3f}')\n",
    "# make a prediction\n",
    "#   image = x_train[0]\n",
    "y_pred = model.predict(x_test)\n",
    "set_printoptions(precision=3)\n",
    "print(f'Predicted: class={argmax(y_pred[1])}')"
   ]
  },
  {
   "cell_type": "code",
   "execution_count": 94,
   "metadata": {},
   "outputs": [
    {
     "name": "stdout",
     "output_type": "stream",
     "text": [
      "19/19 [==============================] - 0s 22ms/step\n",
      "Predicted: class=5400\n",
      "(2048, 1)\n",
      "[4, 9, 0, 2, 0, 0, 2, 6, 9, 0, 9, 0, 2, 0, 4, 0, 4, 0, 0, 5, 2, 3, 0, 0, 0, 7, 2, 0, 0, 9, 1, 0, 0, 0, 10, 0, 1, 0, 10, 4, 3, 6, 2, 0, 0, 3, 2, 0, 9, 1, 3, 2, 2, 0, 0, 4, 2, 0, 2, 0, 0, 2, 3, 8, 6, 2, 3, 0, 0, 5, 0, 0, 0, 2, 1, 2, 0, 0, 0, 0, 9, 8, 0, 4, 0, 0, 3, 0, 2, 1, 0, 0, 0, 5, 0, 0, 4, 6, 0, 3, 4, 0, 2, 3, 4, 2, 1, 4, 1, 0, 2, 2, 0, 4, 1, 0, 0, 9, 0, 0, 0, 0, 8, 7, 4, 0, 0, 4, 2, 0, 1, 4, 4, 5, 3, 5, 3, 9, 0, 2, 0, 5, 8, 10, 2, 0, 3, 1, 1, 0, 0, 2, 1, 0, 3, 0, 0, 6, 0, 10, 2, 4, 2, 3, 3, 7, 0, 0, 10, 4, 4, 2, 0, 0, 4, 0, 0, 0, 1, 8, 0, 4, 3, 2, 3, 7, 3, 3, 3, 3, 1, 0, 6, 4, 9, 0, 8, 8, 9, 2, 4, 0, 2, 1, 4, 2, 0, 0, 4, 4, 4, 9, 0, 0, 7, 2, 5, 3, 4, 2, 0, 2, 4, 5, 2, 0, 2, 7, 8, 4, 3, 0, 4, 5, 2, 6, 4, 0, 0, 4, 0, 3, 0, 0, 0, 0, 4, 3, 10, 0, 3, 5, 8, 0, 2, 10, 0, 1, 2, 1, 2, 9, 9, 0, 3, 2, 3, 2, 4, 2, 1, 0, 7, 0, 0, 1, 1, 2, 0, 3, 3, 7, 1, 4, 0, 9, 3, 0, 2, 2, 0, 0, 7, 3, 2, 3, 9, 2, 0, 4, 3, 2, 0, 2, 0, 0, 2, 0, 8, 7, 2, 3, 1, 4, 8, 4, 4, 2, 0, 4, 9, 0, 4, 5, 4, 0, 5, 1, 4, 1, 4, 0, 3, 3, 1, 10, 0, 0, 8, 2, 0, 5, 1, 4, 0, 3, 3, 3, 0, 0, 2, 2, 9, 1, 3, 3, 0, 2, 0, 8, 9, 1, 1, 0, 1, 0, 0, 1, 2, 0, 3, 2, 9, 10, 0, 2, 0, 2, 9, 7, 0, 4, 4, 4, 10, 1, 7, 3, 1, 3, 2, 3, 0, 4, 0, 0, 4, 0, 0, 5, 0, 1, 4, 3, 4, 8, 4, 0, 10, 0, 4, 2, 5, 8, 9, 0, 2, 9, 2, 4, 4, 1, 6, 2, 7, 3, 0, 8, 0, 0, 4, 0, 0, 4, 0, 3, 3, 0, 4, 0, 4, 0, 2, 1, 2, 4, 4, 3, 4, 1, 0, 6, 0, 5, 4, 0, 1, 4, 3, 9, 2, 0, 0, 3, 4, 0, 0, 0, 4, 0, 4, 2, 3, 0, 4, 0, 2, 4, 0, 4, 0, 0, 2, 4, 7, 0, 3, 2, 0, 0, 2, 10, 4, 0, 1, 2, 6, 8, 3, 9, 0, 1, 8, 9, 0, 3, 0, 4, 3, 2, 4, 2, 0, 0, 7, 8, 0, 2, 0, 0, 0, 2, 0, 9, 2, 4, 7, 1, 0, 0, 2, 5, 4, 4, 3, 3, 4, 8, 0, 3, 3, 0, 2, 3, 6, 2, 4, 4, 3, 0, 0, 9, 0, 4, 7, 1, 8, 0, 7, 4, 7, 3, 4, 1, 1, 8, 7, 10, 0, 9, 0, 3, 0, 0, 2, 0, 2, 2, 4, 0, 0, 4, 0, 2, 6, 4, 0, 1, 5, 2, 1, 4, 3, 6, 2, 0, 4, 0, 4, 8]\n",
      "[4, 9, 0, 2, 0, 0, 3, 0, 9, 0, 9, 0, 2, 0, 2, 0, 2, 0, 0, 5, 2, 3, 4, 4, 0, 7, 3, 0, 9, 9, 1, 0, 0, 0, 10, 0, 1, 0, 10, 4, 3, 1, 2, 0, 1, 4, 2, 2, 9, 1, 3, 2, 0, 4, 0, 4, 2, 0, 2, 0, 0, 2, 3, 8, 3, 4, 3, 0, 0, 2, 0, 0, 0, 2, 2, 2, 0, 2, 0, 0, 9, 8, 0, 4, 0, 0, 4, 0, 0, 4, 0, 4, 3, 5, 0, 0, 4, 6, 0, 3, 4, 0, 2, 4, 4, 4, 1, 4, 1, 2, 1, 2, 0, 4, 1, 0, 0, 2, 0, 0, 0, 0, 8, 7, 4, 0, 0, 4, 2, 0, 1, 4, 4, 0, 3, 5, 3, 2, 0, 2, 0, 1, 2, 4, 0, 0, 3, 1, 1, 0, 0, 4, 1, 0, 3, 0, 0, 0, 0, 1, 2, 3, 0, 3, 3, 2, 4, 0, 10, 4, 4, 2, 0, 0, 2, 0, 0, 0, 1, 8, 0, 3, 3, 2, 3, 1, 3, 3, 0, 4, 1, 0, 6, 4, 9, 0, 8, 8, 9, 2, 4, 2, 2, 1, 4, 2, 0, 0, 4, 4, 4, 9, 2, 0, 1, 2, 4, 2, 4, 0, 0, 0, 2, 4, 2, 0, 2, 7, 8, 4, 3, 4, 4, 0, 2, 2, 0, 3, 0, 4, 2, 3, 0, 0, 0, 0, 4, 3, 3, 0, 4, 5, 8, 0, 2, 10, 0, 1, 2, 1, 3, 2, 9, 2, 3, 4, 2, 2, 3, 2, 1, 0, 7, 0, 0, 3, 1, 2, 0, 0, 3, 2, 1, 4, 0, 9, 3, 0, 2, 2, 0, 4, 7, 3, 2, 3, 9, 0, 0, 2, 3, 3, 0, 3, 0, 0, 2, 0, 8, 2, 2, 3, 1, 4, 8, 4, 4, 0, 0, 4, 9, 0, 4, 5, 4, 0, 4, 1, 4, 1, 4, 3, 3, 2, 1, 3, 0, 0, 8, 2, 0, 5, 4, 4, 2, 3, 2, 1, 0, 0, 2, 9, 0, 1, 3, 3, 0, 4, 0, 2, 9, 1, 1, 0, 1, 0, 0, 1, 2, 0, 3, 2, 9, 3, 4, 0, 0, 2, 2, 7, 0, 4, 0, 4, 0, 1, 7, 2, 1, 3, 2, 4, 0, 4, 0, 0, 4, 2, 0, 0, 0, 1, 4, 3, 4, 8, 4, 0, 3, 4, 0, 2, 2, 8, 9, 0, 2, 9, 0, 4, 4, 1, 6, 2, 4, 4, 0, 8, 0, 0, 2, 0, 0, 2, 0, 3, 3, 2, 4, 0, 4, 0, 2, 1, 2, 0, 4, 2, 4, 1, 0, 6, 0, 5, 4, 0, 1, 4, 3, 9, 0, 0, 2, 3, 4, 0, 0, 0, 4, 0, 4, 2, 3, 0, 4, 4, 2, 4, 0, 4, 0, 0, 2, 4, 3, 0, 0, 5, 0, 0, 2, 2, 4, 0, 4, 3, 6, 2, 3, 9, 2, 0, 8, 0, 0, 3, 0, 4, 3, 0, 4, 5, 0, 0, 7, 8, 0, 0, 0, 3, 0, 2, 0, 9, 2, 4, 2, 1, 0, 3, 2, 2, 4, 2, 3, 3, 4, 8, 0, 3, 0, 4, 2, 3, 6, 2, 4, 4, 3, 0, 2, 9, 0, 4, 7, 1, 4, 0, 7, 4, 2, 3, 4, 1, 1, 8, 0, 3, 0, 9, 0, 3, 0, 0, 2, 0, 2, 2, 4, 0, 0, 4, 0, 5, 0, 4, 0, 4, 3, 2, 1, 1, 1, 6, 4, 0, 4, 4, 4, 8]\n"
     ]
    }
   ],
   "source": [
    "y_pred = model.predict(x_test)\n",
    "set_printoptions(precision=3)\n",
    "print(f'Predicted: class={argmax(y_pred)}')\n",
    "\n",
    "y_pred_mor = [argmax(x) for x in y_pred]\n",
    "\n",
    "print(x_test[29].shape)\n",
    "print(list(y_test))\n",
    "print(y_pred_mor)"
   ]
  },
  {
   "cell_type": "code",
   "execution_count": 95,
   "metadata": {},
   "outputs": [
    {
     "name": "stdout",
     "output_type": "stream",
     "text": [
      "              precision    recall  f1-score   support\n",
      "\n",
      "           0       0.83      0.83      0.83       193\n",
      "           1       0.80      0.85      0.82        46\n",
      "           2       0.57      0.66      0.61        89\n",
      "           3       0.68      0.72      0.70        67\n",
      "           4       0.68      0.82      0.74        90\n",
      "           5       0.70      0.39      0.50        18\n",
      "           6       1.00      0.54      0.70        13\n",
      "           7       1.00      0.50      0.67        20\n",
      "           8       1.00      0.83      0.90        23\n",
      "           9       0.92      0.79      0.85        28\n",
      "          10       1.00      0.31      0.47        13\n",
      "\n",
      "    accuracy                           0.75       600\n",
      "   macro avg       0.83      0.66      0.71       600\n",
      "weighted avg       0.77      0.75      0.75       600\n",
      "\n"
     ]
    }
   ],
   "source": [
    "print( metrics.classification_report(y_test,y_pred_mor))"
   ]
  },
  {
   "cell_type": "code",
   "execution_count": 73,
   "metadata": {},
   "outputs": [],
   "source": [
    "vTab=metrics.confusion_matrix(y_test,y_preds)"
   ]
  },
  {
   "cell_type": "code",
   "execution_count": 74,
   "metadata": {},
   "outputs": [
    {
     "data": {
      "text/plain": [
       "array([[164,   0,  12,   7,  10,   0,   0,   0,   0,   0,   0],\n",
       "       [  1,  37,   2,   1,   4,   1,   0,   0,   0,   0,   0],\n",
       "       [ 18,   1,  55,   8,   5,   0,   0,   0,   0,   2,   0],\n",
       "       [  7,   0,   3,  53,   3,   0,   0,   1,   0,   0,   0],\n",
       "       [  6,   1,   5,   5,  72,   0,   0,   0,   0,   1,   0],\n",
       "       [  5,   0,   1,   3,   2,   7,   0,   0,   0,   0,   0],\n",
       "       [  3,   0,   0,   2,   1,   0,   7,   0,   0,   0,   0],\n",
       "       [  2,   0,   4,   2,   1,   0,   0,  11,   0,   0,   0],\n",
       "       [  0,   0,   0,   4,   1,   0,   0,   0,  18,   0,   0],\n",
       "       [  2,   0,   1,   0,   0,   0,   0,   0,   0,  25,   0],\n",
       "       [  2,   0,   2,   4,   1,   0,   0,   0,   0,   0,   4]],\n",
       "      dtype=int64)"
      ]
     },
     "execution_count": 74,
     "metadata": {},
     "output_type": "execute_result"
    }
   ],
   "source": [
    "vTab"
   ]
  },
  {
   "cell_type": "code",
   "execution_count": null,
   "metadata": {},
   "outputs": [],
   "source": []
  }
 ],
 "metadata": {
  "kernelspec": {
   "display_name": "kedro-environment",
   "language": "python",
   "name": "python3"
  },
  "language_info": {
   "codemirror_mode": {
    "name": "ipython",
    "version": 3
   },
   "file_extension": ".py",
   "mimetype": "text/x-python",
   "name": "python",
   "nbconvert_exporter": "python",
   "pygments_lexer": "ipython3",
   "version": "3.10.9"
  },
  "orig_nbformat": 4,
  "vscode": {
   "interpreter": {
    "hash": "bfae3619f1cb0c5df30333afec6d92c3ac04f1715cb037f94d737988d0b148f3"
   }
  }
 },
 "nbformat": 4,
 "nbformat_minor": 2
}
